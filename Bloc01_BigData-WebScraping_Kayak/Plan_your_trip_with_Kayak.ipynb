{
 "cells": [
  {
   "cell_type": "markdown",
   "metadata": {},
   "source": [
    "⚠️ This project is mandatory for certification bloc #1."
   ]
  },
  {
   "cell_type": "markdown",
   "metadata": {},
   "source": [
    "![Kayak](https://seekvectorlogo.com/wp-content/uploads/2018/01/kayak-vector-logo.png)\n",
    "\n",
    "# Plan your trip with Kayak "
   ]
  },
  {
   "cell_type": "markdown",
   "metadata": {},
   "source": [
    "\n",
    "## Company's description 📇\n",
    "\n",
    "<a href='https://www.kayak.com' target='_blank'>Kayak</a> is a travel search engine that helps user plan their next trip at the best price.\n",
    "\n",
    "The company was founded in 2004 by Steve Hafner & Paul M. English. After a few rounds of fundraising, Kayak was acquired by <a href='https://www.bookingholdings.com/' target='_blank'>Booking Holdings</a> which now holds: \n",
    "\n",
    "* <a href='https://booking.com/' target='_blank'>Booking.com</a>\n",
    "* <a href='https://kayak.com/' target='_blank'>Kayak</a>\n",
    "* <a href='https://www.priceline.com/' target='_blank'>Priceline</a>\n",
    "* <a href='https://www.agoda.com/' target='_blank'>Agoda</a>\n",
    "* <a href='https://Rentalcars.com/' target='_blank'>RentalCars</a>\n",
    "* <a href='https://www.opentable.com/' target='_blank'>OpenTable</a>\n",
    "\n",
    "With over \\$300 million revenue a year, Kayak operates in almost all countries and all languages to help their users book travels accros the globe. "
   ]
  },
  {
   "cell_type": "markdown",
   "metadata": {},
   "source": [
    "## Project 🚧\n",
    "\n",
    "The marketing team needs help on a new project. After doing some user research, the team discovered that **70% of their users who are planning a trip would like to have more information about the destination they are going to**. \n",
    "\n",
    "In addition, user research shows that **people tend to be defiant about the information they are reading if they don't know the brand** which produced the content. \n",
    "\n",
    "Therefore, Kayak Marketing Team would like to create an application that will recommend where people should plan their next holidays. The application should be based on real data about:\n",
    "\n",
    "* Weather \n",
    "* Hotels in the area \n",
    "\n",
    "The application should then be able to recommend the best destinations and hotels based on the above variables at any given time. "
   ]
  },
  {
   "cell_type": "markdown",
   "metadata": {},
   "source": [
    "## Goals 🎯\n",
    "\n",
    "As the project has just started, your team doesn't have any data that can be used to create this application. Therefore, your job will be to: \n",
    "\n",
    "* Scrape data from destinations \n",
    "* Get weather data from each destination \n",
    "* Get hotels' info about each destination\n",
    "* Store all the information above in a data lake\n",
    "* Extract, transform and load cleaned data from your datalake to a data warehouse"
   ]
  },
  {
   "cell_type": "markdown",
   "metadata": {},
   "source": [
    "## Scope of this project 🖼️\n",
    "\n",
    "Marketing team wants to focus first on the best cities to travel to in France. According <a href='https://one-week-in.com/35-cities-to-visit-in-france/' target='_blank'>One Week In.com</a> here are the top-35 cities to visit in France: \n",
    "\n",
    "```python \n",
    "['Mont Saint Michel',\n",
    "'St Malo',\n",
    "'Bayeux',\n",
    "'Le Havre',\n",
    "'Rouen',\n",
    "'Paris',\n",
    "'Amiens',\n",
    "'Lille',\n",
    "'Strasbourg',\n",
    "'Chateau du Haut Koenigsbourg',\n",
    "'Colmar',\n",
    "'Eguisheim',\n",
    "'Besancon',\n",
    "'Dijon',\n",
    "'Annecy',\n",
    "'Grenoble',\n",
    "'Lyon',\n",
    "'Gorges du Verdon',\n",
    "'Bormes les Mimosas',\n",
    "'Cassis',\n",
    "'Marseille',\n",
    "'Aix en Provence',\n",
    "'Avignon',\n",
    "'Uzes',\n",
    "'Nimes',\n",
    "'Aigues Mortes',\n",
    "'Saintes Maries de la mer',\n",
    "'Collioure',\n",
    "'Carcassonne',\n",
    "'Ariege',\n",
    "'Toulouse',\n",
    "'Montauban',\n",
    "'Biarritz',\n",
    "'Bayonne',\n",
    "'La Rochelle']\n",
    "```\n",
    "\n",
    "Your team should focus **only on the above cities for your project**. \n"
   ]
  },
  {
   "cell_type": "markdown",
   "metadata": {},
   "source": [
    "## Helpers 🦮\n",
    "\n",
    "To help you achieve this project, here are a few tips that should help you\n",
    "\n",
    "### Get weather data with an API \n",
    "\n",
    "*   Use https://nominatim.org/ to get the gps coordinates of all the cities (no subscription required) Documentation : https://nominatim.org/release-docs/develop/api/Search/\n",
    "\n",
    "*   Use https://openweathermap.org/appid (you have to subscribe to get a free apikey) and https://openweathermap.org/api/one-call-api to get some information about the weather for the 35 cities and put it in a DataFrame\n",
    "\n",
    "*   Determine the list of cities where the weather will be the nicest within the next 7 days For example, you can use the values of daily.pop and daily.rain to compute the expected volume of rain within the next 7 days... But it's only an example, actually you can have different opinions on a what a nice weather would be like 😎 Maybe the most important criterion for you is the temperature or humidity, so feel free to change the rules !\n",
    "\n",
    "*   Save all the results in a `.csv` file, you will use it later 😉 You can save all the informations that seem important to you ! Don't forget to save the name of the cities, and also to create a column containing a unique identifier (id) of each city (this is important for what's next in the project)\n",
    "\n",
    "*   Use plotly to display the best destinations on a map\n",
    "\n",
    "### Scrape Booking.com \n",
    "\n",
    "Since BookingHoldings doesn't have aggregated databases, it will be much faster to scrape data directly from booking.com \n",
    "\n",
    "You can scrap as many information asyou want, but we suggest that you get at least:\n",
    "\n",
    "*   hotel name,\n",
    "*   Url to its booking.com page,\n",
    "*   Its coordinates: latitude and longitude\n",
    "*   Score given by the website users\n",
    "*   Text description of the hotel\n",
    "\n",
    "\n",
    "### Create your data lake using S3 \n",
    "\n",
    "Once you managed to build your dataset, you should store into S3 as a csv file. \n",
    "\n",
    "### ETL \n",
    "\n",
    "Once you uploaded your data onto S3, it will be better for the next data analysis team to extract clean data directly from a Data Warehouse. Therefore, create a SQL Database using AWS RDS, extract your data from S3 and store it in your newly created DB. "
   ]
  },
  {
   "cell_type": "markdown",
   "metadata": {},
   "source": [
    "## Deliverable 📬\n",
    "\n",
    "To complete this project, your team should deliver:\n",
    "\n",
    "* A `.csv` file in an S3 bucket containing enriched information about weather and hotels for each french city\n",
    "\n",
    "* A SQL Database where we should be able to get the same cleaned data from S3 \n",
    "\n",
    "* Two maps where you should have a Top-5 destinations and a Top-20 hotels in the area. You can use plotly or any other library to do so. It should look something like this: \n",
    "\n",
    "![Map](https://full-stack-assets.s3.eu-west-3.amazonaws.com/images/Kayak_best_destination_project.png)"
   ]
  },
  {
   "cell_type": "markdown",
   "metadata": {},
   "source": [
    "# Let's start"
   ]
  },
  {
   "cell_type": "code",
   "execution_count": 3,
   "metadata": {},
   "outputs": [],
   "source": [
    "# Import libs:\n",
    "\n",
    "import pandas as pd\n",
    "import requests\n",
    "import numpy as np\n",
    "import plotly.express as px\n",
    "import scrapy\n",
    "from scrapy.crawler import CrawlerProcess\n",
    "import logging\n",
    "import os\n"
   ]
  },
  {
   "cell_type": "markdown",
   "metadata": {},
   "source": [
    "## Get weather data with an API"
   ]
  },
  {
   "cell_type": "code",
   "execution_count": 4,
   "metadata": {},
   "outputs": [],
   "source": [
    "# Import list of cities\n",
    "\n",
    "cities = [\n",
    "    \"Mont Saint Michel\",\n",
    "    \"St Malo\",\n",
    "    \"Bayeux\",\n",
    "    \"Le Havre\",\n",
    "    \"Rouen\",\n",
    "    \"Paris\",\n",
    "    \"Amiens\",\n",
    "    \"Lille\",\n",
    "    \"Strasbourg\",\n",
    "    \"Chateau du Haut Koenigsbourg\",\n",
    "    \"Colmar\",\n",
    "    \"Eguisheim\",\n",
    "    \"Besancon\",\n",
    "    \"Dijon\",\n",
    "    \"Annecy\",\n",
    "    \"Grenoble\",\n",
    "    \"Lyon\",\n",
    "    \"Gorges du Verdon\",\n",
    "    \"Bormes les Mimosas\",\n",
    "    \"Cassis\",\n",
    "    \"Marseille\",\n",
    "    \"Aix en Provence\",\n",
    "    \"Avignon\",\n",
    "    \"Uzes\",\n",
    "    \"Nimes\",\n",
    "    \"Aigues Mortes\",\n",
    "    \"Saintes Maries de la mer\",\n",
    "    \"Collioure\",\n",
    "    \"Carcassonne\",\n",
    "    \"Ariege\",\n",
    "    \"Toulouse\",\n",
    "    \"Montauban\",\n",
    "    \"Biarritz\",\n",
    "    \"Bayonne\",\n",
    "    \"La Rochelle\",\n",
    "]\n"
   ]
  },
  {
   "cell_type": "code",
   "execution_count": 5,
   "metadata": {},
   "outputs": [
    {
     "data": {
      "text/html": [
       "<div>\n",
       "<style scoped>\n",
       "    .dataframe tbody tr th:only-of-type {\n",
       "        vertical-align: middle;\n",
       "    }\n",
       "\n",
       "    .dataframe tbody tr th {\n",
       "        vertical-align: top;\n",
       "    }\n",
       "\n",
       "    .dataframe thead th {\n",
       "        text-align: right;\n",
       "    }\n",
       "</style>\n",
       "<table border=\"1\" class=\"dataframe\">\n",
       "  <thead>\n",
       "    <tr style=\"text-align: right;\">\n",
       "      <th></th>\n",
       "      <th>id</th>\n",
       "      <th>city</th>\n",
       "    </tr>\n",
       "  </thead>\n",
       "  <tbody>\n",
       "    <tr>\n",
       "      <th>0</th>\n",
       "      <td>0</td>\n",
       "      <td>Mont Saint Michel</td>\n",
       "    </tr>\n",
       "    <tr>\n",
       "      <th>1</th>\n",
       "      <td>1</td>\n",
       "      <td>St Malo</td>\n",
       "    </tr>\n",
       "    <tr>\n",
       "      <th>2</th>\n",
       "      <td>2</td>\n",
       "      <td>Bayeux</td>\n",
       "    </tr>\n",
       "    <tr>\n",
       "      <th>3</th>\n",
       "      <td>3</td>\n",
       "      <td>Le Havre</td>\n",
       "    </tr>\n",
       "    <tr>\n",
       "      <th>4</th>\n",
       "      <td>4</td>\n",
       "      <td>Rouen</td>\n",
       "    </tr>\n",
       "    <tr>\n",
       "      <th>5</th>\n",
       "      <td>5</td>\n",
       "      <td>Paris</td>\n",
       "    </tr>\n",
       "    <tr>\n",
       "      <th>6</th>\n",
       "      <td>6</td>\n",
       "      <td>Amiens</td>\n",
       "    </tr>\n",
       "    <tr>\n",
       "      <th>7</th>\n",
       "      <td>7</td>\n",
       "      <td>Lille</td>\n",
       "    </tr>\n",
       "    <tr>\n",
       "      <th>8</th>\n",
       "      <td>8</td>\n",
       "      <td>Strasbourg</td>\n",
       "    </tr>\n",
       "    <tr>\n",
       "      <th>9</th>\n",
       "      <td>9</td>\n",
       "      <td>Chateau du Haut Koenigsbourg</td>\n",
       "    </tr>\n",
       "    <tr>\n",
       "      <th>10</th>\n",
       "      <td>10</td>\n",
       "      <td>Colmar</td>\n",
       "    </tr>\n",
       "    <tr>\n",
       "      <th>11</th>\n",
       "      <td>11</td>\n",
       "      <td>Eguisheim</td>\n",
       "    </tr>\n",
       "    <tr>\n",
       "      <th>12</th>\n",
       "      <td>12</td>\n",
       "      <td>Besancon</td>\n",
       "    </tr>\n",
       "    <tr>\n",
       "      <th>13</th>\n",
       "      <td>13</td>\n",
       "      <td>Dijon</td>\n",
       "    </tr>\n",
       "    <tr>\n",
       "      <th>14</th>\n",
       "      <td>14</td>\n",
       "      <td>Annecy</td>\n",
       "    </tr>\n",
       "    <tr>\n",
       "      <th>15</th>\n",
       "      <td>15</td>\n",
       "      <td>Grenoble</td>\n",
       "    </tr>\n",
       "    <tr>\n",
       "      <th>16</th>\n",
       "      <td>16</td>\n",
       "      <td>Lyon</td>\n",
       "    </tr>\n",
       "    <tr>\n",
       "      <th>17</th>\n",
       "      <td>17</td>\n",
       "      <td>Gorges du Verdon</td>\n",
       "    </tr>\n",
       "    <tr>\n",
       "      <th>18</th>\n",
       "      <td>18</td>\n",
       "      <td>Bormes les Mimosas</td>\n",
       "    </tr>\n",
       "    <tr>\n",
       "      <th>19</th>\n",
       "      <td>19</td>\n",
       "      <td>Cassis</td>\n",
       "    </tr>\n",
       "    <tr>\n",
       "      <th>20</th>\n",
       "      <td>20</td>\n",
       "      <td>Marseille</td>\n",
       "    </tr>\n",
       "    <tr>\n",
       "      <th>21</th>\n",
       "      <td>21</td>\n",
       "      <td>Aix en Provence</td>\n",
       "    </tr>\n",
       "    <tr>\n",
       "      <th>22</th>\n",
       "      <td>22</td>\n",
       "      <td>Avignon</td>\n",
       "    </tr>\n",
       "    <tr>\n",
       "      <th>23</th>\n",
       "      <td>23</td>\n",
       "      <td>Uzes</td>\n",
       "    </tr>\n",
       "    <tr>\n",
       "      <th>24</th>\n",
       "      <td>24</td>\n",
       "      <td>Nimes</td>\n",
       "    </tr>\n",
       "    <tr>\n",
       "      <th>25</th>\n",
       "      <td>25</td>\n",
       "      <td>Aigues Mortes</td>\n",
       "    </tr>\n",
       "    <tr>\n",
       "      <th>26</th>\n",
       "      <td>26</td>\n",
       "      <td>Saintes Maries de la mer</td>\n",
       "    </tr>\n",
       "    <tr>\n",
       "      <th>27</th>\n",
       "      <td>27</td>\n",
       "      <td>Collioure</td>\n",
       "    </tr>\n",
       "    <tr>\n",
       "      <th>28</th>\n",
       "      <td>28</td>\n",
       "      <td>Carcassonne</td>\n",
       "    </tr>\n",
       "    <tr>\n",
       "      <th>29</th>\n",
       "      <td>29</td>\n",
       "      <td>Ariege</td>\n",
       "    </tr>\n",
       "    <tr>\n",
       "      <th>30</th>\n",
       "      <td>30</td>\n",
       "      <td>Toulouse</td>\n",
       "    </tr>\n",
       "    <tr>\n",
       "      <th>31</th>\n",
       "      <td>31</td>\n",
       "      <td>Montauban</td>\n",
       "    </tr>\n",
       "    <tr>\n",
       "      <th>32</th>\n",
       "      <td>32</td>\n",
       "      <td>Biarritz</td>\n",
       "    </tr>\n",
       "    <tr>\n",
       "      <th>33</th>\n",
       "      <td>33</td>\n",
       "      <td>Bayonne</td>\n",
       "    </tr>\n",
       "    <tr>\n",
       "      <th>34</th>\n",
       "      <td>34</td>\n",
       "      <td>La Rochelle</td>\n",
       "    </tr>\n",
       "  </tbody>\n",
       "</table>\n",
       "</div>"
      ],
      "text/plain": [
       "    id                          city\n",
       "0    0             Mont Saint Michel\n",
       "1    1                       St Malo\n",
       "2    2                        Bayeux\n",
       "3    3                      Le Havre\n",
       "4    4                         Rouen\n",
       "5    5                         Paris\n",
       "6    6                        Amiens\n",
       "7    7                         Lille\n",
       "8    8                    Strasbourg\n",
       "9    9  Chateau du Haut Koenigsbourg\n",
       "10  10                        Colmar\n",
       "11  11                     Eguisheim\n",
       "12  12                      Besancon\n",
       "13  13                         Dijon\n",
       "14  14                        Annecy\n",
       "15  15                      Grenoble\n",
       "16  16                          Lyon\n",
       "17  17              Gorges du Verdon\n",
       "18  18            Bormes les Mimosas\n",
       "19  19                        Cassis\n",
       "20  20                     Marseille\n",
       "21  21               Aix en Provence\n",
       "22  22                       Avignon\n",
       "23  23                          Uzes\n",
       "24  24                         Nimes\n",
       "25  25                 Aigues Mortes\n",
       "26  26      Saintes Maries de la mer\n",
       "27  27                     Collioure\n",
       "28  28                   Carcassonne\n",
       "29  29                        Ariege\n",
       "30  30                      Toulouse\n",
       "31  31                     Montauban\n",
       "32  32                      Biarritz\n",
       "33  33                       Bayonne\n",
       "34  34                   La Rochelle"
      ]
     },
     "execution_count": 5,
     "metadata": {},
     "output_type": "execute_result"
    }
   ],
   "source": [
    "# Creating a dataframe from the list of cities\n",
    "df_cities = pd.DataFrame(data=cities, columns=[\"city\"])\n",
    "df_cities = df_cities.reset_index()\n",
    "df_cities = df_cities.rename(columns={\"index\": \"id\"})\n",
    "df_cities\n"
   ]
  },
  {
   "cell_type": "markdown",
   "metadata": {},
   "source": [
    "### Nominatim API : get the gps coordinates of all the cities => https://nominatim.org/release-docs/latest/"
   ]
  },
  {
   "cell_type": "code",
   "execution_count": 6,
   "metadata": {},
   "outputs": [
    {
     "data": {
      "text/plain": [
       "[{'place_id': 281822562,\n",
       "  'licence': 'Data © OpenStreetMap contributors, ODbL 1.0. https://osm.org/copyright',\n",
       "  'osm_type': 'relation',\n",
       "  'osm_id': 117858,\n",
       "  'boundingbox': ['46.1331804', '46.1908971', '-1.2419231', '-1.111097'],\n",
       "  'lat': '46.1591126',\n",
       "  'lon': '-1.1520434',\n",
       "  'display_name': 'La Rochelle, Charente-Maritime, Nouvelle-Aquitaine, France métropolitaine, 17000, France',\n",
       "  'class': 'boundary',\n",
       "  'type': 'administrative',\n",
       "  'importance': 0.9114837096874572,\n",
       "  'icon': 'https://nominatim.openstreetmap.org/ui/mapicons/poi_boundary_administrative.p.20.png'},\n",
       " {'place_id': 282096286,\n",
       "  'licence': 'Data © OpenStreetMap contributors, ODbL 1.0. https://osm.org/copyright',\n",
       "  'osm_type': 'relation',\n",
       "  'osm_id': 1215878,\n",
       "  'boundingbox': ['47.7388479', '47.7647325', '5.7060641', '5.7454734'],\n",
       "  'lat': '47.75173925',\n",
       "  'lon': '5.7245822865532014',\n",
       "  'display_name': 'La Rochelle, Vesoul, Haute-Saône, Bourgogne-Franche-Comté, France métropolitaine, 70120, France',\n",
       "  'class': 'boundary',\n",
       "  'type': 'administrative',\n",
       "  'importance': 0.8432911295153213,\n",
       "  'icon': 'https://nominatim.openstreetmap.org/ui/mapicons/poi_boundary_administrative.p.20.png'},\n",
       " {'place_id': 282721856,\n",
       "  'licence': 'Data © OpenStreetMap contributors, ODbL 1.0. https://osm.org/copyright',\n",
       "  'osm_type': 'relation',\n",
       "  'osm_id': 1661547,\n",
       "  'boundingbox': ['46.0036902', '46.3715027', '-1.5626797', '-0.6805266'],\n",
       "  'lat': '46.187679599999996',\n",
       "  'lon': '-1.064280735046797',\n",
       "  'display_name': 'La Rochelle, Charente-Maritime, Nouvelle-Aquitaine, France métropolitaine, France',\n",
       "  'class': 'boundary',\n",
       "  'type': 'administrative',\n",
       "  'importance': 0.6330614454416834,\n",
       "  'icon': 'https://nominatim.openstreetmap.org/ui/mapicons/poi_boundary_administrative.p.20.png'},\n",
       " {'place_id': 857721,\n",
       "  'licence': 'Data © OpenStreetMap contributors, ODbL 1.0. https://osm.org/copyright',\n",
       "  'osm_type': 'node',\n",
       "  'osm_id': 291528179,\n",
       "  'boundingbox': ['47.7270598', '47.7670598', '5.7121403', '5.7521403'],\n",
       "  'lat': '47.7470598',\n",
       "  'lon': '5.7321403',\n",
       "  'display_name': 'La Rochelle, Vesoul, Haute-Saône, Bourgogne-Franche-Comté, France métropolitaine, 70120, France',\n",
       "  'class': 'place',\n",
       "  'type': 'village',\n",
       "  'importance': 0.5850000000000001,\n",
       "  'icon': 'https://nominatim.openstreetmap.org/ui/mapicons/poi_place_village.p.20.png'},\n",
       " {'place_id': 18274968,\n",
       "  'licence': 'Data © OpenStreetMap contributors, ODbL 1.0. https://osm.org/copyright',\n",
       "  'osm_type': 'node',\n",
       "  'osm_id': 2031899920,\n",
       "  'boundingbox': ['48.9231626', '48.9631626', '-1.3637098', '-1.3237098'],\n",
       "  'lat': '48.9431626',\n",
       "  'lon': '-1.3437098',\n",
       "  'display_name': 'La Rochelle, Saint-Denis-le-Gast, Coutances, Manche, Normandie, France métropolitaine, 50450, France',\n",
       "  'class': 'place',\n",
       "  'type': 'hamlet',\n",
       "  'importance': 0.56,\n",
       "  'icon': 'https://nominatim.openstreetmap.org/ui/mapicons/poi_place_village.p.20.png'},\n",
       " {'place_id': 70412653,\n",
       "  'licence': 'Data © OpenStreetMap contributors, ODbL 1.0. https://osm.org/copyright',\n",
       "  'osm_type': 'node',\n",
       "  'osm_id': 6517919775,\n",
       "  'boundingbox': ['46.2462932', '46.2862932', '4.2703536', '4.3103536'],\n",
       "  'lat': '46.2662932',\n",
       "  'lon': '4.2903536',\n",
       "  'display_name': 'La Rochelle, La Chapelle-sous-Dun, Charolles, Saône-et-Loire, Bourgogne-Franche-Comté, France métropolitaine, 71800, France',\n",
       "  'class': 'place',\n",
       "  'type': 'hamlet',\n",
       "  'importance': 0.56,\n",
       "  'icon': 'https://nominatim.openstreetmap.org/ui/mapicons/poi_place_village.p.20.png'},\n",
       " {'place_id': 29342265,\n",
       "  'licence': 'Data © OpenStreetMap contributors, ODbL 1.0. https://osm.org/copyright',\n",
       "  'osm_type': 'node',\n",
       "  'osm_id': 2781941597,\n",
       "  'boundingbox': ['46.2742431', '46.3142431', '4.3645907', '4.4045907'],\n",
       "  'lat': '46.2942431',\n",
       "  'lon': '4.3845907',\n",
       "  'display_name': 'La Rochelle, Châtenay, Charolles, Saône-et-Loire, Bourgogne-Franche-Comté, France métropolitaine, 71800, France',\n",
       "  'class': 'place',\n",
       "  'type': 'hamlet',\n",
       "  'importance': 0.56,\n",
       "  'icon': 'https://nominatim.openstreetmap.org/ui/mapicons/poi_place_village.p.20.png'},\n",
       " {'place_id': 58958867,\n",
       "  'licence': 'Data © OpenStreetMap contributors, ODbL 1.0. https://osm.org/copyright',\n",
       "  'osm_type': 'node',\n",
       "  'osm_id': 5254534051,\n",
       "  'boundingbox': ['48.1576576', '48.1976576', '-2.5395222', '-2.4995222'],\n",
       "  'lat': '48.1776576',\n",
       "  'lon': '-2.5195222',\n",
       "  'display_name': \"La Rochelle, Gomené, Saint-Brieuc, Côtes-d'Armor, Bretagne, France métropolitaine, 22230, France\",\n",
       "  'class': 'place',\n",
       "  'type': 'hamlet',\n",
       "  'importance': 0.56,\n",
       "  'icon': 'https://nominatim.openstreetmap.org/ui/mapicons/poi_place_village.p.20.png'},\n",
       " {'place_id': 31277038,\n",
       "  'licence': 'Data © OpenStreetMap contributors, ODbL 1.0. https://osm.org/copyright',\n",
       "  'osm_type': 'node',\n",
       "  'osm_id': 2815202805,\n",
       "  'boundingbox': ['48.3631712', '48.4031712', '-1.7417726', '-1.7017726'],\n",
       "  'lat': '48.3831712',\n",
       "  'lon': '-1.7217726',\n",
       "  'display_name': 'La Rochelle, Combourg, Saint-Malo, Ille-et-Vilaine, Bretagne, France métropolitaine, 35270, France',\n",
       "  'class': 'place',\n",
       "  'type': 'hamlet',\n",
       "  'importance': 0.56,\n",
       "  'icon': 'https://nominatim.openstreetmap.org/ui/mapicons/poi_place_village.p.20.png'},\n",
       " {'place_id': 66563416,\n",
       "  'licence': 'Data © OpenStreetMap contributors, ODbL 1.0. https://osm.org/copyright',\n",
       "  'osm_type': 'node',\n",
       "  'osm_id': 6030811020,\n",
       "  'boundingbox': ['48.5400804', '48.5800804', '-1.8561687', '-1.8161687'],\n",
       "  'lat': '48.5600804',\n",
       "  'lon': '-1.8361687',\n",
       "  'display_name': 'La Rochelle, Roz-Landrieux, Saint-Malo, Ille-et-Vilaine, Bretagne, France métropolitaine, 35120, France',\n",
       "  'class': 'place',\n",
       "  'type': 'hamlet',\n",
       "  'importance': 0.56,\n",
       "  'icon': 'https://nominatim.openstreetmap.org/ui/mapicons/poi_place_village.p.20.png'}]"
      ]
     },
     "execution_count": 6,
     "metadata": {},
     "output_type": "execute_result"
    }
   ],
   "source": [
    "# Try a city with blank space in name to see if formatting needed:\n",
    "\n",
    "params = {\"city\": \"La Rochelle\", \"country\": \"France\", \"format\": \"json\"}\n",
    "\n",
    "r = requests.get(\"https://nominatim.openstreetmap.org/search?\", params).json()\n",
    "\n",
    "r\n"
   ]
  },
  {
   "cell_type": "code",
   "execution_count": 7,
   "metadata": {},
   "outputs": [
    {
     "data": {
      "text/plain": [
       "[{'place_id': 49750339,\n",
       "  'licence': 'Data © OpenStreetMap contributors, ODbL 1.0. https://osm.org/copyright',\n",
       "  'osm_type': 'node',\n",
       "  'osm_id': 4245068168,\n",
       "  'boundingbox': ['48.2494726', '48.2495726', '7.3454423', '7.3455423'],\n",
       "  'lat': '48.2495226',\n",
       "  'lon': '7.3454923',\n",
       "  'display_name': 'Château du Haut-Kœnigsbourg, Orschwiller, Sélestat-Erstein, Bas-Rhin, Grand Est, France métropolitaine, 67600, France',\n",
       "  'class': 'place',\n",
       "  'type': 'isolated_dwelling',\n",
       "  'importance': 0.51}]"
      ]
     },
     "execution_count": 7,
     "metadata": {},
     "output_type": "execute_result"
    }
   ],
   "source": [
    "# I don't know 'Chateau du Haut Koenigsbourg', check if Nominatim knows it\n",
    "\n",
    "params = {\"city\": \"Chateau du Haut Koenigsbourg\", \"country\": \"France\", \"format\": \"json\"}\n",
    "\n",
    "r = requests.get(\"https://nominatim.openstreetmap.org/search?\", params).json()\n",
    "\n",
    "r\n"
   ]
  },
  {
   "cell_type": "code",
   "execution_count": 8,
   "metadata": {},
   "outputs": [
    {
     "data": {
      "text/plain": [
       "[]"
      ]
     },
     "execution_count": 8,
     "metadata": {},
     "output_type": "execute_result"
    }
   ],
   "source": [
    "# 'Gorges du Verdon' isn't a city but a canyon, check if Nominatim works with or not\n",
    "\n",
    "params = {\"city\": \"Gorges du Verdon\", \"country\": \"France\", \"format\": \"json\"}\n",
    "\n",
    "r = requests.get(\"https://nominatim.openstreetmap.org/search?\", params).json()\n",
    "\n",
    "r\n",
    "\n",
    "# Doesnt' works... Google search : 'Castellane' will be use for Gorges du Verdon\n"
   ]
  },
  {
   "cell_type": "markdown",
   "metadata": {},
   "source": [
    "Ariege is a department and not a city, its prefecture is 'Foix'. We'll use this city"
   ]
  },
  {
   "cell_type": "markdown",
   "metadata": {},
   "source": [
    "#### Request API"
   ]
  },
  {
   "cell_type": "code",
   "execution_count": 9,
   "metadata": {},
   "outputs": [
    {
     "name": "stdout",
     "output_type": "stream",
     "text": [
      "Request for city: Mont Saint Michel\n",
      "Request for city: St Malo\n",
      "Request for city: Bayeux\n",
      "Request for city: Le Havre\n",
      "Request for city: Rouen\n",
      "Request for city: Paris\n",
      "Request for city: Amiens\n",
      "Request for city: Lille\n",
      "Request for city: Strasbourg\n",
      "Request for city: Chateau du Haut Koenigsbourg\n",
      "Request for city: Colmar\n",
      "Request for city: Eguisheim\n",
      "Request for city: Besancon\n",
      "Request for city: Dijon\n",
      "Request for city: Annecy\n",
      "Request for city: Grenoble\n",
      "Request for city: Lyon\n",
      "Request for city: Gorges du Verdon\n",
      "Request for city: Bormes les Mimosas\n",
      "Request for city: Cassis\n",
      "Request for city: Marseille\n",
      "Request for city: Aix en Provence\n",
      "Request for city: Avignon\n",
      "Request for city: Uzes\n",
      "Request for city: Nimes\n",
      "Request for city: Aigues Mortes\n",
      "Request for city: Saintes Maries de la mer\n",
      "Request for city: Collioure\n",
      "Request for city: Carcassonne\n",
      "Request for city: Ariege\n",
      "Request for city: Toulouse\n",
      "Request for city: Montauban\n",
      "Request for city: Biarritz\n",
      "Request for city: Bayonne\n",
      "Request for city: La Rochelle\n"
     ]
    }
   ],
   "source": [
    "# Creating a copy of df_cities to store the coordinates from Nominatim API\n",
    "\n",
    "df_gps = df_cities.copy()\n",
    "lat_list = []\n",
    "lon_list = []\n",
    "\n",
    "for i in cities:\n",
    "    print(f\"Request for city: {i}\")\n",
    "    params = {\"city\": i, \"country\": \"France\", \"format\": \"json\"}\n",
    "    # No 'Gorges du Verdon' city, replacing by 'Castellane'\n",
    "    if i == \"Gorges du Verdon\":\n",
    "        i = \"Castellane\"\n",
    "        r = requests.get(\n",
    "            f\"https://nominatim.openstreetmap.org/search?city={i}&country=France&format=json\"\n",
    "        ).json()\n",
    "        lat_list.append(r[0][\"lat\"])\n",
    "        lon_list.append(r[0][\"lon\"])\n",
    "    # 'Ariege' not a city, using the prefecture instead -> 'Foix'\n",
    "    elif i == \"Ariege\":\n",
    "        i = \"Foix\"\n",
    "        r = requests.get(\n",
    "            f\"https://nominatim.openstreetmap.org/search?city={i}&country=France&format=json\"\n",
    "        ).json()\n",
    "        lat_list.append(r[0][\"lat\"])\n",
    "        lon_list.append(r[0][\"lon\"])\n",
    "    else:\n",
    "        r = requests.get(f\"https://nominatim.openstreetmap.org/search?\", params).json()\n",
    "        lat_list.append(r[0][\"lat\"])\n",
    "        lon_list.append(r[0][\"lon\"])\n",
    "\n",
    "# Adding the coordinates to the dataframe\n",
    "df_gps[\"lat\"] = lat_list\n",
    "df_gps[\"lon\"] = lon_list\n"
   ]
  },
  {
   "cell_type": "code",
   "execution_count": 10,
   "metadata": {},
   "outputs": [
    {
     "data": {
      "text/html": [
       "<div>\n",
       "<style scoped>\n",
       "    .dataframe tbody tr th:only-of-type {\n",
       "        vertical-align: middle;\n",
       "    }\n",
       "\n",
       "    .dataframe tbody tr th {\n",
       "        vertical-align: top;\n",
       "    }\n",
       "\n",
       "    .dataframe thead th {\n",
       "        text-align: right;\n",
       "    }\n",
       "</style>\n",
       "<table border=\"1\" class=\"dataframe\">\n",
       "  <thead>\n",
       "    <tr style=\"text-align: right;\">\n",
       "      <th></th>\n",
       "      <th>id</th>\n",
       "      <th>city</th>\n",
       "      <th>lat</th>\n",
       "      <th>lon</th>\n",
       "    </tr>\n",
       "  </thead>\n",
       "  <tbody>\n",
       "    <tr>\n",
       "      <th>0</th>\n",
       "      <td>0</td>\n",
       "      <td>Mont Saint Michel</td>\n",
       "      <td>48.6359541</td>\n",
       "      <td>-1.511459954959514</td>\n",
       "    </tr>\n",
       "    <tr>\n",
       "      <th>1</th>\n",
       "      <td>1</td>\n",
       "      <td>St Malo</td>\n",
       "      <td>48.649518</td>\n",
       "      <td>-2.0260409</td>\n",
       "    </tr>\n",
       "    <tr>\n",
       "      <th>2</th>\n",
       "      <td>2</td>\n",
       "      <td>Bayeux</td>\n",
       "      <td>49.2764624</td>\n",
       "      <td>-0.7024738</td>\n",
       "    </tr>\n",
       "    <tr>\n",
       "      <th>3</th>\n",
       "      <td>3</td>\n",
       "      <td>Le Havre</td>\n",
       "      <td>49.4938975</td>\n",
       "      <td>0.1079732</td>\n",
       "    </tr>\n",
       "    <tr>\n",
       "      <th>4</th>\n",
       "      <td>4</td>\n",
       "      <td>Rouen</td>\n",
       "      <td>49.4404591</td>\n",
       "      <td>1.0939658</td>\n",
       "    </tr>\n",
       "  </tbody>\n",
       "</table>\n",
       "</div>"
      ],
      "text/plain": [
       "   id               city         lat                 lon\n",
       "0   0  Mont Saint Michel  48.6359541  -1.511459954959514\n",
       "1   1            St Malo   48.649518          -2.0260409\n",
       "2   2             Bayeux  49.2764624          -0.7024738\n",
       "3   3           Le Havre  49.4938975           0.1079732\n",
       "4   4              Rouen  49.4404591           1.0939658"
      ]
     },
     "execution_count": 10,
     "metadata": {},
     "output_type": "execute_result"
    }
   ],
   "source": [
    "df_gps.head()\n"
   ]
  },
  {
   "cell_type": "code",
   "execution_count": 11,
   "metadata": {},
   "outputs": [
    {
     "name": "stdout",
     "output_type": "stream",
     "text": [
      "<class 'pandas.core.frame.DataFrame'>\n",
      "RangeIndex: 35 entries, 0 to 34\n",
      "Data columns (total 4 columns):\n",
      " #   Column  Non-Null Count  Dtype \n",
      "---  ------  --------------  ----- \n",
      " 0   id      35 non-null     int64 \n",
      " 1   city    35 non-null     object\n",
      " 2   lat     35 non-null     object\n",
      " 3   lon     35 non-null     object\n",
      "dtypes: int64(1), object(3)\n",
      "memory usage: 1.2+ KB\n"
     ]
    }
   ],
   "source": [
    "df_gps.info()\n"
   ]
  },
  {
   "cell_type": "markdown",
   "metadata": {},
   "source": [
    "### OpenWeather : get weather of the week => https://openweathermap.org"
   ]
  },
  {
   "cell_type": "code",
   "execution_count": 12,
   "metadata": {},
   "outputs": [
    {
     "data": {
      "text/plain": [
       "{'lat': 48.6495,\n",
       " 'lon': -2.026,\n",
       " 'timezone': 'Europe/Paris',\n",
       " 'timezone_offset': 7200,\n",
       " 'daily': [{'dt': 1655899200,\n",
       "   'sunrise': 1655870738,\n",
       "   'sunset': 1655928865,\n",
       "   'moonrise': 1655858940,\n",
       "   'moonset': 1655905020,\n",
       "   'moon_phase': 0.79,\n",
       "   'temp': {'day': 20.95,\n",
       "    'min': 14.91,\n",
       "    'max': 21.28,\n",
       "    'night': 17.38,\n",
       "    'eve': 19.29,\n",
       "    'morn': 17.29},\n",
       "   'feels_like': {'day': 20.95, 'night': 17.6, 'eve': 19.47, 'morn': 17.35},\n",
       "   'pressure': 1010,\n",
       "   'humidity': 71,\n",
       "   'dew_point': 15.5,\n",
       "   'wind_speed': 4.53,\n",
       "   'wind_deg': 29,\n",
       "   'wind_gust': 7.23,\n",
       "   'weather': [{'id': 501,\n",
       "     'main': 'Rain',\n",
       "     'description': 'pluie modérée',\n",
       "     'icon': '10d'}],\n",
       "   'clouds': 65,\n",
       "   'pop': 0.83,\n",
       "   'rain': 11.79,\n",
       "   'uvi': 6.87},\n",
       "  {'dt': 1655985600,\n",
       "   'sunrise': 1655957154,\n",
       "   'sunset': 1656015274,\n",
       "   'moonrise': 1655946300,\n",
       "   'moonset': 1655995620,\n",
       "   'moon_phase': 0.82,\n",
       "   'temp': {'day': 20.89,\n",
       "    'min': 15.75,\n",
       "    'max': 21.23,\n",
       "    'night': 16.36,\n",
       "    'eve': 19.18,\n",
       "    'morn': 16.46},\n",
       "   'feels_like': {'day': 20.78, 'night': 16.3, 'eve': 19.11, 'morn': 16.62},\n",
       "   'pressure': 1010,\n",
       "   'humidity': 67,\n",
       "   'dew_point': 13.72,\n",
       "   'wind_speed': 4.49,\n",
       "   'wind_deg': 98,\n",
       "   'wind_gust': 7.03,\n",
       "   'weather': [{'id': 500,\n",
       "     'main': 'Rain',\n",
       "     'description': 'légère pluie',\n",
       "     'icon': '10d'}],\n",
       "   'clouds': 7,\n",
       "   'pop': 0.88,\n",
       "   'rain': 1.3,\n",
       "   'uvi': 7.37},\n",
       "  {'dt': 1656072000,\n",
       "   'sunrise': 1656043572,\n",
       "   'sunset': 1656101680,\n",
       "   'moonrise': 1656033720,\n",
       "   'moonset': 1656086280,\n",
       "   'moon_phase': 0.86,\n",
       "   'temp': {'day': 18.38,\n",
       "    'min': 14.69,\n",
       "    'max': 20.09,\n",
       "    'night': 14.89,\n",
       "    'eve': 17.64,\n",
       "    'morn': 15.67},\n",
       "   'feels_like': {'day': 18.21, 'night': 14.78, 'eve': 17.55, 'morn': 15.64},\n",
       "   'pressure': 1008,\n",
       "   'humidity': 74,\n",
       "   'dew_point': 13.61,\n",
       "   'wind_speed': 8.34,\n",
       "   'wind_deg': 224,\n",
       "   'wind_gust': 11.27,\n",
       "   'weather': [{'id': 500,\n",
       "     'main': 'Rain',\n",
       "     'description': 'légère pluie',\n",
       "     'icon': '10d'}],\n",
       "   'clouds': 59,\n",
       "   'pop': 0.81,\n",
       "   'rain': 2,\n",
       "   'uvi': 4.92},\n",
       "  {'dt': 1656158400,\n",
       "   'sunrise': 1656129993,\n",
       "   'sunset': 1656188083,\n",
       "   'moonrise': 1656121260,\n",
       "   'moonset': 1656176820,\n",
       "   'moon_phase': 0.89,\n",
       "   'temp': {'day': 17.24,\n",
       "    'min': 13.46,\n",
       "    'max': 18.6,\n",
       "    'night': 13.46,\n",
       "    'eve': 16.01,\n",
       "    'morn': 13.58},\n",
       "   'feels_like': {'day': 16.56, 'night': 12.87, 'eve': 15.34, 'morn': 13.24},\n",
       "   'pressure': 1009,\n",
       "   'humidity': 59,\n",
       "   'dew_point': 8.71,\n",
       "   'wind_speed': 5.67,\n",
       "   'wind_deg': 314,\n",
       "   'wind_gust': 6.7,\n",
       "   'weather': [{'id': 500,\n",
       "     'main': 'Rain',\n",
       "     'description': 'légère pluie',\n",
       "     'icon': '10d'}],\n",
       "   'clouds': 100,\n",
       "   'pop': 0.67,\n",
       "   'rain': 0.52,\n",
       "   'uvi': 6.93},\n",
       "  {'dt': 1656244800,\n",
       "   'sunrise': 1656216416,\n",
       "   'sunset': 1656274484,\n",
       "   'moonrise': 1656209040,\n",
       "   'moonset': 1656267300,\n",
       "   'moon_phase': 0.92,\n",
       "   'temp': {'day': 18.15,\n",
       "    'min': 11.12,\n",
       "    'max': 18.15,\n",
       "    'night': 13.72,\n",
       "    'eve': 15.6,\n",
       "    'morn': 12.18},\n",
       "   'feels_like': {'day': 17.33, 'night': 13.05, 'eve': 14.97, 'morn': 11.52},\n",
       "   'pressure': 1013,\n",
       "   'humidity': 50,\n",
       "   'dew_point': 6.92,\n",
       "   'wind_speed': 5.16,\n",
       "   'wind_deg': 340,\n",
       "   'wind_gust': 5.56,\n",
       "   'weather': [{'id': 500,\n",
       "     'main': 'Rain',\n",
       "     'description': 'légère pluie',\n",
       "     'icon': '10d'}],\n",
       "   'clouds': 31,\n",
       "   'pop': 0.33,\n",
       "   'rain': 0.98,\n",
       "   'uvi': 6.48},\n",
       "  {'dt': 1656331200,\n",
       "   'sunrise': 1656302841,\n",
       "   'sunset': 1656360882,\n",
       "   'moonrise': 1656297120,\n",
       "   'moonset': 1656357600,\n",
       "   'moon_phase': 0.95,\n",
       "   'temp': {'day': 16.55,\n",
       "    'min': 11.84,\n",
       "    'max': 16.55,\n",
       "    'night': 13.32,\n",
       "    'eve': 15.91,\n",
       "    'morn': 12.54},\n",
       "   'feels_like': {'day': 15.78, 'night': 12.61, 'eve': 15.2, 'morn': 11.89},\n",
       "   'pressure': 1017,\n",
       "   'humidity': 58,\n",
       "   'dew_point': 7.86,\n",
       "   'wind_speed': 4.87,\n",
       "   'wind_deg': 321,\n",
       "   'wind_gust': 5.64,\n",
       "   'weather': [{'id': 500,\n",
       "     'main': 'Rain',\n",
       "     'description': 'légère pluie',\n",
       "     'icon': '10d'}],\n",
       "   'clouds': 7,\n",
       "   'pop': 0.36,\n",
       "   'rain': 0.35,\n",
       "   'uvi': 7},\n",
       "  {'dt': 1656417600,\n",
       "   'sunrise': 1656389269,\n",
       "   'sunset': 1656447277,\n",
       "   'moonrise': 1656385740,\n",
       "   'moonset': 1656447480,\n",
       "   'moon_phase': 0.98,\n",
       "   'temp': {'day': 20.9,\n",
       "    'min': 11.14,\n",
       "    'max': 21.34,\n",
       "    'night': 16.22,\n",
       "    'eve': 20.4,\n",
       "    'morn': 12.67},\n",
       "   'feels_like': {'day': 20.51, 'night': 15.83, 'eve': 20.04, 'morn': 12},\n",
       "   'pressure': 1019,\n",
       "   'humidity': 56,\n",
       "   'dew_point': 11.45,\n",
       "   'wind_speed': 7.25,\n",
       "   'wind_deg': 214,\n",
       "   'wind_gust': 10.79,\n",
       "   'weather': [{'id': 803,\n",
       "     'main': 'Clouds',\n",
       "     'description': 'nuageux',\n",
       "     'icon': '04d'}],\n",
       "   'clouds': 53,\n",
       "   'pop': 0,\n",
       "   'uvi': 7},\n",
       "  {'dt': 1656504000,\n",
       "   'sunrise': 1656475700,\n",
       "   'sunset': 1656533670,\n",
       "   'moonrise': 1656474900,\n",
       "   'moonset': 1656536820,\n",
       "   'moon_phase': 0,\n",
       "   'temp': {'day': 18.97,\n",
       "    'min': 13.84,\n",
       "    'max': 18.97,\n",
       "    'night': 14.23,\n",
       "    'eve': 16.09,\n",
       "    'morn': 15.89},\n",
       "   'feels_like': {'day': 18.75, 'night': 13.75, 'eve': 15.66, 'morn': 15.7},\n",
       "   'pressure': 1011,\n",
       "   'humidity': 70,\n",
       "   'dew_point': 13.31,\n",
       "   'wind_speed': 7.81,\n",
       "   'wind_deg': 305,\n",
       "   'wind_gust': 12.72,\n",
       "   'weather': [{'id': 500,\n",
       "     'main': 'Rain',\n",
       "     'description': 'légère pluie',\n",
       "     'icon': '10d'}],\n",
       "   'clouds': 100,\n",
       "   'pop': 0.9,\n",
       "   'rain': 3.46,\n",
       "   'uvi': 7}],\n",
       " 'alerts': [{'sender_name': 'METEO-FRANCE',\n",
       "   'event': 'Moderate thunderstorm warning',\n",
       "   'start': 1655870400,\n",
       "   'end': 1655956800,\n",
       "   'description': 'Although rather usual in this region, locally or potentially dangerous phenomena are expected. (such as local winds, summer thunderstorms, rising streams or high waves)',\n",
       "   'tags': ['Thunderstorm']}]}"
      ]
     },
     "execution_count": 12,
     "metadata": {},
     "output_type": "execute_result"
    }
   ],
   "source": [
    "# try at St Malo\n",
    "parameters = {\n",
    "    \"lat\": 48.649518,\n",
    "    \"lon\": -2.0260409,\n",
    "    \"exclude\": \"current,minutely,hourly\",\n",
    "    \"units\": \"metric\",\n",
    "    \"appid\": \"aa423e6694bf72625fe1fe31544949dc\",\n",
    "    \"lang\": \"fr\",\n",
    "}\n",
    "\n",
    "r = requests.get(\n",
    "    \"https://api.openweathermap.org/data/2.5/onecall\", params=parameters\n",
    ").json()\n",
    "\n",
    "r\n"
   ]
  },
  {
   "cell_type": "code",
   "execution_count": 13,
   "metadata": {},
   "outputs": [
    {
     "data": {
      "text/plain": [
       "[{'dt': 1656158400,\n",
       "  'sunrise': 1656129993,\n",
       "  'sunset': 1656188083,\n",
       "  'moonrise': 1656121260,\n",
       "  'moonset': 1656176820,\n",
       "  'moon_phase': 0.89,\n",
       "  'temp': {'day': 17.24,\n",
       "   'min': 13.46,\n",
       "   'max': 18.6,\n",
       "   'night': 13.46,\n",
       "   'eve': 16.01,\n",
       "   'morn': 13.58},\n",
       "  'feels_like': {'day': 16.56, 'night': 12.87, 'eve': 15.34, 'morn': 13.24},\n",
       "  'pressure': 1009,\n",
       "  'humidity': 59,\n",
       "  'dew_point': 8.71,\n",
       "  'wind_speed': 5.67,\n",
       "  'wind_deg': 314,\n",
       "  'wind_gust': 6.7,\n",
       "  'weather': [{'id': 500,\n",
       "    'main': 'Rain',\n",
       "    'description': 'légère pluie',\n",
       "    'icon': '10d'}],\n",
       "  'clouds': 100,\n",
       "  'pop': 0.67,\n",
       "  'rain': 0.52,\n",
       "  'uvi': 6.93},\n",
       " {'dt': 1656244800,\n",
       "  'sunrise': 1656216416,\n",
       "  'sunset': 1656274484,\n",
       "  'moonrise': 1656209040,\n",
       "  'moonset': 1656267300,\n",
       "  'moon_phase': 0.92,\n",
       "  'temp': {'day': 18.15,\n",
       "   'min': 11.12,\n",
       "   'max': 18.15,\n",
       "   'night': 13.72,\n",
       "   'eve': 15.6,\n",
       "   'morn': 12.18},\n",
       "  'feels_like': {'day': 17.33, 'night': 13.05, 'eve': 14.97, 'morn': 11.52},\n",
       "  'pressure': 1013,\n",
       "  'humidity': 50,\n",
       "  'dew_point': 6.92,\n",
       "  'wind_speed': 5.16,\n",
       "  'wind_deg': 340,\n",
       "  'wind_gust': 5.56,\n",
       "  'weather': [{'id': 500,\n",
       "    'main': 'Rain',\n",
       "    'description': 'légère pluie',\n",
       "    'icon': '10d'}],\n",
       "  'clouds': 31,\n",
       "  'pop': 0.33,\n",
       "  'rain': 0.98,\n",
       "  'uvi': 6.48},\n",
       " {'dt': 1656331200,\n",
       "  'sunrise': 1656302841,\n",
       "  'sunset': 1656360882,\n",
       "  'moonrise': 1656297120,\n",
       "  'moonset': 1656357600,\n",
       "  'moon_phase': 0.95,\n",
       "  'temp': {'day': 16.55,\n",
       "   'min': 11.84,\n",
       "   'max': 16.55,\n",
       "   'night': 13.32,\n",
       "   'eve': 15.91,\n",
       "   'morn': 12.54},\n",
       "  'feels_like': {'day': 15.78, 'night': 12.61, 'eve': 15.2, 'morn': 11.89},\n",
       "  'pressure': 1017,\n",
       "  'humidity': 58,\n",
       "  'dew_point': 7.86,\n",
       "  'wind_speed': 4.87,\n",
       "  'wind_deg': 321,\n",
       "  'wind_gust': 5.64,\n",
       "  'weather': [{'id': 500,\n",
       "    'main': 'Rain',\n",
       "    'description': 'légère pluie',\n",
       "    'icon': '10d'}],\n",
       "  'clouds': 7,\n",
       "  'pop': 0.36,\n",
       "  'rain': 0.35,\n",
       "  'uvi': 7},\n",
       " {'dt': 1656417600,\n",
       "  'sunrise': 1656389269,\n",
       "  'sunset': 1656447277,\n",
       "  'moonrise': 1656385740,\n",
       "  'moonset': 1656447480,\n",
       "  'moon_phase': 0.98,\n",
       "  'temp': {'day': 20.9,\n",
       "   'min': 11.14,\n",
       "   'max': 21.34,\n",
       "   'night': 16.22,\n",
       "   'eve': 20.4,\n",
       "   'morn': 12.67},\n",
       "  'feels_like': {'day': 20.51, 'night': 15.83, 'eve': 20.04, 'morn': 12},\n",
       "  'pressure': 1019,\n",
       "  'humidity': 56,\n",
       "  'dew_point': 11.45,\n",
       "  'wind_speed': 7.25,\n",
       "  'wind_deg': 214,\n",
       "  'wind_gust': 10.79,\n",
       "  'weather': [{'id': 803,\n",
       "    'main': 'Clouds',\n",
       "    'description': 'nuageux',\n",
       "    'icon': '04d'}],\n",
       "  'clouds': 53,\n",
       "  'pop': 0,\n",
       "  'uvi': 7},\n",
       " {'dt': 1656504000,\n",
       "  'sunrise': 1656475700,\n",
       "  'sunset': 1656533670,\n",
       "  'moonrise': 1656474900,\n",
       "  'moonset': 1656536820,\n",
       "  'moon_phase': 0,\n",
       "  'temp': {'day': 18.97,\n",
       "   'min': 13.84,\n",
       "   'max': 18.97,\n",
       "   'night': 14.23,\n",
       "   'eve': 16.09,\n",
       "   'morn': 15.89},\n",
       "  'feels_like': {'day': 18.75, 'night': 13.75, 'eve': 15.66, 'morn': 15.7},\n",
       "  'pressure': 1011,\n",
       "  'humidity': 70,\n",
       "  'dew_point': 13.31,\n",
       "  'wind_speed': 7.81,\n",
       "  'wind_deg': 305,\n",
       "  'wind_gust': 12.72,\n",
       "  'weather': [{'id': 500,\n",
       "    'main': 'Rain',\n",
       "    'description': 'légère pluie',\n",
       "    'icon': '10d'}],\n",
       "  'clouds': 100,\n",
       "  'pop': 0.9,\n",
       "  'rain': 3.46,\n",
       "  'uvi': 7}]"
      ]
     },
     "execution_count": 13,
     "metadata": {},
     "output_type": "execute_result"
    }
   ],
   "source": [
    "# Weather in 3 days at St Malo\n",
    "r[\"daily\"][3:]\n"
   ]
  },
  {
   "cell_type": "code",
   "execution_count": 14,
   "metadata": {},
   "outputs": [
    {
     "data": {
      "text/plain": [
       "'Rain'"
      ]
     },
     "execution_count": 14,
     "metadata": {},
     "output_type": "execute_result"
    }
   ],
   "source": [
    "day3 = r[\"daily\"][3]  # Weather in 3 days\n",
    "\n",
    "# desciption of the main weather in 3 days at St Malo\n",
    "day3[\"weather\"][0][\"main\"]\n"
   ]
  },
  {
   "cell_type": "code",
   "execution_count": 15,
   "metadata": {},
   "outputs": [],
   "source": [
    "df_gps_weather = df_gps.copy(deep=True)\n",
    "my_api_key = \"aa423e6694bf72625fe1fe31544949dc\"\n",
    "\n",
    "temperatures_list = []\n",
    "rain_list = []\n",
    "weather_list = []\n",
    "\n",
    "days = list(range(1, 8))\n",
    "\n",
    "for i in df_gps_weather.itertuples():\n",
    "    lat = i.lat\n",
    "    lon = i.lon\n",
    "\n",
    "    parameters = {\n",
    "        \"lat\": {lat},\n",
    "        \"lon\": {lon},\n",
    "        \"exclude\": \"current,minutely,hourly\",\n",
    "        \"units\": \"metric\",\n",
    "        \"appid\": \"aa423e6694bf72625fe1fe31544949dc\",\n",
    "        \"lang\": \"fr\",\n",
    "    }\n",
    "\n",
    "    r = requests.get(\n",
    "        f\"https://api.openweathermap.org/data/2.5/onecall?\", parameters\n",
    "    ).json()\n",
    "    forecast_7days = r[\"daily\"][1:]  # Getting the weather data for the next 7 days\n",
    "    temperatures = [int(d[\"feels_like\"][\"day\"]) for d in forecast_7days]\n",
    "    rain = [int(d[\"pop\"] * 100) for d in forecast_7days]\n",
    "    weather = [str(d[\"weather\"][0][\"main\"]) for d in forecast_7days]\n",
    "    temperatures_list.append(temperatures)\n",
    "    rain_list.append(rain)\n",
    "    weather_list.append(weather)\n",
    "\n",
    "df_gps_weather[\"jour_+x\"] = [days for _ in range(len(df_gps_weather))]\n",
    "df_gps_weather[\"temperature_ressentie\"] = temperatures_list\n",
    "df_gps_weather[\"probabilite_de_pluie\"] = rain_list\n",
    "df_gps_weather[\"meteo_principale\"] = weather_list\n",
    "# df_weather['rang'] = df_weather['probabilite_de_pluie'].sort_values()\n",
    "df_gps_weather[\"score\"] = df_gps_weather.apply(\n",
    "    lambda x: ((np.mean(x[\"temperature_ressentie\"])))\n",
    "    - (np.mean(x[\"probabilite_de_pluie\"]) / 10),\n",
    "    axis=1,\n",
    ").astype(int)\n"
   ]
  },
  {
   "cell_type": "code",
   "execution_count": 16,
   "metadata": {},
   "outputs": [
    {
     "data": {
      "text/html": [
       "<div>\n",
       "<style scoped>\n",
       "    .dataframe tbody tr th:only-of-type {\n",
       "        vertical-align: middle;\n",
       "    }\n",
       "\n",
       "    .dataframe tbody tr th {\n",
       "        vertical-align: top;\n",
       "    }\n",
       "\n",
       "    .dataframe thead th {\n",
       "        text-align: right;\n",
       "    }\n",
       "</style>\n",
       "<table border=\"1\" class=\"dataframe\">\n",
       "  <thead>\n",
       "    <tr style=\"text-align: right;\">\n",
       "      <th></th>\n",
       "      <th>id</th>\n",
       "      <th>city</th>\n",
       "      <th>lat</th>\n",
       "      <th>lon</th>\n",
       "      <th>jour_+x</th>\n",
       "      <th>temperature_ressentie</th>\n",
       "      <th>probabilite_de_pluie</th>\n",
       "      <th>meteo_principale</th>\n",
       "      <th>score</th>\n",
       "    </tr>\n",
       "  </thead>\n",
       "  <tbody>\n",
       "    <tr>\n",
       "      <th>0</th>\n",
       "      <td>0</td>\n",
       "      <td>Mont Saint Michel</td>\n",
       "      <td>48.6359541</td>\n",
       "      <td>-1.511459954959514</td>\n",
       "      <td>[1, 2, 3, 4, 5, 6, 7]</td>\n",
       "      <td>[23, 19, 17, 18, 17, 22, 16]</td>\n",
       "      <td>[93, 85, 69, 20, 12, 0, 93]</td>\n",
       "      <td>[Rain, Rain, Rain, Rain, Clear, Clouds, Rain]</td>\n",
       "      <td>13</td>\n",
       "    </tr>\n",
       "    <tr>\n",
       "      <th>1</th>\n",
       "      <td>1</td>\n",
       "      <td>St Malo</td>\n",
       "      <td>48.649518</td>\n",
       "      <td>-2.0260409</td>\n",
       "      <td>[1, 2, 3, 4, 5, 6, 7]</td>\n",
       "      <td>[20, 18, 16, 17, 15, 20, 18]</td>\n",
       "      <td>[88, 81, 67, 33, 36, 0, 90]</td>\n",
       "      <td>[Rain, Rain, Rain, Rain, Rain, Clouds, Rain]</td>\n",
       "      <td>12</td>\n",
       "    </tr>\n",
       "    <tr>\n",
       "      <th>2</th>\n",
       "      <td>2</td>\n",
       "      <td>Bayeux</td>\n",
       "      <td>49.2764624</td>\n",
       "      <td>-0.7024738</td>\n",
       "      <td>[1, 2, 3, 4, 5, 6, 7]</td>\n",
       "      <td>[24, 18, 15, 18, 17, 21, 15]</td>\n",
       "      <td>[56, 82, 96, 39, 37, 0, 96]</td>\n",
       "      <td>[Rain, Rain, Rain, Rain, Rain, Clouds, Rain]</td>\n",
       "      <td>12</td>\n",
       "    </tr>\n",
       "    <tr>\n",
       "      <th>3</th>\n",
       "      <td>3</td>\n",
       "      <td>Le Havre</td>\n",
       "      <td>49.4938975</td>\n",
       "      <td>0.1079732</td>\n",
       "      <td>[1, 2, 3, 4, 5, 6, 7]</td>\n",
       "      <td>[19, 18, 14, 16, 15, 18, 19]</td>\n",
       "      <td>[74, 86, 100, 34, 36, 0, 98]</td>\n",
       "      <td>[Rain, Rain, Rain, Rain, Rain, Clouds, Rain]</td>\n",
       "      <td>10</td>\n",
       "    </tr>\n",
       "    <tr>\n",
       "      <th>4</th>\n",
       "      <td>4</td>\n",
       "      <td>Rouen</td>\n",
       "      <td>49.4404591</td>\n",
       "      <td>1.0939658</td>\n",
       "      <td>[1, 2, 3, 4, 5, 6, 7]</td>\n",
       "      <td>[26, 20, 15, 19, 19, 21, 23]</td>\n",
       "      <td>[54, 100, 100, 53, 39, 0, 45]</td>\n",
       "      <td>[Rain, Rain, Rain, Rain, Rain, Clouds, Rain]</td>\n",
       "      <td>14</td>\n",
       "    </tr>\n",
       "    <tr>\n",
       "      <th>5</th>\n",
       "      <td>5</td>\n",
       "      <td>Paris</td>\n",
       "      <td>48.8588897</td>\n",
       "      <td>2.3200410217200766</td>\n",
       "      <td>[1, 2, 3, 4, 5, 6, 7]</td>\n",
       "      <td>[26, 20, 21, 20, 21, 22, 25]</td>\n",
       "      <td>[60, 100, 100, 8, 100, 9, 20]</td>\n",
       "      <td>[Rain, Rain, Rain, Clouds, Rain, Clear, Rain]</td>\n",
       "      <td>16</td>\n",
       "    </tr>\n",
       "    <tr>\n",
       "      <th>6</th>\n",
       "      <td>6</td>\n",
       "      <td>Amiens</td>\n",
       "      <td>49.8941708</td>\n",
       "      <td>2.2956951</td>\n",
       "      <td>[1, 2, 3, 4, 5, 6, 7]</td>\n",
       "      <td>[23, 18, 16, 20, 19, 20, 24]</td>\n",
       "      <td>[92, 100, 100, 4, 95, 4, 35]</td>\n",
       "      <td>[Rain, Rain, Rain, Clouds, Rain, Clouds, Rain]</td>\n",
       "      <td>13</td>\n",
       "    </tr>\n",
       "    <tr>\n",
       "      <th>7</th>\n",
       "      <td>7</td>\n",
       "      <td>Lille</td>\n",
       "      <td>50.6365654</td>\n",
       "      <td>3.0635282</td>\n",
       "      <td>[1, 2, 3, 4, 5, 6, 7]</td>\n",
       "      <td>[23, 18, 17, 19, 17, 20, 24]</td>\n",
       "      <td>[93, 96, 100, 27, 100, 16, 14]</td>\n",
       "      <td>[Rain, Rain, Rain, Clouds, Rain, Clear, Clouds]</td>\n",
       "      <td>13</td>\n",
       "    </tr>\n",
       "    <tr>\n",
       "      <th>8</th>\n",
       "      <td>8</td>\n",
       "      <td>Strasbourg</td>\n",
       "      <td>48.584614</td>\n",
       "      <td>7.7507127</td>\n",
       "      <td>[1, 2, 3, 4, 5, 6, 7]</td>\n",
       "      <td>[28, 22, 26, 24, 16, 20, 24]</td>\n",
       "      <td>[96, 100, 11, 84, 100, 35, 0]</td>\n",
       "      <td>[Rain, Rain, Clear, Rain, Rain, Rain, Clear]</td>\n",
       "      <td>16</td>\n",
       "    </tr>\n",
       "    <tr>\n",
       "      <th>9</th>\n",
       "      <td>9</td>\n",
       "      <td>Chateau du Haut Koenigsbourg</td>\n",
       "      <td>48.2495226</td>\n",
       "      <td>7.3454923</td>\n",
       "      <td>[1, 2, 3, 4, 5, 6, 7]</td>\n",
       "      <td>[27, 20, 22, 17, 13, 17, 21]</td>\n",
       "      <td>[98, 100, 26, 100, 100, 34, 0]</td>\n",
       "      <td>[Rain, Rain, Rain, Rain, Rain, Rain, Clear]</td>\n",
       "      <td>13</td>\n",
       "    </tr>\n",
       "    <tr>\n",
       "      <th>10</th>\n",
       "      <td>10</td>\n",
       "      <td>Colmar</td>\n",
       "      <td>48.0777517</td>\n",
       "      <td>7.3579641</td>\n",
       "      <td>[1, 2, 3, 4, 5, 6, 7]</td>\n",
       "      <td>[29, 24, 26, 21, 16, 20, 24]</td>\n",
       "      <td>[99, 100, 28, 100, 100, 44, 0]</td>\n",
       "      <td>[Rain, Rain, Rain, Rain, Rain, Rain, Clear]</td>\n",
       "      <td>16</td>\n",
       "    </tr>\n",
       "    <tr>\n",
       "      <th>11</th>\n",
       "      <td>11</td>\n",
       "      <td>Eguisheim</td>\n",
       "      <td>48.0447968</td>\n",
       "      <td>7.3079618</td>\n",
       "      <td>[1, 2, 3, 4, 5, 6, 7]</td>\n",
       "      <td>[29, 24, 26, 20, 16, 20, 24]</td>\n",
       "      <td>[100, 100, 34, 100, 100, 42, 0]</td>\n",
       "      <td>[Rain, Rain, Rain, Rain, Rain, Rain, Clear]</td>\n",
       "      <td>15</td>\n",
       "    </tr>\n",
       "    <tr>\n",
       "      <th>12</th>\n",
       "      <td>12</td>\n",
       "      <td>Besancon</td>\n",
       "      <td>47.2380222</td>\n",
       "      <td>6.0243622</td>\n",
       "      <td>[1, 2, 3, 4, 5, 6, 7]</td>\n",
       "      <td>[27, 18, 26, 18, 14, 21, 24]</td>\n",
       "      <td>[100, 100, 100, 100, 100, 18, 0]</td>\n",
       "      <td>[Rain, Rain, Rain, Rain, Rain, Clouds, Clear]</td>\n",
       "      <td>13</td>\n",
       "    </tr>\n",
       "    <tr>\n",
       "      <th>13</th>\n",
       "      <td>13</td>\n",
       "      <td>Dijon</td>\n",
       "      <td>47.3215806</td>\n",
       "      <td>5.0414701</td>\n",
       "      <td>[1, 2, 3, 4, 5, 6, 7]</td>\n",
       "      <td>[27, 18, 26, 13, 16, 21, 24]</td>\n",
       "      <td>[94, 100, 100, 100, 100, 4, 0]</td>\n",
       "      <td>[Rain, Rain, Rain, Rain, Rain, Clear, Clear]</td>\n",
       "      <td>13</td>\n",
       "    </tr>\n",
       "    <tr>\n",
       "      <th>14</th>\n",
       "      <td>14</td>\n",
       "      <td>Annecy</td>\n",
       "      <td>45.8992348</td>\n",
       "      <td>6.1288847</td>\n",
       "      <td>[1, 2, 3, 4, 5, 6, 7]</td>\n",
       "      <td>[28, 16, 26, 26, 18, 21, 26]</td>\n",
       "      <td>[98, 100, 96, 98, 100, 50, 0]</td>\n",
       "      <td>[Rain, Rain, Rain, Rain, Rain, Clear, Clear]</td>\n",
       "      <td>15</td>\n",
       "    </tr>\n",
       "    <tr>\n",
       "      <th>15</th>\n",
       "      <td>15</td>\n",
       "      <td>Grenoble</td>\n",
       "      <td>45.1875602</td>\n",
       "      <td>5.7357819</td>\n",
       "      <td>[1, 2, 3, 4, 5, 6, 7]</td>\n",
       "      <td>[30, 21, 28, 28, 18, 23, 28]</td>\n",
       "      <td>[84, 100, 47, 92, 100, 19, 0]</td>\n",
       "      <td>[Rain, Rain, Rain, Rain, Rain, Clouds, Clear]</td>\n",
       "      <td>18</td>\n",
       "    </tr>\n",
       "    <tr>\n",
       "      <th>16</th>\n",
       "      <td>16</td>\n",
       "      <td>Lyon</td>\n",
       "      <td>45.7578137</td>\n",
       "      <td>4.8320114</td>\n",
       "      <td>[1, 2, 3, 4, 5, 6, 7]</td>\n",
       "      <td>[29, 18, 27, 19, 15, 21, 26]</td>\n",
       "      <td>[100, 100, 87, 100, 100, 7, 0]</td>\n",
       "      <td>[Rain, Rain, Rain, Rain, Rain, Clear, Clear]</td>\n",
       "      <td>15</td>\n",
       "    </tr>\n",
       "    <tr>\n",
       "      <th>17</th>\n",
       "      <td>17</td>\n",
       "      <td>Gorges du Verdon</td>\n",
       "      <td>43.8462177</td>\n",
       "      <td>6.5131814</td>\n",
       "      <td>[1, 2, 3, 4, 5, 6, 7]</td>\n",
       "      <td>[27, 25, 27, 27, 27, 26, 27]</td>\n",
       "      <td>[22, 46, 6, 6, 60, 35, 0]</td>\n",
       "      <td>[Clouds, Rain, Clear, Clear, Rain, Clouds, Clear]</td>\n",
       "      <td>24</td>\n",
       "    </tr>\n",
       "    <tr>\n",
       "      <th>18</th>\n",
       "      <td>18</td>\n",
       "      <td>Bormes les Mimosas</td>\n",
       "      <td>43.1572172</td>\n",
       "      <td>6.329253867921363</td>\n",
       "      <td>[1, 2, 3, 4, 5, 6, 7]</td>\n",
       "      <td>[27, 28, 28, 28, 28, 27, 27]</td>\n",
       "      <td>[16, 7, 0, 0, 10, 0, 0]</td>\n",
       "      <td>[Clouds, Clouds, Clear, Clear, Clouds, Clear, ...</td>\n",
       "      <td>27</td>\n",
       "    </tr>\n",
       "    <tr>\n",
       "      <th>19</th>\n",
       "      <td>19</td>\n",
       "      <td>Cassis</td>\n",
       "      <td>43.2140359</td>\n",
       "      <td>5.5396318</td>\n",
       "      <td>[1, 2, 3, 4, 5, 6, 7]</td>\n",
       "      <td>[26, 25, 27, 26, 26, 26, 27]</td>\n",
       "      <td>[31, 28, 0, 0, 7, 0, 0]</td>\n",
       "      <td>[Rain, Clouds, Clouds, Clear, Clouds, Clear, C...</td>\n",
       "      <td>25</td>\n",
       "    </tr>\n",
       "    <tr>\n",
       "      <th>20</th>\n",
       "      <td>20</td>\n",
       "      <td>Marseille</td>\n",
       "      <td>43.2961743</td>\n",
       "      <td>5.3699525</td>\n",
       "      <td>[1, 2, 3, 4, 5, 6, 7]</td>\n",
       "      <td>[26, 25, 27, 26, 26, 26, 27]</td>\n",
       "      <td>[36, 40, 0, 2, 10, 0, 0]</td>\n",
       "      <td>[Rain, Rain, Clouds, Clear, Clouds, Clear, Clear]</td>\n",
       "      <td>24</td>\n",
       "    </tr>\n",
       "    <tr>\n",
       "      <th>21</th>\n",
       "      <td>21</td>\n",
       "      <td>Aix en Provence</td>\n",
       "      <td>43.5298424</td>\n",
       "      <td>5.4474738</td>\n",
       "      <td>[1, 2, 3, 4, 5, 6, 7]</td>\n",
       "      <td>[28, 28, 28, 30, 27, 27, 29]</td>\n",
       "      <td>[47, 56, 0, 2, 10, 0, 0]</td>\n",
       "      <td>[Clouds, Rain, Clouds, Clear, Clouds, Clear, C...</td>\n",
       "      <td>26</td>\n",
       "    </tr>\n",
       "    <tr>\n",
       "      <th>22</th>\n",
       "      <td>22</td>\n",
       "      <td>Avignon</td>\n",
       "      <td>43.9492493</td>\n",
       "      <td>4.8059012</td>\n",
       "      <td>[1, 2, 3, 4, 5, 6, 7]</td>\n",
       "      <td>[31, 28, 30, 31, 26, 26, 29]</td>\n",
       "      <td>[87, 98, 27, 56, 56, 0, 0]</td>\n",
       "      <td>[Rain, Rain, Clouds, Rain, Rain, Clear, Clear]</td>\n",
       "      <td>24</td>\n",
       "    </tr>\n",
       "    <tr>\n",
       "      <th>23</th>\n",
       "      <td>23</td>\n",
       "      <td>Uzes</td>\n",
       "      <td>44.0121279</td>\n",
       "      <td>4.4196718</td>\n",
       "      <td>[1, 2, 3, 4, 5, 6, 7]</td>\n",
       "      <td>[29, 27, 28, 29, 24, 26, 28]</td>\n",
       "      <td>[97, 97, 59, 88, 70, 0, 0]</td>\n",
       "      <td>[Rain, Rain, Rain, Rain, Rain, Clear, Clear]</td>\n",
       "      <td>21</td>\n",
       "    </tr>\n",
       "    <tr>\n",
       "      <th>24</th>\n",
       "      <td>24</td>\n",
       "      <td>Nimes</td>\n",
       "      <td>43.8374249</td>\n",
       "      <td>4.3600687</td>\n",
       "      <td>[1, 2, 3, 4, 5, 6, 7]</td>\n",
       "      <td>[29, 27, 29, 29, 25, 26, 29]</td>\n",
       "      <td>[85, 94, 56, 78, 59, 0, 0]</td>\n",
       "      <td>[Rain, Rain, Rain, Rain, Rain, Clear, Clear]</td>\n",
       "      <td>22</td>\n",
       "    </tr>\n",
       "    <tr>\n",
       "      <th>25</th>\n",
       "      <td>25</td>\n",
       "      <td>Aigues Mortes</td>\n",
       "      <td>43.5658225</td>\n",
       "      <td>4.1912837</td>\n",
       "      <td>[1, 2, 3, 4, 5, 6, 7]</td>\n",
       "      <td>[26, 26, 26, 26, 25, 26, 26]</td>\n",
       "      <td>[65, 74, 50, 62, 44, 0, 0]</td>\n",
       "      <td>[Rain, Rain, Rain, Rain, Rain, Clear, Clear]</td>\n",
       "      <td>21</td>\n",
       "    </tr>\n",
       "    <tr>\n",
       "      <th>26</th>\n",
       "      <td>26</td>\n",
       "      <td>Saintes Maries de la mer</td>\n",
       "      <td>43.4522771</td>\n",
       "      <td>4.4287172</td>\n",
       "      <td>[1, 2, 3, 4, 5, 6, 7]</td>\n",
       "      <td>[24, 25, 25, 25, 24, 25, 25]</td>\n",
       "      <td>[53, 73, 33, 44, 38, 0, 0]</td>\n",
       "      <td>[Rain, Rain, Rain, Rain, Rain, Clear, Clear]</td>\n",
       "      <td>21</td>\n",
       "    </tr>\n",
       "    <tr>\n",
       "      <th>27</th>\n",
       "      <td>27</td>\n",
       "      <td>Collioure</td>\n",
       "      <td>42.52505</td>\n",
       "      <td>3.0831554</td>\n",
       "      <td>[1, 2, 3, 4, 5, 6, 7]</td>\n",
       "      <td>[29, 26, 30, 25, 20, 26, 27]</td>\n",
       "      <td>[8, 23, 28, 21, 31, 0, 5]</td>\n",
       "      <td>[Clear, Clouds, Rain, Clear, Clouds, Clear, Cl...</td>\n",
       "      <td>24</td>\n",
       "    </tr>\n",
       "    <tr>\n",
       "      <th>28</th>\n",
       "      <td>28</td>\n",
       "      <td>Carcassonne</td>\n",
       "      <td>43.2130358</td>\n",
       "      <td>2.3491069</td>\n",
       "      <td>[1, 2, 3, 4, 5, 6, 7]</td>\n",
       "      <td>[29, 24, 29, 23, 17, 23, 28]</td>\n",
       "      <td>[76, 76, 60, 82, 75, 0, 0]</td>\n",
       "      <td>[Rain, Rain, Rain, Rain, Rain, Clear, Clear]</td>\n",
       "      <td>19</td>\n",
       "    </tr>\n",
       "    <tr>\n",
       "      <th>29</th>\n",
       "      <td>29</td>\n",
       "      <td>Ariege</td>\n",
       "      <td>42.9638998</td>\n",
       "      <td>1.6053807</td>\n",
       "      <td>[1, 2, 3, 4, 5, 6, 7]</td>\n",
       "      <td>[28, 20, 26, 15, 12, 22, 27]</td>\n",
       "      <td>[78, 78, 73, 84, 96, 0, 3]</td>\n",
       "      <td>[Rain, Rain, Rain, Rain, Rain, Clear, Clear]</td>\n",
       "      <td>15</td>\n",
       "    </tr>\n",
       "    <tr>\n",
       "      <th>30</th>\n",
       "      <td>30</td>\n",
       "      <td>Toulouse</td>\n",
       "      <td>43.6044622</td>\n",
       "      <td>1.4442469</td>\n",
       "      <td>[1, 2, 3, 4, 5, 6, 7]</td>\n",
       "      <td>[28, 22, 27, 18, 13, 22, 26]</td>\n",
       "      <td>[85, 87, 54, 92, 100, 0, 0]</td>\n",
       "      <td>[Rain, Rain, Rain, Rain, Rain, Clear, Clear]</td>\n",
       "      <td>16</td>\n",
       "    </tr>\n",
       "    <tr>\n",
       "      <th>31</th>\n",
       "      <td>31</td>\n",
       "      <td>Montauban</td>\n",
       "      <td>44.0175835</td>\n",
       "      <td>1.3549991</td>\n",
       "      <td>[1, 2, 3, 4, 5, 6, 7]</td>\n",
       "      <td>[28, 22, 26, 18, 13, 21, 26]</td>\n",
       "      <td>[90, 87, 46, 96, 80, 0, 0]</td>\n",
       "      <td>[Rain, Rain, Rain, Rain, Rain, Clear, Clear]</td>\n",
       "      <td>16</td>\n",
       "    </tr>\n",
       "    <tr>\n",
       "      <th>32</th>\n",
       "      <td>32</td>\n",
       "      <td>Biarritz</td>\n",
       "      <td>43.4832523</td>\n",
       "      <td>-1.5592776</td>\n",
       "      <td>[1, 2, 3, 4, 5, 6, 7]</td>\n",
       "      <td>[21, 20, 19, 15, 18, 21, 20]</td>\n",
       "      <td>[82, 76, 100, 88, 67, 0, 39]</td>\n",
       "      <td>[Rain, Rain, Rain, Rain, Rain, Clear, Rain]</td>\n",
       "      <td>12</td>\n",
       "    </tr>\n",
       "    <tr>\n",
       "      <th>33</th>\n",
       "      <td>33</td>\n",
       "      <td>Bayonne</td>\n",
       "      <td>43.4933379</td>\n",
       "      <td>-1.475099</td>\n",
       "      <td>[1, 2, 3, 4, 5, 6, 7]</td>\n",
       "      <td>[22, 20, 19, 15, 18, 22, 21]</td>\n",
       "      <td>[79, 77, 100, 88, 69, 0, 40]</td>\n",
       "      <td>[Rain, Rain, Rain, Rain, Rain, Clear, Rain]</td>\n",
       "      <td>13</td>\n",
       "    </tr>\n",
       "    <tr>\n",
       "      <th>34</th>\n",
       "      <td>34</td>\n",
       "      <td>La Rochelle</td>\n",
       "      <td>46.1591126</td>\n",
       "      <td>-1.1520434</td>\n",
       "      <td>[1, 2, 3, 4, 5, 6, 7]</td>\n",
       "      <td>[21, 19, 17, 17, 17, 18, 20]</td>\n",
       "      <td>[30, 100, 100, 39, 68, 0, 28]</td>\n",
       "      <td>[Clouds, Rain, Rain, Rain, Rain, Clear, Rain]</td>\n",
       "      <td>13</td>\n",
       "    </tr>\n",
       "  </tbody>\n",
       "</table>\n",
       "</div>"
      ],
      "text/plain": [
       "    id                          city         lat                 lon  \\\n",
       "0    0             Mont Saint Michel  48.6359541  -1.511459954959514   \n",
       "1    1                       St Malo   48.649518          -2.0260409   \n",
       "2    2                        Bayeux  49.2764624          -0.7024738   \n",
       "3    3                      Le Havre  49.4938975           0.1079732   \n",
       "4    4                         Rouen  49.4404591           1.0939658   \n",
       "5    5                         Paris  48.8588897  2.3200410217200766   \n",
       "6    6                        Amiens  49.8941708           2.2956951   \n",
       "7    7                         Lille  50.6365654           3.0635282   \n",
       "8    8                    Strasbourg   48.584614           7.7507127   \n",
       "9    9  Chateau du Haut Koenigsbourg  48.2495226           7.3454923   \n",
       "10  10                        Colmar  48.0777517           7.3579641   \n",
       "11  11                     Eguisheim  48.0447968           7.3079618   \n",
       "12  12                      Besancon  47.2380222           6.0243622   \n",
       "13  13                         Dijon  47.3215806           5.0414701   \n",
       "14  14                        Annecy  45.8992348           6.1288847   \n",
       "15  15                      Grenoble  45.1875602           5.7357819   \n",
       "16  16                          Lyon  45.7578137           4.8320114   \n",
       "17  17              Gorges du Verdon  43.8462177           6.5131814   \n",
       "18  18            Bormes les Mimosas  43.1572172   6.329253867921363   \n",
       "19  19                        Cassis  43.2140359           5.5396318   \n",
       "20  20                     Marseille  43.2961743           5.3699525   \n",
       "21  21               Aix en Provence  43.5298424           5.4474738   \n",
       "22  22                       Avignon  43.9492493           4.8059012   \n",
       "23  23                          Uzes  44.0121279           4.4196718   \n",
       "24  24                         Nimes  43.8374249           4.3600687   \n",
       "25  25                 Aigues Mortes  43.5658225           4.1912837   \n",
       "26  26      Saintes Maries de la mer  43.4522771           4.4287172   \n",
       "27  27                     Collioure    42.52505           3.0831554   \n",
       "28  28                   Carcassonne  43.2130358           2.3491069   \n",
       "29  29                        Ariege  42.9638998           1.6053807   \n",
       "30  30                      Toulouse  43.6044622           1.4442469   \n",
       "31  31                     Montauban  44.0175835           1.3549991   \n",
       "32  32                      Biarritz  43.4832523          -1.5592776   \n",
       "33  33                       Bayonne  43.4933379           -1.475099   \n",
       "34  34                   La Rochelle  46.1591126          -1.1520434   \n",
       "\n",
       "                  jour_+x         temperature_ressentie  \\\n",
       "0   [1, 2, 3, 4, 5, 6, 7]  [23, 19, 17, 18, 17, 22, 16]   \n",
       "1   [1, 2, 3, 4, 5, 6, 7]  [20, 18, 16, 17, 15, 20, 18]   \n",
       "2   [1, 2, 3, 4, 5, 6, 7]  [24, 18, 15, 18, 17, 21, 15]   \n",
       "3   [1, 2, 3, 4, 5, 6, 7]  [19, 18, 14, 16, 15, 18, 19]   \n",
       "4   [1, 2, 3, 4, 5, 6, 7]  [26, 20, 15, 19, 19, 21, 23]   \n",
       "5   [1, 2, 3, 4, 5, 6, 7]  [26, 20, 21, 20, 21, 22, 25]   \n",
       "6   [1, 2, 3, 4, 5, 6, 7]  [23, 18, 16, 20, 19, 20, 24]   \n",
       "7   [1, 2, 3, 4, 5, 6, 7]  [23, 18, 17, 19, 17, 20, 24]   \n",
       "8   [1, 2, 3, 4, 5, 6, 7]  [28, 22, 26, 24, 16, 20, 24]   \n",
       "9   [1, 2, 3, 4, 5, 6, 7]  [27, 20, 22, 17, 13, 17, 21]   \n",
       "10  [1, 2, 3, 4, 5, 6, 7]  [29, 24, 26, 21, 16, 20, 24]   \n",
       "11  [1, 2, 3, 4, 5, 6, 7]  [29, 24, 26, 20, 16, 20, 24]   \n",
       "12  [1, 2, 3, 4, 5, 6, 7]  [27, 18, 26, 18, 14, 21, 24]   \n",
       "13  [1, 2, 3, 4, 5, 6, 7]  [27, 18, 26, 13, 16, 21, 24]   \n",
       "14  [1, 2, 3, 4, 5, 6, 7]  [28, 16, 26, 26, 18, 21, 26]   \n",
       "15  [1, 2, 3, 4, 5, 6, 7]  [30, 21, 28, 28, 18, 23, 28]   \n",
       "16  [1, 2, 3, 4, 5, 6, 7]  [29, 18, 27, 19, 15, 21, 26]   \n",
       "17  [1, 2, 3, 4, 5, 6, 7]  [27, 25, 27, 27, 27, 26, 27]   \n",
       "18  [1, 2, 3, 4, 5, 6, 7]  [27, 28, 28, 28, 28, 27, 27]   \n",
       "19  [1, 2, 3, 4, 5, 6, 7]  [26, 25, 27, 26, 26, 26, 27]   \n",
       "20  [1, 2, 3, 4, 5, 6, 7]  [26, 25, 27, 26, 26, 26, 27]   \n",
       "21  [1, 2, 3, 4, 5, 6, 7]  [28, 28, 28, 30, 27, 27, 29]   \n",
       "22  [1, 2, 3, 4, 5, 6, 7]  [31, 28, 30, 31, 26, 26, 29]   \n",
       "23  [1, 2, 3, 4, 5, 6, 7]  [29, 27, 28, 29, 24, 26, 28]   \n",
       "24  [1, 2, 3, 4, 5, 6, 7]  [29, 27, 29, 29, 25, 26, 29]   \n",
       "25  [1, 2, 3, 4, 5, 6, 7]  [26, 26, 26, 26, 25, 26, 26]   \n",
       "26  [1, 2, 3, 4, 5, 6, 7]  [24, 25, 25, 25, 24, 25, 25]   \n",
       "27  [1, 2, 3, 4, 5, 6, 7]  [29, 26, 30, 25, 20, 26, 27]   \n",
       "28  [1, 2, 3, 4, 5, 6, 7]  [29, 24, 29, 23, 17, 23, 28]   \n",
       "29  [1, 2, 3, 4, 5, 6, 7]  [28, 20, 26, 15, 12, 22, 27]   \n",
       "30  [1, 2, 3, 4, 5, 6, 7]  [28, 22, 27, 18, 13, 22, 26]   \n",
       "31  [1, 2, 3, 4, 5, 6, 7]  [28, 22, 26, 18, 13, 21, 26]   \n",
       "32  [1, 2, 3, 4, 5, 6, 7]  [21, 20, 19, 15, 18, 21, 20]   \n",
       "33  [1, 2, 3, 4, 5, 6, 7]  [22, 20, 19, 15, 18, 22, 21]   \n",
       "34  [1, 2, 3, 4, 5, 6, 7]  [21, 19, 17, 17, 17, 18, 20]   \n",
       "\n",
       "                probabilite_de_pluie  \\\n",
       "0        [93, 85, 69, 20, 12, 0, 93]   \n",
       "1        [88, 81, 67, 33, 36, 0, 90]   \n",
       "2        [56, 82, 96, 39, 37, 0, 96]   \n",
       "3       [74, 86, 100, 34, 36, 0, 98]   \n",
       "4      [54, 100, 100, 53, 39, 0, 45]   \n",
       "5      [60, 100, 100, 8, 100, 9, 20]   \n",
       "6       [92, 100, 100, 4, 95, 4, 35]   \n",
       "7     [93, 96, 100, 27, 100, 16, 14]   \n",
       "8      [96, 100, 11, 84, 100, 35, 0]   \n",
       "9     [98, 100, 26, 100, 100, 34, 0]   \n",
       "10    [99, 100, 28, 100, 100, 44, 0]   \n",
       "11   [100, 100, 34, 100, 100, 42, 0]   \n",
       "12  [100, 100, 100, 100, 100, 18, 0]   \n",
       "13    [94, 100, 100, 100, 100, 4, 0]   \n",
       "14     [98, 100, 96, 98, 100, 50, 0]   \n",
       "15     [84, 100, 47, 92, 100, 19, 0]   \n",
       "16    [100, 100, 87, 100, 100, 7, 0]   \n",
       "17         [22, 46, 6, 6, 60, 35, 0]   \n",
       "18           [16, 7, 0, 0, 10, 0, 0]   \n",
       "19           [31, 28, 0, 0, 7, 0, 0]   \n",
       "20          [36, 40, 0, 2, 10, 0, 0]   \n",
       "21          [47, 56, 0, 2, 10, 0, 0]   \n",
       "22        [87, 98, 27, 56, 56, 0, 0]   \n",
       "23        [97, 97, 59, 88, 70, 0, 0]   \n",
       "24        [85, 94, 56, 78, 59, 0, 0]   \n",
       "25        [65, 74, 50, 62, 44, 0, 0]   \n",
       "26        [53, 73, 33, 44, 38, 0, 0]   \n",
       "27         [8, 23, 28, 21, 31, 0, 5]   \n",
       "28        [76, 76, 60, 82, 75, 0, 0]   \n",
       "29        [78, 78, 73, 84, 96, 0, 3]   \n",
       "30       [85, 87, 54, 92, 100, 0, 0]   \n",
       "31        [90, 87, 46, 96, 80, 0, 0]   \n",
       "32      [82, 76, 100, 88, 67, 0, 39]   \n",
       "33      [79, 77, 100, 88, 69, 0, 40]   \n",
       "34     [30, 100, 100, 39, 68, 0, 28]   \n",
       "\n",
       "                                     meteo_principale  score  \n",
       "0       [Rain, Rain, Rain, Rain, Clear, Clouds, Rain]     13  \n",
       "1        [Rain, Rain, Rain, Rain, Rain, Clouds, Rain]     12  \n",
       "2        [Rain, Rain, Rain, Rain, Rain, Clouds, Rain]     12  \n",
       "3        [Rain, Rain, Rain, Rain, Rain, Clouds, Rain]     10  \n",
       "4        [Rain, Rain, Rain, Rain, Rain, Clouds, Rain]     14  \n",
       "5       [Rain, Rain, Rain, Clouds, Rain, Clear, Rain]     16  \n",
       "6      [Rain, Rain, Rain, Clouds, Rain, Clouds, Rain]     13  \n",
       "7     [Rain, Rain, Rain, Clouds, Rain, Clear, Clouds]     13  \n",
       "8        [Rain, Rain, Clear, Rain, Rain, Rain, Clear]     16  \n",
       "9         [Rain, Rain, Rain, Rain, Rain, Rain, Clear]     13  \n",
       "10        [Rain, Rain, Rain, Rain, Rain, Rain, Clear]     16  \n",
       "11        [Rain, Rain, Rain, Rain, Rain, Rain, Clear]     15  \n",
       "12      [Rain, Rain, Rain, Rain, Rain, Clouds, Clear]     13  \n",
       "13       [Rain, Rain, Rain, Rain, Rain, Clear, Clear]     13  \n",
       "14       [Rain, Rain, Rain, Rain, Rain, Clear, Clear]     15  \n",
       "15      [Rain, Rain, Rain, Rain, Rain, Clouds, Clear]     18  \n",
       "16       [Rain, Rain, Rain, Rain, Rain, Clear, Clear]     15  \n",
       "17  [Clouds, Rain, Clear, Clear, Rain, Clouds, Clear]     24  \n",
       "18  [Clouds, Clouds, Clear, Clear, Clouds, Clear, ...     27  \n",
       "19  [Rain, Clouds, Clouds, Clear, Clouds, Clear, C...     25  \n",
       "20  [Rain, Rain, Clouds, Clear, Clouds, Clear, Clear]     24  \n",
       "21  [Clouds, Rain, Clouds, Clear, Clouds, Clear, C...     26  \n",
       "22     [Rain, Rain, Clouds, Rain, Rain, Clear, Clear]     24  \n",
       "23       [Rain, Rain, Rain, Rain, Rain, Clear, Clear]     21  \n",
       "24       [Rain, Rain, Rain, Rain, Rain, Clear, Clear]     22  \n",
       "25       [Rain, Rain, Rain, Rain, Rain, Clear, Clear]     21  \n",
       "26       [Rain, Rain, Rain, Rain, Rain, Clear, Clear]     21  \n",
       "27  [Clear, Clouds, Rain, Clear, Clouds, Clear, Cl...     24  \n",
       "28       [Rain, Rain, Rain, Rain, Rain, Clear, Clear]     19  \n",
       "29       [Rain, Rain, Rain, Rain, Rain, Clear, Clear]     15  \n",
       "30       [Rain, Rain, Rain, Rain, Rain, Clear, Clear]     16  \n",
       "31       [Rain, Rain, Rain, Rain, Rain, Clear, Clear]     16  \n",
       "32        [Rain, Rain, Rain, Rain, Rain, Clear, Rain]     12  \n",
       "33        [Rain, Rain, Rain, Rain, Rain, Clear, Rain]     13  \n",
       "34      [Clouds, Rain, Rain, Rain, Rain, Clear, Rain]     13  "
      ]
     },
     "execution_count": 16,
     "metadata": {},
     "output_type": "execute_result"
    }
   ],
   "source": [
    "df_gps_weather\n"
   ]
  },
  {
   "cell_type": "code",
   "execution_count": 17,
   "metadata": {},
   "outputs": [
    {
     "name": "stdout",
     "output_type": "stream",
     "text": [
      "<class 'pandas.core.frame.DataFrame'>\n",
      "RangeIndex: 35 entries, 0 to 34\n",
      "Data columns (total 9 columns):\n",
      " #   Column                 Non-Null Count  Dtype \n",
      "---  ------                 --------------  ----- \n",
      " 0   id                     35 non-null     int64 \n",
      " 1   city                   35 non-null     object\n",
      " 2   lat                    35 non-null     object\n",
      " 3   lon                    35 non-null     object\n",
      " 4   jour_+x                35 non-null     object\n",
      " 5   temperature_ressentie  35 non-null     object\n",
      " 6   probabilite_de_pluie   35 non-null     object\n",
      " 7   meteo_principale       35 non-null     object\n",
      " 8   score                  35 non-null     int64 \n",
      "dtypes: int64(2), object(7)\n",
      "memory usage: 2.6+ KB\n"
     ]
    }
   ],
   "source": [
    "df_gps_weather.info()\n"
   ]
  },
  {
   "cell_type": "code",
   "execution_count": 18,
   "metadata": {},
   "outputs": [],
   "source": [
    "df_gps_weather[[\"lat\", \"lon\"]] = df_gps_weather[[\"lat\", \"lon\"]].astype(float)\n"
   ]
  },
  {
   "cell_type": "markdown",
   "metadata": {},
   "source": [
    "### List of cities where the weather will be the nicest within the next 7 days"
   ]
  },
  {
   "cell_type": "code",
   "execution_count": 19,
   "metadata": {},
   "outputs": [
    {
     "data": {
      "text/html": [
       "<div>\n",
       "<style scoped>\n",
       "    .dataframe tbody tr th:only-of-type {\n",
       "        vertical-align: middle;\n",
       "    }\n",
       "\n",
       "    .dataframe tbody tr th {\n",
       "        vertical-align: top;\n",
       "    }\n",
       "\n",
       "    .dataframe thead th {\n",
       "        text-align: right;\n",
       "    }\n",
       "</style>\n",
       "<table border=\"1\" class=\"dataframe\">\n",
       "  <thead>\n",
       "    <tr style=\"text-align: right;\">\n",
       "      <th></th>\n",
       "      <th>id</th>\n",
       "      <th>city</th>\n",
       "      <th>lat</th>\n",
       "      <th>lon</th>\n",
       "      <th>jour_+x</th>\n",
       "      <th>temperature_ressentie</th>\n",
       "      <th>probabilite_de_pluie</th>\n",
       "      <th>meteo_principale</th>\n",
       "      <th>score</th>\n",
       "    </tr>\n",
       "  </thead>\n",
       "  <tbody>\n",
       "    <tr>\n",
       "      <th>18</th>\n",
       "      <td>18</td>\n",
       "      <td>Bormes les Mimosas</td>\n",
       "      <td>43.157217</td>\n",
       "      <td>6.329254</td>\n",
       "      <td>[1, 2, 3, 4, 5, 6, 7]</td>\n",
       "      <td>[27, 28, 28, 28, 28, 27, 27]</td>\n",
       "      <td>[16, 7, 0, 0, 10, 0, 0]</td>\n",
       "      <td>[Clouds, Clouds, Clear, Clear, Clouds, Clear, ...</td>\n",
       "      <td>27</td>\n",
       "    </tr>\n",
       "    <tr>\n",
       "      <th>21</th>\n",
       "      <td>21</td>\n",
       "      <td>Aix en Provence</td>\n",
       "      <td>43.529842</td>\n",
       "      <td>5.447474</td>\n",
       "      <td>[1, 2, 3, 4, 5, 6, 7]</td>\n",
       "      <td>[28, 28, 28, 30, 27, 27, 29]</td>\n",
       "      <td>[47, 56, 0, 2, 10, 0, 0]</td>\n",
       "      <td>[Clouds, Rain, Clouds, Clear, Clouds, Clear, C...</td>\n",
       "      <td>26</td>\n",
       "    </tr>\n",
       "    <tr>\n",
       "      <th>19</th>\n",
       "      <td>19</td>\n",
       "      <td>Cassis</td>\n",
       "      <td>43.214036</td>\n",
       "      <td>5.539632</td>\n",
       "      <td>[1, 2, 3, 4, 5, 6, 7]</td>\n",
       "      <td>[26, 25, 27, 26, 26, 26, 27]</td>\n",
       "      <td>[31, 28, 0, 0, 7, 0, 0]</td>\n",
       "      <td>[Rain, Clouds, Clouds, Clear, Clouds, Clear, C...</td>\n",
       "      <td>25</td>\n",
       "    </tr>\n",
       "    <tr>\n",
       "      <th>17</th>\n",
       "      <td>17</td>\n",
       "      <td>Gorges du Verdon</td>\n",
       "      <td>43.846218</td>\n",
       "      <td>6.513181</td>\n",
       "      <td>[1, 2, 3, 4, 5, 6, 7]</td>\n",
       "      <td>[27, 25, 27, 27, 27, 26, 27]</td>\n",
       "      <td>[22, 46, 6, 6, 60, 35, 0]</td>\n",
       "      <td>[Clouds, Rain, Clear, Clear, Rain, Clouds, Clear]</td>\n",
       "      <td>24</td>\n",
       "    </tr>\n",
       "    <tr>\n",
       "      <th>22</th>\n",
       "      <td>22</td>\n",
       "      <td>Avignon</td>\n",
       "      <td>43.949249</td>\n",
       "      <td>4.805901</td>\n",
       "      <td>[1, 2, 3, 4, 5, 6, 7]</td>\n",
       "      <td>[31, 28, 30, 31, 26, 26, 29]</td>\n",
       "      <td>[87, 98, 27, 56, 56, 0, 0]</td>\n",
       "      <td>[Rain, Rain, Clouds, Rain, Rain, Clear, Clear]</td>\n",
       "      <td>24</td>\n",
       "    </tr>\n",
       "    <tr>\n",
       "      <th>20</th>\n",
       "      <td>20</td>\n",
       "      <td>Marseille</td>\n",
       "      <td>43.296174</td>\n",
       "      <td>5.369953</td>\n",
       "      <td>[1, 2, 3, 4, 5, 6, 7]</td>\n",
       "      <td>[26, 25, 27, 26, 26, 26, 27]</td>\n",
       "      <td>[36, 40, 0, 2, 10, 0, 0]</td>\n",
       "      <td>[Rain, Rain, Clouds, Clear, Clouds, Clear, Clear]</td>\n",
       "      <td>24</td>\n",
       "    </tr>\n",
       "    <tr>\n",
       "      <th>27</th>\n",
       "      <td>27</td>\n",
       "      <td>Collioure</td>\n",
       "      <td>42.525050</td>\n",
       "      <td>3.083155</td>\n",
       "      <td>[1, 2, 3, 4, 5, 6, 7]</td>\n",
       "      <td>[29, 26, 30, 25, 20, 26, 27]</td>\n",
       "      <td>[8, 23, 28, 21, 31, 0, 5]</td>\n",
       "      <td>[Clear, Clouds, Rain, Clear, Clouds, Clear, Cl...</td>\n",
       "      <td>24</td>\n",
       "    </tr>\n",
       "    <tr>\n",
       "      <th>24</th>\n",
       "      <td>24</td>\n",
       "      <td>Nimes</td>\n",
       "      <td>43.837425</td>\n",
       "      <td>4.360069</td>\n",
       "      <td>[1, 2, 3, 4, 5, 6, 7]</td>\n",
       "      <td>[29, 27, 29, 29, 25, 26, 29]</td>\n",
       "      <td>[85, 94, 56, 78, 59, 0, 0]</td>\n",
       "      <td>[Rain, Rain, Rain, Rain, Rain, Clear, Clear]</td>\n",
       "      <td>22</td>\n",
       "    </tr>\n",
       "    <tr>\n",
       "      <th>23</th>\n",
       "      <td>23</td>\n",
       "      <td>Uzes</td>\n",
       "      <td>44.012128</td>\n",
       "      <td>4.419672</td>\n",
       "      <td>[1, 2, 3, 4, 5, 6, 7]</td>\n",
       "      <td>[29, 27, 28, 29, 24, 26, 28]</td>\n",
       "      <td>[97, 97, 59, 88, 70, 0, 0]</td>\n",
       "      <td>[Rain, Rain, Rain, Rain, Rain, Clear, Clear]</td>\n",
       "      <td>21</td>\n",
       "    </tr>\n",
       "    <tr>\n",
       "      <th>25</th>\n",
       "      <td>25</td>\n",
       "      <td>Aigues Mortes</td>\n",
       "      <td>43.565823</td>\n",
       "      <td>4.191284</td>\n",
       "      <td>[1, 2, 3, 4, 5, 6, 7]</td>\n",
       "      <td>[26, 26, 26, 26, 25, 26, 26]</td>\n",
       "      <td>[65, 74, 50, 62, 44, 0, 0]</td>\n",
       "      <td>[Rain, Rain, Rain, Rain, Rain, Clear, Clear]</td>\n",
       "      <td>21</td>\n",
       "    </tr>\n",
       "    <tr>\n",
       "      <th>26</th>\n",
       "      <td>26</td>\n",
       "      <td>Saintes Maries de la mer</td>\n",
       "      <td>43.452277</td>\n",
       "      <td>4.428717</td>\n",
       "      <td>[1, 2, 3, 4, 5, 6, 7]</td>\n",
       "      <td>[24, 25, 25, 25, 24, 25, 25]</td>\n",
       "      <td>[53, 73, 33, 44, 38, 0, 0]</td>\n",
       "      <td>[Rain, Rain, Rain, Rain, Rain, Clear, Clear]</td>\n",
       "      <td>21</td>\n",
       "    </tr>\n",
       "    <tr>\n",
       "      <th>28</th>\n",
       "      <td>28</td>\n",
       "      <td>Carcassonne</td>\n",
       "      <td>43.213036</td>\n",
       "      <td>2.349107</td>\n",
       "      <td>[1, 2, 3, 4, 5, 6, 7]</td>\n",
       "      <td>[29, 24, 29, 23, 17, 23, 28]</td>\n",
       "      <td>[76, 76, 60, 82, 75, 0, 0]</td>\n",
       "      <td>[Rain, Rain, Rain, Rain, Rain, Clear, Clear]</td>\n",
       "      <td>19</td>\n",
       "    </tr>\n",
       "    <tr>\n",
       "      <th>15</th>\n",
       "      <td>15</td>\n",
       "      <td>Grenoble</td>\n",
       "      <td>45.187560</td>\n",
       "      <td>5.735782</td>\n",
       "      <td>[1, 2, 3, 4, 5, 6, 7]</td>\n",
       "      <td>[30, 21, 28, 28, 18, 23, 28]</td>\n",
       "      <td>[84, 100, 47, 92, 100, 19, 0]</td>\n",
       "      <td>[Rain, Rain, Rain, Rain, Rain, Clouds, Clear]</td>\n",
       "      <td>18</td>\n",
       "    </tr>\n",
       "    <tr>\n",
       "      <th>8</th>\n",
       "      <td>8</td>\n",
       "      <td>Strasbourg</td>\n",
       "      <td>48.584614</td>\n",
       "      <td>7.750713</td>\n",
       "      <td>[1, 2, 3, 4, 5, 6, 7]</td>\n",
       "      <td>[28, 22, 26, 24, 16, 20, 24]</td>\n",
       "      <td>[96, 100, 11, 84, 100, 35, 0]</td>\n",
       "      <td>[Rain, Rain, Clear, Rain, Rain, Rain, Clear]</td>\n",
       "      <td>16</td>\n",
       "    </tr>\n",
       "    <tr>\n",
       "      <th>10</th>\n",
       "      <td>10</td>\n",
       "      <td>Colmar</td>\n",
       "      <td>48.077752</td>\n",
       "      <td>7.357964</td>\n",
       "      <td>[1, 2, 3, 4, 5, 6, 7]</td>\n",
       "      <td>[29, 24, 26, 21, 16, 20, 24]</td>\n",
       "      <td>[99, 100, 28, 100, 100, 44, 0]</td>\n",
       "      <td>[Rain, Rain, Rain, Rain, Rain, Rain, Clear]</td>\n",
       "      <td>16</td>\n",
       "    </tr>\n",
       "    <tr>\n",
       "      <th>30</th>\n",
       "      <td>30</td>\n",
       "      <td>Toulouse</td>\n",
       "      <td>43.604462</td>\n",
       "      <td>1.444247</td>\n",
       "      <td>[1, 2, 3, 4, 5, 6, 7]</td>\n",
       "      <td>[28, 22, 27, 18, 13, 22, 26]</td>\n",
       "      <td>[85, 87, 54, 92, 100, 0, 0]</td>\n",
       "      <td>[Rain, Rain, Rain, Rain, Rain, Clear, Clear]</td>\n",
       "      <td>16</td>\n",
       "    </tr>\n",
       "    <tr>\n",
       "      <th>5</th>\n",
       "      <td>5</td>\n",
       "      <td>Paris</td>\n",
       "      <td>48.858890</td>\n",
       "      <td>2.320041</td>\n",
       "      <td>[1, 2, 3, 4, 5, 6, 7]</td>\n",
       "      <td>[26, 20, 21, 20, 21, 22, 25]</td>\n",
       "      <td>[60, 100, 100, 8, 100, 9, 20]</td>\n",
       "      <td>[Rain, Rain, Rain, Clouds, Rain, Clear, Rain]</td>\n",
       "      <td>16</td>\n",
       "    </tr>\n",
       "    <tr>\n",
       "      <th>31</th>\n",
       "      <td>31</td>\n",
       "      <td>Montauban</td>\n",
       "      <td>44.017584</td>\n",
       "      <td>1.354999</td>\n",
       "      <td>[1, 2, 3, 4, 5, 6, 7]</td>\n",
       "      <td>[28, 22, 26, 18, 13, 21, 26]</td>\n",
       "      <td>[90, 87, 46, 96, 80, 0, 0]</td>\n",
       "      <td>[Rain, Rain, Rain, Rain, Rain, Clear, Clear]</td>\n",
       "      <td>16</td>\n",
       "    </tr>\n",
       "    <tr>\n",
       "      <th>11</th>\n",
       "      <td>11</td>\n",
       "      <td>Eguisheim</td>\n",
       "      <td>48.044797</td>\n",
       "      <td>7.307962</td>\n",
       "      <td>[1, 2, 3, 4, 5, 6, 7]</td>\n",
       "      <td>[29, 24, 26, 20, 16, 20, 24]</td>\n",
       "      <td>[100, 100, 34, 100, 100, 42, 0]</td>\n",
       "      <td>[Rain, Rain, Rain, Rain, Rain, Rain, Clear]</td>\n",
       "      <td>15</td>\n",
       "    </tr>\n",
       "    <tr>\n",
       "      <th>14</th>\n",
       "      <td>14</td>\n",
       "      <td>Annecy</td>\n",
       "      <td>45.899235</td>\n",
       "      <td>6.128885</td>\n",
       "      <td>[1, 2, 3, 4, 5, 6, 7]</td>\n",
       "      <td>[28, 16, 26, 26, 18, 21, 26]</td>\n",
       "      <td>[98, 100, 96, 98, 100, 50, 0]</td>\n",
       "      <td>[Rain, Rain, Rain, Rain, Rain, Clear, Clear]</td>\n",
       "      <td>15</td>\n",
       "    </tr>\n",
       "    <tr>\n",
       "      <th>16</th>\n",
       "      <td>16</td>\n",
       "      <td>Lyon</td>\n",
       "      <td>45.757814</td>\n",
       "      <td>4.832011</td>\n",
       "      <td>[1, 2, 3, 4, 5, 6, 7]</td>\n",
       "      <td>[29, 18, 27, 19, 15, 21, 26]</td>\n",
       "      <td>[100, 100, 87, 100, 100, 7, 0]</td>\n",
       "      <td>[Rain, Rain, Rain, Rain, Rain, Clear, Clear]</td>\n",
       "      <td>15</td>\n",
       "    </tr>\n",
       "    <tr>\n",
       "      <th>29</th>\n",
       "      <td>29</td>\n",
       "      <td>Ariege</td>\n",
       "      <td>42.963900</td>\n",
       "      <td>1.605381</td>\n",
       "      <td>[1, 2, 3, 4, 5, 6, 7]</td>\n",
       "      <td>[28, 20, 26, 15, 12, 22, 27]</td>\n",
       "      <td>[78, 78, 73, 84, 96, 0, 3]</td>\n",
       "      <td>[Rain, Rain, Rain, Rain, Rain, Clear, Clear]</td>\n",
       "      <td>15</td>\n",
       "    </tr>\n",
       "    <tr>\n",
       "      <th>4</th>\n",
       "      <td>4</td>\n",
       "      <td>Rouen</td>\n",
       "      <td>49.440459</td>\n",
       "      <td>1.093966</td>\n",
       "      <td>[1, 2, 3, 4, 5, 6, 7]</td>\n",
       "      <td>[26, 20, 15, 19, 19, 21, 23]</td>\n",
       "      <td>[54, 100, 100, 53, 39, 0, 45]</td>\n",
       "      <td>[Rain, Rain, Rain, Rain, Rain, Clouds, Rain]</td>\n",
       "      <td>14</td>\n",
       "    </tr>\n",
       "    <tr>\n",
       "      <th>33</th>\n",
       "      <td>33</td>\n",
       "      <td>Bayonne</td>\n",
       "      <td>43.493338</td>\n",
       "      <td>-1.475099</td>\n",
       "      <td>[1, 2, 3, 4, 5, 6, 7]</td>\n",
       "      <td>[22, 20, 19, 15, 18, 22, 21]</td>\n",
       "      <td>[79, 77, 100, 88, 69, 0, 40]</td>\n",
       "      <td>[Rain, Rain, Rain, Rain, Rain, Clear, Rain]</td>\n",
       "      <td>13</td>\n",
       "    </tr>\n",
       "    <tr>\n",
       "      <th>0</th>\n",
       "      <td>0</td>\n",
       "      <td>Mont Saint Michel</td>\n",
       "      <td>48.635954</td>\n",
       "      <td>-1.511460</td>\n",
       "      <td>[1, 2, 3, 4, 5, 6, 7]</td>\n",
       "      <td>[23, 19, 17, 18, 17, 22, 16]</td>\n",
       "      <td>[93, 85, 69, 20, 12, 0, 93]</td>\n",
       "      <td>[Rain, Rain, Rain, Rain, Clear, Clouds, Rain]</td>\n",
       "      <td>13</td>\n",
       "    </tr>\n",
       "    <tr>\n",
       "      <th>13</th>\n",
       "      <td>13</td>\n",
       "      <td>Dijon</td>\n",
       "      <td>47.321581</td>\n",
       "      <td>5.041470</td>\n",
       "      <td>[1, 2, 3, 4, 5, 6, 7]</td>\n",
       "      <td>[27, 18, 26, 13, 16, 21, 24]</td>\n",
       "      <td>[94, 100, 100, 100, 100, 4, 0]</td>\n",
       "      <td>[Rain, Rain, Rain, Rain, Rain, Clear, Clear]</td>\n",
       "      <td>13</td>\n",
       "    </tr>\n",
       "    <tr>\n",
       "      <th>12</th>\n",
       "      <td>12</td>\n",
       "      <td>Besancon</td>\n",
       "      <td>47.238022</td>\n",
       "      <td>6.024362</td>\n",
       "      <td>[1, 2, 3, 4, 5, 6, 7]</td>\n",
       "      <td>[27, 18, 26, 18, 14, 21, 24]</td>\n",
       "      <td>[100, 100, 100, 100, 100, 18, 0]</td>\n",
       "      <td>[Rain, Rain, Rain, Rain, Rain, Clouds, Clear]</td>\n",
       "      <td>13</td>\n",
       "    </tr>\n",
       "    <tr>\n",
       "      <th>9</th>\n",
       "      <td>9</td>\n",
       "      <td>Chateau du Haut Koenigsbourg</td>\n",
       "      <td>48.249523</td>\n",
       "      <td>7.345492</td>\n",
       "      <td>[1, 2, 3, 4, 5, 6, 7]</td>\n",
       "      <td>[27, 20, 22, 17, 13, 17, 21]</td>\n",
       "      <td>[98, 100, 26, 100, 100, 34, 0]</td>\n",
       "      <td>[Rain, Rain, Rain, Rain, Rain, Rain, Clear]</td>\n",
       "      <td>13</td>\n",
       "    </tr>\n",
       "    <tr>\n",
       "      <th>7</th>\n",
       "      <td>7</td>\n",
       "      <td>Lille</td>\n",
       "      <td>50.636565</td>\n",
       "      <td>3.063528</td>\n",
       "      <td>[1, 2, 3, 4, 5, 6, 7]</td>\n",
       "      <td>[23, 18, 17, 19, 17, 20, 24]</td>\n",
       "      <td>[93, 96, 100, 27, 100, 16, 14]</td>\n",
       "      <td>[Rain, Rain, Rain, Clouds, Rain, Clear, Clouds]</td>\n",
       "      <td>13</td>\n",
       "    </tr>\n",
       "    <tr>\n",
       "      <th>6</th>\n",
       "      <td>6</td>\n",
       "      <td>Amiens</td>\n",
       "      <td>49.894171</td>\n",
       "      <td>2.295695</td>\n",
       "      <td>[1, 2, 3, 4, 5, 6, 7]</td>\n",
       "      <td>[23, 18, 16, 20, 19, 20, 24]</td>\n",
       "      <td>[92, 100, 100, 4, 95, 4, 35]</td>\n",
       "      <td>[Rain, Rain, Rain, Clouds, Rain, Clouds, Rain]</td>\n",
       "      <td>13</td>\n",
       "    </tr>\n",
       "    <tr>\n",
       "      <th>34</th>\n",
       "      <td>34</td>\n",
       "      <td>La Rochelle</td>\n",
       "      <td>46.159113</td>\n",
       "      <td>-1.152043</td>\n",
       "      <td>[1, 2, 3, 4, 5, 6, 7]</td>\n",
       "      <td>[21, 19, 17, 17, 17, 18, 20]</td>\n",
       "      <td>[30, 100, 100, 39, 68, 0, 28]</td>\n",
       "      <td>[Clouds, Rain, Rain, Rain, Rain, Clear, Rain]</td>\n",
       "      <td>13</td>\n",
       "    </tr>\n",
       "    <tr>\n",
       "      <th>1</th>\n",
       "      <td>1</td>\n",
       "      <td>St Malo</td>\n",
       "      <td>48.649518</td>\n",
       "      <td>-2.026041</td>\n",
       "      <td>[1, 2, 3, 4, 5, 6, 7]</td>\n",
       "      <td>[20, 18, 16, 17, 15, 20, 18]</td>\n",
       "      <td>[88, 81, 67, 33, 36, 0, 90]</td>\n",
       "      <td>[Rain, Rain, Rain, Rain, Rain, Clouds, Rain]</td>\n",
       "      <td>12</td>\n",
       "    </tr>\n",
       "    <tr>\n",
       "      <th>32</th>\n",
       "      <td>32</td>\n",
       "      <td>Biarritz</td>\n",
       "      <td>43.483252</td>\n",
       "      <td>-1.559278</td>\n",
       "      <td>[1, 2, 3, 4, 5, 6, 7]</td>\n",
       "      <td>[21, 20, 19, 15, 18, 21, 20]</td>\n",
       "      <td>[82, 76, 100, 88, 67, 0, 39]</td>\n",
       "      <td>[Rain, Rain, Rain, Rain, Rain, Clear, Rain]</td>\n",
       "      <td>12</td>\n",
       "    </tr>\n",
       "    <tr>\n",
       "      <th>2</th>\n",
       "      <td>2</td>\n",
       "      <td>Bayeux</td>\n",
       "      <td>49.276462</td>\n",
       "      <td>-0.702474</td>\n",
       "      <td>[1, 2, 3, 4, 5, 6, 7]</td>\n",
       "      <td>[24, 18, 15, 18, 17, 21, 15]</td>\n",
       "      <td>[56, 82, 96, 39, 37, 0, 96]</td>\n",
       "      <td>[Rain, Rain, Rain, Rain, Rain, Clouds, Rain]</td>\n",
       "      <td>12</td>\n",
       "    </tr>\n",
       "    <tr>\n",
       "      <th>3</th>\n",
       "      <td>3</td>\n",
       "      <td>Le Havre</td>\n",
       "      <td>49.493898</td>\n",
       "      <td>0.107973</td>\n",
       "      <td>[1, 2, 3, 4, 5, 6, 7]</td>\n",
       "      <td>[19, 18, 14, 16, 15, 18, 19]</td>\n",
       "      <td>[74, 86, 100, 34, 36, 0, 98]</td>\n",
       "      <td>[Rain, Rain, Rain, Rain, Rain, Clouds, Rain]</td>\n",
       "      <td>10</td>\n",
       "    </tr>\n",
       "  </tbody>\n",
       "</table>\n",
       "</div>"
      ],
      "text/plain": [
       "    id                          city        lat       lon  \\\n",
       "18  18            Bormes les Mimosas  43.157217  6.329254   \n",
       "21  21               Aix en Provence  43.529842  5.447474   \n",
       "19  19                        Cassis  43.214036  5.539632   \n",
       "17  17              Gorges du Verdon  43.846218  6.513181   \n",
       "22  22                       Avignon  43.949249  4.805901   \n",
       "20  20                     Marseille  43.296174  5.369953   \n",
       "27  27                     Collioure  42.525050  3.083155   \n",
       "24  24                         Nimes  43.837425  4.360069   \n",
       "23  23                          Uzes  44.012128  4.419672   \n",
       "25  25                 Aigues Mortes  43.565823  4.191284   \n",
       "26  26      Saintes Maries de la mer  43.452277  4.428717   \n",
       "28  28                   Carcassonne  43.213036  2.349107   \n",
       "15  15                      Grenoble  45.187560  5.735782   \n",
       "8    8                    Strasbourg  48.584614  7.750713   \n",
       "10  10                        Colmar  48.077752  7.357964   \n",
       "30  30                      Toulouse  43.604462  1.444247   \n",
       "5    5                         Paris  48.858890  2.320041   \n",
       "31  31                     Montauban  44.017584  1.354999   \n",
       "11  11                     Eguisheim  48.044797  7.307962   \n",
       "14  14                        Annecy  45.899235  6.128885   \n",
       "16  16                          Lyon  45.757814  4.832011   \n",
       "29  29                        Ariege  42.963900  1.605381   \n",
       "4    4                         Rouen  49.440459  1.093966   \n",
       "33  33                       Bayonne  43.493338 -1.475099   \n",
       "0    0             Mont Saint Michel  48.635954 -1.511460   \n",
       "13  13                         Dijon  47.321581  5.041470   \n",
       "12  12                      Besancon  47.238022  6.024362   \n",
       "9    9  Chateau du Haut Koenigsbourg  48.249523  7.345492   \n",
       "7    7                         Lille  50.636565  3.063528   \n",
       "6    6                        Amiens  49.894171  2.295695   \n",
       "34  34                   La Rochelle  46.159113 -1.152043   \n",
       "1    1                       St Malo  48.649518 -2.026041   \n",
       "32  32                      Biarritz  43.483252 -1.559278   \n",
       "2    2                        Bayeux  49.276462 -0.702474   \n",
       "3    3                      Le Havre  49.493898  0.107973   \n",
       "\n",
       "                  jour_+x         temperature_ressentie  \\\n",
       "18  [1, 2, 3, 4, 5, 6, 7]  [27, 28, 28, 28, 28, 27, 27]   \n",
       "21  [1, 2, 3, 4, 5, 6, 7]  [28, 28, 28, 30, 27, 27, 29]   \n",
       "19  [1, 2, 3, 4, 5, 6, 7]  [26, 25, 27, 26, 26, 26, 27]   \n",
       "17  [1, 2, 3, 4, 5, 6, 7]  [27, 25, 27, 27, 27, 26, 27]   \n",
       "22  [1, 2, 3, 4, 5, 6, 7]  [31, 28, 30, 31, 26, 26, 29]   \n",
       "20  [1, 2, 3, 4, 5, 6, 7]  [26, 25, 27, 26, 26, 26, 27]   \n",
       "27  [1, 2, 3, 4, 5, 6, 7]  [29, 26, 30, 25, 20, 26, 27]   \n",
       "24  [1, 2, 3, 4, 5, 6, 7]  [29, 27, 29, 29, 25, 26, 29]   \n",
       "23  [1, 2, 3, 4, 5, 6, 7]  [29, 27, 28, 29, 24, 26, 28]   \n",
       "25  [1, 2, 3, 4, 5, 6, 7]  [26, 26, 26, 26, 25, 26, 26]   \n",
       "26  [1, 2, 3, 4, 5, 6, 7]  [24, 25, 25, 25, 24, 25, 25]   \n",
       "28  [1, 2, 3, 4, 5, 6, 7]  [29, 24, 29, 23, 17, 23, 28]   \n",
       "15  [1, 2, 3, 4, 5, 6, 7]  [30, 21, 28, 28, 18, 23, 28]   \n",
       "8   [1, 2, 3, 4, 5, 6, 7]  [28, 22, 26, 24, 16, 20, 24]   \n",
       "10  [1, 2, 3, 4, 5, 6, 7]  [29, 24, 26, 21, 16, 20, 24]   \n",
       "30  [1, 2, 3, 4, 5, 6, 7]  [28, 22, 27, 18, 13, 22, 26]   \n",
       "5   [1, 2, 3, 4, 5, 6, 7]  [26, 20, 21, 20, 21, 22, 25]   \n",
       "31  [1, 2, 3, 4, 5, 6, 7]  [28, 22, 26, 18, 13, 21, 26]   \n",
       "11  [1, 2, 3, 4, 5, 6, 7]  [29, 24, 26, 20, 16, 20, 24]   \n",
       "14  [1, 2, 3, 4, 5, 6, 7]  [28, 16, 26, 26, 18, 21, 26]   \n",
       "16  [1, 2, 3, 4, 5, 6, 7]  [29, 18, 27, 19, 15, 21, 26]   \n",
       "29  [1, 2, 3, 4, 5, 6, 7]  [28, 20, 26, 15, 12, 22, 27]   \n",
       "4   [1, 2, 3, 4, 5, 6, 7]  [26, 20, 15, 19, 19, 21, 23]   \n",
       "33  [1, 2, 3, 4, 5, 6, 7]  [22, 20, 19, 15, 18, 22, 21]   \n",
       "0   [1, 2, 3, 4, 5, 6, 7]  [23, 19, 17, 18, 17, 22, 16]   \n",
       "13  [1, 2, 3, 4, 5, 6, 7]  [27, 18, 26, 13, 16, 21, 24]   \n",
       "12  [1, 2, 3, 4, 5, 6, 7]  [27, 18, 26, 18, 14, 21, 24]   \n",
       "9   [1, 2, 3, 4, 5, 6, 7]  [27, 20, 22, 17, 13, 17, 21]   \n",
       "7   [1, 2, 3, 4, 5, 6, 7]  [23, 18, 17, 19, 17, 20, 24]   \n",
       "6   [1, 2, 3, 4, 5, 6, 7]  [23, 18, 16, 20, 19, 20, 24]   \n",
       "34  [1, 2, 3, 4, 5, 6, 7]  [21, 19, 17, 17, 17, 18, 20]   \n",
       "1   [1, 2, 3, 4, 5, 6, 7]  [20, 18, 16, 17, 15, 20, 18]   \n",
       "32  [1, 2, 3, 4, 5, 6, 7]  [21, 20, 19, 15, 18, 21, 20]   \n",
       "2   [1, 2, 3, 4, 5, 6, 7]  [24, 18, 15, 18, 17, 21, 15]   \n",
       "3   [1, 2, 3, 4, 5, 6, 7]  [19, 18, 14, 16, 15, 18, 19]   \n",
       "\n",
       "                probabilite_de_pluie  \\\n",
       "18           [16, 7, 0, 0, 10, 0, 0]   \n",
       "21          [47, 56, 0, 2, 10, 0, 0]   \n",
       "19           [31, 28, 0, 0, 7, 0, 0]   \n",
       "17         [22, 46, 6, 6, 60, 35, 0]   \n",
       "22        [87, 98, 27, 56, 56, 0, 0]   \n",
       "20          [36, 40, 0, 2, 10, 0, 0]   \n",
       "27         [8, 23, 28, 21, 31, 0, 5]   \n",
       "24        [85, 94, 56, 78, 59, 0, 0]   \n",
       "23        [97, 97, 59, 88, 70, 0, 0]   \n",
       "25        [65, 74, 50, 62, 44, 0, 0]   \n",
       "26        [53, 73, 33, 44, 38, 0, 0]   \n",
       "28        [76, 76, 60, 82, 75, 0, 0]   \n",
       "15     [84, 100, 47, 92, 100, 19, 0]   \n",
       "8      [96, 100, 11, 84, 100, 35, 0]   \n",
       "10    [99, 100, 28, 100, 100, 44, 0]   \n",
       "30       [85, 87, 54, 92, 100, 0, 0]   \n",
       "5      [60, 100, 100, 8, 100, 9, 20]   \n",
       "31        [90, 87, 46, 96, 80, 0, 0]   \n",
       "11   [100, 100, 34, 100, 100, 42, 0]   \n",
       "14     [98, 100, 96, 98, 100, 50, 0]   \n",
       "16    [100, 100, 87, 100, 100, 7, 0]   \n",
       "29        [78, 78, 73, 84, 96, 0, 3]   \n",
       "4      [54, 100, 100, 53, 39, 0, 45]   \n",
       "33      [79, 77, 100, 88, 69, 0, 40]   \n",
       "0        [93, 85, 69, 20, 12, 0, 93]   \n",
       "13    [94, 100, 100, 100, 100, 4, 0]   \n",
       "12  [100, 100, 100, 100, 100, 18, 0]   \n",
       "9     [98, 100, 26, 100, 100, 34, 0]   \n",
       "7     [93, 96, 100, 27, 100, 16, 14]   \n",
       "6       [92, 100, 100, 4, 95, 4, 35]   \n",
       "34     [30, 100, 100, 39, 68, 0, 28]   \n",
       "1        [88, 81, 67, 33, 36, 0, 90]   \n",
       "32      [82, 76, 100, 88, 67, 0, 39]   \n",
       "2        [56, 82, 96, 39, 37, 0, 96]   \n",
       "3       [74, 86, 100, 34, 36, 0, 98]   \n",
       "\n",
       "                                     meteo_principale  score  \n",
       "18  [Clouds, Clouds, Clear, Clear, Clouds, Clear, ...     27  \n",
       "21  [Clouds, Rain, Clouds, Clear, Clouds, Clear, C...     26  \n",
       "19  [Rain, Clouds, Clouds, Clear, Clouds, Clear, C...     25  \n",
       "17  [Clouds, Rain, Clear, Clear, Rain, Clouds, Clear]     24  \n",
       "22     [Rain, Rain, Clouds, Rain, Rain, Clear, Clear]     24  \n",
       "20  [Rain, Rain, Clouds, Clear, Clouds, Clear, Clear]     24  \n",
       "27  [Clear, Clouds, Rain, Clear, Clouds, Clear, Cl...     24  \n",
       "24       [Rain, Rain, Rain, Rain, Rain, Clear, Clear]     22  \n",
       "23       [Rain, Rain, Rain, Rain, Rain, Clear, Clear]     21  \n",
       "25       [Rain, Rain, Rain, Rain, Rain, Clear, Clear]     21  \n",
       "26       [Rain, Rain, Rain, Rain, Rain, Clear, Clear]     21  \n",
       "28       [Rain, Rain, Rain, Rain, Rain, Clear, Clear]     19  \n",
       "15      [Rain, Rain, Rain, Rain, Rain, Clouds, Clear]     18  \n",
       "8        [Rain, Rain, Clear, Rain, Rain, Rain, Clear]     16  \n",
       "10        [Rain, Rain, Rain, Rain, Rain, Rain, Clear]     16  \n",
       "30       [Rain, Rain, Rain, Rain, Rain, Clear, Clear]     16  \n",
       "5       [Rain, Rain, Rain, Clouds, Rain, Clear, Rain]     16  \n",
       "31       [Rain, Rain, Rain, Rain, Rain, Clear, Clear]     16  \n",
       "11        [Rain, Rain, Rain, Rain, Rain, Rain, Clear]     15  \n",
       "14       [Rain, Rain, Rain, Rain, Rain, Clear, Clear]     15  \n",
       "16       [Rain, Rain, Rain, Rain, Rain, Clear, Clear]     15  \n",
       "29       [Rain, Rain, Rain, Rain, Rain, Clear, Clear]     15  \n",
       "4        [Rain, Rain, Rain, Rain, Rain, Clouds, Rain]     14  \n",
       "33        [Rain, Rain, Rain, Rain, Rain, Clear, Rain]     13  \n",
       "0       [Rain, Rain, Rain, Rain, Clear, Clouds, Rain]     13  \n",
       "13       [Rain, Rain, Rain, Rain, Rain, Clear, Clear]     13  \n",
       "12      [Rain, Rain, Rain, Rain, Rain, Clouds, Clear]     13  \n",
       "9         [Rain, Rain, Rain, Rain, Rain, Rain, Clear]     13  \n",
       "7     [Rain, Rain, Rain, Clouds, Rain, Clear, Clouds]     13  \n",
       "6      [Rain, Rain, Rain, Clouds, Rain, Clouds, Rain]     13  \n",
       "34      [Clouds, Rain, Rain, Rain, Rain, Clear, Rain]     13  \n",
       "1        [Rain, Rain, Rain, Rain, Rain, Clouds, Rain]     12  \n",
       "32        [Rain, Rain, Rain, Rain, Rain, Clear, Rain]     12  \n",
       "2        [Rain, Rain, Rain, Rain, Rain, Clouds, Rain]     12  \n",
       "3        [Rain, Rain, Rain, Rain, Rain, Clouds, Rain]     10  "
      ]
     },
     "execution_count": 19,
     "metadata": {},
     "output_type": "execute_result"
    }
   ],
   "source": [
    "df_gps_weather.sort_values(by=[\"score\"], ascending=False)\n"
   ]
  },
  {
   "cell_type": "markdown",
   "metadata": {},
   "source": [
    "### Save all the results in a `.csv` file"
   ]
  },
  {
   "cell_type": "code",
   "execution_count": 20,
   "metadata": {},
   "outputs": [],
   "source": [
    "df_gps_weather.to_csv(\"df_gps_weather.csv\", index=False)\n"
   ]
  },
  {
   "cell_type": "markdown",
   "metadata": {},
   "source": [
    "### Plotly to display the best destinations on a map"
   ]
  },
  {
   "cell_type": "code",
   "execution_count": 21,
   "metadata": {},
   "outputs": [
    {
     "data": {
      "application/vnd.plotly.v1+json": {
       "config": {
        "plotlyServerURL": "https://plot.ly"
       },
       "data": [
        {
         "customdata": [
          [
           "Rain",
           93,
           23
          ],
          [
           "Rain",
           85,
           19
          ],
          [
           "Rain",
           69,
           17
          ],
          [
           "Rain",
           20,
           18
          ],
          [
           "Clear",
           12,
           17
          ],
          [
           "Clouds",
           0,
           22
          ],
          [
           "Rain",
           93,
           16
          ],
          [
           "Rain",
           88,
           20
          ],
          [
           "Rain",
           81,
           18
          ],
          [
           "Rain",
           67,
           16
          ],
          [
           "Rain",
           33,
           17
          ],
          [
           "Rain",
           36,
           15
          ],
          [
           "Clouds",
           0,
           20
          ],
          [
           "Rain",
           90,
           18
          ],
          [
           "Rain",
           56,
           24
          ],
          [
           "Rain",
           82,
           18
          ],
          [
           "Rain",
           96,
           15
          ],
          [
           "Rain",
           39,
           18
          ],
          [
           "Rain",
           37,
           17
          ],
          [
           "Clouds",
           0,
           21
          ],
          [
           "Rain",
           96,
           15
          ],
          [
           "Rain",
           74,
           19
          ],
          [
           "Rain",
           86,
           18
          ],
          [
           "Rain",
           100,
           14
          ],
          [
           "Rain",
           34,
           16
          ],
          [
           "Rain",
           36,
           15
          ],
          [
           "Clouds",
           0,
           18
          ],
          [
           "Rain",
           98,
           19
          ],
          [
           "Rain",
           54,
           26
          ],
          [
           "Rain",
           100,
           20
          ],
          [
           "Rain",
           100,
           15
          ],
          [
           "Rain",
           53,
           19
          ],
          [
           "Rain",
           39,
           19
          ],
          [
           "Clouds",
           0,
           21
          ],
          [
           "Rain",
           45,
           23
          ],
          [
           "Rain",
           60,
           26
          ],
          [
           "Rain",
           100,
           20
          ],
          [
           "Rain",
           100,
           21
          ],
          [
           "Clouds",
           8,
           20
          ],
          [
           "Rain",
           100,
           21
          ],
          [
           "Clear",
           9,
           22
          ],
          [
           "Rain",
           20,
           25
          ],
          [
           "Rain",
           92,
           23
          ],
          [
           "Rain",
           100,
           18
          ],
          [
           "Rain",
           100,
           16
          ],
          [
           "Clouds",
           4,
           20
          ],
          [
           "Rain",
           95,
           19
          ],
          [
           "Clouds",
           4,
           20
          ],
          [
           "Rain",
           35,
           24
          ],
          [
           "Rain",
           93,
           23
          ],
          [
           "Rain",
           96,
           18
          ],
          [
           "Rain",
           100,
           17
          ],
          [
           "Clouds",
           27,
           19
          ],
          [
           "Rain",
           100,
           17
          ],
          [
           "Clear",
           16,
           20
          ],
          [
           "Clouds",
           14,
           24
          ],
          [
           "Rain",
           96,
           28
          ],
          [
           "Rain",
           100,
           22
          ],
          [
           "Clear",
           11,
           26
          ],
          [
           "Rain",
           84,
           24
          ],
          [
           "Rain",
           100,
           16
          ],
          [
           "Rain",
           35,
           20
          ],
          [
           "Clear",
           0,
           24
          ],
          [
           "Rain",
           98,
           27
          ],
          [
           "Rain",
           100,
           20
          ],
          [
           "Rain",
           26,
           22
          ],
          [
           "Rain",
           100,
           17
          ],
          [
           "Rain",
           100,
           13
          ],
          [
           "Rain",
           34,
           17
          ],
          [
           "Clear",
           0,
           21
          ],
          [
           "Rain",
           99,
           29
          ],
          [
           "Rain",
           100,
           24
          ],
          [
           "Rain",
           28,
           26
          ],
          [
           "Rain",
           100,
           21
          ],
          [
           "Rain",
           100,
           16
          ],
          [
           "Rain",
           44,
           20
          ],
          [
           "Clear",
           0,
           24
          ],
          [
           "Rain",
           100,
           29
          ],
          [
           "Rain",
           100,
           24
          ],
          [
           "Rain",
           34,
           26
          ],
          [
           "Rain",
           100,
           20
          ],
          [
           "Rain",
           100,
           16
          ],
          [
           "Rain",
           42,
           20
          ],
          [
           "Clear",
           0,
           24
          ],
          [
           "Rain",
           100,
           27
          ],
          [
           "Rain",
           100,
           18
          ],
          [
           "Rain",
           100,
           26
          ],
          [
           "Rain",
           100,
           18
          ],
          [
           "Rain",
           100,
           14
          ],
          [
           "Clouds",
           18,
           21
          ],
          [
           "Clear",
           0,
           24
          ],
          [
           "Rain",
           94,
           27
          ],
          [
           "Rain",
           100,
           18
          ],
          [
           "Rain",
           100,
           26
          ],
          [
           "Rain",
           100,
           13
          ],
          [
           "Rain",
           100,
           16
          ],
          [
           "Clear",
           4,
           21
          ],
          [
           "Clear",
           0,
           24
          ],
          [
           "Rain",
           98,
           28
          ],
          [
           "Rain",
           100,
           16
          ],
          [
           "Rain",
           96,
           26
          ],
          [
           "Rain",
           98,
           26
          ],
          [
           "Rain",
           100,
           18
          ],
          [
           "Clear",
           50,
           21
          ],
          [
           "Clear",
           0,
           26
          ],
          [
           "Rain",
           84,
           30
          ],
          [
           "Rain",
           100,
           21
          ],
          [
           "Rain",
           47,
           28
          ],
          [
           "Rain",
           92,
           28
          ],
          [
           "Rain",
           100,
           18
          ],
          [
           "Clouds",
           19,
           23
          ],
          [
           "Clear",
           0,
           28
          ],
          [
           "Rain",
           100,
           29
          ],
          [
           "Rain",
           100,
           18
          ],
          [
           "Rain",
           87,
           27
          ],
          [
           "Rain",
           100,
           19
          ],
          [
           "Rain",
           100,
           15
          ],
          [
           "Clear",
           7,
           21
          ],
          [
           "Clear",
           0,
           26
          ],
          [
           "Clouds",
           22,
           27
          ],
          [
           "Rain",
           46,
           25
          ],
          [
           "Clear",
           6,
           27
          ],
          [
           "Clear",
           6,
           27
          ],
          [
           "Rain",
           60,
           27
          ],
          [
           "Clouds",
           35,
           26
          ],
          [
           "Clear",
           0,
           27
          ],
          [
           "Clouds",
           16,
           27
          ],
          [
           "Clouds",
           7,
           28
          ],
          [
           "Clear",
           0,
           28
          ],
          [
           "Clear",
           0,
           28
          ],
          [
           "Clouds",
           10,
           28
          ],
          [
           "Clear",
           0,
           27
          ],
          [
           "Clear",
           0,
           27
          ],
          [
           "Rain",
           31,
           26
          ],
          [
           "Clouds",
           28,
           25
          ],
          [
           "Clouds",
           0,
           27
          ],
          [
           "Clear",
           0,
           26
          ],
          [
           "Clouds",
           7,
           26
          ],
          [
           "Clear",
           0,
           26
          ],
          [
           "Clear",
           0,
           27
          ],
          [
           "Rain",
           36,
           26
          ],
          [
           "Rain",
           40,
           25
          ],
          [
           "Clouds",
           0,
           27
          ],
          [
           "Clear",
           2,
           26
          ],
          [
           "Clouds",
           10,
           26
          ],
          [
           "Clear",
           0,
           26
          ],
          [
           "Clear",
           0,
           27
          ],
          [
           "Clouds",
           47,
           28
          ],
          [
           "Rain",
           56,
           28
          ],
          [
           "Clouds",
           0,
           28
          ],
          [
           "Clear",
           2,
           30
          ],
          [
           "Clouds",
           10,
           27
          ],
          [
           "Clear",
           0,
           27
          ],
          [
           "Clear",
           0,
           29
          ],
          [
           "Rain",
           87,
           31
          ],
          [
           "Rain",
           98,
           28
          ],
          [
           "Clouds",
           27,
           30
          ],
          [
           "Rain",
           56,
           31
          ],
          [
           "Rain",
           56,
           26
          ],
          [
           "Clear",
           0,
           26
          ],
          [
           "Clear",
           0,
           29
          ],
          [
           "Rain",
           97,
           29
          ],
          [
           "Rain",
           97,
           27
          ],
          [
           "Rain",
           59,
           28
          ],
          [
           "Rain",
           88,
           29
          ],
          [
           "Rain",
           70,
           24
          ],
          [
           "Clear",
           0,
           26
          ],
          [
           "Clear",
           0,
           28
          ],
          [
           "Rain",
           85,
           29
          ],
          [
           "Rain",
           94,
           27
          ],
          [
           "Rain",
           56,
           29
          ],
          [
           "Rain",
           78,
           29
          ],
          [
           "Rain",
           59,
           25
          ],
          [
           "Clear",
           0,
           26
          ],
          [
           "Clear",
           0,
           29
          ],
          [
           "Rain",
           65,
           26
          ],
          [
           "Rain",
           74,
           26
          ],
          [
           "Rain",
           50,
           26
          ],
          [
           "Rain",
           62,
           26
          ],
          [
           "Rain",
           44,
           25
          ],
          [
           "Clear",
           0,
           26
          ],
          [
           "Clear",
           0,
           26
          ],
          [
           "Rain",
           53,
           24
          ],
          [
           "Rain",
           73,
           25
          ],
          [
           "Rain",
           33,
           25
          ],
          [
           "Rain",
           44,
           25
          ],
          [
           "Rain",
           38,
           24
          ],
          [
           "Clear",
           0,
           25
          ],
          [
           "Clear",
           0,
           25
          ],
          [
           "Clear",
           8,
           29
          ],
          [
           "Clouds",
           23,
           26
          ],
          [
           "Rain",
           28,
           30
          ],
          [
           "Clear",
           21,
           25
          ],
          [
           "Clouds",
           31,
           20
          ],
          [
           "Clear",
           0,
           26
          ],
          [
           "Clear",
           5,
           27
          ],
          [
           "Rain",
           76,
           29
          ],
          [
           "Rain",
           76,
           24
          ],
          [
           "Rain",
           60,
           29
          ],
          [
           "Rain",
           82,
           23
          ],
          [
           "Rain",
           75,
           17
          ],
          [
           "Clear",
           0,
           23
          ],
          [
           "Clear",
           0,
           28
          ],
          [
           "Rain",
           78,
           28
          ],
          [
           "Rain",
           78,
           20
          ],
          [
           "Rain",
           73,
           26
          ],
          [
           "Rain",
           84,
           15
          ],
          [
           "Rain",
           96,
           12
          ],
          [
           "Clear",
           0,
           22
          ],
          [
           "Clear",
           3,
           27
          ],
          [
           "Rain",
           85,
           28
          ],
          [
           "Rain",
           87,
           22
          ],
          [
           "Rain",
           54,
           27
          ],
          [
           "Rain",
           92,
           18
          ],
          [
           "Rain",
           100,
           13
          ],
          [
           "Clear",
           0,
           22
          ],
          [
           "Clear",
           0,
           26
          ],
          [
           "Rain",
           90,
           28
          ],
          [
           "Rain",
           87,
           22
          ],
          [
           "Rain",
           46,
           26
          ],
          [
           "Rain",
           96,
           18
          ],
          [
           "Rain",
           80,
           13
          ],
          [
           "Clear",
           0,
           21
          ],
          [
           "Clear",
           0,
           26
          ],
          [
           "Rain",
           82,
           21
          ],
          [
           "Rain",
           76,
           20
          ],
          [
           "Rain",
           100,
           19
          ],
          [
           "Rain",
           88,
           15
          ],
          [
           "Rain",
           67,
           18
          ],
          [
           "Clear",
           0,
           21
          ],
          [
           "Rain",
           39,
           20
          ],
          [
           "Rain",
           79,
           22
          ],
          [
           "Rain",
           77,
           20
          ],
          [
           "Rain",
           100,
           19
          ],
          [
           "Rain",
           88,
           15
          ],
          [
           "Rain",
           69,
           18
          ],
          [
           "Clear",
           0,
           22
          ],
          [
           "Rain",
           40,
           21
          ],
          [
           "Clouds",
           30,
           21
          ],
          [
           "Rain",
           100,
           19
          ],
          [
           "Rain",
           100,
           17
          ],
          [
           "Rain",
           39,
           17
          ],
          [
           "Rain",
           68,
           17
          ],
          [
           "Clear",
           0,
           18
          ],
          [
           "Rain",
           28,
           20
          ]
         ],
         "hovertemplate": "<b>%{hovertext}</b><br><br>lat=%{lat}<br>lon=%{lon}<br>meteo_principale=%{customdata[0]}<br>probabilite_de_pluie=%{customdata[1]}<br>temperature_ressentie=%{marker.color}<extra></extra>",
         "hovertext": [
          "Mont Saint Michel",
          "Mont Saint Michel",
          "Mont Saint Michel",
          "Mont Saint Michel",
          "Mont Saint Michel",
          "Mont Saint Michel",
          "Mont Saint Michel",
          "St Malo",
          "St Malo",
          "St Malo",
          "St Malo",
          "St Malo",
          "St Malo",
          "St Malo",
          "Bayeux",
          "Bayeux",
          "Bayeux",
          "Bayeux",
          "Bayeux",
          "Bayeux",
          "Bayeux",
          "Le Havre",
          "Le Havre",
          "Le Havre",
          "Le Havre",
          "Le Havre",
          "Le Havre",
          "Le Havre",
          "Rouen",
          "Rouen",
          "Rouen",
          "Rouen",
          "Rouen",
          "Rouen",
          "Rouen",
          "Paris",
          "Paris",
          "Paris",
          "Paris",
          "Paris",
          "Paris",
          "Paris",
          "Amiens",
          "Amiens",
          "Amiens",
          "Amiens",
          "Amiens",
          "Amiens",
          "Amiens",
          "Lille",
          "Lille",
          "Lille",
          "Lille",
          "Lille",
          "Lille",
          "Lille",
          "Strasbourg",
          "Strasbourg",
          "Strasbourg",
          "Strasbourg",
          "Strasbourg",
          "Strasbourg",
          "Strasbourg",
          "Chateau du Haut Koenigsbourg",
          "Chateau du Haut Koenigsbourg",
          "Chateau du Haut Koenigsbourg",
          "Chateau du Haut Koenigsbourg",
          "Chateau du Haut Koenigsbourg",
          "Chateau du Haut Koenigsbourg",
          "Chateau du Haut Koenigsbourg",
          "Colmar",
          "Colmar",
          "Colmar",
          "Colmar",
          "Colmar",
          "Colmar",
          "Colmar",
          "Eguisheim",
          "Eguisheim",
          "Eguisheim",
          "Eguisheim",
          "Eguisheim",
          "Eguisheim",
          "Eguisheim",
          "Besancon",
          "Besancon",
          "Besancon",
          "Besancon",
          "Besancon",
          "Besancon",
          "Besancon",
          "Dijon",
          "Dijon",
          "Dijon",
          "Dijon",
          "Dijon",
          "Dijon",
          "Dijon",
          "Annecy",
          "Annecy",
          "Annecy",
          "Annecy",
          "Annecy",
          "Annecy",
          "Annecy",
          "Grenoble",
          "Grenoble",
          "Grenoble",
          "Grenoble",
          "Grenoble",
          "Grenoble",
          "Grenoble",
          "Lyon",
          "Lyon",
          "Lyon",
          "Lyon",
          "Lyon",
          "Lyon",
          "Lyon",
          "Gorges du Verdon",
          "Gorges du Verdon",
          "Gorges du Verdon",
          "Gorges du Verdon",
          "Gorges du Verdon",
          "Gorges du Verdon",
          "Gorges du Verdon",
          "Bormes les Mimosas",
          "Bormes les Mimosas",
          "Bormes les Mimosas",
          "Bormes les Mimosas",
          "Bormes les Mimosas",
          "Bormes les Mimosas",
          "Bormes les Mimosas",
          "Cassis",
          "Cassis",
          "Cassis",
          "Cassis",
          "Cassis",
          "Cassis",
          "Cassis",
          "Marseille",
          "Marseille",
          "Marseille",
          "Marseille",
          "Marseille",
          "Marseille",
          "Marseille",
          "Aix en Provence",
          "Aix en Provence",
          "Aix en Provence",
          "Aix en Provence",
          "Aix en Provence",
          "Aix en Provence",
          "Aix en Provence",
          "Avignon",
          "Avignon",
          "Avignon",
          "Avignon",
          "Avignon",
          "Avignon",
          "Avignon",
          "Uzes",
          "Uzes",
          "Uzes",
          "Uzes",
          "Uzes",
          "Uzes",
          "Uzes",
          "Nimes",
          "Nimes",
          "Nimes",
          "Nimes",
          "Nimes",
          "Nimes",
          "Nimes",
          "Aigues Mortes",
          "Aigues Mortes",
          "Aigues Mortes",
          "Aigues Mortes",
          "Aigues Mortes",
          "Aigues Mortes",
          "Aigues Mortes",
          "Saintes Maries de la mer",
          "Saintes Maries de la mer",
          "Saintes Maries de la mer",
          "Saintes Maries de la mer",
          "Saintes Maries de la mer",
          "Saintes Maries de la mer",
          "Saintes Maries de la mer",
          "Collioure",
          "Collioure",
          "Collioure",
          "Collioure",
          "Collioure",
          "Collioure",
          "Collioure",
          "Carcassonne",
          "Carcassonne",
          "Carcassonne",
          "Carcassonne",
          "Carcassonne",
          "Carcassonne",
          "Carcassonne",
          "Ariege",
          "Ariege",
          "Ariege",
          "Ariege",
          "Ariege",
          "Ariege",
          "Ariege",
          "Toulouse",
          "Toulouse",
          "Toulouse",
          "Toulouse",
          "Toulouse",
          "Toulouse",
          "Toulouse",
          "Montauban",
          "Montauban",
          "Montauban",
          "Montauban",
          "Montauban",
          "Montauban",
          "Montauban",
          "Biarritz",
          "Biarritz",
          "Biarritz",
          "Biarritz",
          "Biarritz",
          "Biarritz",
          "Biarritz",
          "Bayonne",
          "Bayonne",
          "Bayonne",
          "Bayonne",
          "Bayonne",
          "Bayonne",
          "Bayonne",
          "La Rochelle",
          "La Rochelle",
          "La Rochelle",
          "La Rochelle",
          "La Rochelle",
          "La Rochelle",
          "La Rochelle"
         ],
         "lat": [
          48.6359541,
          48.6359541,
          48.6359541,
          48.6359541,
          48.6359541,
          48.6359541,
          48.6359541,
          48.649518,
          48.649518,
          48.649518,
          48.649518,
          48.649518,
          48.649518,
          48.649518,
          49.2764624,
          49.2764624,
          49.2764624,
          49.2764624,
          49.2764624,
          49.2764624,
          49.2764624,
          49.4938975,
          49.4938975,
          49.4938975,
          49.4938975,
          49.4938975,
          49.4938975,
          49.4938975,
          49.4404591,
          49.4404591,
          49.4404591,
          49.4404591,
          49.4404591,
          49.4404591,
          49.4404591,
          48.8588897,
          48.8588897,
          48.8588897,
          48.8588897,
          48.8588897,
          48.8588897,
          48.8588897,
          49.8941708,
          49.8941708,
          49.8941708,
          49.8941708,
          49.8941708,
          49.8941708,
          49.8941708,
          50.6365654,
          50.6365654,
          50.6365654,
          50.6365654,
          50.6365654,
          50.6365654,
          50.6365654,
          48.584614,
          48.584614,
          48.584614,
          48.584614,
          48.584614,
          48.584614,
          48.584614,
          48.2495226,
          48.2495226,
          48.2495226,
          48.2495226,
          48.2495226,
          48.2495226,
          48.2495226,
          48.0777517,
          48.0777517,
          48.0777517,
          48.0777517,
          48.0777517,
          48.0777517,
          48.0777517,
          48.0447968,
          48.0447968,
          48.0447968,
          48.0447968,
          48.0447968,
          48.0447968,
          48.0447968,
          47.2380222,
          47.2380222,
          47.2380222,
          47.2380222,
          47.2380222,
          47.2380222,
          47.2380222,
          47.3215806,
          47.3215806,
          47.3215806,
          47.3215806,
          47.3215806,
          47.3215806,
          47.3215806,
          45.8992348,
          45.8992348,
          45.8992348,
          45.8992348,
          45.8992348,
          45.8992348,
          45.8992348,
          45.1875602,
          45.1875602,
          45.1875602,
          45.1875602,
          45.1875602,
          45.1875602,
          45.1875602,
          45.7578137,
          45.7578137,
          45.7578137,
          45.7578137,
          45.7578137,
          45.7578137,
          45.7578137,
          43.8462177,
          43.8462177,
          43.8462177,
          43.8462177,
          43.8462177,
          43.8462177,
          43.8462177,
          43.1572172,
          43.1572172,
          43.1572172,
          43.1572172,
          43.1572172,
          43.1572172,
          43.1572172,
          43.2140359,
          43.2140359,
          43.2140359,
          43.2140359,
          43.2140359,
          43.2140359,
          43.2140359,
          43.2961743,
          43.2961743,
          43.2961743,
          43.2961743,
          43.2961743,
          43.2961743,
          43.2961743,
          43.5298424,
          43.5298424,
          43.5298424,
          43.5298424,
          43.5298424,
          43.5298424,
          43.5298424,
          43.9492493,
          43.9492493,
          43.9492493,
          43.9492493,
          43.9492493,
          43.9492493,
          43.9492493,
          44.0121279,
          44.0121279,
          44.0121279,
          44.0121279,
          44.0121279,
          44.0121279,
          44.0121279,
          43.8374249,
          43.8374249,
          43.8374249,
          43.8374249,
          43.8374249,
          43.8374249,
          43.8374249,
          43.5658225,
          43.5658225,
          43.5658225,
          43.5658225,
          43.5658225,
          43.5658225,
          43.5658225,
          43.4522771,
          43.4522771,
          43.4522771,
          43.4522771,
          43.4522771,
          43.4522771,
          43.4522771,
          42.52505,
          42.52505,
          42.52505,
          42.52505,
          42.52505,
          42.52505,
          42.52505,
          43.2130358,
          43.2130358,
          43.2130358,
          43.2130358,
          43.2130358,
          43.2130358,
          43.2130358,
          42.9638998,
          42.9638998,
          42.9638998,
          42.9638998,
          42.9638998,
          42.9638998,
          42.9638998,
          43.6044622,
          43.6044622,
          43.6044622,
          43.6044622,
          43.6044622,
          43.6044622,
          43.6044622,
          44.0175835,
          44.0175835,
          44.0175835,
          44.0175835,
          44.0175835,
          44.0175835,
          44.0175835,
          43.4832523,
          43.4832523,
          43.4832523,
          43.4832523,
          43.4832523,
          43.4832523,
          43.4832523,
          43.4933379,
          43.4933379,
          43.4933379,
          43.4933379,
          43.4933379,
          43.4933379,
          43.4933379,
          46.1591126,
          46.1591126,
          46.1591126,
          46.1591126,
          46.1591126,
          46.1591126,
          46.1591126
         ],
         "legendgroup": "",
         "lon": [
          -1.511459954959514,
          -1.511459954959514,
          -1.511459954959514,
          -1.511459954959514,
          -1.511459954959514,
          -1.511459954959514,
          -1.511459954959514,
          -2.0260409,
          -2.0260409,
          -2.0260409,
          -2.0260409,
          -2.0260409,
          -2.0260409,
          -2.0260409,
          -0.7024738,
          -0.7024738,
          -0.7024738,
          -0.7024738,
          -0.7024738,
          -0.7024738,
          -0.7024738,
          0.1079732,
          0.1079732,
          0.1079732,
          0.1079732,
          0.1079732,
          0.1079732,
          0.1079732,
          1.0939658,
          1.0939658,
          1.0939658,
          1.0939658,
          1.0939658,
          1.0939658,
          1.0939658,
          2.3200410217200766,
          2.3200410217200766,
          2.3200410217200766,
          2.3200410217200766,
          2.3200410217200766,
          2.3200410217200766,
          2.3200410217200766,
          2.2956951,
          2.2956951,
          2.2956951,
          2.2956951,
          2.2956951,
          2.2956951,
          2.2956951,
          3.0635282,
          3.0635282,
          3.0635282,
          3.0635282,
          3.0635282,
          3.0635282,
          3.0635282,
          7.7507127,
          7.7507127,
          7.7507127,
          7.7507127,
          7.7507127,
          7.7507127,
          7.7507127,
          7.3454923,
          7.3454923,
          7.3454923,
          7.3454923,
          7.3454923,
          7.3454923,
          7.3454923,
          7.3579641,
          7.3579641,
          7.3579641,
          7.3579641,
          7.3579641,
          7.3579641,
          7.3579641,
          7.3079618,
          7.3079618,
          7.3079618,
          7.3079618,
          7.3079618,
          7.3079618,
          7.3079618,
          6.0243622,
          6.0243622,
          6.0243622,
          6.0243622,
          6.0243622,
          6.0243622,
          6.0243622,
          5.0414701,
          5.0414701,
          5.0414701,
          5.0414701,
          5.0414701,
          5.0414701,
          5.0414701,
          6.1288847,
          6.1288847,
          6.1288847,
          6.1288847,
          6.1288847,
          6.1288847,
          6.1288847,
          5.7357819,
          5.7357819,
          5.7357819,
          5.7357819,
          5.7357819,
          5.7357819,
          5.7357819,
          4.8320114,
          4.8320114,
          4.8320114,
          4.8320114,
          4.8320114,
          4.8320114,
          4.8320114,
          6.5131814,
          6.5131814,
          6.5131814,
          6.5131814,
          6.5131814,
          6.5131814,
          6.5131814,
          6.329253867921363,
          6.329253867921363,
          6.329253867921363,
          6.329253867921363,
          6.329253867921363,
          6.329253867921363,
          6.329253867921363,
          5.5396318,
          5.5396318,
          5.5396318,
          5.5396318,
          5.5396318,
          5.5396318,
          5.5396318,
          5.3699525,
          5.3699525,
          5.3699525,
          5.3699525,
          5.3699525,
          5.3699525,
          5.3699525,
          5.4474738,
          5.4474738,
          5.4474738,
          5.4474738,
          5.4474738,
          5.4474738,
          5.4474738,
          4.8059012,
          4.8059012,
          4.8059012,
          4.8059012,
          4.8059012,
          4.8059012,
          4.8059012,
          4.4196718,
          4.4196718,
          4.4196718,
          4.4196718,
          4.4196718,
          4.4196718,
          4.4196718,
          4.3600687,
          4.3600687,
          4.3600687,
          4.3600687,
          4.3600687,
          4.3600687,
          4.3600687,
          4.1912837,
          4.1912837,
          4.1912837,
          4.1912837,
          4.1912837,
          4.1912837,
          4.1912837,
          4.4287172,
          4.4287172,
          4.4287172,
          4.4287172,
          4.4287172,
          4.4287172,
          4.4287172,
          3.0831554,
          3.0831554,
          3.0831554,
          3.0831554,
          3.0831554,
          3.0831554,
          3.0831554,
          2.3491069,
          2.3491069,
          2.3491069,
          2.3491069,
          2.3491069,
          2.3491069,
          2.3491069,
          1.6053807,
          1.6053807,
          1.6053807,
          1.6053807,
          1.6053807,
          1.6053807,
          1.6053807,
          1.4442469,
          1.4442469,
          1.4442469,
          1.4442469,
          1.4442469,
          1.4442469,
          1.4442469,
          1.3549991,
          1.3549991,
          1.3549991,
          1.3549991,
          1.3549991,
          1.3549991,
          1.3549991,
          -1.5592776,
          -1.5592776,
          -1.5592776,
          -1.5592776,
          -1.5592776,
          -1.5592776,
          -1.5592776,
          -1.475099,
          -1.475099,
          -1.475099,
          -1.475099,
          -1.475099,
          -1.475099,
          -1.475099,
          -1.1520434,
          -1.1520434,
          -1.1520434,
          -1.1520434,
          -1.1520434,
          -1.1520434,
          -1.1520434
         ],
         "marker": {
          "color": [
           23,
           19,
           17,
           18,
           17,
           22,
           16,
           20,
           18,
           16,
           17,
           15,
           20,
           18,
           24,
           18,
           15,
           18,
           17,
           21,
           15,
           19,
           18,
           14,
           16,
           15,
           18,
           19,
           26,
           20,
           15,
           19,
           19,
           21,
           23,
           26,
           20,
           21,
           20,
           21,
           22,
           25,
           23,
           18,
           16,
           20,
           19,
           20,
           24,
           23,
           18,
           17,
           19,
           17,
           20,
           24,
           28,
           22,
           26,
           24,
           16,
           20,
           24,
           27,
           20,
           22,
           17,
           13,
           17,
           21,
           29,
           24,
           26,
           21,
           16,
           20,
           24,
           29,
           24,
           26,
           20,
           16,
           20,
           24,
           27,
           18,
           26,
           18,
           14,
           21,
           24,
           27,
           18,
           26,
           13,
           16,
           21,
           24,
           28,
           16,
           26,
           26,
           18,
           21,
           26,
           30,
           21,
           28,
           28,
           18,
           23,
           28,
           29,
           18,
           27,
           19,
           15,
           21,
           26,
           27,
           25,
           27,
           27,
           27,
           26,
           27,
           27,
           28,
           28,
           28,
           28,
           27,
           27,
           26,
           25,
           27,
           26,
           26,
           26,
           27,
           26,
           25,
           27,
           26,
           26,
           26,
           27,
           28,
           28,
           28,
           30,
           27,
           27,
           29,
           31,
           28,
           30,
           31,
           26,
           26,
           29,
           29,
           27,
           28,
           29,
           24,
           26,
           28,
           29,
           27,
           29,
           29,
           25,
           26,
           29,
           26,
           26,
           26,
           26,
           25,
           26,
           26,
           24,
           25,
           25,
           25,
           24,
           25,
           25,
           29,
           26,
           30,
           25,
           20,
           26,
           27,
           29,
           24,
           29,
           23,
           17,
           23,
           28,
           28,
           20,
           26,
           15,
           12,
           22,
           27,
           28,
           22,
           27,
           18,
           13,
           22,
           26,
           28,
           22,
           26,
           18,
           13,
           21,
           26,
           21,
           20,
           19,
           15,
           18,
           21,
           20,
           22,
           20,
           19,
           15,
           18,
           22,
           21,
           21,
           19,
           17,
           17,
           17,
           18,
           20
          ],
          "coloraxis": "coloraxis"
         },
         "mode": "markers",
         "name": "",
         "showlegend": false,
         "subplot": "mapbox",
         "type": "scattermapbox"
        }
       ],
       "layout": {
        "coloraxis": {
         "colorbar": {
          "title": {
           "text": "temperature_ressentie"
          }
         },
         "colorscale": [
          [
           0,
           "rgb(3, 35, 51)"
          ],
          [
           0.09090909090909091,
           "rgb(13, 48, 100)"
          ],
          [
           0.18181818181818182,
           "rgb(53, 50, 155)"
          ],
          [
           0.2727272727272727,
           "rgb(93, 62, 153)"
          ],
          [
           0.36363636363636365,
           "rgb(126, 77, 143)"
          ],
          [
           0.45454545454545453,
           "rgb(158, 89, 135)"
          ],
          [
           0.5454545454545454,
           "rgb(193, 100, 121)"
          ],
          [
           0.6363636363636364,
           "rgb(225, 113, 97)"
          ],
          [
           0.7272727272727273,
           "rgb(246, 139, 69)"
          ],
          [
           0.8181818181818182,
           "rgb(251, 173, 60)"
          ],
          [
           0.9090909090909091,
           "rgb(246, 211, 70)"
          ],
          [
           1,
           "rgb(231, 250, 90)"
          ]
         ]
        },
        "legend": {
         "tracegroupgap": 0
        },
        "mapbox": {
         "center": {
          "lat": 45.84476962571432,
          "lon": 3.406327852419487
         },
         "domain": {
          "x": [
           0,
           1
          ],
          "y": [
           0,
           1
          ]
         },
         "style": "carto-positron",
         "zoom": 4
        },
        "margin": {
         "t": 60
        },
        "template": {
         "data": {
          "bar": [
           {
            "error_x": {
             "color": "#2a3f5f"
            },
            "error_y": {
             "color": "#2a3f5f"
            },
            "marker": {
             "line": {
              "color": "#E5ECF6",
              "width": 0.5
             },
             "pattern": {
              "fillmode": "overlay",
              "size": 10,
              "solidity": 0.2
             }
            },
            "type": "bar"
           }
          ],
          "barpolar": [
           {
            "marker": {
             "line": {
              "color": "#E5ECF6",
              "width": 0.5
             },
             "pattern": {
              "fillmode": "overlay",
              "size": 10,
              "solidity": 0.2
             }
            },
            "type": "barpolar"
           }
          ],
          "carpet": [
           {
            "aaxis": {
             "endlinecolor": "#2a3f5f",
             "gridcolor": "white",
             "linecolor": "white",
             "minorgridcolor": "white",
             "startlinecolor": "#2a3f5f"
            },
            "baxis": {
             "endlinecolor": "#2a3f5f",
             "gridcolor": "white",
             "linecolor": "white",
             "minorgridcolor": "white",
             "startlinecolor": "#2a3f5f"
            },
            "type": "carpet"
           }
          ],
          "choropleth": [
           {
            "colorbar": {
             "outlinewidth": 0,
             "ticks": ""
            },
            "type": "choropleth"
           }
          ],
          "contour": [
           {
            "colorbar": {
             "outlinewidth": 0,
             "ticks": ""
            },
            "colorscale": [
             [
              0,
              "#0d0887"
             ],
             [
              0.1111111111111111,
              "#46039f"
             ],
             [
              0.2222222222222222,
              "#7201a8"
             ],
             [
              0.3333333333333333,
              "#9c179e"
             ],
             [
              0.4444444444444444,
              "#bd3786"
             ],
             [
              0.5555555555555556,
              "#d8576b"
             ],
             [
              0.6666666666666666,
              "#ed7953"
             ],
             [
              0.7777777777777778,
              "#fb9f3a"
             ],
             [
              0.8888888888888888,
              "#fdca26"
             ],
             [
              1,
              "#f0f921"
             ]
            ],
            "type": "contour"
           }
          ],
          "contourcarpet": [
           {
            "colorbar": {
             "outlinewidth": 0,
             "ticks": ""
            },
            "type": "contourcarpet"
           }
          ],
          "heatmap": [
           {
            "colorbar": {
             "outlinewidth": 0,
             "ticks": ""
            },
            "colorscale": [
             [
              0,
              "#0d0887"
             ],
             [
              0.1111111111111111,
              "#46039f"
             ],
             [
              0.2222222222222222,
              "#7201a8"
             ],
             [
              0.3333333333333333,
              "#9c179e"
             ],
             [
              0.4444444444444444,
              "#bd3786"
             ],
             [
              0.5555555555555556,
              "#d8576b"
             ],
             [
              0.6666666666666666,
              "#ed7953"
             ],
             [
              0.7777777777777778,
              "#fb9f3a"
             ],
             [
              0.8888888888888888,
              "#fdca26"
             ],
             [
              1,
              "#f0f921"
             ]
            ],
            "type": "heatmap"
           }
          ],
          "heatmapgl": [
           {
            "colorbar": {
             "outlinewidth": 0,
             "ticks": ""
            },
            "colorscale": [
             [
              0,
              "#0d0887"
             ],
             [
              0.1111111111111111,
              "#46039f"
             ],
             [
              0.2222222222222222,
              "#7201a8"
             ],
             [
              0.3333333333333333,
              "#9c179e"
             ],
             [
              0.4444444444444444,
              "#bd3786"
             ],
             [
              0.5555555555555556,
              "#d8576b"
             ],
             [
              0.6666666666666666,
              "#ed7953"
             ],
             [
              0.7777777777777778,
              "#fb9f3a"
             ],
             [
              0.8888888888888888,
              "#fdca26"
             ],
             [
              1,
              "#f0f921"
             ]
            ],
            "type": "heatmapgl"
           }
          ],
          "histogram": [
           {
            "marker": {
             "pattern": {
              "fillmode": "overlay",
              "size": 10,
              "solidity": 0.2
             }
            },
            "type": "histogram"
           }
          ],
          "histogram2d": [
           {
            "colorbar": {
             "outlinewidth": 0,
             "ticks": ""
            },
            "colorscale": [
             [
              0,
              "#0d0887"
             ],
             [
              0.1111111111111111,
              "#46039f"
             ],
             [
              0.2222222222222222,
              "#7201a8"
             ],
             [
              0.3333333333333333,
              "#9c179e"
             ],
             [
              0.4444444444444444,
              "#bd3786"
             ],
             [
              0.5555555555555556,
              "#d8576b"
             ],
             [
              0.6666666666666666,
              "#ed7953"
             ],
             [
              0.7777777777777778,
              "#fb9f3a"
             ],
             [
              0.8888888888888888,
              "#fdca26"
             ],
             [
              1,
              "#f0f921"
             ]
            ],
            "type": "histogram2d"
           }
          ],
          "histogram2dcontour": [
           {
            "colorbar": {
             "outlinewidth": 0,
             "ticks": ""
            },
            "colorscale": [
             [
              0,
              "#0d0887"
             ],
             [
              0.1111111111111111,
              "#46039f"
             ],
             [
              0.2222222222222222,
              "#7201a8"
             ],
             [
              0.3333333333333333,
              "#9c179e"
             ],
             [
              0.4444444444444444,
              "#bd3786"
             ],
             [
              0.5555555555555556,
              "#d8576b"
             ],
             [
              0.6666666666666666,
              "#ed7953"
             ],
             [
              0.7777777777777778,
              "#fb9f3a"
             ],
             [
              0.8888888888888888,
              "#fdca26"
             ],
             [
              1,
              "#f0f921"
             ]
            ],
            "type": "histogram2dcontour"
           }
          ],
          "mesh3d": [
           {
            "colorbar": {
             "outlinewidth": 0,
             "ticks": ""
            },
            "type": "mesh3d"
           }
          ],
          "parcoords": [
           {
            "line": {
             "colorbar": {
              "outlinewidth": 0,
              "ticks": ""
             }
            },
            "type": "parcoords"
           }
          ],
          "pie": [
           {
            "automargin": true,
            "type": "pie"
           }
          ],
          "scatter": [
           {
            "marker": {
             "colorbar": {
              "outlinewidth": 0,
              "ticks": ""
             }
            },
            "type": "scatter"
           }
          ],
          "scatter3d": [
           {
            "line": {
             "colorbar": {
              "outlinewidth": 0,
              "ticks": ""
             }
            },
            "marker": {
             "colorbar": {
              "outlinewidth": 0,
              "ticks": ""
             }
            },
            "type": "scatter3d"
           }
          ],
          "scattercarpet": [
           {
            "marker": {
             "colorbar": {
              "outlinewidth": 0,
              "ticks": ""
             }
            },
            "type": "scattercarpet"
           }
          ],
          "scattergeo": [
           {
            "marker": {
             "colorbar": {
              "outlinewidth": 0,
              "ticks": ""
             }
            },
            "type": "scattergeo"
           }
          ],
          "scattergl": [
           {
            "marker": {
             "colorbar": {
              "outlinewidth": 0,
              "ticks": ""
             }
            },
            "type": "scattergl"
           }
          ],
          "scattermapbox": [
           {
            "marker": {
             "colorbar": {
              "outlinewidth": 0,
              "ticks": ""
             }
            },
            "type": "scattermapbox"
           }
          ],
          "scatterpolar": [
           {
            "marker": {
             "colorbar": {
              "outlinewidth": 0,
              "ticks": ""
             }
            },
            "type": "scatterpolar"
           }
          ],
          "scatterpolargl": [
           {
            "marker": {
             "colorbar": {
              "outlinewidth": 0,
              "ticks": ""
             }
            },
            "type": "scatterpolargl"
           }
          ],
          "scatterternary": [
           {
            "marker": {
             "colorbar": {
              "outlinewidth": 0,
              "ticks": ""
             }
            },
            "type": "scatterternary"
           }
          ],
          "surface": [
           {
            "colorbar": {
             "outlinewidth": 0,
             "ticks": ""
            },
            "colorscale": [
             [
              0,
              "#0d0887"
             ],
             [
              0.1111111111111111,
              "#46039f"
             ],
             [
              0.2222222222222222,
              "#7201a8"
             ],
             [
              0.3333333333333333,
              "#9c179e"
             ],
             [
              0.4444444444444444,
              "#bd3786"
             ],
             [
              0.5555555555555556,
              "#d8576b"
             ],
             [
              0.6666666666666666,
              "#ed7953"
             ],
             [
              0.7777777777777778,
              "#fb9f3a"
             ],
             [
              0.8888888888888888,
              "#fdca26"
             ],
             [
              1,
              "#f0f921"
             ]
            ],
            "type": "surface"
           }
          ],
          "table": [
           {
            "cells": {
             "fill": {
              "color": "#EBF0F8"
             },
             "line": {
              "color": "white"
             }
            },
            "header": {
             "fill": {
              "color": "#C8D4E3"
             },
             "line": {
              "color": "white"
             }
            },
            "type": "table"
           }
          ]
         },
         "layout": {
          "annotationdefaults": {
           "arrowcolor": "#2a3f5f",
           "arrowhead": 0,
           "arrowwidth": 1
          },
          "autotypenumbers": "strict",
          "coloraxis": {
           "colorbar": {
            "outlinewidth": 0,
            "ticks": ""
           }
          },
          "colorscale": {
           "diverging": [
            [
             0,
             "#8e0152"
            ],
            [
             0.1,
             "#c51b7d"
            ],
            [
             0.2,
             "#de77ae"
            ],
            [
             0.3,
             "#f1b6da"
            ],
            [
             0.4,
             "#fde0ef"
            ],
            [
             0.5,
             "#f7f7f7"
            ],
            [
             0.6,
             "#e6f5d0"
            ],
            [
             0.7,
             "#b8e186"
            ],
            [
             0.8,
             "#7fbc41"
            ],
            [
             0.9,
             "#4d9221"
            ],
            [
             1,
             "#276419"
            ]
           ],
           "sequential": [
            [
             0,
             "#0d0887"
            ],
            [
             0.1111111111111111,
             "#46039f"
            ],
            [
             0.2222222222222222,
             "#7201a8"
            ],
            [
             0.3333333333333333,
             "#9c179e"
            ],
            [
             0.4444444444444444,
             "#bd3786"
            ],
            [
             0.5555555555555556,
             "#d8576b"
            ],
            [
             0.6666666666666666,
             "#ed7953"
            ],
            [
             0.7777777777777778,
             "#fb9f3a"
            ],
            [
             0.8888888888888888,
             "#fdca26"
            ],
            [
             1,
             "#f0f921"
            ]
           ],
           "sequentialminus": [
            [
             0,
             "#0d0887"
            ],
            [
             0.1111111111111111,
             "#46039f"
            ],
            [
             0.2222222222222222,
             "#7201a8"
            ],
            [
             0.3333333333333333,
             "#9c179e"
            ],
            [
             0.4444444444444444,
             "#bd3786"
            ],
            [
             0.5555555555555556,
             "#d8576b"
            ],
            [
             0.6666666666666666,
             "#ed7953"
            ],
            [
             0.7777777777777778,
             "#fb9f3a"
            ],
            [
             0.8888888888888888,
             "#fdca26"
            ],
            [
             1,
             "#f0f921"
            ]
           ]
          },
          "colorway": [
           "#636efa",
           "#EF553B",
           "#00cc96",
           "#ab63fa",
           "#FFA15A",
           "#19d3f3",
           "#FF6692",
           "#B6E880",
           "#FF97FF",
           "#FECB52"
          ],
          "font": {
           "color": "#2a3f5f"
          },
          "geo": {
           "bgcolor": "white",
           "lakecolor": "white",
           "landcolor": "#E5ECF6",
           "showlakes": true,
           "showland": true,
           "subunitcolor": "white"
          },
          "hoverlabel": {
           "align": "left"
          },
          "hovermode": "closest",
          "mapbox": {
           "style": "light"
          },
          "paper_bgcolor": "white",
          "plot_bgcolor": "#E5ECF6",
          "polar": {
           "angularaxis": {
            "gridcolor": "white",
            "linecolor": "white",
            "ticks": ""
           },
           "bgcolor": "#E5ECF6",
           "radialaxis": {
            "gridcolor": "white",
            "linecolor": "white",
            "ticks": ""
           }
          },
          "scene": {
           "xaxis": {
            "backgroundcolor": "#E5ECF6",
            "gridcolor": "white",
            "gridwidth": 2,
            "linecolor": "white",
            "showbackground": true,
            "ticks": "",
            "zerolinecolor": "white"
           },
           "yaxis": {
            "backgroundcolor": "#E5ECF6",
            "gridcolor": "white",
            "gridwidth": 2,
            "linecolor": "white",
            "showbackground": true,
            "ticks": "",
            "zerolinecolor": "white"
           },
           "zaxis": {
            "backgroundcolor": "#E5ECF6",
            "gridcolor": "white",
            "gridwidth": 2,
            "linecolor": "white",
            "showbackground": true,
            "ticks": "",
            "zerolinecolor": "white"
           }
          },
          "shapedefaults": {
           "line": {
            "color": "#2a3f5f"
           }
          },
          "ternary": {
           "aaxis": {
            "gridcolor": "white",
            "linecolor": "white",
            "ticks": ""
           },
           "baxis": {
            "gridcolor": "white",
            "linecolor": "white",
            "ticks": ""
           },
           "bgcolor": "#E5ECF6",
           "caxis": {
            "gridcolor": "white",
            "linecolor": "white",
            "ticks": ""
           }
          },
          "title": {
           "x": 0.05
          },
          "xaxis": {
           "automargin": true,
           "gridcolor": "white",
           "linecolor": "white",
           "ticks": "",
           "title": {
            "standoff": 15
           },
           "zerolinecolor": "white",
           "zerolinewidth": 2
          },
          "yaxis": {
           "automargin": true,
           "gridcolor": "white",
           "linecolor": "white",
           "ticks": "",
           "title": {
            "standoff": 15
           },
           "zerolinecolor": "white",
           "zerolinewidth": 2
          }
         }
        }
       }
      }
     },
     "metadata": {},
     "output_type": "display_data"
    }
   ],
   "source": [
    "df = df_gps_weather.apply(pd.Series.explode)  # To obtain a line per day and per city\n",
    "\n",
    "df[[\"jour_+x\", \"temperature_ressentie\", \"probabilite_de_pluie\"]] = df[\n",
    "    [\"jour_+x\", \"temperature_ressentie\", \"probabilite_de_pluie\"]\n",
    "].astype(int)\n",
    "\n",
    "fig = px.scatter_mapbox(\n",
    "    df,\n",
    "    lat=\"lat\",\n",
    "    lon=\"lon\",\n",
    "    hover_name=\"city\",\n",
    "    zoom=4,\n",
    "    hover_data=[\"meteo_principale\", \"probabilite_de_pluie\", \"temperature_ressentie\"],\n",
    "    color=\"temperature_ressentie\",\n",
    "    color_continuous_scale=\"thermal\",\n",
    "    mapbox_style=\"carto-positron\",\n",
    ")\n",
    "fig.show()\n"
   ]
  },
  {
   "cell_type": "markdown",
   "metadata": {},
   "source": [
    "## Scrape Booking.com "
   ]
  },
  {
   "cell_type": "markdown",
   "metadata": {},
   "source": [
    "### Get hotels, their URLs, their notes and their description"
   ]
  },
  {
   "cell_type": "code",
   "execution_count": 22,
   "metadata": {},
   "outputs": [
    {
     "name": "stderr",
     "output_type": "stream",
     "text": [
      "2022-06-22 11:52:30 [scrapy.utils.log] INFO: Scrapy 2.6.1 started (bot: scrapybot)\n",
      "2022-06-22 11:52:30 [scrapy.utils.log] INFO: Versions: lxml 4.8.0.0, libxml2 2.9.12, cssselect 1.1.0, parsel 1.6.0, w3lib 1.21.0, Twisted 22.2.0, Python 3.9.12 (main, Apr  5 2022, 01:53:17) - [Clang 12.0.0 ], pyOpenSSL 21.0.0 (OpenSSL 1.1.1o  3 May 2022), cryptography 3.4.8, Platform macOS-10.16-x86_64-i386-64bit\n",
      "2022-06-22 11:52:30 [scrapy.crawler] INFO: Overridden settings:\n",
      "{'AUTOTHROTTLE_ENABLED': True,\n",
      " 'LOG_LEVEL': 20,\n",
      " 'USER_AGENT': 'Mozilla/5.0 (Windows NT 6.1; WOW64) AppleWebKit/535.1 (KHTML, '\n",
      "               'like Gecko) Chrome/13.0.782.112 Safari/535.1'}\n",
      "2022-06-22 11:52:30 [scrapy.extensions.telnet] INFO: Telnet Password: 819ccf73b620c518\n",
      "2022-06-22 11:52:30 [scrapy.middleware] INFO: Enabled extensions:\n",
      "['scrapy.extensions.corestats.CoreStats',\n",
      " 'scrapy.extensions.telnet.TelnetConsole',\n",
      " 'scrapy.extensions.memusage.MemoryUsage',\n",
      " 'scrapy.extensions.feedexport.FeedExporter',\n",
      " 'scrapy.extensions.logstats.LogStats',\n",
      " 'scrapy.extensions.throttle.AutoThrottle']\n",
      "2022-06-22 11:52:30 [scrapy.middleware] INFO: Enabled downloader middlewares:\n",
      "['scrapy.downloadermiddlewares.httpauth.HttpAuthMiddleware',\n",
      " 'scrapy.downloadermiddlewares.downloadtimeout.DownloadTimeoutMiddleware',\n",
      " 'scrapy.downloadermiddlewares.defaultheaders.DefaultHeadersMiddleware',\n",
      " 'scrapy.downloadermiddlewares.useragent.UserAgentMiddleware',\n",
      " 'scrapy.downloadermiddlewares.retry.RetryMiddleware',\n",
      " 'scrapy.downloadermiddlewares.redirect.MetaRefreshMiddleware',\n",
      " 'scrapy.downloadermiddlewares.httpcompression.HttpCompressionMiddleware',\n",
      " 'scrapy.downloadermiddlewares.redirect.RedirectMiddleware',\n",
      " 'scrapy.downloadermiddlewares.cookies.CookiesMiddleware',\n",
      " 'scrapy.downloadermiddlewares.httpproxy.HttpProxyMiddleware',\n",
      " 'scrapy.downloadermiddlewares.stats.DownloaderStats']\n",
      "2022-06-22 11:52:30 [scrapy.middleware] INFO: Enabled spider middlewares:\n",
      "['scrapy.spidermiddlewares.httperror.HttpErrorMiddleware',\n",
      " 'scrapy.spidermiddlewares.offsite.OffsiteMiddleware',\n",
      " 'scrapy.spidermiddlewares.referer.RefererMiddleware',\n",
      " 'scrapy.spidermiddlewares.urllength.UrlLengthMiddleware',\n",
      " 'scrapy.spidermiddlewares.depth.DepthMiddleware']\n",
      "2022-06-22 11:52:30 [scrapy.middleware] INFO: Enabled item pipelines:\n",
      "[]\n",
      "2022-06-22 11:52:30 [scrapy.core.engine] INFO: Spider opened\n",
      "2022-06-22 11:52:30 [scrapy.extensions.logstats] INFO: Crawled 0 pages (at 0 pages/min), scraped 0 items (at 0 items/min)\n",
      "2022-06-22 11:52:30 [scrapy.extensions.telnet] INFO: Telnet console listening on 127.0.0.1:6023\n",
      "2022-06-22 11:52:34 [root] INFO: No next page. Terminating crawling process.\n",
      "2022-06-22 11:52:38 [root] INFO: No next page. Terminating crawling process.\n",
      "2022-06-22 11:52:39 [root] INFO: No next page. Terminating crawling process.\n",
      "2022-06-22 11:52:40 [root] INFO: No next page. Terminating crawling process.\n",
      "2022-06-22 11:52:41 [root] INFO: No next page. Terminating crawling process.\n",
      "2022-06-22 11:52:43 [root] INFO: No next page. Terminating crawling process.\n",
      "2022-06-22 11:52:43 [root] INFO: No next page. Terminating crawling process.\n",
      "2022-06-22 11:52:44 [root] INFO: No next page. Terminating crawling process.\n",
      "2022-06-22 11:52:44 [root] INFO: No next page. Terminating crawling process.\n",
      "2022-06-22 11:52:44 [root] INFO: No next page. Terminating crawling process.\n",
      "2022-06-22 11:52:45 [root] INFO: No next page. Terminating crawling process.\n",
      "2022-06-22 11:52:45 [root] INFO: No next page. Terminating crawling process.\n",
      "2022-06-22 11:52:45 [root] INFO: No next page. Terminating crawling process.\n",
      "2022-06-22 11:52:46 [root] INFO: No next page. Terminating crawling process.\n",
      "2022-06-22 11:52:46 [root] INFO: No next page. Terminating crawling process.\n",
      "2022-06-22 11:52:47 [root] INFO: No next page. Terminating crawling process.\n",
      "2022-06-22 11:52:47 [root] INFO: No next page. Terminating crawling process.\n",
      "2022-06-22 11:52:48 [root] INFO: No next page. Terminating crawling process.\n",
      "2022-06-22 11:52:48 [root] INFO: No next page. Terminating crawling process.\n",
      "2022-06-22 11:52:49 [root] INFO: No next page. Terminating crawling process.\n",
      "2022-06-22 11:52:49 [root] INFO: No next page. Terminating crawling process.\n",
      "2022-06-22 11:52:49 [root] INFO: No next page. Terminating crawling process.\n",
      "2022-06-22 11:52:49 [root] INFO: No next page. Terminating crawling process.\n",
      "2022-06-22 11:52:49 [root] INFO: No next page. Terminating crawling process.\n",
      "2022-06-22 11:52:50 [root] INFO: No next page. Terminating crawling process.\n",
      "2022-06-22 11:52:50 [root] INFO: No next page. Terminating crawling process.\n",
      "2022-06-22 11:52:50 [root] INFO: No next page. Terminating crawling process.\n",
      "2022-06-22 11:52:50 [root] INFO: No next page. Terminating crawling process.\n",
      "2022-06-22 11:52:51 [root] INFO: No next page. Terminating crawling process.\n",
      "2022-06-22 11:52:51 [root] INFO: No next page. Terminating crawling process.\n",
      "2022-06-22 11:52:52 [root] INFO: No next page. Terminating crawling process.\n",
      "2022-06-22 11:52:52 [root] INFO: No next page. Terminating crawling process.\n",
      "2022-06-22 11:52:52 [root] INFO: No next page. Terminating crawling process.\n",
      "2022-06-22 11:52:53 [root] INFO: No next page. Terminating crawling process.\n",
      "2022-06-22 11:52:53 [root] INFO: No next page. Terminating crawling process.\n",
      "2022-06-22 11:52:53 [scrapy.core.engine] INFO: Closing spider (finished)\n",
      "2022-06-22 11:52:53 [scrapy.extensions.feedexport] INFO: Stored json feed (35 items) in: hotels.json\n",
      "2022-06-22 11:52:53 [scrapy.statscollectors] INFO: Dumping Scrapy stats:\n",
      "{'downloader/request_bytes': 51501,\n",
      " 'downloader/request_count': 36,\n",
      " 'downloader/request_method_count/GET': 36,\n",
      " 'downloader/response_bytes': 5881284,\n",
      " 'downloader/response_count': 36,\n",
      " 'downloader/response_status_count/200': 36,\n",
      " 'elapsed_time_seconds': 23.146227,\n",
      " 'feedexport/success_count/FileFeedStorage': 1,\n",
      " 'finish_reason': 'finished',\n",
      " 'finish_time': datetime.datetime(2022, 6, 22, 9, 52, 53, 444897),\n",
      " 'httpcompression/response_bytes': 38280155,\n",
      " 'httpcompression/response_count': 36,\n",
      " 'item_scraped_count': 35,\n",
      " 'log_count/INFO': 46,\n",
      " 'memusage/max': 274964480,\n",
      " 'memusage/startup': 274964480,\n",
      " 'request_depth_max': 1,\n",
      " 'response_received_count': 36,\n",
      " 'scheduler/dequeued': 36,\n",
      " 'scheduler/dequeued/memory': 36,\n",
      " 'scheduler/enqueued': 36,\n",
      " 'scheduler/enqueued/memory': 36,\n",
      " 'start_time': datetime.datetime(2022, 6, 22, 9, 52, 30, 298670)}\n",
      "2022-06-22 11:52:53 [scrapy.core.engine] INFO: Spider closed (finished)\n"
     ]
    }
   ],
   "source": [
    "class BookingSpider(scrapy.Spider):\n",
    "    # Name of my spider\n",
    "    name = \"booking_spider\"\n",
    "    cities = df_gps_weather.city\n",
    "    # Url to start my spider from\n",
    "    start_urls = [\n",
    "        \"https://www.booking.com/index.fr.html\",\n",
    "    ]\n",
    "\n",
    "    # Callback function that will be called when starting my spider\n",
    "    def parse(self, response):\n",
    "        for x in cities:\n",
    "            yield scrapy.FormRequest.from_response(\n",
    "                response, formdata={\"ss\": x}, callback=self.after_search\n",
    "            )\n",
    "\n",
    "    def after_search(self, response):\n",
    "        cities = response.url.split(\"ss=\")[-1].split(\"&\")[0]\n",
    "        booking = response.css(\".d4924c9e74\")\n",
    "\n",
    "        for data in booking:\n",
    "\n",
    "            yield {\n",
    "                \"ville\": cities,\n",
    "                \"hotels\": data.css(\"a div.fcab3ed991.a23c043802::text\").getall(),\n",
    "                \"liens\": data.css(\"h3.a4225678b2 a::attr(href)\").getall(),\n",
    "                'note': data.css('div.b5cd09854e.d10a6220b4::text').getall(),\n",
    "                'description' : data.css ('div.d8eab2cf7f::text').getall()\n",
    "            }\n",
    "\n",
    "        try:\n",
    "            next_page = response.css(\"a.paging-next\").attrib[\"href\"]\n",
    "        except KeyError:\n",
    "            logging.info(\"No next page. Terminating crawling process.\")\n",
    "        else:\n",
    "            yield response.follow(next_page, callback=self.after_search)\n",
    "\n",
    "    \n",
    "# Name of the file where the results will be saved\n",
    "filename = \"hotels.json\"\n",
    "\n",
    "# If file already exists, delete before crawling (because Scrapy will concatenate the last and new results otherwise)\n",
    "if filename in os.listdir():\n",
    "    os.remove(filename)\n",
    "\n",
    "# Declare a new CrawlerProcess with some settings\n",
    "process = CrawlerProcess(\n",
    "    settings={\n",
    "        \"USER_AGENT\": \"Mozilla/5.0 (Windows NT 6.1; WOW64) AppleWebKit/535.1 (KHTML, like Gecko) Chrome/13.0.782.112 Safari/535.1\",\n",
    "        \"LOG_LEVEL\": logging.INFO,\n",
    "        \"FEEDS\": {\n",
    "            filename: {\"format\": \"json\"},\n",
    "        },\n",
    "        \"AUTOTHROTTLE_ENABLED\": True,\n",
    "    }\n",
    ")\n",
    "\n",
    "# Start the crawling using the spider you defined above\n",
    "process.crawl(BookingSpider)\n",
    "process.start()\n"
   ]
  },
  {
   "cell_type": "markdown",
   "metadata": {},
   "source": [
    "### Get hotels' coordinates"
   ]
  },
  {
   "cell_type": "code",
   "execution_count": 23,
   "metadata": {},
   "outputs": [
    {
     "data": {
      "text/html": [
       "<div>\n",
       "<style scoped>\n",
       "    .dataframe tbody tr th:only-of-type {\n",
       "        vertical-align: middle;\n",
       "    }\n",
       "\n",
       "    .dataframe tbody tr th {\n",
       "        vertical-align: top;\n",
       "    }\n",
       "\n",
       "    .dataframe thead th {\n",
       "        text-align: right;\n",
       "    }\n",
       "</style>\n",
       "<table border=\"1\" class=\"dataframe\">\n",
       "  <thead>\n",
       "    <tr style=\"text-align: right;\">\n",
       "      <th></th>\n",
       "      <th>ville</th>\n",
       "      <th>hotels</th>\n",
       "      <th>liens</th>\n",
       "      <th>note</th>\n",
       "      <th>description</th>\n",
       "    </tr>\n",
       "  </thead>\n",
       "  <tbody>\n",
       "    <tr>\n",
       "      <th>0</th>\n",
       "      <td>Mont+Saint+Michel</td>\n",
       "      <td>[Hotel De La Digue, Le Saint Aubert, Les Terra...</td>\n",
       "      <td>[https://www.booking.com/hotel/fr/de-la-digue....</td>\n",
       "      <td>[7,2, 7,2, 7,3, 8,0, 7,1, 7,9, 7,2, 8,0, 8,2, ...</td>\n",
       "      <td>[L'hôtel De La Digue est un établissement trad...</td>\n",
       "    </tr>\n",
       "    <tr>\n",
       "      <th>1</th>\n",
       "      <td>St+Malo</td>\n",
       "      <td>[Au Boudoir Malouin by Cocoonr, Appart 4 pers ...</td>\n",
       "      <td>[https://www.booking.com/hotel/fr/au-boudoir-m...</td>\n",
       "      <td>[9,0, 9,4, 8,5, 9,0, 8,4, 8,7, 8,3, 7,5, 9,4, ...</td>\n",
       "      <td>[Situé dans le quartier Intra Muros de Saint-M...</td>\n",
       "    </tr>\n",
       "    <tr>\n",
       "      <th>2</th>\n",
       "      <td>Bayeux</td>\n",
       "      <td>[APY BAYEUX : appartement *** au cœur de la vi...</td>\n",
       "      <td>[https://www.booking.com/hotel/fr/apy-bayeux-a...</td>\n",
       "      <td>[9,6, 9,4, 9,3, 8,1, 8,0, 9,4, 8,5, 9,0, 8,6, ...</td>\n",
       "      <td>[Hébergement géré par un particulier, L'APY BA...</td>\n",
       "    </tr>\n",
       "    <tr>\n",
       "      <th>3</th>\n",
       "      <td>Le+Havre</td>\n",
       "      <td>[Bel appartement centre Le Havre, Les Docks, L...</td>\n",
       "      <td>[https://www.booking.com/hotel/fr/bel-appartem...</td>\n",
       "      <td>[9,0, 8,6, 9,7, 10, 8,4, 10, 8,7, 7,0, 8,1, 8,...</td>\n",
       "      <td>[Situé au Havre, à 1,7 km de la plage du Havre...</td>\n",
       "    </tr>\n",
       "    <tr>\n",
       "      <th>4</th>\n",
       "      <td>Rouen</td>\n",
       "      <td>[Cosy'Appart - LE PATRICE, Maison hypercentre ...</td>\n",
       "      <td>[https://www.booking.com/hotel/fr/cosyappart-l...</td>\n",
       "      <td>[8,5, 8,7, 9,1, 8,4, 8,5, 10, 8,9, 8,1, 9,6, 7...</td>\n",
       "      <td>[Situé dans le centre-ville de Rouen, à proxim...</td>\n",
       "    </tr>\n",
       "  </tbody>\n",
       "</table>\n",
       "</div>"
      ],
      "text/plain": [
       "               ville                                             hotels  \\\n",
       "0  Mont+Saint+Michel  [Hotel De La Digue, Le Saint Aubert, Les Terra...   \n",
       "1            St+Malo  [Au Boudoir Malouin by Cocoonr, Appart 4 pers ...   \n",
       "2             Bayeux  [APY BAYEUX : appartement *** au cœur de la vi...   \n",
       "3           Le+Havre  [Bel appartement centre Le Havre, Les Docks, L...   \n",
       "4              Rouen  [Cosy'Appart - LE PATRICE, Maison hypercentre ...   \n",
       "\n",
       "                                               liens  \\\n",
       "0  [https://www.booking.com/hotel/fr/de-la-digue....   \n",
       "1  [https://www.booking.com/hotel/fr/au-boudoir-m...   \n",
       "2  [https://www.booking.com/hotel/fr/apy-bayeux-a...   \n",
       "3  [https://www.booking.com/hotel/fr/bel-appartem...   \n",
       "4  [https://www.booking.com/hotel/fr/cosyappart-l...   \n",
       "\n",
       "                                                note  \\\n",
       "0  [7,2, 7,2, 7,3, 8,0, 7,1, 7,9, 7,2, 8,0, 8,2, ...   \n",
       "1  [9,0, 9,4, 8,5, 9,0, 8,4, 8,7, 8,3, 7,5, 9,4, ...   \n",
       "2  [9,6, 9,4, 9,3, 8,1, 8,0, 9,4, 8,5, 9,0, 8,6, ...   \n",
       "3  [9,0, 8,6, 9,7, 10, 8,4, 10, 8,7, 7,0, 8,1, 8,...   \n",
       "4  [8,5, 8,7, 9,1, 8,4, 8,5, 10, 8,9, 8,1, 9,6, 7...   \n",
       "\n",
       "                                         description  \n",
       "0  [L'hôtel De La Digue est un établissement trad...  \n",
       "1  [Situé dans le quartier Intra Muros de Saint-M...  \n",
       "2  [Hébergement géré par un particulier, L'APY BA...  \n",
       "3  [Situé au Havre, à 1,7 km de la plage du Havre...  \n",
       "4  [Situé dans le centre-ville de Rouen, à proxim...  "
      ]
     },
     "execution_count": 23,
     "metadata": {},
     "output_type": "execute_result"
    }
   ],
   "source": [
    "# Create a DataFrame from the json file\n",
    "\n",
    "df_scraped = pd.read_json(\"hotels.json\")\n",
    "df_scraped.head()\n"
   ]
  },
  {
   "cell_type": "code",
   "execution_count": 24,
   "metadata": {},
   "outputs": [],
   "source": [
    "# Reduce number of hotels per city to 20 as requested by the task\n",
    "for i in range (len(df_scraped[\"ville\"])):\n",
    "    df_scraped[\"hotels\"][i] = df_scraped[\"hotels\"][i][0:20]\n",
    "    df_scraped[\"liens\"][i] = df_scraped[\"liens\"][i][0:20]"
   ]
  },
  {
   "cell_type": "code",
   "execution_count": 25,
   "metadata": {},
   "outputs": [
    {
     "name": "stderr",
     "output_type": "stream",
     "text": [
      "2022-06-22 11:52:53 [scrapy.utils.log] INFO: Scrapy 2.6.1 started (bot: scrapybot)\n",
      "2022-06-22 11:52:53 [scrapy.utils.log] INFO: Versions: lxml 4.8.0.0, libxml2 2.9.12, cssselect 1.1.0, parsel 1.6.0, w3lib 1.21.0, Twisted 22.2.0, Python 3.9.12 (main, Apr  5 2022, 01:53:17) - [Clang 12.0.0 ], pyOpenSSL 21.0.0 (OpenSSL 1.1.1o  3 May 2022), cryptography 3.4.8, Platform macOS-10.16-x86_64-i386-64bit\n",
      "2022-06-22 11:52:53 [scrapy.crawler] INFO: Overridden settings:\n",
      "{'AUTOTHROTTLE_ENABLED': True,\n",
      " 'LOG_LEVEL': 20,\n",
      " 'USER_AGENT': 'Mozilla/5.0 (Windows NT 5.1; rv:11.0) Gecko Firefox/11.0'}\n"
     ]
    },
    {
     "ename": "ReactorAlreadyInstalledError",
     "evalue": "reactor already installed",
     "output_type": "error",
     "traceback": [
      "\u001b[0;31m---------------------------------------------------------------------------\u001b[0m",
      "\u001b[0;31mReactorAlreadyInstalledError\u001b[0m              Traceback (most recent call last)",
      "\u001b[1;32m/Users/alexlasnier/Desktop/Bloc01_BigData-WebScraping_Kayak/Plan_your_trip_with_Kayak.ipynb Cell 43'\u001b[0m in \u001b[0;36m<cell line: 49>\u001b[0;34m()\u001b[0m\n\u001b[1;32m     <a href='vscode-notebook-cell:/Users/alexlasnier/Desktop/Bloc01_BigData-WebScraping_Kayak/Plan_your_trip_with_Kayak.ipynb#ch0000041?line=36'>37</a>\u001b[0m process \u001b[39m=\u001b[39m CrawlerProcess(\n\u001b[1;32m     <a href='vscode-notebook-cell:/Users/alexlasnier/Desktop/Bloc01_BigData-WebScraping_Kayak/Plan_your_trip_with_Kayak.ipynb#ch0000041?line=37'>38</a>\u001b[0m     settings\u001b[39m=\u001b[39m{\n\u001b[1;32m     <a href='vscode-notebook-cell:/Users/alexlasnier/Desktop/Bloc01_BigData-WebScraping_Kayak/Plan_your_trip_with_Kayak.ipynb#ch0000041?line=38'>39</a>\u001b[0m         \u001b[39m\"\u001b[39m\u001b[39mUSER_AGENT\u001b[39m\u001b[39m\"\u001b[39m: \u001b[39m\"\u001b[39m\u001b[39mMozilla/5.0 (Windows NT 5.1; rv:11.0) Gecko Firefox/11.0\u001b[39m\u001b[39m\"\u001b[39m,\n\u001b[0;32m   (...)\u001b[0m\n\u001b[1;32m     <a href='vscode-notebook-cell:/Users/alexlasnier/Desktop/Bloc01_BigData-WebScraping_Kayak/Plan_your_trip_with_Kayak.ipynb#ch0000041?line=44'>45</a>\u001b[0m     }\n\u001b[1;32m     <a href='vscode-notebook-cell:/Users/alexlasnier/Desktop/Bloc01_BigData-WebScraping_Kayak/Plan_your_trip_with_Kayak.ipynb#ch0000041?line=45'>46</a>\u001b[0m )\n\u001b[1;32m     <a href='vscode-notebook-cell:/Users/alexlasnier/Desktop/Bloc01_BigData-WebScraping_Kayak/Plan_your_trip_with_Kayak.ipynb#ch0000041?line=47'>48</a>\u001b[0m \u001b[39m# Start the crawling using the spider you defined above\u001b[39;00m\n\u001b[0;32m---> <a href='vscode-notebook-cell:/Users/alexlasnier/Desktop/Bloc01_BigData-WebScraping_Kayak/Plan_your_trip_with_Kayak.ipynb#ch0000041?line=48'>49</a>\u001b[0m process\u001b[39m.\u001b[39;49mcrawl(CoordsSpider)\n\u001b[1;32m     <a href='vscode-notebook-cell:/Users/alexlasnier/Desktop/Bloc01_BigData-WebScraping_Kayak/Plan_your_trip_with_Kayak.ipynb#ch0000041?line=49'>50</a>\u001b[0m process\u001b[39m.\u001b[39mstart()\n",
      "File \u001b[0;32m~/opt/anaconda3/lib/python3.9/site-packages/scrapy/crawler.py:205\u001b[0m, in \u001b[0;36mCrawlerRunner.crawl\u001b[0;34m(self, crawler_or_spidercls, *args, **kwargs)\u001b[0m\n\u001b[1;32m    201\u001b[0m \u001b[39mif\u001b[39;00m \u001b[39misinstance\u001b[39m(crawler_or_spidercls, Spider):\n\u001b[1;32m    202\u001b[0m     \u001b[39mraise\u001b[39;00m \u001b[39mValueError\u001b[39;00m(\n\u001b[1;32m    203\u001b[0m         \u001b[39m'\u001b[39m\u001b[39mThe crawler_or_spidercls argument cannot be a spider object, \u001b[39m\u001b[39m'\u001b[39m\n\u001b[1;32m    204\u001b[0m         \u001b[39m'\u001b[39m\u001b[39mit must be a spider class (or a Crawler object)\u001b[39m\u001b[39m'\u001b[39m)\n\u001b[0;32m--> 205\u001b[0m crawler \u001b[39m=\u001b[39m \u001b[39mself\u001b[39;49m\u001b[39m.\u001b[39;49mcreate_crawler(crawler_or_spidercls)\n\u001b[1;32m    206\u001b[0m \u001b[39mreturn\u001b[39;00m \u001b[39mself\u001b[39m\u001b[39m.\u001b[39m_crawl(crawler, \u001b[39m*\u001b[39margs, \u001b[39m*\u001b[39m\u001b[39m*\u001b[39mkwargs)\n",
      "File \u001b[0;32m~/opt/anaconda3/lib/python3.9/site-packages/scrapy/crawler.py:238\u001b[0m, in \u001b[0;36mCrawlerRunner.create_crawler\u001b[0;34m(self, crawler_or_spidercls)\u001b[0m\n\u001b[1;32m    236\u001b[0m \u001b[39mif\u001b[39;00m \u001b[39misinstance\u001b[39m(crawler_or_spidercls, Crawler):\n\u001b[1;32m    237\u001b[0m     \u001b[39mreturn\u001b[39;00m crawler_or_spidercls\n\u001b[0;32m--> 238\u001b[0m \u001b[39mreturn\u001b[39;00m \u001b[39mself\u001b[39;49m\u001b[39m.\u001b[39;49m_create_crawler(crawler_or_spidercls)\n",
      "File \u001b[0;32m~/opt/anaconda3/lib/python3.9/site-packages/scrapy/crawler.py:313\u001b[0m, in \u001b[0;36mCrawlerProcess._create_crawler\u001b[0;34m(self, spidercls)\u001b[0m\n\u001b[1;32m    311\u001b[0m \u001b[39mif\u001b[39;00m \u001b[39misinstance\u001b[39m(spidercls, \u001b[39mstr\u001b[39m):\n\u001b[1;32m    312\u001b[0m     spidercls \u001b[39m=\u001b[39m \u001b[39mself\u001b[39m\u001b[39m.\u001b[39mspider_loader\u001b[39m.\u001b[39mload(spidercls)\n\u001b[0;32m--> 313\u001b[0m \u001b[39mreturn\u001b[39;00m Crawler(spidercls, \u001b[39mself\u001b[39;49m\u001b[39m.\u001b[39;49msettings, init_reactor\u001b[39m=\u001b[39;49m\u001b[39mTrue\u001b[39;49;00m)\n",
      "File \u001b[0;32m~/opt/anaconda3/lib/python3.9/site-packages/scrapy/crawler.py:82\u001b[0m, in \u001b[0;36mCrawler.__init__\u001b[0;34m(self, spidercls, settings, init_reactor)\u001b[0m\n\u001b[1;32m     80\u001b[0m     \u001b[39melse\u001b[39;00m:\n\u001b[1;32m     81\u001b[0m         \u001b[39mfrom\u001b[39;00m \u001b[39mtwisted\u001b[39;00m\u001b[39m.\u001b[39;00m\u001b[39minternet\u001b[39;00m \u001b[39mimport\u001b[39;00m default\n\u001b[0;32m---> 82\u001b[0m         default\u001b[39m.\u001b[39;49minstall()\n\u001b[1;32m     83\u001b[0m     log_reactor_info()\n\u001b[1;32m     84\u001b[0m \u001b[39mif\u001b[39;00m reactor_class:\n",
      "File \u001b[0;32m~/opt/anaconda3/lib/python3.9/site-packages/twisted/internet/selectreactor.py:194\u001b[0m, in \u001b[0;36minstall\u001b[0;34m()\u001b[0m\n\u001b[1;32m    191\u001b[0m reactor \u001b[39m=\u001b[39m SelectReactor()\n\u001b[1;32m    192\u001b[0m \u001b[39mfrom\u001b[39;00m \u001b[39mtwisted\u001b[39;00m\u001b[39m.\u001b[39;00m\u001b[39minternet\u001b[39;00m\u001b[39m.\u001b[39;00m\u001b[39mmain\u001b[39;00m \u001b[39mimport\u001b[39;00m installReactor\n\u001b[0;32m--> 194\u001b[0m installReactor(reactor)\n",
      "File \u001b[0;32m~/opt/anaconda3/lib/python3.9/site-packages/twisted/internet/main.py:32\u001b[0m, in \u001b[0;36minstallReactor\u001b[0;34m(reactor)\u001b[0m\n\u001b[1;32m     29\u001b[0m \u001b[39mimport\u001b[39;00m \u001b[39mtwisted\u001b[39;00m\u001b[39m.\u001b[39;00m\u001b[39minternet\u001b[39;00m\n\u001b[1;32m     31\u001b[0m \u001b[39mif\u001b[39;00m \u001b[39m\"\u001b[39m\u001b[39mtwisted.internet.reactor\u001b[39m\u001b[39m\"\u001b[39m \u001b[39min\u001b[39;00m sys\u001b[39m.\u001b[39mmodules:\n\u001b[0;32m---> 32\u001b[0m     \u001b[39mraise\u001b[39;00m error\u001b[39m.\u001b[39mReactorAlreadyInstalledError(\u001b[39m\"\u001b[39m\u001b[39mreactor already installed\u001b[39m\u001b[39m\"\u001b[39m)\n\u001b[1;32m     33\u001b[0m twisted\u001b[39m.\u001b[39minternet\u001b[39m.\u001b[39mreactor \u001b[39m=\u001b[39m reactor\n\u001b[1;32m     34\u001b[0m sys\u001b[39m.\u001b[39mmodules[\u001b[39m\"\u001b[39m\u001b[39mtwisted.internet.reactor\u001b[39m\u001b[39m\"\u001b[39m] \u001b[39m=\u001b[39m reactor\n",
      "\u001b[0;31mReactorAlreadyInstalledError\u001b[0m: reactor already installed"
     ]
    }
   ],
   "source": [
    "class CoordsSpider(scrapy.Spider):\n",
    "    # Name of my spider\n",
    "    name = \"coords_spider\"\n",
    "    cities = df_scraped.ville\n",
    "\n",
    "    # Url to start my spider from\n",
    "    start_urls = []\n",
    "    for i in range(0, 35):\n",
    "        start_urls += df_scraped[\"liens\"][i]\n",
    "\n",
    "    # Callback function that will be called when starting my spider\n",
    "    def parse(self, response):\n",
    "\n",
    "        yield {\n",
    "            #'ville': cities,\n",
    "            \"lat\": (\n",
    "                response.css(\"p.address.address_clean a::attr(data-atlas-latlng)\")\n",
    "                .get()\n",
    "                .split(\",\")[0]\n",
    "            ),\n",
    "            \"lon\": (\n",
    "                response.css(\"p.address.address_clean a::attr(data-atlas-latlng)\")\n",
    "                .get()\n",
    "                .split(\",\")[1]\n",
    "            ),\n",
    "        }\n",
    "\n",
    "\n",
    "# Name of the file where the results will be saved\n",
    "filename = \"hotels_coords.json\"\n",
    "\n",
    "# If file already exists, delete before crawling (because Scrapy will concatenate the last and new results otherwise)\n",
    "if filename in os.listdir():\n",
    "    os.remove(filename)\n",
    "\n",
    "# Declare a new CrawlerProcess with some settings\n",
    "process = CrawlerProcess(\n",
    "    settings={\n",
    "        \"USER_AGENT\": \"Mozilla/5.0 (Windows NT 5.1; rv:11.0) Gecko Firefox/11.0\",\n",
    "        \"LOG_LEVEL\": logging.INFO,\n",
    "        \"FEEDS\": {\n",
    "            filename: {\"format\": \"json\"},\n",
    "        },\n",
    "        \"AUTOTHROTTLE_ENABLED\": True,\n",
    "    }\n",
    ")\n",
    "\n",
    "# Start the crawling using the spider you defined above\n",
    "process.crawl(CoordsSpider)\n",
    "process.start()\n"
   ]
  },
  {
   "cell_type": "code",
   "execution_count": null,
   "metadata": {},
   "outputs": [],
   "source": [
    "coords = pd.read_json(\"hotels_coords.json\")\n",
    "coords\n"
   ]
  },
  {
   "cell_type": "code",
   "execution_count": null,
   "metadata": {},
   "outputs": [],
   "source": [
    "df[\"ville\"] = df[\"ville\"].str.replace(\"+\", \" \")\n",
    "df = df.set_index(\"location\")\n",
    "df = df.reindex(cities)\n",
    "df.reset_index(inplace=True)\n",
    "\n",
    "df.reset_index(inplace=True)\n",
    "df.rename(columns={'index': 'id'}, inplace=True)\n",
    "df.head(2)"
   ]
  },
  {
   "cell_type": "markdown",
   "metadata": {},
   "source": [
    "## Create your data lake using S3"
   ]
  },
  {
   "cell_type": "markdown",
   "metadata": {},
   "source": [
    "## ETL"
   ]
  },
  {
   "cell_type": "markdown",
   "metadata": {},
   "source": []
  }
 ],
 "metadata": {
  "interpreter": {
   "hash": "5e23285782446c6864c996c28c3fd325702bb6068d9fb9865cc2d1c7e1d13946"
  },
  "kernelspec": {
   "display_name": "Python 3.9.12 ('base')",
   "language": "python",
   "name": "python3"
  },
  "language_info": {
   "codemirror_mode": {
    "name": "ipython",
    "version": 3
   },
   "file_extension": ".py",
   "mimetype": "text/x-python",
   "name": "python",
   "nbconvert_exporter": "python",
   "pygments_lexer": "ipython3",
   "version": "3.9.12"
  }
 },
 "nbformat": 4,
 "nbformat_minor": 4
}
