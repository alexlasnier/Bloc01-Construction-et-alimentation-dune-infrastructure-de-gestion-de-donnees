{
 "cells": [
  {
   "cell_type": "markdown",
   "metadata": {},
   "source": [
    "⚠️ This project is mandatory for certification bloc #1."
   ]
  },
  {
   "cell_type": "markdown",
   "metadata": {},
   "source": [
    "![Kayak](https://seekvectorlogo.com/wp-content/uploads/2018/01/kayak-vector-logo.png)\n",
    "\n",
    "# Plan your trip with Kayak "
   ]
  },
  {
   "cell_type": "markdown",
   "metadata": {},
   "source": [
    "\n",
    "## Company's description 📇\n",
    "\n",
    "<a href=\"https://www.kayak.com\" target=\"_blank\">Kayak</a> is a travel search engine that helps user plan their next trip at the best price.\n",
    "\n",
    "The company was founded in 2004 by Steve Hafner & Paul M. English. After a few rounds of fundraising, Kayak was acquired by <a href=\"https://www.bookingholdings.com/\" target=\"_blank\">Booking Holdings</a> which now holds: \n",
    "\n",
    "* <a href=\"https://booking.com/\" target=\"_blank\">Booking.com</a>\n",
    "* <a href=\"https://kayak.com/\" target=\"_blank\">Kayak</a>\n",
    "* <a href=\"https://www.priceline.com/\" target=\"_blank\">Priceline</a>\n",
    "* <a href=\"https://www.agoda.com/\" target=\"_blank\">Agoda</a>\n",
    "* <a href=\"https://Rentalcars.com/\" target=\"_blank\">RentalCars</a>\n",
    "* <a href=\"https://www.opentable.com/\" target=\"_blank\">OpenTable</a>\n",
    "\n",
    "With over \\$300 million revenue a year, Kayak operates in almost all countries and all languages to help their users book travels accros the globe. "
   ]
  },
  {
   "cell_type": "markdown",
   "metadata": {},
   "source": [
    "## Project 🚧\n",
    "\n",
    "The marketing team needs help on a new project. After doing some user research, the team discovered that **70% of their users who are planning a trip would like to have more information about the destination they are going to**. \n",
    "\n",
    "In addition, user research shows that **people tend to be defiant about the information they are reading if they don't know the brand** which produced the content. \n",
    "\n",
    "Therefore, Kayak Marketing Team would like to create an application that will recommend where people should plan their next holidays. The application should be based on real data about:\n",
    "\n",
    "* Weather \n",
    "* Hotels in the area \n",
    "\n",
    "The application should then be able to recommend the best destinations and hotels based on the above variables at any given time. "
   ]
  },
  {
   "cell_type": "markdown",
   "metadata": {},
   "source": [
    "## Goals 🎯\n",
    "\n",
    "As the project has just started, your team doesn't have any data that can be used to create this application. Therefore, your job will be to: \n",
    "\n",
    "* Scrape data from destinations \n",
    "* Get weather data from each destination \n",
    "* Get hotels' info about each destination\n",
    "* Store all the information above in a data lake\n",
    "* Extract, transform and load cleaned data from your datalake to a data warehouse"
   ]
  },
  {
   "cell_type": "markdown",
   "metadata": {},
   "source": [
    "## Scope of this project 🖼️\n",
    "\n",
    "Marketing team wants to focus first on the best cities to travel to in France. According <a href=\"https://one-week-in.com/35-cities-to-visit-in-france/\" target=\"_blank\">One Week In.com</a> here are the top-35 cities to visit in France: \n",
    "\n",
    "```python \n",
    "[\"Mont Saint Michel\",\n",
    "\"St Malo\",\n",
    "\"Bayeux\",\n",
    "\"Le Havre\",\n",
    "\"Rouen\",\n",
    "\"Paris\",\n",
    "\"Amiens\",\n",
    "\"Lille\",\n",
    "\"Strasbourg\",\n",
    "\"Chateau du Haut Koenigsbourg\",\n",
    "\"Colmar\",\n",
    "\"Eguisheim\",\n",
    "\"Besancon\",\n",
    "\"Dijon\",\n",
    "\"Annecy\",\n",
    "\"Grenoble\",\n",
    "\"Lyon\",\n",
    "\"Gorges du Verdon\",\n",
    "\"Bormes les Mimosas\",\n",
    "\"Cassis\",\n",
    "\"Marseille\",\n",
    "\"Aix en Provence\",\n",
    "\"Avignon\",\n",
    "\"Uzes\",\n",
    "\"Nimes\",\n",
    "\"Aigues Mortes\",\n",
    "\"Saintes Maries de la mer\",\n",
    "\"Collioure\",\n",
    "\"Carcassonne\",\n",
    "\"Ariege\",\n",
    "\"Toulouse\",\n",
    "\"Montauban\",\n",
    "\"Biarritz\",\n",
    "\"Bayonne\",\n",
    "\"La Rochelle\"]\n",
    "```\n",
    "\n",
    "Your team should focus **only on the above cities for your project**. \n"
   ]
  },
  {
   "cell_type": "markdown",
   "metadata": {},
   "source": [
    "## Helpers 🦮\n",
    "\n",
    "To help you achieve this project, here are a few tips that should help you\n",
    "\n",
    "### Get weather data with an API \n",
    "\n",
    "*   Use https://nominatim.org/ to get the gps coordinates of all the cities (no subscription required) Documentation : https://nominatim.org/release-docs/develop/api/Search/\n",
    "\n",
    "*   Use https://openweathermap.org/appid (you have to subscribe to get a free apikey) and https://openweathermap.org/api/one-call-api to get some information about the weather for the 35 cities and put it in a DataFrame\n",
    "\n",
    "*   Determine the list of cities where the weather will be the nicest within the next 7 days For example, you can use the values of daily.pop and daily.rain to compute the expected volume of rain within the next 7 days... But it's only an example, actually you can have different opinions on a what a nice weather would be like 😎 Maybe the most important criterion for you is the temperature or humidity, so feel free to change the rules !\n",
    "\n",
    "*   Save all the results in a `.csv` file, you will use it later 😉 You can save all the informations that seem important to you ! Don't forget to save the name of the cities, and also to create a column containing a unique identifier (id) of each city (this is important for what's next in the project)\n",
    "\n",
    "*   Use plotly to display the best destinations on a map\n",
    "\n",
    "### Scrape Booking.com \n",
    "\n",
    "Since BookingHoldings doesn't have aggregated databases, it will be much faster to scrape data directly from booking.com \n",
    "\n",
    "You can scrap as many information asyou want, but we suggest that you get at least:\n",
    "\n",
    "*   hotel name,\n",
    "*   Url to its booking.com page,\n",
    "*   Its coordinates: latitude and longitude\n",
    "*   Score given by the website users\n",
    "*   Text description of the hotel\n",
    "\n",
    "\n",
    "### Create your data lake using S3 \n",
    "\n",
    "Once you managed to build your dataset, you should store into S3 as a csv file. \n",
    "\n",
    "### ETL \n",
    "\n",
    "Once you uploaded your data onto S3, it will be better for the next data analysis team to extract clean data directly from a Data Warehouse. Therefore, create a SQL Database using AWS RDS, extract your data from S3 and store it in your newly created DB. "
   ]
  },
  {
   "cell_type": "markdown",
   "metadata": {},
   "source": [
    "## Deliverable 📬\n",
    "\n",
    "To complete this project, your team should deliver:\n",
    "\n",
    "* A `.csv` file in an S3 bucket containing enriched information about weather and hotels for each french city\n",
    "\n",
    "* A SQL Database where we should be able to get the same cleaned data from S3 \n",
    "\n",
    "* Two maps where you should have a Top-5 destinations and a Top-20 hotels in the area. You can use plotly or any other library to do so. It should look something like this: \n",
    "\n",
    "![Map](https://full-stack-assets.s3.eu-west-3.amazonaws.com/images/Kayak_best_destination_project.png)"
   ]
  },
  {
   "cell_type": "markdown",
   "metadata": {},
   "source": [
    "# Let's start"
   ]
  },
  {
   "cell_type": "markdown",
   "metadata": {},
   "source": [
    "## Get weather data with an API"
   ]
  },
  {
   "cell_type": "code",
   "execution_count": 1,
   "metadata": {},
   "outputs": [],
   "source": [
    "# Import list of cities\n",
    "\n",
    "cities = [\n",
    "    \"Mont Saint Michel\",\n",
    "    \"St Malo\",\n",
    "    \"Bayeux\",\n",
    "    \"Le Havre\",\n",
    "    \"Rouen\",\n",
    "    \"Paris\",\n",
    "    \"Amiens\",\n",
    "    \"Lille\",\n",
    "    \"Strasbourg\",\n",
    "    \"Chateau du Haut Koenigsbourg\",\n",
    "    \"Colmar\",\n",
    "    \"Eguisheim\",\n",
    "    \"Besancon\",\n",
    "    \"Dijon\",\n",
    "    \"Annecy\",\n",
    "    \"Grenoble\",\n",
    "    \"Lyon\",\n",
    "    \"Gorges du Verdon\",\n",
    "    \"Bormes les Mimosas\",\n",
    "    \"Cassis\",\n",
    "    \"Marseille\",\n",
    "    \"Aix en Provence\",\n",
    "    \"Avignon\",\n",
    "    \"Uzes\",\n",
    "    \"Nimes\",\n",
    "    \"Aigues Mortes\",\n",
    "    \"Saintes Maries de la mer\",\n",
    "    \"Collioure\",\n",
    "    \"Carcassonne\",\n",
    "    \"Ariege\",\n",
    "    \"Toulouse\",\n",
    "    \"Montauban\",\n",
    "    \"Biarritz\",\n",
    "    \"Bayonne\",\n",
    "    \"La Rochelle\",\n",
    "]\n"
   ]
  },
  {
   "cell_type": "code",
   "execution_count": 2,
   "metadata": {},
   "outputs": [
    {
     "data": {
      "text/html": [
       "<div>\n",
       "<style scoped>\n",
       "    .dataframe tbody tr th:only-of-type {\n",
       "        vertical-align: middle;\n",
       "    }\n",
       "\n",
       "    .dataframe tbody tr th {\n",
       "        vertical-align: top;\n",
       "    }\n",
       "\n",
       "    .dataframe thead th {\n",
       "        text-align: right;\n",
       "    }\n",
       "</style>\n",
       "<table border=\"1\" class=\"dataframe\">\n",
       "  <thead>\n",
       "    <tr style=\"text-align: right;\">\n",
       "      <th></th>\n",
       "      <th>id</th>\n",
       "      <th>city</th>\n",
       "    </tr>\n",
       "  </thead>\n",
       "  <tbody>\n",
       "    <tr>\n",
       "      <th>0</th>\n",
       "      <td>0</td>\n",
       "      <td>Mont Saint Michel</td>\n",
       "    </tr>\n",
       "    <tr>\n",
       "      <th>1</th>\n",
       "      <td>1</td>\n",
       "      <td>St Malo</td>\n",
       "    </tr>\n",
       "    <tr>\n",
       "      <th>2</th>\n",
       "      <td>2</td>\n",
       "      <td>Bayeux</td>\n",
       "    </tr>\n",
       "    <tr>\n",
       "      <th>3</th>\n",
       "      <td>3</td>\n",
       "      <td>Le Havre</td>\n",
       "    </tr>\n",
       "    <tr>\n",
       "      <th>4</th>\n",
       "      <td>4</td>\n",
       "      <td>Rouen</td>\n",
       "    </tr>\n",
       "    <tr>\n",
       "      <th>5</th>\n",
       "      <td>5</td>\n",
       "      <td>Paris</td>\n",
       "    </tr>\n",
       "    <tr>\n",
       "      <th>6</th>\n",
       "      <td>6</td>\n",
       "      <td>Amiens</td>\n",
       "    </tr>\n",
       "    <tr>\n",
       "      <th>7</th>\n",
       "      <td>7</td>\n",
       "      <td>Lille</td>\n",
       "    </tr>\n",
       "    <tr>\n",
       "      <th>8</th>\n",
       "      <td>8</td>\n",
       "      <td>Strasbourg</td>\n",
       "    </tr>\n",
       "    <tr>\n",
       "      <th>9</th>\n",
       "      <td>9</td>\n",
       "      <td>Chateau du Haut Koenigsbourg</td>\n",
       "    </tr>\n",
       "    <tr>\n",
       "      <th>10</th>\n",
       "      <td>10</td>\n",
       "      <td>Colmar</td>\n",
       "    </tr>\n",
       "    <tr>\n",
       "      <th>11</th>\n",
       "      <td>11</td>\n",
       "      <td>Eguisheim</td>\n",
       "    </tr>\n",
       "    <tr>\n",
       "      <th>12</th>\n",
       "      <td>12</td>\n",
       "      <td>Besancon</td>\n",
       "    </tr>\n",
       "    <tr>\n",
       "      <th>13</th>\n",
       "      <td>13</td>\n",
       "      <td>Dijon</td>\n",
       "    </tr>\n",
       "    <tr>\n",
       "      <th>14</th>\n",
       "      <td>14</td>\n",
       "      <td>Annecy</td>\n",
       "    </tr>\n",
       "    <tr>\n",
       "      <th>15</th>\n",
       "      <td>15</td>\n",
       "      <td>Grenoble</td>\n",
       "    </tr>\n",
       "    <tr>\n",
       "      <th>16</th>\n",
       "      <td>16</td>\n",
       "      <td>Lyon</td>\n",
       "    </tr>\n",
       "    <tr>\n",
       "      <th>17</th>\n",
       "      <td>17</td>\n",
       "      <td>Gorges du Verdon</td>\n",
       "    </tr>\n",
       "    <tr>\n",
       "      <th>18</th>\n",
       "      <td>18</td>\n",
       "      <td>Bormes les Mimosas</td>\n",
       "    </tr>\n",
       "    <tr>\n",
       "      <th>19</th>\n",
       "      <td>19</td>\n",
       "      <td>Cassis</td>\n",
       "    </tr>\n",
       "    <tr>\n",
       "      <th>20</th>\n",
       "      <td>20</td>\n",
       "      <td>Marseille</td>\n",
       "    </tr>\n",
       "    <tr>\n",
       "      <th>21</th>\n",
       "      <td>21</td>\n",
       "      <td>Aix en Provence</td>\n",
       "    </tr>\n",
       "    <tr>\n",
       "      <th>22</th>\n",
       "      <td>22</td>\n",
       "      <td>Avignon</td>\n",
       "    </tr>\n",
       "    <tr>\n",
       "      <th>23</th>\n",
       "      <td>23</td>\n",
       "      <td>Uzes</td>\n",
       "    </tr>\n",
       "    <tr>\n",
       "      <th>24</th>\n",
       "      <td>24</td>\n",
       "      <td>Nimes</td>\n",
       "    </tr>\n",
       "    <tr>\n",
       "      <th>25</th>\n",
       "      <td>25</td>\n",
       "      <td>Aigues Mortes</td>\n",
       "    </tr>\n",
       "    <tr>\n",
       "      <th>26</th>\n",
       "      <td>26</td>\n",
       "      <td>Saintes Maries de la mer</td>\n",
       "    </tr>\n",
       "    <tr>\n",
       "      <th>27</th>\n",
       "      <td>27</td>\n",
       "      <td>Collioure</td>\n",
       "    </tr>\n",
       "    <tr>\n",
       "      <th>28</th>\n",
       "      <td>28</td>\n",
       "      <td>Carcassonne</td>\n",
       "    </tr>\n",
       "    <tr>\n",
       "      <th>29</th>\n",
       "      <td>29</td>\n",
       "      <td>Ariege</td>\n",
       "    </tr>\n",
       "    <tr>\n",
       "      <th>30</th>\n",
       "      <td>30</td>\n",
       "      <td>Toulouse</td>\n",
       "    </tr>\n",
       "    <tr>\n",
       "      <th>31</th>\n",
       "      <td>31</td>\n",
       "      <td>Montauban</td>\n",
       "    </tr>\n",
       "    <tr>\n",
       "      <th>32</th>\n",
       "      <td>32</td>\n",
       "      <td>Biarritz</td>\n",
       "    </tr>\n",
       "    <tr>\n",
       "      <th>33</th>\n",
       "      <td>33</td>\n",
       "      <td>Bayonne</td>\n",
       "    </tr>\n",
       "    <tr>\n",
       "      <th>34</th>\n",
       "      <td>34</td>\n",
       "      <td>La Rochelle</td>\n",
       "    </tr>\n",
       "  </tbody>\n",
       "</table>\n",
       "</div>"
      ],
      "text/plain": [
       "    id                          city\n",
       "0    0             Mont Saint Michel\n",
       "1    1                       St Malo\n",
       "2    2                        Bayeux\n",
       "3    3                      Le Havre\n",
       "4    4                         Rouen\n",
       "5    5                         Paris\n",
       "6    6                        Amiens\n",
       "7    7                         Lille\n",
       "8    8                    Strasbourg\n",
       "9    9  Chateau du Haut Koenigsbourg\n",
       "10  10                        Colmar\n",
       "11  11                     Eguisheim\n",
       "12  12                      Besancon\n",
       "13  13                         Dijon\n",
       "14  14                        Annecy\n",
       "15  15                      Grenoble\n",
       "16  16                          Lyon\n",
       "17  17              Gorges du Verdon\n",
       "18  18            Bormes les Mimosas\n",
       "19  19                        Cassis\n",
       "20  20                     Marseille\n",
       "21  21               Aix en Provence\n",
       "22  22                       Avignon\n",
       "23  23                          Uzes\n",
       "24  24                         Nimes\n",
       "25  25                 Aigues Mortes\n",
       "26  26      Saintes Maries de la mer\n",
       "27  27                     Collioure\n",
       "28  28                   Carcassonne\n",
       "29  29                        Ariege\n",
       "30  30                      Toulouse\n",
       "31  31                     Montauban\n",
       "32  32                      Biarritz\n",
       "33  33                       Bayonne\n",
       "34  34                   La Rochelle"
      ]
     },
     "execution_count": 2,
     "metadata": {},
     "output_type": "execute_result"
    }
   ],
   "source": [
    "import pandas as pd\n",
    "\n",
    "# Creating a dataframe from the list of cities\n",
    "df_cities = pd.DataFrame(data=cities, columns=[\"city\"])\n",
    "df_cities = df_cities.reset_index()\n",
    "df_cities = df_cities.rename(columns={\"index\": \"id\"})\n",
    "df_cities\n"
   ]
  },
  {
   "cell_type": "markdown",
   "metadata": {},
   "source": [
    "### Nominatim API : get the gps coordinates of all the cities => https://nominatim.org/release-docs/latest/"
   ]
  },
  {
   "cell_type": "code",
   "execution_count": 3,
   "metadata": {},
   "outputs": [
    {
     "data": {
      "text/plain": [
       "[{'place_id': 281822562,\n",
       "  'licence': 'Data © OpenStreetMap contributors, ODbL 1.0. https://osm.org/copyright',\n",
       "  'osm_type': 'relation',\n",
       "  'osm_id': 117858,\n",
       "  'boundingbox': ['46.1331804', '46.1908971', '-1.2419231', '-1.111097'],\n",
       "  'lat': '46.1591126',\n",
       "  'lon': '-1.1520434',\n",
       "  'display_name': 'La Rochelle, Charente-Maritime, Nouvelle-Aquitaine, France métropolitaine, 17000, France',\n",
       "  'class': 'boundary',\n",
       "  'type': 'administrative',\n",
       "  'importance': 0.9114837096874572,\n",
       "  'icon': 'https://nominatim.openstreetmap.org/ui/mapicons//poi_boundary_administrative.p.20.png'},\n",
       " {'place_id': 282096286,\n",
       "  'licence': 'Data © OpenStreetMap contributors, ODbL 1.0. https://osm.org/copyright',\n",
       "  'osm_type': 'relation',\n",
       "  'osm_id': 1215878,\n",
       "  'boundingbox': ['47.7388479', '47.7647325', '5.7060641', '5.7454734'],\n",
       "  'lat': '47.7470598',\n",
       "  'lon': '5.7321403',\n",
       "  'display_name': 'La Rochelle, Vesoul, Haute-Saône, Bourgogne-Franche-Comté, France métropolitaine, 70120, France',\n",
       "  'class': 'boundary',\n",
       "  'type': 'administrative',\n",
       "  'importance': 0.8432911295153213,\n",
       "  'icon': 'https://nominatim.openstreetmap.org/ui/mapicons//poi_boundary_administrative.p.20.png'},\n",
       " {'place_id': 282721856,\n",
       "  'licence': 'Data © OpenStreetMap contributors, ODbL 1.0. https://osm.org/copyright',\n",
       "  'osm_type': 'relation',\n",
       "  'osm_id': 1661547,\n",
       "  'boundingbox': ['46.0036902', '46.3715027', '-1.5626797', '-0.6805266'],\n",
       "  'lat': '46.187679599999996',\n",
       "  'lon': '-1.064280735046797',\n",
       "  'display_name': 'La Rochelle, Charente-Maritime, Nouvelle-Aquitaine, France métropolitaine, France',\n",
       "  'class': 'boundary',\n",
       "  'type': 'administrative',\n",
       "  'importance': 0.6330614454416834,\n",
       "  'icon': 'https://nominatim.openstreetmap.org/ui/mapicons//poi_boundary_administrative.p.20.png'},\n",
       " {'place_id': 18274968,\n",
       "  'licence': 'Data © OpenStreetMap contributors, ODbL 1.0. https://osm.org/copyright',\n",
       "  'osm_type': 'node',\n",
       "  'osm_id': 2031899920,\n",
       "  'boundingbox': ['48.9231626', '48.9631626', '-1.3637098', '-1.3237098'],\n",
       "  'lat': '48.9431626',\n",
       "  'lon': '-1.3437098',\n",
       "  'display_name': 'La Rochelle, Saint-Denis-le-Gast, Coutances, Manche, Normandie, France métropolitaine, 50450, France',\n",
       "  'class': 'place',\n",
       "  'type': 'hamlet',\n",
       "  'importance': 0.56,\n",
       "  'icon': 'https://nominatim.openstreetmap.org/ui/mapicons//poi_place_village.p.20.png'},\n",
       " {'place_id': 70412653,\n",
       "  'licence': 'Data © OpenStreetMap contributors, ODbL 1.0. https://osm.org/copyright',\n",
       "  'osm_type': 'node',\n",
       "  'osm_id': 6517919775,\n",
       "  'boundingbox': ['46.2462932', '46.2862932', '4.2703536', '4.3103536'],\n",
       "  'lat': '46.2662932',\n",
       "  'lon': '4.2903536',\n",
       "  'display_name': 'La Rochelle, La Chapelle-sous-Dun, Charolles, Saône-et-Loire, Bourgogne-Franche-Comté, France métropolitaine, 71800, France',\n",
       "  'class': 'place',\n",
       "  'type': 'hamlet',\n",
       "  'importance': 0.56,\n",
       "  'icon': 'https://nominatim.openstreetmap.org/ui/mapicons//poi_place_village.p.20.png'},\n",
       " {'place_id': 58095389,\n",
       "  'licence': 'Data © OpenStreetMap contributors, ODbL 1.0. https://osm.org/copyright',\n",
       "  'osm_type': 'node',\n",
       "  'osm_id': 5205144194,\n",
       "  'boundingbox': ['48.5844837', '48.6244837', '-0.5657169', '-0.5257169'],\n",
       "  'lat': '48.6044837',\n",
       "  'lon': '-0.5457169',\n",
       "  'display_name': 'La Rochelle, Champsecret, Argentan, Orne, Normandie, France métropolitaine, 61700, France',\n",
       "  'class': 'place',\n",
       "  'type': 'hamlet',\n",
       "  'importance': 0.56,\n",
       "  'icon': 'https://nominatim.openstreetmap.org/ui/mapicons//poi_place_village.p.20.png'},\n",
       " {'place_id': 29342265,\n",
       "  'licence': 'Data © OpenStreetMap contributors, ODbL 1.0. https://osm.org/copyright',\n",
       "  'osm_type': 'node',\n",
       "  'osm_id': 2781941597,\n",
       "  'boundingbox': ['46.2742431', '46.3142431', '4.3645907', '4.4045907'],\n",
       "  'lat': '46.2942431',\n",
       "  'lon': '4.3845907',\n",
       "  'display_name': 'La Rochelle, Châtenay, Charolles, Saône-et-Loire, Bourgogne-Franche-Comté, France métropolitaine, 71800, France',\n",
       "  'class': 'place',\n",
       "  'type': 'hamlet',\n",
       "  'importance': 0.56,\n",
       "  'icon': 'https://nominatim.openstreetmap.org/ui/mapicons//poi_place_village.p.20.png'},\n",
       " {'place_id': 31277038,\n",
       "  'licence': 'Data © OpenStreetMap contributors, ODbL 1.0. https://osm.org/copyright',\n",
       "  'osm_type': 'node',\n",
       "  'osm_id': 2815202805,\n",
       "  'boundingbox': ['48.3631712', '48.4031712', '-1.7417726', '-1.7017726'],\n",
       "  'lat': '48.3831712',\n",
       "  'lon': '-1.7217726',\n",
       "  'display_name': 'La Rochelle, Combourg, Saint-Malo, Ille-et-Vilaine, Bretagne, France métropolitaine, 35270, France',\n",
       "  'class': 'place',\n",
       "  'type': 'hamlet',\n",
       "  'importance': 0.56,\n",
       "  'icon': 'https://nominatim.openstreetmap.org/ui/mapicons//poi_place_village.p.20.png'},\n",
       " {'place_id': 57539615,\n",
       "  'licence': 'Data © OpenStreetMap contributors, ODbL 1.0. https://osm.org/copyright',\n",
       "  'osm_type': 'node',\n",
       "  'osm_id': 5109614681,\n",
       "  'boundingbox': ['47.9467784', '47.9867784', '-1.2964117', '-1.2564117'],\n",
       "  'lat': '47.9667784',\n",
       "  'lon': '-1.2764117',\n",
       "  'display_name': 'La Rochelle, Domalain, Fougères-Vitré, Ille-et-Vilaine, Bretagne, France métropolitaine, 35680, France',\n",
       "  'class': 'place',\n",
       "  'type': 'hamlet',\n",
       "  'importance': 0.56,\n",
       "  'icon': 'https://nominatim.openstreetmap.org/ui/mapicons//poi_place_village.p.20.png'},\n",
       " {'place_id': 66563416,\n",
       "  'licence': 'Data © OpenStreetMap contributors, ODbL 1.0. https://osm.org/copyright',\n",
       "  'osm_type': 'node',\n",
       "  'osm_id': 6030811020,\n",
       "  'boundingbox': ['48.5400804', '48.5800804', '-1.8561687', '-1.8161687'],\n",
       "  'lat': '48.5600804',\n",
       "  'lon': '-1.8361687',\n",
       "  'display_name': 'La Rochelle, Roz-Landrieux, Saint-Malo, Ille-et-Vilaine, Bretagne, France métropolitaine, 35120, France',\n",
       "  'class': 'place',\n",
       "  'type': 'hamlet',\n",
       "  'importance': 0.56,\n",
       "  'icon': 'https://nominatim.openstreetmap.org/ui/mapicons//poi_place_village.p.20.png'}]"
      ]
     },
     "execution_count": 3,
     "metadata": {},
     "output_type": "execute_result"
    }
   ],
   "source": [
    "# Try a city with blank space in name to see if formatting needed:\n",
    "import requests\n",
    "\n",
    "params = {\"city\": \"La Rochelle\", \"country\": \"France\", \"format\": \"json\"}\n",
    "\n",
    "r = requests.get(\"https://nominatim.openstreetmap.org/search?\", params).json()\n",
    "\n",
    "r\n"
   ]
  },
  {
   "cell_type": "code",
   "execution_count": 4,
   "metadata": {},
   "outputs": [
    {
     "data": {
      "text/plain": [
       "[{'place_id': 49750339,\n",
       "  'licence': 'Data © OpenStreetMap contributors, ODbL 1.0. https://osm.org/copyright',\n",
       "  'osm_type': 'node',\n",
       "  'osm_id': 4245068168,\n",
       "  'boundingbox': ['48.2494726', '48.2495726', '7.3454423', '7.3455423'],\n",
       "  'lat': '48.2495226',\n",
       "  'lon': '7.3454923',\n",
       "  'display_name': 'Château du Haut-Kœnigsbourg, Orschwiller, Sélestat-Erstein, Bas-Rhin, Grand Est, France métropolitaine, 67600, France',\n",
       "  'class': 'place',\n",
       "  'type': 'isolated_dwelling',\n",
       "  'importance': 0.51}]"
      ]
     },
     "execution_count": 4,
     "metadata": {},
     "output_type": "execute_result"
    }
   ],
   "source": [
    "# I don't know 'Chateau du Haut Koenigsbourg', check if Nominatim knows it\n",
    "import requests\n",
    "\n",
    "params = {\"city\": \"Chateau du Haut Koenigsbourg\", \"country\": \"France\", \"format\": \"json\"}\n",
    "\n",
    "r = requests.get(\"https://nominatim.openstreetmap.org/search?\", params).json()\n",
    "\n",
    "r\n"
   ]
  },
  {
   "cell_type": "code",
   "execution_count": 5,
   "metadata": {},
   "outputs": [
    {
     "data": {
      "text/plain": [
       "[]"
      ]
     },
     "execution_count": 5,
     "metadata": {},
     "output_type": "execute_result"
    }
   ],
   "source": [
    "# 'Gorges du Verdon' isn't a city but a canyon, check if Nominatim works with or not\n",
    "import requests\n",
    "\n",
    "params = {\"city\": \"Gorges du Verdon\", \"country\": \"France\", \"format\": \"json\"}\n",
    "\n",
    "r = requests.get(\"https://nominatim.openstreetmap.org/search?\", params).json()\n",
    "\n",
    "r\n",
    "\n",
    "# Doesnt' works... Google search : 'Castellane' will be use for Gorges du Verdon"
   ]
  },
  {
   "cell_type": "markdown",
   "metadata": {},
   "source": [
    "Ariege is a department and not a city, its prefecture is 'Foix'. We'll use this city"
   ]
  },
  {
   "cell_type": "markdown",
   "metadata": {},
   "source": [
    "#### Request API"
   ]
  },
  {
   "cell_type": "code",
   "execution_count": 6,
   "metadata": {},
   "outputs": [
    {
     "name": "stdout",
     "output_type": "stream",
     "text": [
      "Request for city: Mont Saint Michel\n",
      "Request for city: St Malo\n",
      "Request for city: Bayeux\n",
      "Request for city: Le Havre\n",
      "Request for city: Rouen\n",
      "Request for city: Paris\n",
      "Request for city: Amiens\n",
      "Request for city: Lille\n",
      "Request for city: Strasbourg\n",
      "Request for city: Chateau du Haut Koenigsbourg\n",
      "Request for city: Colmar\n",
      "Request for city: Eguisheim\n",
      "Request for city: Besancon\n",
      "Request for city: Dijon\n",
      "Request for city: Annecy\n",
      "Request for city: Grenoble\n",
      "Request for city: Lyon\n",
      "Request for city: Gorges du Verdon\n",
      "Request for city: Bormes les Mimosas\n",
      "Request for city: Cassis\n",
      "Request for city: Marseille\n",
      "Request for city: Aix en Provence\n",
      "Request for city: Avignon\n",
      "Request for city: Uzes\n",
      "Request for city: Nimes\n",
      "Request for city: Aigues Mortes\n",
      "Request for city: Saintes Maries de la mer\n",
      "Request for city: Collioure\n",
      "Request for city: Carcassonne\n",
      "Request for city: Ariege\n",
      "Request for city: Toulouse\n",
      "Request for city: Montauban\n",
      "Request for city: Biarritz\n",
      "Request for city: Bayonne\n",
      "Request for city: La Rochelle\n"
     ]
    }
   ],
   "source": [
    "# Creating a copy of df_cities to store the coordinates from Nominatim API\n",
    "\n",
    "df_gps = df_cities.copy()\n",
    "lat_list = []\n",
    "lon_list = []\n",
    "\n",
    "for i in cities:\n",
    "    print(f\"Request for city: {i}\")\n",
    "    params = {\"city\": i, \"country\": \"France\", \"format\": \"json\"}\n",
    "    # No 'Gorges du Verdon' city, replacing by 'Castellane'\n",
    "    if i == \"Gorges du Verdon\":\n",
    "        i = \"Castellane\"\n",
    "        r = requests.get(\n",
    "            f\"https://nominatim.openstreetmap.org/search?city={i}&country=France&format=json\"\n",
    "        ).json()\n",
    "        lat_list.append(r[0][\"lat\"])\n",
    "        lon_list.append(r[0][\"lon\"])\n",
    "    # 'Ariege' not a city, using the prefecture instead -> 'Foix'\n",
    "    elif i == \"Ariege\":\n",
    "        i = \"Foix\"\n",
    "        r = requests.get(\n",
    "            f\"https://nominatim.openstreetmap.org/search?city={i}&country=France&format=json\"\n",
    "        ).json()\n",
    "        lat_list.append(r[0][\"lat\"])\n",
    "        lon_list.append(r[0][\"lon\"])\n",
    "    else:\n",
    "        r = requests.get(f\"https://nominatim.openstreetmap.org/search?\", params).json()\n",
    "        lat_list.append(r[0][\"lat\"])\n",
    "        lon_list.append(r[0][\"lon\"])\n",
    "\n",
    "# Adding the coordinates to the dataframe\n",
    "df_gps[\"lat\"] = lat_list\n",
    "df_gps[\"lon\"] = lon_list\n"
   ]
  },
  {
   "cell_type": "code",
   "execution_count": 7,
   "metadata": {},
   "outputs": [
    {
     "name": "stdout",
     "output_type": "stream",
     "text": [
      "   id               city         lat                 lon\n",
      "0   0  Mont Saint Michel  48.6359541  -1.511459954959514\n",
      "1   1            St Malo   48.649518          -2.0260409\n",
      "2   2             Bayeux  49.2764624          -0.7024738\n",
      "3   3           Le Havre  49.4938975           0.1079732\n",
      "4   4              Rouen  49.4404591           1.0939658\n",
      "\n",
      "<class 'pandas.core.frame.DataFrame'>\n",
      "RangeIndex: 35 entries, 0 to 34\n",
      "Data columns (total 4 columns):\n",
      " #   Column  Non-Null Count  Dtype \n",
      "---  ------  --------------  ----- \n",
      " 0   id      35 non-null     int64 \n",
      " 1   city    35 non-null     object\n",
      " 2   lat     35 non-null     object\n",
      " 3   lon     35 non-null     object\n",
      "dtypes: int64(1), object(3)\n",
      "memory usage: 1.2+ KB\n",
      "None\n"
     ]
    }
   ],
   "source": [
    "print(df_gps.head())\n",
    "\n",
    "print()\n",
    "\n",
    "print(df_gps.info())\n"
   ]
  },
  {
   "cell_type": "markdown",
   "metadata": {},
   "source": [
    "### OpenWeather : get weather of the week => https://openweathermap.org"
   ]
  },
  {
   "cell_type": "code",
   "execution_count": 8,
   "metadata": {},
   "outputs": [
    {
     "data": {
      "text/plain": [
       "{'lat': 48.6495,\n",
       " 'lon': -2.026,\n",
       " 'timezone': 'Europe/Paris',\n",
       " 'timezone_offset': 7200,\n",
       " 'daily': [{'dt': 1653048000,\n",
       "   'sunrise': 1653020478,\n",
       "   'sunset': 1653076093,\n",
       "   'moonrise': 1653005580,\n",
       "   'moonset': 1653033900,\n",
       "   'moon_phase': 0.66,\n",
       "   'temp': {'day': 17.76,\n",
       "    'min': 12.79,\n",
       "    'max': 19.29,\n",
       "    'night': 12.79,\n",
       "    'eve': 16.07,\n",
       "    'morn': 14.11},\n",
       "   'feels_like': {'day': 17.29, 'night': 12.42, 'eve': 15.59, 'morn': 13.8},\n",
       "   'pressure': 1022,\n",
       "   'humidity': 65,\n",
       "   'dew_point': 11.1,\n",
       "   'wind_speed': 7.72,\n",
       "   'wind_deg': 328,\n",
       "   'wind_gust': 9.59,\n",
       "   'weather': [{'id': 500,\n",
       "     'main': 'Rain',\n",
       "     'description': 'légère pluie',\n",
       "     'icon': '10d'}],\n",
       "   'clouds': 28,\n",
       "   'pop': 0.64,\n",
       "   'rain': 0.58,\n",
       "   'uvi': 6.48},\n",
       "  {'dt': 1653134400,\n",
       "   'sunrise': 1653106811,\n",
       "   'sunset': 1653162568,\n",
       "   'moonrise': 1653094560,\n",
       "   'moonset': 1653125220,\n",
       "   'moon_phase': 0.7,\n",
       "   'temp': {'day': 17.43,\n",
       "    'min': 11.07,\n",
       "    'max': 17.7,\n",
       "    'night': 13.35,\n",
       "    'eve': 15.72,\n",
       "    'morn': 12.22},\n",
       "   'feels_like': {'day': 16.9, 'night': 12.88, 'eve': 15.2, 'morn': 11.74},\n",
       "   'pressure': 1022,\n",
       "   'humidity': 64,\n",
       "   'dew_point': 10.07,\n",
       "   'wind_speed': 5.07,\n",
       "   'wind_deg': 13,\n",
       "   'wind_gust': 6.78,\n",
       "   'weather': [{'id': 802,\n",
       "     'main': 'Clouds',\n",
       "     'description': 'partiellement nuageux',\n",
       "     'icon': '03d'}],\n",
       "   'clouds': 41,\n",
       "   'pop': 0,\n",
       "   'uvi': 7.12},\n",
       "  {'dt': 1653220800,\n",
       "   'sunrise': 1653193146,\n",
       "   'sunset': 1653249043,\n",
       "   'moonrise': 1653182880,\n",
       "   'moonset': 1653216480,\n",
       "   'moon_phase': 0.75,\n",
       "   'temp': {'day': 18.61,\n",
       "    'min': 12.47,\n",
       "    'max': 19.08,\n",
       "    'night': 14.78,\n",
       "    'eve': 16.35,\n",
       "    'morn': 13.7},\n",
       "   'feels_like': {'day': 18.35, 'night': 14.69, 'eve': 16.29, 'morn': 13.21},\n",
       "   'pressure': 1013,\n",
       "   'humidity': 70,\n",
       "   'dew_point': 12.59,\n",
       "   'wind_speed': 6.75,\n",
       "   'wind_deg': 356,\n",
       "   'wind_gust': 10.61,\n",
       "   'weather': [{'id': 500,\n",
       "     'main': 'Rain',\n",
       "     'description': 'légère pluie',\n",
       "     'icon': '10d'}],\n",
       "   'clouds': 95,\n",
       "   'pop': 0.4,\n",
       "   'rain': 0.44,\n",
       "   'uvi': 6.71},\n",
       "  {'dt': 1653307200,\n",
       "   'sunrise': 1653279483,\n",
       "   'sunset': 1653335516,\n",
       "   'moonrise': 1653270660,\n",
       "   'moonset': 1653307620,\n",
       "   'moon_phase': 0.77,\n",
       "   'temp': {'day': 14.72,\n",
       "    'min': 11.74,\n",
       "    'max': 15.04,\n",
       "    'night': 11.74,\n",
       "    'eve': 13.92,\n",
       "    'morn': 13.52},\n",
       "   'feels_like': {'day': 14.41, 'night': 11.22, 'eve': 13.4, 'morn': 13.04},\n",
       "   'pressure': 1007,\n",
       "   'humidity': 83,\n",
       "   'dew_point': 11.91,\n",
       "   'wind_speed': 7.65,\n",
       "   'wind_deg': 325,\n",
       "   'wind_gust': 11.51,\n",
       "   'weather': [{'id': 500,\n",
       "     'main': 'Rain',\n",
       "     'description': 'légère pluie',\n",
       "     'icon': '10d'}],\n",
       "   'clouds': 100,\n",
       "   'pop': 0.63,\n",
       "   'rain': 3.31,\n",
       "   'uvi': 5.25},\n",
       "  {'dt': 1653393600,\n",
       "   'sunrise': 1653365823,\n",
       "   'sunset': 1653421988,\n",
       "   'moonrise': 1653358200,\n",
       "   'moonset': 1653398580,\n",
       "   'moon_phase': 0.81,\n",
       "   'temp': {'day': 14.29,\n",
       "    'min': 10,\n",
       "    'max': 14.42,\n",
       "    'night': 11.68,\n",
       "    'eve': 13.88,\n",
       "    'morn': 10.53},\n",
       "   'feels_like': {'day': 13.58, 'night': 11.07, 'eve': 13.15, 'morn': 9.91},\n",
       "   'pressure': 1011,\n",
       "   'humidity': 69,\n",
       "   'dew_point': 8.69,\n",
       "   'wind_speed': 8.28,\n",
       "   'wind_deg': 248,\n",
       "   'wind_gust': 12.58,\n",
       "   'weather': [{'id': 500,\n",
       "     'main': 'Rain',\n",
       "     'description': 'légère pluie',\n",
       "     'icon': '10d'}],\n",
       "   'clouds': 98,\n",
       "   'pop': 0.7,\n",
       "   'rain': 1.63,\n",
       "   'uvi': 5.96},\n",
       "  {'dt': 1653480000,\n",
       "   'sunrise': 1653452164,\n",
       "   'sunset': 1653508458,\n",
       "   'moonrise': 1653445560,\n",
       "   'moonset': 1653489300,\n",
       "   'moon_phase': 0.84,\n",
       "   'temp': {'day': 16.04,\n",
       "    'min': 10.03,\n",
       "    'max': 17.04,\n",
       "    'night': 12.67,\n",
       "    'eve': 14.61,\n",
       "    'morn': 11.13},\n",
       "   'feels_like': {'day': 15.55, 'night': 12.34, 'eve': 14.29, 'morn': 10.52},\n",
       "   'pressure': 1019,\n",
       "   'humidity': 71,\n",
       "   'dew_point': 10.83,\n",
       "   'wind_speed': 7.11,\n",
       "   'wind_deg': 240,\n",
       "   'wind_gust': 9.75,\n",
       "   'weather': [{'id': 500,\n",
       "     'main': 'Rain',\n",
       "     'description': 'légère pluie',\n",
       "     'icon': '10d'}],\n",
       "   'clouds': 38,\n",
       "   'pop': 0.2,\n",
       "   'rain': 0.29,\n",
       "   'uvi': 6},\n",
       "  {'dt': 1653566400,\n",
       "   'sunrise': 1653538508,\n",
       "   'sunset': 1653594928,\n",
       "   'moonrise': 1653532920,\n",
       "   'moonset': 1653579960,\n",
       "   'moon_phase': 0.87,\n",
       "   'temp': {'day': 15.23,\n",
       "    'min': 11.14,\n",
       "    'max': 15.4,\n",
       "    'night': 12.62,\n",
       "    'eve': 14.24,\n",
       "    'morn': 12.08},\n",
       "   'feels_like': {'day': 14.56, 'night': 12.18, 'eve': 13.68, 'morn': 11.54},\n",
       "   'pressure': 1026,\n",
       "   'humidity': 67,\n",
       "   'dew_point': 8.97,\n",
       "   'wind_speed': 5.37,\n",
       "   'wind_deg': 289,\n",
       "   'wind_gust': 7.26,\n",
       "   'weather': [{'id': 802,\n",
       "     'main': 'Clouds',\n",
       "     'description': 'partiellement nuageux',\n",
       "     'icon': '03d'}],\n",
       "   'clouds': 38,\n",
       "   'pop': 0,\n",
       "   'uvi': 6},\n",
       "  {'dt': 1653652800,\n",
       "   'sunrise': 1653624854,\n",
       "   'sunset': 1653681395,\n",
       "   'moonrise': 1653620280,\n",
       "   'moonset': 1653670560,\n",
       "   'moon_phase': 0.9,\n",
       "   'temp': {'day': 15.07,\n",
       "    'min': 11.19,\n",
       "    'max': 15.07,\n",
       "    'night': 11.19,\n",
       "    'eve': 13.69,\n",
       "    'morn': 13.61},\n",
       "   'feels_like': {'day': 14.41, 'night': 10.32, 'eve': 12.76, 'morn': 13.4},\n",
       "   'pressure': 1030,\n",
       "   'humidity': 68,\n",
       "   'dew_point': 8.91,\n",
       "   'wind_speed': 5.7,\n",
       "   'wind_deg': 274,\n",
       "   'wind_gust': 9.3,\n",
       "   'weather': [{'id': 804,\n",
       "     'main': 'Clouds',\n",
       "     'description': 'couvert',\n",
       "     'icon': '04d'}],\n",
       "   'clouds': 86,\n",
       "   'pop': 0,\n",
       "   'uvi': 6}],\n",
       " 'alerts': [{'sender_name': 'METEO-FRANCE',\n",
       "   'event': 'Moderate thunderstorm warning',\n",
       "   'start': 1653027420,\n",
       "   'end': 1653105600,\n",
       "   'description': 'Although rather usual in this region, locally or potentially dangerous phenomena are expected. (such as local winds, summer thunderstorms, rising streams or high waves)',\n",
       "   'tags': ['Thunderstorm']}]}"
      ]
     },
     "execution_count": 8,
     "metadata": {},
     "output_type": "execute_result"
    }
   ],
   "source": [
    "# try at St Malo\n",
    "parameters = {\n",
    "    \"lat\": 48.649518,\n",
    "    \"lon\": -2.0260409,\n",
    "    \"exclude\": \"current,minutely,hourly\",\n",
    "    \"units\": \"metric\",\n",
    "    \"appid\": \"aa423e6694bf72625fe1fe31544949dc\",\n",
    "    \"lang\": \"fr\",\n",
    "}\n",
    "\n",
    "r = requests.get(\n",
    "    \"https://api.openweathermap.org/data/2.5/onecall\", params=parameters\n",
    ").json()\n",
    "\n",
    "r\n"
   ]
  },
  {
   "cell_type": "code",
   "execution_count": 9,
   "metadata": {},
   "outputs": [
    {
     "data": {
      "text/plain": [
       "[{'dt': 1653307200,\n",
       "  'sunrise': 1653279483,\n",
       "  'sunset': 1653335516,\n",
       "  'moonrise': 1653270660,\n",
       "  'moonset': 1653307620,\n",
       "  'moon_phase': 0.77,\n",
       "  'temp': {'day': 14.72,\n",
       "   'min': 11.74,\n",
       "   'max': 15.04,\n",
       "   'night': 11.74,\n",
       "   'eve': 13.92,\n",
       "   'morn': 13.52},\n",
       "  'feels_like': {'day': 14.41, 'night': 11.22, 'eve': 13.4, 'morn': 13.04},\n",
       "  'pressure': 1007,\n",
       "  'humidity': 83,\n",
       "  'dew_point': 11.91,\n",
       "  'wind_speed': 7.65,\n",
       "  'wind_deg': 325,\n",
       "  'wind_gust': 11.51,\n",
       "  'weather': [{'id': 500,\n",
       "    'main': 'Rain',\n",
       "    'description': 'légère pluie',\n",
       "    'icon': '10d'}],\n",
       "  'clouds': 100,\n",
       "  'pop': 0.63,\n",
       "  'rain': 3.31,\n",
       "  'uvi': 5.25},\n",
       " {'dt': 1653393600,\n",
       "  'sunrise': 1653365823,\n",
       "  'sunset': 1653421988,\n",
       "  'moonrise': 1653358200,\n",
       "  'moonset': 1653398580,\n",
       "  'moon_phase': 0.81,\n",
       "  'temp': {'day': 14.29,\n",
       "   'min': 10,\n",
       "   'max': 14.42,\n",
       "   'night': 11.68,\n",
       "   'eve': 13.88,\n",
       "   'morn': 10.53},\n",
       "  'feels_like': {'day': 13.58, 'night': 11.07, 'eve': 13.15, 'morn': 9.91},\n",
       "  'pressure': 1011,\n",
       "  'humidity': 69,\n",
       "  'dew_point': 8.69,\n",
       "  'wind_speed': 8.28,\n",
       "  'wind_deg': 248,\n",
       "  'wind_gust': 12.58,\n",
       "  'weather': [{'id': 500,\n",
       "    'main': 'Rain',\n",
       "    'description': 'légère pluie',\n",
       "    'icon': '10d'}],\n",
       "  'clouds': 98,\n",
       "  'pop': 0.7,\n",
       "  'rain': 1.63,\n",
       "  'uvi': 5.96},\n",
       " {'dt': 1653480000,\n",
       "  'sunrise': 1653452164,\n",
       "  'sunset': 1653508458,\n",
       "  'moonrise': 1653445560,\n",
       "  'moonset': 1653489300,\n",
       "  'moon_phase': 0.84,\n",
       "  'temp': {'day': 16.04,\n",
       "   'min': 10.03,\n",
       "   'max': 17.04,\n",
       "   'night': 12.67,\n",
       "   'eve': 14.61,\n",
       "   'morn': 11.13},\n",
       "  'feels_like': {'day': 15.55, 'night': 12.34, 'eve': 14.29, 'morn': 10.52},\n",
       "  'pressure': 1019,\n",
       "  'humidity': 71,\n",
       "  'dew_point': 10.83,\n",
       "  'wind_speed': 7.11,\n",
       "  'wind_deg': 240,\n",
       "  'wind_gust': 9.75,\n",
       "  'weather': [{'id': 500,\n",
       "    'main': 'Rain',\n",
       "    'description': 'légère pluie',\n",
       "    'icon': '10d'}],\n",
       "  'clouds': 38,\n",
       "  'pop': 0.2,\n",
       "  'rain': 0.29,\n",
       "  'uvi': 6},\n",
       " {'dt': 1653566400,\n",
       "  'sunrise': 1653538508,\n",
       "  'sunset': 1653594928,\n",
       "  'moonrise': 1653532920,\n",
       "  'moonset': 1653579960,\n",
       "  'moon_phase': 0.87,\n",
       "  'temp': {'day': 15.23,\n",
       "   'min': 11.14,\n",
       "   'max': 15.4,\n",
       "   'night': 12.62,\n",
       "   'eve': 14.24,\n",
       "   'morn': 12.08},\n",
       "  'feels_like': {'day': 14.56, 'night': 12.18, 'eve': 13.68, 'morn': 11.54},\n",
       "  'pressure': 1026,\n",
       "  'humidity': 67,\n",
       "  'dew_point': 8.97,\n",
       "  'wind_speed': 5.37,\n",
       "  'wind_deg': 289,\n",
       "  'wind_gust': 7.26,\n",
       "  'weather': [{'id': 802,\n",
       "    'main': 'Clouds',\n",
       "    'description': 'partiellement nuageux',\n",
       "    'icon': '03d'}],\n",
       "  'clouds': 38,\n",
       "  'pop': 0,\n",
       "  'uvi': 6},\n",
       " {'dt': 1653652800,\n",
       "  'sunrise': 1653624854,\n",
       "  'sunset': 1653681395,\n",
       "  'moonrise': 1653620280,\n",
       "  'moonset': 1653670560,\n",
       "  'moon_phase': 0.9,\n",
       "  'temp': {'day': 15.07,\n",
       "   'min': 11.19,\n",
       "   'max': 15.07,\n",
       "   'night': 11.19,\n",
       "   'eve': 13.69,\n",
       "   'morn': 13.61},\n",
       "  'feels_like': {'day': 14.41, 'night': 10.32, 'eve': 12.76, 'morn': 13.4},\n",
       "  'pressure': 1030,\n",
       "  'humidity': 68,\n",
       "  'dew_point': 8.91,\n",
       "  'wind_speed': 5.7,\n",
       "  'wind_deg': 274,\n",
       "  'wind_gust': 9.3,\n",
       "  'weather': [{'id': 804,\n",
       "    'main': 'Clouds',\n",
       "    'description': 'couvert',\n",
       "    'icon': '04d'}],\n",
       "  'clouds': 86,\n",
       "  'pop': 0,\n",
       "  'uvi': 6}]"
      ]
     },
     "execution_count": 9,
     "metadata": {},
     "output_type": "execute_result"
    }
   ],
   "source": [
    "# Weather in 3 days at St Malo\n",
    "r[\"daily\"][3:]\n"
   ]
  },
  {
   "cell_type": "code",
   "execution_count": 10,
   "metadata": {},
   "outputs": [
    {
     "data": {
      "text/plain": [
       "'Rain'"
      ]
     },
     "execution_count": 10,
     "metadata": {},
     "output_type": "execute_result"
    }
   ],
   "source": [
    "day3 = r[\"daily\"][3]  # Weather in 3 days\n",
    "\n",
    "# desciption of the main weather in 3 days at St Malo\n",
    "day3[\"weather\"][0][\"main\"]\n"
   ]
  },
  {
   "cell_type": "code",
   "execution_count": 11,
   "metadata": {},
   "outputs": [
    {
     "name": "stdout",
     "output_type": "stream",
     "text": [
      "   id               city         lat                 lon  \\\n",
      "0   0  Mont Saint Michel  48.6359541  -1.511459954959514   \n",
      "1   1            St Malo   48.649518          -2.0260409   \n",
      "2   2             Bayeux  49.2764624          -0.7024738   \n",
      "3   3           Le Havre  49.4938975           0.1079732   \n",
      "4   4              Rouen  49.4404591           1.0939658   \n",
      "\n",
      "                 jour_+x         temperature_ressentie  \\\n",
      "0  [1, 2, 3, 4, 5, 6, 7]  [19, 22, 16, 14, 17, 15, 15]   \n",
      "1  [1, 2, 3, 4, 5, 6, 7]  [16, 18, 14, 13, 15, 14, 14]   \n",
      "2  [1, 2, 3, 4, 5, 6, 7]  [17, 18, 17, 14, 17, 16, 14]   \n",
      "3  [1, 2, 3, 4, 5, 6, 7]  [14, 16, 12, 13, 15, 13, 12]   \n",
      "4  [1, 2, 3, 4, 5, 6, 7]  [17, 18, 19, 15, 17, 17, 15]   \n",
      "\n",
      "        probabilite_de_pluie  \\\n",
      "0  [0, 45, 73, 56, 20, 0, 0]   \n",
      "1  [0, 40, 63, 70, 20, 0, 0]   \n",
      "2  [0, 23, 46, 35, 20, 0, 0]   \n",
      "3  [0, 8, 34, 40, 20, 0, 20]   \n",
      "4  [0, 14, 73, 54, 20, 0, 0]   \n",
      "\n",
      "                                    meteo_principale  score  \n",
      "0   [Clouds, Rain, Rain, Rain, Rain, Clouds, Clouds]     61  \n",
      "1   [Clouds, Rain, Rain, Rain, Rain, Clouds, Clouds]     57  \n",
      "2  [Clouds, Clouds, Rain, Rain, Rain, Clouds, Clo...     50  \n",
      "3   [Clouds, Clouds, Rain, Rain, Rain, Clouds, Rain]     44  \n",
      "4  [Clouds, Clouds, Rain, Rain, Rain, Clouds, Clo...     56  \n",
      "\n",
      "<class 'pandas.core.frame.DataFrame'>\n",
      "RangeIndex: 35 entries, 0 to 34\n",
      "Data columns (total 9 columns):\n",
      " #   Column                 Non-Null Count  Dtype \n",
      "---  ------                 --------------  ----- \n",
      " 0   id                     35 non-null     int64 \n",
      " 1   city                   35 non-null     object\n",
      " 2   lat                    35 non-null     object\n",
      " 3   lon                    35 non-null     object\n",
      " 4   jour_+x                35 non-null     object\n",
      " 5   temperature_ressentie  35 non-null     object\n",
      " 6   probabilite_de_pluie   35 non-null     object\n",
      " 7   meteo_principale       35 non-null     object\n",
      " 8   score                  35 non-null     int64 \n",
      "dtypes: int64(2), object(7)\n",
      "memory usage: 2.6+ KB\n",
      "None\n"
     ]
    }
   ],
   "source": [
    "import numpy as np\n",
    "\n",
    "df_weather = df_gps.copy(deep=True)\n",
    "my_api_key = \"aa423e6694bf72625fe1fe31544949dc\"\n",
    "\n",
    "temperatures_list = []\n",
    "rain_list = []\n",
    "weather_list = []\n",
    "\n",
    "days = list(range(1, 8))\n",
    "\n",
    "for i in df_weather.itertuples():\n",
    "    lat = i.lat\n",
    "    lon = i.lon\n",
    "\n",
    "    parameters = {\n",
    "        \"lat\": {lat},\n",
    "        \"lon\": {lon},\n",
    "        \"exclude\": \"current,minutely,hourly\",\n",
    "        \"units\": \"metric\",\n",
    "        \"appid\": \"aa423e6694bf72625fe1fe31544949dc\",\n",
    "        \"lang\": \"fr\",\n",
    "    }\n",
    "\n",
    "    r = requests.get(\n",
    "        f\"https://api.openweathermap.org/data/2.5/onecall?\", parameters\n",
    "    ).json()\n",
    "    forecast_7days = r[\"daily\"][\n",
    "        1:\n",
    "    ]  # Getting the weather data for the next 7 days, first item is the current weather, which we don't want here\n",
    "    temperatures = [int(d[\"feels_like\"][\"day\"]) for d in forecast_7days]\n",
    "    rain = [int(d[\"pop\"] * 100) for d in forecast_7days]\n",
    "    weather = [str(d[\"weather\"][0][\"main\"]) for d in forecast_7days]\n",
    "    temperatures_list.append(temperatures)\n",
    "    rain_list.append(rain)\n",
    "    weather_list.append(weather)\n",
    "\n",
    "df_weather[\"jour_+x\"] = [days for _ in range(len(df_weather))]\n",
    "df_weather[\"temperature_ressentie\"] = temperatures_list\n",
    "df_weather[\"probabilite_de_pluie\"] = rain_list\n",
    "df_weather[\"meteo_principale\"] = weather_list\n",
    "df_weather[\"score\"] = df_weather.apply(\n",
    "    lambda x: ((np.mean(x[\"temperature_ressentie\"])) * 2)\n",
    "    + np.mean(x[\"probabilite_de_pluie\"]),\n",
    "    axis=1,\n",
    ").astype(int)\n",
    "\n",
    "\n",
    "print(df_weather.head())\n",
    "\n",
    "print()\n",
    "\n",
    "print(df_weather.info())\n"
   ]
  },
  {
   "cell_type": "code",
   "execution_count": 12,
   "metadata": {},
   "outputs": [],
   "source": [
    "df_weather[[\"lat\", \"lon\"]] = df_weather[[\"lat\", \"lon\"]].astype(float)\n"
   ]
  },
  {
   "cell_type": "code",
   "execution_count": 13,
   "metadata": {},
   "outputs": [
    {
     "name": "stdout",
     "output_type": "stream",
     "text": [
      "   id               city        lat      lon jour_+x temperature_ressentie  \\\n",
      "0   0  Mont Saint Michel  48.635954 -1.51146       1                    19   \n",
      "0   0  Mont Saint Michel  48.635954 -1.51146       2                    22   \n",
      "0   0  Mont Saint Michel  48.635954 -1.51146       3                    16   \n",
      "0   0  Mont Saint Michel  48.635954 -1.51146       4                    14   \n",
      "0   0  Mont Saint Michel  48.635954 -1.51146       5                    17   \n",
      "\n",
      "  probabilite_de_pluie meteo_principale  score  \n",
      "0                    0           Clouds     61  \n",
      "0                   45             Rain     61  \n",
      "0                   73             Rain     61  \n",
      "0                   56             Rain     61  \n",
      "0                   20             Rain     61  \n",
      "\n",
      "<class 'pandas.core.frame.DataFrame'>\n",
      "Int64Index: 245 entries, 0 to 34\n",
      "Data columns (total 9 columns):\n",
      " #   Column                 Non-Null Count  Dtype  \n",
      "---  ------                 --------------  -----  \n",
      " 0   id                     245 non-null    int64  \n",
      " 1   city                   245 non-null    object \n",
      " 2   lat                    245 non-null    float64\n",
      " 3   lon                    245 non-null    float64\n",
      " 4   jour_+x                245 non-null    object \n",
      " 5   temperature_ressentie  245 non-null    object \n",
      " 6   probabilite_de_pluie   245 non-null    object \n",
      " 7   meteo_principale       245 non-null    object \n",
      " 8   score                  245 non-null    int64  \n",
      "dtypes: float64(2), int64(2), object(5)\n",
      "memory usage: 19.1+ KB\n",
      "None\n"
     ]
    }
   ],
   "source": [
    "df = df_weather.apply(pd.Series.explode)  # To obtain a line per day and per city\n",
    "\n",
    "print(df.head())\n",
    "\n",
    "print()\n",
    "\n",
    "print(df.info())\n"
   ]
  },
  {
   "cell_type": "code",
   "execution_count": 14,
   "metadata": {},
   "outputs": [],
   "source": [
    "df[[\"jour_+x\", \"temperature_ressentie\", \"probabilite_de_pluie\"]] = df[\n",
    "    [\"jour_+x\", \"temperature_ressentie\", \"probabilite_de_pluie\"]\n",
    "].astype(int)\n"
   ]
  },
  {
   "cell_type": "code",
   "execution_count": 15,
   "metadata": {},
   "outputs": [
    {
     "data": {
      "application/vnd.plotly.v1+json": {
       "config": {
        "plotlyServerURL": "https://plot.ly"
       },
       "data": [
        {
         "customdata": [
          [
           "Clouds",
           0,
           19
          ],
          [
           "Rain",
           45,
           22
          ],
          [
           "Rain",
           73,
           16
          ],
          [
           "Rain",
           56,
           14
          ],
          [
           "Rain",
           20,
           17
          ],
          [
           "Clouds",
           0,
           15
          ],
          [
           "Clouds",
           0,
           15
          ],
          [
           "Clouds",
           0,
           16
          ],
          [
           "Rain",
           40,
           18
          ],
          [
           "Rain",
           63,
           14
          ],
          [
           "Rain",
           70,
           13
          ],
          [
           "Rain",
           20,
           15
          ],
          [
           "Clouds",
           0,
           14
          ],
          [
           "Clouds",
           0,
           14
          ],
          [
           "Clouds",
           0,
           17
          ],
          [
           "Clouds",
           23,
           18
          ],
          [
           "Rain",
           46,
           17
          ],
          [
           "Rain",
           35,
           14
          ],
          [
           "Rain",
           20,
           17
          ],
          [
           "Clouds",
           0,
           16
          ],
          [
           "Clouds",
           0,
           14
          ],
          [
           "Clouds",
           0,
           14
          ],
          [
           "Clouds",
           8,
           16
          ],
          [
           "Rain",
           34,
           12
          ],
          [
           "Rain",
           40,
           13
          ],
          [
           "Rain",
           20,
           15
          ],
          [
           "Clouds",
           0,
           13
          ],
          [
           "Rain",
           20,
           12
          ],
          [
           "Clouds",
           0,
           17
          ],
          [
           "Clouds",
           14,
           18
          ],
          [
           "Rain",
           73,
           19
          ],
          [
           "Rain",
           54,
           15
          ],
          [
           "Rain",
           20,
           17
          ],
          [
           "Clouds",
           0,
           17
          ],
          [
           "Clouds",
           0,
           15
          ],
          [
           "Clouds",
           0,
           20
          ],
          [
           "Rain",
           56,
           19
          ],
          [
           "Rain",
           100,
           18
          ],
          [
           "Clouds",
           5,
           17
          ],
          [
           "Clear",
           0,
           19
          ],
          [
           "Clear",
           0,
           19
          ],
          [
           "Clouds",
           0,
           19
          ],
          [
           "Clouds",
           0,
           17
          ],
          [
           "Clouds",
           0,
           17
          ],
          [
           "Rain",
           81,
           17
          ],
          [
           "Rain",
           47,
           15
          ],
          [
           "Clouds",
           0,
           17
          ],
          [
           "Clouds",
           0,
           17
          ],
          [
           "Clouds",
           0,
           15
          ],
          [
           "Clouds",
           0,
           17
          ],
          [
           "Clouds",
           0,
           18
          ],
          [
           "Rain",
           69,
           16
          ],
          [
           "Rain",
           65,
           15
          ],
          [
           "Clouds",
           0,
           17
          ],
          [
           "Clouds",
           0,
           17
          ],
          [
           "Rain",
           31,
           15
          ],
          [
           "Rain",
           99,
           20
          ],
          [
           "Clouds",
           20,
           20
          ],
          [
           "Rain",
           100,
           24
          ],
          [
           "Rain",
           44,
           16
          ],
          [
           "Rain",
           20,
           19
          ],
          [
           "Clouds",
           0,
           21
          ],
          [
           "Clouds",
           0,
           18
          ],
          [
           "Rain",
           100,
           19
          ],
          [
           "Rain",
           43,
           18
          ],
          [
           "Rain",
           100,
           21
          ],
          [
           "Rain",
           34,
           14
          ],
          [
           "Clouds",
           7,
           17
          ],
          [
           "Clear",
           0,
           19
          ],
          [
           "Clouds",
           0,
           17
          ],
          [
           "Rain",
           100,
           22
          ],
          [
           "Rain",
           56,
           21
          ],
          [
           "Rain",
           100,
           25
          ],
          [
           "Rain",
           44,
           18
          ],
          [
           "Clouds",
           15,
           20
          ],
          [
           "Clouds",
           0,
           22
          ],
          [
           "Clouds",
           0,
           20
          ],
          [
           "Rain",
           100,
           22
          ],
          [
           "Rain",
           59,
           22
          ],
          [
           "Rain",
           100,
           25
          ],
          [
           "Rain",
           45,
           18
          ],
          [
           "Rain",
           20,
           20
          ],
          [
           "Clouds",
           0,
           22
          ],
          [
           "Clouds",
           0,
           21
          ],
          [
           "Rain",
           100,
           22
          ],
          [
           "Rain",
           77,
           26
          ],
          [
           "Rain",
           100,
           18
          ],
          [
           "Rain",
           72,
           15
          ],
          [
           "Clouds",
           26,
           19
          ],
          [
           "Clouds",
           0,
           20
          ],
          [
           "Clouds",
           0,
           19
          ],
          [
           "Rain",
           89,
           20
          ],
          [
           "Rain",
           50,
           22
          ],
          [
           "Rain",
           100,
           16
          ],
          [
           "Rain",
           38,
           18
          ],
          [
           "Clouds",
           6,
           18
          ],
          [
           "Clouds",
           0,
           20
          ],
          [
           "Clouds",
           0,
           19
          ],
          [
           "Rain",
           60,
           27
          ],
          [
           "Rain",
           86,
           29
          ],
          [
           "Rain",
           100,
           23
          ],
          [
           "Rain",
           90,
           17
          ],
          [
           "Rain",
           100,
           18
          ],
          [
           "Rain",
           34,
           22
          ],
          [
           "Clouds",
           30,
           22
          ],
          [
           "Rain",
           28,
           30
          ],
          [
           "Rain",
           83,
           33
          ],
          [
           "Rain",
           78,
           26
          ],
          [
           "Rain",
           86,
           20
          ],
          [
           "Rain",
           97,
           19
          ],
          [
           "Rain",
           51,
           20
          ],
          [
           "Clouds",
           22,
           22
          ],
          [
           "Clouds",
           50,
           27
          ],
          [
           "Rain",
           100,
           29
          ],
          [
           "Rain",
           85,
           23
          ],
          [
           "Rain",
           64,
           15
          ],
          [
           "Rain",
           84,
           19
          ],
          [
           "Clouds",
           0,
           21
          ],
          [
           "Clouds",
           0,
           22
          ],
          [
           "Clouds",
           0,
           28
          ],
          [
           "Clouds",
           22,
           29
          ],
          [
           "Clouds",
           18,
           26
          ],
          [
           "Rain",
           86,
           22
          ],
          [
           "Rain",
           71,
           24
          ],
          [
           "Rain",
           100,
           15
          ],
          [
           "Rain",
           53,
           25
          ],
          [
           "Clouds",
           0,
           25
          ],
          [
           "Clouds",
           0,
           25
          ],
          [
           "Clouds",
           0,
           24
          ],
          [
           "Rain",
           28,
           23
          ],
          [
           "Clouds",
           19,
           24
          ],
          [
           "Rain",
           100,
           17
          ],
          [
           "Rain",
           54,
           25
          ],
          [
           "Clouds",
           0,
           24
          ],
          [
           "Clouds",
           0,
           24
          ],
          [
           "Clouds",
           0,
           24
          ],
          [
           "Rain",
           51,
           23
          ],
          [
           "Clouds",
           33,
           22
          ],
          [
           "Rain",
           100,
           19
          ],
          [
           "Rain",
           83,
           25
          ],
          [
           "Clouds",
           0,
           24
          ],
          [
           "Clouds",
           0,
           23
          ],
          [
           "Clouds",
           1,
           23
          ],
          [
           "Rain",
           64,
           23
          ],
          [
           "Clouds",
           42,
           23
          ],
          [
           "Rain",
           100,
           18
          ],
          [
           "Rain",
           70,
           25
          ],
          [
           "Clouds",
           0,
           28
          ],
          [
           "Clouds",
           4,
           29
          ],
          [
           "Clouds",
           5,
           27
          ],
          [
           "Rain",
           80,
           27
          ],
          [
           "Rain",
           59,
           27
          ],
          [
           "Rain",
           100,
           17
          ],
          [
           "Rain",
           55,
           27
          ],
          [
           "Clouds",
           10,
           29
          ],
          [
           "Clouds",
           2,
           31
          ],
          [
           "Clouds",
           4,
           28
          ],
          [
           "Rain",
           97,
           27
          ],
          [
           "Rain",
           90,
           26
          ],
          [
           "Rain",
           63,
           20
          ],
          [
           "Clouds",
           11,
           26
          ],
          [
           "Clouds",
           3,
           29
          ],
          [
           "Clouds",
           0,
           30
          ],
          [
           "Clouds",
           5,
           27
          ],
          [
           "Rain",
           96,
           26
          ],
          [
           "Rain",
           93,
           26
          ],
          [
           "Rain",
           43,
           21
          ],
          [
           "Clouds",
           3,
           26
          ],
          [
           "Clouds",
           1,
           29
          ],
          [
           "Clouds",
           0,
           29
          ],
          [
           "Clouds",
           5,
           27
          ],
          [
           "Rain",
           99,
           27
          ],
          [
           "Clouds",
           88,
           26
          ],
          [
           "Rain",
           51,
           21
          ],
          [
           "Clouds",
           2,
           27
          ],
          [
           "Clouds",
           0,
           26
          ],
          [
           "Clouds",
           0,
           23
          ],
          [
           "Rain",
           21,
           24
          ],
          [
           "Rain",
           92,
           23
          ],
          [
           "Clouds",
           80,
           25
          ],
          [
           "Rain",
           46,
           19
          ],
          [
           "Clouds",
           2,
           26
          ],
          [
           "Clouds",
           0,
           24
          ],
          [
           "Clouds",
           0,
           22
          ],
          [
           "Rain",
           20,
           22
          ],
          [
           "Rain",
           84,
           22
          ],
          [
           "Clouds",
           64,
           24
          ],
          [
           "Rain",
           51,
           18
          ],
          [
           "Clouds",
           9,
           25
          ],
          [
           "Clouds",
           5,
           25
          ],
          [
           "Clouds",
           0,
           26
          ],
          [
           "Clouds",
           1,
           25
          ],
          [
           "Rain",
           76,
           22
          ],
          [
           "Rain",
           26,
           19
          ],
          [
           "Clouds",
           5,
           18
          ],
          [
           "Clouds",
           3,
           24
          ],
          [
           "Clouds",
           2,
           28
          ],
          [
           "Clouds",
           15,
           29
          ],
          [
           "Rain",
           57,
           22
          ],
          [
           "Rain",
           98,
           17
          ],
          [
           "Rain",
           92,
           14
          ],
          [
           "Clouds",
           23,
           17
          ],
          [
           "Clouds",
           1,
           22
          ],
          [
           "Clouds",
           6,
           30
          ],
          [
           "Rain",
           59,
           32
          ],
          [
           "Rain",
           69,
           19
          ],
          [
           "Rain",
           100,
           12
          ],
          [
           "Rain",
           100,
           10
          ],
          [
           "Rain",
           52,
           15
          ],
          [
           "Rain",
           24,
           20
          ],
          [
           "Clouds",
           0,
           28
          ],
          [
           "Rain",
           82,
           29
          ],
          [
           "Rain",
           95,
           21
          ],
          [
           "Rain",
           100,
           12
          ],
          [
           "Rain",
           100,
           15
          ],
          [
           "Clouds",
           12,
           20
          ],
          [
           "Clouds",
           0,
           22
          ],
          [
           "Clouds",
           0,
           29
          ],
          [
           "Rain",
           69,
           30
          ],
          [
           "Rain",
           100,
           20
          ],
          [
           "Rain",
           96,
           13
          ],
          [
           "Rain",
           90,
           18
          ],
          [
           "Clouds",
           0,
           20
          ],
          [
           "Clear",
           0,
           22
          ],
          [
           "Clouds",
           0,
           28
          ],
          [
           "Rain",
           74,
           23
          ],
          [
           "Rain",
           100,
           16
          ],
          [
           "Rain",
           95,
           14
          ],
          [
           "Rain",
           89,
           16
          ],
          [
           "Rain",
           57,
           16
          ],
          [
           "Rain",
           32,
           17
          ],
          [
           "Clouds",
           0,
           29
          ],
          [
           "Rain",
           70,
           24
          ],
          [
           "Rain",
           99,
           16
          ],
          [
           "Rain",
           95,
           14
          ],
          [
           "Rain",
           87,
           16
          ],
          [
           "Rain",
           54,
           16
          ],
          [
           "Rain",
           31,
           17
          ],
          [
           "Clouds",
           0,
           23
          ],
          [
           "Rain",
           28,
           25
          ],
          [
           "Rain",
           100,
           17
          ],
          [
           "Rain",
           54,
           16
          ],
          [
           "Clouds",
           3,
           16
          ],
          [
           "Rain",
           44,
           17
          ],
          [
           "Clouds",
           0,
           18
          ]
         ],
         "hovertemplate": "<b>%{hovertext}</b><br><br>lat=%{lat}<br>lon=%{lon}<br>meteo_principale=%{customdata[0]}<br>probabilite_de_pluie=%{customdata[1]}<br>temperature_ressentie=%{marker.color}<extra></extra>",
         "hovertext": [
          "Mont Saint Michel",
          "Mont Saint Michel",
          "Mont Saint Michel",
          "Mont Saint Michel",
          "Mont Saint Michel",
          "Mont Saint Michel",
          "Mont Saint Michel",
          "St Malo",
          "St Malo",
          "St Malo",
          "St Malo",
          "St Malo",
          "St Malo",
          "St Malo",
          "Bayeux",
          "Bayeux",
          "Bayeux",
          "Bayeux",
          "Bayeux",
          "Bayeux",
          "Bayeux",
          "Le Havre",
          "Le Havre",
          "Le Havre",
          "Le Havre",
          "Le Havre",
          "Le Havre",
          "Le Havre",
          "Rouen",
          "Rouen",
          "Rouen",
          "Rouen",
          "Rouen",
          "Rouen",
          "Rouen",
          "Paris",
          "Paris",
          "Paris",
          "Paris",
          "Paris",
          "Paris",
          "Paris",
          "Amiens",
          "Amiens",
          "Amiens",
          "Amiens",
          "Amiens",
          "Amiens",
          "Amiens",
          "Lille",
          "Lille",
          "Lille",
          "Lille",
          "Lille",
          "Lille",
          "Lille",
          "Strasbourg",
          "Strasbourg",
          "Strasbourg",
          "Strasbourg",
          "Strasbourg",
          "Strasbourg",
          "Strasbourg",
          "Chateau du Haut Koenigsbourg",
          "Chateau du Haut Koenigsbourg",
          "Chateau du Haut Koenigsbourg",
          "Chateau du Haut Koenigsbourg",
          "Chateau du Haut Koenigsbourg",
          "Chateau du Haut Koenigsbourg",
          "Chateau du Haut Koenigsbourg",
          "Colmar",
          "Colmar",
          "Colmar",
          "Colmar",
          "Colmar",
          "Colmar",
          "Colmar",
          "Eguisheim",
          "Eguisheim",
          "Eguisheim",
          "Eguisheim",
          "Eguisheim",
          "Eguisheim",
          "Eguisheim",
          "Besancon",
          "Besancon",
          "Besancon",
          "Besancon",
          "Besancon",
          "Besancon",
          "Besancon",
          "Dijon",
          "Dijon",
          "Dijon",
          "Dijon",
          "Dijon",
          "Dijon",
          "Dijon",
          "Annecy",
          "Annecy",
          "Annecy",
          "Annecy",
          "Annecy",
          "Annecy",
          "Annecy",
          "Grenoble",
          "Grenoble",
          "Grenoble",
          "Grenoble",
          "Grenoble",
          "Grenoble",
          "Grenoble",
          "Lyon",
          "Lyon",
          "Lyon",
          "Lyon",
          "Lyon",
          "Lyon",
          "Lyon",
          "Gorges du Verdon",
          "Gorges du Verdon",
          "Gorges du Verdon",
          "Gorges du Verdon",
          "Gorges du Verdon",
          "Gorges du Verdon",
          "Gorges du Verdon",
          "Bormes les Mimosas",
          "Bormes les Mimosas",
          "Bormes les Mimosas",
          "Bormes les Mimosas",
          "Bormes les Mimosas",
          "Bormes les Mimosas",
          "Bormes les Mimosas",
          "Cassis",
          "Cassis",
          "Cassis",
          "Cassis",
          "Cassis",
          "Cassis",
          "Cassis",
          "Marseille",
          "Marseille",
          "Marseille",
          "Marseille",
          "Marseille",
          "Marseille",
          "Marseille",
          "Aix en Provence",
          "Aix en Provence",
          "Aix en Provence",
          "Aix en Provence",
          "Aix en Provence",
          "Aix en Provence",
          "Aix en Provence",
          "Avignon",
          "Avignon",
          "Avignon",
          "Avignon",
          "Avignon",
          "Avignon",
          "Avignon",
          "Uzes",
          "Uzes",
          "Uzes",
          "Uzes",
          "Uzes",
          "Uzes",
          "Uzes",
          "Nimes",
          "Nimes",
          "Nimes",
          "Nimes",
          "Nimes",
          "Nimes",
          "Nimes",
          "Aigues Mortes",
          "Aigues Mortes",
          "Aigues Mortes",
          "Aigues Mortes",
          "Aigues Mortes",
          "Aigues Mortes",
          "Aigues Mortes",
          "Saintes Maries de la mer",
          "Saintes Maries de la mer",
          "Saintes Maries de la mer",
          "Saintes Maries de la mer",
          "Saintes Maries de la mer",
          "Saintes Maries de la mer",
          "Saintes Maries de la mer",
          "Collioure",
          "Collioure",
          "Collioure",
          "Collioure",
          "Collioure",
          "Collioure",
          "Collioure",
          "Carcassonne",
          "Carcassonne",
          "Carcassonne",
          "Carcassonne",
          "Carcassonne",
          "Carcassonne",
          "Carcassonne",
          "Ariege",
          "Ariege",
          "Ariege",
          "Ariege",
          "Ariege",
          "Ariege",
          "Ariege",
          "Toulouse",
          "Toulouse",
          "Toulouse",
          "Toulouse",
          "Toulouse",
          "Toulouse",
          "Toulouse",
          "Montauban",
          "Montauban",
          "Montauban",
          "Montauban",
          "Montauban",
          "Montauban",
          "Montauban",
          "Biarritz",
          "Biarritz",
          "Biarritz",
          "Biarritz",
          "Biarritz",
          "Biarritz",
          "Biarritz",
          "Bayonne",
          "Bayonne",
          "Bayonne",
          "Bayonne",
          "Bayonne",
          "Bayonne",
          "Bayonne",
          "La Rochelle",
          "La Rochelle",
          "La Rochelle",
          "La Rochelle",
          "La Rochelle",
          "La Rochelle",
          "La Rochelle"
         ],
         "lat": [
          48.6359541,
          48.6359541,
          48.6359541,
          48.6359541,
          48.6359541,
          48.6359541,
          48.6359541,
          48.649518,
          48.649518,
          48.649518,
          48.649518,
          48.649518,
          48.649518,
          48.649518,
          49.2764624,
          49.2764624,
          49.2764624,
          49.2764624,
          49.2764624,
          49.2764624,
          49.2764624,
          49.4938975,
          49.4938975,
          49.4938975,
          49.4938975,
          49.4938975,
          49.4938975,
          49.4938975,
          49.4404591,
          49.4404591,
          49.4404591,
          49.4404591,
          49.4404591,
          49.4404591,
          49.4404591,
          48.8588897,
          48.8588897,
          48.8588897,
          48.8588897,
          48.8588897,
          48.8588897,
          48.8588897,
          49.8941708,
          49.8941708,
          49.8941708,
          49.8941708,
          49.8941708,
          49.8941708,
          49.8941708,
          50.6365654,
          50.6365654,
          50.6365654,
          50.6365654,
          50.6365654,
          50.6365654,
          50.6365654,
          48.584614,
          48.584614,
          48.584614,
          48.584614,
          48.584614,
          48.584614,
          48.584614,
          48.2495226,
          48.2495226,
          48.2495226,
          48.2495226,
          48.2495226,
          48.2495226,
          48.2495226,
          48.0777517,
          48.0777517,
          48.0777517,
          48.0777517,
          48.0777517,
          48.0777517,
          48.0777517,
          48.0447968,
          48.0447968,
          48.0447968,
          48.0447968,
          48.0447968,
          48.0447968,
          48.0447968,
          47.2380222,
          47.2380222,
          47.2380222,
          47.2380222,
          47.2380222,
          47.2380222,
          47.2380222,
          47.3215806,
          47.3215806,
          47.3215806,
          47.3215806,
          47.3215806,
          47.3215806,
          47.3215806,
          45.8992348,
          45.8992348,
          45.8992348,
          45.8992348,
          45.8992348,
          45.8992348,
          45.8992348,
          45.1875602,
          45.1875602,
          45.1875602,
          45.1875602,
          45.1875602,
          45.1875602,
          45.1875602,
          45.7578137,
          45.7578137,
          45.7578137,
          45.7578137,
          45.7578137,
          45.7578137,
          45.7578137,
          43.8462177,
          43.8462177,
          43.8462177,
          43.8462177,
          43.8462177,
          43.8462177,
          43.8462177,
          43.1572172,
          43.1572172,
          43.1572172,
          43.1572172,
          43.1572172,
          43.1572172,
          43.1572172,
          43.2140359,
          43.2140359,
          43.2140359,
          43.2140359,
          43.2140359,
          43.2140359,
          43.2140359,
          43.2961743,
          43.2961743,
          43.2961743,
          43.2961743,
          43.2961743,
          43.2961743,
          43.2961743,
          43.5298424,
          43.5298424,
          43.5298424,
          43.5298424,
          43.5298424,
          43.5298424,
          43.5298424,
          43.9492493,
          43.9492493,
          43.9492493,
          43.9492493,
          43.9492493,
          43.9492493,
          43.9492493,
          44.0121279,
          44.0121279,
          44.0121279,
          44.0121279,
          44.0121279,
          44.0121279,
          44.0121279,
          43.8374249,
          43.8374249,
          43.8374249,
          43.8374249,
          43.8374249,
          43.8374249,
          43.8374249,
          43.5658225,
          43.5658225,
          43.5658225,
          43.5658225,
          43.5658225,
          43.5658225,
          43.5658225,
          43.4522771,
          43.4522771,
          43.4522771,
          43.4522771,
          43.4522771,
          43.4522771,
          43.4522771,
          42.52505,
          42.52505,
          42.52505,
          42.52505,
          42.52505,
          42.52505,
          42.52505,
          43.2130358,
          43.2130358,
          43.2130358,
          43.2130358,
          43.2130358,
          43.2130358,
          43.2130358,
          42.9638998,
          42.9638998,
          42.9638998,
          42.9638998,
          42.9638998,
          42.9638998,
          42.9638998,
          43.6044622,
          43.6044622,
          43.6044622,
          43.6044622,
          43.6044622,
          43.6044622,
          43.6044622,
          44.0175835,
          44.0175835,
          44.0175835,
          44.0175835,
          44.0175835,
          44.0175835,
          44.0175835,
          43.4832523,
          43.4832523,
          43.4832523,
          43.4832523,
          43.4832523,
          43.4832523,
          43.4832523,
          43.4933379,
          43.4933379,
          43.4933379,
          43.4933379,
          43.4933379,
          43.4933379,
          43.4933379,
          46.1591126,
          46.1591126,
          46.1591126,
          46.1591126,
          46.1591126,
          46.1591126,
          46.1591126
         ],
         "legendgroup": "",
         "lon": [
          -1.511459954959514,
          -1.511459954959514,
          -1.511459954959514,
          -1.511459954959514,
          -1.511459954959514,
          -1.511459954959514,
          -1.511459954959514,
          -2.0260409,
          -2.0260409,
          -2.0260409,
          -2.0260409,
          -2.0260409,
          -2.0260409,
          -2.0260409,
          -0.7024738,
          -0.7024738,
          -0.7024738,
          -0.7024738,
          -0.7024738,
          -0.7024738,
          -0.7024738,
          0.1079732,
          0.1079732,
          0.1079732,
          0.1079732,
          0.1079732,
          0.1079732,
          0.1079732,
          1.0939658,
          1.0939658,
          1.0939658,
          1.0939658,
          1.0939658,
          1.0939658,
          1.0939658,
          2.3200410217200766,
          2.3200410217200766,
          2.3200410217200766,
          2.3200410217200766,
          2.3200410217200766,
          2.3200410217200766,
          2.3200410217200766,
          2.2956951,
          2.2956951,
          2.2956951,
          2.2956951,
          2.2956951,
          2.2956951,
          2.2956951,
          3.0635282,
          3.0635282,
          3.0635282,
          3.0635282,
          3.0635282,
          3.0635282,
          3.0635282,
          7.7507127,
          7.7507127,
          7.7507127,
          7.7507127,
          7.7507127,
          7.7507127,
          7.7507127,
          7.3454923,
          7.3454923,
          7.3454923,
          7.3454923,
          7.3454923,
          7.3454923,
          7.3454923,
          7.3579641,
          7.3579641,
          7.3579641,
          7.3579641,
          7.3579641,
          7.3579641,
          7.3579641,
          7.3079618,
          7.3079618,
          7.3079618,
          7.3079618,
          7.3079618,
          7.3079618,
          7.3079618,
          6.0243622,
          6.0243622,
          6.0243622,
          6.0243622,
          6.0243622,
          6.0243622,
          6.0243622,
          5.0414701,
          5.0414701,
          5.0414701,
          5.0414701,
          5.0414701,
          5.0414701,
          5.0414701,
          6.1288847,
          6.1288847,
          6.1288847,
          6.1288847,
          6.1288847,
          6.1288847,
          6.1288847,
          5.7357819,
          5.7357819,
          5.7357819,
          5.7357819,
          5.7357819,
          5.7357819,
          5.7357819,
          4.8320114,
          4.8320114,
          4.8320114,
          4.8320114,
          4.8320114,
          4.8320114,
          4.8320114,
          6.5131814,
          6.5131814,
          6.5131814,
          6.5131814,
          6.5131814,
          6.5131814,
          6.5131814,
          6.329253867921363,
          6.329253867921363,
          6.329253867921363,
          6.329253867921363,
          6.329253867921363,
          6.329253867921363,
          6.329253867921363,
          5.5396318,
          5.5396318,
          5.5396318,
          5.5396318,
          5.5396318,
          5.5396318,
          5.5396318,
          5.3699525,
          5.3699525,
          5.3699525,
          5.3699525,
          5.3699525,
          5.3699525,
          5.3699525,
          5.4474738,
          5.4474738,
          5.4474738,
          5.4474738,
          5.4474738,
          5.4474738,
          5.4474738,
          4.8059012,
          4.8059012,
          4.8059012,
          4.8059012,
          4.8059012,
          4.8059012,
          4.8059012,
          4.4196718,
          4.4196718,
          4.4196718,
          4.4196718,
          4.4196718,
          4.4196718,
          4.4196718,
          4.3600687,
          4.3600687,
          4.3600687,
          4.3600687,
          4.3600687,
          4.3600687,
          4.3600687,
          4.1912837,
          4.1912837,
          4.1912837,
          4.1912837,
          4.1912837,
          4.1912837,
          4.1912837,
          4.4287172,
          4.4287172,
          4.4287172,
          4.4287172,
          4.4287172,
          4.4287172,
          4.4287172,
          3.0831554,
          3.0831554,
          3.0831554,
          3.0831554,
          3.0831554,
          3.0831554,
          3.0831554,
          2.3491069,
          2.3491069,
          2.3491069,
          2.3491069,
          2.3491069,
          2.3491069,
          2.3491069,
          1.6053807,
          1.6053807,
          1.6053807,
          1.6053807,
          1.6053807,
          1.6053807,
          1.6053807,
          1.4442469,
          1.4442469,
          1.4442469,
          1.4442469,
          1.4442469,
          1.4442469,
          1.4442469,
          1.3549991,
          1.3549991,
          1.3549991,
          1.3549991,
          1.3549991,
          1.3549991,
          1.3549991,
          -1.5592776,
          -1.5592776,
          -1.5592776,
          -1.5592776,
          -1.5592776,
          -1.5592776,
          -1.5592776,
          -1.475099,
          -1.475099,
          -1.475099,
          -1.475099,
          -1.475099,
          -1.475099,
          -1.475099,
          -1.1520434,
          -1.1520434,
          -1.1520434,
          -1.1520434,
          -1.1520434,
          -1.1520434,
          -1.1520434
         ],
         "marker": {
          "color": [
           19,
           22,
           16,
           14,
           17,
           15,
           15,
           16,
           18,
           14,
           13,
           15,
           14,
           14,
           17,
           18,
           17,
           14,
           17,
           16,
           14,
           14,
           16,
           12,
           13,
           15,
           13,
           12,
           17,
           18,
           19,
           15,
           17,
           17,
           15,
           20,
           19,
           18,
           17,
           19,
           19,
           19,
           17,
           17,
           17,
           15,
           17,
           17,
           15,
           17,
           18,
           16,
           15,
           17,
           17,
           15,
           20,
           20,
           24,
           16,
           19,
           21,
           18,
           19,
           18,
           21,
           14,
           17,
           19,
           17,
           22,
           21,
           25,
           18,
           20,
           22,
           20,
           22,
           22,
           25,
           18,
           20,
           22,
           21,
           22,
           26,
           18,
           15,
           19,
           20,
           19,
           20,
           22,
           16,
           18,
           18,
           20,
           19,
           27,
           29,
           23,
           17,
           18,
           22,
           22,
           30,
           33,
           26,
           20,
           19,
           20,
           22,
           27,
           29,
           23,
           15,
           19,
           21,
           22,
           28,
           29,
           26,
           22,
           24,
           15,
           25,
           25,
           25,
           24,
           23,
           24,
           17,
           25,
           24,
           24,
           24,
           23,
           22,
           19,
           25,
           24,
           23,
           23,
           23,
           23,
           18,
           25,
           28,
           29,
           27,
           27,
           27,
           17,
           27,
           29,
           31,
           28,
           27,
           26,
           20,
           26,
           29,
           30,
           27,
           26,
           26,
           21,
           26,
           29,
           29,
           27,
           27,
           26,
           21,
           27,
           26,
           23,
           24,
           23,
           25,
           19,
           26,
           24,
           22,
           22,
           22,
           24,
           18,
           25,
           25,
           26,
           25,
           22,
           19,
           18,
           24,
           28,
           29,
           22,
           17,
           14,
           17,
           22,
           30,
           32,
           19,
           12,
           10,
           15,
           20,
           28,
           29,
           21,
           12,
           15,
           20,
           22,
           29,
           30,
           20,
           13,
           18,
           20,
           22,
           28,
           23,
           16,
           14,
           16,
           16,
           17,
           29,
           24,
           16,
           14,
           16,
           16,
           17,
           23,
           25,
           17,
           16,
           16,
           17,
           18
          ],
          "coloraxis": "coloraxis"
         },
         "mode": "markers",
         "name": "",
         "showlegend": false,
         "subplot": "mapbox",
         "type": "scattermapbox"
        }
       ],
       "layout": {
        "coloraxis": {
         "colorbar": {
          "title": {
           "text": "temperature_ressentie"
          }
         },
         "colorscale": [
          [
           0,
           "rgb(3, 35, 51)"
          ],
          [
           0.09090909090909091,
           "rgb(13, 48, 100)"
          ],
          [
           0.18181818181818182,
           "rgb(53, 50, 155)"
          ],
          [
           0.2727272727272727,
           "rgb(93, 62, 153)"
          ],
          [
           0.36363636363636365,
           "rgb(126, 77, 143)"
          ],
          [
           0.45454545454545453,
           "rgb(158, 89, 135)"
          ],
          [
           0.5454545454545454,
           "rgb(193, 100, 121)"
          ],
          [
           0.6363636363636364,
           "rgb(225, 113, 97)"
          ],
          [
           0.7272727272727273,
           "rgb(246, 139, 69)"
          ],
          [
           0.8181818181818182,
           "rgb(251, 173, 60)"
          ],
          [
           0.9090909090909091,
           "rgb(246, 211, 70)"
          ],
          [
           1,
           "rgb(231, 250, 90)"
          ]
         ]
        },
        "legend": {
         "tracegroupgap": 0
        },
        "mapbox": {
         "center": {
          "lat": 45.84476962571432,
          "lon": 3.406327852419487
         },
         "domain": {
          "x": [
           0,
           1
          ],
          "y": [
           0,
           1
          ]
         },
         "style": "carto-positron",
         "zoom": 4
        },
        "margin": {
         "t": 60
        },
        "template": {
         "data": {
          "bar": [
           {
            "error_x": {
             "color": "#2a3f5f"
            },
            "error_y": {
             "color": "#2a3f5f"
            },
            "marker": {
             "line": {
              "color": "#E5ECF6",
              "width": 0.5
             },
             "pattern": {
              "fillmode": "overlay",
              "size": 10,
              "solidity": 0.2
             }
            },
            "type": "bar"
           }
          ],
          "barpolar": [
           {
            "marker": {
             "line": {
              "color": "#E5ECF6",
              "width": 0.5
             },
             "pattern": {
              "fillmode": "overlay",
              "size": 10,
              "solidity": 0.2
             }
            },
            "type": "barpolar"
           }
          ],
          "carpet": [
           {
            "aaxis": {
             "endlinecolor": "#2a3f5f",
             "gridcolor": "white",
             "linecolor": "white",
             "minorgridcolor": "white",
             "startlinecolor": "#2a3f5f"
            },
            "baxis": {
             "endlinecolor": "#2a3f5f",
             "gridcolor": "white",
             "linecolor": "white",
             "minorgridcolor": "white",
             "startlinecolor": "#2a3f5f"
            },
            "type": "carpet"
           }
          ],
          "choropleth": [
           {
            "colorbar": {
             "outlinewidth": 0,
             "ticks": ""
            },
            "type": "choropleth"
           }
          ],
          "contour": [
           {
            "colorbar": {
             "outlinewidth": 0,
             "ticks": ""
            },
            "colorscale": [
             [
              0,
              "#0d0887"
             ],
             [
              0.1111111111111111,
              "#46039f"
             ],
             [
              0.2222222222222222,
              "#7201a8"
             ],
             [
              0.3333333333333333,
              "#9c179e"
             ],
             [
              0.4444444444444444,
              "#bd3786"
             ],
             [
              0.5555555555555556,
              "#d8576b"
             ],
             [
              0.6666666666666666,
              "#ed7953"
             ],
             [
              0.7777777777777778,
              "#fb9f3a"
             ],
             [
              0.8888888888888888,
              "#fdca26"
             ],
             [
              1,
              "#f0f921"
             ]
            ],
            "type": "contour"
           }
          ],
          "contourcarpet": [
           {
            "colorbar": {
             "outlinewidth": 0,
             "ticks": ""
            },
            "type": "contourcarpet"
           }
          ],
          "heatmap": [
           {
            "colorbar": {
             "outlinewidth": 0,
             "ticks": ""
            },
            "colorscale": [
             [
              0,
              "#0d0887"
             ],
             [
              0.1111111111111111,
              "#46039f"
             ],
             [
              0.2222222222222222,
              "#7201a8"
             ],
             [
              0.3333333333333333,
              "#9c179e"
             ],
             [
              0.4444444444444444,
              "#bd3786"
             ],
             [
              0.5555555555555556,
              "#d8576b"
             ],
             [
              0.6666666666666666,
              "#ed7953"
             ],
             [
              0.7777777777777778,
              "#fb9f3a"
             ],
             [
              0.8888888888888888,
              "#fdca26"
             ],
             [
              1,
              "#f0f921"
             ]
            ],
            "type": "heatmap"
           }
          ],
          "heatmapgl": [
           {
            "colorbar": {
             "outlinewidth": 0,
             "ticks": ""
            },
            "colorscale": [
             [
              0,
              "#0d0887"
             ],
             [
              0.1111111111111111,
              "#46039f"
             ],
             [
              0.2222222222222222,
              "#7201a8"
             ],
             [
              0.3333333333333333,
              "#9c179e"
             ],
             [
              0.4444444444444444,
              "#bd3786"
             ],
             [
              0.5555555555555556,
              "#d8576b"
             ],
             [
              0.6666666666666666,
              "#ed7953"
             ],
             [
              0.7777777777777778,
              "#fb9f3a"
             ],
             [
              0.8888888888888888,
              "#fdca26"
             ],
             [
              1,
              "#f0f921"
             ]
            ],
            "type": "heatmapgl"
           }
          ],
          "histogram": [
           {
            "marker": {
             "pattern": {
              "fillmode": "overlay",
              "size": 10,
              "solidity": 0.2
             }
            },
            "type": "histogram"
           }
          ],
          "histogram2d": [
           {
            "colorbar": {
             "outlinewidth": 0,
             "ticks": ""
            },
            "colorscale": [
             [
              0,
              "#0d0887"
             ],
             [
              0.1111111111111111,
              "#46039f"
             ],
             [
              0.2222222222222222,
              "#7201a8"
             ],
             [
              0.3333333333333333,
              "#9c179e"
             ],
             [
              0.4444444444444444,
              "#bd3786"
             ],
             [
              0.5555555555555556,
              "#d8576b"
             ],
             [
              0.6666666666666666,
              "#ed7953"
             ],
             [
              0.7777777777777778,
              "#fb9f3a"
             ],
             [
              0.8888888888888888,
              "#fdca26"
             ],
             [
              1,
              "#f0f921"
             ]
            ],
            "type": "histogram2d"
           }
          ],
          "histogram2dcontour": [
           {
            "colorbar": {
             "outlinewidth": 0,
             "ticks": ""
            },
            "colorscale": [
             [
              0,
              "#0d0887"
             ],
             [
              0.1111111111111111,
              "#46039f"
             ],
             [
              0.2222222222222222,
              "#7201a8"
             ],
             [
              0.3333333333333333,
              "#9c179e"
             ],
             [
              0.4444444444444444,
              "#bd3786"
             ],
             [
              0.5555555555555556,
              "#d8576b"
             ],
             [
              0.6666666666666666,
              "#ed7953"
             ],
             [
              0.7777777777777778,
              "#fb9f3a"
             ],
             [
              0.8888888888888888,
              "#fdca26"
             ],
             [
              1,
              "#f0f921"
             ]
            ],
            "type": "histogram2dcontour"
           }
          ],
          "mesh3d": [
           {
            "colorbar": {
             "outlinewidth": 0,
             "ticks": ""
            },
            "type": "mesh3d"
           }
          ],
          "parcoords": [
           {
            "line": {
             "colorbar": {
              "outlinewidth": 0,
              "ticks": ""
             }
            },
            "type": "parcoords"
           }
          ],
          "pie": [
           {
            "automargin": true,
            "type": "pie"
           }
          ],
          "scatter": [
           {
            "marker": {
             "colorbar": {
              "outlinewidth": 0,
              "ticks": ""
             }
            },
            "type": "scatter"
           }
          ],
          "scatter3d": [
           {
            "line": {
             "colorbar": {
              "outlinewidth": 0,
              "ticks": ""
             }
            },
            "marker": {
             "colorbar": {
              "outlinewidth": 0,
              "ticks": ""
             }
            },
            "type": "scatter3d"
           }
          ],
          "scattercarpet": [
           {
            "marker": {
             "colorbar": {
              "outlinewidth": 0,
              "ticks": ""
             }
            },
            "type": "scattercarpet"
           }
          ],
          "scattergeo": [
           {
            "marker": {
             "colorbar": {
              "outlinewidth": 0,
              "ticks": ""
             }
            },
            "type": "scattergeo"
           }
          ],
          "scattergl": [
           {
            "marker": {
             "colorbar": {
              "outlinewidth": 0,
              "ticks": ""
             }
            },
            "type": "scattergl"
           }
          ],
          "scattermapbox": [
           {
            "marker": {
             "colorbar": {
              "outlinewidth": 0,
              "ticks": ""
             }
            },
            "type": "scattermapbox"
           }
          ],
          "scatterpolar": [
           {
            "marker": {
             "colorbar": {
              "outlinewidth": 0,
              "ticks": ""
             }
            },
            "type": "scatterpolar"
           }
          ],
          "scatterpolargl": [
           {
            "marker": {
             "colorbar": {
              "outlinewidth": 0,
              "ticks": ""
             }
            },
            "type": "scatterpolargl"
           }
          ],
          "scatterternary": [
           {
            "marker": {
             "colorbar": {
              "outlinewidth": 0,
              "ticks": ""
             }
            },
            "type": "scatterternary"
           }
          ],
          "surface": [
           {
            "colorbar": {
             "outlinewidth": 0,
             "ticks": ""
            },
            "colorscale": [
             [
              0,
              "#0d0887"
             ],
             [
              0.1111111111111111,
              "#46039f"
             ],
             [
              0.2222222222222222,
              "#7201a8"
             ],
             [
              0.3333333333333333,
              "#9c179e"
             ],
             [
              0.4444444444444444,
              "#bd3786"
             ],
             [
              0.5555555555555556,
              "#d8576b"
             ],
             [
              0.6666666666666666,
              "#ed7953"
             ],
             [
              0.7777777777777778,
              "#fb9f3a"
             ],
             [
              0.8888888888888888,
              "#fdca26"
             ],
             [
              1,
              "#f0f921"
             ]
            ],
            "type": "surface"
           }
          ],
          "table": [
           {
            "cells": {
             "fill": {
              "color": "#EBF0F8"
             },
             "line": {
              "color": "white"
             }
            },
            "header": {
             "fill": {
              "color": "#C8D4E3"
             },
             "line": {
              "color": "white"
             }
            },
            "type": "table"
           }
          ]
         },
         "layout": {
          "annotationdefaults": {
           "arrowcolor": "#2a3f5f",
           "arrowhead": 0,
           "arrowwidth": 1
          },
          "autotypenumbers": "strict",
          "coloraxis": {
           "colorbar": {
            "outlinewidth": 0,
            "ticks": ""
           }
          },
          "colorscale": {
           "diverging": [
            [
             0,
             "#8e0152"
            ],
            [
             0.1,
             "#c51b7d"
            ],
            [
             0.2,
             "#de77ae"
            ],
            [
             0.3,
             "#f1b6da"
            ],
            [
             0.4,
             "#fde0ef"
            ],
            [
             0.5,
             "#f7f7f7"
            ],
            [
             0.6,
             "#e6f5d0"
            ],
            [
             0.7,
             "#b8e186"
            ],
            [
             0.8,
             "#7fbc41"
            ],
            [
             0.9,
             "#4d9221"
            ],
            [
             1,
             "#276419"
            ]
           ],
           "sequential": [
            [
             0,
             "#0d0887"
            ],
            [
             0.1111111111111111,
             "#46039f"
            ],
            [
             0.2222222222222222,
             "#7201a8"
            ],
            [
             0.3333333333333333,
             "#9c179e"
            ],
            [
             0.4444444444444444,
             "#bd3786"
            ],
            [
             0.5555555555555556,
             "#d8576b"
            ],
            [
             0.6666666666666666,
             "#ed7953"
            ],
            [
             0.7777777777777778,
             "#fb9f3a"
            ],
            [
             0.8888888888888888,
             "#fdca26"
            ],
            [
             1,
             "#f0f921"
            ]
           ],
           "sequentialminus": [
            [
             0,
             "#0d0887"
            ],
            [
             0.1111111111111111,
             "#46039f"
            ],
            [
             0.2222222222222222,
             "#7201a8"
            ],
            [
             0.3333333333333333,
             "#9c179e"
            ],
            [
             0.4444444444444444,
             "#bd3786"
            ],
            [
             0.5555555555555556,
             "#d8576b"
            ],
            [
             0.6666666666666666,
             "#ed7953"
            ],
            [
             0.7777777777777778,
             "#fb9f3a"
            ],
            [
             0.8888888888888888,
             "#fdca26"
            ],
            [
             1,
             "#f0f921"
            ]
           ]
          },
          "colorway": [
           "#636efa",
           "#EF553B",
           "#00cc96",
           "#ab63fa",
           "#FFA15A",
           "#19d3f3",
           "#FF6692",
           "#B6E880",
           "#FF97FF",
           "#FECB52"
          ],
          "font": {
           "color": "#2a3f5f"
          },
          "geo": {
           "bgcolor": "white",
           "lakecolor": "white",
           "landcolor": "#E5ECF6",
           "showlakes": true,
           "showland": true,
           "subunitcolor": "white"
          },
          "hoverlabel": {
           "align": "left"
          },
          "hovermode": "closest",
          "mapbox": {
           "style": "light"
          },
          "paper_bgcolor": "white",
          "plot_bgcolor": "#E5ECF6",
          "polar": {
           "angularaxis": {
            "gridcolor": "white",
            "linecolor": "white",
            "ticks": ""
           },
           "bgcolor": "#E5ECF6",
           "radialaxis": {
            "gridcolor": "white",
            "linecolor": "white",
            "ticks": ""
           }
          },
          "scene": {
           "xaxis": {
            "backgroundcolor": "#E5ECF6",
            "gridcolor": "white",
            "gridwidth": 2,
            "linecolor": "white",
            "showbackground": true,
            "ticks": "",
            "zerolinecolor": "white"
           },
           "yaxis": {
            "backgroundcolor": "#E5ECF6",
            "gridcolor": "white",
            "gridwidth": 2,
            "linecolor": "white",
            "showbackground": true,
            "ticks": "",
            "zerolinecolor": "white"
           },
           "zaxis": {
            "backgroundcolor": "#E5ECF6",
            "gridcolor": "white",
            "gridwidth": 2,
            "linecolor": "white",
            "showbackground": true,
            "ticks": "",
            "zerolinecolor": "white"
           }
          },
          "shapedefaults": {
           "line": {
            "color": "#2a3f5f"
           }
          },
          "ternary": {
           "aaxis": {
            "gridcolor": "white",
            "linecolor": "white",
            "ticks": ""
           },
           "baxis": {
            "gridcolor": "white",
            "linecolor": "white",
            "ticks": ""
           },
           "bgcolor": "#E5ECF6",
           "caxis": {
            "gridcolor": "white",
            "linecolor": "white",
            "ticks": ""
           }
          },
          "title": {
           "x": 0.05
          },
          "xaxis": {
           "automargin": true,
           "gridcolor": "white",
           "linecolor": "white",
           "ticks": "",
           "title": {
            "standoff": 15
           },
           "zerolinecolor": "white",
           "zerolinewidth": 2
          },
          "yaxis": {
           "automargin": true,
           "gridcolor": "white",
           "linecolor": "white",
           "ticks": "",
           "title": {
            "standoff": 15
           },
           "zerolinecolor": "white",
           "zerolinewidth": 2
          }
         }
        }
       }
      }
     },
     "metadata": {},
     "output_type": "display_data"
    }
   ],
   "source": [
    "import plotly.express as px\n",
    "\n",
    "fig = px.scatter_mapbox(\n",
    "    df,\n",
    "    lat=\"lat\",\n",
    "    lon=\"lon\",\n",
    "    hover_name=\"city\",\n",
    "    zoom=4,\n",
    "    hover_data=[\"meteo_principale\", \"probabilite_de_pluie\", \"temperature_ressentie\"],\n",
    "    color=\"temperature_ressentie\",\n",
    "    color_continuous_scale=\"thermal\",\n",
    "    mapbox_style=\"carto-positron\",\n",
    ")\n",
    "fig.show()\n"
   ]
  },
  {
   "cell_type": "markdown",
   "metadata": {},
   "source": [
    "## Scrape Booking.com "
   ]
  },
  {
   "cell_type": "code",
   "execution_count": 16,
   "metadata": {},
   "outputs": [],
   "source": [
    "import scrapy\n",
    "\n",
    "\n",
    "class BookingSpider(scrapy.Spider):\n",
    "    # Name of my spider\n",
    "    name = \"mySpider\"\n",
    "\n",
    "    # Url to start my spider from\n",
    "    start_urls = [\n",
    "        \"https://www.booking.com/index.fr.html\",\n",
    "    ]\n",
    "\n",
    "    # Callback function that will be called when starting my spider\n",
    "    def parse(self, response):\n",
    "        for x in cities:\n",
    "            yield scrapy.FormRequest.from_response(\n",
    "                response, formdata={\"ss\": x}, callback=self.after_search\n",
    "            )\n",
    "\n",
    "    def after_search(self, response):\n",
    "        cities = response.url.split(\"ss=\")[-1].split(\"&\")[0]\n",
    "\n",
    "        booking = response.css(\".d4924c9e74\")\n",
    "\n",
    "        for data in booking:\n",
    "\n",
    "            yield {\n",
    "                \"location\": cities,\n",
    "                \"name\": data.css(\"a div.fcab3ed991.a23c043802::text\").getall(),\n",
    "                \"url\": data.css(\"h3.a4225678b2 a::attr(href)\").getall(),\n",
    "                #'coords': data.css('.sr_card_address_line a').attrib[\"data-coords\"],\n",
    "                #'score': data.css('.bui-review-score__badge::text').get(),\n",
    "                #'description': data.css('.hotel_desc::text').get()\n",
    "            }\n",
    "\n",
    "        try:\n",
    "            next_page = response.css(\"a.paging-next\").attrib[\"href\"]\n",
    "        except KeyError:\n",
    "            logging.info(\"No next page. Terminating crawling process.\")\n",
    "        else:\n",
    "            yield response.follow(next_page, callback=self.after_search)\n"
   ]
  },
  {
   "cell_type": "code",
   "execution_count": 17,
   "metadata": {},
   "outputs": [
    {
     "name": "stderr",
     "output_type": "stream",
     "text": [
      "2022-05-20 16:06:20 [scrapy.utils.log] INFO: Scrapy 2.6.1 started (bot: scrapybot)\n",
      "2022-05-20 16:06:20 [scrapy.utils.log] INFO: Versions: lxml 4.8.0.0, libxml2 2.9.12, cssselect 1.1.0, parsel 1.6.0, w3lib 1.21.0, Twisted 22.2.0, Python 3.9.12 (main, Apr  5 2022, 01:53:17) - [Clang 12.0.0 ], pyOpenSSL 21.0.0 (OpenSSL 1.1.1n  15 Mar 2022), cryptography 3.4.8, Platform macOS-10.16-x86_64-i386-64bit\n",
      "2022-05-20 16:06:20 [scrapy.crawler] INFO: Overridden settings:\n",
      "{'AUTOTHROTTLE_ENABLED': True,\n",
      " 'LOG_LEVEL': 20,\n",
      " 'USER_AGENT': 'Mozilla/5.0 (Windows NT 5.1; rv:11.0) Gecko Firefox/11.0'}\n",
      "2022-05-20 16:06:20 [scrapy.extensions.telnet] INFO: Telnet Password: 22191fc758bdab85\n",
      "2022-05-20 16:06:20 [scrapy.middleware] INFO: Enabled extensions:\n",
      "['scrapy.extensions.corestats.CoreStats',\n",
      " 'scrapy.extensions.telnet.TelnetConsole',\n",
      " 'scrapy.extensions.memusage.MemoryUsage',\n",
      " 'scrapy.extensions.feedexport.FeedExporter',\n",
      " 'scrapy.extensions.logstats.LogStats',\n",
      " 'scrapy.extensions.throttle.AutoThrottle']\n",
      "2022-05-20 16:06:20 [scrapy.middleware] INFO: Enabled downloader middlewares:\n",
      "['scrapy.downloadermiddlewares.httpauth.HttpAuthMiddleware',\n",
      " 'scrapy.downloadermiddlewares.downloadtimeout.DownloadTimeoutMiddleware',\n",
      " 'scrapy.downloadermiddlewares.defaultheaders.DefaultHeadersMiddleware',\n",
      " 'scrapy.downloadermiddlewares.useragent.UserAgentMiddleware',\n",
      " 'scrapy.downloadermiddlewares.retry.RetryMiddleware',\n",
      " 'scrapy.downloadermiddlewares.redirect.MetaRefreshMiddleware',\n",
      " 'scrapy.downloadermiddlewares.httpcompression.HttpCompressionMiddleware',\n",
      " 'scrapy.downloadermiddlewares.redirect.RedirectMiddleware',\n",
      " 'scrapy.downloadermiddlewares.cookies.CookiesMiddleware',\n",
      " 'scrapy.downloadermiddlewares.httpproxy.HttpProxyMiddleware',\n",
      " 'scrapy.downloadermiddlewares.stats.DownloaderStats']\n",
      "2022-05-20 16:06:20 [scrapy.middleware] INFO: Enabled spider middlewares:\n",
      "['scrapy.spidermiddlewares.httperror.HttpErrorMiddleware',\n",
      " 'scrapy.spidermiddlewares.offsite.OffsiteMiddleware',\n",
      " 'scrapy.spidermiddlewares.referer.RefererMiddleware',\n",
      " 'scrapy.spidermiddlewares.urllength.UrlLengthMiddleware',\n",
      " 'scrapy.spidermiddlewares.depth.DepthMiddleware']\n",
      "2022-05-20 16:06:20 [scrapy.middleware] INFO: Enabled item pipelines:\n",
      "[]\n",
      "2022-05-20 16:06:20 [scrapy.core.engine] INFO: Spider opened\n",
      "2022-05-20 16:06:21 [scrapy.extensions.logstats] INFO: Crawled 0 pages (at 0 pages/min), scraped 0 items (at 0 items/min)\n",
      "2022-05-20 16:06:21 [scrapy.extensions.telnet] INFO: Telnet console listening on 127.0.0.1:6023\n",
      "2022-05-20 16:06:26 [root] INFO: No next page. Terminating crawling process.\n",
      "2022-05-20 16:06:31 [root] INFO: No next page. Terminating crawling process.\n",
      "2022-05-20 16:06:32 [root] INFO: No next page. Terminating crawling process.\n",
      "2022-05-20 16:06:34 [root] INFO: No next page. Terminating crawling process.\n",
      "2022-05-20 16:06:35 [root] INFO: No next page. Terminating crawling process.\n",
      "2022-05-20 16:06:36 [root] INFO: No next page. Terminating crawling process.\n",
      "2022-05-20 16:06:36 [root] INFO: No next page. Terminating crawling process.\n",
      "2022-05-20 16:06:37 [root] INFO: No next page. Terminating crawling process.\n",
      "2022-05-20 16:06:37 [root] INFO: No next page. Terminating crawling process.\n",
      "2022-05-20 16:06:38 [root] INFO: No next page. Terminating crawling process.\n",
      "2022-05-20 16:06:38 [root] INFO: No next page. Terminating crawling process.\n",
      "2022-05-20 16:06:38 [root] INFO: No next page. Terminating crawling process.\n",
      "2022-05-20 16:06:39 [root] INFO: No next page. Terminating crawling process.\n",
      "2022-05-20 16:06:40 [root] INFO: No next page. Terminating crawling process.\n",
      "2022-05-20 16:06:40 [root] INFO: No next page. Terminating crawling process.\n",
      "2022-05-20 16:06:40 [root] INFO: No next page. Terminating crawling process.\n",
      "2022-05-20 16:06:41 [root] INFO: No next page. Terminating crawling process.\n",
      "2022-05-20 16:06:42 [root] INFO: No next page. Terminating crawling process.\n",
      "2022-05-20 16:06:43 [root] INFO: No next page. Terminating crawling process.\n",
      "2022-05-20 16:06:43 [root] INFO: No next page. Terminating crawling process.\n",
      "2022-05-20 16:06:44 [root] INFO: No next page. Terminating crawling process.\n",
      "2022-05-20 16:06:44 [root] INFO: No next page. Terminating crawling process.\n",
      "2022-05-20 16:06:44 [root] INFO: No next page. Terminating crawling process.\n",
      "2022-05-20 16:06:45 [root] INFO: No next page. Terminating crawling process.\n",
      "2022-05-20 16:06:45 [root] INFO: No next page. Terminating crawling process.\n",
      "2022-05-20 16:06:46 [root] INFO: No next page. Terminating crawling process.\n",
      "2022-05-20 16:06:46 [root] INFO: No next page. Terminating crawling process.\n",
      "2022-05-20 16:06:47 [root] INFO: No next page. Terminating crawling process.\n",
      "2022-05-20 16:06:47 [root] INFO: No next page. Terminating crawling process.\n",
      "2022-05-20 16:06:47 [root] INFO: No next page. Terminating crawling process.\n",
      "2022-05-20 16:06:48 [root] INFO: No next page. Terminating crawling process.\n",
      "2022-05-20 16:06:48 [root] INFO: No next page. Terminating crawling process.\n",
      "2022-05-20 16:06:49 [root] INFO: No next page. Terminating crawling process.\n",
      "2022-05-20 16:06:49 [root] INFO: No next page. Terminating crawling process.\n",
      "2022-05-20 16:06:50 [root] INFO: No next page. Terminating crawling process.\n",
      "2022-05-20 16:06:50 [scrapy.core.engine] INFO: Closing spider (finished)\n",
      "2022-05-20 16:06:50 [scrapy.extensions.feedexport] INFO: Stored json feed (35 items) in: /Users/alexlasnier/Desktop/Bloc01_BigData-WebScraping_Kayak/hotels.json\n",
      "2022-05-20 16:06:50 [scrapy.statscollectors] INFO: Dumping Scrapy stats:\n",
      "{'downloader/request_bytes': 49885,\n",
      " 'downloader/request_count': 36,\n",
      " 'downloader/request_method_count/GET': 36,\n",
      " 'downloader/response_bytes': 5970535,\n",
      " 'downloader/response_count': 36,\n",
      " 'downloader/response_status_count/200': 36,\n",
      " 'elapsed_time_seconds': 29.739144,\n",
      " 'feedexport/success_count/FileFeedStorage': 1,\n",
      " 'finish_reason': 'finished',\n",
      " 'finish_time': datetime.datetime(2022, 5, 20, 14, 6, 50, 779170),\n",
      " 'httpcompression/response_bytes': 39261917,\n",
      " 'httpcompression/response_count': 36,\n",
      " 'item_scraped_count': 35,\n",
      " 'log_count/INFO': 46,\n",
      " 'memusage/max': 232787968,\n",
      " 'memusage/startup': 232787968,\n",
      " 'request_depth_max': 1,\n",
      " 'response_received_count': 36,\n",
      " 'scheduler/dequeued': 36,\n",
      " 'scheduler/dequeued/memory': 36,\n",
      " 'scheduler/enqueued': 36,\n",
      " 'scheduler/enqueued/memory': 36,\n",
      " 'start_time': datetime.datetime(2022, 5, 20, 14, 6, 21, 40026)}\n",
      "2022-05-20 16:06:50 [scrapy.core.engine] INFO: Spider closed (finished)\n"
     ]
    }
   ],
   "source": [
    "from scrapy.crawler import CrawlerProcess\n",
    "import logging\n",
    "import os\n",
    "\n",
    "# Name of the file where the results will be saved\n",
    "filename = \"hotels.json\"\n",
    "\n",
    "# If file already exists, delete before crawling (because Scrapy will concatenate the last and new results otherwise)\n",
    "if filename in os.listdir(\"/Users/alexlasnier/Desktop/Bloc01_BigData-WebScraping_Kayak/\"):\n",
    "    os.remove(\"/Users/alexlasnier/Desktop/Bloc01_BigData-WebScraping_Kayak/\" + filename)\n",
    "\n",
    "# Declare a new CrawlerProcess with some settings\n",
    "process = CrawlerProcess(\n",
    "    settings={\n",
    "        \"USER_AGENT\": 'Mozilla/5.0 (Windows NT 5.1; rv:11.0) Gecko Firefox/11.0',\n",
    "        \"LOG_LEVEL\": logging.INFO,\n",
    "        \"FEEDS\": {\n",
    "            \"/Users/alexlasnier/Desktop/Bloc01_BigData-WebScraping_Kayak/\"\n",
    "            + filename: {\"format\": \"json\"},\n",
    "        },\n",
    "        \"AUTOTHROTTLE_ENABLED\": True\n",
    "    }\n",
    ")\n",
    "\n",
    "# Start the crawling using the spider you defined above\n",
    "process.crawl(BookingSpider)\n",
    "process.start()\n"
   ]
  },
  {
   "cell_type": "code",
   "execution_count": 18,
   "metadata": {},
   "outputs": [
    {
     "data": {
      "text/html": [
       "<div>\n",
       "<style scoped>\n",
       "    .dataframe tbody tr th:only-of-type {\n",
       "        vertical-align: middle;\n",
       "    }\n",
       "\n",
       "    .dataframe tbody tr th {\n",
       "        vertical-align: top;\n",
       "    }\n",
       "\n",
       "    .dataframe thead th {\n",
       "        text-align: right;\n",
       "    }\n",
       "</style>\n",
       "<table border=\"1\" class=\"dataframe\">\n",
       "  <thead>\n",
       "    <tr style=\"text-align: right;\">\n",
       "      <th></th>\n",
       "      <th>location</th>\n",
       "      <th>name</th>\n",
       "      <th>url</th>\n",
       "    </tr>\n",
       "  </thead>\n",
       "  <tbody>\n",
       "    <tr>\n",
       "      <th>0</th>\n",
       "      <td>Mont+Saint+Michel</td>\n",
       "      <td>[Hôtel Vert, Les Terrasses Poulard, Mercure Mo...</td>\n",
       "      <td>[https://www.booking.com/hotel/fr/vert.fr.html...</td>\n",
       "    </tr>\n",
       "    <tr>\n",
       "      <th>1</th>\n",
       "      <td>St+Malo</td>\n",
       "      <td>[Hotel Eden, Hotel Ajoncs d'Or, Hôtel Bristol ...</td>\n",
       "      <td>[https://www.booking.com/hotel/fr/eden-saint-m...</td>\n",
       "    </tr>\n",
       "    <tr>\n",
       "      <th>2</th>\n",
       "      <td>Bayeux</td>\n",
       "      <td>[ibis budget Bayeux, Domaine de Bayeux, Hôtel ...</td>\n",
       "      <td>[https://www.booking.com/hotel/fr/etap-bayeux....</td>\n",
       "    </tr>\n",
       "    <tr>\n",
       "      <th>3</th>\n",
       "      <td>Le+Havre</td>\n",
       "      <td>[Hôtel Le Marignan - Le Havre Centre Gare, Hol...</td>\n",
       "      <td>[https://www.booking.com/hotel/fr/la-baraka.fr...</td>\n",
       "    </tr>\n",
       "    <tr>\n",
       "      <th>4</th>\n",
       "      <td>Rouen</td>\n",
       "      <td>[Radisson Blu Hotel, Rouen Centre, Mercure Rou...</td>\n",
       "      <td>[https://www.booking.com/hotel/fr/radisson-blu...</td>\n",
       "    </tr>\n",
       "  </tbody>\n",
       "</table>\n",
       "</div>"
      ],
      "text/plain": [
       "            location                                               name  \\\n",
       "0  Mont+Saint+Michel  [Hôtel Vert, Les Terrasses Poulard, Mercure Mo...   \n",
       "1            St+Malo  [Hotel Eden, Hotel Ajoncs d'Or, Hôtel Bristol ...   \n",
       "2             Bayeux  [ibis budget Bayeux, Domaine de Bayeux, Hôtel ...   \n",
       "3           Le+Havre  [Hôtel Le Marignan - Le Havre Centre Gare, Hol...   \n",
       "4              Rouen  [Radisson Blu Hotel, Rouen Centre, Mercure Rou...   \n",
       "\n",
       "                                                 url  \n",
       "0  [https://www.booking.com/hotel/fr/vert.fr.html...  \n",
       "1  [https://www.booking.com/hotel/fr/eden-saint-m...  \n",
       "2  [https://www.booking.com/hotel/fr/etap-bayeux....  \n",
       "3  [https://www.booking.com/hotel/fr/la-baraka.fr...  \n",
       "4  [https://www.booking.com/hotel/fr/radisson-blu...  "
      ]
     },
     "execution_count": 18,
     "metadata": {},
     "output_type": "execute_result"
    }
   ],
   "source": [
    "# Create a DataFrame from the json file\n",
    "df_scraped = pd.read_json(\"/Users/alexlasnier/Desktop/Bloc01_BigData-WebScraping_Kayak/cities.json\")\n",
    "df_scraped.head()"
   ]
  },
  {
   "cell_type": "code",
   "execution_count": null,
   "metadata": {},
   "outputs": [],
   "source": []
  },
  {
   "cell_type": "markdown",
   "metadata": {},
   "source": [
    "## Create your data lake using S3"
   ]
  },
  {
   "cell_type": "markdown",
   "metadata": {},
   "source": [
    "## ETL"
   ]
  }
 ],
 "metadata": {
  "interpreter": {
   "hash": "5e23285782446c6864c996c28c3fd325702bb6068d9fb9865cc2d1c7e1d13946"
  },
  "kernelspec": {
   "display_name": "Python 3.9.12 ('base')",
   "language": "python",
   "name": "python3"
  },
  "language_info": {
   "codemirror_mode": {
    "name": "ipython",
    "version": 3
   },
   "file_extension": ".py",
   "mimetype": "text/x-python",
   "name": "python",
   "nbconvert_exporter": "python",
   "pygments_lexer": "ipython3",
   "version": "3.9.12"
  }
 },
 "nbformat": 4,
 "nbformat_minor": 4
}
