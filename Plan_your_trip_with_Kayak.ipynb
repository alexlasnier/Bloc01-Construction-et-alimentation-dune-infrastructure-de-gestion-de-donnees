{
 "cells": [
  {
   "cell_type": "markdown",
   "metadata": {},
   "source": [
    "⚠️ This project is mandatory for certification bloc #1."
   ]
  },
  {
   "cell_type": "markdown",
   "metadata": {},
   "source": [
    "![Kayak](https://seekvectorlogo.com/wp-content/uploads/2018/01/kayak-vector-logo.png)\n",
    "\n",
    "# Plan your trip with Kayak "
   ]
  },
  {
   "cell_type": "markdown",
   "metadata": {},
   "source": [
    "\n",
    "## Company's description 📇\n",
    "\n",
    "<a href='https://www.kayak.com' target='_blank'>Kayak</a> is a travel search engine that helps user plan their next trip at the best price.\n",
    "\n",
    "The company was founded in 2004 by Steve Hafner & Paul M. English. After a few rounds of fundraising, Kayak was acquired by <a href='https://www.bookingholdings.com/' target='_blank'>Booking Holdings</a> which now holds: \n",
    "\n",
    "* <a href='https://booking.com/' target='_blank'>Booking.com</a>\n",
    "* <a href='https://kayak.com/' target='_blank'>Kayak</a>\n",
    "* <a href='https://www.priceline.com/' target='_blank'>Priceline</a>\n",
    "* <a href='https://www.agoda.com/' target='_blank'>Agoda</a>\n",
    "* <a href='https://Rentalcars.com/' target='_blank'>RentalCars</a>\n",
    "* <a href='https://www.opentable.com/' target='_blank'>OpenTable</a>\n",
    "\n",
    "With over \\$300 million revenue a year, Kayak operates in almost all countries and all languages to help their users book travels accros the globe. "
   ]
  },
  {
   "cell_type": "markdown",
   "metadata": {},
   "source": [
    "## Project 🚧\n",
    "\n",
    "The marketing team needs help on a new project. After doing some user research, the team discovered that **70% of their users who are planning a trip would like to have more information about the destination they are going to**. \n",
    "\n",
    "In addition, user research shows that **people tend to be defiant about the information they are reading if they don't know the brand** which produced the content. \n",
    "\n",
    "Therefore, Kayak Marketing Team would like to create an application that will recommend where people should plan their next holidays. The application should be based on real data about:\n",
    "\n",
    "* Weather \n",
    "* Hotels in the area \n",
    "\n",
    "The application should then be able to recommend the best destinations and hotels based on the above variables at any given time. "
   ]
  },
  {
   "cell_type": "markdown",
   "metadata": {},
   "source": [
    "## Goals 🎯\n",
    "\n",
    "As the project has just started, your team doesn't have any data that can be used to create this application. Therefore, your job will be to: \n",
    "\n",
    "* Scrape data from destinations \n",
    "* Get weather data from each destination \n",
    "* Get hotels' info about each destination\n",
    "* Store all the information above in a data lake\n",
    "* Extract, transform and load cleaned data from your datalake to a data warehouse"
   ]
  },
  {
   "cell_type": "markdown",
   "metadata": {},
   "source": [
    "## Scope of this project 🖼️\n",
    "\n",
    "Marketing team wants to focus first on the best cities to travel to in France. According <a href='https://one-week-in.com/35-cities-to-visit-in-france/' target='_blank'>One Week In.com</a> here are the top-35 cities to visit in France: \n",
    "\n",
    "```python \n",
    "['Mont Saint Michel',\n",
    "'St Malo',\n",
    "'Bayeux',\n",
    "'Le Havre',\n",
    "'Rouen',\n",
    "'Paris',\n",
    "'Amiens',\n",
    "'Lille',\n",
    "'Strasbourg',\n",
    "'Chateau du Haut Koenigsbourg',\n",
    "'Colmar',\n",
    "'Eguisheim',\n",
    "'Besancon',\n",
    "'Dijon',\n",
    "'Annecy',\n",
    "'Grenoble',\n",
    "'Lyon',\n",
    "'Gorges du Verdon',\n",
    "'Bormes les Mimosas',\n",
    "'Cassis',\n",
    "'Marseille',\n",
    "'Aix en Provence',\n",
    "'Avignon',\n",
    "'Uzes',\n",
    "'Nimes',\n",
    "'Aigues Mortes',\n",
    "'Saintes Maries de la mer',\n",
    "'Collioure',\n",
    "'Carcassonne',\n",
    "'Ariege',\n",
    "'Toulouse',\n",
    "'Montauban',\n",
    "'Biarritz',\n",
    "'Bayonne',\n",
    "'La Rochelle']\n",
    "```\n",
    "\n",
    "Your team should focus **only on the above cities for your project**. \n"
   ]
  },
  {
   "cell_type": "markdown",
   "metadata": {},
   "source": [
    "## Helpers 🦮\n",
    "\n",
    "To help you achieve this project, here are a few tips that should help you\n",
    "\n",
    "### Get weather data with an API \n",
    "\n",
    "*   Use https://nominatim.org/ to get the gps coordinates of all the cities (no subscription required) Documentation : https://nominatim.org/release-docs/develop/api/Search/\n",
    "\n",
    "*   Use https://openweathermap.org/appid (you have to subscribe to get a free apikey) and https://openweathermap.org/api/one-call-api to get some information about the weather for the 35 cities and put it in a DataFrame\n",
    "\n",
    "*   Determine the list of cities where the weather will be the nicest within the next 7 days For example, you can use the values of daily.pop and daily.rain to compute the expected volume of rain within the next 7 days... But it's only an example, actually you can have different opinions on a what a nice weather would be like 😎 Maybe the most important criterion for you is the temperature or humidity, so feel free to change the rules !\n",
    "\n",
    "*   Save all the results in a `.csv` file, you will use it later 😉 You can save all the informations that seem important to you ! Don't forget to save the name of the cities, and also to create a column containing a unique identifier (id) of each city (this is important for what's next in the project)\n",
    "\n",
    "*   Use plotly to display the best destinations on a map\n",
    "\n",
    "### Scrape Booking.com \n",
    "\n",
    "Since BookingHoldings doesn't have aggregated databases, it will be much faster to scrape data directly from booking.com \n",
    "\n",
    "You can scrap as many information asyou want, but we suggest that you get at least:\n",
    "\n",
    "*   hotel name,\n",
    "*   Url to its booking.com page,\n",
    "*   Its coordinates: latitude and longitude\n",
    "*   Score given by the website users\n",
    "*   Text description of the hotel\n",
    "\n",
    "\n",
    "### Create your data lake using S3 \n",
    "\n",
    "Once you managed to build your dataset, you should store into S3 as a csv file. \n",
    "\n",
    "### ETL \n",
    "\n",
    "Once you uploaded your data onto S3, it will be better for the next data analysis team to extract clean data directly from a Data Warehouse. Therefore, create a SQL Database using AWS RDS, extract your data from S3 and store it in your newly created DB. "
   ]
  },
  {
   "cell_type": "markdown",
   "metadata": {},
   "source": [
    "## Deliverable 📬\n",
    "\n",
    "To complete this project, your team should deliver:\n",
    "\n",
    "* A `.csv` file in an S3 bucket containing enriched information about weather and hotels for each french city\n",
    "\n",
    "* A SQL Database where we should be able to get the same cleaned data from S3 \n",
    "\n",
    "* Two maps where you should have a Top-5 destinations and a Top-20 hotels in the area. You can use plotly or any other library to do so. It should look something like this: \n",
    "\n",
    "![Map](https://full-stack-assets.s3.eu-west-3.amazonaws.com/images/Kayak_best_destination_project.png)"
   ]
  },
  {
   "cell_type": "markdown",
   "metadata": {},
   "source": [
    "# Let's start"
   ]
  },
  {
   "cell_type": "code",
   "execution_count": 1,
   "metadata": {},
   "outputs": [],
   "source": [
    "# Import libs:\n",
    "\n",
    "import pandas as pd\n",
    "import requests\n",
    "import numpy as np\n",
    "import plotly.express as px\n",
    "import scrapy\n",
    "from scrapy.crawler import CrawlerProcess\n",
    "import logging\n",
    "import os\n",
    "from bs4 import BeautifulSoup\n",
    "import time\n",
    "import boto3\n",
    "import psycopg2\n",
    "from sqlalchemy import create_engine, text\n",
    "from sqlalchemy.orm import sessionmaker\n"
   ]
  },
  {
   "cell_type": "markdown",
   "metadata": {},
   "source": [
    "## Get weather data with an API"
   ]
  },
  {
   "cell_type": "code",
   "execution_count": 2,
   "metadata": {},
   "outputs": [],
   "source": [
    "# Import list of cities\n",
    "\n",
    "villes = [\n",
    "    \"Mont Saint Michel\",\n",
    "    \"St Malo\",\n",
    "    \"Bayeux\",\n",
    "    \"Le Havre\",\n",
    "    \"Rouen\",\n",
    "    \"Paris\",\n",
    "    \"Amiens\",\n",
    "    \"Lille\",\n",
    "    \"Strasbourg\",\n",
    "    \"Chateau du Haut Koenigsbourg\",\n",
    "    \"Colmar\",\n",
    "    \"Eguisheim\",\n",
    "    \"Besancon\",\n",
    "    \"Dijon\",\n",
    "    \"Annecy\",\n",
    "    \"Grenoble\",\n",
    "    \"Lyon\",\n",
    "    \"Gorges du Verdon\",\n",
    "    \"Bormes les Mimosas\",\n",
    "    \"Cassis\",\n",
    "    \"Marseille\",\n",
    "    \"Aix en Provence\",\n",
    "    \"Avignon\",\n",
    "    \"Uzes\",\n",
    "    \"Nimes\",\n",
    "    \"Aigues Mortes\",\n",
    "    \"Saintes Maries de la mer\",\n",
    "    \"Collioure\",\n",
    "    \"Carcassonne\",\n",
    "    \"Ariege\",\n",
    "    \"Toulouse\",\n",
    "    \"Montauban\",\n",
    "    \"Biarritz\",\n",
    "    \"Bayonne\",\n",
    "    \"La Rochelle\",\n",
    "]\n"
   ]
  },
  {
   "cell_type": "code",
   "execution_count": 3,
   "metadata": {},
   "outputs": [
    {
     "data": {
      "text/html": [
       "<div>\n",
       "<style scoped>\n",
       "    .dataframe tbody tr th:only-of-type {\n",
       "        vertical-align: middle;\n",
       "    }\n",
       "\n",
       "    .dataframe tbody tr th {\n",
       "        vertical-align: top;\n",
       "    }\n",
       "\n",
       "    .dataframe thead th {\n",
       "        text-align: right;\n",
       "    }\n",
       "</style>\n",
       "<table border=\"1\" class=\"dataframe\">\n",
       "  <thead>\n",
       "    <tr style=\"text-align: right;\">\n",
       "      <th></th>\n",
       "      <th>ville</th>\n",
       "    </tr>\n",
       "  </thead>\n",
       "  <tbody>\n",
       "    <tr>\n",
       "      <th>0</th>\n",
       "      <td>Mont Saint Michel</td>\n",
       "    </tr>\n",
       "    <tr>\n",
       "      <th>1</th>\n",
       "      <td>St Malo</td>\n",
       "    </tr>\n",
       "    <tr>\n",
       "      <th>2</th>\n",
       "      <td>Bayeux</td>\n",
       "    </tr>\n",
       "    <tr>\n",
       "      <th>3</th>\n",
       "      <td>Le Havre</td>\n",
       "    </tr>\n",
       "    <tr>\n",
       "      <th>4</th>\n",
       "      <td>Rouen</td>\n",
       "    </tr>\n",
       "    <tr>\n",
       "      <th>5</th>\n",
       "      <td>Paris</td>\n",
       "    </tr>\n",
       "    <tr>\n",
       "      <th>6</th>\n",
       "      <td>Amiens</td>\n",
       "    </tr>\n",
       "    <tr>\n",
       "      <th>7</th>\n",
       "      <td>Lille</td>\n",
       "    </tr>\n",
       "    <tr>\n",
       "      <th>8</th>\n",
       "      <td>Strasbourg</td>\n",
       "    </tr>\n",
       "    <tr>\n",
       "      <th>9</th>\n",
       "      <td>Chateau du Haut Koenigsbourg</td>\n",
       "    </tr>\n",
       "    <tr>\n",
       "      <th>10</th>\n",
       "      <td>Colmar</td>\n",
       "    </tr>\n",
       "    <tr>\n",
       "      <th>11</th>\n",
       "      <td>Eguisheim</td>\n",
       "    </tr>\n",
       "    <tr>\n",
       "      <th>12</th>\n",
       "      <td>Besancon</td>\n",
       "    </tr>\n",
       "    <tr>\n",
       "      <th>13</th>\n",
       "      <td>Dijon</td>\n",
       "    </tr>\n",
       "    <tr>\n",
       "      <th>14</th>\n",
       "      <td>Annecy</td>\n",
       "    </tr>\n",
       "    <tr>\n",
       "      <th>15</th>\n",
       "      <td>Grenoble</td>\n",
       "    </tr>\n",
       "    <tr>\n",
       "      <th>16</th>\n",
       "      <td>Lyon</td>\n",
       "    </tr>\n",
       "    <tr>\n",
       "      <th>17</th>\n",
       "      <td>Gorges du Verdon</td>\n",
       "    </tr>\n",
       "    <tr>\n",
       "      <th>18</th>\n",
       "      <td>Bormes les Mimosas</td>\n",
       "    </tr>\n",
       "    <tr>\n",
       "      <th>19</th>\n",
       "      <td>Cassis</td>\n",
       "    </tr>\n",
       "    <tr>\n",
       "      <th>20</th>\n",
       "      <td>Marseille</td>\n",
       "    </tr>\n",
       "    <tr>\n",
       "      <th>21</th>\n",
       "      <td>Aix en Provence</td>\n",
       "    </tr>\n",
       "    <tr>\n",
       "      <th>22</th>\n",
       "      <td>Avignon</td>\n",
       "    </tr>\n",
       "    <tr>\n",
       "      <th>23</th>\n",
       "      <td>Uzes</td>\n",
       "    </tr>\n",
       "    <tr>\n",
       "      <th>24</th>\n",
       "      <td>Nimes</td>\n",
       "    </tr>\n",
       "    <tr>\n",
       "      <th>25</th>\n",
       "      <td>Aigues Mortes</td>\n",
       "    </tr>\n",
       "    <tr>\n",
       "      <th>26</th>\n",
       "      <td>Saintes Maries de la mer</td>\n",
       "    </tr>\n",
       "    <tr>\n",
       "      <th>27</th>\n",
       "      <td>Collioure</td>\n",
       "    </tr>\n",
       "    <tr>\n",
       "      <th>28</th>\n",
       "      <td>Carcassonne</td>\n",
       "    </tr>\n",
       "    <tr>\n",
       "      <th>29</th>\n",
       "      <td>Ariege</td>\n",
       "    </tr>\n",
       "    <tr>\n",
       "      <th>30</th>\n",
       "      <td>Toulouse</td>\n",
       "    </tr>\n",
       "    <tr>\n",
       "      <th>31</th>\n",
       "      <td>Montauban</td>\n",
       "    </tr>\n",
       "    <tr>\n",
       "      <th>32</th>\n",
       "      <td>Biarritz</td>\n",
       "    </tr>\n",
       "    <tr>\n",
       "      <th>33</th>\n",
       "      <td>Bayonne</td>\n",
       "    </tr>\n",
       "    <tr>\n",
       "      <th>34</th>\n",
       "      <td>La Rochelle</td>\n",
       "    </tr>\n",
       "  </tbody>\n",
       "</table>\n",
       "</div>"
      ],
      "text/plain": [
       "                           ville\n",
       "0              Mont Saint Michel\n",
       "1                        St Malo\n",
       "2                         Bayeux\n",
       "3                       Le Havre\n",
       "4                          Rouen\n",
       "5                          Paris\n",
       "6                         Amiens\n",
       "7                          Lille\n",
       "8                     Strasbourg\n",
       "9   Chateau du Haut Koenigsbourg\n",
       "10                        Colmar\n",
       "11                     Eguisheim\n",
       "12                      Besancon\n",
       "13                         Dijon\n",
       "14                        Annecy\n",
       "15                      Grenoble\n",
       "16                          Lyon\n",
       "17              Gorges du Verdon\n",
       "18            Bormes les Mimosas\n",
       "19                        Cassis\n",
       "20                     Marseille\n",
       "21               Aix en Provence\n",
       "22                       Avignon\n",
       "23                          Uzes\n",
       "24                         Nimes\n",
       "25                 Aigues Mortes\n",
       "26      Saintes Maries de la mer\n",
       "27                     Collioure\n",
       "28                   Carcassonne\n",
       "29                        Ariege\n",
       "30                      Toulouse\n",
       "31                     Montauban\n",
       "32                      Biarritz\n",
       "33                       Bayonne\n",
       "34                   La Rochelle"
      ]
     },
     "execution_count": 3,
     "metadata": {},
     "output_type": "execute_result"
    }
   ],
   "source": [
    "# Creating a dataframe from the list of cities\n",
    "df_cities = pd.DataFrame(data=villes, columns=[\"ville\"])\n",
    "df_cities = df_cities.set_index(\"ville\")\n",
    "df_cities = df_cities.reindex(villes)\n",
    "df_cities = df_cities.reset_index()\n",
    "df_cities = df_cities.rename(columns={\"index\": \"id\"})\n",
    "\n",
    "df_cities\n"
   ]
  },
  {
   "cell_type": "markdown",
   "metadata": {},
   "source": [
    "### Nominatim API : get the gps coordinates of all the cities => https://nominatim.org/release-docs/latest/"
   ]
  },
  {
   "cell_type": "code",
   "execution_count": 4,
   "metadata": {},
   "outputs": [
    {
     "data": {
      "text/plain": [
       "[{'place_id': 281822562,\n",
       "  'licence': 'Data © OpenStreetMap contributors, ODbL 1.0. https://osm.org/copyright',\n",
       "  'osm_type': 'relation',\n",
       "  'osm_id': 117858,\n",
       "  'boundingbox': ['46.1331804', '46.1908971', '-1.2419231', '-1.111097'],\n",
       "  'lat': '46.1591126',\n",
       "  'lon': '-1.1520434',\n",
       "  'display_name': 'La Rochelle, Charente-Maritime, Nouvelle-Aquitaine, France métropolitaine, 17000, France',\n",
       "  'class': 'boundary',\n",
       "  'type': 'administrative',\n",
       "  'importance': 0.9114837096874572,\n",
       "  'icon': 'https://nominatim.openstreetmap.org/ui/mapicons/poi_boundary_administrative.p.20.png'},\n",
       " {'place_id': 282096286,\n",
       "  'licence': 'Data © OpenStreetMap contributors, ODbL 1.0. https://osm.org/copyright',\n",
       "  'osm_type': 'relation',\n",
       "  'osm_id': 1215878,\n",
       "  'boundingbox': ['47.7388479', '47.7647325', '5.7060641', '5.7454734'],\n",
       "  'lat': '47.75173925',\n",
       "  'lon': '5.7245822865532014',\n",
       "  'display_name': 'La Rochelle, Vesoul, Haute-Saône, Bourgogne-Franche-Comté, France métropolitaine, 70120, France',\n",
       "  'class': 'boundary',\n",
       "  'type': 'administrative',\n",
       "  'importance': 0.8432911295153213,\n",
       "  'icon': 'https://nominatim.openstreetmap.org/ui/mapicons/poi_boundary_administrative.p.20.png'},\n",
       " {'place_id': 282721856,\n",
       "  'licence': 'Data © OpenStreetMap contributors, ODbL 1.0. https://osm.org/copyright',\n",
       "  'osm_type': 'relation',\n",
       "  'osm_id': 1661547,\n",
       "  'boundingbox': ['46.0036902', '46.3715027', '-1.5626797', '-0.6805266'],\n",
       "  'lat': '46.187679599999996',\n",
       "  'lon': '-1.064280735046797',\n",
       "  'display_name': 'La Rochelle, Charente-Maritime, Nouvelle-Aquitaine, France métropolitaine, France',\n",
       "  'class': 'boundary',\n",
       "  'type': 'administrative',\n",
       "  'importance': 0.6330614454416834,\n",
       "  'icon': 'https://nominatim.openstreetmap.org/ui/mapicons/poi_boundary_administrative.p.20.png'},\n",
       " {'place_id': 857721,\n",
       "  'licence': 'Data © OpenStreetMap contributors, ODbL 1.0. https://osm.org/copyright',\n",
       "  'osm_type': 'node',\n",
       "  'osm_id': 291528179,\n",
       "  'boundingbox': ['47.7270598', '47.7670598', '5.7121403', '5.7521403'],\n",
       "  'lat': '47.7470598',\n",
       "  'lon': '5.7321403',\n",
       "  'display_name': 'La Rochelle, Vesoul, Haute-Saône, Bourgogne-Franche-Comté, France métropolitaine, 70120, France',\n",
       "  'class': 'place',\n",
       "  'type': 'village',\n",
       "  'importance': 0.5850000000000001,\n",
       "  'icon': 'https://nominatim.openstreetmap.org/ui/mapicons/poi_place_village.p.20.png'},\n",
       " {'place_id': 18274968,\n",
       "  'licence': 'Data © OpenStreetMap contributors, ODbL 1.0. https://osm.org/copyright',\n",
       "  'osm_type': 'node',\n",
       "  'osm_id': 2031899920,\n",
       "  'boundingbox': ['48.9231626', '48.9631626', '-1.3637098', '-1.3237098'],\n",
       "  'lat': '48.9431626',\n",
       "  'lon': '-1.3437098',\n",
       "  'display_name': 'La Rochelle, Saint-Denis-le-Gast, Coutances, Manche, Normandie, France métropolitaine, 50450, France',\n",
       "  'class': 'place',\n",
       "  'type': 'hamlet',\n",
       "  'importance': 0.56,\n",
       "  'icon': 'https://nominatim.openstreetmap.org/ui/mapicons/poi_place_village.p.20.png'},\n",
       " {'place_id': 70412653,\n",
       "  'licence': 'Data © OpenStreetMap contributors, ODbL 1.0. https://osm.org/copyright',\n",
       "  'osm_type': 'node',\n",
       "  'osm_id': 6517919775,\n",
       "  'boundingbox': ['46.2462932', '46.2862932', '4.2703536', '4.3103536'],\n",
       "  'lat': '46.2662932',\n",
       "  'lon': '4.2903536',\n",
       "  'display_name': 'La Rochelle, La Chapelle-sous-Dun, Charolles, Saône-et-Loire, Bourgogne-Franche-Comté, France métropolitaine, 71800, France',\n",
       "  'class': 'place',\n",
       "  'type': 'hamlet',\n",
       "  'importance': 0.56,\n",
       "  'icon': 'https://nominatim.openstreetmap.org/ui/mapicons/poi_place_village.p.20.png'},\n",
       " {'place_id': 29342265,\n",
       "  'licence': 'Data © OpenStreetMap contributors, ODbL 1.0. https://osm.org/copyright',\n",
       "  'osm_type': 'node',\n",
       "  'osm_id': 2781941597,\n",
       "  'boundingbox': ['46.2742431', '46.3142431', '4.3645907', '4.4045907'],\n",
       "  'lat': '46.2942431',\n",
       "  'lon': '4.3845907',\n",
       "  'display_name': 'La Rochelle, Châtenay, Charolles, Saône-et-Loire, Bourgogne-Franche-Comté, France métropolitaine, 71800, France',\n",
       "  'class': 'place',\n",
       "  'type': 'hamlet',\n",
       "  'importance': 0.56,\n",
       "  'icon': 'https://nominatim.openstreetmap.org/ui/mapicons/poi_place_village.p.20.png'},\n",
       " {'place_id': 58958867,\n",
       "  'licence': 'Data © OpenStreetMap contributors, ODbL 1.0. https://osm.org/copyright',\n",
       "  'osm_type': 'node',\n",
       "  'osm_id': 5254534051,\n",
       "  'boundingbox': ['48.1576576', '48.1976576', '-2.5395222', '-2.4995222'],\n",
       "  'lat': '48.1776576',\n",
       "  'lon': '-2.5195222',\n",
       "  'display_name': \"La Rochelle, Gomené, Saint-Brieuc, Côtes-d'Armor, Bretagne, France métropolitaine, 22230, France\",\n",
       "  'class': 'place',\n",
       "  'type': 'hamlet',\n",
       "  'importance': 0.56,\n",
       "  'icon': 'https://nominatim.openstreetmap.org/ui/mapicons/poi_place_village.p.20.png'},\n",
       " {'place_id': 31277038,\n",
       "  'licence': 'Data © OpenStreetMap contributors, ODbL 1.0. https://osm.org/copyright',\n",
       "  'osm_type': 'node',\n",
       "  'osm_id': 2815202805,\n",
       "  'boundingbox': ['48.3631712', '48.4031712', '-1.7417726', '-1.7017726'],\n",
       "  'lat': '48.3831712',\n",
       "  'lon': '-1.7217726',\n",
       "  'display_name': 'La Rochelle, Combourg, Saint-Malo, Ille-et-Vilaine, Bretagne, France métropolitaine, 35270, France',\n",
       "  'class': 'place',\n",
       "  'type': 'hamlet',\n",
       "  'importance': 0.56,\n",
       "  'icon': 'https://nominatim.openstreetmap.org/ui/mapicons/poi_place_village.p.20.png'},\n",
       " {'place_id': 66563416,\n",
       "  'licence': 'Data © OpenStreetMap contributors, ODbL 1.0. https://osm.org/copyright',\n",
       "  'osm_type': 'node',\n",
       "  'osm_id': 6030811020,\n",
       "  'boundingbox': ['48.5400804', '48.5800804', '-1.8561687', '-1.8161687'],\n",
       "  'lat': '48.5600804',\n",
       "  'lon': '-1.8361687',\n",
       "  'display_name': 'La Rochelle, Roz-Landrieux, Saint-Malo, Ille-et-Vilaine, Bretagne, France métropolitaine, 35120, France',\n",
       "  'class': 'place',\n",
       "  'type': 'hamlet',\n",
       "  'importance': 0.56,\n",
       "  'icon': 'https://nominatim.openstreetmap.org/ui/mapicons/poi_place_village.p.20.png'}]"
      ]
     },
     "execution_count": 4,
     "metadata": {},
     "output_type": "execute_result"
    }
   ],
   "source": [
    "# Try a city with blank space in name to see if formatting needed:\n",
    "\n",
    "params = {\"city\": \"La Rochelle\", \"country\": \"France\", \"format\": \"json\"}\n",
    "\n",
    "r = requests.get(\"https://nominatim.openstreetmap.org/search?\", params).json()\n",
    "\n",
    "r\n"
   ]
  },
  {
   "cell_type": "code",
   "execution_count": 5,
   "metadata": {},
   "outputs": [
    {
     "data": {
      "text/plain": [
       "[{'place_id': 49750339,\n",
       "  'licence': 'Data © OpenStreetMap contributors, ODbL 1.0. https://osm.org/copyright',\n",
       "  'osm_type': 'node',\n",
       "  'osm_id': 4245068168,\n",
       "  'boundingbox': ['48.2494726', '48.2495726', '7.3454423', '7.3455423'],\n",
       "  'lat': '48.2495226',\n",
       "  'lon': '7.3454923',\n",
       "  'display_name': 'Château du Haut-Kœnigsbourg, Orschwiller, Sélestat-Erstein, Bas-Rhin, Grand Est, France métropolitaine, 67600, France',\n",
       "  'class': 'place',\n",
       "  'type': 'isolated_dwelling',\n",
       "  'importance': 0.51}]"
      ]
     },
     "execution_count": 5,
     "metadata": {},
     "output_type": "execute_result"
    }
   ],
   "source": [
    "# I don't know 'Chateau du Haut Koenigsbourg', check if Nominatim knows it\n",
    "\n",
    "params = {\"city\": \"Chateau du Haut Koenigsbourg\", \"country\": \"France\", \"format\": \"json\"}\n",
    "\n",
    "r = requests.get(\"https://nominatim.openstreetmap.org/search?\", params).json()\n",
    "\n",
    "r\n"
   ]
  },
  {
   "cell_type": "code",
   "execution_count": 6,
   "metadata": {},
   "outputs": [
    {
     "data": {
      "text/plain": [
       "[]"
      ]
     },
     "execution_count": 6,
     "metadata": {},
     "output_type": "execute_result"
    }
   ],
   "source": [
    "# 'Gorges du Verdon' isn't a city but a canyon, check if Nominatim works with or not\n",
    "\n",
    "params = {\"city\": \"Gorges du Verdon\", \"country\": \"France\", \"format\": \"json\"}\n",
    "\n",
    "r = requests.get(\"https://nominatim.openstreetmap.org/search?\", params).json()\n",
    "\n",
    "r\n",
    "\n",
    "# Doesnt' works... Google search : 'Castellane' will be use for Gorges du Verdon\n"
   ]
  },
  {
   "cell_type": "markdown",
   "metadata": {},
   "source": [
    "Ariege is a department and not a city, its prefecture is 'Foix'. We'll use this city"
   ]
  },
  {
   "cell_type": "markdown",
   "metadata": {},
   "source": [
    "#### Request API"
   ]
  },
  {
   "cell_type": "code",
   "execution_count": 7,
   "metadata": {},
   "outputs": [
    {
     "name": "stdout",
     "output_type": "stream",
     "text": [
      "Request for city: Mont Saint Michel\n",
      "Request for city: St Malo\n",
      "Request for city: Bayeux\n",
      "Request for city: Le Havre\n",
      "Request for city: Rouen\n",
      "Request for city: Paris\n",
      "Request for city: Amiens\n",
      "Request for city: Lille\n",
      "Request for city: Strasbourg\n",
      "Request for city: Chateau du Haut Koenigsbourg\n",
      "Request for city: Colmar\n",
      "Request for city: Eguisheim\n",
      "Request for city: Besancon\n",
      "Request for city: Dijon\n",
      "Request for city: Annecy\n",
      "Request for city: Grenoble\n",
      "Request for city: Lyon\n",
      "Request for city: Gorges du Verdon\n",
      "Request for city: Bormes les Mimosas\n",
      "Request for city: Cassis\n",
      "Request for city: Marseille\n",
      "Request for city: Aix en Provence\n",
      "Request for city: Avignon\n",
      "Request for city: Uzes\n",
      "Request for city: Nimes\n",
      "Request for city: Aigues Mortes\n",
      "Request for city: Saintes Maries de la mer\n",
      "Request for city: Collioure\n",
      "Request for city: Carcassonne\n",
      "Request for city: Ariege\n",
      "Request for city: Toulouse\n",
      "Request for city: Montauban\n",
      "Request for city: Biarritz\n",
      "Request for city: Bayonne\n",
      "Request for city: La Rochelle\n"
     ]
    }
   ],
   "source": [
    "# Creating a copy of df_cities to store the coordinates from Nominatim API\n",
    "\n",
    "df_gps = df_cities.copy(deep=True)\n",
    "lat_list = []\n",
    "lon_list = []\n",
    "\n",
    "for i in villes:\n",
    "    print(f\"Request for city: {i}\")\n",
    "    params = {\"city\": i, \"country\": \"France\", \"format\": \"json\"}\n",
    "    # No 'Gorges du Verdon' city, replacing by 'Castellane'\n",
    "    if i == \"Gorges du Verdon\":\n",
    "        i = \"Castellane\"\n",
    "        r = requests.get(\n",
    "            f\"https://nominatim.openstreetmap.org/search?city={i}&country=France&format=json\"\n",
    "        ).json()\n",
    "        lat_list.append(r[0][\"lat\"])\n",
    "        lon_list.append(r[0][\"lon\"])\n",
    "    # 'Ariege' not a city, using the prefecture instead -> 'Foix'\n",
    "    elif i == \"Ariege\":\n",
    "        i = \"Foix\"\n",
    "        r = requests.get(\n",
    "            f\"https://nominatim.openstreetmap.org/search?city={i}&country=France&format=json\"\n",
    "        ).json()\n",
    "        lat_list.append(r[0][\"lat\"])\n",
    "        lon_list.append(r[0][\"lon\"])\n",
    "    else:\n",
    "        r = requests.get(f\"https://nominatim.openstreetmap.org/search?\", params).json()\n",
    "        lat_list.append(r[0][\"lat\"])\n",
    "        lon_list.append(r[0][\"lon\"])\n",
    "\n",
    "# Adding the coordinates to the dataframe\n",
    "df_gps[\"lat\"] = lat_list\n",
    "df_gps[\"lon\"] = lon_list\n"
   ]
  },
  {
   "cell_type": "code",
   "execution_count": 8,
   "metadata": {},
   "outputs": [
    {
     "data": {
      "text/html": [
       "<div>\n",
       "<style scoped>\n",
       "    .dataframe tbody tr th:only-of-type {\n",
       "        vertical-align: middle;\n",
       "    }\n",
       "\n",
       "    .dataframe tbody tr th {\n",
       "        vertical-align: top;\n",
       "    }\n",
       "\n",
       "    .dataframe thead th {\n",
       "        text-align: right;\n",
       "    }\n",
       "</style>\n",
       "<table border=\"1\" class=\"dataframe\">\n",
       "  <thead>\n",
       "    <tr style=\"text-align: right;\">\n",
       "      <th></th>\n",
       "      <th>ville</th>\n",
       "      <th>lat</th>\n",
       "      <th>lon</th>\n",
       "    </tr>\n",
       "  </thead>\n",
       "  <tbody>\n",
       "    <tr>\n",
       "      <th>0</th>\n",
       "      <td>Mont Saint Michel</td>\n",
       "      <td>48.6359541</td>\n",
       "      <td>-1.511459954959514</td>\n",
       "    </tr>\n",
       "    <tr>\n",
       "      <th>1</th>\n",
       "      <td>St Malo</td>\n",
       "      <td>48.649518</td>\n",
       "      <td>-2.0260409</td>\n",
       "    </tr>\n",
       "    <tr>\n",
       "      <th>2</th>\n",
       "      <td>Bayeux</td>\n",
       "      <td>49.2764624</td>\n",
       "      <td>-0.7024738</td>\n",
       "    </tr>\n",
       "    <tr>\n",
       "      <th>3</th>\n",
       "      <td>Le Havre</td>\n",
       "      <td>49.4938975</td>\n",
       "      <td>0.1079732</td>\n",
       "    </tr>\n",
       "    <tr>\n",
       "      <th>4</th>\n",
       "      <td>Rouen</td>\n",
       "      <td>49.4404591</td>\n",
       "      <td>1.0939658</td>\n",
       "    </tr>\n",
       "  </tbody>\n",
       "</table>\n",
       "</div>"
      ],
      "text/plain": [
       "               ville         lat                 lon\n",
       "0  Mont Saint Michel  48.6359541  -1.511459954959514\n",
       "1            St Malo   48.649518          -2.0260409\n",
       "2             Bayeux  49.2764624          -0.7024738\n",
       "3           Le Havre  49.4938975           0.1079732\n",
       "4              Rouen  49.4404591           1.0939658"
      ]
     },
     "execution_count": 8,
     "metadata": {},
     "output_type": "execute_result"
    }
   ],
   "source": [
    "df_gps.head()\n"
   ]
  },
  {
   "cell_type": "code",
   "execution_count": 9,
   "metadata": {},
   "outputs": [
    {
     "name": "stdout",
     "output_type": "stream",
     "text": [
      "<class 'pandas.core.frame.DataFrame'>\n",
      "RangeIndex: 35 entries, 0 to 34\n",
      "Data columns (total 3 columns):\n",
      " #   Column  Non-Null Count  Dtype \n",
      "---  ------  --------------  ----- \n",
      " 0   ville   35 non-null     object\n",
      " 1   lat     35 non-null     object\n",
      " 2   lon     35 non-null     object\n",
      "dtypes: object(3)\n",
      "memory usage: 968.0+ bytes\n"
     ]
    }
   ],
   "source": [
    "df_gps.info()\n"
   ]
  },
  {
   "cell_type": "markdown",
   "metadata": {},
   "source": [
    "### OpenWeather : get weather of the week => https://openweathermap.org"
   ]
  },
  {
   "cell_type": "code",
   "execution_count": 10,
   "metadata": {},
   "outputs": [
    {
     "data": {
      "text/plain": [
       "{'lat': 48.6495,\n",
       " 'lon': -2.026,\n",
       " 'timezone': 'Europe/Paris',\n",
       " 'timezone_offset': 7200,\n",
       " 'daily': [{'dt': 1656244800,\n",
       "   'sunrise': 1656216416,\n",
       "   'sunset': 1656274484,\n",
       "   'moonrise': 1656209040,\n",
       "   'moonset': 1656267300,\n",
       "   'moon_phase': 0.92,\n",
       "   'temp': {'day': 18.89,\n",
       "    'min': 9.91,\n",
       "    'max': 19.71,\n",
       "    'night': 13.82,\n",
       "    'eve': 16.62,\n",
       "    'morn': 10.49},\n",
       "   'feels_like': {'day': 18.19, 'night': 13.27, 'eve': 16.03, 'morn': 9.94},\n",
       "   'pressure': 1013,\n",
       "   'humidity': 52,\n",
       "   'dew_point': 8.31,\n",
       "   'wind_speed': 6.25,\n",
       "   'wind_deg': 207,\n",
       "   'wind_gust': 10.29,\n",
       "   'weather': [{'id': 500,\n",
       "     'main': 'Rain',\n",
       "     'description': 'légère pluie',\n",
       "     'icon': '10d'}],\n",
       "   'clouds': 66,\n",
       "   'pop': 0.4,\n",
       "   'rain': 0.54,\n",
       "   'uvi': 6.36},\n",
       "  {'dt': 1656331200,\n",
       "   'sunrise': 1656302841,\n",
       "   'sunset': 1656360882,\n",
       "   'moonrise': 1656297120,\n",
       "   'moonset': 1656357600,\n",
       "   'moon_phase': 0.95,\n",
       "   'temp': {'day': 15.64,\n",
       "    'min': 11.43,\n",
       "    'max': 16.92,\n",
       "    'night': 13.66,\n",
       "    'eve': 15.74,\n",
       "    'morn': 12.32},\n",
       "   'feels_like': {'day': 15.22, 'night': 12.96, 'eve': 15.01, 'morn': 11.77},\n",
       "   'pressure': 1020,\n",
       "   'humidity': 75,\n",
       "   'dew_point': 11.27,\n",
       "   'wind_speed': 5.71,\n",
       "   'wind_deg': 252,\n",
       "   'wind_gust': 7.94,\n",
       "   'weather': [{'id': 500,\n",
       "     'main': 'Rain',\n",
       "     'description': 'légère pluie',\n",
       "     'icon': '10d'}],\n",
       "   'clouds': 35,\n",
       "   'pop': 0.47,\n",
       "   'rain': 1.6,\n",
       "   'uvi': 6.68},\n",
       "  {'dt': 1656417600,\n",
       "   'sunrise': 1656389269,\n",
       "   'sunset': 1656447277,\n",
       "   'moonrise': 1656385740,\n",
       "   'moonset': 1656447480,\n",
       "   'moon_phase': 0.98,\n",
       "   'temp': {'day': 20.36,\n",
       "    'min': 10.52,\n",
       "    'max': 21.18,\n",
       "    'night': 16.06,\n",
       "    'eve': 19.43,\n",
       "    'morn': 12.41},\n",
       "   'feels_like': {'day': 19.76, 'night': 15.58, 'eve': 18.86, 'morn': 11.74},\n",
       "   'pressure': 1017,\n",
       "   'humidity': 50,\n",
       "   'dew_point': 9.2,\n",
       "   'wind_speed': 7.85,\n",
       "   'wind_deg': 220,\n",
       "   'wind_gust': 10.31,\n",
       "   'weather': [{'id': 804,\n",
       "     'main': 'Clouds',\n",
       "     'description': 'couvert',\n",
       "     'icon': '04d'}],\n",
       "   'clouds': 95,\n",
       "   'pop': 0,\n",
       "   'uvi': 7.23},\n",
       "  {'dt': 1656504000,\n",
       "   'sunrise': 1656475700,\n",
       "   'sunset': 1656533670,\n",
       "   'moonrise': 1656474900,\n",
       "   'moonset': 1656536820,\n",
       "   'moon_phase': 0,\n",
       "   'temp': {'day': 19.26,\n",
       "    'min': 14.53,\n",
       "    'max': 19.76,\n",
       "    'night': 14.87,\n",
       "    'eve': 15.58,\n",
       "    'morn': 14.53},\n",
       "   'feels_like': {'day': 18.65, 'night': 14.42, 'eve': 15.2, 'morn': 14.21},\n",
       "   'pressure': 1013,\n",
       "   'humidity': 54,\n",
       "   'dew_point': 9.18,\n",
       "   'wind_speed': 6.19,\n",
       "   'wind_deg': 197,\n",
       "   'wind_gust': 11.58,\n",
       "   'weather': [{'id': 804,\n",
       "     'main': 'Clouds',\n",
       "     'description': 'couvert',\n",
       "     'icon': '04d'}],\n",
       "   'clouds': 94,\n",
       "   'pop': 0.09,\n",
       "   'uvi': 6.64},\n",
       "  {'dt': 1656590400,\n",
       "   'sunrise': 1656562132,\n",
       "   'sunset': 1656620059,\n",
       "   'moonrise': 1656564600,\n",
       "   'moonset': 1656625620,\n",
       "   'moon_phase': 0.04,\n",
       "   'temp': {'day': 16.62,\n",
       "    'min': 13.03,\n",
       "    'max': 16.62,\n",
       "    'night': 14.04,\n",
       "    'eve': 14.89,\n",
       "    'morn': 13.49},\n",
       "   'feels_like': {'day': 16.09, 'night': 13.48, 'eve': 14.45, 'morn': 13.01},\n",
       "   'pressure': 1013,\n",
       "   'humidity': 67,\n",
       "   'dew_point': 9.9,\n",
       "   'wind_speed': 4.6,\n",
       "   'wind_deg': 294,\n",
       "   'wind_gust': 5.35,\n",
       "   'weather': [{'id': 500,\n",
       "     'main': 'Rain',\n",
       "     'description': 'légère pluie',\n",
       "     'icon': '10d'}],\n",
       "   'clouds': 100,\n",
       "   'pop': 0.53,\n",
       "   'rain': 1.05,\n",
       "   'uvi': 4.83},\n",
       "  {'dt': 1656676800,\n",
       "   'sunrise': 1656648567,\n",
       "   'sunset': 1656706446,\n",
       "   'moonrise': 1656654780,\n",
       "   'moonset': 0,\n",
       "   'moon_phase': 0.07,\n",
       "   'temp': {'day': 17.12,\n",
       "    'min': 11.65,\n",
       "    'max': 17.12,\n",
       "    'night': 14.51,\n",
       "    'eve': 16.51,\n",
       "    'morn': 12.66},\n",
       "   'feels_like': {'day': 16.66, 'night': 14.08, 'eve': 15.97, 'morn': 12.15},\n",
       "   'pressure': 1018,\n",
       "   'humidity': 68,\n",
       "   'dew_point': 10.85,\n",
       "   'wind_speed': 7.99,\n",
       "   'wind_deg': 297,\n",
       "   'wind_gust': 8.82,\n",
       "   'weather': [{'id': 500,\n",
       "     'main': 'Rain',\n",
       "     'description': 'légère pluie',\n",
       "     'icon': '10d'}],\n",
       "   'clouds': 10,\n",
       "   'pop': 0.48,\n",
       "   'rain': 0.95,\n",
       "   'uvi': 5},\n",
       "  {'dt': 1656763200,\n",
       "   'sunrise': 1656735005,\n",
       "   'sunset': 1656792831,\n",
       "   'moonrise': 1656745200,\n",
       "   'moonset': 1656713820,\n",
       "   'moon_phase': 0.1,\n",
       "   'temp': {'day': 20.55,\n",
       "    'min': 12.27,\n",
       "    'max': 20.55,\n",
       "    'night': 15.12,\n",
       "    'eve': 17.7,\n",
       "    'morn': 13.49},\n",
       "   'feels_like': {'day': 20.12, 'night': 14.96, 'eve': 17.46, 'morn': 13.09},\n",
       "   'pressure': 1019,\n",
       "   'humidity': 56,\n",
       "   'dew_point': 10.74,\n",
       "   'wind_speed': 5.73,\n",
       "   'wind_deg': 229,\n",
       "   'wind_gust': 8.29,\n",
       "   'weather': [{'id': 802,\n",
       "     'main': 'Clouds',\n",
       "     'description': 'partiellement nuageux',\n",
       "     'icon': '03d'}],\n",
       "   'clouds': 41,\n",
       "   'pop': 0,\n",
       "   'uvi': 5},\n",
       "  {'dt': 1656849600,\n",
       "   'sunrise': 1656821444,\n",
       "   'sunset': 1656879212,\n",
       "   'moonrise': 1656835740,\n",
       "   'moonset': 1656801720,\n",
       "   'moon_phase': 0.13,\n",
       "   'temp': {'day': 17.9,\n",
       "    'min': 13.29,\n",
       "    'max': 17.9,\n",
       "    'night': 14.74,\n",
       "    'eve': 16.53,\n",
       "    'morn': 14.61},\n",
       "   'feels_like': {'day': 17.42, 'night': 14.38, 'eve': 16.2, 'morn': 14.11},\n",
       "   'pressure': 1023,\n",
       "   'humidity': 64,\n",
       "   'dew_point': 10.58,\n",
       "   'wind_speed': 6.19,\n",
       "   'wind_deg': 324,\n",
       "   'wind_gust': 6.82,\n",
       "   'weather': [{'id': 801,\n",
       "     'main': 'Clouds',\n",
       "     'description': 'peu nuageux',\n",
       "     'icon': '02d'}],\n",
       "   'clouds': 12,\n",
       "   'pop': 0,\n",
       "   'uvi': 5}]}"
      ]
     },
     "execution_count": 10,
     "metadata": {},
     "output_type": "execute_result"
    }
   ],
   "source": [
    "# try at St Malo\n",
    "parameters = {\n",
    "    \"lat\": 48.649518,\n",
    "    \"lon\": -2.0260409,\n",
    "    \"exclude\": \"current,minutely,hourly\",\n",
    "    \"units\": \"metric\",\n",
    "    \"appid\": \"aa423e6694bf72625fe1fe31544949dc\",\n",
    "    \"lang\": \"fr\",\n",
    "}\n",
    "\n",
    "r = requests.get(\n",
    "    \"https://api.openweathermap.org/data/2.5/onecall?\", params=parameters\n",
    ").json()\n",
    "\n",
    "r\n"
   ]
  },
  {
   "cell_type": "code",
   "execution_count": 11,
   "metadata": {},
   "outputs": [
    {
     "data": {
      "text/plain": [
       "[{'dt': 1656504000,\n",
       "  'sunrise': 1656475700,\n",
       "  'sunset': 1656533670,\n",
       "  'moonrise': 1656474900,\n",
       "  'moonset': 1656536820,\n",
       "  'moon_phase': 0,\n",
       "  'temp': {'day': 19.26,\n",
       "   'min': 14.53,\n",
       "   'max': 19.76,\n",
       "   'night': 14.87,\n",
       "   'eve': 15.58,\n",
       "   'morn': 14.53},\n",
       "  'feels_like': {'day': 18.65, 'night': 14.42, 'eve': 15.2, 'morn': 14.21},\n",
       "  'pressure': 1013,\n",
       "  'humidity': 54,\n",
       "  'dew_point': 9.18,\n",
       "  'wind_speed': 6.19,\n",
       "  'wind_deg': 197,\n",
       "  'wind_gust': 11.58,\n",
       "  'weather': [{'id': 804,\n",
       "    'main': 'Clouds',\n",
       "    'description': 'couvert',\n",
       "    'icon': '04d'}],\n",
       "  'clouds': 94,\n",
       "  'pop': 0.09,\n",
       "  'uvi': 6.64},\n",
       " {'dt': 1656590400,\n",
       "  'sunrise': 1656562132,\n",
       "  'sunset': 1656620059,\n",
       "  'moonrise': 1656564600,\n",
       "  'moonset': 1656625620,\n",
       "  'moon_phase': 0.04,\n",
       "  'temp': {'day': 16.62,\n",
       "   'min': 13.03,\n",
       "   'max': 16.62,\n",
       "   'night': 14.04,\n",
       "   'eve': 14.89,\n",
       "   'morn': 13.49},\n",
       "  'feels_like': {'day': 16.09, 'night': 13.48, 'eve': 14.45, 'morn': 13.01},\n",
       "  'pressure': 1013,\n",
       "  'humidity': 67,\n",
       "  'dew_point': 9.9,\n",
       "  'wind_speed': 4.6,\n",
       "  'wind_deg': 294,\n",
       "  'wind_gust': 5.35,\n",
       "  'weather': [{'id': 500,\n",
       "    'main': 'Rain',\n",
       "    'description': 'légère pluie',\n",
       "    'icon': '10d'}],\n",
       "  'clouds': 100,\n",
       "  'pop': 0.53,\n",
       "  'rain': 1.05,\n",
       "  'uvi': 4.83},\n",
       " {'dt': 1656676800,\n",
       "  'sunrise': 1656648567,\n",
       "  'sunset': 1656706446,\n",
       "  'moonrise': 1656654780,\n",
       "  'moonset': 0,\n",
       "  'moon_phase': 0.07,\n",
       "  'temp': {'day': 17.12,\n",
       "   'min': 11.65,\n",
       "   'max': 17.12,\n",
       "   'night': 14.51,\n",
       "   'eve': 16.51,\n",
       "   'morn': 12.66},\n",
       "  'feels_like': {'day': 16.66, 'night': 14.08, 'eve': 15.97, 'morn': 12.15},\n",
       "  'pressure': 1018,\n",
       "  'humidity': 68,\n",
       "  'dew_point': 10.85,\n",
       "  'wind_speed': 7.99,\n",
       "  'wind_deg': 297,\n",
       "  'wind_gust': 8.82,\n",
       "  'weather': [{'id': 500,\n",
       "    'main': 'Rain',\n",
       "    'description': 'légère pluie',\n",
       "    'icon': '10d'}],\n",
       "  'clouds': 10,\n",
       "  'pop': 0.48,\n",
       "  'rain': 0.95,\n",
       "  'uvi': 5},\n",
       " {'dt': 1656763200,\n",
       "  'sunrise': 1656735005,\n",
       "  'sunset': 1656792831,\n",
       "  'moonrise': 1656745200,\n",
       "  'moonset': 1656713820,\n",
       "  'moon_phase': 0.1,\n",
       "  'temp': {'day': 20.55,\n",
       "   'min': 12.27,\n",
       "   'max': 20.55,\n",
       "   'night': 15.12,\n",
       "   'eve': 17.7,\n",
       "   'morn': 13.49},\n",
       "  'feels_like': {'day': 20.12, 'night': 14.96, 'eve': 17.46, 'morn': 13.09},\n",
       "  'pressure': 1019,\n",
       "  'humidity': 56,\n",
       "  'dew_point': 10.74,\n",
       "  'wind_speed': 5.73,\n",
       "  'wind_deg': 229,\n",
       "  'wind_gust': 8.29,\n",
       "  'weather': [{'id': 802,\n",
       "    'main': 'Clouds',\n",
       "    'description': 'partiellement nuageux',\n",
       "    'icon': '03d'}],\n",
       "  'clouds': 41,\n",
       "  'pop': 0,\n",
       "  'uvi': 5},\n",
       " {'dt': 1656849600,\n",
       "  'sunrise': 1656821444,\n",
       "  'sunset': 1656879212,\n",
       "  'moonrise': 1656835740,\n",
       "  'moonset': 1656801720,\n",
       "  'moon_phase': 0.13,\n",
       "  'temp': {'day': 17.9,\n",
       "   'min': 13.29,\n",
       "   'max': 17.9,\n",
       "   'night': 14.74,\n",
       "   'eve': 16.53,\n",
       "   'morn': 14.61},\n",
       "  'feels_like': {'day': 17.42, 'night': 14.38, 'eve': 16.2, 'morn': 14.11},\n",
       "  'pressure': 1023,\n",
       "  'humidity': 64,\n",
       "  'dew_point': 10.58,\n",
       "  'wind_speed': 6.19,\n",
       "  'wind_deg': 324,\n",
       "  'wind_gust': 6.82,\n",
       "  'weather': [{'id': 801,\n",
       "    'main': 'Clouds',\n",
       "    'description': 'peu nuageux',\n",
       "    'icon': '02d'}],\n",
       "  'clouds': 12,\n",
       "  'pop': 0,\n",
       "  'uvi': 5}]"
      ]
     },
     "execution_count": 11,
     "metadata": {},
     "output_type": "execute_result"
    }
   ],
   "source": [
    "# Weather in 3 days at St Malo\n",
    "r[\"daily\"][3:]\n"
   ]
  },
  {
   "cell_type": "code",
   "execution_count": 12,
   "metadata": {},
   "outputs": [
    {
     "data": {
      "text/plain": [
       "'Clouds'"
      ]
     },
     "execution_count": 12,
     "metadata": {},
     "output_type": "execute_result"
    }
   ],
   "source": [
    "day3 = r[\"daily\"][3]  # Weather in 3 days\n",
    "\n",
    "# desciption of the main weather in 3 days at St Malo\n",
    "day3[\"weather\"][0][\"main\"]\n"
   ]
  },
  {
   "cell_type": "code",
   "execution_count": 13,
   "metadata": {},
   "outputs": [],
   "source": [
    "df_gps_weather = df_gps.copy(deep=True)\n",
    "my_api_key = \"aa423e6694bf72625fe1fe31544949dc\"\n",
    "\n",
    "temperatures_list = []\n",
    "rain_list = []\n",
    "weather_list = []\n",
    "\n",
    "days = list(range(1, 8))\n",
    "\n",
    "for i in df_gps_weather.itertuples():\n",
    "    lat = i.lat\n",
    "    lon = i.lon\n",
    "\n",
    "    parameters = {\n",
    "        \"lat\": {lat},\n",
    "        \"lon\": {lon},\n",
    "        \"exclude\": \"current,minutely,hourly\",\n",
    "        \"units\": \"metric\",\n",
    "        \"appid\": \"aa423e6694bf72625fe1fe31544949dc\",\n",
    "        \"lang\": \"fr\",\n",
    "    }\n",
    "\n",
    "    r = requests.get(\n",
    "        f\"https://api.openweathermap.org/data/3.0/onecall?\", parameters\n",
    "    ).json()\n",
    "    forecast_7days = r[\"daily\"][1:]  # Getting the weather data for the next 7 days\n",
    "    temperatures = [int(d[\"feels_like\"][\"day\"]) for d in forecast_7days]\n",
    "    rain = [int(d[\"pop\"] * 100) for d in forecast_7days]\n",
    "    weather = [str(d[\"weather\"][0][\"main\"]) for d in forecast_7days]\n",
    "    temperatures_list.append(temperatures)\n",
    "    rain_list.append(rain)\n",
    "    weather_list.append(weather)\n",
    "\n",
    "df_gps_weather[\"jour_+x\"] = [days for _ in range(len(df_gps_weather))]\n",
    "df_gps_weather[\"temperature_ressentie\"] = temperatures_list\n",
    "df_gps_weather[\"probabilite_de_pluie\"] = rain_list\n",
    "df_gps_weather[\"meteo_principale\"] = weather_list\n",
    "# df_weather['rang'] = df_weather['probabilite_de_pluie'].sort_values()\n",
    "df_gps_weather[\"score\"] = df_gps_weather.apply(\n",
    "    lambda x: ((np.mean(x[\"temperature_ressentie\"])))\n",
    "    - (np.mean(x[\"probabilite_de_pluie\"]) / 10),\n",
    "    axis=1,\n",
    ").astype(int)\n"
   ]
  },
  {
   "cell_type": "code",
   "execution_count": 14,
   "metadata": {},
   "outputs": [
    {
     "data": {
      "text/html": [
       "<div>\n",
       "<style scoped>\n",
       "    .dataframe tbody tr th:only-of-type {\n",
       "        vertical-align: middle;\n",
       "    }\n",
       "\n",
       "    .dataframe tbody tr th {\n",
       "        vertical-align: top;\n",
       "    }\n",
       "\n",
       "    .dataframe thead th {\n",
       "        text-align: right;\n",
       "    }\n",
       "</style>\n",
       "<table border=\"1\" class=\"dataframe\">\n",
       "  <thead>\n",
       "    <tr style=\"text-align: right;\">\n",
       "      <th></th>\n",
       "      <th>ville</th>\n",
       "      <th>lat</th>\n",
       "      <th>lon</th>\n",
       "      <th>jour_+x</th>\n",
       "      <th>temperature_ressentie</th>\n",
       "      <th>probabilite_de_pluie</th>\n",
       "      <th>meteo_principale</th>\n",
       "      <th>score</th>\n",
       "    </tr>\n",
       "  </thead>\n",
       "  <tbody>\n",
       "    <tr>\n",
       "      <th>0</th>\n",
       "      <td>Mont Saint Michel</td>\n",
       "      <td>48.6359541</td>\n",
       "      <td>-1.511459954959514</td>\n",
       "      <td>[1, 2, 3, 4, 5, 6, 7]</td>\n",
       "      <td>[17, 20, 20, 17, 19, 21, 19]</td>\n",
       "      <td>[52, 0, 15, 62, 37, 0, 0]</td>\n",
       "      <td>[Rain, Clouds, Clouds, Rain, Rain, Clouds, Clear]</td>\n",
       "      <td>16</td>\n",
       "    </tr>\n",
       "    <tr>\n",
       "      <th>1</th>\n",
       "      <td>St Malo</td>\n",
       "      <td>48.649518</td>\n",
       "      <td>-2.0260409</td>\n",
       "      <td>[1, 2, 3, 4, 5, 6, 7]</td>\n",
       "      <td>[15, 19, 18, 16, 16, 20, 17]</td>\n",
       "      <td>[47, 0, 9, 53, 48, 0, 0]</td>\n",
       "      <td>[Rain, Clouds, Clouds, Rain, Rain, Clouds, Clo...</td>\n",
       "      <td>15</td>\n",
       "    </tr>\n",
       "    <tr>\n",
       "      <th>2</th>\n",
       "      <td>Bayeux</td>\n",
       "      <td>49.2764624</td>\n",
       "      <td>-0.7024738</td>\n",
       "      <td>[1, 2, 3, 4, 5, 6, 7]</td>\n",
       "      <td>[17, 20, 21, 14, 19, 22, 20]</td>\n",
       "      <td>[65, 0, 38, 71, 46, 0, 0]</td>\n",
       "      <td>[Rain, Clouds, Clouds, Rain, Rain, Clouds, Clo...</td>\n",
       "      <td>15</td>\n",
       "    </tr>\n",
       "    <tr>\n",
       "      <th>3</th>\n",
       "      <td>Le Havre</td>\n",
       "      <td>49.4938975</td>\n",
       "      <td>0.1079732</td>\n",
       "      <td>[1, 2, 3, 4, 5, 6, 7]</td>\n",
       "      <td>[17, 18, 19, 14, 17, 18, 16]</td>\n",
       "      <td>[32, 0, 60, 98, 50, 0, 0]</td>\n",
       "      <td>[Clear, Clouds, Rain, Rain, Rain, Clouds, Clear]</td>\n",
       "      <td>13</td>\n",
       "    </tr>\n",
       "    <tr>\n",
       "      <th>4</th>\n",
       "      <td>Rouen</td>\n",
       "      <td>49.4404591</td>\n",
       "      <td>1.0939658</td>\n",
       "      <td>[1, 2, 3, 4, 5, 6, 7]</td>\n",
       "      <td>[19, 22, 22, 16, 18, 21, 21]</td>\n",
       "      <td>[24, 0, 18, 100, 70, 0, 0]</td>\n",
       "      <td>[Clear, Clouds, Clouds, Rain, Rain, Clouds, Cl...</td>\n",
       "      <td>16</td>\n",
       "    </tr>\n",
       "    <tr>\n",
       "      <th>5</th>\n",
       "      <td>Paris</td>\n",
       "      <td>48.8588897</td>\n",
       "      <td>2.3200410217200766</td>\n",
       "      <td>[1, 2, 3, 4, 5, 6, 7]</td>\n",
       "      <td>[21, 23, 24, 22, 20, 23, 24]</td>\n",
       "      <td>[2, 0, 0, 81, 61, 0, 0]</td>\n",
       "      <td>[Clouds, Clouds, Clouds, Rain, Rain, Clouds, C...</td>\n",
       "      <td>20</td>\n",
       "    </tr>\n",
       "    <tr>\n",
       "      <th>6</th>\n",
       "      <td>Amiens</td>\n",
       "      <td>49.8941708</td>\n",
       "      <td>2.2956951</td>\n",
       "      <td>[1, 2, 3, 4, 5, 6, 7]</td>\n",
       "      <td>[20, 22, 23, 15, 18, 21, 21]</td>\n",
       "      <td>[37, 0, 0, 96, 86, 0, 0]</td>\n",
       "      <td>[Clouds, Clear, Clouds, Rain, Rain, Clouds, Cl...</td>\n",
       "      <td>16</td>\n",
       "    </tr>\n",
       "    <tr>\n",
       "      <th>7</th>\n",
       "      <td>Lille</td>\n",
       "      <td>50.6365654</td>\n",
       "      <td>3.0635282</td>\n",
       "      <td>[1, 2, 3, 4, 5, 6, 7]</td>\n",
       "      <td>[20, 22, 24, 19, 20, 21, 22]</td>\n",
       "      <td>[57, 0, 0, 61, 94, 0, 0]</td>\n",
       "      <td>[Rain, Clear, Clouds, Rain, Rain, Clouds, Clouds]</td>\n",
       "      <td>18</td>\n",
       "    </tr>\n",
       "    <tr>\n",
       "      <th>8</th>\n",
       "      <td>Strasbourg</td>\n",
       "      <td>48.584614</td>\n",
       "      <td>7.7507127</td>\n",
       "      <td>[1, 2, 3, 4, 5, 6, 7]</td>\n",
       "      <td>[19, 23, 23, 29, 15, 24, 28]</td>\n",
       "      <td>[100, 16, 20, 21, 100, 20, 0]</td>\n",
       "      <td>[Rain, Clouds, Clouds, Clear, Rain, Rain, Clear]</td>\n",
       "      <td>19</td>\n",
       "    </tr>\n",
       "    <tr>\n",
       "      <th>9</th>\n",
       "      <td>Chateau du Haut Koenigsbourg</td>\n",
       "      <td>48.2495226</td>\n",
       "      <td>7.3454923</td>\n",
       "      <td>[1, 2, 3, 4, 5, 6, 7]</td>\n",
       "      <td>[15, 20, 22, 26, 12, 21, 26]</td>\n",
       "      <td>[100, 2, 18, 60, 100, 20, 0]</td>\n",
       "      <td>[Rain, Clouds, Clouds, Clear, Rain, Rain, Clear]</td>\n",
       "      <td>16</td>\n",
       "    </tr>\n",
       "    <tr>\n",
       "      <th>10</th>\n",
       "      <td>Colmar</td>\n",
       "      <td>48.0777517</td>\n",
       "      <td>7.3579641</td>\n",
       "      <td>[1, 2, 3, 4, 5, 6, 7]</td>\n",
       "      <td>[19, 23, 26, 30, 15, 24, 28]</td>\n",
       "      <td>[100, 2, 19, 62, 100, 0, 0]</td>\n",
       "      <td>[Rain, Clouds, Clouds, Rain, Rain, Clear, Clear]</td>\n",
       "      <td>19</td>\n",
       "    </tr>\n",
       "    <tr>\n",
       "      <th>11</th>\n",
       "      <td>Eguisheim</td>\n",
       "      <td>48.0447968</td>\n",
       "      <td>7.3079618</td>\n",
       "      <td>[1, 2, 3, 4, 5, 6, 7]</td>\n",
       "      <td>[19, 23, 25, 29, 15, 24, 28]</td>\n",
       "      <td>[100, 1, 20, 67, 100, 20, 0]</td>\n",
       "      <td>[Rain, Clouds, Clouds, Rain, Rain, Rain, Clear]</td>\n",
       "      <td>18</td>\n",
       "    </tr>\n",
       "    <tr>\n",
       "      <th>12</th>\n",
       "      <td>Besancon</td>\n",
       "      <td>47.2380222</td>\n",
       "      <td>6.0243622</td>\n",
       "      <td>[1, 2, 3, 4, 5, 6, 7]</td>\n",
       "      <td>[15, 22, 26, 29, 13, 23, 26]</td>\n",
       "      <td>[100, 16, 9, 100, 100, 0, 0]</td>\n",
       "      <td>[Rain, Clouds, Clouds, Rain, Rain, Clear, Clear]</td>\n",
       "      <td>17</td>\n",
       "    </tr>\n",
       "    <tr>\n",
       "      <th>13</th>\n",
       "      <td>Dijon</td>\n",
       "      <td>47.3215806</td>\n",
       "      <td>5.0414701</td>\n",
       "      <td>[1, 2, 3, 4, 5, 6, 7]</td>\n",
       "      <td>[16, 22, 25, 28, 18, 23, 26]</td>\n",
       "      <td>[100, 0, 0, 100, 100, 0, 0]</td>\n",
       "      <td>[Rain, Clear, Clear, Rain, Rain, Clear, Clear]</td>\n",
       "      <td>18</td>\n",
       "    </tr>\n",
       "    <tr>\n",
       "      <th>14</th>\n",
       "      <td>Annecy</td>\n",
       "      <td>45.8992348</td>\n",
       "      <td>6.1288847</td>\n",
       "      <td>[1, 2, 3, 4, 5, 6, 7]</td>\n",
       "      <td>[18, 18, 27, 30, 17, 24, 29]</td>\n",
       "      <td>[100, 96, 21, 95, 93, 9, 0]</td>\n",
       "      <td>[Rain, Rain, Rain, Rain, Rain, Clouds, Clear]</td>\n",
       "      <td>17</td>\n",
       "    </tr>\n",
       "    <tr>\n",
       "      <th>15</th>\n",
       "      <td>Grenoble</td>\n",
       "      <td>45.1875602</td>\n",
       "      <td>5.7357819</td>\n",
       "      <td>[1, 2, 3, 4, 5, 6, 7]</td>\n",
       "      <td>[22, 19, 28, 32, 20, 27, 32]</td>\n",
       "      <td>[87, 100, 0, 55, 47, 13, 0]</td>\n",
       "      <td>[Rain, Rain, Clouds, Rain, Rain, Clear, Clear]</td>\n",
       "      <td>21</td>\n",
       "    </tr>\n",
       "    <tr>\n",
       "      <th>16</th>\n",
       "      <td>Lyon</td>\n",
       "      <td>45.7578137</td>\n",
       "      <td>4.8320114</td>\n",
       "      <td>[1, 2, 3, 4, 5, 6, 7]</td>\n",
       "      <td>[17, 22, 26, 29, 16, 25, 29]</td>\n",
       "      <td>[100, 46, 0, 74, 55, 0, 0]</td>\n",
       "      <td>[Rain, Rain, Clear, Rain, Rain, Clear, Clear]</td>\n",
       "      <td>19</td>\n",
       "    </tr>\n",
       "    <tr>\n",
       "      <th>17</th>\n",
       "      <td>Gorges du Verdon</td>\n",
       "      <td>43.8462177</td>\n",
       "      <td>6.5131814</td>\n",
       "      <td>[1, 2, 3, 4, 5, 6, 7]</td>\n",
       "      <td>[29, 24, 27, 28, 28, 28, 31]</td>\n",
       "      <td>[43, 100, 0, 54, 24, 16, 0]</td>\n",
       "      <td>[Clear, Rain, Clear, Rain, Clear, Clear, Clear]</td>\n",
       "      <td>24</td>\n",
       "    </tr>\n",
       "    <tr>\n",
       "      <th>18</th>\n",
       "      <td>Bormes les Mimosas</td>\n",
       "      <td>43.1572172</td>\n",
       "      <td>6.329253867921363</td>\n",
       "      <td>[1, 2, 3, 4, 5, 6, 7]</td>\n",
       "      <td>[29, 23, 29, 28, 27, 27, 29]</td>\n",
       "      <td>[3, 93, 0, 56, 0, 0, 0]</td>\n",
       "      <td>[Clear, Rain, Clear, Rain, Clouds, Clear, Clear]</td>\n",
       "      <td>25</td>\n",
       "    </tr>\n",
       "    <tr>\n",
       "      <th>19</th>\n",
       "      <td>Cassis</td>\n",
       "      <td>43.2140359</td>\n",
       "      <td>5.5396318</td>\n",
       "      <td>[1, 2, 3, 4, 5, 6, 7]</td>\n",
       "      <td>[29, 26, 28, 26, 28, 28, 30]</td>\n",
       "      <td>[10, 67, 0, 45, 0, 0, 0]</td>\n",
       "      <td>[Clouds, Rain, Clear, Rain, Clear, Clear, Clear]</td>\n",
       "      <td>26</td>\n",
       "    </tr>\n",
       "    <tr>\n",
       "      <th>20</th>\n",
       "      <td>Marseille</td>\n",
       "      <td>43.2961743</td>\n",
       "      <td>5.3699525</td>\n",
       "      <td>[1, 2, 3, 4, 5, 6, 7]</td>\n",
       "      <td>[29, 26, 28, 26, 28, 28, 30]</td>\n",
       "      <td>[12, 79, 0, 36, 0, 0, 0]</td>\n",
       "      <td>[Clouds, Rain, Clear, Rain, Clear, Clear, Clear]</td>\n",
       "      <td>26</td>\n",
       "    </tr>\n",
       "    <tr>\n",
       "      <th>21</th>\n",
       "      <td>Aix en Provence</td>\n",
       "      <td>43.5298424</td>\n",
       "      <td>5.4474738</td>\n",
       "      <td>[1, 2, 3, 4, 5, 6, 7]</td>\n",
       "      <td>[31, 28, 29, 29, 29, 29, 33]</td>\n",
       "      <td>[28, 76, 0, 40, 0, 0, 0]</td>\n",
       "      <td>[Clouds, Rain, Clear, Rain, Clear, Clear, Clear]</td>\n",
       "      <td>27</td>\n",
       "    </tr>\n",
       "    <tr>\n",
       "      <th>22</th>\n",
       "      <td>Avignon</td>\n",
       "      <td>43.9492493</td>\n",
       "      <td>4.8059012</td>\n",
       "      <td>[1, 2, 3, 4, 5, 6, 7]</td>\n",
       "      <td>[29, 25, 29, 31, 27, 28, 34]</td>\n",
       "      <td>[15, 99, 0, 2, 0, 0, 0]</td>\n",
       "      <td>[Clouds, Rain, Clear, Clouds, Clear, Clear, Cl...</td>\n",
       "      <td>27</td>\n",
       "    </tr>\n",
       "    <tr>\n",
       "      <th>23</th>\n",
       "      <td>Uzes</td>\n",
       "      <td>44.0121279</td>\n",
       "      <td>4.4196718</td>\n",
       "      <td>[1, 2, 3, 4, 5, 6, 7]</td>\n",
       "      <td>[28, 26, 30, 30, 27, 29, 34]</td>\n",
       "      <td>[15, 96, 0, 0, 1, 0, 0]</td>\n",
       "      <td>[Clouds, Rain, Clear, Clouds, Clear, Clear, Cl...</td>\n",
       "      <td>27</td>\n",
       "    </tr>\n",
       "    <tr>\n",
       "      <th>24</th>\n",
       "      <td>Nimes</td>\n",
       "      <td>43.8374249</td>\n",
       "      <td>4.3600687</td>\n",
       "      <td>[1, 2, 3, 4, 5, 6, 7]</td>\n",
       "      <td>[29, 27, 29, 29, 28, 29, 34]</td>\n",
       "      <td>[11, 95, 0, 0, 1, 0, 0]</td>\n",
       "      <td>[Clouds, Rain, Clear, Clouds, Clear, Clear, Cl...</td>\n",
       "      <td>27</td>\n",
       "    </tr>\n",
       "    <tr>\n",
       "      <th>25</th>\n",
       "      <td>Aigues Mortes</td>\n",
       "      <td>43.5658225</td>\n",
       "      <td>4.1912837</td>\n",
       "      <td>[1, 2, 3, 4, 5, 6, 7]</td>\n",
       "      <td>[28, 26, 27, 25, 27, 27, 30]</td>\n",
       "      <td>[7, 85, 0, 0, 1, 0, 0]</td>\n",
       "      <td>[Clouds, Rain, Clear, Clouds, Clear, Clear, Cl...</td>\n",
       "      <td>25</td>\n",
       "    </tr>\n",
       "    <tr>\n",
       "      <th>26</th>\n",
       "      <td>Saintes Maries de la mer</td>\n",
       "      <td>43.4522771</td>\n",
       "      <td>4.4287172</td>\n",
       "      <td>[1, 2, 3, 4, 5, 6, 7]</td>\n",
       "      <td>[27, 25, 26, 24, 27, 26, 30]</td>\n",
       "      <td>[1, 93, 0, 1, 0, 0, 0]</td>\n",
       "      <td>[Clouds, Rain, Clear, Clouds, Clear, Clear, Cl...</td>\n",
       "      <td>25</td>\n",
       "    </tr>\n",
       "    <tr>\n",
       "      <th>27</th>\n",
       "      <td>Collioure</td>\n",
       "      <td>42.52505</td>\n",
       "      <td>3.0831554</td>\n",
       "      <td>[1, 2, 3, 4, 5, 6, 7]</td>\n",
       "      <td>[26, 27, 28, 26, 24, 27, 28]</td>\n",
       "      <td>[36, 56, 0, 8, 0, 0, 0]</td>\n",
       "      <td>[Rain, Rain, Clear, Clouds, Clear, Clear, Clear]</td>\n",
       "      <td>25</td>\n",
       "    </tr>\n",
       "    <tr>\n",
       "      <th>28</th>\n",
       "      <td>Carcassonne</td>\n",
       "      <td>43.2130358</td>\n",
       "      <td>2.3491069</td>\n",
       "      <td>[1, 2, 3, 4, 5, 6, 7]</td>\n",
       "      <td>[20, 24, 29, 21, 21, 28, 33]</td>\n",
       "      <td>[54, 62, 0, 52, 27, 0, 22]</td>\n",
       "      <td>[Rain, Rain, Clear, Rain, Rain, Clear, Rain]</td>\n",
       "      <td>22</td>\n",
       "    </tr>\n",
       "    <tr>\n",
       "      <th>29</th>\n",
       "      <td>Ariege</td>\n",
       "      <td>42.9638998</td>\n",
       "      <td>1.6053807</td>\n",
       "      <td>[1, 2, 3, 4, 5, 6, 7]</td>\n",
       "      <td>[15, 22, 27, 18, 15, 26, 30]</td>\n",
       "      <td>[97, 97, 2, 79, 59, 0, 48]</td>\n",
       "      <td>[Rain, Rain, Clear, Rain, Rain, Clear, Rain]</td>\n",
       "      <td>16</td>\n",
       "    </tr>\n",
       "    <tr>\n",
       "      <th>30</th>\n",
       "      <td>Toulouse</td>\n",
       "      <td>43.6044622</td>\n",
       "      <td>1.4442469</td>\n",
       "      <td>[1, 2, 3, 4, 5, 6, 7]</td>\n",
       "      <td>[14, 22, 27, 20, 18, 26, 30]</td>\n",
       "      <td>[81, 57, 0, 96, 41, 0, 52]</td>\n",
       "      <td>[Rain, Clouds, Clear, Rain, Clouds, Clear, Rain]</td>\n",
       "      <td>17</td>\n",
       "    </tr>\n",
       "    <tr>\n",
       "      <th>31</th>\n",
       "      <td>Montauban</td>\n",
       "      <td>44.0175835</td>\n",
       "      <td>1.3549991</td>\n",
       "      <td>[1, 2, 3, 4, 5, 6, 7]</td>\n",
       "      <td>[15, 22, 26, 17, 20, 26, 29]</td>\n",
       "      <td>[93, 22, 0, 97, 52, 0, 48]</td>\n",
       "      <td>[Rain, Clouds, Clear, Rain, Rain, Clear, Rain]</td>\n",
       "      <td>17</td>\n",
       "    </tr>\n",
       "    <tr>\n",
       "      <th>32</th>\n",
       "      <td>Biarritz</td>\n",
       "      <td>43.4832523</td>\n",
       "      <td>-1.5592776</td>\n",
       "      <td>[1, 2, 3, 4, 5, 6, 7]</td>\n",
       "      <td>[16, 21, 19, 16, 18, 24, 22]</td>\n",
       "      <td>[37, 0, 100, 100, 27, 0, 100]</td>\n",
       "      <td>[Rain, Clouds, Rain, Rain, Rain, Clouds, Rain]</td>\n",
       "      <td>14</td>\n",
       "    </tr>\n",
       "    <tr>\n",
       "      <th>33</th>\n",
       "      <td>Bayonne</td>\n",
       "      <td>43.4933379</td>\n",
       "      <td>-1.475099</td>\n",
       "      <td>[1, 2, 3, 4, 5, 6, 7]</td>\n",
       "      <td>[16, 22, 20, 16, 18, 25, 23]</td>\n",
       "      <td>[36, 0, 100, 100, 28, 0, 100]</td>\n",
       "      <td>[Rain, Clear, Rain, Rain, Rain, Clouds, Rain]</td>\n",
       "      <td>14</td>\n",
       "    </tr>\n",
       "    <tr>\n",
       "      <th>34</th>\n",
       "      <td>La Rochelle</td>\n",
       "      <td>46.1591126</td>\n",
       "      <td>-1.1520434</td>\n",
       "      <td>[1, 2, 3, 4, 5, 6, 7]</td>\n",
       "      <td>[17, 18, 19, 14, 17, 18, 21]</td>\n",
       "      <td>[0, 0, 2, 98, 35, 0, 1]</td>\n",
       "      <td>[Clear, Clear, Clouds, Rain, Rain, Clear, Clouds]</td>\n",
       "      <td>15</td>\n",
       "    </tr>\n",
       "  </tbody>\n",
       "</table>\n",
       "</div>"
      ],
      "text/plain": [
       "                           ville         lat                 lon  \\\n",
       "0              Mont Saint Michel  48.6359541  -1.511459954959514   \n",
       "1                        St Malo   48.649518          -2.0260409   \n",
       "2                         Bayeux  49.2764624          -0.7024738   \n",
       "3                       Le Havre  49.4938975           0.1079732   \n",
       "4                          Rouen  49.4404591           1.0939658   \n",
       "5                          Paris  48.8588897  2.3200410217200766   \n",
       "6                         Amiens  49.8941708           2.2956951   \n",
       "7                          Lille  50.6365654           3.0635282   \n",
       "8                     Strasbourg   48.584614           7.7507127   \n",
       "9   Chateau du Haut Koenigsbourg  48.2495226           7.3454923   \n",
       "10                        Colmar  48.0777517           7.3579641   \n",
       "11                     Eguisheim  48.0447968           7.3079618   \n",
       "12                      Besancon  47.2380222           6.0243622   \n",
       "13                         Dijon  47.3215806           5.0414701   \n",
       "14                        Annecy  45.8992348           6.1288847   \n",
       "15                      Grenoble  45.1875602           5.7357819   \n",
       "16                          Lyon  45.7578137           4.8320114   \n",
       "17              Gorges du Verdon  43.8462177           6.5131814   \n",
       "18            Bormes les Mimosas  43.1572172   6.329253867921363   \n",
       "19                        Cassis  43.2140359           5.5396318   \n",
       "20                     Marseille  43.2961743           5.3699525   \n",
       "21               Aix en Provence  43.5298424           5.4474738   \n",
       "22                       Avignon  43.9492493           4.8059012   \n",
       "23                          Uzes  44.0121279           4.4196718   \n",
       "24                         Nimes  43.8374249           4.3600687   \n",
       "25                 Aigues Mortes  43.5658225           4.1912837   \n",
       "26      Saintes Maries de la mer  43.4522771           4.4287172   \n",
       "27                     Collioure    42.52505           3.0831554   \n",
       "28                   Carcassonne  43.2130358           2.3491069   \n",
       "29                        Ariege  42.9638998           1.6053807   \n",
       "30                      Toulouse  43.6044622           1.4442469   \n",
       "31                     Montauban  44.0175835           1.3549991   \n",
       "32                      Biarritz  43.4832523          -1.5592776   \n",
       "33                       Bayonne  43.4933379           -1.475099   \n",
       "34                   La Rochelle  46.1591126          -1.1520434   \n",
       "\n",
       "                  jour_+x         temperature_ressentie  \\\n",
       "0   [1, 2, 3, 4, 5, 6, 7]  [17, 20, 20, 17, 19, 21, 19]   \n",
       "1   [1, 2, 3, 4, 5, 6, 7]  [15, 19, 18, 16, 16, 20, 17]   \n",
       "2   [1, 2, 3, 4, 5, 6, 7]  [17, 20, 21, 14, 19, 22, 20]   \n",
       "3   [1, 2, 3, 4, 5, 6, 7]  [17, 18, 19, 14, 17, 18, 16]   \n",
       "4   [1, 2, 3, 4, 5, 6, 7]  [19, 22, 22, 16, 18, 21, 21]   \n",
       "5   [1, 2, 3, 4, 5, 6, 7]  [21, 23, 24, 22, 20, 23, 24]   \n",
       "6   [1, 2, 3, 4, 5, 6, 7]  [20, 22, 23, 15, 18, 21, 21]   \n",
       "7   [1, 2, 3, 4, 5, 6, 7]  [20, 22, 24, 19, 20, 21, 22]   \n",
       "8   [1, 2, 3, 4, 5, 6, 7]  [19, 23, 23, 29, 15, 24, 28]   \n",
       "9   [1, 2, 3, 4, 5, 6, 7]  [15, 20, 22, 26, 12, 21, 26]   \n",
       "10  [1, 2, 3, 4, 5, 6, 7]  [19, 23, 26, 30, 15, 24, 28]   \n",
       "11  [1, 2, 3, 4, 5, 6, 7]  [19, 23, 25, 29, 15, 24, 28]   \n",
       "12  [1, 2, 3, 4, 5, 6, 7]  [15, 22, 26, 29, 13, 23, 26]   \n",
       "13  [1, 2, 3, 4, 5, 6, 7]  [16, 22, 25, 28, 18, 23, 26]   \n",
       "14  [1, 2, 3, 4, 5, 6, 7]  [18, 18, 27, 30, 17, 24, 29]   \n",
       "15  [1, 2, 3, 4, 5, 6, 7]  [22, 19, 28, 32, 20, 27, 32]   \n",
       "16  [1, 2, 3, 4, 5, 6, 7]  [17, 22, 26, 29, 16, 25, 29]   \n",
       "17  [1, 2, 3, 4, 5, 6, 7]  [29, 24, 27, 28, 28, 28, 31]   \n",
       "18  [1, 2, 3, 4, 5, 6, 7]  [29, 23, 29, 28, 27, 27, 29]   \n",
       "19  [1, 2, 3, 4, 5, 6, 7]  [29, 26, 28, 26, 28, 28, 30]   \n",
       "20  [1, 2, 3, 4, 5, 6, 7]  [29, 26, 28, 26, 28, 28, 30]   \n",
       "21  [1, 2, 3, 4, 5, 6, 7]  [31, 28, 29, 29, 29, 29, 33]   \n",
       "22  [1, 2, 3, 4, 5, 6, 7]  [29, 25, 29, 31, 27, 28, 34]   \n",
       "23  [1, 2, 3, 4, 5, 6, 7]  [28, 26, 30, 30, 27, 29, 34]   \n",
       "24  [1, 2, 3, 4, 5, 6, 7]  [29, 27, 29, 29, 28, 29, 34]   \n",
       "25  [1, 2, 3, 4, 5, 6, 7]  [28, 26, 27, 25, 27, 27, 30]   \n",
       "26  [1, 2, 3, 4, 5, 6, 7]  [27, 25, 26, 24, 27, 26, 30]   \n",
       "27  [1, 2, 3, 4, 5, 6, 7]  [26, 27, 28, 26, 24, 27, 28]   \n",
       "28  [1, 2, 3, 4, 5, 6, 7]  [20, 24, 29, 21, 21, 28, 33]   \n",
       "29  [1, 2, 3, 4, 5, 6, 7]  [15, 22, 27, 18, 15, 26, 30]   \n",
       "30  [1, 2, 3, 4, 5, 6, 7]  [14, 22, 27, 20, 18, 26, 30]   \n",
       "31  [1, 2, 3, 4, 5, 6, 7]  [15, 22, 26, 17, 20, 26, 29]   \n",
       "32  [1, 2, 3, 4, 5, 6, 7]  [16, 21, 19, 16, 18, 24, 22]   \n",
       "33  [1, 2, 3, 4, 5, 6, 7]  [16, 22, 20, 16, 18, 25, 23]   \n",
       "34  [1, 2, 3, 4, 5, 6, 7]  [17, 18, 19, 14, 17, 18, 21]   \n",
       "\n",
       "             probabilite_de_pluie  \\\n",
       "0       [52, 0, 15, 62, 37, 0, 0]   \n",
       "1        [47, 0, 9, 53, 48, 0, 0]   \n",
       "2       [65, 0, 38, 71, 46, 0, 0]   \n",
       "3       [32, 0, 60, 98, 50, 0, 0]   \n",
       "4      [24, 0, 18, 100, 70, 0, 0]   \n",
       "5         [2, 0, 0, 81, 61, 0, 0]   \n",
       "6        [37, 0, 0, 96, 86, 0, 0]   \n",
       "7        [57, 0, 0, 61, 94, 0, 0]   \n",
       "8   [100, 16, 20, 21, 100, 20, 0]   \n",
       "9    [100, 2, 18, 60, 100, 20, 0]   \n",
       "10    [100, 2, 19, 62, 100, 0, 0]   \n",
       "11   [100, 1, 20, 67, 100, 20, 0]   \n",
       "12   [100, 16, 9, 100, 100, 0, 0]   \n",
       "13    [100, 0, 0, 100, 100, 0, 0]   \n",
       "14    [100, 96, 21, 95, 93, 9, 0]   \n",
       "15    [87, 100, 0, 55, 47, 13, 0]   \n",
       "16     [100, 46, 0, 74, 55, 0, 0]   \n",
       "17    [43, 100, 0, 54, 24, 16, 0]   \n",
       "18        [3, 93, 0, 56, 0, 0, 0]   \n",
       "19       [10, 67, 0, 45, 0, 0, 0]   \n",
       "20       [12, 79, 0, 36, 0, 0, 0]   \n",
       "21       [28, 76, 0, 40, 0, 0, 0]   \n",
       "22        [15, 99, 0, 2, 0, 0, 0]   \n",
       "23        [15, 96, 0, 0, 1, 0, 0]   \n",
       "24        [11, 95, 0, 0, 1, 0, 0]   \n",
       "25         [7, 85, 0, 0, 1, 0, 0]   \n",
       "26         [1, 93, 0, 1, 0, 0, 0]   \n",
       "27        [36, 56, 0, 8, 0, 0, 0]   \n",
       "28     [54, 62, 0, 52, 27, 0, 22]   \n",
       "29     [97, 97, 2, 79, 59, 0, 48]   \n",
       "30     [81, 57, 0, 96, 41, 0, 52]   \n",
       "31     [93, 22, 0, 97, 52, 0, 48]   \n",
       "32  [37, 0, 100, 100, 27, 0, 100]   \n",
       "33  [36, 0, 100, 100, 28, 0, 100]   \n",
       "34        [0, 0, 2, 98, 35, 0, 1]   \n",
       "\n",
       "                                     meteo_principale  score  \n",
       "0   [Rain, Clouds, Clouds, Rain, Rain, Clouds, Clear]     16  \n",
       "1   [Rain, Clouds, Clouds, Rain, Rain, Clouds, Clo...     15  \n",
       "2   [Rain, Clouds, Clouds, Rain, Rain, Clouds, Clo...     15  \n",
       "3    [Clear, Clouds, Rain, Rain, Rain, Clouds, Clear]     13  \n",
       "4   [Clear, Clouds, Clouds, Rain, Rain, Clouds, Cl...     16  \n",
       "5   [Clouds, Clouds, Clouds, Rain, Rain, Clouds, C...     20  \n",
       "6   [Clouds, Clear, Clouds, Rain, Rain, Clouds, Cl...     16  \n",
       "7   [Rain, Clear, Clouds, Rain, Rain, Clouds, Clouds]     18  \n",
       "8    [Rain, Clouds, Clouds, Clear, Rain, Rain, Clear]     19  \n",
       "9    [Rain, Clouds, Clouds, Clear, Rain, Rain, Clear]     16  \n",
       "10   [Rain, Clouds, Clouds, Rain, Rain, Clear, Clear]     19  \n",
       "11    [Rain, Clouds, Clouds, Rain, Rain, Rain, Clear]     18  \n",
       "12   [Rain, Clouds, Clouds, Rain, Rain, Clear, Clear]     17  \n",
       "13     [Rain, Clear, Clear, Rain, Rain, Clear, Clear]     18  \n",
       "14      [Rain, Rain, Rain, Rain, Rain, Clouds, Clear]     17  \n",
       "15     [Rain, Rain, Clouds, Rain, Rain, Clear, Clear]     21  \n",
       "16      [Rain, Rain, Clear, Rain, Rain, Clear, Clear]     19  \n",
       "17    [Clear, Rain, Clear, Rain, Clear, Clear, Clear]     24  \n",
       "18   [Clear, Rain, Clear, Rain, Clouds, Clear, Clear]     25  \n",
       "19   [Clouds, Rain, Clear, Rain, Clear, Clear, Clear]     26  \n",
       "20   [Clouds, Rain, Clear, Rain, Clear, Clear, Clear]     26  \n",
       "21   [Clouds, Rain, Clear, Rain, Clear, Clear, Clear]     27  \n",
       "22  [Clouds, Rain, Clear, Clouds, Clear, Clear, Cl...     27  \n",
       "23  [Clouds, Rain, Clear, Clouds, Clear, Clear, Cl...     27  \n",
       "24  [Clouds, Rain, Clear, Clouds, Clear, Clear, Cl...     27  \n",
       "25  [Clouds, Rain, Clear, Clouds, Clear, Clear, Cl...     25  \n",
       "26  [Clouds, Rain, Clear, Clouds, Clear, Clear, Cl...     25  \n",
       "27   [Rain, Rain, Clear, Clouds, Clear, Clear, Clear]     25  \n",
       "28       [Rain, Rain, Clear, Rain, Rain, Clear, Rain]     22  \n",
       "29       [Rain, Rain, Clear, Rain, Rain, Clear, Rain]     16  \n",
       "30   [Rain, Clouds, Clear, Rain, Clouds, Clear, Rain]     17  \n",
       "31     [Rain, Clouds, Clear, Rain, Rain, Clear, Rain]     17  \n",
       "32     [Rain, Clouds, Rain, Rain, Rain, Clouds, Rain]     14  \n",
       "33      [Rain, Clear, Rain, Rain, Rain, Clouds, Rain]     14  \n",
       "34  [Clear, Clear, Clouds, Rain, Rain, Clear, Clouds]     15  "
      ]
     },
     "execution_count": 14,
     "metadata": {},
     "output_type": "execute_result"
    }
   ],
   "source": [
    "df_gps_weather\n"
   ]
  },
  {
   "cell_type": "code",
   "execution_count": 15,
   "metadata": {},
   "outputs": [
    {
     "name": "stdout",
     "output_type": "stream",
     "text": [
      "<class 'pandas.core.frame.DataFrame'>\n",
      "RangeIndex: 35 entries, 0 to 34\n",
      "Data columns (total 8 columns):\n",
      " #   Column                 Non-Null Count  Dtype \n",
      "---  ------                 --------------  ----- \n",
      " 0   ville                  35 non-null     object\n",
      " 1   lat                    35 non-null     object\n",
      " 2   lon                    35 non-null     object\n",
      " 3   jour_+x                35 non-null     object\n",
      " 4   temperature_ressentie  35 non-null     object\n",
      " 5   probabilite_de_pluie   35 non-null     object\n",
      " 6   meteo_principale       35 non-null     object\n",
      " 7   score                  35 non-null     int64 \n",
      "dtypes: int64(1), object(7)\n",
      "memory usage: 2.3+ KB\n"
     ]
    }
   ],
   "source": [
    "df_gps_weather.info()\n"
   ]
  },
  {
   "cell_type": "code",
   "execution_count": 16,
   "metadata": {},
   "outputs": [],
   "source": [
    "df_gps_weather[[\"lat\", \"lon\"]] = df_gps_weather[[\"lat\", \"lon\"]].astype(float)\n"
   ]
  },
  {
   "cell_type": "markdown",
   "metadata": {},
   "source": [
    "### List of cities where the weather will be the nicest within the next 7 days"
   ]
  },
  {
   "cell_type": "code",
   "execution_count": 17,
   "metadata": {},
   "outputs": [
    {
     "data": {
      "text/html": [
       "<div>\n",
       "<style scoped>\n",
       "    .dataframe tbody tr th:only-of-type {\n",
       "        vertical-align: middle;\n",
       "    }\n",
       "\n",
       "    .dataframe tbody tr th {\n",
       "        vertical-align: top;\n",
       "    }\n",
       "\n",
       "    .dataframe thead th {\n",
       "        text-align: right;\n",
       "    }\n",
       "</style>\n",
       "<table border=\"1\" class=\"dataframe\">\n",
       "  <thead>\n",
       "    <tr style=\"text-align: right;\">\n",
       "      <th></th>\n",
       "      <th>ville</th>\n",
       "      <th>lat</th>\n",
       "      <th>lon</th>\n",
       "      <th>jour_+x</th>\n",
       "      <th>temperature_ressentie</th>\n",
       "      <th>probabilite_de_pluie</th>\n",
       "      <th>meteo_principale</th>\n",
       "      <th>score</th>\n",
       "    </tr>\n",
       "  </thead>\n",
       "  <tbody>\n",
       "    <tr>\n",
       "      <th>24</th>\n",
       "      <td>Nimes</td>\n",
       "      <td>43.837425</td>\n",
       "      <td>4.360069</td>\n",
       "      <td>[1, 2, 3, 4, 5, 6, 7]</td>\n",
       "      <td>[29, 27, 29, 29, 28, 29, 34]</td>\n",
       "      <td>[11, 95, 0, 0, 1, 0, 0]</td>\n",
       "      <td>[Clouds, Rain, Clear, Clouds, Clear, Clear, Cl...</td>\n",
       "      <td>27</td>\n",
       "    </tr>\n",
       "    <tr>\n",
       "      <th>23</th>\n",
       "      <td>Uzes</td>\n",
       "      <td>44.012128</td>\n",
       "      <td>4.419672</td>\n",
       "      <td>[1, 2, 3, 4, 5, 6, 7]</td>\n",
       "      <td>[28, 26, 30, 30, 27, 29, 34]</td>\n",
       "      <td>[15, 96, 0, 0, 1, 0, 0]</td>\n",
       "      <td>[Clouds, Rain, Clear, Clouds, Clear, Clear, Cl...</td>\n",
       "      <td>27</td>\n",
       "    </tr>\n",
       "    <tr>\n",
       "      <th>22</th>\n",
       "      <td>Avignon</td>\n",
       "      <td>43.949249</td>\n",
       "      <td>4.805901</td>\n",
       "      <td>[1, 2, 3, 4, 5, 6, 7]</td>\n",
       "      <td>[29, 25, 29, 31, 27, 28, 34]</td>\n",
       "      <td>[15, 99, 0, 2, 0, 0, 0]</td>\n",
       "      <td>[Clouds, Rain, Clear, Clouds, Clear, Clear, Cl...</td>\n",
       "      <td>27</td>\n",
       "    </tr>\n",
       "    <tr>\n",
       "      <th>21</th>\n",
       "      <td>Aix en Provence</td>\n",
       "      <td>43.529842</td>\n",
       "      <td>5.447474</td>\n",
       "      <td>[1, 2, 3, 4, 5, 6, 7]</td>\n",
       "      <td>[31, 28, 29, 29, 29, 29, 33]</td>\n",
       "      <td>[28, 76, 0, 40, 0, 0, 0]</td>\n",
       "      <td>[Clouds, Rain, Clear, Rain, Clear, Clear, Clear]</td>\n",
       "      <td>27</td>\n",
       "    </tr>\n",
       "    <tr>\n",
       "      <th>20</th>\n",
       "      <td>Marseille</td>\n",
       "      <td>43.296174</td>\n",
       "      <td>5.369953</td>\n",
       "      <td>[1, 2, 3, 4, 5, 6, 7]</td>\n",
       "      <td>[29, 26, 28, 26, 28, 28, 30]</td>\n",
       "      <td>[12, 79, 0, 36, 0, 0, 0]</td>\n",
       "      <td>[Clouds, Rain, Clear, Rain, Clear, Clear, Clear]</td>\n",
       "      <td>26</td>\n",
       "    </tr>\n",
       "    <tr>\n",
       "      <th>19</th>\n",
       "      <td>Cassis</td>\n",
       "      <td>43.214036</td>\n",
       "      <td>5.539632</td>\n",
       "      <td>[1, 2, 3, 4, 5, 6, 7]</td>\n",
       "      <td>[29, 26, 28, 26, 28, 28, 30]</td>\n",
       "      <td>[10, 67, 0, 45, 0, 0, 0]</td>\n",
       "      <td>[Clouds, Rain, Clear, Rain, Clear, Clear, Clear]</td>\n",
       "      <td>26</td>\n",
       "    </tr>\n",
       "    <tr>\n",
       "      <th>25</th>\n",
       "      <td>Aigues Mortes</td>\n",
       "      <td>43.565823</td>\n",
       "      <td>4.191284</td>\n",
       "      <td>[1, 2, 3, 4, 5, 6, 7]</td>\n",
       "      <td>[28, 26, 27, 25, 27, 27, 30]</td>\n",
       "      <td>[7, 85, 0, 0, 1, 0, 0]</td>\n",
       "      <td>[Clouds, Rain, Clear, Clouds, Clear, Clear, Cl...</td>\n",
       "      <td>25</td>\n",
       "    </tr>\n",
       "    <tr>\n",
       "      <th>18</th>\n",
       "      <td>Bormes les Mimosas</td>\n",
       "      <td>43.157217</td>\n",
       "      <td>6.329254</td>\n",
       "      <td>[1, 2, 3, 4, 5, 6, 7]</td>\n",
       "      <td>[29, 23, 29, 28, 27, 27, 29]</td>\n",
       "      <td>[3, 93, 0, 56, 0, 0, 0]</td>\n",
       "      <td>[Clear, Rain, Clear, Rain, Clouds, Clear, Clear]</td>\n",
       "      <td>25</td>\n",
       "    </tr>\n",
       "    <tr>\n",
       "      <th>26</th>\n",
       "      <td>Saintes Maries de la mer</td>\n",
       "      <td>43.452277</td>\n",
       "      <td>4.428717</td>\n",
       "      <td>[1, 2, 3, 4, 5, 6, 7]</td>\n",
       "      <td>[27, 25, 26, 24, 27, 26, 30]</td>\n",
       "      <td>[1, 93, 0, 1, 0, 0, 0]</td>\n",
       "      <td>[Clouds, Rain, Clear, Clouds, Clear, Clear, Cl...</td>\n",
       "      <td>25</td>\n",
       "    </tr>\n",
       "    <tr>\n",
       "      <th>27</th>\n",
       "      <td>Collioure</td>\n",
       "      <td>42.525050</td>\n",
       "      <td>3.083155</td>\n",
       "      <td>[1, 2, 3, 4, 5, 6, 7]</td>\n",
       "      <td>[26, 27, 28, 26, 24, 27, 28]</td>\n",
       "      <td>[36, 56, 0, 8, 0, 0, 0]</td>\n",
       "      <td>[Rain, Rain, Clear, Clouds, Clear, Clear, Clear]</td>\n",
       "      <td>25</td>\n",
       "    </tr>\n",
       "    <tr>\n",
       "      <th>17</th>\n",
       "      <td>Gorges du Verdon</td>\n",
       "      <td>43.846218</td>\n",
       "      <td>6.513181</td>\n",
       "      <td>[1, 2, 3, 4, 5, 6, 7]</td>\n",
       "      <td>[29, 24, 27, 28, 28, 28, 31]</td>\n",
       "      <td>[43, 100, 0, 54, 24, 16, 0]</td>\n",
       "      <td>[Clear, Rain, Clear, Rain, Clear, Clear, Clear]</td>\n",
       "      <td>24</td>\n",
       "    </tr>\n",
       "    <tr>\n",
       "      <th>28</th>\n",
       "      <td>Carcassonne</td>\n",
       "      <td>43.213036</td>\n",
       "      <td>2.349107</td>\n",
       "      <td>[1, 2, 3, 4, 5, 6, 7]</td>\n",
       "      <td>[20, 24, 29, 21, 21, 28, 33]</td>\n",
       "      <td>[54, 62, 0, 52, 27, 0, 22]</td>\n",
       "      <td>[Rain, Rain, Clear, Rain, Rain, Clear, Rain]</td>\n",
       "      <td>22</td>\n",
       "    </tr>\n",
       "    <tr>\n",
       "      <th>15</th>\n",
       "      <td>Grenoble</td>\n",
       "      <td>45.187560</td>\n",
       "      <td>5.735782</td>\n",
       "      <td>[1, 2, 3, 4, 5, 6, 7]</td>\n",
       "      <td>[22, 19, 28, 32, 20, 27, 32]</td>\n",
       "      <td>[87, 100, 0, 55, 47, 13, 0]</td>\n",
       "      <td>[Rain, Rain, Clouds, Rain, Rain, Clear, Clear]</td>\n",
       "      <td>21</td>\n",
       "    </tr>\n",
       "    <tr>\n",
       "      <th>5</th>\n",
       "      <td>Paris</td>\n",
       "      <td>48.858890</td>\n",
       "      <td>2.320041</td>\n",
       "      <td>[1, 2, 3, 4, 5, 6, 7]</td>\n",
       "      <td>[21, 23, 24, 22, 20, 23, 24]</td>\n",
       "      <td>[2, 0, 0, 81, 61, 0, 0]</td>\n",
       "      <td>[Clouds, Clouds, Clouds, Rain, Rain, Clouds, C...</td>\n",
       "      <td>20</td>\n",
       "    </tr>\n",
       "    <tr>\n",
       "      <th>10</th>\n",
       "      <td>Colmar</td>\n",
       "      <td>48.077752</td>\n",
       "      <td>7.357964</td>\n",
       "      <td>[1, 2, 3, 4, 5, 6, 7]</td>\n",
       "      <td>[19, 23, 26, 30, 15, 24, 28]</td>\n",
       "      <td>[100, 2, 19, 62, 100, 0, 0]</td>\n",
       "      <td>[Rain, Clouds, Clouds, Rain, Rain, Clear, Clear]</td>\n",
       "      <td>19</td>\n",
       "    </tr>\n",
       "    <tr>\n",
       "      <th>16</th>\n",
       "      <td>Lyon</td>\n",
       "      <td>45.757814</td>\n",
       "      <td>4.832011</td>\n",
       "      <td>[1, 2, 3, 4, 5, 6, 7]</td>\n",
       "      <td>[17, 22, 26, 29, 16, 25, 29]</td>\n",
       "      <td>[100, 46, 0, 74, 55, 0, 0]</td>\n",
       "      <td>[Rain, Rain, Clear, Rain, Rain, Clear, Clear]</td>\n",
       "      <td>19</td>\n",
       "    </tr>\n",
       "    <tr>\n",
       "      <th>8</th>\n",
       "      <td>Strasbourg</td>\n",
       "      <td>48.584614</td>\n",
       "      <td>7.750713</td>\n",
       "      <td>[1, 2, 3, 4, 5, 6, 7]</td>\n",
       "      <td>[19, 23, 23, 29, 15, 24, 28]</td>\n",
       "      <td>[100, 16, 20, 21, 100, 20, 0]</td>\n",
       "      <td>[Rain, Clouds, Clouds, Clear, Rain, Rain, Clear]</td>\n",
       "      <td>19</td>\n",
       "    </tr>\n",
       "    <tr>\n",
       "      <th>11</th>\n",
       "      <td>Eguisheim</td>\n",
       "      <td>48.044797</td>\n",
       "      <td>7.307962</td>\n",
       "      <td>[1, 2, 3, 4, 5, 6, 7]</td>\n",
       "      <td>[19, 23, 25, 29, 15, 24, 28]</td>\n",
       "      <td>[100, 1, 20, 67, 100, 20, 0]</td>\n",
       "      <td>[Rain, Clouds, Clouds, Rain, Rain, Rain, Clear]</td>\n",
       "      <td>18</td>\n",
       "    </tr>\n",
       "    <tr>\n",
       "      <th>13</th>\n",
       "      <td>Dijon</td>\n",
       "      <td>47.321581</td>\n",
       "      <td>5.041470</td>\n",
       "      <td>[1, 2, 3, 4, 5, 6, 7]</td>\n",
       "      <td>[16, 22, 25, 28, 18, 23, 26]</td>\n",
       "      <td>[100, 0, 0, 100, 100, 0, 0]</td>\n",
       "      <td>[Rain, Clear, Clear, Rain, Rain, Clear, Clear]</td>\n",
       "      <td>18</td>\n",
       "    </tr>\n",
       "    <tr>\n",
       "      <th>7</th>\n",
       "      <td>Lille</td>\n",
       "      <td>50.636565</td>\n",
       "      <td>3.063528</td>\n",
       "      <td>[1, 2, 3, 4, 5, 6, 7]</td>\n",
       "      <td>[20, 22, 24, 19, 20, 21, 22]</td>\n",
       "      <td>[57, 0, 0, 61, 94, 0, 0]</td>\n",
       "      <td>[Rain, Clear, Clouds, Rain, Rain, Clouds, Clouds]</td>\n",
       "      <td>18</td>\n",
       "    </tr>\n",
       "    <tr>\n",
       "      <th>14</th>\n",
       "      <td>Annecy</td>\n",
       "      <td>45.899235</td>\n",
       "      <td>6.128885</td>\n",
       "      <td>[1, 2, 3, 4, 5, 6, 7]</td>\n",
       "      <td>[18, 18, 27, 30, 17, 24, 29]</td>\n",
       "      <td>[100, 96, 21, 95, 93, 9, 0]</td>\n",
       "      <td>[Rain, Rain, Rain, Rain, Rain, Clouds, Clear]</td>\n",
       "      <td>17</td>\n",
       "    </tr>\n",
       "    <tr>\n",
       "      <th>30</th>\n",
       "      <td>Toulouse</td>\n",
       "      <td>43.604462</td>\n",
       "      <td>1.444247</td>\n",
       "      <td>[1, 2, 3, 4, 5, 6, 7]</td>\n",
       "      <td>[14, 22, 27, 20, 18, 26, 30]</td>\n",
       "      <td>[81, 57, 0, 96, 41, 0, 52]</td>\n",
       "      <td>[Rain, Clouds, Clear, Rain, Clouds, Clear, Rain]</td>\n",
       "      <td>17</td>\n",
       "    </tr>\n",
       "    <tr>\n",
       "      <th>31</th>\n",
       "      <td>Montauban</td>\n",
       "      <td>44.017584</td>\n",
       "      <td>1.354999</td>\n",
       "      <td>[1, 2, 3, 4, 5, 6, 7]</td>\n",
       "      <td>[15, 22, 26, 17, 20, 26, 29]</td>\n",
       "      <td>[93, 22, 0, 97, 52, 0, 48]</td>\n",
       "      <td>[Rain, Clouds, Clear, Rain, Rain, Clear, Rain]</td>\n",
       "      <td>17</td>\n",
       "    </tr>\n",
       "    <tr>\n",
       "      <th>12</th>\n",
       "      <td>Besancon</td>\n",
       "      <td>47.238022</td>\n",
       "      <td>6.024362</td>\n",
       "      <td>[1, 2, 3, 4, 5, 6, 7]</td>\n",
       "      <td>[15, 22, 26, 29, 13, 23, 26]</td>\n",
       "      <td>[100, 16, 9, 100, 100, 0, 0]</td>\n",
       "      <td>[Rain, Clouds, Clouds, Rain, Rain, Clear, Clear]</td>\n",
       "      <td>17</td>\n",
       "    </tr>\n",
       "    <tr>\n",
       "      <th>29</th>\n",
       "      <td>Ariege</td>\n",
       "      <td>42.963900</td>\n",
       "      <td>1.605381</td>\n",
       "      <td>[1, 2, 3, 4, 5, 6, 7]</td>\n",
       "      <td>[15, 22, 27, 18, 15, 26, 30]</td>\n",
       "      <td>[97, 97, 2, 79, 59, 0, 48]</td>\n",
       "      <td>[Rain, Rain, Clear, Rain, Rain, Clear, Rain]</td>\n",
       "      <td>16</td>\n",
       "    </tr>\n",
       "    <tr>\n",
       "      <th>0</th>\n",
       "      <td>Mont Saint Michel</td>\n",
       "      <td>48.635954</td>\n",
       "      <td>-1.511460</td>\n",
       "      <td>[1, 2, 3, 4, 5, 6, 7]</td>\n",
       "      <td>[17, 20, 20, 17, 19, 21, 19]</td>\n",
       "      <td>[52, 0, 15, 62, 37, 0, 0]</td>\n",
       "      <td>[Rain, Clouds, Clouds, Rain, Rain, Clouds, Clear]</td>\n",
       "      <td>16</td>\n",
       "    </tr>\n",
       "    <tr>\n",
       "      <th>9</th>\n",
       "      <td>Chateau du Haut Koenigsbourg</td>\n",
       "      <td>48.249523</td>\n",
       "      <td>7.345492</td>\n",
       "      <td>[1, 2, 3, 4, 5, 6, 7]</td>\n",
       "      <td>[15, 20, 22, 26, 12, 21, 26]</td>\n",
       "      <td>[100, 2, 18, 60, 100, 20, 0]</td>\n",
       "      <td>[Rain, Clouds, Clouds, Clear, Rain, Rain, Clear]</td>\n",
       "      <td>16</td>\n",
       "    </tr>\n",
       "    <tr>\n",
       "      <th>6</th>\n",
       "      <td>Amiens</td>\n",
       "      <td>49.894171</td>\n",
       "      <td>2.295695</td>\n",
       "      <td>[1, 2, 3, 4, 5, 6, 7]</td>\n",
       "      <td>[20, 22, 23, 15, 18, 21, 21]</td>\n",
       "      <td>[37, 0, 0, 96, 86, 0, 0]</td>\n",
       "      <td>[Clouds, Clear, Clouds, Rain, Rain, Clouds, Cl...</td>\n",
       "      <td>16</td>\n",
       "    </tr>\n",
       "    <tr>\n",
       "      <th>4</th>\n",
       "      <td>Rouen</td>\n",
       "      <td>49.440459</td>\n",
       "      <td>1.093966</td>\n",
       "      <td>[1, 2, 3, 4, 5, 6, 7]</td>\n",
       "      <td>[19, 22, 22, 16, 18, 21, 21]</td>\n",
       "      <td>[24, 0, 18, 100, 70, 0, 0]</td>\n",
       "      <td>[Clear, Clouds, Clouds, Rain, Rain, Clouds, Cl...</td>\n",
       "      <td>16</td>\n",
       "    </tr>\n",
       "    <tr>\n",
       "      <th>1</th>\n",
       "      <td>St Malo</td>\n",
       "      <td>48.649518</td>\n",
       "      <td>-2.026041</td>\n",
       "      <td>[1, 2, 3, 4, 5, 6, 7]</td>\n",
       "      <td>[15, 19, 18, 16, 16, 20, 17]</td>\n",
       "      <td>[47, 0, 9, 53, 48, 0, 0]</td>\n",
       "      <td>[Rain, Clouds, Clouds, Rain, Rain, Clouds, Clo...</td>\n",
       "      <td>15</td>\n",
       "    </tr>\n",
       "    <tr>\n",
       "      <th>2</th>\n",
       "      <td>Bayeux</td>\n",
       "      <td>49.276462</td>\n",
       "      <td>-0.702474</td>\n",
       "      <td>[1, 2, 3, 4, 5, 6, 7]</td>\n",
       "      <td>[17, 20, 21, 14, 19, 22, 20]</td>\n",
       "      <td>[65, 0, 38, 71, 46, 0, 0]</td>\n",
       "      <td>[Rain, Clouds, Clouds, Rain, Rain, Clouds, Clo...</td>\n",
       "      <td>15</td>\n",
       "    </tr>\n",
       "    <tr>\n",
       "      <th>34</th>\n",
       "      <td>La Rochelle</td>\n",
       "      <td>46.159113</td>\n",
       "      <td>-1.152043</td>\n",
       "      <td>[1, 2, 3, 4, 5, 6, 7]</td>\n",
       "      <td>[17, 18, 19, 14, 17, 18, 21]</td>\n",
       "      <td>[0, 0, 2, 98, 35, 0, 1]</td>\n",
       "      <td>[Clear, Clear, Clouds, Rain, Rain, Clear, Clouds]</td>\n",
       "      <td>15</td>\n",
       "    </tr>\n",
       "    <tr>\n",
       "      <th>32</th>\n",
       "      <td>Biarritz</td>\n",
       "      <td>43.483252</td>\n",
       "      <td>-1.559278</td>\n",
       "      <td>[1, 2, 3, 4, 5, 6, 7]</td>\n",
       "      <td>[16, 21, 19, 16, 18, 24, 22]</td>\n",
       "      <td>[37, 0, 100, 100, 27, 0, 100]</td>\n",
       "      <td>[Rain, Clouds, Rain, Rain, Rain, Clouds, Rain]</td>\n",
       "      <td>14</td>\n",
       "    </tr>\n",
       "    <tr>\n",
       "      <th>33</th>\n",
       "      <td>Bayonne</td>\n",
       "      <td>43.493338</td>\n",
       "      <td>-1.475099</td>\n",
       "      <td>[1, 2, 3, 4, 5, 6, 7]</td>\n",
       "      <td>[16, 22, 20, 16, 18, 25, 23]</td>\n",
       "      <td>[36, 0, 100, 100, 28, 0, 100]</td>\n",
       "      <td>[Rain, Clear, Rain, Rain, Rain, Clouds, Rain]</td>\n",
       "      <td>14</td>\n",
       "    </tr>\n",
       "    <tr>\n",
       "      <th>3</th>\n",
       "      <td>Le Havre</td>\n",
       "      <td>49.493898</td>\n",
       "      <td>0.107973</td>\n",
       "      <td>[1, 2, 3, 4, 5, 6, 7]</td>\n",
       "      <td>[17, 18, 19, 14, 17, 18, 16]</td>\n",
       "      <td>[32, 0, 60, 98, 50, 0, 0]</td>\n",
       "      <td>[Clear, Clouds, Rain, Rain, Rain, Clouds, Clear]</td>\n",
       "      <td>13</td>\n",
       "    </tr>\n",
       "  </tbody>\n",
       "</table>\n",
       "</div>"
      ],
      "text/plain": [
       "                           ville        lat       lon                jour_+x  \\\n",
       "24                         Nimes  43.837425  4.360069  [1, 2, 3, 4, 5, 6, 7]   \n",
       "23                          Uzes  44.012128  4.419672  [1, 2, 3, 4, 5, 6, 7]   \n",
       "22                       Avignon  43.949249  4.805901  [1, 2, 3, 4, 5, 6, 7]   \n",
       "21               Aix en Provence  43.529842  5.447474  [1, 2, 3, 4, 5, 6, 7]   \n",
       "20                     Marseille  43.296174  5.369953  [1, 2, 3, 4, 5, 6, 7]   \n",
       "19                        Cassis  43.214036  5.539632  [1, 2, 3, 4, 5, 6, 7]   \n",
       "25                 Aigues Mortes  43.565823  4.191284  [1, 2, 3, 4, 5, 6, 7]   \n",
       "18            Bormes les Mimosas  43.157217  6.329254  [1, 2, 3, 4, 5, 6, 7]   \n",
       "26      Saintes Maries de la mer  43.452277  4.428717  [1, 2, 3, 4, 5, 6, 7]   \n",
       "27                     Collioure  42.525050  3.083155  [1, 2, 3, 4, 5, 6, 7]   \n",
       "17              Gorges du Verdon  43.846218  6.513181  [1, 2, 3, 4, 5, 6, 7]   \n",
       "28                   Carcassonne  43.213036  2.349107  [1, 2, 3, 4, 5, 6, 7]   \n",
       "15                      Grenoble  45.187560  5.735782  [1, 2, 3, 4, 5, 6, 7]   \n",
       "5                          Paris  48.858890  2.320041  [1, 2, 3, 4, 5, 6, 7]   \n",
       "10                        Colmar  48.077752  7.357964  [1, 2, 3, 4, 5, 6, 7]   \n",
       "16                          Lyon  45.757814  4.832011  [1, 2, 3, 4, 5, 6, 7]   \n",
       "8                     Strasbourg  48.584614  7.750713  [1, 2, 3, 4, 5, 6, 7]   \n",
       "11                     Eguisheim  48.044797  7.307962  [1, 2, 3, 4, 5, 6, 7]   \n",
       "13                         Dijon  47.321581  5.041470  [1, 2, 3, 4, 5, 6, 7]   \n",
       "7                          Lille  50.636565  3.063528  [1, 2, 3, 4, 5, 6, 7]   \n",
       "14                        Annecy  45.899235  6.128885  [1, 2, 3, 4, 5, 6, 7]   \n",
       "30                      Toulouse  43.604462  1.444247  [1, 2, 3, 4, 5, 6, 7]   \n",
       "31                     Montauban  44.017584  1.354999  [1, 2, 3, 4, 5, 6, 7]   \n",
       "12                      Besancon  47.238022  6.024362  [1, 2, 3, 4, 5, 6, 7]   \n",
       "29                        Ariege  42.963900  1.605381  [1, 2, 3, 4, 5, 6, 7]   \n",
       "0              Mont Saint Michel  48.635954 -1.511460  [1, 2, 3, 4, 5, 6, 7]   \n",
       "9   Chateau du Haut Koenigsbourg  48.249523  7.345492  [1, 2, 3, 4, 5, 6, 7]   \n",
       "6                         Amiens  49.894171  2.295695  [1, 2, 3, 4, 5, 6, 7]   \n",
       "4                          Rouen  49.440459  1.093966  [1, 2, 3, 4, 5, 6, 7]   \n",
       "1                        St Malo  48.649518 -2.026041  [1, 2, 3, 4, 5, 6, 7]   \n",
       "2                         Bayeux  49.276462 -0.702474  [1, 2, 3, 4, 5, 6, 7]   \n",
       "34                   La Rochelle  46.159113 -1.152043  [1, 2, 3, 4, 5, 6, 7]   \n",
       "32                      Biarritz  43.483252 -1.559278  [1, 2, 3, 4, 5, 6, 7]   \n",
       "33                       Bayonne  43.493338 -1.475099  [1, 2, 3, 4, 5, 6, 7]   \n",
       "3                       Le Havre  49.493898  0.107973  [1, 2, 3, 4, 5, 6, 7]   \n",
       "\n",
       "           temperature_ressentie           probabilite_de_pluie  \\\n",
       "24  [29, 27, 29, 29, 28, 29, 34]        [11, 95, 0, 0, 1, 0, 0]   \n",
       "23  [28, 26, 30, 30, 27, 29, 34]        [15, 96, 0, 0, 1, 0, 0]   \n",
       "22  [29, 25, 29, 31, 27, 28, 34]        [15, 99, 0, 2, 0, 0, 0]   \n",
       "21  [31, 28, 29, 29, 29, 29, 33]       [28, 76, 0, 40, 0, 0, 0]   \n",
       "20  [29, 26, 28, 26, 28, 28, 30]       [12, 79, 0, 36, 0, 0, 0]   \n",
       "19  [29, 26, 28, 26, 28, 28, 30]       [10, 67, 0, 45, 0, 0, 0]   \n",
       "25  [28, 26, 27, 25, 27, 27, 30]         [7, 85, 0, 0, 1, 0, 0]   \n",
       "18  [29, 23, 29, 28, 27, 27, 29]        [3, 93, 0, 56, 0, 0, 0]   \n",
       "26  [27, 25, 26, 24, 27, 26, 30]         [1, 93, 0, 1, 0, 0, 0]   \n",
       "27  [26, 27, 28, 26, 24, 27, 28]        [36, 56, 0, 8, 0, 0, 0]   \n",
       "17  [29, 24, 27, 28, 28, 28, 31]    [43, 100, 0, 54, 24, 16, 0]   \n",
       "28  [20, 24, 29, 21, 21, 28, 33]     [54, 62, 0, 52, 27, 0, 22]   \n",
       "15  [22, 19, 28, 32, 20, 27, 32]    [87, 100, 0, 55, 47, 13, 0]   \n",
       "5   [21, 23, 24, 22, 20, 23, 24]        [2, 0, 0, 81, 61, 0, 0]   \n",
       "10  [19, 23, 26, 30, 15, 24, 28]    [100, 2, 19, 62, 100, 0, 0]   \n",
       "16  [17, 22, 26, 29, 16, 25, 29]     [100, 46, 0, 74, 55, 0, 0]   \n",
       "8   [19, 23, 23, 29, 15, 24, 28]  [100, 16, 20, 21, 100, 20, 0]   \n",
       "11  [19, 23, 25, 29, 15, 24, 28]   [100, 1, 20, 67, 100, 20, 0]   \n",
       "13  [16, 22, 25, 28, 18, 23, 26]    [100, 0, 0, 100, 100, 0, 0]   \n",
       "7   [20, 22, 24, 19, 20, 21, 22]       [57, 0, 0, 61, 94, 0, 0]   \n",
       "14  [18, 18, 27, 30, 17, 24, 29]    [100, 96, 21, 95, 93, 9, 0]   \n",
       "30  [14, 22, 27, 20, 18, 26, 30]     [81, 57, 0, 96, 41, 0, 52]   \n",
       "31  [15, 22, 26, 17, 20, 26, 29]     [93, 22, 0, 97, 52, 0, 48]   \n",
       "12  [15, 22, 26, 29, 13, 23, 26]   [100, 16, 9, 100, 100, 0, 0]   \n",
       "29  [15, 22, 27, 18, 15, 26, 30]     [97, 97, 2, 79, 59, 0, 48]   \n",
       "0   [17, 20, 20, 17, 19, 21, 19]      [52, 0, 15, 62, 37, 0, 0]   \n",
       "9   [15, 20, 22, 26, 12, 21, 26]   [100, 2, 18, 60, 100, 20, 0]   \n",
       "6   [20, 22, 23, 15, 18, 21, 21]       [37, 0, 0, 96, 86, 0, 0]   \n",
       "4   [19, 22, 22, 16, 18, 21, 21]     [24, 0, 18, 100, 70, 0, 0]   \n",
       "1   [15, 19, 18, 16, 16, 20, 17]       [47, 0, 9, 53, 48, 0, 0]   \n",
       "2   [17, 20, 21, 14, 19, 22, 20]      [65, 0, 38, 71, 46, 0, 0]   \n",
       "34  [17, 18, 19, 14, 17, 18, 21]        [0, 0, 2, 98, 35, 0, 1]   \n",
       "32  [16, 21, 19, 16, 18, 24, 22]  [37, 0, 100, 100, 27, 0, 100]   \n",
       "33  [16, 22, 20, 16, 18, 25, 23]  [36, 0, 100, 100, 28, 0, 100]   \n",
       "3   [17, 18, 19, 14, 17, 18, 16]      [32, 0, 60, 98, 50, 0, 0]   \n",
       "\n",
       "                                     meteo_principale  score  \n",
       "24  [Clouds, Rain, Clear, Clouds, Clear, Clear, Cl...     27  \n",
       "23  [Clouds, Rain, Clear, Clouds, Clear, Clear, Cl...     27  \n",
       "22  [Clouds, Rain, Clear, Clouds, Clear, Clear, Cl...     27  \n",
       "21   [Clouds, Rain, Clear, Rain, Clear, Clear, Clear]     27  \n",
       "20   [Clouds, Rain, Clear, Rain, Clear, Clear, Clear]     26  \n",
       "19   [Clouds, Rain, Clear, Rain, Clear, Clear, Clear]     26  \n",
       "25  [Clouds, Rain, Clear, Clouds, Clear, Clear, Cl...     25  \n",
       "18   [Clear, Rain, Clear, Rain, Clouds, Clear, Clear]     25  \n",
       "26  [Clouds, Rain, Clear, Clouds, Clear, Clear, Cl...     25  \n",
       "27   [Rain, Rain, Clear, Clouds, Clear, Clear, Clear]     25  \n",
       "17    [Clear, Rain, Clear, Rain, Clear, Clear, Clear]     24  \n",
       "28       [Rain, Rain, Clear, Rain, Rain, Clear, Rain]     22  \n",
       "15     [Rain, Rain, Clouds, Rain, Rain, Clear, Clear]     21  \n",
       "5   [Clouds, Clouds, Clouds, Rain, Rain, Clouds, C...     20  \n",
       "10   [Rain, Clouds, Clouds, Rain, Rain, Clear, Clear]     19  \n",
       "16      [Rain, Rain, Clear, Rain, Rain, Clear, Clear]     19  \n",
       "8    [Rain, Clouds, Clouds, Clear, Rain, Rain, Clear]     19  \n",
       "11    [Rain, Clouds, Clouds, Rain, Rain, Rain, Clear]     18  \n",
       "13     [Rain, Clear, Clear, Rain, Rain, Clear, Clear]     18  \n",
       "7   [Rain, Clear, Clouds, Rain, Rain, Clouds, Clouds]     18  \n",
       "14      [Rain, Rain, Rain, Rain, Rain, Clouds, Clear]     17  \n",
       "30   [Rain, Clouds, Clear, Rain, Clouds, Clear, Rain]     17  \n",
       "31     [Rain, Clouds, Clear, Rain, Rain, Clear, Rain]     17  \n",
       "12   [Rain, Clouds, Clouds, Rain, Rain, Clear, Clear]     17  \n",
       "29       [Rain, Rain, Clear, Rain, Rain, Clear, Rain]     16  \n",
       "0   [Rain, Clouds, Clouds, Rain, Rain, Clouds, Clear]     16  \n",
       "9    [Rain, Clouds, Clouds, Clear, Rain, Rain, Clear]     16  \n",
       "6   [Clouds, Clear, Clouds, Rain, Rain, Clouds, Cl...     16  \n",
       "4   [Clear, Clouds, Clouds, Rain, Rain, Clouds, Cl...     16  \n",
       "1   [Rain, Clouds, Clouds, Rain, Rain, Clouds, Clo...     15  \n",
       "2   [Rain, Clouds, Clouds, Rain, Rain, Clouds, Clo...     15  \n",
       "34  [Clear, Clear, Clouds, Rain, Rain, Clear, Clouds]     15  \n",
       "32     [Rain, Clouds, Rain, Rain, Rain, Clouds, Rain]     14  \n",
       "33      [Rain, Clear, Rain, Rain, Rain, Clouds, Rain]     14  \n",
       "3    [Clear, Clouds, Rain, Rain, Rain, Clouds, Clear]     13  "
      ]
     },
     "execution_count": 17,
     "metadata": {},
     "output_type": "execute_result"
    }
   ],
   "source": [
    "df_gps_weather.sort_values(by=[\"score\"], ascending=False)\n"
   ]
  },
  {
   "cell_type": "markdown",
   "metadata": {},
   "source": [
    "### Save all the results in a `.csv` file"
   ]
  },
  {
   "cell_type": "code",
   "execution_count": 18,
   "metadata": {},
   "outputs": [
    {
     "data": {
      "text/html": [
       "<div>\n",
       "<style scoped>\n",
       "    .dataframe tbody tr th:only-of-type {\n",
       "        vertical-align: middle;\n",
       "    }\n",
       "\n",
       "    .dataframe tbody tr th {\n",
       "        vertical-align: top;\n",
       "    }\n",
       "\n",
       "    .dataframe thead th {\n",
       "        text-align: right;\n",
       "    }\n",
       "</style>\n",
       "<table border=\"1\" class=\"dataframe\">\n",
       "  <thead>\n",
       "    <tr style=\"text-align: right;\">\n",
       "      <th></th>\n",
       "      <th>ville</th>\n",
       "      <th>lat</th>\n",
       "      <th>lon</th>\n",
       "      <th>jour_+x</th>\n",
       "      <th>temperature_ressentie</th>\n",
       "      <th>probabilite_de_pluie</th>\n",
       "      <th>meteo_principale</th>\n",
       "      <th>score</th>\n",
       "    </tr>\n",
       "  </thead>\n",
       "  <tbody>\n",
       "    <tr>\n",
       "      <th>0</th>\n",
       "      <td>Mont Saint Michel</td>\n",
       "      <td>48.635954</td>\n",
       "      <td>-1.511460</td>\n",
       "      <td>[1, 2, 3, 4, 5, 6, 7]</td>\n",
       "      <td>[17, 20, 20, 17, 19, 21, 19]</td>\n",
       "      <td>[52, 0, 15, 62, 37, 0, 0]</td>\n",
       "      <td>[Rain, Clouds, Clouds, Rain, Rain, Clouds, Clear]</td>\n",
       "      <td>16</td>\n",
       "    </tr>\n",
       "    <tr>\n",
       "      <th>1</th>\n",
       "      <td>St Malo</td>\n",
       "      <td>48.649518</td>\n",
       "      <td>-2.026041</td>\n",
       "      <td>[1, 2, 3, 4, 5, 6, 7]</td>\n",
       "      <td>[15, 19, 18, 16, 16, 20, 17]</td>\n",
       "      <td>[47, 0, 9, 53, 48, 0, 0]</td>\n",
       "      <td>[Rain, Clouds, Clouds, Rain, Rain, Clouds, Clo...</td>\n",
       "      <td>15</td>\n",
       "    </tr>\n",
       "    <tr>\n",
       "      <th>2</th>\n",
       "      <td>Bayeux</td>\n",
       "      <td>49.276462</td>\n",
       "      <td>-0.702474</td>\n",
       "      <td>[1, 2, 3, 4, 5, 6, 7]</td>\n",
       "      <td>[17, 20, 21, 14, 19, 22, 20]</td>\n",
       "      <td>[65, 0, 38, 71, 46, 0, 0]</td>\n",
       "      <td>[Rain, Clouds, Clouds, Rain, Rain, Clouds, Clo...</td>\n",
       "      <td>15</td>\n",
       "    </tr>\n",
       "    <tr>\n",
       "      <th>3</th>\n",
       "      <td>Le Havre</td>\n",
       "      <td>49.493898</td>\n",
       "      <td>0.107973</td>\n",
       "      <td>[1, 2, 3, 4, 5, 6, 7]</td>\n",
       "      <td>[17, 18, 19, 14, 17, 18, 16]</td>\n",
       "      <td>[32, 0, 60, 98, 50, 0, 0]</td>\n",
       "      <td>[Clear, Clouds, Rain, Rain, Rain, Clouds, Clear]</td>\n",
       "      <td>13</td>\n",
       "    </tr>\n",
       "    <tr>\n",
       "      <th>4</th>\n",
       "      <td>Rouen</td>\n",
       "      <td>49.440459</td>\n",
       "      <td>1.093966</td>\n",
       "      <td>[1, 2, 3, 4, 5, 6, 7]</td>\n",
       "      <td>[19, 22, 22, 16, 18, 21, 21]</td>\n",
       "      <td>[24, 0, 18, 100, 70, 0, 0]</td>\n",
       "      <td>[Clear, Clouds, Clouds, Rain, Rain, Clouds, Cl...</td>\n",
       "      <td>16</td>\n",
       "    </tr>\n",
       "    <tr>\n",
       "      <th>5</th>\n",
       "      <td>Paris</td>\n",
       "      <td>48.858890</td>\n",
       "      <td>2.320041</td>\n",
       "      <td>[1, 2, 3, 4, 5, 6, 7]</td>\n",
       "      <td>[21, 23, 24, 22, 20, 23, 24]</td>\n",
       "      <td>[2, 0, 0, 81, 61, 0, 0]</td>\n",
       "      <td>[Clouds, Clouds, Clouds, Rain, Rain, Clouds, C...</td>\n",
       "      <td>20</td>\n",
       "    </tr>\n",
       "    <tr>\n",
       "      <th>6</th>\n",
       "      <td>Amiens</td>\n",
       "      <td>49.894171</td>\n",
       "      <td>2.295695</td>\n",
       "      <td>[1, 2, 3, 4, 5, 6, 7]</td>\n",
       "      <td>[20, 22, 23, 15, 18, 21, 21]</td>\n",
       "      <td>[37, 0, 0, 96, 86, 0, 0]</td>\n",
       "      <td>[Clouds, Clear, Clouds, Rain, Rain, Clouds, Cl...</td>\n",
       "      <td>16</td>\n",
       "    </tr>\n",
       "    <tr>\n",
       "      <th>7</th>\n",
       "      <td>Lille</td>\n",
       "      <td>50.636565</td>\n",
       "      <td>3.063528</td>\n",
       "      <td>[1, 2, 3, 4, 5, 6, 7]</td>\n",
       "      <td>[20, 22, 24, 19, 20, 21, 22]</td>\n",
       "      <td>[57, 0, 0, 61, 94, 0, 0]</td>\n",
       "      <td>[Rain, Clear, Clouds, Rain, Rain, Clouds, Clouds]</td>\n",
       "      <td>18</td>\n",
       "    </tr>\n",
       "    <tr>\n",
       "      <th>8</th>\n",
       "      <td>Strasbourg</td>\n",
       "      <td>48.584614</td>\n",
       "      <td>7.750713</td>\n",
       "      <td>[1, 2, 3, 4, 5, 6, 7]</td>\n",
       "      <td>[19, 23, 23, 29, 15, 24, 28]</td>\n",
       "      <td>[100, 16, 20, 21, 100, 20, 0]</td>\n",
       "      <td>[Rain, Clouds, Clouds, Clear, Rain, Rain, Clear]</td>\n",
       "      <td>19</td>\n",
       "    </tr>\n",
       "    <tr>\n",
       "      <th>9</th>\n",
       "      <td>Chateau du Haut Koenigsbourg</td>\n",
       "      <td>48.249523</td>\n",
       "      <td>7.345492</td>\n",
       "      <td>[1, 2, 3, 4, 5, 6, 7]</td>\n",
       "      <td>[15, 20, 22, 26, 12, 21, 26]</td>\n",
       "      <td>[100, 2, 18, 60, 100, 20, 0]</td>\n",
       "      <td>[Rain, Clouds, Clouds, Clear, Rain, Rain, Clear]</td>\n",
       "      <td>16</td>\n",
       "    </tr>\n",
       "    <tr>\n",
       "      <th>10</th>\n",
       "      <td>Colmar</td>\n",
       "      <td>48.077752</td>\n",
       "      <td>7.357964</td>\n",
       "      <td>[1, 2, 3, 4, 5, 6, 7]</td>\n",
       "      <td>[19, 23, 26, 30, 15, 24, 28]</td>\n",
       "      <td>[100, 2, 19, 62, 100, 0, 0]</td>\n",
       "      <td>[Rain, Clouds, Clouds, Rain, Rain, Clear, Clear]</td>\n",
       "      <td>19</td>\n",
       "    </tr>\n",
       "    <tr>\n",
       "      <th>11</th>\n",
       "      <td>Eguisheim</td>\n",
       "      <td>48.044797</td>\n",
       "      <td>7.307962</td>\n",
       "      <td>[1, 2, 3, 4, 5, 6, 7]</td>\n",
       "      <td>[19, 23, 25, 29, 15, 24, 28]</td>\n",
       "      <td>[100, 1, 20, 67, 100, 20, 0]</td>\n",
       "      <td>[Rain, Clouds, Clouds, Rain, Rain, Rain, Clear]</td>\n",
       "      <td>18</td>\n",
       "    </tr>\n",
       "    <tr>\n",
       "      <th>12</th>\n",
       "      <td>Besancon</td>\n",
       "      <td>47.238022</td>\n",
       "      <td>6.024362</td>\n",
       "      <td>[1, 2, 3, 4, 5, 6, 7]</td>\n",
       "      <td>[15, 22, 26, 29, 13, 23, 26]</td>\n",
       "      <td>[100, 16, 9, 100, 100, 0, 0]</td>\n",
       "      <td>[Rain, Clouds, Clouds, Rain, Rain, Clear, Clear]</td>\n",
       "      <td>17</td>\n",
       "    </tr>\n",
       "    <tr>\n",
       "      <th>13</th>\n",
       "      <td>Dijon</td>\n",
       "      <td>47.321581</td>\n",
       "      <td>5.041470</td>\n",
       "      <td>[1, 2, 3, 4, 5, 6, 7]</td>\n",
       "      <td>[16, 22, 25, 28, 18, 23, 26]</td>\n",
       "      <td>[100, 0, 0, 100, 100, 0, 0]</td>\n",
       "      <td>[Rain, Clear, Clear, Rain, Rain, Clear, Clear]</td>\n",
       "      <td>18</td>\n",
       "    </tr>\n",
       "    <tr>\n",
       "      <th>14</th>\n",
       "      <td>Annecy</td>\n",
       "      <td>45.899235</td>\n",
       "      <td>6.128885</td>\n",
       "      <td>[1, 2, 3, 4, 5, 6, 7]</td>\n",
       "      <td>[18, 18, 27, 30, 17, 24, 29]</td>\n",
       "      <td>[100, 96, 21, 95, 93, 9, 0]</td>\n",
       "      <td>[Rain, Rain, Rain, Rain, Rain, Clouds, Clear]</td>\n",
       "      <td>17</td>\n",
       "    </tr>\n",
       "    <tr>\n",
       "      <th>15</th>\n",
       "      <td>Grenoble</td>\n",
       "      <td>45.187560</td>\n",
       "      <td>5.735782</td>\n",
       "      <td>[1, 2, 3, 4, 5, 6, 7]</td>\n",
       "      <td>[22, 19, 28, 32, 20, 27, 32]</td>\n",
       "      <td>[87, 100, 0, 55, 47, 13, 0]</td>\n",
       "      <td>[Rain, Rain, Clouds, Rain, Rain, Clear, Clear]</td>\n",
       "      <td>21</td>\n",
       "    </tr>\n",
       "    <tr>\n",
       "      <th>16</th>\n",
       "      <td>Lyon</td>\n",
       "      <td>45.757814</td>\n",
       "      <td>4.832011</td>\n",
       "      <td>[1, 2, 3, 4, 5, 6, 7]</td>\n",
       "      <td>[17, 22, 26, 29, 16, 25, 29]</td>\n",
       "      <td>[100, 46, 0, 74, 55, 0, 0]</td>\n",
       "      <td>[Rain, Rain, Clear, Rain, Rain, Clear, Clear]</td>\n",
       "      <td>19</td>\n",
       "    </tr>\n",
       "    <tr>\n",
       "      <th>17</th>\n",
       "      <td>Gorges du Verdon</td>\n",
       "      <td>43.846218</td>\n",
       "      <td>6.513181</td>\n",
       "      <td>[1, 2, 3, 4, 5, 6, 7]</td>\n",
       "      <td>[29, 24, 27, 28, 28, 28, 31]</td>\n",
       "      <td>[43, 100, 0, 54, 24, 16, 0]</td>\n",
       "      <td>[Clear, Rain, Clear, Rain, Clear, Clear, Clear]</td>\n",
       "      <td>24</td>\n",
       "    </tr>\n",
       "    <tr>\n",
       "      <th>18</th>\n",
       "      <td>Bormes les Mimosas</td>\n",
       "      <td>43.157217</td>\n",
       "      <td>6.329254</td>\n",
       "      <td>[1, 2, 3, 4, 5, 6, 7]</td>\n",
       "      <td>[29, 23, 29, 28, 27, 27, 29]</td>\n",
       "      <td>[3, 93, 0, 56, 0, 0, 0]</td>\n",
       "      <td>[Clear, Rain, Clear, Rain, Clouds, Clear, Clear]</td>\n",
       "      <td>25</td>\n",
       "    </tr>\n",
       "    <tr>\n",
       "      <th>19</th>\n",
       "      <td>Cassis</td>\n",
       "      <td>43.214036</td>\n",
       "      <td>5.539632</td>\n",
       "      <td>[1, 2, 3, 4, 5, 6, 7]</td>\n",
       "      <td>[29, 26, 28, 26, 28, 28, 30]</td>\n",
       "      <td>[10, 67, 0, 45, 0, 0, 0]</td>\n",
       "      <td>[Clouds, Rain, Clear, Rain, Clear, Clear, Clear]</td>\n",
       "      <td>26</td>\n",
       "    </tr>\n",
       "    <tr>\n",
       "      <th>20</th>\n",
       "      <td>Marseille</td>\n",
       "      <td>43.296174</td>\n",
       "      <td>5.369953</td>\n",
       "      <td>[1, 2, 3, 4, 5, 6, 7]</td>\n",
       "      <td>[29, 26, 28, 26, 28, 28, 30]</td>\n",
       "      <td>[12, 79, 0, 36, 0, 0, 0]</td>\n",
       "      <td>[Clouds, Rain, Clear, Rain, Clear, Clear, Clear]</td>\n",
       "      <td>26</td>\n",
       "    </tr>\n",
       "    <tr>\n",
       "      <th>21</th>\n",
       "      <td>Aix en Provence</td>\n",
       "      <td>43.529842</td>\n",
       "      <td>5.447474</td>\n",
       "      <td>[1, 2, 3, 4, 5, 6, 7]</td>\n",
       "      <td>[31, 28, 29, 29, 29, 29, 33]</td>\n",
       "      <td>[28, 76, 0, 40, 0, 0, 0]</td>\n",
       "      <td>[Clouds, Rain, Clear, Rain, Clear, Clear, Clear]</td>\n",
       "      <td>27</td>\n",
       "    </tr>\n",
       "    <tr>\n",
       "      <th>22</th>\n",
       "      <td>Avignon</td>\n",
       "      <td>43.949249</td>\n",
       "      <td>4.805901</td>\n",
       "      <td>[1, 2, 3, 4, 5, 6, 7]</td>\n",
       "      <td>[29, 25, 29, 31, 27, 28, 34]</td>\n",
       "      <td>[15, 99, 0, 2, 0, 0, 0]</td>\n",
       "      <td>[Clouds, Rain, Clear, Clouds, Clear, Clear, Cl...</td>\n",
       "      <td>27</td>\n",
       "    </tr>\n",
       "    <tr>\n",
       "      <th>23</th>\n",
       "      <td>Uzes</td>\n",
       "      <td>44.012128</td>\n",
       "      <td>4.419672</td>\n",
       "      <td>[1, 2, 3, 4, 5, 6, 7]</td>\n",
       "      <td>[28, 26, 30, 30, 27, 29, 34]</td>\n",
       "      <td>[15, 96, 0, 0, 1, 0, 0]</td>\n",
       "      <td>[Clouds, Rain, Clear, Clouds, Clear, Clear, Cl...</td>\n",
       "      <td>27</td>\n",
       "    </tr>\n",
       "    <tr>\n",
       "      <th>24</th>\n",
       "      <td>Nimes</td>\n",
       "      <td>43.837425</td>\n",
       "      <td>4.360069</td>\n",
       "      <td>[1, 2, 3, 4, 5, 6, 7]</td>\n",
       "      <td>[29, 27, 29, 29, 28, 29, 34]</td>\n",
       "      <td>[11, 95, 0, 0, 1, 0, 0]</td>\n",
       "      <td>[Clouds, Rain, Clear, Clouds, Clear, Clear, Cl...</td>\n",
       "      <td>27</td>\n",
       "    </tr>\n",
       "    <tr>\n",
       "      <th>25</th>\n",
       "      <td>Aigues Mortes</td>\n",
       "      <td>43.565823</td>\n",
       "      <td>4.191284</td>\n",
       "      <td>[1, 2, 3, 4, 5, 6, 7]</td>\n",
       "      <td>[28, 26, 27, 25, 27, 27, 30]</td>\n",
       "      <td>[7, 85, 0, 0, 1, 0, 0]</td>\n",
       "      <td>[Clouds, Rain, Clear, Clouds, Clear, Clear, Cl...</td>\n",
       "      <td>25</td>\n",
       "    </tr>\n",
       "    <tr>\n",
       "      <th>26</th>\n",
       "      <td>Saintes Maries de la mer</td>\n",
       "      <td>43.452277</td>\n",
       "      <td>4.428717</td>\n",
       "      <td>[1, 2, 3, 4, 5, 6, 7]</td>\n",
       "      <td>[27, 25, 26, 24, 27, 26, 30]</td>\n",
       "      <td>[1, 93, 0, 1, 0, 0, 0]</td>\n",
       "      <td>[Clouds, Rain, Clear, Clouds, Clear, Clear, Cl...</td>\n",
       "      <td>25</td>\n",
       "    </tr>\n",
       "    <tr>\n",
       "      <th>27</th>\n",
       "      <td>Collioure</td>\n",
       "      <td>42.525050</td>\n",
       "      <td>3.083155</td>\n",
       "      <td>[1, 2, 3, 4, 5, 6, 7]</td>\n",
       "      <td>[26, 27, 28, 26, 24, 27, 28]</td>\n",
       "      <td>[36, 56, 0, 8, 0, 0, 0]</td>\n",
       "      <td>[Rain, Rain, Clear, Clouds, Clear, Clear, Clear]</td>\n",
       "      <td>25</td>\n",
       "    </tr>\n",
       "    <tr>\n",
       "      <th>28</th>\n",
       "      <td>Carcassonne</td>\n",
       "      <td>43.213036</td>\n",
       "      <td>2.349107</td>\n",
       "      <td>[1, 2, 3, 4, 5, 6, 7]</td>\n",
       "      <td>[20, 24, 29, 21, 21, 28, 33]</td>\n",
       "      <td>[54, 62, 0, 52, 27, 0, 22]</td>\n",
       "      <td>[Rain, Rain, Clear, Rain, Rain, Clear, Rain]</td>\n",
       "      <td>22</td>\n",
       "    </tr>\n",
       "    <tr>\n",
       "      <th>29</th>\n",
       "      <td>Ariege</td>\n",
       "      <td>42.963900</td>\n",
       "      <td>1.605381</td>\n",
       "      <td>[1, 2, 3, 4, 5, 6, 7]</td>\n",
       "      <td>[15, 22, 27, 18, 15, 26, 30]</td>\n",
       "      <td>[97, 97, 2, 79, 59, 0, 48]</td>\n",
       "      <td>[Rain, Rain, Clear, Rain, Rain, Clear, Rain]</td>\n",
       "      <td>16</td>\n",
       "    </tr>\n",
       "    <tr>\n",
       "      <th>30</th>\n",
       "      <td>Toulouse</td>\n",
       "      <td>43.604462</td>\n",
       "      <td>1.444247</td>\n",
       "      <td>[1, 2, 3, 4, 5, 6, 7]</td>\n",
       "      <td>[14, 22, 27, 20, 18, 26, 30]</td>\n",
       "      <td>[81, 57, 0, 96, 41, 0, 52]</td>\n",
       "      <td>[Rain, Clouds, Clear, Rain, Clouds, Clear, Rain]</td>\n",
       "      <td>17</td>\n",
       "    </tr>\n",
       "    <tr>\n",
       "      <th>31</th>\n",
       "      <td>Montauban</td>\n",
       "      <td>44.017584</td>\n",
       "      <td>1.354999</td>\n",
       "      <td>[1, 2, 3, 4, 5, 6, 7]</td>\n",
       "      <td>[15, 22, 26, 17, 20, 26, 29]</td>\n",
       "      <td>[93, 22, 0, 97, 52, 0, 48]</td>\n",
       "      <td>[Rain, Clouds, Clear, Rain, Rain, Clear, Rain]</td>\n",
       "      <td>17</td>\n",
       "    </tr>\n",
       "    <tr>\n",
       "      <th>32</th>\n",
       "      <td>Biarritz</td>\n",
       "      <td>43.483252</td>\n",
       "      <td>-1.559278</td>\n",
       "      <td>[1, 2, 3, 4, 5, 6, 7]</td>\n",
       "      <td>[16, 21, 19, 16, 18, 24, 22]</td>\n",
       "      <td>[37, 0, 100, 100, 27, 0, 100]</td>\n",
       "      <td>[Rain, Clouds, Rain, Rain, Rain, Clouds, Rain]</td>\n",
       "      <td>14</td>\n",
       "    </tr>\n",
       "    <tr>\n",
       "      <th>33</th>\n",
       "      <td>Bayonne</td>\n",
       "      <td>43.493338</td>\n",
       "      <td>-1.475099</td>\n",
       "      <td>[1, 2, 3, 4, 5, 6, 7]</td>\n",
       "      <td>[16, 22, 20, 16, 18, 25, 23]</td>\n",
       "      <td>[36, 0, 100, 100, 28, 0, 100]</td>\n",
       "      <td>[Rain, Clear, Rain, Rain, Rain, Clouds, Rain]</td>\n",
       "      <td>14</td>\n",
       "    </tr>\n",
       "    <tr>\n",
       "      <th>34</th>\n",
       "      <td>La Rochelle</td>\n",
       "      <td>46.159113</td>\n",
       "      <td>-1.152043</td>\n",
       "      <td>[1, 2, 3, 4, 5, 6, 7]</td>\n",
       "      <td>[17, 18, 19, 14, 17, 18, 21]</td>\n",
       "      <td>[0, 0, 2, 98, 35, 0, 1]</td>\n",
       "      <td>[Clear, Clear, Clouds, Rain, Rain, Clear, Clouds]</td>\n",
       "      <td>15</td>\n",
       "    </tr>\n",
       "  </tbody>\n",
       "</table>\n",
       "</div>"
      ],
      "text/plain": [
       "                           ville        lat       lon                jour_+x  \\\n",
       "0              Mont Saint Michel  48.635954 -1.511460  [1, 2, 3, 4, 5, 6, 7]   \n",
       "1                        St Malo  48.649518 -2.026041  [1, 2, 3, 4, 5, 6, 7]   \n",
       "2                         Bayeux  49.276462 -0.702474  [1, 2, 3, 4, 5, 6, 7]   \n",
       "3                       Le Havre  49.493898  0.107973  [1, 2, 3, 4, 5, 6, 7]   \n",
       "4                          Rouen  49.440459  1.093966  [1, 2, 3, 4, 5, 6, 7]   \n",
       "5                          Paris  48.858890  2.320041  [1, 2, 3, 4, 5, 6, 7]   \n",
       "6                         Amiens  49.894171  2.295695  [1, 2, 3, 4, 5, 6, 7]   \n",
       "7                          Lille  50.636565  3.063528  [1, 2, 3, 4, 5, 6, 7]   \n",
       "8                     Strasbourg  48.584614  7.750713  [1, 2, 3, 4, 5, 6, 7]   \n",
       "9   Chateau du Haut Koenigsbourg  48.249523  7.345492  [1, 2, 3, 4, 5, 6, 7]   \n",
       "10                        Colmar  48.077752  7.357964  [1, 2, 3, 4, 5, 6, 7]   \n",
       "11                     Eguisheim  48.044797  7.307962  [1, 2, 3, 4, 5, 6, 7]   \n",
       "12                      Besancon  47.238022  6.024362  [1, 2, 3, 4, 5, 6, 7]   \n",
       "13                         Dijon  47.321581  5.041470  [1, 2, 3, 4, 5, 6, 7]   \n",
       "14                        Annecy  45.899235  6.128885  [1, 2, 3, 4, 5, 6, 7]   \n",
       "15                      Grenoble  45.187560  5.735782  [1, 2, 3, 4, 5, 6, 7]   \n",
       "16                          Lyon  45.757814  4.832011  [1, 2, 3, 4, 5, 6, 7]   \n",
       "17              Gorges du Verdon  43.846218  6.513181  [1, 2, 3, 4, 5, 6, 7]   \n",
       "18            Bormes les Mimosas  43.157217  6.329254  [1, 2, 3, 4, 5, 6, 7]   \n",
       "19                        Cassis  43.214036  5.539632  [1, 2, 3, 4, 5, 6, 7]   \n",
       "20                     Marseille  43.296174  5.369953  [1, 2, 3, 4, 5, 6, 7]   \n",
       "21               Aix en Provence  43.529842  5.447474  [1, 2, 3, 4, 5, 6, 7]   \n",
       "22                       Avignon  43.949249  4.805901  [1, 2, 3, 4, 5, 6, 7]   \n",
       "23                          Uzes  44.012128  4.419672  [1, 2, 3, 4, 5, 6, 7]   \n",
       "24                         Nimes  43.837425  4.360069  [1, 2, 3, 4, 5, 6, 7]   \n",
       "25                 Aigues Mortes  43.565823  4.191284  [1, 2, 3, 4, 5, 6, 7]   \n",
       "26      Saintes Maries de la mer  43.452277  4.428717  [1, 2, 3, 4, 5, 6, 7]   \n",
       "27                     Collioure  42.525050  3.083155  [1, 2, 3, 4, 5, 6, 7]   \n",
       "28                   Carcassonne  43.213036  2.349107  [1, 2, 3, 4, 5, 6, 7]   \n",
       "29                        Ariege  42.963900  1.605381  [1, 2, 3, 4, 5, 6, 7]   \n",
       "30                      Toulouse  43.604462  1.444247  [1, 2, 3, 4, 5, 6, 7]   \n",
       "31                     Montauban  44.017584  1.354999  [1, 2, 3, 4, 5, 6, 7]   \n",
       "32                      Biarritz  43.483252 -1.559278  [1, 2, 3, 4, 5, 6, 7]   \n",
       "33                       Bayonne  43.493338 -1.475099  [1, 2, 3, 4, 5, 6, 7]   \n",
       "34                   La Rochelle  46.159113 -1.152043  [1, 2, 3, 4, 5, 6, 7]   \n",
       "\n",
       "           temperature_ressentie           probabilite_de_pluie  \\\n",
       "0   [17, 20, 20, 17, 19, 21, 19]      [52, 0, 15, 62, 37, 0, 0]   \n",
       "1   [15, 19, 18, 16, 16, 20, 17]       [47, 0, 9, 53, 48, 0, 0]   \n",
       "2   [17, 20, 21, 14, 19, 22, 20]      [65, 0, 38, 71, 46, 0, 0]   \n",
       "3   [17, 18, 19, 14, 17, 18, 16]      [32, 0, 60, 98, 50, 0, 0]   \n",
       "4   [19, 22, 22, 16, 18, 21, 21]     [24, 0, 18, 100, 70, 0, 0]   \n",
       "5   [21, 23, 24, 22, 20, 23, 24]        [2, 0, 0, 81, 61, 0, 0]   \n",
       "6   [20, 22, 23, 15, 18, 21, 21]       [37, 0, 0, 96, 86, 0, 0]   \n",
       "7   [20, 22, 24, 19, 20, 21, 22]       [57, 0, 0, 61, 94, 0, 0]   \n",
       "8   [19, 23, 23, 29, 15, 24, 28]  [100, 16, 20, 21, 100, 20, 0]   \n",
       "9   [15, 20, 22, 26, 12, 21, 26]   [100, 2, 18, 60, 100, 20, 0]   \n",
       "10  [19, 23, 26, 30, 15, 24, 28]    [100, 2, 19, 62, 100, 0, 0]   \n",
       "11  [19, 23, 25, 29, 15, 24, 28]   [100, 1, 20, 67, 100, 20, 0]   \n",
       "12  [15, 22, 26, 29, 13, 23, 26]   [100, 16, 9, 100, 100, 0, 0]   \n",
       "13  [16, 22, 25, 28, 18, 23, 26]    [100, 0, 0, 100, 100, 0, 0]   \n",
       "14  [18, 18, 27, 30, 17, 24, 29]    [100, 96, 21, 95, 93, 9, 0]   \n",
       "15  [22, 19, 28, 32, 20, 27, 32]    [87, 100, 0, 55, 47, 13, 0]   \n",
       "16  [17, 22, 26, 29, 16, 25, 29]     [100, 46, 0, 74, 55, 0, 0]   \n",
       "17  [29, 24, 27, 28, 28, 28, 31]    [43, 100, 0, 54, 24, 16, 0]   \n",
       "18  [29, 23, 29, 28, 27, 27, 29]        [3, 93, 0, 56, 0, 0, 0]   \n",
       "19  [29, 26, 28, 26, 28, 28, 30]       [10, 67, 0, 45, 0, 0, 0]   \n",
       "20  [29, 26, 28, 26, 28, 28, 30]       [12, 79, 0, 36, 0, 0, 0]   \n",
       "21  [31, 28, 29, 29, 29, 29, 33]       [28, 76, 0, 40, 0, 0, 0]   \n",
       "22  [29, 25, 29, 31, 27, 28, 34]        [15, 99, 0, 2, 0, 0, 0]   \n",
       "23  [28, 26, 30, 30, 27, 29, 34]        [15, 96, 0, 0, 1, 0, 0]   \n",
       "24  [29, 27, 29, 29, 28, 29, 34]        [11, 95, 0, 0, 1, 0, 0]   \n",
       "25  [28, 26, 27, 25, 27, 27, 30]         [7, 85, 0, 0, 1, 0, 0]   \n",
       "26  [27, 25, 26, 24, 27, 26, 30]         [1, 93, 0, 1, 0, 0, 0]   \n",
       "27  [26, 27, 28, 26, 24, 27, 28]        [36, 56, 0, 8, 0, 0, 0]   \n",
       "28  [20, 24, 29, 21, 21, 28, 33]     [54, 62, 0, 52, 27, 0, 22]   \n",
       "29  [15, 22, 27, 18, 15, 26, 30]     [97, 97, 2, 79, 59, 0, 48]   \n",
       "30  [14, 22, 27, 20, 18, 26, 30]     [81, 57, 0, 96, 41, 0, 52]   \n",
       "31  [15, 22, 26, 17, 20, 26, 29]     [93, 22, 0, 97, 52, 0, 48]   \n",
       "32  [16, 21, 19, 16, 18, 24, 22]  [37, 0, 100, 100, 27, 0, 100]   \n",
       "33  [16, 22, 20, 16, 18, 25, 23]  [36, 0, 100, 100, 28, 0, 100]   \n",
       "34  [17, 18, 19, 14, 17, 18, 21]        [0, 0, 2, 98, 35, 0, 1]   \n",
       "\n",
       "                                     meteo_principale  score  \n",
       "0   [Rain, Clouds, Clouds, Rain, Rain, Clouds, Clear]     16  \n",
       "1   [Rain, Clouds, Clouds, Rain, Rain, Clouds, Clo...     15  \n",
       "2   [Rain, Clouds, Clouds, Rain, Rain, Clouds, Clo...     15  \n",
       "3    [Clear, Clouds, Rain, Rain, Rain, Clouds, Clear]     13  \n",
       "4   [Clear, Clouds, Clouds, Rain, Rain, Clouds, Cl...     16  \n",
       "5   [Clouds, Clouds, Clouds, Rain, Rain, Clouds, C...     20  \n",
       "6   [Clouds, Clear, Clouds, Rain, Rain, Clouds, Cl...     16  \n",
       "7   [Rain, Clear, Clouds, Rain, Rain, Clouds, Clouds]     18  \n",
       "8    [Rain, Clouds, Clouds, Clear, Rain, Rain, Clear]     19  \n",
       "9    [Rain, Clouds, Clouds, Clear, Rain, Rain, Clear]     16  \n",
       "10   [Rain, Clouds, Clouds, Rain, Rain, Clear, Clear]     19  \n",
       "11    [Rain, Clouds, Clouds, Rain, Rain, Rain, Clear]     18  \n",
       "12   [Rain, Clouds, Clouds, Rain, Rain, Clear, Clear]     17  \n",
       "13     [Rain, Clear, Clear, Rain, Rain, Clear, Clear]     18  \n",
       "14      [Rain, Rain, Rain, Rain, Rain, Clouds, Clear]     17  \n",
       "15     [Rain, Rain, Clouds, Rain, Rain, Clear, Clear]     21  \n",
       "16      [Rain, Rain, Clear, Rain, Rain, Clear, Clear]     19  \n",
       "17    [Clear, Rain, Clear, Rain, Clear, Clear, Clear]     24  \n",
       "18   [Clear, Rain, Clear, Rain, Clouds, Clear, Clear]     25  \n",
       "19   [Clouds, Rain, Clear, Rain, Clear, Clear, Clear]     26  \n",
       "20   [Clouds, Rain, Clear, Rain, Clear, Clear, Clear]     26  \n",
       "21   [Clouds, Rain, Clear, Rain, Clear, Clear, Clear]     27  \n",
       "22  [Clouds, Rain, Clear, Clouds, Clear, Clear, Cl...     27  \n",
       "23  [Clouds, Rain, Clear, Clouds, Clear, Clear, Cl...     27  \n",
       "24  [Clouds, Rain, Clear, Clouds, Clear, Clear, Cl...     27  \n",
       "25  [Clouds, Rain, Clear, Clouds, Clear, Clear, Cl...     25  \n",
       "26  [Clouds, Rain, Clear, Clouds, Clear, Clear, Cl...     25  \n",
       "27   [Rain, Rain, Clear, Clouds, Clear, Clear, Clear]     25  \n",
       "28       [Rain, Rain, Clear, Rain, Rain, Clear, Rain]     22  \n",
       "29       [Rain, Rain, Clear, Rain, Rain, Clear, Rain]     16  \n",
       "30   [Rain, Clouds, Clear, Rain, Clouds, Clear, Rain]     17  \n",
       "31     [Rain, Clouds, Clear, Rain, Rain, Clear, Rain]     17  \n",
       "32     [Rain, Clouds, Rain, Rain, Rain, Clouds, Rain]     14  \n",
       "33      [Rain, Clear, Rain, Rain, Rain, Clouds, Rain]     14  \n",
       "34  [Clear, Clear, Clouds, Rain, Rain, Clear, Clouds]     15  "
      ]
     },
     "execution_count": 18,
     "metadata": {},
     "output_type": "execute_result"
    }
   ],
   "source": [
    "df_gps_weather = df_gps_weather.set_index(\"ville\")\n",
    "df_gps_weather = df_gps_weather.reindex(villes)\n",
    "df_gps_weather = df_gps_weather.reset_index()\n",
    "df_gps_weather = df_gps_weather.rename(columns={\"index\": \"id\"})\n",
    "df_gps_weather\n"
   ]
  },
  {
   "cell_type": "code",
   "execution_count": 19,
   "metadata": {},
   "outputs": [],
   "source": [
    "df_gps_weather.to_csv(\"df_gps_weather.csv\", index=False)\n"
   ]
  },
  {
   "cell_type": "markdown",
   "metadata": {},
   "source": [
    "### Plotly to display the best destinations on a map"
   ]
  },
  {
   "cell_type": "code",
   "execution_count": 20,
   "metadata": {},
   "outputs": [
    {
     "data": {
      "application/vnd.plotly.v1+json": {
       "config": {
        "plotlyServerURL": "https://plot.ly"
       },
       "data": [
        {
         "customdata": [
          [
           "Rain",
           52,
           17
          ],
          [
           "Clouds",
           0,
           20
          ],
          [
           "Clouds",
           15,
           20
          ],
          [
           "Rain",
           62,
           17
          ],
          [
           "Rain",
           37,
           19
          ],
          [
           "Clouds",
           0,
           21
          ],
          [
           "Clear",
           0,
           19
          ],
          [
           "Rain",
           47,
           15
          ],
          [
           "Clouds",
           0,
           19
          ],
          [
           "Clouds",
           9,
           18
          ],
          [
           "Rain",
           53,
           16
          ],
          [
           "Rain",
           48,
           16
          ],
          [
           "Clouds",
           0,
           20
          ],
          [
           "Clouds",
           0,
           17
          ],
          [
           "Rain",
           65,
           17
          ],
          [
           "Clouds",
           0,
           20
          ],
          [
           "Clouds",
           38,
           21
          ],
          [
           "Rain",
           71,
           14
          ],
          [
           "Rain",
           46,
           19
          ],
          [
           "Clouds",
           0,
           22
          ],
          [
           "Clouds",
           0,
           20
          ],
          [
           "Clear",
           32,
           17
          ],
          [
           "Clouds",
           0,
           18
          ],
          [
           "Rain",
           60,
           19
          ],
          [
           "Rain",
           98,
           14
          ],
          [
           "Rain",
           50,
           17
          ],
          [
           "Clouds",
           0,
           18
          ],
          [
           "Clear",
           0,
           16
          ],
          [
           "Clear",
           24,
           19
          ],
          [
           "Clouds",
           0,
           22
          ],
          [
           "Clouds",
           18,
           22
          ],
          [
           "Rain",
           100,
           16
          ],
          [
           "Rain",
           70,
           18
          ],
          [
           "Clouds",
           0,
           21
          ],
          [
           "Clear",
           0,
           21
          ],
          [
           "Clouds",
           2,
           21
          ],
          [
           "Clouds",
           0,
           23
          ],
          [
           "Clouds",
           0,
           24
          ],
          [
           "Rain",
           81,
           22
          ],
          [
           "Rain",
           61,
           20
          ],
          [
           "Clouds",
           0,
           23
          ],
          [
           "Clear",
           0,
           24
          ],
          [
           "Clouds",
           37,
           20
          ],
          [
           "Clear",
           0,
           22
          ],
          [
           "Clouds",
           0,
           23
          ],
          [
           "Rain",
           96,
           15
          ],
          [
           "Rain",
           86,
           18
          ],
          [
           "Clouds",
           0,
           21
          ],
          [
           "Clear",
           0,
           21
          ],
          [
           "Rain",
           57,
           20
          ],
          [
           "Clear",
           0,
           22
          ],
          [
           "Clouds",
           0,
           24
          ],
          [
           "Rain",
           61,
           19
          ],
          [
           "Rain",
           94,
           20
          ],
          [
           "Clouds",
           0,
           21
          ],
          [
           "Clouds",
           0,
           22
          ],
          [
           "Rain",
           100,
           19
          ],
          [
           "Clouds",
           16,
           23
          ],
          [
           "Clouds",
           20,
           23
          ],
          [
           "Clear",
           21,
           29
          ],
          [
           "Rain",
           100,
           15
          ],
          [
           "Rain",
           20,
           24
          ],
          [
           "Clear",
           0,
           28
          ],
          [
           "Rain",
           100,
           15
          ],
          [
           "Clouds",
           2,
           20
          ],
          [
           "Clouds",
           18,
           22
          ],
          [
           "Clear",
           60,
           26
          ],
          [
           "Rain",
           100,
           12
          ],
          [
           "Rain",
           20,
           21
          ],
          [
           "Clear",
           0,
           26
          ],
          [
           "Rain",
           100,
           19
          ],
          [
           "Clouds",
           2,
           23
          ],
          [
           "Clouds",
           19,
           26
          ],
          [
           "Rain",
           62,
           30
          ],
          [
           "Rain",
           100,
           15
          ],
          [
           "Clear",
           0,
           24
          ],
          [
           "Clear",
           0,
           28
          ],
          [
           "Rain",
           100,
           19
          ],
          [
           "Clouds",
           1,
           23
          ],
          [
           "Clouds",
           20,
           25
          ],
          [
           "Rain",
           67,
           29
          ],
          [
           "Rain",
           100,
           15
          ],
          [
           "Rain",
           20,
           24
          ],
          [
           "Clear",
           0,
           28
          ],
          [
           "Rain",
           100,
           15
          ],
          [
           "Clouds",
           16,
           22
          ],
          [
           "Clouds",
           9,
           26
          ],
          [
           "Rain",
           100,
           29
          ],
          [
           "Rain",
           100,
           13
          ],
          [
           "Clear",
           0,
           23
          ],
          [
           "Clear",
           0,
           26
          ],
          [
           "Rain",
           100,
           16
          ],
          [
           "Clear",
           0,
           22
          ],
          [
           "Clear",
           0,
           25
          ],
          [
           "Rain",
           100,
           28
          ],
          [
           "Rain",
           100,
           18
          ],
          [
           "Clear",
           0,
           23
          ],
          [
           "Clear",
           0,
           26
          ],
          [
           "Rain",
           100,
           18
          ],
          [
           "Rain",
           96,
           18
          ],
          [
           "Rain",
           21,
           27
          ],
          [
           "Rain",
           95,
           30
          ],
          [
           "Rain",
           93,
           17
          ],
          [
           "Clouds",
           9,
           24
          ],
          [
           "Clear",
           0,
           29
          ],
          [
           "Rain",
           87,
           22
          ],
          [
           "Rain",
           100,
           19
          ],
          [
           "Clouds",
           0,
           28
          ],
          [
           "Rain",
           55,
           32
          ],
          [
           "Rain",
           47,
           20
          ],
          [
           "Clear",
           13,
           27
          ],
          [
           "Clear",
           0,
           32
          ],
          [
           "Rain",
           100,
           17
          ],
          [
           "Rain",
           46,
           22
          ],
          [
           "Clear",
           0,
           26
          ],
          [
           "Rain",
           74,
           29
          ],
          [
           "Rain",
           55,
           16
          ],
          [
           "Clear",
           0,
           25
          ],
          [
           "Clear",
           0,
           29
          ],
          [
           "Clear",
           43,
           29
          ],
          [
           "Rain",
           100,
           24
          ],
          [
           "Clear",
           0,
           27
          ],
          [
           "Rain",
           54,
           28
          ],
          [
           "Clear",
           24,
           28
          ],
          [
           "Clear",
           16,
           28
          ],
          [
           "Clear",
           0,
           31
          ],
          [
           "Clear",
           3,
           29
          ],
          [
           "Rain",
           93,
           23
          ],
          [
           "Clear",
           0,
           29
          ],
          [
           "Rain",
           56,
           28
          ],
          [
           "Clouds",
           0,
           27
          ],
          [
           "Clear",
           0,
           27
          ],
          [
           "Clear",
           0,
           29
          ],
          [
           "Clouds",
           10,
           29
          ],
          [
           "Rain",
           67,
           26
          ],
          [
           "Clear",
           0,
           28
          ],
          [
           "Rain",
           45,
           26
          ],
          [
           "Clear",
           0,
           28
          ],
          [
           "Clear",
           0,
           28
          ],
          [
           "Clear",
           0,
           30
          ],
          [
           "Clouds",
           12,
           29
          ],
          [
           "Rain",
           79,
           26
          ],
          [
           "Clear",
           0,
           28
          ],
          [
           "Rain",
           36,
           26
          ],
          [
           "Clear",
           0,
           28
          ],
          [
           "Clear",
           0,
           28
          ],
          [
           "Clear",
           0,
           30
          ],
          [
           "Clouds",
           28,
           31
          ],
          [
           "Rain",
           76,
           28
          ],
          [
           "Clear",
           0,
           29
          ],
          [
           "Rain",
           40,
           29
          ],
          [
           "Clear",
           0,
           29
          ],
          [
           "Clear",
           0,
           29
          ],
          [
           "Clear",
           0,
           33
          ],
          [
           "Clouds",
           15,
           29
          ],
          [
           "Rain",
           99,
           25
          ],
          [
           "Clear",
           0,
           29
          ],
          [
           "Clouds",
           2,
           31
          ],
          [
           "Clear",
           0,
           27
          ],
          [
           "Clear",
           0,
           28
          ],
          [
           "Clear",
           0,
           34
          ],
          [
           "Clouds",
           15,
           28
          ],
          [
           "Rain",
           96,
           26
          ],
          [
           "Clear",
           0,
           30
          ],
          [
           "Clouds",
           0,
           30
          ],
          [
           "Clear",
           1,
           27
          ],
          [
           "Clear",
           0,
           29
          ],
          [
           "Clear",
           0,
           34
          ],
          [
           "Clouds",
           11,
           29
          ],
          [
           "Rain",
           95,
           27
          ],
          [
           "Clear",
           0,
           29
          ],
          [
           "Clouds",
           0,
           29
          ],
          [
           "Clear",
           1,
           28
          ],
          [
           "Clear",
           0,
           29
          ],
          [
           "Clear",
           0,
           34
          ],
          [
           "Clouds",
           7,
           28
          ],
          [
           "Rain",
           85,
           26
          ],
          [
           "Clear",
           0,
           27
          ],
          [
           "Clouds",
           0,
           25
          ],
          [
           "Clear",
           1,
           27
          ],
          [
           "Clear",
           0,
           27
          ],
          [
           "Clear",
           0,
           30
          ],
          [
           "Clouds",
           1,
           27
          ],
          [
           "Rain",
           93,
           25
          ],
          [
           "Clear",
           0,
           26
          ],
          [
           "Clouds",
           1,
           24
          ],
          [
           "Clear",
           0,
           27
          ],
          [
           "Clear",
           0,
           26
          ],
          [
           "Clear",
           0,
           30
          ],
          [
           "Rain",
           36,
           26
          ],
          [
           "Rain",
           56,
           27
          ],
          [
           "Clear",
           0,
           28
          ],
          [
           "Clouds",
           8,
           26
          ],
          [
           "Clear",
           0,
           24
          ],
          [
           "Clear",
           0,
           27
          ],
          [
           "Clear",
           0,
           28
          ],
          [
           "Rain",
           54,
           20
          ],
          [
           "Rain",
           62,
           24
          ],
          [
           "Clear",
           0,
           29
          ],
          [
           "Rain",
           52,
           21
          ],
          [
           "Rain",
           27,
           21
          ],
          [
           "Clear",
           0,
           28
          ],
          [
           "Rain",
           22,
           33
          ],
          [
           "Rain",
           97,
           15
          ],
          [
           "Rain",
           97,
           22
          ],
          [
           "Clear",
           2,
           27
          ],
          [
           "Rain",
           79,
           18
          ],
          [
           "Rain",
           59,
           15
          ],
          [
           "Clear",
           0,
           26
          ],
          [
           "Rain",
           48,
           30
          ],
          [
           "Rain",
           81,
           14
          ],
          [
           "Clouds",
           57,
           22
          ],
          [
           "Clear",
           0,
           27
          ],
          [
           "Rain",
           96,
           20
          ],
          [
           "Clouds",
           41,
           18
          ],
          [
           "Clear",
           0,
           26
          ],
          [
           "Rain",
           52,
           30
          ],
          [
           "Rain",
           93,
           15
          ],
          [
           "Clouds",
           22,
           22
          ],
          [
           "Clear",
           0,
           26
          ],
          [
           "Rain",
           97,
           17
          ],
          [
           "Rain",
           52,
           20
          ],
          [
           "Clear",
           0,
           26
          ],
          [
           "Rain",
           48,
           29
          ],
          [
           "Rain",
           37,
           16
          ],
          [
           "Clouds",
           0,
           21
          ],
          [
           "Rain",
           100,
           19
          ],
          [
           "Rain",
           100,
           16
          ],
          [
           "Rain",
           27,
           18
          ],
          [
           "Clouds",
           0,
           24
          ],
          [
           "Rain",
           100,
           22
          ],
          [
           "Rain",
           36,
           16
          ],
          [
           "Clear",
           0,
           22
          ],
          [
           "Rain",
           100,
           20
          ],
          [
           "Rain",
           100,
           16
          ],
          [
           "Rain",
           28,
           18
          ],
          [
           "Clouds",
           0,
           25
          ],
          [
           "Rain",
           100,
           23
          ],
          [
           "Clear",
           0,
           17
          ],
          [
           "Clear",
           0,
           18
          ],
          [
           "Clouds",
           2,
           19
          ],
          [
           "Rain",
           98,
           14
          ],
          [
           "Rain",
           35,
           17
          ],
          [
           "Clear",
           0,
           18
          ],
          [
           "Clouds",
           1,
           21
          ]
         ],
         "hovertemplate": "<b>%{hovertext}</b><br><br>lat=%{lat}<br>lon=%{lon}<br>meteo_principale=%{customdata[0]}<br>probabilite_de_pluie=%{customdata[1]}<br>temperature_ressentie=%{marker.color}<extra></extra>",
         "hovertext": [
          "Mont Saint Michel",
          "Mont Saint Michel",
          "Mont Saint Michel",
          "Mont Saint Michel",
          "Mont Saint Michel",
          "Mont Saint Michel",
          "Mont Saint Michel",
          "St Malo",
          "St Malo",
          "St Malo",
          "St Malo",
          "St Malo",
          "St Malo",
          "St Malo",
          "Bayeux",
          "Bayeux",
          "Bayeux",
          "Bayeux",
          "Bayeux",
          "Bayeux",
          "Bayeux",
          "Le Havre",
          "Le Havre",
          "Le Havre",
          "Le Havre",
          "Le Havre",
          "Le Havre",
          "Le Havre",
          "Rouen",
          "Rouen",
          "Rouen",
          "Rouen",
          "Rouen",
          "Rouen",
          "Rouen",
          "Paris",
          "Paris",
          "Paris",
          "Paris",
          "Paris",
          "Paris",
          "Paris",
          "Amiens",
          "Amiens",
          "Amiens",
          "Amiens",
          "Amiens",
          "Amiens",
          "Amiens",
          "Lille",
          "Lille",
          "Lille",
          "Lille",
          "Lille",
          "Lille",
          "Lille",
          "Strasbourg",
          "Strasbourg",
          "Strasbourg",
          "Strasbourg",
          "Strasbourg",
          "Strasbourg",
          "Strasbourg",
          "Chateau du Haut Koenigsbourg",
          "Chateau du Haut Koenigsbourg",
          "Chateau du Haut Koenigsbourg",
          "Chateau du Haut Koenigsbourg",
          "Chateau du Haut Koenigsbourg",
          "Chateau du Haut Koenigsbourg",
          "Chateau du Haut Koenigsbourg",
          "Colmar",
          "Colmar",
          "Colmar",
          "Colmar",
          "Colmar",
          "Colmar",
          "Colmar",
          "Eguisheim",
          "Eguisheim",
          "Eguisheim",
          "Eguisheim",
          "Eguisheim",
          "Eguisheim",
          "Eguisheim",
          "Besancon",
          "Besancon",
          "Besancon",
          "Besancon",
          "Besancon",
          "Besancon",
          "Besancon",
          "Dijon",
          "Dijon",
          "Dijon",
          "Dijon",
          "Dijon",
          "Dijon",
          "Dijon",
          "Annecy",
          "Annecy",
          "Annecy",
          "Annecy",
          "Annecy",
          "Annecy",
          "Annecy",
          "Grenoble",
          "Grenoble",
          "Grenoble",
          "Grenoble",
          "Grenoble",
          "Grenoble",
          "Grenoble",
          "Lyon",
          "Lyon",
          "Lyon",
          "Lyon",
          "Lyon",
          "Lyon",
          "Lyon",
          "Gorges du Verdon",
          "Gorges du Verdon",
          "Gorges du Verdon",
          "Gorges du Verdon",
          "Gorges du Verdon",
          "Gorges du Verdon",
          "Gorges du Verdon",
          "Bormes les Mimosas",
          "Bormes les Mimosas",
          "Bormes les Mimosas",
          "Bormes les Mimosas",
          "Bormes les Mimosas",
          "Bormes les Mimosas",
          "Bormes les Mimosas",
          "Cassis",
          "Cassis",
          "Cassis",
          "Cassis",
          "Cassis",
          "Cassis",
          "Cassis",
          "Marseille",
          "Marseille",
          "Marseille",
          "Marseille",
          "Marseille",
          "Marseille",
          "Marseille",
          "Aix en Provence",
          "Aix en Provence",
          "Aix en Provence",
          "Aix en Provence",
          "Aix en Provence",
          "Aix en Provence",
          "Aix en Provence",
          "Avignon",
          "Avignon",
          "Avignon",
          "Avignon",
          "Avignon",
          "Avignon",
          "Avignon",
          "Uzes",
          "Uzes",
          "Uzes",
          "Uzes",
          "Uzes",
          "Uzes",
          "Uzes",
          "Nimes",
          "Nimes",
          "Nimes",
          "Nimes",
          "Nimes",
          "Nimes",
          "Nimes",
          "Aigues Mortes",
          "Aigues Mortes",
          "Aigues Mortes",
          "Aigues Mortes",
          "Aigues Mortes",
          "Aigues Mortes",
          "Aigues Mortes",
          "Saintes Maries de la mer",
          "Saintes Maries de la mer",
          "Saintes Maries de la mer",
          "Saintes Maries de la mer",
          "Saintes Maries de la mer",
          "Saintes Maries de la mer",
          "Saintes Maries de la mer",
          "Collioure",
          "Collioure",
          "Collioure",
          "Collioure",
          "Collioure",
          "Collioure",
          "Collioure",
          "Carcassonne",
          "Carcassonne",
          "Carcassonne",
          "Carcassonne",
          "Carcassonne",
          "Carcassonne",
          "Carcassonne",
          "Ariege",
          "Ariege",
          "Ariege",
          "Ariege",
          "Ariege",
          "Ariege",
          "Ariege",
          "Toulouse",
          "Toulouse",
          "Toulouse",
          "Toulouse",
          "Toulouse",
          "Toulouse",
          "Toulouse",
          "Montauban",
          "Montauban",
          "Montauban",
          "Montauban",
          "Montauban",
          "Montauban",
          "Montauban",
          "Biarritz",
          "Biarritz",
          "Biarritz",
          "Biarritz",
          "Biarritz",
          "Biarritz",
          "Biarritz",
          "Bayonne",
          "Bayonne",
          "Bayonne",
          "Bayonne",
          "Bayonne",
          "Bayonne",
          "Bayonne",
          "La Rochelle",
          "La Rochelle",
          "La Rochelle",
          "La Rochelle",
          "La Rochelle",
          "La Rochelle",
          "La Rochelle"
         ],
         "lat": [
          48.6359541,
          48.6359541,
          48.6359541,
          48.6359541,
          48.6359541,
          48.6359541,
          48.6359541,
          48.649518,
          48.649518,
          48.649518,
          48.649518,
          48.649518,
          48.649518,
          48.649518,
          49.2764624,
          49.2764624,
          49.2764624,
          49.2764624,
          49.2764624,
          49.2764624,
          49.2764624,
          49.4938975,
          49.4938975,
          49.4938975,
          49.4938975,
          49.4938975,
          49.4938975,
          49.4938975,
          49.4404591,
          49.4404591,
          49.4404591,
          49.4404591,
          49.4404591,
          49.4404591,
          49.4404591,
          48.8588897,
          48.8588897,
          48.8588897,
          48.8588897,
          48.8588897,
          48.8588897,
          48.8588897,
          49.8941708,
          49.8941708,
          49.8941708,
          49.8941708,
          49.8941708,
          49.8941708,
          49.8941708,
          50.6365654,
          50.6365654,
          50.6365654,
          50.6365654,
          50.6365654,
          50.6365654,
          50.6365654,
          48.584614,
          48.584614,
          48.584614,
          48.584614,
          48.584614,
          48.584614,
          48.584614,
          48.2495226,
          48.2495226,
          48.2495226,
          48.2495226,
          48.2495226,
          48.2495226,
          48.2495226,
          48.0777517,
          48.0777517,
          48.0777517,
          48.0777517,
          48.0777517,
          48.0777517,
          48.0777517,
          48.0447968,
          48.0447968,
          48.0447968,
          48.0447968,
          48.0447968,
          48.0447968,
          48.0447968,
          47.2380222,
          47.2380222,
          47.2380222,
          47.2380222,
          47.2380222,
          47.2380222,
          47.2380222,
          47.3215806,
          47.3215806,
          47.3215806,
          47.3215806,
          47.3215806,
          47.3215806,
          47.3215806,
          45.8992348,
          45.8992348,
          45.8992348,
          45.8992348,
          45.8992348,
          45.8992348,
          45.8992348,
          45.1875602,
          45.1875602,
          45.1875602,
          45.1875602,
          45.1875602,
          45.1875602,
          45.1875602,
          45.7578137,
          45.7578137,
          45.7578137,
          45.7578137,
          45.7578137,
          45.7578137,
          45.7578137,
          43.8462177,
          43.8462177,
          43.8462177,
          43.8462177,
          43.8462177,
          43.8462177,
          43.8462177,
          43.1572172,
          43.1572172,
          43.1572172,
          43.1572172,
          43.1572172,
          43.1572172,
          43.1572172,
          43.2140359,
          43.2140359,
          43.2140359,
          43.2140359,
          43.2140359,
          43.2140359,
          43.2140359,
          43.2961743,
          43.2961743,
          43.2961743,
          43.2961743,
          43.2961743,
          43.2961743,
          43.2961743,
          43.5298424,
          43.5298424,
          43.5298424,
          43.5298424,
          43.5298424,
          43.5298424,
          43.5298424,
          43.9492493,
          43.9492493,
          43.9492493,
          43.9492493,
          43.9492493,
          43.9492493,
          43.9492493,
          44.0121279,
          44.0121279,
          44.0121279,
          44.0121279,
          44.0121279,
          44.0121279,
          44.0121279,
          43.8374249,
          43.8374249,
          43.8374249,
          43.8374249,
          43.8374249,
          43.8374249,
          43.8374249,
          43.5658225,
          43.5658225,
          43.5658225,
          43.5658225,
          43.5658225,
          43.5658225,
          43.5658225,
          43.4522771,
          43.4522771,
          43.4522771,
          43.4522771,
          43.4522771,
          43.4522771,
          43.4522771,
          42.52505,
          42.52505,
          42.52505,
          42.52505,
          42.52505,
          42.52505,
          42.52505,
          43.2130358,
          43.2130358,
          43.2130358,
          43.2130358,
          43.2130358,
          43.2130358,
          43.2130358,
          42.9638998,
          42.9638998,
          42.9638998,
          42.9638998,
          42.9638998,
          42.9638998,
          42.9638998,
          43.6044622,
          43.6044622,
          43.6044622,
          43.6044622,
          43.6044622,
          43.6044622,
          43.6044622,
          44.0175835,
          44.0175835,
          44.0175835,
          44.0175835,
          44.0175835,
          44.0175835,
          44.0175835,
          43.4832523,
          43.4832523,
          43.4832523,
          43.4832523,
          43.4832523,
          43.4832523,
          43.4832523,
          43.4933379,
          43.4933379,
          43.4933379,
          43.4933379,
          43.4933379,
          43.4933379,
          43.4933379,
          46.1591126,
          46.1591126,
          46.1591126,
          46.1591126,
          46.1591126,
          46.1591126,
          46.1591126
         ],
         "legendgroup": "",
         "lon": [
          -1.511459954959514,
          -1.511459954959514,
          -1.511459954959514,
          -1.511459954959514,
          -1.511459954959514,
          -1.511459954959514,
          -1.511459954959514,
          -2.0260409,
          -2.0260409,
          -2.0260409,
          -2.0260409,
          -2.0260409,
          -2.0260409,
          -2.0260409,
          -0.7024738,
          -0.7024738,
          -0.7024738,
          -0.7024738,
          -0.7024738,
          -0.7024738,
          -0.7024738,
          0.1079732,
          0.1079732,
          0.1079732,
          0.1079732,
          0.1079732,
          0.1079732,
          0.1079732,
          1.0939658,
          1.0939658,
          1.0939658,
          1.0939658,
          1.0939658,
          1.0939658,
          1.0939658,
          2.3200410217200766,
          2.3200410217200766,
          2.3200410217200766,
          2.3200410217200766,
          2.3200410217200766,
          2.3200410217200766,
          2.3200410217200766,
          2.2956951,
          2.2956951,
          2.2956951,
          2.2956951,
          2.2956951,
          2.2956951,
          2.2956951,
          3.0635282,
          3.0635282,
          3.0635282,
          3.0635282,
          3.0635282,
          3.0635282,
          3.0635282,
          7.7507127,
          7.7507127,
          7.7507127,
          7.7507127,
          7.7507127,
          7.7507127,
          7.7507127,
          7.3454923,
          7.3454923,
          7.3454923,
          7.3454923,
          7.3454923,
          7.3454923,
          7.3454923,
          7.3579641,
          7.3579641,
          7.3579641,
          7.3579641,
          7.3579641,
          7.3579641,
          7.3579641,
          7.3079618,
          7.3079618,
          7.3079618,
          7.3079618,
          7.3079618,
          7.3079618,
          7.3079618,
          6.0243622,
          6.0243622,
          6.0243622,
          6.0243622,
          6.0243622,
          6.0243622,
          6.0243622,
          5.0414701,
          5.0414701,
          5.0414701,
          5.0414701,
          5.0414701,
          5.0414701,
          5.0414701,
          6.1288847,
          6.1288847,
          6.1288847,
          6.1288847,
          6.1288847,
          6.1288847,
          6.1288847,
          5.7357819,
          5.7357819,
          5.7357819,
          5.7357819,
          5.7357819,
          5.7357819,
          5.7357819,
          4.8320114,
          4.8320114,
          4.8320114,
          4.8320114,
          4.8320114,
          4.8320114,
          4.8320114,
          6.5131814,
          6.5131814,
          6.5131814,
          6.5131814,
          6.5131814,
          6.5131814,
          6.5131814,
          6.329253867921363,
          6.329253867921363,
          6.329253867921363,
          6.329253867921363,
          6.329253867921363,
          6.329253867921363,
          6.329253867921363,
          5.5396318,
          5.5396318,
          5.5396318,
          5.5396318,
          5.5396318,
          5.5396318,
          5.5396318,
          5.3699525,
          5.3699525,
          5.3699525,
          5.3699525,
          5.3699525,
          5.3699525,
          5.3699525,
          5.4474738,
          5.4474738,
          5.4474738,
          5.4474738,
          5.4474738,
          5.4474738,
          5.4474738,
          4.8059012,
          4.8059012,
          4.8059012,
          4.8059012,
          4.8059012,
          4.8059012,
          4.8059012,
          4.4196718,
          4.4196718,
          4.4196718,
          4.4196718,
          4.4196718,
          4.4196718,
          4.4196718,
          4.3600687,
          4.3600687,
          4.3600687,
          4.3600687,
          4.3600687,
          4.3600687,
          4.3600687,
          4.1912837,
          4.1912837,
          4.1912837,
          4.1912837,
          4.1912837,
          4.1912837,
          4.1912837,
          4.4287172,
          4.4287172,
          4.4287172,
          4.4287172,
          4.4287172,
          4.4287172,
          4.4287172,
          3.0831554,
          3.0831554,
          3.0831554,
          3.0831554,
          3.0831554,
          3.0831554,
          3.0831554,
          2.3491069,
          2.3491069,
          2.3491069,
          2.3491069,
          2.3491069,
          2.3491069,
          2.3491069,
          1.6053807,
          1.6053807,
          1.6053807,
          1.6053807,
          1.6053807,
          1.6053807,
          1.6053807,
          1.4442469,
          1.4442469,
          1.4442469,
          1.4442469,
          1.4442469,
          1.4442469,
          1.4442469,
          1.3549991,
          1.3549991,
          1.3549991,
          1.3549991,
          1.3549991,
          1.3549991,
          1.3549991,
          -1.5592776,
          -1.5592776,
          -1.5592776,
          -1.5592776,
          -1.5592776,
          -1.5592776,
          -1.5592776,
          -1.475099,
          -1.475099,
          -1.475099,
          -1.475099,
          -1.475099,
          -1.475099,
          -1.475099,
          -1.1520434,
          -1.1520434,
          -1.1520434,
          -1.1520434,
          -1.1520434,
          -1.1520434,
          -1.1520434
         ],
         "marker": {
          "color": [
           17,
           20,
           20,
           17,
           19,
           21,
           19,
           15,
           19,
           18,
           16,
           16,
           20,
           17,
           17,
           20,
           21,
           14,
           19,
           22,
           20,
           17,
           18,
           19,
           14,
           17,
           18,
           16,
           19,
           22,
           22,
           16,
           18,
           21,
           21,
           21,
           23,
           24,
           22,
           20,
           23,
           24,
           20,
           22,
           23,
           15,
           18,
           21,
           21,
           20,
           22,
           24,
           19,
           20,
           21,
           22,
           19,
           23,
           23,
           29,
           15,
           24,
           28,
           15,
           20,
           22,
           26,
           12,
           21,
           26,
           19,
           23,
           26,
           30,
           15,
           24,
           28,
           19,
           23,
           25,
           29,
           15,
           24,
           28,
           15,
           22,
           26,
           29,
           13,
           23,
           26,
           16,
           22,
           25,
           28,
           18,
           23,
           26,
           18,
           18,
           27,
           30,
           17,
           24,
           29,
           22,
           19,
           28,
           32,
           20,
           27,
           32,
           17,
           22,
           26,
           29,
           16,
           25,
           29,
           29,
           24,
           27,
           28,
           28,
           28,
           31,
           29,
           23,
           29,
           28,
           27,
           27,
           29,
           29,
           26,
           28,
           26,
           28,
           28,
           30,
           29,
           26,
           28,
           26,
           28,
           28,
           30,
           31,
           28,
           29,
           29,
           29,
           29,
           33,
           29,
           25,
           29,
           31,
           27,
           28,
           34,
           28,
           26,
           30,
           30,
           27,
           29,
           34,
           29,
           27,
           29,
           29,
           28,
           29,
           34,
           28,
           26,
           27,
           25,
           27,
           27,
           30,
           27,
           25,
           26,
           24,
           27,
           26,
           30,
           26,
           27,
           28,
           26,
           24,
           27,
           28,
           20,
           24,
           29,
           21,
           21,
           28,
           33,
           15,
           22,
           27,
           18,
           15,
           26,
           30,
           14,
           22,
           27,
           20,
           18,
           26,
           30,
           15,
           22,
           26,
           17,
           20,
           26,
           29,
           16,
           21,
           19,
           16,
           18,
           24,
           22,
           16,
           22,
           20,
           16,
           18,
           25,
           23,
           17,
           18,
           19,
           14,
           17,
           18,
           21
          ],
          "coloraxis": "coloraxis"
         },
         "mode": "markers",
         "name": "",
         "showlegend": false,
         "subplot": "mapbox",
         "type": "scattermapbox"
        }
       ],
       "layout": {
        "coloraxis": {
         "colorbar": {
          "title": {
           "text": "temperature_ressentie"
          }
         },
         "colorscale": [
          [
           0,
           "rgb(3, 35, 51)"
          ],
          [
           0.09090909090909091,
           "rgb(13, 48, 100)"
          ],
          [
           0.18181818181818182,
           "rgb(53, 50, 155)"
          ],
          [
           0.2727272727272727,
           "rgb(93, 62, 153)"
          ],
          [
           0.36363636363636365,
           "rgb(126, 77, 143)"
          ],
          [
           0.45454545454545453,
           "rgb(158, 89, 135)"
          ],
          [
           0.5454545454545454,
           "rgb(193, 100, 121)"
          ],
          [
           0.6363636363636364,
           "rgb(225, 113, 97)"
          ],
          [
           0.7272727272727273,
           "rgb(246, 139, 69)"
          ],
          [
           0.8181818181818182,
           "rgb(251, 173, 60)"
          ],
          [
           0.9090909090909091,
           "rgb(246, 211, 70)"
          ],
          [
           1,
           "rgb(231, 250, 90)"
          ]
         ]
        },
        "legend": {
         "tracegroupgap": 0
        },
        "mapbox": {
         "center": {
          "lat": 45.84476962571432,
          "lon": 3.406327852419487
         },
         "domain": {
          "x": [
           0,
           1
          ],
          "y": [
           0,
           1
          ]
         },
         "style": "carto-positron",
         "zoom": 4
        },
        "margin": {
         "t": 60
        },
        "template": {
         "data": {
          "bar": [
           {
            "error_x": {
             "color": "#2a3f5f"
            },
            "error_y": {
             "color": "#2a3f5f"
            },
            "marker": {
             "line": {
              "color": "#E5ECF6",
              "width": 0.5
             },
             "pattern": {
              "fillmode": "overlay",
              "size": 10,
              "solidity": 0.2
             }
            },
            "type": "bar"
           }
          ],
          "barpolar": [
           {
            "marker": {
             "line": {
              "color": "#E5ECF6",
              "width": 0.5
             },
             "pattern": {
              "fillmode": "overlay",
              "size": 10,
              "solidity": 0.2
             }
            },
            "type": "barpolar"
           }
          ],
          "carpet": [
           {
            "aaxis": {
             "endlinecolor": "#2a3f5f",
             "gridcolor": "white",
             "linecolor": "white",
             "minorgridcolor": "white",
             "startlinecolor": "#2a3f5f"
            },
            "baxis": {
             "endlinecolor": "#2a3f5f",
             "gridcolor": "white",
             "linecolor": "white",
             "minorgridcolor": "white",
             "startlinecolor": "#2a3f5f"
            },
            "type": "carpet"
           }
          ],
          "choropleth": [
           {
            "colorbar": {
             "outlinewidth": 0,
             "ticks": ""
            },
            "type": "choropleth"
           }
          ],
          "contour": [
           {
            "colorbar": {
             "outlinewidth": 0,
             "ticks": ""
            },
            "colorscale": [
             [
              0,
              "#0d0887"
             ],
             [
              0.1111111111111111,
              "#46039f"
             ],
             [
              0.2222222222222222,
              "#7201a8"
             ],
             [
              0.3333333333333333,
              "#9c179e"
             ],
             [
              0.4444444444444444,
              "#bd3786"
             ],
             [
              0.5555555555555556,
              "#d8576b"
             ],
             [
              0.6666666666666666,
              "#ed7953"
             ],
             [
              0.7777777777777778,
              "#fb9f3a"
             ],
             [
              0.8888888888888888,
              "#fdca26"
             ],
             [
              1,
              "#f0f921"
             ]
            ],
            "type": "contour"
           }
          ],
          "contourcarpet": [
           {
            "colorbar": {
             "outlinewidth": 0,
             "ticks": ""
            },
            "type": "contourcarpet"
           }
          ],
          "heatmap": [
           {
            "colorbar": {
             "outlinewidth": 0,
             "ticks": ""
            },
            "colorscale": [
             [
              0,
              "#0d0887"
             ],
             [
              0.1111111111111111,
              "#46039f"
             ],
             [
              0.2222222222222222,
              "#7201a8"
             ],
             [
              0.3333333333333333,
              "#9c179e"
             ],
             [
              0.4444444444444444,
              "#bd3786"
             ],
             [
              0.5555555555555556,
              "#d8576b"
             ],
             [
              0.6666666666666666,
              "#ed7953"
             ],
             [
              0.7777777777777778,
              "#fb9f3a"
             ],
             [
              0.8888888888888888,
              "#fdca26"
             ],
             [
              1,
              "#f0f921"
             ]
            ],
            "type": "heatmap"
           }
          ],
          "heatmapgl": [
           {
            "colorbar": {
             "outlinewidth": 0,
             "ticks": ""
            },
            "colorscale": [
             [
              0,
              "#0d0887"
             ],
             [
              0.1111111111111111,
              "#46039f"
             ],
             [
              0.2222222222222222,
              "#7201a8"
             ],
             [
              0.3333333333333333,
              "#9c179e"
             ],
             [
              0.4444444444444444,
              "#bd3786"
             ],
             [
              0.5555555555555556,
              "#d8576b"
             ],
             [
              0.6666666666666666,
              "#ed7953"
             ],
             [
              0.7777777777777778,
              "#fb9f3a"
             ],
             [
              0.8888888888888888,
              "#fdca26"
             ],
             [
              1,
              "#f0f921"
             ]
            ],
            "type": "heatmapgl"
           }
          ],
          "histogram": [
           {
            "marker": {
             "pattern": {
              "fillmode": "overlay",
              "size": 10,
              "solidity": 0.2
             }
            },
            "type": "histogram"
           }
          ],
          "histogram2d": [
           {
            "colorbar": {
             "outlinewidth": 0,
             "ticks": ""
            },
            "colorscale": [
             [
              0,
              "#0d0887"
             ],
             [
              0.1111111111111111,
              "#46039f"
             ],
             [
              0.2222222222222222,
              "#7201a8"
             ],
             [
              0.3333333333333333,
              "#9c179e"
             ],
             [
              0.4444444444444444,
              "#bd3786"
             ],
             [
              0.5555555555555556,
              "#d8576b"
             ],
             [
              0.6666666666666666,
              "#ed7953"
             ],
             [
              0.7777777777777778,
              "#fb9f3a"
             ],
             [
              0.8888888888888888,
              "#fdca26"
             ],
             [
              1,
              "#f0f921"
             ]
            ],
            "type": "histogram2d"
           }
          ],
          "histogram2dcontour": [
           {
            "colorbar": {
             "outlinewidth": 0,
             "ticks": ""
            },
            "colorscale": [
             [
              0,
              "#0d0887"
             ],
             [
              0.1111111111111111,
              "#46039f"
             ],
             [
              0.2222222222222222,
              "#7201a8"
             ],
             [
              0.3333333333333333,
              "#9c179e"
             ],
             [
              0.4444444444444444,
              "#bd3786"
             ],
             [
              0.5555555555555556,
              "#d8576b"
             ],
             [
              0.6666666666666666,
              "#ed7953"
             ],
             [
              0.7777777777777778,
              "#fb9f3a"
             ],
             [
              0.8888888888888888,
              "#fdca26"
             ],
             [
              1,
              "#f0f921"
             ]
            ],
            "type": "histogram2dcontour"
           }
          ],
          "mesh3d": [
           {
            "colorbar": {
             "outlinewidth": 0,
             "ticks": ""
            },
            "type": "mesh3d"
           }
          ],
          "parcoords": [
           {
            "line": {
             "colorbar": {
              "outlinewidth": 0,
              "ticks": ""
             }
            },
            "type": "parcoords"
           }
          ],
          "pie": [
           {
            "automargin": true,
            "type": "pie"
           }
          ],
          "scatter": [
           {
            "marker": {
             "colorbar": {
              "outlinewidth": 0,
              "ticks": ""
             }
            },
            "type": "scatter"
           }
          ],
          "scatter3d": [
           {
            "line": {
             "colorbar": {
              "outlinewidth": 0,
              "ticks": ""
             }
            },
            "marker": {
             "colorbar": {
              "outlinewidth": 0,
              "ticks": ""
             }
            },
            "type": "scatter3d"
           }
          ],
          "scattercarpet": [
           {
            "marker": {
             "colorbar": {
              "outlinewidth": 0,
              "ticks": ""
             }
            },
            "type": "scattercarpet"
           }
          ],
          "scattergeo": [
           {
            "marker": {
             "colorbar": {
              "outlinewidth": 0,
              "ticks": ""
             }
            },
            "type": "scattergeo"
           }
          ],
          "scattergl": [
           {
            "marker": {
             "colorbar": {
              "outlinewidth": 0,
              "ticks": ""
             }
            },
            "type": "scattergl"
           }
          ],
          "scattermapbox": [
           {
            "marker": {
             "colorbar": {
              "outlinewidth": 0,
              "ticks": ""
             }
            },
            "type": "scattermapbox"
           }
          ],
          "scatterpolar": [
           {
            "marker": {
             "colorbar": {
              "outlinewidth": 0,
              "ticks": ""
             }
            },
            "type": "scatterpolar"
           }
          ],
          "scatterpolargl": [
           {
            "marker": {
             "colorbar": {
              "outlinewidth": 0,
              "ticks": ""
             }
            },
            "type": "scatterpolargl"
           }
          ],
          "scatterternary": [
           {
            "marker": {
             "colorbar": {
              "outlinewidth": 0,
              "ticks": ""
             }
            },
            "type": "scatterternary"
           }
          ],
          "surface": [
           {
            "colorbar": {
             "outlinewidth": 0,
             "ticks": ""
            },
            "colorscale": [
             [
              0,
              "#0d0887"
             ],
             [
              0.1111111111111111,
              "#46039f"
             ],
             [
              0.2222222222222222,
              "#7201a8"
             ],
             [
              0.3333333333333333,
              "#9c179e"
             ],
             [
              0.4444444444444444,
              "#bd3786"
             ],
             [
              0.5555555555555556,
              "#d8576b"
             ],
             [
              0.6666666666666666,
              "#ed7953"
             ],
             [
              0.7777777777777778,
              "#fb9f3a"
             ],
             [
              0.8888888888888888,
              "#fdca26"
             ],
             [
              1,
              "#f0f921"
             ]
            ],
            "type": "surface"
           }
          ],
          "table": [
           {
            "cells": {
             "fill": {
              "color": "#EBF0F8"
             },
             "line": {
              "color": "white"
             }
            },
            "header": {
             "fill": {
              "color": "#C8D4E3"
             },
             "line": {
              "color": "white"
             }
            },
            "type": "table"
           }
          ]
         },
         "layout": {
          "annotationdefaults": {
           "arrowcolor": "#2a3f5f",
           "arrowhead": 0,
           "arrowwidth": 1
          },
          "autotypenumbers": "strict",
          "coloraxis": {
           "colorbar": {
            "outlinewidth": 0,
            "ticks": ""
           }
          },
          "colorscale": {
           "diverging": [
            [
             0,
             "#8e0152"
            ],
            [
             0.1,
             "#c51b7d"
            ],
            [
             0.2,
             "#de77ae"
            ],
            [
             0.3,
             "#f1b6da"
            ],
            [
             0.4,
             "#fde0ef"
            ],
            [
             0.5,
             "#f7f7f7"
            ],
            [
             0.6,
             "#e6f5d0"
            ],
            [
             0.7,
             "#b8e186"
            ],
            [
             0.8,
             "#7fbc41"
            ],
            [
             0.9,
             "#4d9221"
            ],
            [
             1,
             "#276419"
            ]
           ],
           "sequential": [
            [
             0,
             "#0d0887"
            ],
            [
             0.1111111111111111,
             "#46039f"
            ],
            [
             0.2222222222222222,
             "#7201a8"
            ],
            [
             0.3333333333333333,
             "#9c179e"
            ],
            [
             0.4444444444444444,
             "#bd3786"
            ],
            [
             0.5555555555555556,
             "#d8576b"
            ],
            [
             0.6666666666666666,
             "#ed7953"
            ],
            [
             0.7777777777777778,
             "#fb9f3a"
            ],
            [
             0.8888888888888888,
             "#fdca26"
            ],
            [
             1,
             "#f0f921"
            ]
           ],
           "sequentialminus": [
            [
             0,
             "#0d0887"
            ],
            [
             0.1111111111111111,
             "#46039f"
            ],
            [
             0.2222222222222222,
             "#7201a8"
            ],
            [
             0.3333333333333333,
             "#9c179e"
            ],
            [
             0.4444444444444444,
             "#bd3786"
            ],
            [
             0.5555555555555556,
             "#d8576b"
            ],
            [
             0.6666666666666666,
             "#ed7953"
            ],
            [
             0.7777777777777778,
             "#fb9f3a"
            ],
            [
             0.8888888888888888,
             "#fdca26"
            ],
            [
             1,
             "#f0f921"
            ]
           ]
          },
          "colorway": [
           "#636efa",
           "#EF553B",
           "#00cc96",
           "#ab63fa",
           "#FFA15A",
           "#19d3f3",
           "#FF6692",
           "#B6E880",
           "#FF97FF",
           "#FECB52"
          ],
          "font": {
           "color": "#2a3f5f"
          },
          "geo": {
           "bgcolor": "white",
           "lakecolor": "white",
           "landcolor": "#E5ECF6",
           "showlakes": true,
           "showland": true,
           "subunitcolor": "white"
          },
          "hoverlabel": {
           "align": "left"
          },
          "hovermode": "closest",
          "mapbox": {
           "style": "light"
          },
          "paper_bgcolor": "white",
          "plot_bgcolor": "#E5ECF6",
          "polar": {
           "angularaxis": {
            "gridcolor": "white",
            "linecolor": "white",
            "ticks": ""
           },
           "bgcolor": "#E5ECF6",
           "radialaxis": {
            "gridcolor": "white",
            "linecolor": "white",
            "ticks": ""
           }
          },
          "scene": {
           "xaxis": {
            "backgroundcolor": "#E5ECF6",
            "gridcolor": "white",
            "gridwidth": 2,
            "linecolor": "white",
            "showbackground": true,
            "ticks": "",
            "zerolinecolor": "white"
           },
           "yaxis": {
            "backgroundcolor": "#E5ECF6",
            "gridcolor": "white",
            "gridwidth": 2,
            "linecolor": "white",
            "showbackground": true,
            "ticks": "",
            "zerolinecolor": "white"
           },
           "zaxis": {
            "backgroundcolor": "#E5ECF6",
            "gridcolor": "white",
            "gridwidth": 2,
            "linecolor": "white",
            "showbackground": true,
            "ticks": "",
            "zerolinecolor": "white"
           }
          },
          "shapedefaults": {
           "line": {
            "color": "#2a3f5f"
           }
          },
          "ternary": {
           "aaxis": {
            "gridcolor": "white",
            "linecolor": "white",
            "ticks": ""
           },
           "baxis": {
            "gridcolor": "white",
            "linecolor": "white",
            "ticks": ""
           },
           "bgcolor": "#E5ECF6",
           "caxis": {
            "gridcolor": "white",
            "linecolor": "white",
            "ticks": ""
           }
          },
          "title": {
           "x": 0.05
          },
          "xaxis": {
           "automargin": true,
           "gridcolor": "white",
           "linecolor": "white",
           "ticks": "",
           "title": {
            "standoff": 15
           },
           "zerolinecolor": "white",
           "zerolinewidth": 2
          },
          "yaxis": {
           "automargin": true,
           "gridcolor": "white",
           "linecolor": "white",
           "ticks": "",
           "title": {
            "standoff": 15
           },
           "zerolinecolor": "white",
           "zerolinewidth": 2
          }
         }
        }
       }
      }
     },
     "metadata": {},
     "output_type": "display_data"
    }
   ],
   "source": [
    "df_plotly = df_gps_weather.apply(\n",
    "    pd.Series.explode\n",
    ")  # To obtain a line per day and per city\n",
    "\n",
    "df_plotly[[\"jour_+x\", \"temperature_ressentie\", \"probabilite_de_pluie\"]] = df_plotly[\n",
    "    [\"jour_+x\", \"temperature_ressentie\", \"probabilite_de_pluie\"]\n",
    "].astype(int)\n",
    "\n",
    "fig = px.scatter_mapbox(\n",
    "    df_plotly,\n",
    "    lat=\"lat\",\n",
    "    lon=\"lon\",\n",
    "    hover_name=\"ville\",\n",
    "    zoom=4,\n",
    "    hover_data=[\"meteo_principale\", \"probabilite_de_pluie\", \"temperature_ressentie\"],\n",
    "    color=\"temperature_ressentie\",\n",
    "    color_continuous_scale=\"thermal\",\n",
    "    mapbox_style=\"carto-positron\",\n",
    ")\n",
    "fig.show()\n"
   ]
  },
  {
   "cell_type": "markdown",
   "metadata": {},
   "source": [
    "## Scrape Booking.com "
   ]
  },
  {
   "cell_type": "markdown",
   "metadata": {},
   "source": [
    "### Get hotels and their URLs"
   ]
  },
  {
   "cell_type": "code",
   "execution_count": 21,
   "metadata": {},
   "outputs": [
    {
     "name": "stderr",
     "output_type": "stream",
     "text": [
      "2022-06-26 06:45:20 [scrapy.utils.log] INFO: Scrapy 2.6.1 started (bot: scrapybot)\n",
      "2022-06-26 06:45:20 [scrapy.utils.log] INFO: Versions: lxml 4.8.0.0, libxml2 2.9.12, cssselect 1.1.0, parsel 1.6.0, w3lib 1.21.0, Twisted 22.2.0, Python 3.9.12 (main, Apr  5 2022, 01:53:17) - [Clang 12.0.0 ], pyOpenSSL 21.0.0 (OpenSSL 1.1.1n  15 Mar 2022), cryptography 3.4.8, Platform macOS-10.16-x86_64-i386-64bit\n",
      "2022-06-26 06:45:20 [scrapy.crawler] INFO: Overridden settings:\n",
      "{'AUTOTHROTTLE_ENABLED': True,\n",
      " 'LOG_LEVEL': 20,\n",
      " 'USER_AGENT': 'Mozilla/5.0 (Windows NT 6.1; WOW64) AppleWebKit/535.1 (KHTML, '\n",
      "               'like Gecko) Chrome/13.0.782.112 Safari/535.1'}\n",
      "2022-06-26 06:45:20 [scrapy.extensions.telnet] INFO: Telnet Password: 992bce00d76fa398\n",
      "2022-06-26 06:45:20 [scrapy.middleware] INFO: Enabled extensions:\n",
      "['scrapy.extensions.corestats.CoreStats',\n",
      " 'scrapy.extensions.telnet.TelnetConsole',\n",
      " 'scrapy.extensions.memusage.MemoryUsage',\n",
      " 'scrapy.extensions.feedexport.FeedExporter',\n",
      " 'scrapy.extensions.logstats.LogStats',\n",
      " 'scrapy.extensions.throttle.AutoThrottle']\n",
      "2022-06-26 06:45:20 [scrapy.middleware] INFO: Enabled downloader middlewares:\n",
      "['scrapy.downloadermiddlewares.httpauth.HttpAuthMiddleware',\n",
      " 'scrapy.downloadermiddlewares.downloadtimeout.DownloadTimeoutMiddleware',\n",
      " 'scrapy.downloadermiddlewares.defaultheaders.DefaultHeadersMiddleware',\n",
      " 'scrapy.downloadermiddlewares.useragent.UserAgentMiddleware',\n",
      " 'scrapy.downloadermiddlewares.retry.RetryMiddleware',\n",
      " 'scrapy.downloadermiddlewares.redirect.MetaRefreshMiddleware',\n",
      " 'scrapy.downloadermiddlewares.httpcompression.HttpCompressionMiddleware',\n",
      " 'scrapy.downloadermiddlewares.redirect.RedirectMiddleware',\n",
      " 'scrapy.downloadermiddlewares.cookies.CookiesMiddleware',\n",
      " 'scrapy.downloadermiddlewares.httpproxy.HttpProxyMiddleware',\n",
      " 'scrapy.downloadermiddlewares.stats.DownloaderStats']\n",
      "2022-06-26 06:45:20 [scrapy.middleware] INFO: Enabled spider middlewares:\n",
      "['scrapy.spidermiddlewares.httperror.HttpErrorMiddleware',\n",
      " 'scrapy.spidermiddlewares.offsite.OffsiteMiddleware',\n",
      " 'scrapy.spidermiddlewares.referer.RefererMiddleware',\n",
      " 'scrapy.spidermiddlewares.urllength.UrlLengthMiddleware',\n",
      " 'scrapy.spidermiddlewares.depth.DepthMiddleware']\n",
      "2022-06-26 06:45:20 [scrapy.middleware] INFO: Enabled item pipelines:\n",
      "[]\n",
      "2022-06-26 06:45:20 [scrapy.core.engine] INFO: Spider opened\n",
      "2022-06-26 06:45:20 [scrapy.extensions.logstats] INFO: Crawled 0 pages (at 0 pages/min), scraped 0 items (at 0 items/min)\n",
      "2022-06-26 06:45:20 [scrapy.extensions.telnet] INFO: Telnet console listening on 127.0.0.1:6023\n",
      "2022-06-26 06:45:26 [root] INFO: No next page. Terminating crawling process.\n",
      "2022-06-26 06:45:28 [root] INFO: No next page. Terminating crawling process.\n",
      "2022-06-26 06:45:30 [root] INFO: No next page. Terminating crawling process.\n",
      "2022-06-26 06:45:31 [root] INFO: No next page. Terminating crawling process.\n",
      "2022-06-26 06:45:33 [root] INFO: No next page. Terminating crawling process.\n",
      "2022-06-26 06:45:34 [root] INFO: No next page. Terminating crawling process.\n",
      "2022-06-26 06:45:34 [root] INFO: No next page. Terminating crawling process.\n",
      "2022-06-26 06:45:35 [root] INFO: No next page. Terminating crawling process.\n",
      "2022-06-26 06:45:36 [root] INFO: No next page. Terminating crawling process.\n",
      "2022-06-26 06:45:36 [root] INFO: No next page. Terminating crawling process.\n",
      "2022-06-26 06:45:37 [root] INFO: No next page. Terminating crawling process.\n",
      "2022-06-26 06:45:37 [root] INFO: No next page. Terminating crawling process.\n",
      "2022-06-26 06:45:37 [root] INFO: No next page. Terminating crawling process.\n",
      "2022-06-26 06:45:38 [root] INFO: No next page. Terminating crawling process.\n",
      "2022-06-26 06:45:38 [root] INFO: No next page. Terminating crawling process.\n",
      "2022-06-26 06:45:39 [root] INFO: No next page. Terminating crawling process.\n",
      "2022-06-26 06:45:39 [root] INFO: No next page. Terminating crawling process.\n",
      "2022-06-26 06:45:40 [root] INFO: No next page. Terminating crawling process.\n",
      "2022-06-26 06:45:40 [root] INFO: No next page. Terminating crawling process.\n",
      "2022-06-26 06:45:40 [root] INFO: No next page. Terminating crawling process.\n",
      "2022-06-26 06:45:41 [root] INFO: No next page. Terminating crawling process.\n",
      "2022-06-26 06:45:42 [root] INFO: No next page. Terminating crawling process.\n",
      "2022-06-26 06:45:42 [root] INFO: No next page. Terminating crawling process.\n",
      "2022-06-26 06:45:42 [root] INFO: No next page. Terminating crawling process.\n",
      "2022-06-26 06:45:43 [root] INFO: No next page. Terminating crawling process.\n",
      "2022-06-26 06:45:43 [root] INFO: No next page. Terminating crawling process.\n",
      "2022-06-26 06:45:44 [root] INFO: No next page. Terminating crawling process.\n",
      "2022-06-26 06:45:44 [root] INFO: No next page. Terminating crawling process.\n",
      "2022-06-26 06:45:45 [root] INFO: No next page. Terminating crawling process.\n",
      "2022-06-26 06:45:45 [root] INFO: No next page. Terminating crawling process.\n",
      "2022-06-26 06:45:46 [root] INFO: No next page. Terminating crawling process.\n",
      "2022-06-26 06:45:46 [root] INFO: No next page. Terminating crawling process.\n",
      "2022-06-26 06:45:46 [root] INFO: No next page. Terminating crawling process.\n",
      "2022-06-26 06:45:47 [root] INFO: No next page. Terminating crawling process.\n",
      "2022-06-26 06:45:47 [root] INFO: No next page. Terminating crawling process.\n",
      "2022-06-26 06:45:47 [scrapy.core.engine] INFO: Closing spider (finished)\n",
      "2022-06-26 06:45:47 [scrapy.extensions.feedexport] INFO: Stored json feed (35 items) in: hotels.json\n",
      "2022-06-26 06:45:47 [scrapy.statscollectors] INFO: Dumping Scrapy stats:\n",
      "{'downloader/request_bytes': 51685,\n",
      " 'downloader/request_count': 36,\n",
      " 'downloader/request_method_count/GET': 36,\n",
      " 'downloader/response_bytes': 5924591,\n",
      " 'downloader/response_count': 36,\n",
      " 'downloader/response_status_count/200': 36,\n",
      " 'elapsed_time_seconds': 27.034955,\n",
      " 'feedexport/success_count/FileFeedStorage': 1,\n",
      " 'finish_reason': 'finished',\n",
      " 'finish_time': datetime.datetime(2022, 6, 26, 4, 45, 47, 564598),\n",
      " 'httpcompression/response_bytes': 39497070,\n",
      " 'httpcompression/response_count': 36,\n",
      " 'item_scraped_count': 35,\n",
      " 'log_count/INFO': 46,\n",
      " 'memusage/max': 264749056,\n",
      " 'memusage/startup': 264749056,\n",
      " 'request_depth_max': 1,\n",
      " 'response_received_count': 36,\n",
      " 'scheduler/dequeued': 36,\n",
      " 'scheduler/dequeued/memory': 36,\n",
      " 'scheduler/enqueued': 36,\n",
      " 'scheduler/enqueued/memory': 36,\n",
      " 'start_time': datetime.datetime(2022, 6, 26, 4, 45, 20, 529643)}\n",
      "2022-06-26 06:45:47 [scrapy.core.engine] INFO: Spider closed (finished)\n"
     ]
    }
   ],
   "source": [
    "class BookingSpider(scrapy.Spider):\n",
    "    name = \"Booking_data\"\n",
    "    cities = df_cities.ville\n",
    "    start_urls = [\"https://www.booking.com/index.fr.html\"]\n",
    "\n",
    "    def parse(self, response):\n",
    "        for i in df_cities.ville:\n",
    "            yield scrapy.FormRequest.from_response(\n",
    "                response, formdata={\"ss\": i}, callback=self.after_search\n",
    "            )\n",
    "\n",
    "    # Important note: the classes names change often and may not be correct at a later date\n",
    "    def after_search(self, response):\n",
    "        cities = response.url.split(\"ss=\")[-1].split(\"&\")[0]\n",
    "\n",
    "        booking = response.css(\".d4924c9e74\")\n",
    "\n",
    "        for k in booking:\n",
    "\n",
    "            yield {\n",
    "                \"ville\": cities,\n",
    "                \"hotels\": k.css(\"a div.fcab3ed991.a23c043802::text\").getall(),\n",
    "                \"liens\": k.css(\"h3.a4225678b2 a::attr(href)\").getall(),\n",
    "            }\n",
    "\n",
    "        try:\n",
    "            next_page = response.css(\"a.paging-next\").attrib[\"href\"]\n",
    "        except KeyError:\n",
    "            logging.info(\"No next page. Terminating crawling process.\")\n",
    "        else:\n",
    "            yield response.follow(next_page, callback=self.after_search)\n",
    "\n",
    "\n",
    "# Name of the file where the results will be saved\n",
    "filename = \"hotels.json\"\n",
    "\n",
    "# If file already exists, delete before crawling (because Scrapy will concatenate the last and new results otherwise)\n",
    "if filename in os.listdir():\n",
    "    os.remove(filename)\n",
    "\n",
    "# Declare a new CrawlerProcess with some settings\n",
    "process = CrawlerProcess(\n",
    "    settings={\n",
    "        \"USER_AGENT\": \"Mozilla/5.0 (Windows NT 6.1; WOW64) AppleWebKit/535.1 (KHTML, like Gecko) Chrome/13.0.782.112 Safari/535.1\",\n",
    "        \"LOG_LEVEL\": logging.INFO,\n",
    "        \"FEEDS\": {\n",
    "            filename: {\"format\": \"json\"},\n",
    "        },\n",
    "        \"AUTOTHROTTLE_ENABLED\": True,\n",
    "    }\n",
    ")\n",
    "\n",
    "# Start the crawling using the spider you defined above\n",
    "process.crawl(BookingSpider)\n",
    "process.start()\n"
   ]
  },
  {
   "cell_type": "markdown",
   "metadata": {},
   "source": [
    "### Get hotels' coordinates"
   ]
  },
  {
   "cell_type": "code",
   "execution_count": 22,
   "metadata": {},
   "outputs": [
    {
     "name": "stderr",
     "output_type": "stream",
     "text": [
      "2022-06-26 06:45:47 [py.warnings] WARNING: /var/folders/hr/m4w2vfm12db4g050bkkr7y540000gn/T/ipykernel_2400/2552240652.py:4: FutureWarning:\n",
      "\n",
      "The default value of regex will change from True to False in a future version. In addition, single character regular expressions will *not* be treated as literal strings when regex=True.\n",
      "\n",
      "\n"
     ]
    },
    {
     "data": {
      "text/html": [
       "<div>\n",
       "<style scoped>\n",
       "    .dataframe tbody tr th:only-of-type {\n",
       "        vertical-align: middle;\n",
       "    }\n",
       "\n",
       "    .dataframe tbody tr th {\n",
       "        vertical-align: top;\n",
       "    }\n",
       "\n",
       "    .dataframe thead th {\n",
       "        text-align: right;\n",
       "    }\n",
       "</style>\n",
       "<table border=\"1\" class=\"dataframe\">\n",
       "  <thead>\n",
       "    <tr style=\"text-align: right;\">\n",
       "      <th></th>\n",
       "      <th>ville</th>\n",
       "      <th>hotels</th>\n",
       "      <th>liens</th>\n",
       "    </tr>\n",
       "  </thead>\n",
       "  <tbody>\n",
       "    <tr>\n",
       "      <th>0</th>\n",
       "      <td>Mont Saint Michel</td>\n",
       "      <td>[Hôtel Vert, Le Relais Saint Michel, Hotel De ...</td>\n",
       "      <td>[https://www.booking.com/hotel/fr/vert.fr.html...</td>\n",
       "    </tr>\n",
       "    <tr>\n",
       "      <th>1</th>\n",
       "      <td>St Malo</td>\n",
       "      <td>[Le Cargo by Cocoonr, Hotel d'Aleth, Hotel Ajo...</td>\n",
       "      <td>[https://www.booking.com/hotel/fr/le-cargo-sai...</td>\n",
       "    </tr>\n",
       "    <tr>\n",
       "      <th>2</th>\n",
       "      <td>Bayeux</td>\n",
       "      <td>[Le Mogador, ibis budget Bayeux, Domaine de Ba...</td>\n",
       "      <td>[https://www.booking.com/hotel/fr/le-mogador-b...</td>\n",
       "    </tr>\n",
       "    <tr>\n",
       "      <th>3</th>\n",
       "      <td>Le Havre</td>\n",
       "      <td>[Hilton Garden Inn Le Havre Centre, Holiday In...</td>\n",
       "      <td>[https://www.booking.com/hotel/fr/hilton-garde...</td>\n",
       "    </tr>\n",
       "    <tr>\n",
       "      <th>4</th>\n",
       "      <td>Rouen</td>\n",
       "      <td>[Radisson Blu Hotel, Rouen Centre, Maison hype...</td>\n",
       "      <td>[https://www.booking.com/hotel/fr/radisson-blu...</td>\n",
       "    </tr>\n",
       "    <tr>\n",
       "      <th>5</th>\n",
       "      <td>Paris</td>\n",
       "      <td>[Westside Arc de Triomphe Hotel, Grand Hôtel A...</td>\n",
       "      <td>[https://www.booking.com/hotel/fr/westside-arc...</td>\n",
       "    </tr>\n",
       "    <tr>\n",
       "      <th>6</th>\n",
       "      <td>Amiens</td>\n",
       "      <td>[Holiday Inn Express Amiens, an IHG Hotel, Le ...</td>\n",
       "      <td>[https://www.booking.com/hotel/fr/express-by-h...</td>\n",
       "    </tr>\n",
       "    <tr>\n",
       "      <th>7</th>\n",
       "      <td>Lille</td>\n",
       "      <td>[CALM Appart' &amp; Hostel, Hotel Lille Europe, Mo...</td>\n",
       "      <td>[https://www.booking.com/hotel/fr/calm-apparth...</td>\n",
       "    </tr>\n",
       "    <tr>\n",
       "      <th>8</th>\n",
       "      <td>Strasbourg</td>\n",
       "      <td>[City Residence Access Strasbourg, Comfort Hot...</td>\n",
       "      <td>[https://www.booking.com/hotel/fr/city-residen...</td>\n",
       "    </tr>\n",
       "    <tr>\n",
       "      <th>9</th>\n",
       "      <td>Chateau du Haut Koenigsbourg</td>\n",
       "      <td>[Les Chambres du Haut-Koenigsbourg, Gîte L'Oré...</td>\n",
       "      <td>[https://www.booking.com/hotel/fr/les-chambres...</td>\n",
       "    </tr>\n",
       "    <tr>\n",
       "      <th>10</th>\n",
       "      <td>Colmar</td>\n",
       "      <td>[Suites Residences Spa, Le Parc - Standing apa...</td>\n",
       "      <td>[https://www.booking.com/hotel/fr/suites-resid...</td>\n",
       "    </tr>\n",
       "    <tr>\n",
       "      <th>11</th>\n",
       "      <td>Eguisheim</td>\n",
       "      <td>[James Vignoble Hôtel - Eguisheim, GITE LE COQ...</td>\n",
       "      <td>[https://www.booking.com/hotel/fr/saint-hubert...</td>\n",
       "    </tr>\n",
       "    <tr>\n",
       "      <th>12</th>\n",
       "      <td>Besancon</td>\n",
       "      <td>[ibis Styles Besançon, ibis Besançon Centre Vi...</td>\n",
       "      <td>[https://www.booking.com/hotel/fr/besancon.fr....</td>\n",
       "    </tr>\n",
       "    <tr>\n",
       "      <th>13</th>\n",
       "      <td>Dijon</td>\n",
       "      <td>[City Loft Apparthotel, Holiday Inn Express Di...</td>\n",
       "      <td>[https://www.booking.com/hotel/fr/city-loft.fr...</td>\n",
       "    </tr>\n",
       "    <tr>\n",
       "      <th>14</th>\n",
       "      <td>Annecy</td>\n",
       "      <td>[Ace Hotel Annecy, Best Western Hotel Internat...</td>\n",
       "      <td>[https://www.booking.com/hotel/fr/ace-annecy.f...</td>\n",
       "    </tr>\n",
       "    <tr>\n",
       "      <th>15</th>\n",
       "      <td>Grenoble</td>\n",
       "      <td>[Esprit Bistrot / Rent4night Grenoble, Maison ...</td>\n",
       "      <td>[https://www.booking.com/hotel/fr/esprit-bistr...</td>\n",
       "    </tr>\n",
       "    <tr>\n",
       "      <th>16</th>\n",
       "      <td>La Rochelle</td>\n",
       "      <td>[La Rochelle sur L'eau, Lagrange Apart'Hotel l...</td>\n",
       "      <td>[https://www.booking.com/hotel/fr/aqua-domum.f...</td>\n",
       "    </tr>\n",
       "    <tr>\n",
       "      <th>17</th>\n",
       "      <td>Bayonne</td>\n",
       "      <td>[Villa la Renaissance, Hotel Cote Basque, Hote...</td>\n",
       "      <td>[https://www.booking.com/hotel/fr/villa-la-ren...</td>\n",
       "    </tr>\n",
       "    <tr>\n",
       "      <th>18</th>\n",
       "      <td>Biarritz</td>\n",
       "      <td>[ALTAYA Apt with balcony and sea view in Biarr...</td>\n",
       "      <td>[https://www.booking.com/hotel/fr/youcca-apart...</td>\n",
       "    </tr>\n",
       "    <tr>\n",
       "      <th>19</th>\n",
       "      <td>Montauban</td>\n",
       "      <td>[Brit Hotel Confort Montauban, Manoir de la Gr...</td>\n",
       "      <td>[https://www.booking.com/hotel/fr/deltour-mont...</td>\n",
       "    </tr>\n",
       "    <tr>\n",
       "      <th>20</th>\n",
       "      <td>Toulouse</td>\n",
       "      <td>[Odalys City Toulouse Centre Compans Caffarell...</td>\n",
       "      <td>[https://www.booking.com/hotel/fr/odalys-city-...</td>\n",
       "    </tr>\n",
       "    <tr>\n",
       "      <th>21</th>\n",
       "      <td>Ariege</td>\n",
       "      <td>[dtente sky lodge, Logis Auberge de l'Isard, D...</td>\n",
       "      <td>[https://www.booking.com/hotel/fr/dtente-sky-l...</td>\n",
       "    </tr>\n",
       "    <tr>\n",
       "      <th>22</th>\n",
       "      <td>Carcassonne</td>\n",
       "      <td>[Domaine Le Couvent, Adonis Carcassonne, SOWEL...</td>\n",
       "      <td>[https://www.booking.com/hotel/fr/le-couvent-c...</td>\n",
       "    </tr>\n",
       "    <tr>\n",
       "      <th>23</th>\n",
       "      <td>Collioure</td>\n",
       "      <td>[Le Mas des Citronniers, Hotel Méditerranée, L...</td>\n",
       "      <td>[https://www.booking.com/hotel/fr/lesmasdescit...</td>\n",
       "    </tr>\n",
       "    <tr>\n",
       "      <th>24</th>\n",
       "      <td>Saintes Maries de la mer</td>\n",
       "      <td>[Mas De Calabrun, Hôtel Casa Marina, La Tramon...</td>\n",
       "      <td>[https://www.booking.com/hotel/fr/mas-de-calab...</td>\n",
       "    </tr>\n",
       "    <tr>\n",
       "      <th>25</th>\n",
       "      <td>Aigues Mortes</td>\n",
       "      <td>[Hotel Canal Aigues Mortes, Maison des Croisad...</td>\n",
       "      <td>[https://www.booking.com/hotel/fr/canal-aigues...</td>\n",
       "    </tr>\n",
       "    <tr>\n",
       "      <th>26</th>\n",
       "      <td>Nimes</td>\n",
       "      <td>[Royal Hôtel, Logis NIMOTEL Hôtel Cosy, Appart...</td>\n",
       "      <td>[https://www.booking.com/hotel/fr/royal.fr.htm...</td>\n",
       "    </tr>\n",
       "    <tr>\n",
       "      <th>27</th>\n",
       "      <td>Uzes</td>\n",
       "      <td>[Uzès Townhouse with Loggia &amp; Views, Hôtel Le ...</td>\n",
       "      <td>[https://www.booking.com/hotel/fr/uzes-townhou...</td>\n",
       "    </tr>\n",
       "    <tr>\n",
       "      <th>28</th>\n",
       "      <td>Avignon</td>\n",
       "      <td>[A l'ombre du Palais, Be Loft B&amp;B Pool &amp; Spa, ...</td>\n",
       "      <td>[https://www.booking.com/hotel/fr/a-l-39-ombre...</td>\n",
       "    </tr>\n",
       "    <tr>\n",
       "      <th>29</th>\n",
       "      <td>Aix en Provence</td>\n",
       "      <td>[TheCamp Hotel&amp;Lodges - Aix en Provence, Séjou...</td>\n",
       "      <td>[https://www.booking.com/hotel/fr/thecamp-amp-...</td>\n",
       "    </tr>\n",
       "    <tr>\n",
       "      <th>30</th>\n",
       "      <td>Marseille</td>\n",
       "      <td>[Superbe appart 3 p, 10 mn de la plage avec pi...</td>\n",
       "      <td>[https://www.booking.com/hotel/fr/superbe-appa...</td>\n",
       "    </tr>\n",
       "    <tr>\n",
       "      <th>31</th>\n",
       "      <td>Cassis</td>\n",
       "      <td>[LE REVE BLEU, HPC Suites, Home Cassis - Maiso...</td>\n",
       "      <td>[https://www.booking.com/hotel/fr/le-reve-bleu...</td>\n",
       "    </tr>\n",
       "    <tr>\n",
       "      <th>32</th>\n",
       "      <td>Bormes les Mimosas</td>\n",
       "      <td>[Oustaou di Ercole, Magnifique maison de villa...</td>\n",
       "      <td>[https://www.booking.com/hotel/fr/l-39-oustaou...</td>\n",
       "    </tr>\n",
       "    <tr>\n",
       "      <th>33</th>\n",
       "      <td>Gorges du Verdon</td>\n",
       "      <td>[La Bastide du Calalou; BW Signature Collectio...</td>\n",
       "      <td>[https://www.booking.com/hotel/fr/bastide-du-c...</td>\n",
       "    </tr>\n",
       "    <tr>\n",
       "      <th>34</th>\n",
       "      <td>Lyon</td>\n",
       "      <td>[Studio Part Dieu, Blue Dream - Appartement 2b...</td>\n",
       "      <td>[https://www.booking.com/hotel/fr/appart-ribou...</td>\n",
       "    </tr>\n",
       "  </tbody>\n",
       "</table>\n",
       "</div>"
      ],
      "text/plain": [
       "                           ville  \\\n",
       "0              Mont Saint Michel   \n",
       "1                        St Malo   \n",
       "2                         Bayeux   \n",
       "3                       Le Havre   \n",
       "4                          Rouen   \n",
       "5                          Paris   \n",
       "6                         Amiens   \n",
       "7                          Lille   \n",
       "8                     Strasbourg   \n",
       "9   Chateau du Haut Koenigsbourg   \n",
       "10                        Colmar   \n",
       "11                     Eguisheim   \n",
       "12                      Besancon   \n",
       "13                         Dijon   \n",
       "14                        Annecy   \n",
       "15                      Grenoble   \n",
       "16                   La Rochelle   \n",
       "17                       Bayonne   \n",
       "18                      Biarritz   \n",
       "19                     Montauban   \n",
       "20                      Toulouse   \n",
       "21                        Ariege   \n",
       "22                   Carcassonne   \n",
       "23                     Collioure   \n",
       "24      Saintes Maries de la mer   \n",
       "25                 Aigues Mortes   \n",
       "26                         Nimes   \n",
       "27                          Uzes   \n",
       "28                       Avignon   \n",
       "29               Aix en Provence   \n",
       "30                     Marseille   \n",
       "31                        Cassis   \n",
       "32            Bormes les Mimosas   \n",
       "33              Gorges du Verdon   \n",
       "34                          Lyon   \n",
       "\n",
       "                                               hotels  \\\n",
       "0   [Hôtel Vert, Le Relais Saint Michel, Hotel De ...   \n",
       "1   [Le Cargo by Cocoonr, Hotel d'Aleth, Hotel Ajo...   \n",
       "2   [Le Mogador, ibis budget Bayeux, Domaine de Ba...   \n",
       "3   [Hilton Garden Inn Le Havre Centre, Holiday In...   \n",
       "4   [Radisson Blu Hotel, Rouen Centre, Maison hype...   \n",
       "5   [Westside Arc de Triomphe Hotel, Grand Hôtel A...   \n",
       "6   [Holiday Inn Express Amiens, an IHG Hotel, Le ...   \n",
       "7   [CALM Appart' & Hostel, Hotel Lille Europe, Mo...   \n",
       "8   [City Residence Access Strasbourg, Comfort Hot...   \n",
       "9   [Les Chambres du Haut-Koenigsbourg, Gîte L'Oré...   \n",
       "10  [Suites Residences Spa, Le Parc - Standing apa...   \n",
       "11  [James Vignoble Hôtel - Eguisheim, GITE LE COQ...   \n",
       "12  [ibis Styles Besançon, ibis Besançon Centre Vi...   \n",
       "13  [City Loft Apparthotel, Holiday Inn Express Di...   \n",
       "14  [Ace Hotel Annecy, Best Western Hotel Internat...   \n",
       "15  [Esprit Bistrot / Rent4night Grenoble, Maison ...   \n",
       "16  [La Rochelle sur L'eau, Lagrange Apart'Hotel l...   \n",
       "17  [Villa la Renaissance, Hotel Cote Basque, Hote...   \n",
       "18  [ALTAYA Apt with balcony and sea view in Biarr...   \n",
       "19  [Brit Hotel Confort Montauban, Manoir de la Gr...   \n",
       "20  [Odalys City Toulouse Centre Compans Caffarell...   \n",
       "21  [dtente sky lodge, Logis Auberge de l'Isard, D...   \n",
       "22  [Domaine Le Couvent, Adonis Carcassonne, SOWEL...   \n",
       "23  [Le Mas des Citronniers, Hotel Méditerranée, L...   \n",
       "24  [Mas De Calabrun, Hôtel Casa Marina, La Tramon...   \n",
       "25  [Hotel Canal Aigues Mortes, Maison des Croisad...   \n",
       "26  [Royal Hôtel, Logis NIMOTEL Hôtel Cosy, Appart...   \n",
       "27  [Uzès Townhouse with Loggia & Views, Hôtel Le ...   \n",
       "28  [A l'ombre du Palais, Be Loft B&B Pool & Spa, ...   \n",
       "29  [TheCamp Hotel&Lodges - Aix en Provence, Séjou...   \n",
       "30  [Superbe appart 3 p, 10 mn de la plage avec pi...   \n",
       "31  [LE REVE BLEU, HPC Suites, Home Cassis - Maiso...   \n",
       "32  [Oustaou di Ercole, Magnifique maison de villa...   \n",
       "33  [La Bastide du Calalou; BW Signature Collectio...   \n",
       "34  [Studio Part Dieu, Blue Dream - Appartement 2b...   \n",
       "\n",
       "                                                liens  \n",
       "0   [https://www.booking.com/hotel/fr/vert.fr.html...  \n",
       "1   [https://www.booking.com/hotel/fr/le-cargo-sai...  \n",
       "2   [https://www.booking.com/hotel/fr/le-mogador-b...  \n",
       "3   [https://www.booking.com/hotel/fr/hilton-garde...  \n",
       "4   [https://www.booking.com/hotel/fr/radisson-blu...  \n",
       "5   [https://www.booking.com/hotel/fr/westside-arc...  \n",
       "6   [https://www.booking.com/hotel/fr/express-by-h...  \n",
       "7   [https://www.booking.com/hotel/fr/calm-apparth...  \n",
       "8   [https://www.booking.com/hotel/fr/city-residen...  \n",
       "9   [https://www.booking.com/hotel/fr/les-chambres...  \n",
       "10  [https://www.booking.com/hotel/fr/suites-resid...  \n",
       "11  [https://www.booking.com/hotel/fr/saint-hubert...  \n",
       "12  [https://www.booking.com/hotel/fr/besancon.fr....  \n",
       "13  [https://www.booking.com/hotel/fr/city-loft.fr...  \n",
       "14  [https://www.booking.com/hotel/fr/ace-annecy.f...  \n",
       "15  [https://www.booking.com/hotel/fr/esprit-bistr...  \n",
       "16  [https://www.booking.com/hotel/fr/aqua-domum.f...  \n",
       "17  [https://www.booking.com/hotel/fr/villa-la-ren...  \n",
       "18  [https://www.booking.com/hotel/fr/youcca-apart...  \n",
       "19  [https://www.booking.com/hotel/fr/deltour-mont...  \n",
       "20  [https://www.booking.com/hotel/fr/odalys-city-...  \n",
       "21  [https://www.booking.com/hotel/fr/dtente-sky-l...  \n",
       "22  [https://www.booking.com/hotel/fr/le-couvent-c...  \n",
       "23  [https://www.booking.com/hotel/fr/lesmasdescit...  \n",
       "24  [https://www.booking.com/hotel/fr/mas-de-calab...  \n",
       "25  [https://www.booking.com/hotel/fr/canal-aigues...  \n",
       "26  [https://www.booking.com/hotel/fr/royal.fr.htm...  \n",
       "27  [https://www.booking.com/hotel/fr/uzes-townhou...  \n",
       "28  [https://www.booking.com/hotel/fr/a-l-39-ombre...  \n",
       "29  [https://www.booking.com/hotel/fr/thecamp-amp-...  \n",
       "30  [https://www.booking.com/hotel/fr/superbe-appa...  \n",
       "31  [https://www.booking.com/hotel/fr/le-reve-bleu...  \n",
       "32  [https://www.booking.com/hotel/fr/l-39-oustaou...  \n",
       "33  [https://www.booking.com/hotel/fr/bastide-du-c...  \n",
       "34  [https://www.booking.com/hotel/fr/appart-ribou...  "
      ]
     },
     "execution_count": 22,
     "metadata": {},
     "output_type": "execute_result"
    }
   ],
   "source": [
    "# Create a DataFrame from the json file\n",
    "\n",
    "df = pd.read_json(\"hotels.json\")\n",
    "df[\"ville\"] = df[\"ville\"].str.replace(\"+\", \" \")\n",
    "df\n"
   ]
  },
  {
   "cell_type": "markdown",
   "metadata": {},
   "source": [
    "for i in range(len(df[\"ville\"])):\n",
    "    df[\"hotels\"][i] = df[\"hotels\"][i][0:5]\n",
    "    df[\"liens\"][i] = df[\"liens\"][i][0:5]\n"
   ]
  },
  {
   "cell_type": "code",
   "execution_count": 23,
   "metadata": {},
   "outputs": [
    {
     "name": "stderr",
     "output_type": "stream",
     "text": [
      "2022-06-26 06:47:24 [py.warnings] WARNING: /var/folders/hr/m4w2vfm12db4g050bkkr7y540000gn/T/ipykernel_2400/918478526.py:50: SettingWithCopyWarning:\n",
      "\n",
      "\n",
      "A value is trying to be set on a copy of a slice from a DataFrame\n",
      "\n",
      "See the caveats in the documentation: https://pandas.pydata.org/pandas-docs/stable/user_guide/indexing.html#returning-a-view-versus-a-copy\n",
      "\n",
      "\n",
      "2022-06-26 06:47:24 [py.warnings] WARNING: /var/folders/hr/m4w2vfm12db4g050bkkr7y540000gn/T/ipykernel_2400/918478526.py:51: SettingWithCopyWarning:\n",
      "\n",
      "\n",
      "A value is trying to be set on a copy of a slice from a DataFrame\n",
      "\n",
      "See the caveats in the documentation: https://pandas.pydata.org/pandas-docs/stable/user_guide/indexing.html#returning-a-view-versus-a-copy\n",
      "\n",
      "\n",
      "2022-06-26 06:47:24 [py.warnings] WARNING: /var/folders/hr/m4w2vfm12db4g050bkkr7y540000gn/T/ipykernel_2400/918478526.py:52: SettingWithCopyWarning:\n",
      "\n",
      "\n",
      "A value is trying to be set on a copy of a slice from a DataFrame\n",
      "\n",
      "See the caveats in the documentation: https://pandas.pydata.org/pandas-docs/stable/user_guide/indexing.html#returning-a-view-versus-a-copy\n",
      "\n",
      "\n",
      "2022-06-26 06:47:24 [py.warnings] WARNING: /var/folders/hr/m4w2vfm12db4g050bkkr7y540000gn/T/ipykernel_2400/918478526.py:53: SettingWithCopyWarning:\n",
      "\n",
      "\n",
      "A value is trying to be set on a copy of a slice from a DataFrame\n",
      "\n",
      "See the caveats in the documentation: https://pandas.pydata.org/pandas-docs/stable/user_guide/indexing.html#returning-a-view-versus-a-copy\n",
      "\n",
      "\n"
     ]
    },
    {
     "name": "stdout",
     "output_type": "stream",
     "text": [
      "city Mont Saint Michel : OK\n",
      "city St Malo : OK\n",
      "city Bayeux : OK\n",
      "city Le Havre : OK\n",
      "city Rouen : OK\n",
      "city Paris : OK\n",
      "city Amiens : OK\n",
      "city Lille : OK\n",
      "city Strasbourg : OK\n",
      "city Chateau du Haut Koenigsbourg : OK\n",
      "city Colmar : OK\n",
      "city Eguisheim : OK\n",
      "city Besancon : OK\n",
      "city Dijon : OK\n",
      "city Annecy : OK\n",
      "city Grenoble : OK\n",
      "city La Rochelle : OK\n",
      "city Bayonne : OK\n",
      "city Biarritz : OK\n",
      "city Montauban : OK\n",
      "city Toulouse : OK\n",
      "city Ariege : OK\n",
      "city Carcassonne : OK\n",
      "city Collioure : OK\n",
      "city Saintes Maries de la mer : OK\n",
      "city Aigues Mortes : OK\n",
      "city Nimes : OK\n",
      "city Uzes : OK\n",
      "city Avignon : OK\n",
      "city Aix en Provence : OK\n",
      "city Marseille : OK\n",
      "city Cassis : OK\n",
      "city Bormes les Mimosas : OK\n",
      "city Gorges du Verdon : OK\n",
      "city Lyon : OK\n"
     ]
    }
   ],
   "source": [
    "# BeautifulSoup iterates on each URL to get the hotel's score, GPS coordinates and description.\n",
    "df[\"lat\"] = 0\n",
    "df[\"lon\"] = 0\n",
    "df[\"description\"] = \"---\"\n",
    "df[\"score\"] = 0.0\n",
    "\n",
    "navigator = \"Mozilla/5.0 (Windows NT 6.1; WOW64) AppleWebKit/535.1 (KHTML, like Gecko) Chrome/13.0.782.112 Safari/535.1\"\n",
    "\n",
    "for i in range(len(df[\"liens\"])):\n",
    "    lat_list = []\n",
    "    lon_list = []\n",
    "    description_list = []\n",
    "    score_list = []\n",
    "\n",
    "    hotel_list = df[\"liens\"][i]\n",
    "\n",
    "    for i2 in hotel_list:\n",
    "\n",
    "        # Sometimes BeautifulSoup doesn't manage to gather data. When it fails, it tries again.\n",
    "        try:\n",
    "            page = requests.get(i2, headers={\"User-Agent\": navigator})\n",
    "            soup = BeautifulSoup(page.text, \"html.parser\")\n",
    "        except:\n",
    "            page = requests.get(i2, headers={\"User-Agent\": navigator})\n",
    "            soup = BeautifulSoup(page.text, \"html.parser\")\n",
    "\n",
    "        lat_list.append(\n",
    "            soup.select(\"p.address.address_clean a\")[0]\n",
    "            .get(\"data-atlas-latlng\")\n",
    "            .split(\",\")[0]\n",
    "        )\n",
    "        lon_list.append(\n",
    "            soup.select(\"p.address.address_clean a\")[0]\n",
    "            .get(\"data-atlas-latlng\")\n",
    "            .split(\",\")[1]\n",
    "        )\n",
    "        description_list.append(\n",
    "            soup.select(\"div#property_description_content\")[0].get_text()\n",
    "        )\n",
    "\n",
    "        try:\n",
    "            score_list.append(soup.select(\"div.b5cd09854e.d10a6220b4\")[0].get_text())\n",
    "\n",
    "        except:\n",
    "            # 2 hotels over the 700 that I am going to scrap dont have a score yet but I still need one for the visualization. I set it to 1.\n",
    "            score_list.append(\"1.0\")\n",
    "\n",
    "        time.sleep(1.4)\n",
    "\n",
    "    df[\"lat\"][i] = lat_list\n",
    "    df[\"lon\"][i] = lon_list\n",
    "    df[\"description\"][i] = description_list\n",
    "    df[\"score\"][i] = score_list\n",
    "\n",
    "    print(f\"city {df['ville'].iloc[i]} : OK\")\n"
   ]
  },
  {
   "cell_type": "code",
   "execution_count": 24,
   "metadata": {},
   "outputs": [
    {
     "data": {
      "text/html": [
       "<div>\n",
       "<style scoped>\n",
       "    .dataframe tbody tr th:only-of-type {\n",
       "        vertical-align: middle;\n",
       "    }\n",
       "\n",
       "    .dataframe tbody tr th {\n",
       "        vertical-align: top;\n",
       "    }\n",
       "\n",
       "    .dataframe thead th {\n",
       "        text-align: right;\n",
       "    }\n",
       "</style>\n",
       "<table border=\"1\" class=\"dataframe\">\n",
       "  <thead>\n",
       "    <tr style=\"text-align: right;\">\n",
       "      <th></th>\n",
       "      <th>ville</th>\n",
       "      <th>hotels</th>\n",
       "      <th>liens</th>\n",
       "      <th>lat</th>\n",
       "      <th>lon</th>\n",
       "      <th>description</th>\n",
       "      <th>score</th>\n",
       "    </tr>\n",
       "  </thead>\n",
       "  <tbody>\n",
       "    <tr>\n",
       "      <th>0</th>\n",
       "      <td>Mont Saint Michel</td>\n",
       "      <td>[Hôtel Vert, Le Relais Saint Michel, Hotel De ...</td>\n",
       "      <td>[https://www.booking.com/hotel/fr/vert.fr.html...</td>\n",
       "      <td>[48.61470049, 48.61758727, 48.61688155, 48.635...</td>\n",
       "      <td>[-1.50961697, -1.51039615, -1.51091784, -1.510...</td>\n",
       "      <td>[\\nVous pouvez bénéficier d'une réduction Geni...</td>\n",
       "      <td>[8,0, 7,9, 7,2, 7,3, 7,2, 8,2, 8,0, 7,2, 8,0, ...</td>\n",
       "    </tr>\n",
       "    <tr>\n",
       "      <th>1</th>\n",
       "      <td>St Malo</td>\n",
       "      <td>[Le Cargo by Cocoonr, Hotel d'Aleth, Hotel Ajo...</td>\n",
       "      <td>[https://www.booking.com/hotel/fr/le-cargo-sai...</td>\n",
       "      <td>[48.64842800, 48.63593081, 48.64735692, 48.651...</td>\n",
       "      <td>[-2.02664200, -2.02171236, -2.02519655, -2.023...</td>\n",
       "      <td>[\\nCet établissement est à 2 minutes à pied de...</td>\n",
       "      <td>[8,3, 7,8, 8,5, 8,0, 7,4, 7,6, 8,3, 8,6, 7,3, ...</td>\n",
       "    </tr>\n",
       "    <tr>\n",
       "      <th>2</th>\n",
       "      <td>Bayeux</td>\n",
       "      <td>[Le Mogador, ibis budget Bayeux, Domaine de Ba...</td>\n",
       "      <td>[https://www.booking.com/hotel/fr/le-mogador-b...</td>\n",
       "      <td>[49.27933593, 49.25424209, 49.27232560, 49.272...</td>\n",
       "      <td>[-0.70705610, -0.64648747, -0.69851010, -0.707...</td>\n",
       "      <td>[\\nL'établissement Le Mogador est situé à Baye...</td>\n",
       "      <td>[8,1, 8,2, 9,3, 8,6, 8,6, 7,9, 8,5, 8,1, 9,4, ...</td>\n",
       "    </tr>\n",
       "    <tr>\n",
       "      <th>3</th>\n",
       "      <td>Le Havre</td>\n",
       "      <td>[Hilton Garden Inn Le Havre Centre, Holiday In...</td>\n",
       "      <td>[https://www.booking.com/hotel/fr/hilton-garde...</td>\n",
       "      <td>[49.49008699, 49.49823800, 49.49641693, 49.492...</td>\n",
       "      <td>[0.09774696, 0.12883700, 0.15151234, 0.1231080...</td>\n",
       "      <td>[\\nLe Hilton Garden Inn Le Havre Centre est si...</td>\n",
       "      <td>[8,8, 8,2, 7,6, 8,2, 8,5, 8,6, 8,4, 7,1, 8,1, ...</td>\n",
       "    </tr>\n",
       "    <tr>\n",
       "      <th>4</th>\n",
       "      <td>Rouen</td>\n",
       "      <td>[Radisson Blu Hotel, Rouen Centre, Maison hype...</td>\n",
       "      <td>[https://www.booking.com/hotel/fr/radisson-blu...</td>\n",
       "      <td>[49.44644100, 49.44465180, 49.44117285, 49.437...</td>\n",
       "      <td>[1.09412000, 1.09132620, 1.09517545, 1.0972528...</td>\n",
       "      <td>[\\nVous pouvez bénéficier d'une réduction Geni...</td>\n",
       "      <td>[8,9, 8,7, 8,2, 8,4, 7,5, 8,6, 7,4, 8,5, 8,2, ...</td>\n",
       "    </tr>\n",
       "    <tr>\n",
       "      <th>5</th>\n",
       "      <td>Paris</td>\n",
       "      <td>[Westside Arc de Triomphe Hotel, Grand Hôtel A...</td>\n",
       "      <td>[https://www.booking.com/hotel/fr/westside-arc...</td>\n",
       "      <td>[48.88129894, 48.85925680, 48.88141526, 48.876...</td>\n",
       "      <td>[2.29480304, 2.36840850, 2.32455321, 2.3269844...</td>\n",
       "      <td>[\\nDoté d’un bar-salon, le Westside Arc de Tri...</td>\n",
       "      <td>[8,0, 8,1, 8,4, 8,1, 8,7, 8,7, 8,5, 8,5, 8,4, ...</td>\n",
       "    </tr>\n",
       "    <tr>\n",
       "      <th>6</th>\n",
       "      <td>Amiens</td>\n",
       "      <td>[Holiday Inn Express Amiens, an IHG Hotel, Le ...</td>\n",
       "      <td>[https://www.booking.com/hotel/fr/express-by-h...</td>\n",
       "      <td>[49.89167620, 49.89538310, 49.89444519, 49.887...</td>\n",
       "      <td>[2.30775386, 2.29777200, 2.30094239, 2.3116109...</td>\n",
       "      <td>[\\nRénové en avril 2015, le Holiday Inn Expres...</td>\n",
       "      <td>[8,1, 9,3, 8,3, 8,1, 8,0, 7,6, 9,5, 8,9, 8,3, ...</td>\n",
       "    </tr>\n",
       "    <tr>\n",
       "      <th>7</th>\n",
       "      <td>Lille</td>\n",
       "      <td>[CALM Appart' &amp; Hostel, Hotel Lille Europe, Mo...</td>\n",
       "      <td>[https://www.booking.com/hotel/fr/calm-apparth...</td>\n",
       "      <td>[50.63734618, 50.63788756, 50.62783100, 50.635...</td>\n",
       "      <td>[3.06945696, 3.07268500, 3.06359200, 3.0697072...</td>\n",
       "      <td>[\\n\\nVous pouvez bénéficier d'une réduction Ge...</td>\n",
       "      <td>[8,1, 8,0, 8,6, 7,7, 8,0, 7,3, 7,8, 8,5, 8,0, ...</td>\n",
       "    </tr>\n",
       "    <tr>\n",
       "      <th>8</th>\n",
       "      <td>Strasbourg</td>\n",
       "      <td>[City Residence Access Strasbourg, Comfort Hot...</td>\n",
       "      <td>[https://www.booking.com/hotel/fr/city-residen...</td>\n",
       "      <td>[48.59001400, 48.57269177, 48.57772068, 48.589...</td>\n",
       "      <td>[7.73987000, 7.72871353, 7.73397669, 7.7387986...</td>\n",
       "      <td>[\\nSitué à Strasbourg, à moins de 900 mètres d...</td>\n",
       "      <td>[7,0, 8,3, 7,8, 7,1, 8,6, 9,0, 8,3, 8,2, 8,1, ...</td>\n",
       "    </tr>\n",
       "    <tr>\n",
       "      <th>9</th>\n",
       "      <td>Chateau du Haut Koenigsbourg</td>\n",
       "      <td>[Les Chambres du Haut-Koenigsbourg, Gîte L'Oré...</td>\n",
       "      <td>[https://www.booking.com/hotel/fr/les-chambres...</td>\n",
       "      <td>[48.24702280, 48.24834892, 48.24840250, 48.180...</td>\n",
       "      <td>[7.34632093, 7.35484448, 7.35482570, 7.3092045...</td>\n",
       "      <td>[\\n\\nVous pouvez bénéficier d'une réduction Ge...</td>\n",
       "      <td>[8,8, 9,5, 9,5, 9,5, 9,4, 9,0, 9,6, 9,4, 8,7, ...</td>\n",
       "    </tr>\n",
       "    <tr>\n",
       "      <th>10</th>\n",
       "      <td>Colmar</td>\n",
       "      <td>[Suites Residences Spa, Le Parc - Standing apa...</td>\n",
       "      <td>[https://www.booking.com/hotel/fr/suites-resid...</td>\n",
       "      <td>[48.07900192, 48.07708620, 48.07641026, 48.079...</td>\n",
       "      <td>[7.35450824, 7.35253250, 7.35954888, 7.3624890...</td>\n",
       "      <td>[\\nVous pouvez bénéficier d'une réduction Geni...</td>\n",
       "      <td>[8,5, 8,6, 8,7, 9,3, 8,7, 9,7, 8,8, 9,1, 7,1, ...</td>\n",
       "    </tr>\n",
       "    <tr>\n",
       "      <th>11</th>\n",
       "      <td>Eguisheim</td>\n",
       "      <td>[James Vignoble Hôtel - Eguisheim, GITE LE COQ...</td>\n",
       "      <td>[https://www.booking.com/hotel/fr/saint-hubert...</td>\n",
       "      <td>[48.04496277, 48.04170911, 48.04228862, 48.045...</td>\n",
       "      <td>[7.30157845, 7.30569280, 7.30945140, 7.3118546...</td>\n",
       "      <td>[\\n\\nVous pouvez bénéficier d'une réduction Ge...</td>\n",
       "      <td>[8,8, 9,8, 7,8, 7,9, 8,8, 8,7, 9,1, 8,7, 9,7, ...</td>\n",
       "    </tr>\n",
       "    <tr>\n",
       "      <th>12</th>\n",
       "      <td>Besancon</td>\n",
       "      <td>[ibis Styles Besançon, ibis Besançon Centre Vi...</td>\n",
       "      <td>[https://www.booking.com/hotel/fr/besancon.fr....</td>\n",
       "      <td>[47.25425346, 47.24045605, 47.23856537, 47.231...</td>\n",
       "      <td>[6.02163970, 6.02599533, 6.02532506, 6.0265803...</td>\n",
       "      <td>[\\n\\nVous pouvez bénéficier d'une réduction Ge...</td>\n",
       "      <td>[7,9, 8,4, 8,6, 8,2, 8,9, 8,2, 7,9, 8,0, 8,0, ...</td>\n",
       "    </tr>\n",
       "    <tr>\n",
       "      <th>13</th>\n",
       "      <td>Dijon</td>\n",
       "      <td>[City Loft Apparthotel, Holiday Inn Express Di...</td>\n",
       "      <td>[https://www.booking.com/hotel/fr/city-loft.fr...</td>\n",
       "      <td>[47.32268695, 47.32699910, 47.35121566, 47.318...</td>\n",
       "      <td>[5.03817558, 5.07608727, 5.06966740, 5.0401146...</td>\n",
       "      <td>[\\nIdéalement situé au cœur du quartier piéton...</td>\n",
       "      <td>[8,2, 8,2, 7,6, 8,1, 7,9, 8,8, 7,2, 8,5, 8,2, ...</td>\n",
       "    </tr>\n",
       "    <tr>\n",
       "      <th>14</th>\n",
       "      <td>Annecy</td>\n",
       "      <td>[Ace Hotel Annecy, Best Western Hotel Internat...</td>\n",
       "      <td>[https://www.booking.com/hotel/fr/ace-annecy.f...</td>\n",
       "      <td>[45.88008995, 45.89998968, 45.89559668, 45.898...</td>\n",
       "      <td>[6.09713048, 6.11575842, 6.12978489, 6.1247956...</td>\n",
       "      <td>[\\nDoté d'une réception ouverte 24h/24, l'Ace ...</td>\n",
       "      <td>[8,1, 8,1, 7,7, 9,3, 9,0, 8,5, 8,7, 9,0, 8,6, ...</td>\n",
       "    </tr>\n",
       "    <tr>\n",
       "      <th>15</th>\n",
       "      <td>Grenoble</td>\n",
       "      <td>[Esprit Bistrot / Rent4night Grenoble, Maison ...</td>\n",
       "      <td>[https://www.booking.com/hotel/fr/esprit-bistr...</td>\n",
       "      <td>[45.18543211, 45.19079330, 45.18920402, 45.192...</td>\n",
       "      <td>[5.74399642, 5.71669668, 5.72537228, 5.7119170...</td>\n",
       "      <td>[\\n\\nVous pouvez bénéficier d'une réduction Ge...</td>\n",
       "      <td>[8,3, 8,3, 7,8, 8,3, 8,6, 7,6, 7,6, 7,8, 8,0, ...</td>\n",
       "    </tr>\n",
       "    <tr>\n",
       "      <th>16</th>\n",
       "      <td>La Rochelle</td>\n",
       "      <td>[La Rochelle sur L'eau, Lagrange Apart'Hotel l...</td>\n",
       "      <td>[https://www.booking.com/hotel/fr/aqua-domum.f...</td>\n",
       "      <td>[46.14667561, 46.15107012, 46.14068996, 46.145...</td>\n",
       "      <td>[-1.16817349, -1.15486329, -1.16616011, -1.156...</td>\n",
       "      <td>[\\nVous pouvez bénéficier d'une réduction Geni...</td>\n",
       "      <td>[9,4, 7,2, 7,7, 7,5, 7,5, 7,3, 8,4, 8,2, 8,6, ...</td>\n",
       "    </tr>\n",
       "    <tr>\n",
       "      <th>17</th>\n",
       "      <td>Bayonne</td>\n",
       "      <td>[Villa la Renaissance, Hotel Cote Basque, Hote...</td>\n",
       "      <td>[https://www.booking.com/hotel/fr/villa-la-ren...</td>\n",
       "      <td>[43.48232100, 43.49618306, 43.49349109, 43.492...</td>\n",
       "      <td>[-1.46816400, -1.46960109, -1.45263344, -1.472...</td>\n",
       "      <td>[\\nLa Villa la Renaissance propose des chambre...</td>\n",
       "      <td>[9,3, 7,8, 8,0, 9,0, 8,8, 7,9, 7,4, 9,4, 9,0, ...</td>\n",
       "    </tr>\n",
       "    <tr>\n",
       "      <th>18</th>\n",
       "      <td>Biarritz</td>\n",
       "      <td>[ALTAYA Apt with balcony and sea view in Biarr...</td>\n",
       "      <td>[https://www.booking.com/hotel/fr/youcca-apart...</td>\n",
       "      <td>[43.48449660, 43.48065123, 43.47650270, 43.482...</td>\n",
       "      <td>[-1.56648820, -1.56534523, -1.56245649, -1.560...</td>\n",
       "      <td>[\\nCet établissement est à 2 minutes à pied de...</td>\n",
       "      <td>[9,5, 8,2, 8,3, 9,4, 8,4, 9,1, 8,4, 8,0, 8,4, ...</td>\n",
       "    </tr>\n",
       "    <tr>\n",
       "      <th>19</th>\n",
       "      <td>Montauban</td>\n",
       "      <td>[Brit Hotel Confort Montauban, Manoir de la Gr...</td>\n",
       "      <td>[https://www.booking.com/hotel/fr/deltour-mont...</td>\n",
       "      <td>[43.98081084, 44.04904337, 43.97917400, 44.013...</td>\n",
       "      <td>[1.33039445, 1.34388352, 1.30914200, 1.3445910...</td>\n",
       "      <td>[\\nVous pouvez bénéficier d'une réduction Geni...</td>\n",
       "      <td>[7,5, 9,7, 9,5, 9,2, 8,8, 7,7, 9,1, 7,1, 8,3, ...</td>\n",
       "    </tr>\n",
       "    <tr>\n",
       "      <th>20</th>\n",
       "      <td>Toulouse</td>\n",
       "      <td>[Odalys City Toulouse Centre Compans Caffarell...</td>\n",
       "      <td>[https://www.booking.com/hotel/fr/odalys-city-...</td>\n",
       "      <td>[43.60907890, 43.58763592, 43.61194052, 43.603...</td>\n",
       "      <td>[1.42748350, 1.44667894, 1.45180665, 1.4482359...</td>\n",
       "      <td>[\\n\\nVous pouvez bénéficier d'une réduction Ge...</td>\n",
       "      <td>[8,7, 8,0, 8,1, 8,1, 9,0, 7,1, 8,3, 8,3, 8,1, ...</td>\n",
       "    </tr>\n",
       "    <tr>\n",
       "      <th>21</th>\n",
       "      <td>Ariege</td>\n",
       "      <td>[dtente sky lodge, Logis Auberge de l'Isard, D...</td>\n",
       "      <td>[https://www.booking.com/hotel/fr/dtente-sky-l...</td>\n",
       "      <td>[42.89450398, 42.93045100, 43.25701228, 42.848...</td>\n",
       "      <td>[1.32823379, 0.89378650, 1.66643500, 1.6054254...</td>\n",
       "      <td>[\\n\\nVous pouvez bénéficier d'une réduction Ge...</td>\n",
       "      <td>[9,4, 8,0, 8,2, 7,4, 8,5, 8,3, 9,2, 8,2, 9,1, ...</td>\n",
       "    </tr>\n",
       "    <tr>\n",
       "      <th>22</th>\n",
       "      <td>Carcassonne</td>\n",
       "      <td>[Domaine Le Couvent, Adonis Carcassonne, SOWEL...</td>\n",
       "      <td>[https://www.booking.com/hotel/fr/le-couvent-c...</td>\n",
       "      <td>[43.21626207, 43.20478378, 43.21103244, 43.208...</td>\n",
       "      <td>[2.28648797, 2.36022029, 2.35819995, 2.3670440...</td>\n",
       "      <td>[\\n\\nVous pouvez bénéficier d'une réduction Ge...</td>\n",
       "      <td>[9,4, 7,7, 8,3, 8,4, 8,4, 9,1, 9,0, 8,5, 8,1, ...</td>\n",
       "    </tr>\n",
       "    <tr>\n",
       "      <th>23</th>\n",
       "      <td>Collioure</td>\n",
       "      <td>[Le Mas des Citronniers, Hotel Méditerranée, L...</td>\n",
       "      <td>[https://www.booking.com/hotel/fr/lesmasdescit...</td>\n",
       "      <td>[42.52538159, 42.52708254, 42.52534777, 42.523...</td>\n",
       "      <td>[3.08256391, 3.08026291, 3.09032446, 3.0854253...</td>\n",
       "      <td>[\\n\\nVous pouvez bénéficier d'une réduction Ge...</td>\n",
       "      <td>[8,0, 7,9, 9,0, 7,7, 8,7, 8,1, 7,3, 7,5, 8,8, ...</td>\n",
       "    </tr>\n",
       "    <tr>\n",
       "      <th>24</th>\n",
       "      <td>Saintes Maries de la mer</td>\n",
       "      <td>[Mas De Calabrun, Hôtel Casa Marina, La Tramon...</td>\n",
       "      <td>[https://www.booking.com/hotel/fr/mas-de-calab...</td>\n",
       "      <td>[43.50225830, 43.45113300, 43.47260109, 43.450...</td>\n",
       "      <td>[4.42575753, 4.43095300, 4.41012025, 4.4299122...</td>\n",
       "      <td>[\\nVous pouvez bénéficier d'une réduction Geni...</td>\n",
       "      <td>[8,5, 8,9, 9,0, 7,9, 8,0, 7,7, 8,8, 7,3, 8,5, ...</td>\n",
       "    </tr>\n",
       "    <tr>\n",
       "      <th>25</th>\n",
       "      <td>Aigues Mortes</td>\n",
       "      <td>[Hotel Canal Aigues Mortes, Maison des Croisad...</td>\n",
       "      <td>[https://www.booking.com/hotel/fr/canal-aigues...</td>\n",
       "      <td>[43.57298752, 43.56899740, 43.56721967, 43.565...</td>\n",
       "      <td>[4.19482470, 4.18829820, 4.18934360, 4.1887570...</td>\n",
       "      <td>[\\n\\nVous pouvez bénéficier d'une réduction Ge...</td>\n",
       "      <td>[8,5, 8,9, 8,4, 9,4, 7,9, 8,3, 8,9, 9,1, 8,0, ...</td>\n",
       "    </tr>\n",
       "    <tr>\n",
       "      <th>26</th>\n",
       "      <td>Nimes</td>\n",
       "      <td>[Royal Hôtel, Logis NIMOTEL Hôtel Cosy, Appart...</td>\n",
       "      <td>[https://www.booking.com/hotel/fr/royal.fr.htm...</td>\n",
       "      <td>[43.83881510, 43.81557635, 43.83387353, 43.815...</td>\n",
       "      <td>[4.35481846, 4.34660353, 4.36143396, 4.3459050...</td>\n",
       "      <td>[\\nVous pouvez bénéficier d'une réduction Geni...</td>\n",
       "      <td>[8,2, 7,3, 8,7, 7,2, 7,1, 8,5, 6,9, 7,9, 7,7, ...</td>\n",
       "    </tr>\n",
       "    <tr>\n",
       "      <th>27</th>\n",
       "      <td>Uzes</td>\n",
       "      <td>[Uzès Townhouse with Loggia &amp; Views, Hôtel Le ...</td>\n",
       "      <td>[https://www.booking.com/hotel/fr/uzes-townhou...</td>\n",
       "      <td>[44.01339239, 44.02305334, 44.01246437, 44.012...</td>\n",
       "      <td>[4.42081974, 4.42047223, 4.42180011, 4.4141489...</td>\n",
       "      <td>[\\nVous pouvez bénéficier d'une réduction Geni...</td>\n",
       "      <td>[8,7, 8,9, 8,8, 7,6, 8,7, 9,7, 8,7, 7,7, 8,8, ...</td>\n",
       "    </tr>\n",
       "    <tr>\n",
       "      <th>28</th>\n",
       "      <td>Avignon</td>\n",
       "      <td>[A l'ombre du Palais, Be Loft B&amp;B Pool &amp; Spa, ...</td>\n",
       "      <td>[https://www.booking.com/hotel/fr/a-l-39-ombre...</td>\n",
       "      <td>[43.95172900, 43.94033710, 43.95135215, 43.949...</td>\n",
       "      <td>[4.81033900, 4.81174964, 4.81156054, 4.8198638...</td>\n",
       "      <td>[\\n\\nVous pouvez bénéficier d'une réduction Ge...</td>\n",
       "      <td>[8,3, 8,6, 9,5, 7,7, 8,6, 7,6, 7,5, 8,3, 7,7, ...</td>\n",
       "    </tr>\n",
       "    <tr>\n",
       "      <th>29</th>\n",
       "      <td>Aix en Provence</td>\n",
       "      <td>[TheCamp Hotel&amp;Lodges - Aix en Provence, Séjou...</td>\n",
       "      <td>[https://www.booking.com/hotel/fr/thecamp-amp-...</td>\n",
       "      <td>[43.49631600, 43.52524078, 43.52191762, 43.528...</td>\n",
       "      <td>[5.34215200, 5.44126600, 5.45787156, 5.4408690...</td>\n",
       "      <td>[\\nVous pouvez bénéficier d'une réduction Geni...</td>\n",
       "      <td>[8,0, 8,2, 8,5, 8,5, 7,3, 7,4, 8,0, 7,1, 7,3, ...</td>\n",
       "    </tr>\n",
       "    <tr>\n",
       "      <th>30</th>\n",
       "      <td>Marseille</td>\n",
       "      <td>[Superbe appart 3 p, 10 mn de la plage avec pi...</td>\n",
       "      <td>[https://www.booking.com/hotel/fr/superbe-appa...</td>\n",
       "      <td>[43.25053030, 43.29412372, 43.30009700, 43.296...</td>\n",
       "      <td>[5.38148170, 5.37463993, 5.36758500, 5.3914529...</td>\n",
       "      <td>[\\nCet établissement est à 18 minutes à pied d...</td>\n",
       "      <td>[9,5, 8,4, 7,8, 9,1, 8,5, 8,5, 7,3, 5,7, 7,9, ...</td>\n",
       "    </tr>\n",
       "    <tr>\n",
       "      <th>31</th>\n",
       "      <td>Cassis</td>\n",
       "      <td>[LE REVE BLEU, HPC Suites, Home Cassis - Maiso...</td>\n",
       "      <td>[https://www.booking.com/hotel/fr/le-reve-bleu...</td>\n",
       "      <td>[43.22062430, 43.21644024, 43.22207969, 43.220...</td>\n",
       "      <td>[5.54076700, 5.54174572, 5.53792695, 5.5424693...</td>\n",
       "      <td>[\\nCet établissement est à 4 minutes à pied de...</td>\n",
       "      <td>[8,0, 9,2, 7,5, 7,5, 8,5, 9,3, 9,5, 8,1, 8,2, ...</td>\n",
       "    </tr>\n",
       "    <tr>\n",
       "      <th>32</th>\n",
       "      <td>Bormes les Mimosas</td>\n",
       "      <td>[Oustaou di Ercole, Magnifique maison de villa...</td>\n",
       "      <td>[https://www.booking.com/hotel/fr/l-39-oustaou...</td>\n",
       "      <td>[43.14957041, 43.15160800, 43.12318400, 43.140...</td>\n",
       "      <td>[6.30204835, 6.34112340, 6.35446400, 6.3367149...</td>\n",
       "      <td>[\\n\\nVous pouvez bénéficier d'une réduction Ge...</td>\n",
       "      <td>[9,2, 9,0, 1.0, 8,8, 8,0, 1.0, 9,0, 1.0, 1.0, ...</td>\n",
       "    </tr>\n",
       "    <tr>\n",
       "      <th>33</th>\n",
       "      <td>Gorges du Verdon</td>\n",
       "      <td>[La Bastide du Calalou; BW Signature Collectio...</td>\n",
       "      <td>[https://www.booking.com/hotel/fr/bastide-du-c...</td>\n",
       "      <td>[43.65436638, 43.77559101, 43.77633074, 43.762...</td>\n",
       "      <td>[6.16950452, 6.24333876, 6.24252310, 6.2191820...</td>\n",
       "      <td>[\\nVous pouvez bénéficier d'une réduction Geni...</td>\n",
       "      <td>[8,4, 7,3, 8,1, 8,4, 8,3, 9,0, 7,5, 7,9, 8,8, ...</td>\n",
       "    </tr>\n",
       "    <tr>\n",
       "      <th>34</th>\n",
       "      <td>Lyon</td>\n",
       "      <td>[Studio Part Dieu, Blue Dream - Appartement 2b...</td>\n",
       "      <td>[https://www.booking.com/hotel/fr/appart-ribou...</td>\n",
       "      <td>[45.76223680, 45.76740410, 45.74608300, 45.759...</td>\n",
       "      <td>[4.86439620, 4.83213710, 4.83718700, 4.8652374...</td>\n",
       "      <td>[\\n\\nVous pouvez bénéficier d'une réduction Ge...</td>\n",
       "      <td>[8,5, 9,2, 8,4, 7,6, 8,0, 8,0, 7,2, 7,9, 7,8, ...</td>\n",
       "    </tr>\n",
       "  </tbody>\n",
       "</table>\n",
       "</div>"
      ],
      "text/plain": [
       "                           ville  \\\n",
       "0              Mont Saint Michel   \n",
       "1                        St Malo   \n",
       "2                         Bayeux   \n",
       "3                       Le Havre   \n",
       "4                          Rouen   \n",
       "5                          Paris   \n",
       "6                         Amiens   \n",
       "7                          Lille   \n",
       "8                     Strasbourg   \n",
       "9   Chateau du Haut Koenigsbourg   \n",
       "10                        Colmar   \n",
       "11                     Eguisheim   \n",
       "12                      Besancon   \n",
       "13                         Dijon   \n",
       "14                        Annecy   \n",
       "15                      Grenoble   \n",
       "16                   La Rochelle   \n",
       "17                       Bayonne   \n",
       "18                      Biarritz   \n",
       "19                     Montauban   \n",
       "20                      Toulouse   \n",
       "21                        Ariege   \n",
       "22                   Carcassonne   \n",
       "23                     Collioure   \n",
       "24      Saintes Maries de la mer   \n",
       "25                 Aigues Mortes   \n",
       "26                         Nimes   \n",
       "27                          Uzes   \n",
       "28                       Avignon   \n",
       "29               Aix en Provence   \n",
       "30                     Marseille   \n",
       "31                        Cassis   \n",
       "32            Bormes les Mimosas   \n",
       "33              Gorges du Verdon   \n",
       "34                          Lyon   \n",
       "\n",
       "                                               hotels  \\\n",
       "0   [Hôtel Vert, Le Relais Saint Michel, Hotel De ...   \n",
       "1   [Le Cargo by Cocoonr, Hotel d'Aleth, Hotel Ajo...   \n",
       "2   [Le Mogador, ibis budget Bayeux, Domaine de Ba...   \n",
       "3   [Hilton Garden Inn Le Havre Centre, Holiday In...   \n",
       "4   [Radisson Blu Hotel, Rouen Centre, Maison hype...   \n",
       "5   [Westside Arc de Triomphe Hotel, Grand Hôtel A...   \n",
       "6   [Holiday Inn Express Amiens, an IHG Hotel, Le ...   \n",
       "7   [CALM Appart' & Hostel, Hotel Lille Europe, Mo...   \n",
       "8   [City Residence Access Strasbourg, Comfort Hot...   \n",
       "9   [Les Chambres du Haut-Koenigsbourg, Gîte L'Oré...   \n",
       "10  [Suites Residences Spa, Le Parc - Standing apa...   \n",
       "11  [James Vignoble Hôtel - Eguisheim, GITE LE COQ...   \n",
       "12  [ibis Styles Besançon, ibis Besançon Centre Vi...   \n",
       "13  [City Loft Apparthotel, Holiday Inn Express Di...   \n",
       "14  [Ace Hotel Annecy, Best Western Hotel Internat...   \n",
       "15  [Esprit Bistrot / Rent4night Grenoble, Maison ...   \n",
       "16  [La Rochelle sur L'eau, Lagrange Apart'Hotel l...   \n",
       "17  [Villa la Renaissance, Hotel Cote Basque, Hote...   \n",
       "18  [ALTAYA Apt with balcony and sea view in Biarr...   \n",
       "19  [Brit Hotel Confort Montauban, Manoir de la Gr...   \n",
       "20  [Odalys City Toulouse Centre Compans Caffarell...   \n",
       "21  [dtente sky lodge, Logis Auberge de l'Isard, D...   \n",
       "22  [Domaine Le Couvent, Adonis Carcassonne, SOWEL...   \n",
       "23  [Le Mas des Citronniers, Hotel Méditerranée, L...   \n",
       "24  [Mas De Calabrun, Hôtel Casa Marina, La Tramon...   \n",
       "25  [Hotel Canal Aigues Mortes, Maison des Croisad...   \n",
       "26  [Royal Hôtel, Logis NIMOTEL Hôtel Cosy, Appart...   \n",
       "27  [Uzès Townhouse with Loggia & Views, Hôtel Le ...   \n",
       "28  [A l'ombre du Palais, Be Loft B&B Pool & Spa, ...   \n",
       "29  [TheCamp Hotel&Lodges - Aix en Provence, Séjou...   \n",
       "30  [Superbe appart 3 p, 10 mn de la plage avec pi...   \n",
       "31  [LE REVE BLEU, HPC Suites, Home Cassis - Maiso...   \n",
       "32  [Oustaou di Ercole, Magnifique maison de villa...   \n",
       "33  [La Bastide du Calalou; BW Signature Collectio...   \n",
       "34  [Studio Part Dieu, Blue Dream - Appartement 2b...   \n",
       "\n",
       "                                                liens  \\\n",
       "0   [https://www.booking.com/hotel/fr/vert.fr.html...   \n",
       "1   [https://www.booking.com/hotel/fr/le-cargo-sai...   \n",
       "2   [https://www.booking.com/hotel/fr/le-mogador-b...   \n",
       "3   [https://www.booking.com/hotel/fr/hilton-garde...   \n",
       "4   [https://www.booking.com/hotel/fr/radisson-blu...   \n",
       "5   [https://www.booking.com/hotel/fr/westside-arc...   \n",
       "6   [https://www.booking.com/hotel/fr/express-by-h...   \n",
       "7   [https://www.booking.com/hotel/fr/calm-apparth...   \n",
       "8   [https://www.booking.com/hotel/fr/city-residen...   \n",
       "9   [https://www.booking.com/hotel/fr/les-chambres...   \n",
       "10  [https://www.booking.com/hotel/fr/suites-resid...   \n",
       "11  [https://www.booking.com/hotel/fr/saint-hubert...   \n",
       "12  [https://www.booking.com/hotel/fr/besancon.fr....   \n",
       "13  [https://www.booking.com/hotel/fr/city-loft.fr...   \n",
       "14  [https://www.booking.com/hotel/fr/ace-annecy.f...   \n",
       "15  [https://www.booking.com/hotel/fr/esprit-bistr...   \n",
       "16  [https://www.booking.com/hotel/fr/aqua-domum.f...   \n",
       "17  [https://www.booking.com/hotel/fr/villa-la-ren...   \n",
       "18  [https://www.booking.com/hotel/fr/youcca-apart...   \n",
       "19  [https://www.booking.com/hotel/fr/deltour-mont...   \n",
       "20  [https://www.booking.com/hotel/fr/odalys-city-...   \n",
       "21  [https://www.booking.com/hotel/fr/dtente-sky-l...   \n",
       "22  [https://www.booking.com/hotel/fr/le-couvent-c...   \n",
       "23  [https://www.booking.com/hotel/fr/lesmasdescit...   \n",
       "24  [https://www.booking.com/hotel/fr/mas-de-calab...   \n",
       "25  [https://www.booking.com/hotel/fr/canal-aigues...   \n",
       "26  [https://www.booking.com/hotel/fr/royal.fr.htm...   \n",
       "27  [https://www.booking.com/hotel/fr/uzes-townhou...   \n",
       "28  [https://www.booking.com/hotel/fr/a-l-39-ombre...   \n",
       "29  [https://www.booking.com/hotel/fr/thecamp-amp-...   \n",
       "30  [https://www.booking.com/hotel/fr/superbe-appa...   \n",
       "31  [https://www.booking.com/hotel/fr/le-reve-bleu...   \n",
       "32  [https://www.booking.com/hotel/fr/l-39-oustaou...   \n",
       "33  [https://www.booking.com/hotel/fr/bastide-du-c...   \n",
       "34  [https://www.booking.com/hotel/fr/appart-ribou...   \n",
       "\n",
       "                                                  lat  \\\n",
       "0   [48.61470049, 48.61758727, 48.61688155, 48.635...   \n",
       "1   [48.64842800, 48.63593081, 48.64735692, 48.651...   \n",
       "2   [49.27933593, 49.25424209, 49.27232560, 49.272...   \n",
       "3   [49.49008699, 49.49823800, 49.49641693, 49.492...   \n",
       "4   [49.44644100, 49.44465180, 49.44117285, 49.437...   \n",
       "5   [48.88129894, 48.85925680, 48.88141526, 48.876...   \n",
       "6   [49.89167620, 49.89538310, 49.89444519, 49.887...   \n",
       "7   [50.63734618, 50.63788756, 50.62783100, 50.635...   \n",
       "8   [48.59001400, 48.57269177, 48.57772068, 48.589...   \n",
       "9   [48.24702280, 48.24834892, 48.24840250, 48.180...   \n",
       "10  [48.07900192, 48.07708620, 48.07641026, 48.079...   \n",
       "11  [48.04496277, 48.04170911, 48.04228862, 48.045...   \n",
       "12  [47.25425346, 47.24045605, 47.23856537, 47.231...   \n",
       "13  [47.32268695, 47.32699910, 47.35121566, 47.318...   \n",
       "14  [45.88008995, 45.89998968, 45.89559668, 45.898...   \n",
       "15  [45.18543211, 45.19079330, 45.18920402, 45.192...   \n",
       "16  [46.14667561, 46.15107012, 46.14068996, 46.145...   \n",
       "17  [43.48232100, 43.49618306, 43.49349109, 43.492...   \n",
       "18  [43.48449660, 43.48065123, 43.47650270, 43.482...   \n",
       "19  [43.98081084, 44.04904337, 43.97917400, 44.013...   \n",
       "20  [43.60907890, 43.58763592, 43.61194052, 43.603...   \n",
       "21  [42.89450398, 42.93045100, 43.25701228, 42.848...   \n",
       "22  [43.21626207, 43.20478378, 43.21103244, 43.208...   \n",
       "23  [42.52538159, 42.52708254, 42.52534777, 42.523...   \n",
       "24  [43.50225830, 43.45113300, 43.47260109, 43.450...   \n",
       "25  [43.57298752, 43.56899740, 43.56721967, 43.565...   \n",
       "26  [43.83881510, 43.81557635, 43.83387353, 43.815...   \n",
       "27  [44.01339239, 44.02305334, 44.01246437, 44.012...   \n",
       "28  [43.95172900, 43.94033710, 43.95135215, 43.949...   \n",
       "29  [43.49631600, 43.52524078, 43.52191762, 43.528...   \n",
       "30  [43.25053030, 43.29412372, 43.30009700, 43.296...   \n",
       "31  [43.22062430, 43.21644024, 43.22207969, 43.220...   \n",
       "32  [43.14957041, 43.15160800, 43.12318400, 43.140...   \n",
       "33  [43.65436638, 43.77559101, 43.77633074, 43.762...   \n",
       "34  [45.76223680, 45.76740410, 45.74608300, 45.759...   \n",
       "\n",
       "                                                  lon  \\\n",
       "0   [-1.50961697, -1.51039615, -1.51091784, -1.510...   \n",
       "1   [-2.02664200, -2.02171236, -2.02519655, -2.023...   \n",
       "2   [-0.70705610, -0.64648747, -0.69851010, -0.707...   \n",
       "3   [0.09774696, 0.12883700, 0.15151234, 0.1231080...   \n",
       "4   [1.09412000, 1.09132620, 1.09517545, 1.0972528...   \n",
       "5   [2.29480304, 2.36840850, 2.32455321, 2.3269844...   \n",
       "6   [2.30775386, 2.29777200, 2.30094239, 2.3116109...   \n",
       "7   [3.06945696, 3.07268500, 3.06359200, 3.0697072...   \n",
       "8   [7.73987000, 7.72871353, 7.73397669, 7.7387986...   \n",
       "9   [7.34632093, 7.35484448, 7.35482570, 7.3092045...   \n",
       "10  [7.35450824, 7.35253250, 7.35954888, 7.3624890...   \n",
       "11  [7.30157845, 7.30569280, 7.30945140, 7.3118546...   \n",
       "12  [6.02163970, 6.02599533, 6.02532506, 6.0265803...   \n",
       "13  [5.03817558, 5.07608727, 5.06966740, 5.0401146...   \n",
       "14  [6.09713048, 6.11575842, 6.12978489, 6.1247956...   \n",
       "15  [5.74399642, 5.71669668, 5.72537228, 5.7119170...   \n",
       "16  [-1.16817349, -1.15486329, -1.16616011, -1.156...   \n",
       "17  [-1.46816400, -1.46960109, -1.45263344, -1.472...   \n",
       "18  [-1.56648820, -1.56534523, -1.56245649, -1.560...   \n",
       "19  [1.33039445, 1.34388352, 1.30914200, 1.3445910...   \n",
       "20  [1.42748350, 1.44667894, 1.45180665, 1.4482359...   \n",
       "21  [1.32823379, 0.89378650, 1.66643500, 1.6054254...   \n",
       "22  [2.28648797, 2.36022029, 2.35819995, 2.3670440...   \n",
       "23  [3.08256391, 3.08026291, 3.09032446, 3.0854253...   \n",
       "24  [4.42575753, 4.43095300, 4.41012025, 4.4299122...   \n",
       "25  [4.19482470, 4.18829820, 4.18934360, 4.1887570...   \n",
       "26  [4.35481846, 4.34660353, 4.36143396, 4.3459050...   \n",
       "27  [4.42081974, 4.42047223, 4.42180011, 4.4141489...   \n",
       "28  [4.81033900, 4.81174964, 4.81156054, 4.8198638...   \n",
       "29  [5.34215200, 5.44126600, 5.45787156, 5.4408690...   \n",
       "30  [5.38148170, 5.37463993, 5.36758500, 5.3914529...   \n",
       "31  [5.54076700, 5.54174572, 5.53792695, 5.5424693...   \n",
       "32  [6.30204835, 6.34112340, 6.35446400, 6.3367149...   \n",
       "33  [6.16950452, 6.24333876, 6.24252310, 6.2191820...   \n",
       "34  [4.86439620, 4.83213710, 4.83718700, 4.8652374...   \n",
       "\n",
       "                                          description  \\\n",
       "0   [\\nVous pouvez bénéficier d'une réduction Geni...   \n",
       "1   [\\nCet établissement est à 2 minutes à pied de...   \n",
       "2   [\\nL'établissement Le Mogador est situé à Baye...   \n",
       "3   [\\nLe Hilton Garden Inn Le Havre Centre est si...   \n",
       "4   [\\nVous pouvez bénéficier d'une réduction Geni...   \n",
       "5   [\\nDoté d’un bar-salon, le Westside Arc de Tri...   \n",
       "6   [\\nRénové en avril 2015, le Holiday Inn Expres...   \n",
       "7   [\\n\\nVous pouvez bénéficier d'une réduction Ge...   \n",
       "8   [\\nSitué à Strasbourg, à moins de 900 mètres d...   \n",
       "9   [\\n\\nVous pouvez bénéficier d'une réduction Ge...   \n",
       "10  [\\nVous pouvez bénéficier d'une réduction Geni...   \n",
       "11  [\\n\\nVous pouvez bénéficier d'une réduction Ge...   \n",
       "12  [\\n\\nVous pouvez bénéficier d'une réduction Ge...   \n",
       "13  [\\nIdéalement situé au cœur du quartier piéton...   \n",
       "14  [\\nDoté d'une réception ouverte 24h/24, l'Ace ...   \n",
       "15  [\\n\\nVous pouvez bénéficier d'une réduction Ge...   \n",
       "16  [\\nVous pouvez bénéficier d'une réduction Geni...   \n",
       "17  [\\nLa Villa la Renaissance propose des chambre...   \n",
       "18  [\\nCet établissement est à 2 minutes à pied de...   \n",
       "19  [\\nVous pouvez bénéficier d'une réduction Geni...   \n",
       "20  [\\n\\nVous pouvez bénéficier d'une réduction Ge...   \n",
       "21  [\\n\\nVous pouvez bénéficier d'une réduction Ge...   \n",
       "22  [\\n\\nVous pouvez bénéficier d'une réduction Ge...   \n",
       "23  [\\n\\nVous pouvez bénéficier d'une réduction Ge...   \n",
       "24  [\\nVous pouvez bénéficier d'une réduction Geni...   \n",
       "25  [\\n\\nVous pouvez bénéficier d'une réduction Ge...   \n",
       "26  [\\nVous pouvez bénéficier d'une réduction Geni...   \n",
       "27  [\\nVous pouvez bénéficier d'une réduction Geni...   \n",
       "28  [\\n\\nVous pouvez bénéficier d'une réduction Ge...   \n",
       "29  [\\nVous pouvez bénéficier d'une réduction Geni...   \n",
       "30  [\\nCet établissement est à 18 minutes à pied d...   \n",
       "31  [\\nCet établissement est à 4 minutes à pied de...   \n",
       "32  [\\n\\nVous pouvez bénéficier d'une réduction Ge...   \n",
       "33  [\\nVous pouvez bénéficier d'une réduction Geni...   \n",
       "34  [\\n\\nVous pouvez bénéficier d'une réduction Ge...   \n",
       "\n",
       "                                                score  \n",
       "0   [8,0, 7,9, 7,2, 7,3, 7,2, 8,2, 8,0, 7,2, 8,0, ...  \n",
       "1   [8,3, 7,8, 8,5, 8,0, 7,4, 7,6, 8,3, 8,6, 7,3, ...  \n",
       "2   [8,1, 8,2, 9,3, 8,6, 8,6, 7,9, 8,5, 8,1, 9,4, ...  \n",
       "3   [8,8, 8,2, 7,6, 8,2, 8,5, 8,6, 8,4, 7,1, 8,1, ...  \n",
       "4   [8,9, 8,7, 8,2, 8,4, 7,5, 8,6, 7,4, 8,5, 8,2, ...  \n",
       "5   [8,0, 8,1, 8,4, 8,1, 8,7, 8,7, 8,5, 8,5, 8,4, ...  \n",
       "6   [8,1, 9,3, 8,3, 8,1, 8,0, 7,6, 9,5, 8,9, 8,3, ...  \n",
       "7   [8,1, 8,0, 8,6, 7,7, 8,0, 7,3, 7,8, 8,5, 8,0, ...  \n",
       "8   [7,0, 8,3, 7,8, 7,1, 8,6, 9,0, 8,3, 8,2, 8,1, ...  \n",
       "9   [8,8, 9,5, 9,5, 9,5, 9,4, 9,0, 9,6, 9,4, 8,7, ...  \n",
       "10  [8,5, 8,6, 8,7, 9,3, 8,7, 9,7, 8,8, 9,1, 7,1, ...  \n",
       "11  [8,8, 9,8, 7,8, 7,9, 8,8, 8,7, 9,1, 8,7, 9,7, ...  \n",
       "12  [7,9, 8,4, 8,6, 8,2, 8,9, 8,2, 7,9, 8,0, 8,0, ...  \n",
       "13  [8,2, 8,2, 7,6, 8,1, 7,9, 8,8, 7,2, 8,5, 8,2, ...  \n",
       "14  [8,1, 8,1, 7,7, 9,3, 9,0, 8,5, 8,7, 9,0, 8,6, ...  \n",
       "15  [8,3, 8,3, 7,8, 8,3, 8,6, 7,6, 7,6, 7,8, 8,0, ...  \n",
       "16  [9,4, 7,2, 7,7, 7,5, 7,5, 7,3, 8,4, 8,2, 8,6, ...  \n",
       "17  [9,3, 7,8, 8,0, 9,0, 8,8, 7,9, 7,4, 9,4, 9,0, ...  \n",
       "18  [9,5, 8,2, 8,3, 9,4, 8,4, 9,1, 8,4, 8,0, 8,4, ...  \n",
       "19  [7,5, 9,7, 9,5, 9,2, 8,8, 7,7, 9,1, 7,1, 8,3, ...  \n",
       "20  [8,7, 8,0, 8,1, 8,1, 9,0, 7,1, 8,3, 8,3, 8,1, ...  \n",
       "21  [9,4, 8,0, 8,2, 7,4, 8,5, 8,3, 9,2, 8,2, 9,1, ...  \n",
       "22  [9,4, 7,7, 8,3, 8,4, 8,4, 9,1, 9,0, 8,5, 8,1, ...  \n",
       "23  [8,0, 7,9, 9,0, 7,7, 8,7, 8,1, 7,3, 7,5, 8,8, ...  \n",
       "24  [8,5, 8,9, 9,0, 7,9, 8,0, 7,7, 8,8, 7,3, 8,5, ...  \n",
       "25  [8,5, 8,9, 8,4, 9,4, 7,9, 8,3, 8,9, 9,1, 8,0, ...  \n",
       "26  [8,2, 7,3, 8,7, 7,2, 7,1, 8,5, 6,9, 7,9, 7,7, ...  \n",
       "27  [8,7, 8,9, 8,8, 7,6, 8,7, 9,7, 8,7, 7,7, 8,8, ...  \n",
       "28  [8,3, 8,6, 9,5, 7,7, 8,6, 7,6, 7,5, 8,3, 7,7, ...  \n",
       "29  [8,0, 8,2, 8,5, 8,5, 7,3, 7,4, 8,0, 7,1, 7,3, ...  \n",
       "30  [9,5, 8,4, 7,8, 9,1, 8,5, 8,5, 7,3, 5,7, 7,9, ...  \n",
       "31  [8,0, 9,2, 7,5, 7,5, 8,5, 9,3, 9,5, 8,1, 8,2, ...  \n",
       "32  [9,2, 9,0, 1.0, 8,8, 8,0, 1.0, 9,0, 1.0, 1.0, ...  \n",
       "33  [8,4, 7,3, 8,1, 8,4, 8,3, 9,0, 7,5, 7,9, 8,8, ...  \n",
       "34  [8,5, 9,2, 8,4, 7,6, 8,0, 8,0, 7,2, 7,9, 7,8, ...  "
      ]
     },
     "execution_count": 24,
     "metadata": {},
     "output_type": "execute_result"
    }
   ],
   "source": [
    "df\n"
   ]
  },
  {
   "cell_type": "code",
   "execution_count": 25,
   "metadata": {},
   "outputs": [
    {
     "data": {
      "text/html": [
       "<div>\n",
       "<style scoped>\n",
       "    .dataframe tbody tr th:only-of-type {\n",
       "        vertical-align: middle;\n",
       "    }\n",
       "\n",
       "    .dataframe tbody tr th {\n",
       "        vertical-align: top;\n",
       "    }\n",
       "\n",
       "    .dataframe thead th {\n",
       "        text-align: right;\n",
       "    }\n",
       "</style>\n",
       "<table border=\"1\" class=\"dataframe\">\n",
       "  <thead>\n",
       "    <tr style=\"text-align: right;\">\n",
       "      <th></th>\n",
       "      <th>ville</th>\n",
       "      <th>hotels</th>\n",
       "      <th>liens</th>\n",
       "      <th>lat</th>\n",
       "      <th>lon</th>\n",
       "      <th>description</th>\n",
       "      <th>score</th>\n",
       "      <th>meteo_score</th>\n",
       "    </tr>\n",
       "  </thead>\n",
       "  <tbody>\n",
       "    <tr>\n",
       "      <th>0</th>\n",
       "      <td>Mont Saint Michel</td>\n",
       "      <td>Hôtel Vert</td>\n",
       "      <td>https://www.booking.com/hotel/fr/vert.fr.html?...</td>\n",
       "      <td>48.61470049</td>\n",
       "      <td>-1.50961697</td>\n",
       "      <td>\\nVous pouvez bénéficier d'une réduction Geniu...</td>\n",
       "      <td>8,0</td>\n",
       "      <td>16</td>\n",
       "    </tr>\n",
       "    <tr>\n",
       "      <th>0</th>\n",
       "      <td>Mont Saint Michel</td>\n",
       "      <td>Le Relais Saint Michel</td>\n",
       "      <td>https://www.booking.com/hotel/fr/le-relais-sai...</td>\n",
       "      <td>48.61758727</td>\n",
       "      <td>-1.51039615</td>\n",
       "      <td>\\n\\nVous pouvez bénéficier d'une réduction Gen...</td>\n",
       "      <td>7,9</td>\n",
       "      <td>16</td>\n",
       "    </tr>\n",
       "    <tr>\n",
       "      <th>0</th>\n",
       "      <td>Mont Saint Michel</td>\n",
       "      <td>Hotel De La Digue</td>\n",
       "      <td>https://www.booking.com/hotel/fr/de-la-digue.f...</td>\n",
       "      <td>48.61688155</td>\n",
       "      <td>-1.51091784</td>\n",
       "      <td>\\nCet établissement est à 1 minute à pied de l...</td>\n",
       "      <td>7,2</td>\n",
       "      <td>16</td>\n",
       "    </tr>\n",
       "    <tr>\n",
       "      <th>0</th>\n",
       "      <td>Mont Saint Michel</td>\n",
       "      <td>Les Terrasses Poulard</td>\n",
       "      <td>https://www.booking.com/hotel/fr/les-terrasses...</td>\n",
       "      <td>48.63534943</td>\n",
       "      <td>-1.51037872</td>\n",
       "      <td>\\nVous pouvez bénéficier d'une réduction Geniu...</td>\n",
       "      <td>7,3</td>\n",
       "      <td>16</td>\n",
       "    </tr>\n",
       "    <tr>\n",
       "      <th>0</th>\n",
       "      <td>Mont Saint Michel</td>\n",
       "      <td>Le Saint Aubert</td>\n",
       "      <td>https://www.booking.com/hotel/fr/hotel-saint-a...</td>\n",
       "      <td>48.61293783</td>\n",
       "      <td>-1.51010513</td>\n",
       "      <td>\\nNiché dans un écrin de verdure, à seulement ...</td>\n",
       "      <td>7,2</td>\n",
       "      <td>16</td>\n",
       "    </tr>\n",
       "    <tr>\n",
       "      <th>...</th>\n",
       "      <td>...</td>\n",
       "      <td>...</td>\n",
       "      <td>...</td>\n",
       "      <td>...</td>\n",
       "      <td>...</td>\n",
       "      <td>...</td>\n",
       "      <td>...</td>\n",
       "      <td>...</td>\n",
       "    </tr>\n",
       "    <tr>\n",
       "      <th>34</th>\n",
       "      <td>La Rochelle</td>\n",
       "      <td>Hôtel La Tour de Nesle La Rochelle Vieux Port</td>\n",
       "      <td>https://www.booking.com/hotel/fr/de-la-tour-de...</td>\n",
       "      <td>46.15809741</td>\n",
       "      <td>-1.15036190</td>\n",
       "      <td>\\nVous pouvez bénéficier d'une réduction Geniu...</td>\n",
       "      <td>8,1</td>\n",
       "      <td>15</td>\n",
       "    </tr>\n",
       "    <tr>\n",
       "      <th>34</th>\n",
       "      <td>La Rochelle</td>\n",
       "      <td>STUDIO EN HYPERCENTRE À 2 PAS DE L'HOTEL DE VI...</td>\n",
       "      <td>https://www.booking.com/hotel/fr/studio-en-hyp...</td>\n",
       "      <td>46.15983600</td>\n",
       "      <td>-1.15246920</td>\n",
       "      <td>\\nLocated 800 metres from Concurrence and 2.4 ...</td>\n",
       "      <td>1.0</td>\n",
       "      <td>15</td>\n",
       "    </tr>\n",
       "    <tr>\n",
       "      <th>34</th>\n",
       "      <td>La Rochelle</td>\n",
       "      <td>Hotel La Marine, Vieux Port</td>\n",
       "      <td>https://www.booking.com/hotel/fr/la-marine-la-...</td>\n",
       "      <td>46.15815872</td>\n",
       "      <td>-1.15267055</td>\n",
       "      <td>\\nCet établissement est à 6 minutes à pied de ...</td>\n",
       "      <td>8,5</td>\n",
       "      <td>15</td>\n",
       "    </tr>\n",
       "    <tr>\n",
       "      <th>34</th>\n",
       "      <td>La Rochelle</td>\n",
       "      <td>Studio La Rochelle, 1 pièce, 2 personnes - FR-...</td>\n",
       "      <td>https://www.booking.com/hotel/fr/apartment-por...</td>\n",
       "      <td>46.13926000</td>\n",
       "      <td>-1.16084800</td>\n",
       "      <td>\\nLe Studio La Rochelle, 1 pièce, 2 personnes ...</td>\n",
       "      <td>1.0</td>\n",
       "      <td>15</td>\n",
       "    </tr>\n",
       "    <tr>\n",
       "      <th>34</th>\n",
       "      <td>La Rochelle</td>\n",
       "      <td>Hôtel Le Rupella</td>\n",
       "      <td>https://www.booking.com/hotel/fr/le-rupella.fr...</td>\n",
       "      <td>46.15817494</td>\n",
       "      <td>-1.15107000</td>\n",
       "      <td>\\nSitué au cœur de La Rochelle, l'Hôtel Le Rup...</td>\n",
       "      <td>7,2</td>\n",
       "      <td>15</td>\n",
       "    </tr>\n",
       "  </tbody>\n",
       "</table>\n",
       "<p>875 rows × 8 columns</p>\n",
       "</div>"
      ],
      "text/plain": [
       "                ville                                             hotels  \\\n",
       "0   Mont Saint Michel                                         Hôtel Vert   \n",
       "0   Mont Saint Michel                             Le Relais Saint Michel   \n",
       "0   Mont Saint Michel                                  Hotel De La Digue   \n",
       "0   Mont Saint Michel                              Les Terrasses Poulard   \n",
       "0   Mont Saint Michel                                    Le Saint Aubert   \n",
       "..                ...                                                ...   \n",
       "34        La Rochelle      Hôtel La Tour de Nesle La Rochelle Vieux Port   \n",
       "34        La Rochelle  STUDIO EN HYPERCENTRE À 2 PAS DE L'HOTEL DE VI...   \n",
       "34        La Rochelle                        Hotel La Marine, Vieux Port   \n",
       "34        La Rochelle  Studio La Rochelle, 1 pièce, 2 personnes - FR-...   \n",
       "34        La Rochelle                                   Hôtel Le Rupella   \n",
       "\n",
       "                                                liens          lat  \\\n",
       "0   https://www.booking.com/hotel/fr/vert.fr.html?...  48.61470049   \n",
       "0   https://www.booking.com/hotel/fr/le-relais-sai...  48.61758727   \n",
       "0   https://www.booking.com/hotel/fr/de-la-digue.f...  48.61688155   \n",
       "0   https://www.booking.com/hotel/fr/les-terrasses...  48.63534943   \n",
       "0   https://www.booking.com/hotel/fr/hotel-saint-a...  48.61293783   \n",
       "..                                                ...          ...   \n",
       "34  https://www.booking.com/hotel/fr/de-la-tour-de...  46.15809741   \n",
       "34  https://www.booking.com/hotel/fr/studio-en-hyp...  46.15983600   \n",
       "34  https://www.booking.com/hotel/fr/la-marine-la-...  46.15815872   \n",
       "34  https://www.booking.com/hotel/fr/apartment-por...  46.13926000   \n",
       "34  https://www.booking.com/hotel/fr/le-rupella.fr...  46.15817494   \n",
       "\n",
       "            lon                                        description score  \\\n",
       "0   -1.50961697  \\nVous pouvez bénéficier d'une réduction Geniu...   8,0   \n",
       "0   -1.51039615  \\n\\nVous pouvez bénéficier d'une réduction Gen...   7,9   \n",
       "0   -1.51091784  \\nCet établissement est à 1 minute à pied de l...   7,2   \n",
       "0   -1.51037872  \\nVous pouvez bénéficier d'une réduction Geniu...   7,3   \n",
       "0   -1.51010513  \\nNiché dans un écrin de verdure, à seulement ...   7,2   \n",
       "..          ...                                                ...   ...   \n",
       "34  -1.15036190  \\nVous pouvez bénéficier d'une réduction Geniu...   8,1   \n",
       "34  -1.15246920  \\nLocated 800 metres from Concurrence and 2.4 ...   1.0   \n",
       "34  -1.15267055  \\nCet établissement est à 6 minutes à pied de ...   8,5   \n",
       "34  -1.16084800  \\nLe Studio La Rochelle, 1 pièce, 2 personnes ...   1.0   \n",
       "34  -1.15107000  \\nSitué au cœur de La Rochelle, l'Hôtel Le Rup...   7,2   \n",
       "\n",
       "    meteo_score  \n",
       "0            16  \n",
       "0            16  \n",
       "0            16  \n",
       "0            16  \n",
       "0            16  \n",
       "..          ...  \n",
       "34           15  \n",
       "34           15  \n",
       "34           15  \n",
       "34           15  \n",
       "34           15  \n",
       "\n",
       "[875 rows x 8 columns]"
      ]
     },
     "execution_count": 25,
     "metadata": {},
     "output_type": "execute_result"
    }
   ],
   "source": [
    "df = df.set_index(\"ville\")\n",
    "df = df.reindex(villes)\n",
    "df = df.reset_index()\n",
    "df = df.apply(pd.Series.explode)\n",
    "df[\"meteo_score\"] = df_gps_weather[\"score\"]\n",
    "\n",
    "df\n"
   ]
  },
  {
   "cell_type": "code",
   "execution_count": 26,
   "metadata": {},
   "outputs": [],
   "source": [
    "df.to_csv(\"df_gps_hotels.csv\", index=False)\n"
   ]
  },
  {
   "cell_type": "markdown",
   "metadata": {},
   "source": [
    "### Test of CSV files"
   ]
  },
  {
   "cell_type": "code",
   "execution_count": 27,
   "metadata": {},
   "outputs": [
    {
     "data": {
      "text/html": [
       "<div>\n",
       "<style scoped>\n",
       "    .dataframe tbody tr th:only-of-type {\n",
       "        vertical-align: middle;\n",
       "    }\n",
       "\n",
       "    .dataframe tbody tr th {\n",
       "        vertical-align: top;\n",
       "    }\n",
       "\n",
       "    .dataframe thead th {\n",
       "        text-align: right;\n",
       "    }\n",
       "</style>\n",
       "<table border=\"1\" class=\"dataframe\">\n",
       "  <thead>\n",
       "    <tr style=\"text-align: right;\">\n",
       "      <th></th>\n",
       "      <th>ville</th>\n",
       "      <th>hotels</th>\n",
       "      <th>liens</th>\n",
       "      <th>lat</th>\n",
       "      <th>lon</th>\n",
       "      <th>description</th>\n",
       "      <th>score</th>\n",
       "      <th>meteo_score</th>\n",
       "    </tr>\n",
       "  </thead>\n",
       "  <tbody>\n",
       "    <tr>\n",
       "      <th>0</th>\n",
       "      <td>Mont Saint Michel</td>\n",
       "      <td>Hôtel Vert</td>\n",
       "      <td>https://www.booking.com/hotel/fr/vert.fr.html?...</td>\n",
       "      <td>48.614700</td>\n",
       "      <td>-1.509617</td>\n",
       "      <td>\\nVous pouvez bénéficier d'une réduction Geniu...</td>\n",
       "      <td>8,0</td>\n",
       "      <td>16</td>\n",
       "    </tr>\n",
       "    <tr>\n",
       "      <th>1</th>\n",
       "      <td>Mont Saint Michel</td>\n",
       "      <td>Le Relais Saint Michel</td>\n",
       "      <td>https://www.booking.com/hotel/fr/le-relais-sai...</td>\n",
       "      <td>48.617587</td>\n",
       "      <td>-1.510396</td>\n",
       "      <td>\\n\\nVous pouvez bénéficier d'une réduction Gen...</td>\n",
       "      <td>7,9</td>\n",
       "      <td>16</td>\n",
       "    </tr>\n",
       "    <tr>\n",
       "      <th>2</th>\n",
       "      <td>Mont Saint Michel</td>\n",
       "      <td>Hotel De La Digue</td>\n",
       "      <td>https://www.booking.com/hotel/fr/de-la-digue.f...</td>\n",
       "      <td>48.616882</td>\n",
       "      <td>-1.510918</td>\n",
       "      <td>\\nCet établissement est à 1 minute à pied de l...</td>\n",
       "      <td>7,2</td>\n",
       "      <td>16</td>\n",
       "    </tr>\n",
       "    <tr>\n",
       "      <th>3</th>\n",
       "      <td>Mont Saint Michel</td>\n",
       "      <td>Les Terrasses Poulard</td>\n",
       "      <td>https://www.booking.com/hotel/fr/les-terrasses...</td>\n",
       "      <td>48.635349</td>\n",
       "      <td>-1.510379</td>\n",
       "      <td>\\nVous pouvez bénéficier d'une réduction Geniu...</td>\n",
       "      <td>7,3</td>\n",
       "      <td>16</td>\n",
       "    </tr>\n",
       "    <tr>\n",
       "      <th>4</th>\n",
       "      <td>Mont Saint Michel</td>\n",
       "      <td>Le Saint Aubert</td>\n",
       "      <td>https://www.booking.com/hotel/fr/hotel-saint-a...</td>\n",
       "      <td>48.612938</td>\n",
       "      <td>-1.510105</td>\n",
       "      <td>\\nNiché dans un écrin de verdure, à seulement ...</td>\n",
       "      <td>7,2</td>\n",
       "      <td>16</td>\n",
       "    </tr>\n",
       "    <tr>\n",
       "      <th>...</th>\n",
       "      <td>...</td>\n",
       "      <td>...</td>\n",
       "      <td>...</td>\n",
       "      <td>...</td>\n",
       "      <td>...</td>\n",
       "      <td>...</td>\n",
       "      <td>...</td>\n",
       "      <td>...</td>\n",
       "    </tr>\n",
       "    <tr>\n",
       "      <th>870</th>\n",
       "      <td>La Rochelle</td>\n",
       "      <td>Hôtel La Tour de Nesle La Rochelle Vieux Port</td>\n",
       "      <td>https://www.booking.com/hotel/fr/de-la-tour-de...</td>\n",
       "      <td>46.158097</td>\n",
       "      <td>-1.150362</td>\n",
       "      <td>\\nVous pouvez bénéficier d'une réduction Geniu...</td>\n",
       "      <td>8,1</td>\n",
       "      <td>15</td>\n",
       "    </tr>\n",
       "    <tr>\n",
       "      <th>871</th>\n",
       "      <td>La Rochelle</td>\n",
       "      <td>STUDIO EN HYPERCENTRE À 2 PAS DE L'HOTEL DE VI...</td>\n",
       "      <td>https://www.booking.com/hotel/fr/studio-en-hyp...</td>\n",
       "      <td>46.159836</td>\n",
       "      <td>-1.152469</td>\n",
       "      <td>\\nLocated 800 metres from Concurrence and 2.4 ...</td>\n",
       "      <td>1.0</td>\n",
       "      <td>15</td>\n",
       "    </tr>\n",
       "    <tr>\n",
       "      <th>872</th>\n",
       "      <td>La Rochelle</td>\n",
       "      <td>Hotel La Marine, Vieux Port</td>\n",
       "      <td>https://www.booking.com/hotel/fr/la-marine-la-...</td>\n",
       "      <td>46.158159</td>\n",
       "      <td>-1.152671</td>\n",
       "      <td>\\nCet établissement est à 6 minutes à pied de ...</td>\n",
       "      <td>8,5</td>\n",
       "      <td>15</td>\n",
       "    </tr>\n",
       "    <tr>\n",
       "      <th>873</th>\n",
       "      <td>La Rochelle</td>\n",
       "      <td>Studio La Rochelle, 1 pièce, 2 personnes - FR-...</td>\n",
       "      <td>https://www.booking.com/hotel/fr/apartment-por...</td>\n",
       "      <td>46.139260</td>\n",
       "      <td>-1.160848</td>\n",
       "      <td>\\nLe Studio La Rochelle, 1 pièce, 2 personnes ...</td>\n",
       "      <td>1.0</td>\n",
       "      <td>15</td>\n",
       "    </tr>\n",
       "    <tr>\n",
       "      <th>874</th>\n",
       "      <td>La Rochelle</td>\n",
       "      <td>Hôtel Le Rupella</td>\n",
       "      <td>https://www.booking.com/hotel/fr/le-rupella.fr...</td>\n",
       "      <td>46.158175</td>\n",
       "      <td>-1.151070</td>\n",
       "      <td>\\nSitué au cœur de La Rochelle, l'Hôtel Le Rup...</td>\n",
       "      <td>7,2</td>\n",
       "      <td>15</td>\n",
       "    </tr>\n",
       "  </tbody>\n",
       "</table>\n",
       "<p>875 rows × 8 columns</p>\n",
       "</div>"
      ],
      "text/plain": [
       "                 ville                                             hotels  \\\n",
       "0    Mont Saint Michel                                         Hôtel Vert   \n",
       "1    Mont Saint Michel                             Le Relais Saint Michel   \n",
       "2    Mont Saint Michel                                  Hotel De La Digue   \n",
       "3    Mont Saint Michel                              Les Terrasses Poulard   \n",
       "4    Mont Saint Michel                                    Le Saint Aubert   \n",
       "..                 ...                                                ...   \n",
       "870        La Rochelle      Hôtel La Tour de Nesle La Rochelle Vieux Port   \n",
       "871        La Rochelle  STUDIO EN HYPERCENTRE À 2 PAS DE L'HOTEL DE VI...   \n",
       "872        La Rochelle                        Hotel La Marine, Vieux Port   \n",
       "873        La Rochelle  Studio La Rochelle, 1 pièce, 2 personnes - FR-...   \n",
       "874        La Rochelle                                   Hôtel Le Rupella   \n",
       "\n",
       "                                                 liens        lat       lon  \\\n",
       "0    https://www.booking.com/hotel/fr/vert.fr.html?...  48.614700 -1.509617   \n",
       "1    https://www.booking.com/hotel/fr/le-relais-sai...  48.617587 -1.510396   \n",
       "2    https://www.booking.com/hotel/fr/de-la-digue.f...  48.616882 -1.510918   \n",
       "3    https://www.booking.com/hotel/fr/les-terrasses...  48.635349 -1.510379   \n",
       "4    https://www.booking.com/hotel/fr/hotel-saint-a...  48.612938 -1.510105   \n",
       "..                                                 ...        ...       ...   \n",
       "870  https://www.booking.com/hotel/fr/de-la-tour-de...  46.158097 -1.150362   \n",
       "871  https://www.booking.com/hotel/fr/studio-en-hyp...  46.159836 -1.152469   \n",
       "872  https://www.booking.com/hotel/fr/la-marine-la-...  46.158159 -1.152671   \n",
       "873  https://www.booking.com/hotel/fr/apartment-por...  46.139260 -1.160848   \n",
       "874  https://www.booking.com/hotel/fr/le-rupella.fr...  46.158175 -1.151070   \n",
       "\n",
       "                                           description score  meteo_score  \n",
       "0    \\nVous pouvez bénéficier d'une réduction Geniu...   8,0           16  \n",
       "1    \\n\\nVous pouvez bénéficier d'une réduction Gen...   7,9           16  \n",
       "2    \\nCet établissement est à 1 minute à pied de l...   7,2           16  \n",
       "3    \\nVous pouvez bénéficier d'une réduction Geniu...   7,3           16  \n",
       "4    \\nNiché dans un écrin de verdure, à seulement ...   7,2           16  \n",
       "..                                                 ...   ...          ...  \n",
       "870  \\nVous pouvez bénéficier d'une réduction Geniu...   8,1           15  \n",
       "871  \\nLocated 800 metres from Concurrence and 2.4 ...   1.0           15  \n",
       "872  \\nCet établissement est à 6 minutes à pied de ...   8,5           15  \n",
       "873  \\nLe Studio La Rochelle, 1 pièce, 2 personnes ...   1.0           15  \n",
       "874  \\nSitué au cœur de La Rochelle, l'Hôtel Le Rup...   7,2           15  \n",
       "\n",
       "[875 rows x 8 columns]"
      ]
     },
     "execution_count": 27,
     "metadata": {},
     "output_type": "execute_result"
    }
   ],
   "source": [
    "test_hotels = pd.read_csv(\"df_gps_hotels.csv\")\n",
    "test_hotels\n"
   ]
  },
  {
   "cell_type": "code",
   "execution_count": 28,
   "metadata": {},
   "outputs": [
    {
     "data": {
      "text/html": [
       "<div>\n",
       "<style scoped>\n",
       "    .dataframe tbody tr th:only-of-type {\n",
       "        vertical-align: middle;\n",
       "    }\n",
       "\n",
       "    .dataframe tbody tr th {\n",
       "        vertical-align: top;\n",
       "    }\n",
       "\n",
       "    .dataframe thead th {\n",
       "        text-align: right;\n",
       "    }\n",
       "</style>\n",
       "<table border=\"1\" class=\"dataframe\">\n",
       "  <thead>\n",
       "    <tr style=\"text-align: right;\">\n",
       "      <th></th>\n",
       "      <th>ville</th>\n",
       "      <th>lat</th>\n",
       "      <th>lon</th>\n",
       "      <th>jour_+x</th>\n",
       "      <th>temperature_ressentie</th>\n",
       "      <th>probabilite_de_pluie</th>\n",
       "      <th>meteo_principale</th>\n",
       "      <th>score</th>\n",
       "    </tr>\n",
       "  </thead>\n",
       "  <tbody>\n",
       "    <tr>\n",
       "      <th>0</th>\n",
       "      <td>Mont Saint Michel</td>\n",
       "      <td>48.635954</td>\n",
       "      <td>-1.511460</td>\n",
       "      <td>[1, 2, 3, 4, 5, 6, 7]</td>\n",
       "      <td>[17, 20, 20, 17, 19, 21, 19]</td>\n",
       "      <td>[52, 0, 15, 62, 37, 0, 0]</td>\n",
       "      <td>['Rain', 'Clouds', 'Clouds', 'Rain', 'Rain', '...</td>\n",
       "      <td>16</td>\n",
       "    </tr>\n",
       "    <tr>\n",
       "      <th>1</th>\n",
       "      <td>St Malo</td>\n",
       "      <td>48.649518</td>\n",
       "      <td>-2.026041</td>\n",
       "      <td>[1, 2, 3, 4, 5, 6, 7]</td>\n",
       "      <td>[15, 19, 18, 16, 16, 20, 17]</td>\n",
       "      <td>[47, 0, 9, 53, 48, 0, 0]</td>\n",
       "      <td>['Rain', 'Clouds', 'Clouds', 'Rain', 'Rain', '...</td>\n",
       "      <td>15</td>\n",
       "    </tr>\n",
       "    <tr>\n",
       "      <th>2</th>\n",
       "      <td>Bayeux</td>\n",
       "      <td>49.276462</td>\n",
       "      <td>-0.702474</td>\n",
       "      <td>[1, 2, 3, 4, 5, 6, 7]</td>\n",
       "      <td>[17, 20, 21, 14, 19, 22, 20]</td>\n",
       "      <td>[65, 0, 38, 71, 46, 0, 0]</td>\n",
       "      <td>['Rain', 'Clouds', 'Clouds', 'Rain', 'Rain', '...</td>\n",
       "      <td>15</td>\n",
       "    </tr>\n",
       "    <tr>\n",
       "      <th>3</th>\n",
       "      <td>Le Havre</td>\n",
       "      <td>49.493898</td>\n",
       "      <td>0.107973</td>\n",
       "      <td>[1, 2, 3, 4, 5, 6, 7]</td>\n",
       "      <td>[17, 18, 19, 14, 17, 18, 16]</td>\n",
       "      <td>[32, 0, 60, 98, 50, 0, 0]</td>\n",
       "      <td>['Clear', 'Clouds', 'Rain', 'Rain', 'Rain', 'C...</td>\n",
       "      <td>13</td>\n",
       "    </tr>\n",
       "    <tr>\n",
       "      <th>4</th>\n",
       "      <td>Rouen</td>\n",
       "      <td>49.440459</td>\n",
       "      <td>1.093966</td>\n",
       "      <td>[1, 2, 3, 4, 5, 6, 7]</td>\n",
       "      <td>[19, 22, 22, 16, 18, 21, 21]</td>\n",
       "      <td>[24, 0, 18, 100, 70, 0, 0]</td>\n",
       "      <td>['Clear', 'Clouds', 'Clouds', 'Rain', 'Rain', ...</td>\n",
       "      <td>16</td>\n",
       "    </tr>\n",
       "    <tr>\n",
       "      <th>5</th>\n",
       "      <td>Paris</td>\n",
       "      <td>48.858890</td>\n",
       "      <td>2.320041</td>\n",
       "      <td>[1, 2, 3, 4, 5, 6, 7]</td>\n",
       "      <td>[21, 23, 24, 22, 20, 23, 24]</td>\n",
       "      <td>[2, 0, 0, 81, 61, 0, 0]</td>\n",
       "      <td>['Clouds', 'Clouds', 'Clouds', 'Rain', 'Rain',...</td>\n",
       "      <td>20</td>\n",
       "    </tr>\n",
       "    <tr>\n",
       "      <th>6</th>\n",
       "      <td>Amiens</td>\n",
       "      <td>49.894171</td>\n",
       "      <td>2.295695</td>\n",
       "      <td>[1, 2, 3, 4, 5, 6, 7]</td>\n",
       "      <td>[20, 22, 23, 15, 18, 21, 21]</td>\n",
       "      <td>[37, 0, 0, 96, 86, 0, 0]</td>\n",
       "      <td>['Clouds', 'Clear', 'Clouds', 'Rain', 'Rain', ...</td>\n",
       "      <td>16</td>\n",
       "    </tr>\n",
       "    <tr>\n",
       "      <th>7</th>\n",
       "      <td>Lille</td>\n",
       "      <td>50.636565</td>\n",
       "      <td>3.063528</td>\n",
       "      <td>[1, 2, 3, 4, 5, 6, 7]</td>\n",
       "      <td>[20, 22, 24, 19, 20, 21, 22]</td>\n",
       "      <td>[57, 0, 0, 61, 94, 0, 0]</td>\n",
       "      <td>['Rain', 'Clear', 'Clouds', 'Rain', 'Rain', 'C...</td>\n",
       "      <td>18</td>\n",
       "    </tr>\n",
       "    <tr>\n",
       "      <th>8</th>\n",
       "      <td>Strasbourg</td>\n",
       "      <td>48.584614</td>\n",
       "      <td>7.750713</td>\n",
       "      <td>[1, 2, 3, 4, 5, 6, 7]</td>\n",
       "      <td>[19, 23, 23, 29, 15, 24, 28]</td>\n",
       "      <td>[100, 16, 20, 21, 100, 20, 0]</td>\n",
       "      <td>['Rain', 'Clouds', 'Clouds', 'Clear', 'Rain', ...</td>\n",
       "      <td>19</td>\n",
       "    </tr>\n",
       "    <tr>\n",
       "      <th>9</th>\n",
       "      <td>Chateau du Haut Koenigsbourg</td>\n",
       "      <td>48.249523</td>\n",
       "      <td>7.345492</td>\n",
       "      <td>[1, 2, 3, 4, 5, 6, 7]</td>\n",
       "      <td>[15, 20, 22, 26, 12, 21, 26]</td>\n",
       "      <td>[100, 2, 18, 60, 100, 20, 0]</td>\n",
       "      <td>['Rain', 'Clouds', 'Clouds', 'Clear', 'Rain', ...</td>\n",
       "      <td>16</td>\n",
       "    </tr>\n",
       "    <tr>\n",
       "      <th>10</th>\n",
       "      <td>Colmar</td>\n",
       "      <td>48.077752</td>\n",
       "      <td>7.357964</td>\n",
       "      <td>[1, 2, 3, 4, 5, 6, 7]</td>\n",
       "      <td>[19, 23, 26, 30, 15, 24, 28]</td>\n",
       "      <td>[100, 2, 19, 62, 100, 0, 0]</td>\n",
       "      <td>['Rain', 'Clouds', 'Clouds', 'Rain', 'Rain', '...</td>\n",
       "      <td>19</td>\n",
       "    </tr>\n",
       "    <tr>\n",
       "      <th>11</th>\n",
       "      <td>Eguisheim</td>\n",
       "      <td>48.044797</td>\n",
       "      <td>7.307962</td>\n",
       "      <td>[1, 2, 3, 4, 5, 6, 7]</td>\n",
       "      <td>[19, 23, 25, 29, 15, 24, 28]</td>\n",
       "      <td>[100, 1, 20, 67, 100, 20, 0]</td>\n",
       "      <td>['Rain', 'Clouds', 'Clouds', 'Rain', 'Rain', '...</td>\n",
       "      <td>18</td>\n",
       "    </tr>\n",
       "    <tr>\n",
       "      <th>12</th>\n",
       "      <td>Besancon</td>\n",
       "      <td>47.238022</td>\n",
       "      <td>6.024362</td>\n",
       "      <td>[1, 2, 3, 4, 5, 6, 7]</td>\n",
       "      <td>[15, 22, 26, 29, 13, 23, 26]</td>\n",
       "      <td>[100, 16, 9, 100, 100, 0, 0]</td>\n",
       "      <td>['Rain', 'Clouds', 'Clouds', 'Rain', 'Rain', '...</td>\n",
       "      <td>17</td>\n",
       "    </tr>\n",
       "    <tr>\n",
       "      <th>13</th>\n",
       "      <td>Dijon</td>\n",
       "      <td>47.321581</td>\n",
       "      <td>5.041470</td>\n",
       "      <td>[1, 2, 3, 4, 5, 6, 7]</td>\n",
       "      <td>[16, 22, 25, 28, 18, 23, 26]</td>\n",
       "      <td>[100, 0, 0, 100, 100, 0, 0]</td>\n",
       "      <td>['Rain', 'Clear', 'Clear', 'Rain', 'Rain', 'Cl...</td>\n",
       "      <td>18</td>\n",
       "    </tr>\n",
       "    <tr>\n",
       "      <th>14</th>\n",
       "      <td>Annecy</td>\n",
       "      <td>45.899235</td>\n",
       "      <td>6.128885</td>\n",
       "      <td>[1, 2, 3, 4, 5, 6, 7]</td>\n",
       "      <td>[18, 18, 27, 30, 17, 24, 29]</td>\n",
       "      <td>[100, 96, 21, 95, 93, 9, 0]</td>\n",
       "      <td>['Rain', 'Rain', 'Rain', 'Rain', 'Rain', 'Clou...</td>\n",
       "      <td>17</td>\n",
       "    </tr>\n",
       "    <tr>\n",
       "      <th>15</th>\n",
       "      <td>Grenoble</td>\n",
       "      <td>45.187560</td>\n",
       "      <td>5.735782</td>\n",
       "      <td>[1, 2, 3, 4, 5, 6, 7]</td>\n",
       "      <td>[22, 19, 28, 32, 20, 27, 32]</td>\n",
       "      <td>[87, 100, 0, 55, 47, 13, 0]</td>\n",
       "      <td>['Rain', 'Rain', 'Clouds', 'Rain', 'Rain', 'Cl...</td>\n",
       "      <td>21</td>\n",
       "    </tr>\n",
       "    <tr>\n",
       "      <th>16</th>\n",
       "      <td>Lyon</td>\n",
       "      <td>45.757814</td>\n",
       "      <td>4.832011</td>\n",
       "      <td>[1, 2, 3, 4, 5, 6, 7]</td>\n",
       "      <td>[17, 22, 26, 29, 16, 25, 29]</td>\n",
       "      <td>[100, 46, 0, 74, 55, 0, 0]</td>\n",
       "      <td>['Rain', 'Rain', 'Clear', 'Rain', 'Rain', 'Cle...</td>\n",
       "      <td>19</td>\n",
       "    </tr>\n",
       "    <tr>\n",
       "      <th>17</th>\n",
       "      <td>Gorges du Verdon</td>\n",
       "      <td>43.846218</td>\n",
       "      <td>6.513181</td>\n",
       "      <td>[1, 2, 3, 4, 5, 6, 7]</td>\n",
       "      <td>[29, 24, 27, 28, 28, 28, 31]</td>\n",
       "      <td>[43, 100, 0, 54, 24, 16, 0]</td>\n",
       "      <td>['Clear', 'Rain', 'Clear', 'Rain', 'Clear', 'C...</td>\n",
       "      <td>24</td>\n",
       "    </tr>\n",
       "    <tr>\n",
       "      <th>18</th>\n",
       "      <td>Bormes les Mimosas</td>\n",
       "      <td>43.157217</td>\n",
       "      <td>6.329254</td>\n",
       "      <td>[1, 2, 3, 4, 5, 6, 7]</td>\n",
       "      <td>[29, 23, 29, 28, 27, 27, 29]</td>\n",
       "      <td>[3, 93, 0, 56, 0, 0, 0]</td>\n",
       "      <td>['Clear', 'Rain', 'Clear', 'Rain', 'Clouds', '...</td>\n",
       "      <td>25</td>\n",
       "    </tr>\n",
       "    <tr>\n",
       "      <th>19</th>\n",
       "      <td>Cassis</td>\n",
       "      <td>43.214036</td>\n",
       "      <td>5.539632</td>\n",
       "      <td>[1, 2, 3, 4, 5, 6, 7]</td>\n",
       "      <td>[29, 26, 28, 26, 28, 28, 30]</td>\n",
       "      <td>[10, 67, 0, 45, 0, 0, 0]</td>\n",
       "      <td>['Clouds', 'Rain', 'Clear', 'Rain', 'Clear', '...</td>\n",
       "      <td>26</td>\n",
       "    </tr>\n",
       "    <tr>\n",
       "      <th>20</th>\n",
       "      <td>Marseille</td>\n",
       "      <td>43.296174</td>\n",
       "      <td>5.369953</td>\n",
       "      <td>[1, 2, 3, 4, 5, 6, 7]</td>\n",
       "      <td>[29, 26, 28, 26, 28, 28, 30]</td>\n",
       "      <td>[12, 79, 0, 36, 0, 0, 0]</td>\n",
       "      <td>['Clouds', 'Rain', 'Clear', 'Rain', 'Clear', '...</td>\n",
       "      <td>26</td>\n",
       "    </tr>\n",
       "    <tr>\n",
       "      <th>21</th>\n",
       "      <td>Aix en Provence</td>\n",
       "      <td>43.529842</td>\n",
       "      <td>5.447474</td>\n",
       "      <td>[1, 2, 3, 4, 5, 6, 7]</td>\n",
       "      <td>[31, 28, 29, 29, 29, 29, 33]</td>\n",
       "      <td>[28, 76, 0, 40, 0, 0, 0]</td>\n",
       "      <td>['Clouds', 'Rain', 'Clear', 'Rain', 'Clear', '...</td>\n",
       "      <td>27</td>\n",
       "    </tr>\n",
       "    <tr>\n",
       "      <th>22</th>\n",
       "      <td>Avignon</td>\n",
       "      <td>43.949249</td>\n",
       "      <td>4.805901</td>\n",
       "      <td>[1, 2, 3, 4, 5, 6, 7]</td>\n",
       "      <td>[29, 25, 29, 31, 27, 28, 34]</td>\n",
       "      <td>[15, 99, 0, 2, 0, 0, 0]</td>\n",
       "      <td>['Clouds', 'Rain', 'Clear', 'Clouds', 'Clear',...</td>\n",
       "      <td>27</td>\n",
       "    </tr>\n",
       "    <tr>\n",
       "      <th>23</th>\n",
       "      <td>Uzes</td>\n",
       "      <td>44.012128</td>\n",
       "      <td>4.419672</td>\n",
       "      <td>[1, 2, 3, 4, 5, 6, 7]</td>\n",
       "      <td>[28, 26, 30, 30, 27, 29, 34]</td>\n",
       "      <td>[15, 96, 0, 0, 1, 0, 0]</td>\n",
       "      <td>['Clouds', 'Rain', 'Clear', 'Clouds', 'Clear',...</td>\n",
       "      <td>27</td>\n",
       "    </tr>\n",
       "    <tr>\n",
       "      <th>24</th>\n",
       "      <td>Nimes</td>\n",
       "      <td>43.837425</td>\n",
       "      <td>4.360069</td>\n",
       "      <td>[1, 2, 3, 4, 5, 6, 7]</td>\n",
       "      <td>[29, 27, 29, 29, 28, 29, 34]</td>\n",
       "      <td>[11, 95, 0, 0, 1, 0, 0]</td>\n",
       "      <td>['Clouds', 'Rain', 'Clear', 'Clouds', 'Clear',...</td>\n",
       "      <td>27</td>\n",
       "    </tr>\n",
       "    <tr>\n",
       "      <th>25</th>\n",
       "      <td>Aigues Mortes</td>\n",
       "      <td>43.565823</td>\n",
       "      <td>4.191284</td>\n",
       "      <td>[1, 2, 3, 4, 5, 6, 7]</td>\n",
       "      <td>[28, 26, 27, 25, 27, 27, 30]</td>\n",
       "      <td>[7, 85, 0, 0, 1, 0, 0]</td>\n",
       "      <td>['Clouds', 'Rain', 'Clear', 'Clouds', 'Clear',...</td>\n",
       "      <td>25</td>\n",
       "    </tr>\n",
       "    <tr>\n",
       "      <th>26</th>\n",
       "      <td>Saintes Maries de la mer</td>\n",
       "      <td>43.452277</td>\n",
       "      <td>4.428717</td>\n",
       "      <td>[1, 2, 3, 4, 5, 6, 7]</td>\n",
       "      <td>[27, 25, 26, 24, 27, 26, 30]</td>\n",
       "      <td>[1, 93, 0, 1, 0, 0, 0]</td>\n",
       "      <td>['Clouds', 'Rain', 'Clear', 'Clouds', 'Clear',...</td>\n",
       "      <td>25</td>\n",
       "    </tr>\n",
       "    <tr>\n",
       "      <th>27</th>\n",
       "      <td>Collioure</td>\n",
       "      <td>42.525050</td>\n",
       "      <td>3.083155</td>\n",
       "      <td>[1, 2, 3, 4, 5, 6, 7]</td>\n",
       "      <td>[26, 27, 28, 26, 24, 27, 28]</td>\n",
       "      <td>[36, 56, 0, 8, 0, 0, 0]</td>\n",
       "      <td>['Rain', 'Rain', 'Clear', 'Clouds', 'Clear', '...</td>\n",
       "      <td>25</td>\n",
       "    </tr>\n",
       "    <tr>\n",
       "      <th>28</th>\n",
       "      <td>Carcassonne</td>\n",
       "      <td>43.213036</td>\n",
       "      <td>2.349107</td>\n",
       "      <td>[1, 2, 3, 4, 5, 6, 7]</td>\n",
       "      <td>[20, 24, 29, 21, 21, 28, 33]</td>\n",
       "      <td>[54, 62, 0, 52, 27, 0, 22]</td>\n",
       "      <td>['Rain', 'Rain', 'Clear', 'Rain', 'Rain', 'Cle...</td>\n",
       "      <td>22</td>\n",
       "    </tr>\n",
       "    <tr>\n",
       "      <th>29</th>\n",
       "      <td>Ariege</td>\n",
       "      <td>42.963900</td>\n",
       "      <td>1.605381</td>\n",
       "      <td>[1, 2, 3, 4, 5, 6, 7]</td>\n",
       "      <td>[15, 22, 27, 18, 15, 26, 30]</td>\n",
       "      <td>[97, 97, 2, 79, 59, 0, 48]</td>\n",
       "      <td>['Rain', 'Rain', 'Clear', 'Rain', 'Rain', 'Cle...</td>\n",
       "      <td>16</td>\n",
       "    </tr>\n",
       "    <tr>\n",
       "      <th>30</th>\n",
       "      <td>Toulouse</td>\n",
       "      <td>43.604462</td>\n",
       "      <td>1.444247</td>\n",
       "      <td>[1, 2, 3, 4, 5, 6, 7]</td>\n",
       "      <td>[14, 22, 27, 20, 18, 26, 30]</td>\n",
       "      <td>[81, 57, 0, 96, 41, 0, 52]</td>\n",
       "      <td>['Rain', 'Clouds', 'Clear', 'Rain', 'Clouds', ...</td>\n",
       "      <td>17</td>\n",
       "    </tr>\n",
       "    <tr>\n",
       "      <th>31</th>\n",
       "      <td>Montauban</td>\n",
       "      <td>44.017584</td>\n",
       "      <td>1.354999</td>\n",
       "      <td>[1, 2, 3, 4, 5, 6, 7]</td>\n",
       "      <td>[15, 22, 26, 17, 20, 26, 29]</td>\n",
       "      <td>[93, 22, 0, 97, 52, 0, 48]</td>\n",
       "      <td>['Rain', 'Clouds', 'Clear', 'Rain', 'Rain', 'C...</td>\n",
       "      <td>17</td>\n",
       "    </tr>\n",
       "    <tr>\n",
       "      <th>32</th>\n",
       "      <td>Biarritz</td>\n",
       "      <td>43.483252</td>\n",
       "      <td>-1.559278</td>\n",
       "      <td>[1, 2, 3, 4, 5, 6, 7]</td>\n",
       "      <td>[16, 21, 19, 16, 18, 24, 22]</td>\n",
       "      <td>[37, 0, 100, 100, 27, 0, 100]</td>\n",
       "      <td>['Rain', 'Clouds', 'Rain', 'Rain', 'Rain', 'Cl...</td>\n",
       "      <td>14</td>\n",
       "    </tr>\n",
       "    <tr>\n",
       "      <th>33</th>\n",
       "      <td>Bayonne</td>\n",
       "      <td>43.493338</td>\n",
       "      <td>-1.475099</td>\n",
       "      <td>[1, 2, 3, 4, 5, 6, 7]</td>\n",
       "      <td>[16, 22, 20, 16, 18, 25, 23]</td>\n",
       "      <td>[36, 0, 100, 100, 28, 0, 100]</td>\n",
       "      <td>['Rain', 'Clear', 'Rain', 'Rain', 'Rain', 'Clo...</td>\n",
       "      <td>14</td>\n",
       "    </tr>\n",
       "    <tr>\n",
       "      <th>34</th>\n",
       "      <td>La Rochelle</td>\n",
       "      <td>46.159113</td>\n",
       "      <td>-1.152043</td>\n",
       "      <td>[1, 2, 3, 4, 5, 6, 7]</td>\n",
       "      <td>[17, 18, 19, 14, 17, 18, 21]</td>\n",
       "      <td>[0, 0, 2, 98, 35, 0, 1]</td>\n",
       "      <td>['Clear', 'Clear', 'Clouds', 'Rain', 'Rain', '...</td>\n",
       "      <td>15</td>\n",
       "    </tr>\n",
       "  </tbody>\n",
       "</table>\n",
       "</div>"
      ],
      "text/plain": [
       "                           ville        lat       lon                jour_+x  \\\n",
       "0              Mont Saint Michel  48.635954 -1.511460  [1, 2, 3, 4, 5, 6, 7]   \n",
       "1                        St Malo  48.649518 -2.026041  [1, 2, 3, 4, 5, 6, 7]   \n",
       "2                         Bayeux  49.276462 -0.702474  [1, 2, 3, 4, 5, 6, 7]   \n",
       "3                       Le Havre  49.493898  0.107973  [1, 2, 3, 4, 5, 6, 7]   \n",
       "4                          Rouen  49.440459  1.093966  [1, 2, 3, 4, 5, 6, 7]   \n",
       "5                          Paris  48.858890  2.320041  [1, 2, 3, 4, 5, 6, 7]   \n",
       "6                         Amiens  49.894171  2.295695  [1, 2, 3, 4, 5, 6, 7]   \n",
       "7                          Lille  50.636565  3.063528  [1, 2, 3, 4, 5, 6, 7]   \n",
       "8                     Strasbourg  48.584614  7.750713  [1, 2, 3, 4, 5, 6, 7]   \n",
       "9   Chateau du Haut Koenigsbourg  48.249523  7.345492  [1, 2, 3, 4, 5, 6, 7]   \n",
       "10                        Colmar  48.077752  7.357964  [1, 2, 3, 4, 5, 6, 7]   \n",
       "11                     Eguisheim  48.044797  7.307962  [1, 2, 3, 4, 5, 6, 7]   \n",
       "12                      Besancon  47.238022  6.024362  [1, 2, 3, 4, 5, 6, 7]   \n",
       "13                         Dijon  47.321581  5.041470  [1, 2, 3, 4, 5, 6, 7]   \n",
       "14                        Annecy  45.899235  6.128885  [1, 2, 3, 4, 5, 6, 7]   \n",
       "15                      Grenoble  45.187560  5.735782  [1, 2, 3, 4, 5, 6, 7]   \n",
       "16                          Lyon  45.757814  4.832011  [1, 2, 3, 4, 5, 6, 7]   \n",
       "17              Gorges du Verdon  43.846218  6.513181  [1, 2, 3, 4, 5, 6, 7]   \n",
       "18            Bormes les Mimosas  43.157217  6.329254  [1, 2, 3, 4, 5, 6, 7]   \n",
       "19                        Cassis  43.214036  5.539632  [1, 2, 3, 4, 5, 6, 7]   \n",
       "20                     Marseille  43.296174  5.369953  [1, 2, 3, 4, 5, 6, 7]   \n",
       "21               Aix en Provence  43.529842  5.447474  [1, 2, 3, 4, 5, 6, 7]   \n",
       "22                       Avignon  43.949249  4.805901  [1, 2, 3, 4, 5, 6, 7]   \n",
       "23                          Uzes  44.012128  4.419672  [1, 2, 3, 4, 5, 6, 7]   \n",
       "24                         Nimes  43.837425  4.360069  [1, 2, 3, 4, 5, 6, 7]   \n",
       "25                 Aigues Mortes  43.565823  4.191284  [1, 2, 3, 4, 5, 6, 7]   \n",
       "26      Saintes Maries de la mer  43.452277  4.428717  [1, 2, 3, 4, 5, 6, 7]   \n",
       "27                     Collioure  42.525050  3.083155  [1, 2, 3, 4, 5, 6, 7]   \n",
       "28                   Carcassonne  43.213036  2.349107  [1, 2, 3, 4, 5, 6, 7]   \n",
       "29                        Ariege  42.963900  1.605381  [1, 2, 3, 4, 5, 6, 7]   \n",
       "30                      Toulouse  43.604462  1.444247  [1, 2, 3, 4, 5, 6, 7]   \n",
       "31                     Montauban  44.017584  1.354999  [1, 2, 3, 4, 5, 6, 7]   \n",
       "32                      Biarritz  43.483252 -1.559278  [1, 2, 3, 4, 5, 6, 7]   \n",
       "33                       Bayonne  43.493338 -1.475099  [1, 2, 3, 4, 5, 6, 7]   \n",
       "34                   La Rochelle  46.159113 -1.152043  [1, 2, 3, 4, 5, 6, 7]   \n",
       "\n",
       "           temperature_ressentie           probabilite_de_pluie  \\\n",
       "0   [17, 20, 20, 17, 19, 21, 19]      [52, 0, 15, 62, 37, 0, 0]   \n",
       "1   [15, 19, 18, 16, 16, 20, 17]       [47, 0, 9, 53, 48, 0, 0]   \n",
       "2   [17, 20, 21, 14, 19, 22, 20]      [65, 0, 38, 71, 46, 0, 0]   \n",
       "3   [17, 18, 19, 14, 17, 18, 16]      [32, 0, 60, 98, 50, 0, 0]   \n",
       "4   [19, 22, 22, 16, 18, 21, 21]     [24, 0, 18, 100, 70, 0, 0]   \n",
       "5   [21, 23, 24, 22, 20, 23, 24]        [2, 0, 0, 81, 61, 0, 0]   \n",
       "6   [20, 22, 23, 15, 18, 21, 21]       [37, 0, 0, 96, 86, 0, 0]   \n",
       "7   [20, 22, 24, 19, 20, 21, 22]       [57, 0, 0, 61, 94, 0, 0]   \n",
       "8   [19, 23, 23, 29, 15, 24, 28]  [100, 16, 20, 21, 100, 20, 0]   \n",
       "9   [15, 20, 22, 26, 12, 21, 26]   [100, 2, 18, 60, 100, 20, 0]   \n",
       "10  [19, 23, 26, 30, 15, 24, 28]    [100, 2, 19, 62, 100, 0, 0]   \n",
       "11  [19, 23, 25, 29, 15, 24, 28]   [100, 1, 20, 67, 100, 20, 0]   \n",
       "12  [15, 22, 26, 29, 13, 23, 26]   [100, 16, 9, 100, 100, 0, 0]   \n",
       "13  [16, 22, 25, 28, 18, 23, 26]    [100, 0, 0, 100, 100, 0, 0]   \n",
       "14  [18, 18, 27, 30, 17, 24, 29]    [100, 96, 21, 95, 93, 9, 0]   \n",
       "15  [22, 19, 28, 32, 20, 27, 32]    [87, 100, 0, 55, 47, 13, 0]   \n",
       "16  [17, 22, 26, 29, 16, 25, 29]     [100, 46, 0, 74, 55, 0, 0]   \n",
       "17  [29, 24, 27, 28, 28, 28, 31]    [43, 100, 0, 54, 24, 16, 0]   \n",
       "18  [29, 23, 29, 28, 27, 27, 29]        [3, 93, 0, 56, 0, 0, 0]   \n",
       "19  [29, 26, 28, 26, 28, 28, 30]       [10, 67, 0, 45, 0, 0, 0]   \n",
       "20  [29, 26, 28, 26, 28, 28, 30]       [12, 79, 0, 36, 0, 0, 0]   \n",
       "21  [31, 28, 29, 29, 29, 29, 33]       [28, 76, 0, 40, 0, 0, 0]   \n",
       "22  [29, 25, 29, 31, 27, 28, 34]        [15, 99, 0, 2, 0, 0, 0]   \n",
       "23  [28, 26, 30, 30, 27, 29, 34]        [15, 96, 0, 0, 1, 0, 0]   \n",
       "24  [29, 27, 29, 29, 28, 29, 34]        [11, 95, 0, 0, 1, 0, 0]   \n",
       "25  [28, 26, 27, 25, 27, 27, 30]         [7, 85, 0, 0, 1, 0, 0]   \n",
       "26  [27, 25, 26, 24, 27, 26, 30]         [1, 93, 0, 1, 0, 0, 0]   \n",
       "27  [26, 27, 28, 26, 24, 27, 28]        [36, 56, 0, 8, 0, 0, 0]   \n",
       "28  [20, 24, 29, 21, 21, 28, 33]     [54, 62, 0, 52, 27, 0, 22]   \n",
       "29  [15, 22, 27, 18, 15, 26, 30]     [97, 97, 2, 79, 59, 0, 48]   \n",
       "30  [14, 22, 27, 20, 18, 26, 30]     [81, 57, 0, 96, 41, 0, 52]   \n",
       "31  [15, 22, 26, 17, 20, 26, 29]     [93, 22, 0, 97, 52, 0, 48]   \n",
       "32  [16, 21, 19, 16, 18, 24, 22]  [37, 0, 100, 100, 27, 0, 100]   \n",
       "33  [16, 22, 20, 16, 18, 25, 23]  [36, 0, 100, 100, 28, 0, 100]   \n",
       "34  [17, 18, 19, 14, 17, 18, 21]        [0, 0, 2, 98, 35, 0, 1]   \n",
       "\n",
       "                                     meteo_principale  score  \n",
       "0   ['Rain', 'Clouds', 'Clouds', 'Rain', 'Rain', '...     16  \n",
       "1   ['Rain', 'Clouds', 'Clouds', 'Rain', 'Rain', '...     15  \n",
       "2   ['Rain', 'Clouds', 'Clouds', 'Rain', 'Rain', '...     15  \n",
       "3   ['Clear', 'Clouds', 'Rain', 'Rain', 'Rain', 'C...     13  \n",
       "4   ['Clear', 'Clouds', 'Clouds', 'Rain', 'Rain', ...     16  \n",
       "5   ['Clouds', 'Clouds', 'Clouds', 'Rain', 'Rain',...     20  \n",
       "6   ['Clouds', 'Clear', 'Clouds', 'Rain', 'Rain', ...     16  \n",
       "7   ['Rain', 'Clear', 'Clouds', 'Rain', 'Rain', 'C...     18  \n",
       "8   ['Rain', 'Clouds', 'Clouds', 'Clear', 'Rain', ...     19  \n",
       "9   ['Rain', 'Clouds', 'Clouds', 'Clear', 'Rain', ...     16  \n",
       "10  ['Rain', 'Clouds', 'Clouds', 'Rain', 'Rain', '...     19  \n",
       "11  ['Rain', 'Clouds', 'Clouds', 'Rain', 'Rain', '...     18  \n",
       "12  ['Rain', 'Clouds', 'Clouds', 'Rain', 'Rain', '...     17  \n",
       "13  ['Rain', 'Clear', 'Clear', 'Rain', 'Rain', 'Cl...     18  \n",
       "14  ['Rain', 'Rain', 'Rain', 'Rain', 'Rain', 'Clou...     17  \n",
       "15  ['Rain', 'Rain', 'Clouds', 'Rain', 'Rain', 'Cl...     21  \n",
       "16  ['Rain', 'Rain', 'Clear', 'Rain', 'Rain', 'Cle...     19  \n",
       "17  ['Clear', 'Rain', 'Clear', 'Rain', 'Clear', 'C...     24  \n",
       "18  ['Clear', 'Rain', 'Clear', 'Rain', 'Clouds', '...     25  \n",
       "19  ['Clouds', 'Rain', 'Clear', 'Rain', 'Clear', '...     26  \n",
       "20  ['Clouds', 'Rain', 'Clear', 'Rain', 'Clear', '...     26  \n",
       "21  ['Clouds', 'Rain', 'Clear', 'Rain', 'Clear', '...     27  \n",
       "22  ['Clouds', 'Rain', 'Clear', 'Clouds', 'Clear',...     27  \n",
       "23  ['Clouds', 'Rain', 'Clear', 'Clouds', 'Clear',...     27  \n",
       "24  ['Clouds', 'Rain', 'Clear', 'Clouds', 'Clear',...     27  \n",
       "25  ['Clouds', 'Rain', 'Clear', 'Clouds', 'Clear',...     25  \n",
       "26  ['Clouds', 'Rain', 'Clear', 'Clouds', 'Clear',...     25  \n",
       "27  ['Rain', 'Rain', 'Clear', 'Clouds', 'Clear', '...     25  \n",
       "28  ['Rain', 'Rain', 'Clear', 'Rain', 'Rain', 'Cle...     22  \n",
       "29  ['Rain', 'Rain', 'Clear', 'Rain', 'Rain', 'Cle...     16  \n",
       "30  ['Rain', 'Clouds', 'Clear', 'Rain', 'Clouds', ...     17  \n",
       "31  ['Rain', 'Clouds', 'Clear', 'Rain', 'Rain', 'C...     17  \n",
       "32  ['Rain', 'Clouds', 'Rain', 'Rain', 'Rain', 'Cl...     14  \n",
       "33  ['Rain', 'Clear', 'Rain', 'Rain', 'Rain', 'Clo...     14  \n",
       "34  ['Clear', 'Clear', 'Clouds', 'Rain', 'Rain', '...     15  "
      ]
     },
     "execution_count": 28,
     "metadata": {},
     "output_type": "execute_result"
    }
   ],
   "source": [
    "test_meteo = pd.read_csv(\"df_gps_weather.csv\")\n",
    "test_meteo\n"
   ]
  },
  {
   "cell_type": "markdown",
   "metadata": {},
   "source": [
    "## Create your data lake using S3"
   ]
  },
  {
   "cell_type": "code",
   "execution_count": 29,
   "metadata": {},
   "outputs": [
    {
     "name": "stderr",
     "output_type": "stream",
     "text": [
      "2022-06-26 07:43:04 [botocore.credentials] INFO: Found credentials in shared credentials file: ~/.aws/credentials\n"
     ]
    }
   ],
   "source": [
    "# Let's use Amazon S3\n",
    "s3 = boto3.resource(\"s3\")\n"
   ]
  },
  {
   "cell_type": "code",
   "execution_count": 30,
   "metadata": {},
   "outputs": [
    {
     "name": "stdout",
     "output_type": "stream",
     "text": [
      "alexlasnier-bucket\n"
     ]
    }
   ],
   "source": [
    "# Print out bucket names\n",
    "for bucket in s3.buckets.all():\n",
    "    print(bucket.name)\n"
   ]
  },
  {
   "cell_type": "code",
   "execution_count": 31,
   "metadata": {},
   "outputs": [],
   "source": [
    "bucket = s3.Bucket(\"alexlasnier-bucket\")\n"
   ]
  },
  {
   "cell_type": "code",
   "execution_count": 32,
   "metadata": {},
   "outputs": [],
   "source": [
    "bucket.upload_file(\"df_gps_weather.csv\", \"meteo.csv\")\n",
    "bucket.upload_file(\"df_gps_hotels.csv\", \"hotels.csv\")\n"
   ]
  },
  {
   "cell_type": "code",
   "execution_count": 33,
   "metadata": {},
   "outputs": [
    {
     "name": "stdout",
     "output_type": "stream",
     "text": [
      "hotels.csv\n",
      "meteo.csv\n"
     ]
    }
   ],
   "source": [
    "for object_summary in bucket.objects.filter():\n",
    "    print(object_summary.key)\n"
   ]
  },
  {
   "cell_type": "markdown",
   "metadata": {},
   "source": [
    "## ETL"
   ]
  },
  {
   "cell_type": "code",
   "execution_count": 34,
   "metadata": {},
   "outputs": [
    {
     "name": "stderr",
     "output_type": "stream",
     "text": [
      "2022-06-26 07:43:06 [botocore.credentials] INFO: Found credentials in shared credentials file: ~/.aws/credentials\n"
     ]
    }
   ],
   "source": [
    "df_gps_weather = pd.read_csv(\"s3://alexlasnier-bucket/meteo.csv\")\n",
    "df_gps_hotels = pd.read_csv(\"s3://alexlasnier-bucket/hotels.csv\")\n"
   ]
  },
  {
   "cell_type": "code",
   "execution_count": 35,
   "metadata": {},
   "outputs": [],
   "source": [
    "df_weather = pd.DataFrame()\n",
    "# convert into list\n",
    "df_weather[[\"ville\", \"lat\", \"lon\", \"score\"]] = df_gps_weather[\n",
    "    [\"ville\", \"lat\", \"lon\", \"score\"]\n",
    "]\n",
    "\n",
    "\n",
    "df_weather[\"jour_+x\"] = df_gps_weather[\"jour_+x\"].apply(eval)\n",
    "df_weather[\"temperature_ressentie\"] = df_gps_weather[\"temperature_ressentie\"].apply(\n",
    "    eval\n",
    ")\n",
    "df_weather[\"probabilite_de_pluie\"] = df_gps_weather[\"probabilite_de_pluie\"].apply(eval)\n",
    "df_weather[\"meteo_principale\"] = df_gps_weather[\"meteo_principale\"].apply(eval)\n"
   ]
  },
  {
   "cell_type": "code",
   "execution_count": 36,
   "metadata": {},
   "outputs": [
    {
     "data": {
      "text/html": [
       "<div>\n",
       "<style scoped>\n",
       "    .dataframe tbody tr th:only-of-type {\n",
       "        vertical-align: middle;\n",
       "    }\n",
       "\n",
       "    .dataframe tbody tr th {\n",
       "        vertical-align: top;\n",
       "    }\n",
       "\n",
       "    .dataframe thead th {\n",
       "        text-align: right;\n",
       "    }\n",
       "</style>\n",
       "<table border=\"1\" class=\"dataframe\">\n",
       "  <thead>\n",
       "    <tr style=\"text-align: right;\">\n",
       "      <th></th>\n",
       "      <th>ville</th>\n",
       "      <th>hotels</th>\n",
       "      <th>liens</th>\n",
       "      <th>lat</th>\n",
       "      <th>lon</th>\n",
       "      <th>description</th>\n",
       "      <th>score</th>\n",
       "      <th>meteo_score</th>\n",
       "    </tr>\n",
       "  </thead>\n",
       "  <tbody>\n",
       "    <tr>\n",
       "      <th>0</th>\n",
       "      <td>Mont Saint Michel</td>\n",
       "      <td>Hôtel Vert</td>\n",
       "      <td>https://www.booking.com/hotel/fr/vert.fr.html?...</td>\n",
       "      <td>48.614700</td>\n",
       "      <td>-1.509617</td>\n",
       "      <td>\\nVous pouvez bénéficier d'une réduction Geniu...</td>\n",
       "      <td>8,0</td>\n",
       "      <td>16</td>\n",
       "    </tr>\n",
       "    <tr>\n",
       "      <th>1</th>\n",
       "      <td>Mont Saint Michel</td>\n",
       "      <td>Le Relais Saint Michel</td>\n",
       "      <td>https://www.booking.com/hotel/fr/le-relais-sai...</td>\n",
       "      <td>48.617587</td>\n",
       "      <td>-1.510396</td>\n",
       "      <td>\\n\\nVous pouvez bénéficier d'une réduction Gen...</td>\n",
       "      <td>7,9</td>\n",
       "      <td>16</td>\n",
       "    </tr>\n",
       "    <tr>\n",
       "      <th>2</th>\n",
       "      <td>Mont Saint Michel</td>\n",
       "      <td>Hotel De La Digue</td>\n",
       "      <td>https://www.booking.com/hotel/fr/de-la-digue.f...</td>\n",
       "      <td>48.616882</td>\n",
       "      <td>-1.510918</td>\n",
       "      <td>\\nCet établissement est à 1 minute à pied de l...</td>\n",
       "      <td>7,2</td>\n",
       "      <td>16</td>\n",
       "    </tr>\n",
       "    <tr>\n",
       "      <th>3</th>\n",
       "      <td>Mont Saint Michel</td>\n",
       "      <td>Les Terrasses Poulard</td>\n",
       "      <td>https://www.booking.com/hotel/fr/les-terrasses...</td>\n",
       "      <td>48.635349</td>\n",
       "      <td>-1.510379</td>\n",
       "      <td>\\nVous pouvez bénéficier d'une réduction Geniu...</td>\n",
       "      <td>7,3</td>\n",
       "      <td>16</td>\n",
       "    </tr>\n",
       "    <tr>\n",
       "      <th>4</th>\n",
       "      <td>Mont Saint Michel</td>\n",
       "      <td>Le Saint Aubert</td>\n",
       "      <td>https://www.booking.com/hotel/fr/hotel-saint-a...</td>\n",
       "      <td>48.612938</td>\n",
       "      <td>-1.510105</td>\n",
       "      <td>\\nNiché dans un écrin de verdure, à seulement ...</td>\n",
       "      <td>7,2</td>\n",
       "      <td>16</td>\n",
       "    </tr>\n",
       "    <tr>\n",
       "      <th>...</th>\n",
       "      <td>...</td>\n",
       "      <td>...</td>\n",
       "      <td>...</td>\n",
       "      <td>...</td>\n",
       "      <td>...</td>\n",
       "      <td>...</td>\n",
       "      <td>...</td>\n",
       "      <td>...</td>\n",
       "    </tr>\n",
       "    <tr>\n",
       "      <th>870</th>\n",
       "      <td>La Rochelle</td>\n",
       "      <td>Hôtel La Tour de Nesle La Rochelle Vieux Port</td>\n",
       "      <td>https://www.booking.com/hotel/fr/de-la-tour-de...</td>\n",
       "      <td>46.158097</td>\n",
       "      <td>-1.150362</td>\n",
       "      <td>\\nVous pouvez bénéficier d'une réduction Geniu...</td>\n",
       "      <td>8,1</td>\n",
       "      <td>15</td>\n",
       "    </tr>\n",
       "    <tr>\n",
       "      <th>871</th>\n",
       "      <td>La Rochelle</td>\n",
       "      <td>STUDIO EN HYPERCENTRE À 2 PAS DE L'HOTEL DE VI...</td>\n",
       "      <td>https://www.booking.com/hotel/fr/studio-en-hyp...</td>\n",
       "      <td>46.159836</td>\n",
       "      <td>-1.152469</td>\n",
       "      <td>\\nLocated 800 metres from Concurrence and 2.4 ...</td>\n",
       "      <td>1.0</td>\n",
       "      <td>15</td>\n",
       "    </tr>\n",
       "    <tr>\n",
       "      <th>872</th>\n",
       "      <td>La Rochelle</td>\n",
       "      <td>Hotel La Marine, Vieux Port</td>\n",
       "      <td>https://www.booking.com/hotel/fr/la-marine-la-...</td>\n",
       "      <td>46.158159</td>\n",
       "      <td>-1.152671</td>\n",
       "      <td>\\nCet établissement est à 6 minutes à pied de ...</td>\n",
       "      <td>8,5</td>\n",
       "      <td>15</td>\n",
       "    </tr>\n",
       "    <tr>\n",
       "      <th>873</th>\n",
       "      <td>La Rochelle</td>\n",
       "      <td>Studio La Rochelle, 1 pièce, 2 personnes - FR-...</td>\n",
       "      <td>https://www.booking.com/hotel/fr/apartment-por...</td>\n",
       "      <td>46.139260</td>\n",
       "      <td>-1.160848</td>\n",
       "      <td>\\nLe Studio La Rochelle, 1 pièce, 2 personnes ...</td>\n",
       "      <td>1.0</td>\n",
       "      <td>15</td>\n",
       "    </tr>\n",
       "    <tr>\n",
       "      <th>874</th>\n",
       "      <td>La Rochelle</td>\n",
       "      <td>Hôtel Le Rupella</td>\n",
       "      <td>https://www.booking.com/hotel/fr/le-rupella.fr...</td>\n",
       "      <td>46.158175</td>\n",
       "      <td>-1.151070</td>\n",
       "      <td>\\nSitué au cœur de La Rochelle, l'Hôtel Le Rup...</td>\n",
       "      <td>7,2</td>\n",
       "      <td>15</td>\n",
       "    </tr>\n",
       "  </tbody>\n",
       "</table>\n",
       "<p>875 rows × 8 columns</p>\n",
       "</div>"
      ],
      "text/plain": [
       "                 ville                                             hotels  \\\n",
       "0    Mont Saint Michel                                         Hôtel Vert   \n",
       "1    Mont Saint Michel                             Le Relais Saint Michel   \n",
       "2    Mont Saint Michel                                  Hotel De La Digue   \n",
       "3    Mont Saint Michel                              Les Terrasses Poulard   \n",
       "4    Mont Saint Michel                                    Le Saint Aubert   \n",
       "..                 ...                                                ...   \n",
       "870        La Rochelle      Hôtel La Tour de Nesle La Rochelle Vieux Port   \n",
       "871        La Rochelle  STUDIO EN HYPERCENTRE À 2 PAS DE L'HOTEL DE VI...   \n",
       "872        La Rochelle                        Hotel La Marine, Vieux Port   \n",
       "873        La Rochelle  Studio La Rochelle, 1 pièce, 2 personnes - FR-...   \n",
       "874        La Rochelle                                   Hôtel Le Rupella   \n",
       "\n",
       "                                                 liens        lat       lon  \\\n",
       "0    https://www.booking.com/hotel/fr/vert.fr.html?...  48.614700 -1.509617   \n",
       "1    https://www.booking.com/hotel/fr/le-relais-sai...  48.617587 -1.510396   \n",
       "2    https://www.booking.com/hotel/fr/de-la-digue.f...  48.616882 -1.510918   \n",
       "3    https://www.booking.com/hotel/fr/les-terrasses...  48.635349 -1.510379   \n",
       "4    https://www.booking.com/hotel/fr/hotel-saint-a...  48.612938 -1.510105   \n",
       "..                                                 ...        ...       ...   \n",
       "870  https://www.booking.com/hotel/fr/de-la-tour-de...  46.158097 -1.150362   \n",
       "871  https://www.booking.com/hotel/fr/studio-en-hyp...  46.159836 -1.152469   \n",
       "872  https://www.booking.com/hotel/fr/la-marine-la-...  46.158159 -1.152671   \n",
       "873  https://www.booking.com/hotel/fr/apartment-por...  46.139260 -1.160848   \n",
       "874  https://www.booking.com/hotel/fr/le-rupella.fr...  46.158175 -1.151070   \n",
       "\n",
       "                                           description score  meteo_score  \n",
       "0    \\nVous pouvez bénéficier d'une réduction Geniu...   8,0           16  \n",
       "1    \\n\\nVous pouvez bénéficier d'une réduction Gen...   7,9           16  \n",
       "2    \\nCet établissement est à 1 minute à pied de l...   7,2           16  \n",
       "3    \\nVous pouvez bénéficier d'une réduction Geniu...   7,3           16  \n",
       "4    \\nNiché dans un écrin de verdure, à seulement ...   7,2           16  \n",
       "..                                                 ...   ...          ...  \n",
       "870  \\nVous pouvez bénéficier d'une réduction Geniu...   8,1           15  \n",
       "871  \\nLocated 800 metres from Concurrence and 2.4 ...   1.0           15  \n",
       "872  \\nCet établissement est à 6 minutes à pied de ...   8,5           15  \n",
       "873  \\nLe Studio La Rochelle, 1 pièce, 2 personnes ...   1.0           15  \n",
       "874  \\nSitué au cœur de La Rochelle, l'Hôtel Le Rup...   7,2           15  \n",
       "\n",
       "[875 rows x 8 columns]"
      ]
     },
     "execution_count": 36,
     "metadata": {},
     "output_type": "execute_result"
    }
   ],
   "source": [
    "df_gps_hotels\n"
   ]
  },
  {
   "cell_type": "code",
   "execution_count": 37,
   "metadata": {},
   "outputs": [],
   "source": [
    "df_weather[\n",
    "    [\"Temp_1\", \"Temp_2\", \"Temp_3\", \"Temp_4\", \"Temp_5\", \"Temp_6\", \"Temp_7\"]\n",
    "] = pd.DataFrame(df_weather[\"temperature_ressentie\"].to_list(), index=df_weather.index)\n",
    "df_weather[\"Temp_moyenne_7jours\"] = (\n",
    "    df_weather[[\"Temp_1\", \"Temp_2\", \"Temp_3\", \"Temp_4\", \"Temp_5\", \"Temp_6\", \"Temp_7\"]]\n",
    "    .mean(axis=1)\n",
    "    .round(4)\n",
    ")\n",
    "df_weather = df_weather.drop(\n",
    "    columns=[\"Temp_1\", \"Temp_2\", \"Temp_3\", \"Temp_4\", \"Temp_5\", \"Temp_6\", \"Temp_7\"]\n",
    ")\n"
   ]
  },
  {
   "cell_type": "code",
   "execution_count": 38,
   "metadata": {},
   "outputs": [],
   "source": [
    "df_weather[\n",
    "    [\"Temp_1\", \"Temp_2\", \"Temp_3\", \"Temp_4\", \"Temp_5\", \"Temp_6\", \"Temp_7\"]\n",
    "] = pd.DataFrame(df_weather[\"probabilite_de_pluie\"].to_list(), index=df_weather.index)\n",
    "df_weather[\"Proba_pluie_7jours\"] = (\n",
    "    df_weather[[\"Temp_1\", \"Temp_2\", \"Temp_3\", \"Temp_4\", \"Temp_5\", \"Temp_6\", \"Temp_7\"]]\n",
    "    .mean(axis=1)\n",
    "    .round(4)\n",
    ")\n",
    "df_weather = df_weather.drop(\n",
    "    columns=[\"Temp_1\", \"Temp_2\", \"Temp_3\", \"Temp_4\", \"Temp_5\", \"Temp_6\", \"Temp_7\"]\n",
    ")\n"
   ]
  },
  {
   "cell_type": "code",
   "execution_count": 39,
   "metadata": {},
   "outputs": [],
   "source": [
    "# Calculate a scale to reflect the difference between\n",
    "# the min and max of the avg temperature (not the more effective way I think)\n",
    "#\n",
    "# first, calculate a ratio between max and min and divide it to have 17.5 steps (arbitrary)\n",
    "\n",
    "temp_diff = (\n",
    "    df_weather[\"Temp_moyenne_7jours\"].max() - df_weather[\"Temp_moyenne_7jours\"].min()\n",
    ") / 17.5\n",
    "\n",
    "# calculate the scale value by subtracting the min value from the avg temperature, divide\n",
    "# that by the ratio which will give the scale a value between 0...16.5 and add 1 to it so that\n",
    "# the scale values start at 1 (to be visible on the map)\n",
    "# add the according scale to each row\n",
    "# the scale column will then be used for size=... parameter in the scatter_mapbox call below\n",
    "df_weather[\"scale_temp\"] = (\n",
    "    df_weather[\"Temp_moyenne_7jours\"] - df_weather[\"Temp_moyenne_7jours\"].min()\n",
    ") / temp_diff + 1\n"
   ]
  },
  {
   "cell_type": "code",
   "execution_count": 40,
   "metadata": {},
   "outputs": [],
   "source": [
    "proba_diff = (\n",
    "    df_weather[\"Proba_pluie_7jours\"].max() - df_weather[\"Proba_pluie_7jours\"].min()\n",
    ") / 17.5\n",
    "\n",
    "df_weather[\"scale_pluie\"] = (\n",
    "    df_weather[\"Proba_pluie_7jours\"] - df_weather[\"Proba_pluie_7jours\"].min()\n",
    ") / proba_diff + 1\n"
   ]
  },
  {
   "cell_type": "markdown",
   "metadata": {},
   "source": [
    "### Connections"
   ]
  },
  {
   "cell_type": "code",
   "execution_count": 41,
   "metadata": {},
   "outputs": [],
   "source": [
    "DBHOST = \"alexlasnier-db.cma6tegzy28v.eu-west-3.rds.amazonaws.com\"\n",
    "PORT = 5432\n",
    "DBNAME = \"postgres\"\n",
    "DBUSER = \"alexlasnieruser\"\n",
    "DBPASS = \"!CitroenC3DaciaLogan\"\n"
   ]
  },
  {
   "cell_type": "code",
   "execution_count": 42,
   "metadata": {},
   "outputs": [
    {
     "name": "stdout",
     "output_type": "stream",
     "text": [
      "2022-06-26 07:43:07,981 INFO sqlalchemy.engine.Engine select pg_catalog.version()\n"
     ]
    },
    {
     "name": "stderr",
     "output_type": "stream",
     "text": [
      "2022-06-26 07:43:07 [sqlalchemy.engine.Engine] INFO: select pg_catalog.version()\n"
     ]
    },
    {
     "name": "stdout",
     "output_type": "stream",
     "text": [
      "2022-06-26 07:43:07,982 INFO sqlalchemy.engine.Engine [raw sql] {}\n"
     ]
    },
    {
     "name": "stderr",
     "output_type": "stream",
     "text": [
      "2022-06-26 07:43:07 [sqlalchemy.engine.Engine] INFO: [raw sql] {}\n"
     ]
    },
    {
     "name": "stdout",
     "output_type": "stream",
     "text": [
      "2022-06-26 07:43:08,012 INFO sqlalchemy.engine.Engine select current_schema()\n"
     ]
    },
    {
     "name": "stderr",
     "output_type": "stream",
     "text": [
      "2022-06-26 07:43:08 [sqlalchemy.engine.Engine] INFO: select current_schema()\n"
     ]
    },
    {
     "name": "stdout",
     "output_type": "stream",
     "text": [
      "2022-06-26 07:43:08,012 INFO sqlalchemy.engine.Engine [raw sql] {}\n"
     ]
    },
    {
     "name": "stderr",
     "output_type": "stream",
     "text": [
      "2022-06-26 07:43:08 [sqlalchemy.engine.Engine] INFO: [raw sql] {}\n"
     ]
    },
    {
     "name": "stdout",
     "output_type": "stream",
     "text": [
      "2022-06-26 07:43:08,037 INFO sqlalchemy.engine.Engine show standard_conforming_strings\n"
     ]
    },
    {
     "name": "stderr",
     "output_type": "stream",
     "text": [
      "2022-06-26 07:43:08 [sqlalchemy.engine.Engine] INFO: show standard_conforming_strings\n"
     ]
    },
    {
     "name": "stdout",
     "output_type": "stream",
     "text": [
      "2022-06-26 07:43:08,038 INFO sqlalchemy.engine.Engine [raw sql] {}\n"
     ]
    },
    {
     "name": "stderr",
     "output_type": "stream",
     "text": [
      "2022-06-26 07:43:08 [sqlalchemy.engine.Engine] INFO: [raw sql] {}\n"
     ]
    }
   ],
   "source": [
    "# Create engine will create a connection between a SQLlite DB and python\n",
    "engine = create_engine(\n",
    "    f\"postgresql+psycopg2://{DBUSER}:{DBPASS}@{DBHOST}:{PORT}/{DBNAME}\", echo=True\n",
    ").connect()\n",
    "\n",
    "# Initialize a sessionmaker\n",
    "Session = sessionmaker(bind=engine)\n",
    "\n",
    "# Instanciate Session\n",
    "session = Session()\n"
   ]
  },
  {
   "cell_type": "markdown",
   "metadata": {},
   "source": [
    "### Store in RDS"
   ]
  },
  {
   "cell_type": "code",
   "execution_count": 43,
   "metadata": {},
   "outputs": [
    {
     "name": "stdout",
     "output_type": "stream",
     "text": [
      "2022-06-26 07:43:08,084 INFO sqlalchemy.engine.Engine select relname from pg_class c join pg_namespace n on n.oid=c.relnamespace where pg_catalog.pg_table_is_visible(c.oid) and relname=%(name)s\n"
     ]
    },
    {
     "name": "stderr",
     "output_type": "stream",
     "text": [
      "2022-06-26 07:43:08 [sqlalchemy.engine.Engine] INFO: select relname from pg_class c join pg_namespace n on n.oid=c.relnamespace where pg_catalog.pg_table_is_visible(c.oid) and relname=%(name)s\n"
     ]
    },
    {
     "name": "stdout",
     "output_type": "stream",
     "text": [
      "2022-06-26 07:43:08,085 INFO sqlalchemy.engine.Engine [generated in 0.00108s] {'name': 'meteo'}\n"
     ]
    },
    {
     "name": "stderr",
     "output_type": "stream",
     "text": [
      "2022-06-26 07:43:08 [sqlalchemy.engine.Engine] INFO: [generated in 0.00108s] {'name': 'meteo'}\n"
     ]
    },
    {
     "name": "stdout",
     "output_type": "stream",
     "text": [
      "2022-06-26 07:43:08,111 INFO sqlalchemy.engine.Engine select relname from pg_class c join pg_namespace n on n.oid=c.relnamespace where pg_catalog.pg_table_is_visible(c.oid) and relname=%(name)s\n"
     ]
    },
    {
     "name": "stderr",
     "output_type": "stream",
     "text": [
      "2022-06-26 07:43:08 [sqlalchemy.engine.Engine] INFO: select relname from pg_class c join pg_namespace n on n.oid=c.relnamespace where pg_catalog.pg_table_is_visible(c.oid) and relname=%(name)s\n"
     ]
    },
    {
     "name": "stdout",
     "output_type": "stream",
     "text": [
      "2022-06-26 07:43:08,112 INFO sqlalchemy.engine.Engine [cached since 0.02824s ago] {'name': 'meteo'}\n"
     ]
    },
    {
     "name": "stderr",
     "output_type": "stream",
     "text": [
      "2022-06-26 07:43:08 [sqlalchemy.engine.Engine] INFO: [cached since 0.02824s ago] {'name': 'meteo'}\n"
     ]
    },
    {
     "name": "stdout",
     "output_type": "stream",
     "text": [
      "2022-06-26 07:43:08,125 INFO sqlalchemy.engine.Engine SELECT c.relname FROM pg_class c JOIN pg_namespace n ON n.oid = c.relnamespace WHERE n.nspname = %(schema)s AND c.relkind in ('r', 'p')\n"
     ]
    },
    {
     "name": "stderr",
     "output_type": "stream",
     "text": [
      "2022-06-26 07:43:08 [sqlalchemy.engine.Engine] INFO: SELECT c.relname FROM pg_class c JOIN pg_namespace n ON n.oid = c.relnamespace WHERE n.nspname = %(schema)s AND c.relkind in ('r', 'p')\n"
     ]
    },
    {
     "name": "stdout",
     "output_type": "stream",
     "text": [
      "2022-06-26 07:43:08,126 INFO sqlalchemy.engine.Engine [generated in 0.00081s] {'schema': 'public'}\n"
     ]
    },
    {
     "name": "stderr",
     "output_type": "stream",
     "text": [
      "2022-06-26 07:43:08 [sqlalchemy.engine.Engine] INFO: [generated in 0.00081s] {'schema': 'public'}\n"
     ]
    },
    {
     "name": "stdout",
     "output_type": "stream",
     "text": [
      "2022-06-26 07:43:08,140 INFO sqlalchemy.engine.Engine \n",
      "            SELECT c.oid\n",
      "            FROM pg_catalog.pg_class c\n",
      "            LEFT JOIN pg_catalog.pg_namespace n ON n.oid = c.relnamespace\n",
      "            WHERE (pg_catalog.pg_table_is_visible(c.oid))\n",
      "            AND c.relname = %(table_name)s AND c.relkind in\n",
      "            ('r', 'v', 'm', 'f', 'p')\n",
      "        \n"
     ]
    },
    {
     "name": "stderr",
     "output_type": "stream",
     "text": [
      "2022-06-26 07:43:08 [sqlalchemy.engine.Engine] INFO: \n",
      "            SELECT c.oid\n",
      "            FROM pg_catalog.pg_class c\n",
      "            LEFT JOIN pg_catalog.pg_namespace n ON n.oid = c.relnamespace\n",
      "            WHERE (pg_catalog.pg_table_is_visible(c.oid))\n",
      "            AND c.relname = %(table_name)s AND c.relkind in\n",
      "            ('r', 'v', 'm', 'f', 'p')\n",
      "        \n"
     ]
    },
    {
     "name": "stdout",
     "output_type": "stream",
     "text": [
      "2022-06-26 07:43:08,141 INFO sqlalchemy.engine.Engine [generated in 0.00074s] {'table_name': 'meteo'}\n"
     ]
    },
    {
     "name": "stderr",
     "output_type": "stream",
     "text": [
      "2022-06-26 07:43:08 [sqlalchemy.engine.Engine] INFO: [generated in 0.00074s] {'table_name': 'meteo'}\n"
     ]
    },
    {
     "name": "stdout",
     "output_type": "stream",
     "text": [
      "2022-06-26 07:43:08,153 INFO sqlalchemy.engine.Engine \n",
      "            SELECT a.attname,\n",
      "              pg_catalog.format_type(a.atttypid, a.atttypmod),\n",
      "              (\n",
      "                SELECT pg_catalog.pg_get_expr(d.adbin, d.adrelid)\n",
      "                FROM pg_catalog.pg_attrdef d\n",
      "                WHERE d.adrelid = a.attrelid AND d.adnum = a.attnum\n",
      "                AND a.atthasdef\n",
      "              ) AS DEFAULT,\n",
      "              a.attnotnull,\n",
      "              a.attrelid as table_oid,\n",
      "              pgd.description as comment,\n",
      "              a.attgenerated as generated,\n",
      "                              (SELECT json_build_object(\n",
      "                    'always', a.attidentity = 'a',\n",
      "                    'start', s.seqstart,\n",
      "                    'increment', s.seqincrement,\n",
      "                    'minvalue', s.seqmin,\n",
      "                    'maxvalue', s.seqmax,\n",
      "                    'cache', s.seqcache,\n",
      "                    'cycle', s.seqcycle)\n",
      "                FROM pg_catalog.pg_sequence s\n",
      "                JOIN pg_catalog.pg_class c on s.seqrelid = c.\"oid\"\n",
      "                WHERE c.relkind = 'S'\n",
      "                AND a.attidentity != ''\n",
      "                AND s.seqrelid = pg_catalog.pg_get_serial_sequence(\n",
      "                    a.attrelid::regclass::text, a.attname\n",
      "                )::regclass::oid\n",
      "                ) as identity_options                \n",
      "            FROM pg_catalog.pg_attribute a\n",
      "            LEFT JOIN pg_catalog.pg_description pgd ON (\n",
      "                pgd.objoid = a.attrelid AND pgd.objsubid = a.attnum)\n",
      "            WHERE a.attrelid = %(table_oid)s\n",
      "            AND a.attnum > 0 AND NOT a.attisdropped\n",
      "            ORDER BY a.attnum\n",
      "        \n"
     ]
    },
    {
     "name": "stderr",
     "output_type": "stream",
     "text": [
      "2022-06-26 07:43:08 [sqlalchemy.engine.Engine] INFO: \n",
      "            SELECT a.attname,\n",
      "              pg_catalog.format_type(a.atttypid, a.atttypmod),\n",
      "              (\n",
      "                SELECT pg_catalog.pg_get_expr(d.adbin, d.adrelid)\n",
      "                FROM pg_catalog.pg_attrdef d\n",
      "                WHERE d.adrelid = a.attrelid AND d.adnum = a.attnum\n",
      "                AND a.atthasdef\n",
      "              ) AS DEFAULT,\n",
      "              a.attnotnull,\n",
      "              a.attrelid as table_oid,\n",
      "              pgd.description as comment,\n",
      "              a.attgenerated as generated,\n",
      "                              (SELECT json_build_object(\n",
      "                    'always', a.attidentity = 'a',\n",
      "                    'start', s.seqstart,\n",
      "                    'increment', s.seqincrement,\n",
      "                    'minvalue', s.seqmin,\n",
      "                    'maxvalue', s.seqmax,\n",
      "                    'cache', s.seqcache,\n",
      "                    'cycle', s.seqcycle)\n",
      "                FROM pg_catalog.pg_sequence s\n",
      "                JOIN pg_catalog.pg_class c on s.seqrelid = c.\"oid\"\n",
      "                WHERE c.relkind = 'S'\n",
      "                AND a.attidentity != ''\n",
      "                AND s.seqrelid = pg_catalog.pg_get_serial_sequence(\n",
      "                    a.attrelid::regclass::text, a.attname\n",
      "                )::regclass::oid\n",
      "                ) as identity_options                \n",
      "            FROM pg_catalog.pg_attribute a\n",
      "            LEFT JOIN pg_catalog.pg_description pgd ON (\n",
      "                pgd.objoid = a.attrelid AND pgd.objsubid = a.attnum)\n",
      "            WHERE a.attrelid = %(table_oid)s\n",
      "            AND a.attnum > 0 AND NOT a.attisdropped\n",
      "            ORDER BY a.attnum\n",
      "        \n"
     ]
    },
    {
     "name": "stdout",
     "output_type": "stream",
     "text": [
      "2022-06-26 07:43:08,154 INFO sqlalchemy.engine.Engine [generated in 0.00093s] {'table_oid': 16814}\n"
     ]
    },
    {
     "name": "stderr",
     "output_type": "stream",
     "text": [
      "2022-06-26 07:43:08 [sqlalchemy.engine.Engine] INFO: [generated in 0.00093s] {'table_oid': 16814}\n"
     ]
    },
    {
     "name": "stdout",
     "output_type": "stream",
     "text": [
      "2022-06-26 07:43:08,169 INFO sqlalchemy.engine.Engine \n",
      "            SELECT t.typname as \"name\",\n",
      "               pg_catalog.format_type(t.typbasetype, t.typtypmod) as \"attype\",\n",
      "               not t.typnotnull as \"nullable\",\n",
      "               t.typdefault as \"default\",\n",
      "               pg_catalog.pg_type_is_visible(t.oid) as \"visible\",\n",
      "               n.nspname as \"schema\"\n",
      "            FROM pg_catalog.pg_type t\n",
      "               LEFT JOIN pg_catalog.pg_namespace n ON n.oid = t.typnamespace\n",
      "            WHERE t.typtype = 'd'\n",
      "        \n"
     ]
    },
    {
     "name": "stderr",
     "output_type": "stream",
     "text": [
      "2022-06-26 07:43:08 [sqlalchemy.engine.Engine] INFO: \n",
      "            SELECT t.typname as \"name\",\n",
      "               pg_catalog.format_type(t.typbasetype, t.typtypmod) as \"attype\",\n",
      "               not t.typnotnull as \"nullable\",\n",
      "               t.typdefault as \"default\",\n",
      "               pg_catalog.pg_type_is_visible(t.oid) as \"visible\",\n",
      "               n.nspname as \"schema\"\n",
      "            FROM pg_catalog.pg_type t\n",
      "               LEFT JOIN pg_catalog.pg_namespace n ON n.oid = t.typnamespace\n",
      "            WHERE t.typtype = 'd'\n",
      "        \n"
     ]
    },
    {
     "name": "stdout",
     "output_type": "stream",
     "text": [
      "2022-06-26 07:43:08,170 INFO sqlalchemy.engine.Engine [generated in 0.00081s] {}\n"
     ]
    },
    {
     "name": "stderr",
     "output_type": "stream",
     "text": [
      "2022-06-26 07:43:08 [sqlalchemy.engine.Engine] INFO: [generated in 0.00081s] {}\n"
     ]
    },
    {
     "name": "stdout",
     "output_type": "stream",
     "text": [
      "2022-06-26 07:43:08,183 INFO sqlalchemy.engine.Engine \n",
      "            SELECT t.typname as \"name\",\n",
      "               -- no enum defaults in 8.4 at least\n",
      "               -- t.typdefault as \"default\",\n",
      "               pg_catalog.pg_type_is_visible(t.oid) as \"visible\",\n",
      "               n.nspname as \"schema\",\n",
      "               e.enumlabel as \"label\"\n",
      "            FROM pg_catalog.pg_type t\n",
      "                 LEFT JOIN pg_catalog.pg_namespace n ON n.oid = t.typnamespace\n",
      "                 LEFT JOIN pg_catalog.pg_enum e ON t.oid = e.enumtypid\n",
      "            WHERE t.typtype = 'e'\n",
      "        ORDER BY \"schema\", \"name\", e.oid\n"
     ]
    },
    {
     "name": "stderr",
     "output_type": "stream",
     "text": [
      "2022-06-26 07:43:08 [sqlalchemy.engine.Engine] INFO: \n",
      "            SELECT t.typname as \"name\",\n",
      "               -- no enum defaults in 8.4 at least\n",
      "               -- t.typdefault as \"default\",\n",
      "               pg_catalog.pg_type_is_visible(t.oid) as \"visible\",\n",
      "               n.nspname as \"schema\",\n",
      "               e.enumlabel as \"label\"\n",
      "            FROM pg_catalog.pg_type t\n",
      "                 LEFT JOIN pg_catalog.pg_namespace n ON n.oid = t.typnamespace\n",
      "                 LEFT JOIN pg_catalog.pg_enum e ON t.oid = e.enumtypid\n",
      "            WHERE t.typtype = 'e'\n",
      "        ORDER BY \"schema\", \"name\", e.oid\n"
     ]
    },
    {
     "name": "stdout",
     "output_type": "stream",
     "text": [
      "2022-06-26 07:43:08,184 INFO sqlalchemy.engine.Engine [generated in 0.00081s] {}\n"
     ]
    },
    {
     "name": "stderr",
     "output_type": "stream",
     "text": [
      "2022-06-26 07:43:08 [sqlalchemy.engine.Engine] INFO: [generated in 0.00081s] {}\n"
     ]
    },
    {
     "name": "stdout",
     "output_type": "stream",
     "text": [
      "2022-06-26 07:43:08,200 INFO sqlalchemy.engine.Engine \n",
      "                SELECT a.attname\n",
      "                FROM pg_attribute a JOIN (\n",
      "                    SELECT unnest(ix.indkey) attnum,\n",
      "                           generate_subscripts(ix.indkey, 1) ord\n",
      "                    FROM pg_index ix\n",
      "                    WHERE ix.indrelid = %(table_oid)s AND ix.indisprimary\n",
      "                    ) k ON a.attnum=k.attnum\n",
      "                WHERE a.attrelid = %(table_oid)s\n",
      "                ORDER BY k.ord\n",
      "            \n"
     ]
    },
    {
     "name": "stderr",
     "output_type": "stream",
     "text": [
      "2022-06-26 07:43:08 [sqlalchemy.engine.Engine] INFO: \n",
      "                SELECT a.attname\n",
      "                FROM pg_attribute a JOIN (\n",
      "                    SELECT unnest(ix.indkey) attnum,\n",
      "                           generate_subscripts(ix.indkey, 1) ord\n",
      "                    FROM pg_index ix\n",
      "                    WHERE ix.indrelid = %(table_oid)s AND ix.indisprimary\n",
      "                    ) k ON a.attnum=k.attnum\n",
      "                WHERE a.attrelid = %(table_oid)s\n",
      "                ORDER BY k.ord\n",
      "            \n"
     ]
    },
    {
     "name": "stdout",
     "output_type": "stream",
     "text": [
      "2022-06-26 07:43:08,200 INFO sqlalchemy.engine.Engine [generated in 0.00087s] {'table_oid': 16814}\n"
     ]
    },
    {
     "name": "stderr",
     "output_type": "stream",
     "text": [
      "2022-06-26 07:43:08 [sqlalchemy.engine.Engine] INFO: [generated in 0.00087s] {'table_oid': 16814}\n"
     ]
    },
    {
     "name": "stdout",
     "output_type": "stream",
     "text": [
      "2022-06-26 07:43:08,216 INFO sqlalchemy.engine.Engine \n",
      "        SELECT conname\n",
      "           FROM  pg_catalog.pg_constraint r\n",
      "           WHERE r.conrelid = %(table_oid)s AND r.contype = 'p'\n",
      "           ORDER BY 1\n",
      "        \n"
     ]
    },
    {
     "name": "stderr",
     "output_type": "stream",
     "text": [
      "2022-06-26 07:43:08 [sqlalchemy.engine.Engine] INFO: \n",
      "        SELECT conname\n",
      "           FROM  pg_catalog.pg_constraint r\n",
      "           WHERE r.conrelid = %(table_oid)s AND r.contype = 'p'\n",
      "           ORDER BY 1\n",
      "        \n"
     ]
    },
    {
     "name": "stdout",
     "output_type": "stream",
     "text": [
      "2022-06-26 07:43:08,216 INFO sqlalchemy.engine.Engine [generated in 0.00080s] {'table_oid': 16814}\n"
     ]
    },
    {
     "name": "stderr",
     "output_type": "stream",
     "text": [
      "2022-06-26 07:43:08 [sqlalchemy.engine.Engine] INFO: [generated in 0.00080s] {'table_oid': 16814}\n"
     ]
    },
    {
     "name": "stdout",
     "output_type": "stream",
     "text": [
      "2022-06-26 07:43:08,229 INFO sqlalchemy.engine.Engine \n",
      "          SELECT r.conname,\n",
      "                pg_catalog.pg_get_constraintdef(r.oid, true) as condef,\n",
      "                n.nspname as conschema\n",
      "          FROM  pg_catalog.pg_constraint r,\n",
      "                pg_namespace n,\n",
      "                pg_class c\n",
      "\n",
      "          WHERE r.conrelid = %(table)s AND\n",
      "                r.contype = 'f' AND\n",
      "                c.oid = confrelid AND\n",
      "                n.oid = c.relnamespace\n",
      "          ORDER BY 1\n",
      "        \n"
     ]
    },
    {
     "name": "stderr",
     "output_type": "stream",
     "text": [
      "2022-06-26 07:43:08 [sqlalchemy.engine.Engine] INFO: \n",
      "          SELECT r.conname,\n",
      "                pg_catalog.pg_get_constraintdef(r.oid, true) as condef,\n",
      "                n.nspname as conschema\n",
      "          FROM  pg_catalog.pg_constraint r,\n",
      "                pg_namespace n,\n",
      "                pg_class c\n",
      "\n",
      "          WHERE r.conrelid = %(table)s AND\n",
      "                r.contype = 'f' AND\n",
      "                c.oid = confrelid AND\n",
      "                n.oid = c.relnamespace\n",
      "          ORDER BY 1\n",
      "        \n"
     ]
    },
    {
     "name": "stdout",
     "output_type": "stream",
     "text": [
      "2022-06-26 07:43:08,229 INFO sqlalchemy.engine.Engine [generated in 0.00078s] {'table': 16814}\n"
     ]
    },
    {
     "name": "stderr",
     "output_type": "stream",
     "text": [
      "2022-06-26 07:43:08 [sqlalchemy.engine.Engine] INFO: [generated in 0.00078s] {'table': 16814}\n"
     ]
    },
    {
     "name": "stdout",
     "output_type": "stream",
     "text": [
      "2022-06-26 07:43:08,242 INFO sqlalchemy.engine.Engine \n",
      "              SELECT\n",
      "                  i.relname as relname,\n",
      "                  ix.indisunique, ix.indexprs,\n",
      "                  a.attname, a.attnum, c.conrelid, ix.indkey::varchar,\n",
      "                  ix.indoption::varchar, i.reloptions, am.amname,\n",
      "                  pg_get_expr(ix.indpred, ix.indrelid),\n",
      "                  ix.indnkeyatts as indnkeyatts\n",
      "              FROM\n",
      "                  pg_class t\n",
      "                        join pg_index ix on t.oid = ix.indrelid\n",
      "                        join pg_class i on i.oid = ix.indexrelid\n",
      "                        left outer join\n",
      "                            pg_attribute a\n",
      "                            on t.oid = a.attrelid and a.attnum = ANY(ix.indkey)\n",
      "                        left outer join\n",
      "                            pg_constraint c\n",
      "                            on (ix.indrelid = c.conrelid and\n",
      "                                ix.indexrelid = c.conindid and\n",
      "                                c.contype in ('p', 'u', 'x'))\n",
      "                        left outer join\n",
      "                            pg_am am\n",
      "                            on i.relam = am.oid\n",
      "              WHERE\n",
      "                  t.relkind IN ('r', 'v', 'f', 'm', 'p')\n",
      "                  and t.oid = %(table_oid)s\n",
      "                  and ix.indisprimary = 'f'\n",
      "              ORDER BY\n",
      "                  t.relname,\n",
      "                  i.relname\n",
      "            \n"
     ]
    },
    {
     "name": "stderr",
     "output_type": "stream",
     "text": [
      "2022-06-26 07:43:08 [sqlalchemy.engine.Engine] INFO: \n",
      "              SELECT\n",
      "                  i.relname as relname,\n",
      "                  ix.indisunique, ix.indexprs,\n",
      "                  a.attname, a.attnum, c.conrelid, ix.indkey::varchar,\n",
      "                  ix.indoption::varchar, i.reloptions, am.amname,\n",
      "                  pg_get_expr(ix.indpred, ix.indrelid),\n",
      "                  ix.indnkeyatts as indnkeyatts\n",
      "              FROM\n",
      "                  pg_class t\n",
      "                        join pg_index ix on t.oid = ix.indrelid\n",
      "                        join pg_class i on i.oid = ix.indexrelid\n",
      "                        left outer join\n",
      "                            pg_attribute a\n",
      "                            on t.oid = a.attrelid and a.attnum = ANY(ix.indkey)\n",
      "                        left outer join\n",
      "                            pg_constraint c\n",
      "                            on (ix.indrelid = c.conrelid and\n",
      "                                ix.indexrelid = c.conindid and\n",
      "                                c.contype in ('p', 'u', 'x'))\n",
      "                        left outer join\n",
      "                            pg_am am\n",
      "                            on i.relam = am.oid\n",
      "              WHERE\n",
      "                  t.relkind IN ('r', 'v', 'f', 'm', 'p')\n",
      "                  and t.oid = %(table_oid)s\n",
      "                  and ix.indisprimary = 'f'\n",
      "              ORDER BY\n",
      "                  t.relname,\n",
      "                  i.relname\n",
      "            \n"
     ]
    },
    {
     "name": "stdout",
     "output_type": "stream",
     "text": [
      "2022-06-26 07:43:08,243 INFO sqlalchemy.engine.Engine [generated in 0.00075s] {'table_oid': 16814}\n"
     ]
    },
    {
     "name": "stderr",
     "output_type": "stream",
     "text": [
      "2022-06-26 07:43:08 [sqlalchemy.engine.Engine] INFO: [generated in 0.00075s] {'table_oid': 16814}\n"
     ]
    },
    {
     "name": "stdout",
     "output_type": "stream",
     "text": [
      "2022-06-26 07:43:08,258 INFO sqlalchemy.engine.Engine \n",
      "            SELECT\n",
      "                cons.conname as name,\n",
      "                cons.conkey as key,\n",
      "                a.attnum as col_num,\n",
      "                a.attname as col_name\n",
      "            FROM\n",
      "                pg_catalog.pg_constraint cons\n",
      "                join pg_attribute a\n",
      "                  on cons.conrelid = a.attrelid AND\n",
      "                    a.attnum = ANY(cons.conkey)\n",
      "            WHERE\n",
      "                cons.conrelid = %(table_oid)s AND\n",
      "                cons.contype = 'u'\n",
      "        \n"
     ]
    },
    {
     "name": "stderr",
     "output_type": "stream",
     "text": [
      "2022-06-26 07:43:08 [sqlalchemy.engine.Engine] INFO: \n",
      "            SELECT\n",
      "                cons.conname as name,\n",
      "                cons.conkey as key,\n",
      "                a.attnum as col_num,\n",
      "                a.attname as col_name\n",
      "            FROM\n",
      "                pg_catalog.pg_constraint cons\n",
      "                join pg_attribute a\n",
      "                  on cons.conrelid = a.attrelid AND\n",
      "                    a.attnum = ANY(cons.conkey)\n",
      "            WHERE\n",
      "                cons.conrelid = %(table_oid)s AND\n",
      "                cons.contype = 'u'\n",
      "        \n"
     ]
    },
    {
     "name": "stdout",
     "output_type": "stream",
     "text": [
      "2022-06-26 07:43:08,261 INFO sqlalchemy.engine.Engine [generated in 0.00308s] {'table_oid': 16814}\n"
     ]
    },
    {
     "name": "stderr",
     "output_type": "stream",
     "text": [
      "2022-06-26 07:43:08 [sqlalchemy.engine.Engine] INFO: [generated in 0.00308s] {'table_oid': 16814}\n"
     ]
    },
    {
     "name": "stdout",
     "output_type": "stream",
     "text": [
      "2022-06-26 07:43:08,281 INFO sqlalchemy.engine.Engine \n",
      "            SELECT\n",
      "                cons.conname as name,\n",
      "                pg_get_constraintdef(cons.oid) as src\n",
      "            FROM\n",
      "                pg_catalog.pg_constraint cons\n",
      "            WHERE\n",
      "                cons.conrelid = %(table_oid)s AND\n",
      "                cons.contype = 'c'\n",
      "        \n"
     ]
    },
    {
     "name": "stderr",
     "output_type": "stream",
     "text": [
      "2022-06-26 07:43:08 [sqlalchemy.engine.Engine] INFO: \n",
      "            SELECT\n",
      "                cons.conname as name,\n",
      "                pg_get_constraintdef(cons.oid) as src\n",
      "            FROM\n",
      "                pg_catalog.pg_constraint cons\n",
      "            WHERE\n",
      "                cons.conrelid = %(table_oid)s AND\n",
      "                cons.contype = 'c'\n",
      "        \n"
     ]
    },
    {
     "name": "stdout",
     "output_type": "stream",
     "text": [
      "2022-06-26 07:43:08,283 INFO sqlalchemy.engine.Engine [generated in 0.00180s] {'table_oid': 16814}\n"
     ]
    },
    {
     "name": "stderr",
     "output_type": "stream",
     "text": [
      "2022-06-26 07:43:08 [sqlalchemy.engine.Engine] INFO: [generated in 0.00180s] {'table_oid': 16814}\n"
     ]
    },
    {
     "name": "stdout",
     "output_type": "stream",
     "text": [
      "2022-06-26 07:43:08,300 INFO sqlalchemy.engine.Engine \n",
      "            SELECT\n",
      "                pgd.description as table_comment\n",
      "            FROM\n",
      "                pg_catalog.pg_description pgd\n",
      "            WHERE\n",
      "                pgd.objsubid = 0 AND\n",
      "                pgd.objoid = %(table_oid)s\n",
      "        \n"
     ]
    },
    {
     "name": "stderr",
     "output_type": "stream",
     "text": [
      "2022-06-26 07:43:08 [sqlalchemy.engine.Engine] INFO: \n",
      "            SELECT\n",
      "                pgd.description as table_comment\n",
      "            FROM\n",
      "                pg_catalog.pg_description pgd\n",
      "            WHERE\n",
      "                pgd.objsubid = 0 AND\n",
      "                pgd.objoid = %(table_oid)s\n",
      "        \n"
     ]
    },
    {
     "name": "stdout",
     "output_type": "stream",
     "text": [
      "2022-06-26 07:43:08,302 INFO sqlalchemy.engine.Engine [generated in 0.00258s] {'table_oid': 16814}\n"
     ]
    },
    {
     "name": "stderr",
     "output_type": "stream",
     "text": [
      "2022-06-26 07:43:08 [sqlalchemy.engine.Engine] INFO: [generated in 0.00258s] {'table_oid': 16814}\n"
     ]
    },
    {
     "name": "stdout",
     "output_type": "stream",
     "text": [
      "2022-06-26 07:43:08,318 INFO sqlalchemy.engine.Engine \n",
      "DROP TABLE meteo\n"
     ]
    },
    {
     "name": "stderr",
     "output_type": "stream",
     "text": [
      "2022-06-26 07:43:08 [sqlalchemy.engine.Engine] INFO: \n",
      "DROP TABLE meteo\n"
     ]
    },
    {
     "name": "stdout",
     "output_type": "stream",
     "text": [
      "2022-06-26 07:43:08,318 INFO sqlalchemy.engine.Engine [no key 0.00072s] {}\n"
     ]
    },
    {
     "name": "stderr",
     "output_type": "stream",
     "text": [
      "2022-06-26 07:43:08 [sqlalchemy.engine.Engine] INFO: [no key 0.00072s] {}\n"
     ]
    },
    {
     "name": "stdout",
     "output_type": "stream",
     "text": [
      "2022-06-26 07:43:08,331 INFO sqlalchemy.engine.Engine COMMIT\n"
     ]
    },
    {
     "name": "stderr",
     "output_type": "stream",
     "text": [
      "2022-06-26 07:43:08 [sqlalchemy.engine.Engine] INFO: COMMIT\n"
     ]
    },
    {
     "name": "stdout",
     "output_type": "stream",
     "text": [
      "2022-06-26 07:43:08,346 INFO sqlalchemy.engine.Engine \n",
      "CREATE TABLE meteo (\n",
      "\tville TEXT, \n",
      "\tlat FLOAT(53), \n",
      "\tlon FLOAT(53), \n",
      "\tscore BIGINT, \n",
      "\t\"jour_+x\" TEXT, \n",
      "\ttemperature_ressentie TEXT, \n",
      "\tprobabilite_de_pluie TEXT, \n",
      "\tmeteo_principale TEXT, \n",
      "\t\"Temp_moyenne_7jours\" FLOAT(53), \n",
      "\t\"Proba_pluie_7jours\" FLOAT(53), \n",
      "\tscale_temp FLOAT(53), \n",
      "\tscale_pluie FLOAT(53)\n",
      ")\n",
      "\n",
      "\n"
     ]
    },
    {
     "name": "stderr",
     "output_type": "stream",
     "text": [
      "2022-06-26 07:43:08 [sqlalchemy.engine.Engine] INFO: \n",
      "CREATE TABLE meteo (\n",
      "\tville TEXT, \n",
      "\tlat FLOAT(53), \n",
      "\tlon FLOAT(53), \n",
      "\tscore BIGINT, \n",
      "\t\"jour_+x\" TEXT, \n",
      "\ttemperature_ressentie TEXT, \n",
      "\tprobabilite_de_pluie TEXT, \n",
      "\tmeteo_principale TEXT, \n",
      "\t\"Temp_moyenne_7jours\" FLOAT(53), \n",
      "\t\"Proba_pluie_7jours\" FLOAT(53), \n",
      "\tscale_temp FLOAT(53), \n",
      "\tscale_pluie FLOAT(53)\n",
      ")\n",
      "\n",
      "\n"
     ]
    },
    {
     "name": "stdout",
     "output_type": "stream",
     "text": [
      "2022-06-26 07:43:08,346 INFO sqlalchemy.engine.Engine [no key 0.00086s] {}\n"
     ]
    },
    {
     "name": "stderr",
     "output_type": "stream",
     "text": [
      "2022-06-26 07:43:08 [sqlalchemy.engine.Engine] INFO: [no key 0.00086s] {}\n"
     ]
    },
    {
     "name": "stdout",
     "output_type": "stream",
     "text": [
      "2022-06-26 07:43:08,378 INFO sqlalchemy.engine.Engine COMMIT\n"
     ]
    },
    {
     "name": "stderr",
     "output_type": "stream",
     "text": [
      "2022-06-26 07:43:08 [sqlalchemy.engine.Engine] INFO: COMMIT\n"
     ]
    },
    {
     "name": "stdout",
     "output_type": "stream",
     "text": [
      "2022-06-26 07:43:08,393 INFO sqlalchemy.engine.Engine INSERT INTO meteo (ville, lat, lon, score, \"jour_+x\", temperature_ressentie, probabilite_de_pluie, meteo_principale, \"Temp_moyenne_7jours\", \"Proba_pluie_7jours\", scale_temp, scale_pluie) VALUES (%(ville)s, %(lat)s, %(lon)s, %(score)s, %(jour_+x)s, %(temperature_ressentie)s, %(probabilite_de_pluie)s, %(meteo_principale)s, %(Temp_moyenne_7jours)s, %(Proba_pluie_7jours)s, %(scale_temp)s, %(scale_pluie)s)\n"
     ]
    },
    {
     "name": "stderr",
     "output_type": "stream",
     "text": [
      "2022-06-26 07:43:08 [sqlalchemy.engine.Engine] INFO: INSERT INTO meteo (ville, lat, lon, score, \"jour_+x\", temperature_ressentie, probabilite_de_pluie, meteo_principale, \"Temp_moyenne_7jours\", \"Proba_pluie_7jours\", scale_temp, scale_pluie) VALUES (%(ville)s, %(lat)s, %(lon)s, %(score)s, %(jour_+x)s, %(temperature_ressentie)s, %(probabilite_de_pluie)s, %(meteo_principale)s, %(Temp_moyenne_7jours)s, %(Proba_pluie_7jours)s, %(scale_temp)s, %(scale_pluie)s)\n"
     ]
    },
    {
     "name": "stdout",
     "output_type": "stream",
     "text": [
      "2022-06-26 07:43:08,394 INFO sqlalchemy.engine.Engine [generated in 0.00110s] ({'ville': 'Mont Saint Michel', 'lat': 48.6359541, 'lon': -1.511459954959514, 'score': 16, 'jour_+x': [1, 2, 3, 4, 5, 6, 7], 'temperature_ressentie': [17, 20, 20, 17, 19, 21, 19], 'probabilite_de_pluie': [52, 0, 15, 62, 37, 0, 0], 'meteo_principale': ['Rain', 'Clouds', 'Clouds', 'Rain', 'Rain', 'Clouds', 'Clear'], 'Temp_moyenne_7jours': 19.0, 'Proba_pluie_7jours': 23.7143, 'scale_temp': 3.7528058957237125, 'scale_pluie': 4.9797567230445825}, {'ville': 'St Malo', 'lat': 48.649518, 'lon': -2.0260409, 'score': 15, 'jour_+x': [1, 2, 3, 4, 5, 6, 7], 'temperature_ressentie': [15, 19, 18, 16, 16, 20, 17], 'probabilite_de_pluie': [47, 0, 9, 53, 48, 0, 0], 'meteo_principale': ['Rain', 'Clouds', 'Clouds', 'Rain', 'Rain', 'Clouds', 'Clouds'], 'Temp_moyenne_7jours': 17.2857, 'Proba_pluie_7jours': 22.4286, 'scale_temp': 1.3932383222041302, 'scale_pluie': 4.489108580550056}, {'ville': 'Bayeux', 'lat': 49.2764624, 'lon': -0.7024738, 'score': 15, 'jour_+x': [1, 2, 3, 4, 5, 6, 7], 'temperature_ressentie': [17, 20, 21, 14, 19, 22, 20], 'probabilite_de_pluie': [65, 0, 38, 71, 46, 0, 0], 'meteo_principale': ['Rain', 'Clouds', 'Clouds', 'Rain', 'Rain', 'Clouds', 'Clouds'], 'Temp_moyenne_7jours': 19.0, 'Proba_pluie_7jours': 31.4286, 'scale_temp': 3.7528058957237125, 'scale_pluie': 7.923683739957956}, {'ville': 'Le Havre', 'lat': 49.4938975, 'lon': 0.1079732, 'score': 13, 'jour_+x': [1, 2, 3, 4, 5, 6, 7], 'temperature_ressentie': [17, 18, 19, 14, 17, 18, 16], 'probabilite_de_pluie': [32, 0, 60, 98, 50, 0, 0], 'meteo_principale': ['Clear', 'Clouds', 'Rain', 'Rain', 'Rain', 'Clouds', 'Clear'], 'Temp_moyenne_7jours': 17.0, 'Proba_pluie_7jours': 34.2857, 'scale_temp': 1.0, 'scale_pluie': 9.014008705285104}, {'ville': 'Rouen', 'lat': 49.4404591, 'lon': 1.0939658, 'score': 16, 'jour_+x': [1, 2, 3, 4, 5, 6, 7], 'temperature_ressentie': [19, 22, 22, 16, 18, 21, 21], 'probabilite_de_pluie': [24, 0, 18, 100, 70, 0, 0], 'meteo_principale': ['Clear', 'Clouds', 'Clouds', 'Rain', 'Rain', 'Clouds', 'Clear'], 'Temp_moyenne_7jours': 19.8571, 'Proba_pluie_7jours': 30.2857, 'scale_temp': 4.9325208623361085, 'scale_pluie': 7.487530856659369}, {'ville': 'Paris', 'lat': 48.8588897, 'lon': 2.3200410217200766, 'score': 20, 'jour_+x': [1, 2, 3, 4, 5, 6, 7], 'temperature_ressentie': [21, 23, 24, 22, 20, 23, 24], 'probabilite_de_pluie': [2, 0, 0, 81, 61, 0, 0], 'meteo_principale': ['Clouds', 'Clouds', 'Clouds', 'Rain', 'Rain', 'Clouds', 'Clear'], 'Temp_moyenne_7jours': 22.4286, 'Proba_pluie_7jours': 20.5714, 'scale_temp': 8.471941042762872, 'scale_pluie': 3.7803649154331276}, {'ville': 'Amiens', 'lat': 49.8941708, 'lon': 2.2956951, 'score': 16, 'jour_+x': [1, 2, 3, 4, 5, 6, 7], 'temperature_ressentie': [20, 22, 23, 15, 18, 21, 21], 'probabilite_de_pluie': [37, 0, 0, 96, 86, 0, 0], 'meteo_principale': ['Clouds', 'Clear', 'Clouds', 'Rain', 'Rain', 'Clouds', 'Clear'], 'Temp_moyenne_7jours': 20.0, 'Proba_pluie_7jours': 31.2857, 'scale_temp': 5.129208843585569, 'scale_pluie': 7.8691503188158025}, {'ville': 'Lille', 'lat': 50.6365654, 'lon': 3.0635282, 'score': 18, 'jour_+x': [1, 2, 3, 4, 5, 6, 7], 'temperature_ressentie': [20, 22, 24, 19, 20, 21, 22], 'probabilite_de_pluie': [57, 0, 0, 61, 94, 0, 0], 'meteo_principale': ['Rain', 'Clear', 'Clouds', 'Rain', 'Rain', 'Clouds', 'Clouds'], 'Temp_moyenne_7jours': 21.1429, 'Proba_pluie_7jours': 30.2857, 'scale_temp': 6.702299772696886, 'scale_pluie': 7.487530856659369}  ... displaying 10 of 35 total bound parameter sets ...  {'ville': 'Bayonne', 'lat': 43.4933379, 'lon': -1.475099, 'score': 14, 'jour_+x': [1, 2, 3, 4, 5, 6, 7], 'temperature_ressentie': [16, 22, 20, 16, 18, 25, 23], 'probabilite_de_pluie': [36, 0, 100, 100, 28, 0, 100], 'meteo_principale': ['Rain', 'Clear', 'Rain', 'Rain', 'Rain', 'Clouds', 'Rain'], 'Temp_moyenne_7jours': 20.0, 'Proba_pluie_7jours': 52.0, 'scale_temp': 5.129208843585569, 'scale_pluie': 15.774130343762813}, {'ville': 'La Rochelle', 'lat': 46.1591126, 'lon': -1.1520434, 'score': 15, 'jour_+x': [1, 2, 3, 4, 5, 6, 7], 'temperature_ressentie': [17, 18, 19, 14, 17, 18, 21], 'probabilite_de_pluie': [0, 0, 2, 98, 35, 0, 1], 'meteo_principale': ['Clear', 'Clear', 'Clouds', 'Rain', 'Rain', 'Clear', 'Clouds'], 'Temp_moyenne_7jours': 17.7143, 'Proba_pluie_7jours': 19.4286, 'scale_temp': 1.983164625657726, 'scale_pluie': 3.3442501940807547})\n"
     ]
    },
    {
     "name": "stderr",
     "output_type": "stream",
     "text": [
      "2022-06-26 07:43:08 [sqlalchemy.engine.Engine] INFO: [generated in 0.00110s] ({'ville': 'Mont Saint Michel', 'lat': 48.6359541, 'lon': -1.511459954959514, 'score': 16, 'jour_+x': [1, 2, 3, 4, 5, 6, 7], 'temperature_ressentie': [17, 20, 20, 17, 19, 21, 19], 'probabilite_de_pluie': [52, 0, 15, 62, 37, 0, 0], 'meteo_principale': ['Rain', 'Clouds', 'Clouds', 'Rain', 'Rain', 'Clouds', 'Clear'], 'Temp_moyenne_7jours': 19.0, 'Proba_pluie_7jours': 23.7143, 'scale_temp': 3.7528058957237125, 'scale_pluie': 4.9797567230445825}, {'ville': 'St Malo', 'lat': 48.649518, 'lon': -2.0260409, 'score': 15, 'jour_+x': [1, 2, 3, 4, 5, 6, 7], 'temperature_ressentie': [15, 19, 18, 16, 16, 20, 17], 'probabilite_de_pluie': [47, 0, 9, 53, 48, 0, 0], 'meteo_principale': ['Rain', 'Clouds', 'Clouds', 'Rain', 'Rain', 'Clouds', 'Clouds'], 'Temp_moyenne_7jours': 17.2857, 'Proba_pluie_7jours': 22.4286, 'scale_temp': 1.3932383222041302, 'scale_pluie': 4.489108580550056}, {'ville': 'Bayeux', 'lat': 49.2764624, 'lon': -0.7024738, 'score': 15, 'jour_+x': [1, 2, 3, 4, 5, 6, 7], 'temperature_ressentie': [17, 20, 21, 14, 19, 22, 20], 'probabilite_de_pluie': [65, 0, 38, 71, 46, 0, 0], 'meteo_principale': ['Rain', 'Clouds', 'Clouds', 'Rain', 'Rain', 'Clouds', 'Clouds'], 'Temp_moyenne_7jours': 19.0, 'Proba_pluie_7jours': 31.4286, 'scale_temp': 3.7528058957237125, 'scale_pluie': 7.923683739957956}, {'ville': 'Le Havre', 'lat': 49.4938975, 'lon': 0.1079732, 'score': 13, 'jour_+x': [1, 2, 3, 4, 5, 6, 7], 'temperature_ressentie': [17, 18, 19, 14, 17, 18, 16], 'probabilite_de_pluie': [32, 0, 60, 98, 50, 0, 0], 'meteo_principale': ['Clear', 'Clouds', 'Rain', 'Rain', 'Rain', 'Clouds', 'Clear'], 'Temp_moyenne_7jours': 17.0, 'Proba_pluie_7jours': 34.2857, 'scale_temp': 1.0, 'scale_pluie': 9.014008705285104}, {'ville': 'Rouen', 'lat': 49.4404591, 'lon': 1.0939658, 'score': 16, 'jour_+x': [1, 2, 3, 4, 5, 6, 7], 'temperature_ressentie': [19, 22, 22, 16, 18, 21, 21], 'probabilite_de_pluie': [24, 0, 18, 100, 70, 0, 0], 'meteo_principale': ['Clear', 'Clouds', 'Clouds', 'Rain', 'Rain', 'Clouds', 'Clear'], 'Temp_moyenne_7jours': 19.8571, 'Proba_pluie_7jours': 30.2857, 'scale_temp': 4.9325208623361085, 'scale_pluie': 7.487530856659369}, {'ville': 'Paris', 'lat': 48.8588897, 'lon': 2.3200410217200766, 'score': 20, 'jour_+x': [1, 2, 3, 4, 5, 6, 7], 'temperature_ressentie': [21, 23, 24, 22, 20, 23, 24], 'probabilite_de_pluie': [2, 0, 0, 81, 61, 0, 0], 'meteo_principale': ['Clouds', 'Clouds', 'Clouds', 'Rain', 'Rain', 'Clouds', 'Clear'], 'Temp_moyenne_7jours': 22.4286, 'Proba_pluie_7jours': 20.5714, 'scale_temp': 8.471941042762872, 'scale_pluie': 3.7803649154331276}, {'ville': 'Amiens', 'lat': 49.8941708, 'lon': 2.2956951, 'score': 16, 'jour_+x': [1, 2, 3, 4, 5, 6, 7], 'temperature_ressentie': [20, 22, 23, 15, 18, 21, 21], 'probabilite_de_pluie': [37, 0, 0, 96, 86, 0, 0], 'meteo_principale': ['Clouds', 'Clear', 'Clouds', 'Rain', 'Rain', 'Clouds', 'Clear'], 'Temp_moyenne_7jours': 20.0, 'Proba_pluie_7jours': 31.2857, 'scale_temp': 5.129208843585569, 'scale_pluie': 7.8691503188158025}, {'ville': 'Lille', 'lat': 50.6365654, 'lon': 3.0635282, 'score': 18, 'jour_+x': [1, 2, 3, 4, 5, 6, 7], 'temperature_ressentie': [20, 22, 24, 19, 20, 21, 22], 'probabilite_de_pluie': [57, 0, 0, 61, 94, 0, 0], 'meteo_principale': ['Rain', 'Clear', 'Clouds', 'Rain', 'Rain', 'Clouds', 'Clouds'], 'Temp_moyenne_7jours': 21.1429, 'Proba_pluie_7jours': 30.2857, 'scale_temp': 6.702299772696886, 'scale_pluie': 7.487530856659369}  ... displaying 10 of 35 total bound parameter sets ...  {'ville': 'Bayonne', 'lat': 43.4933379, 'lon': -1.475099, 'score': 14, 'jour_+x': [1, 2, 3, 4, 5, 6, 7], 'temperature_ressentie': [16, 22, 20, 16, 18, 25, 23], 'probabilite_de_pluie': [36, 0, 100, 100, 28, 0, 100], 'meteo_principale': ['Rain', 'Clear', 'Rain', 'Rain', 'Rain', 'Clouds', 'Rain'], 'Temp_moyenne_7jours': 20.0, 'Proba_pluie_7jours': 52.0, 'scale_temp': 5.129208843585569, 'scale_pluie': 15.774130343762813}, {'ville': 'La Rochelle', 'lat': 46.1591126, 'lon': -1.1520434, 'score': 15, 'jour_+x': [1, 2, 3, 4, 5, 6, 7], 'temperature_ressentie': [17, 18, 19, 14, 17, 18, 21], 'probabilite_de_pluie': [0, 0, 2, 98, 35, 0, 1], 'meteo_principale': ['Clear', 'Clear', 'Clouds', 'Rain', 'Rain', 'Clear', 'Clouds'], 'Temp_moyenne_7jours': 17.7143, 'Proba_pluie_7jours': 19.4286, 'scale_temp': 1.983164625657726, 'scale_pluie': 3.3442501940807547})\n"
     ]
    },
    {
     "name": "stdout",
     "output_type": "stream",
     "text": [
      "2022-06-26 07:43:08,436 INFO sqlalchemy.engine.Engine COMMIT\n"
     ]
    },
    {
     "name": "stderr",
     "output_type": "stream",
     "text": [
      "2022-06-26 07:43:08 [sqlalchemy.engine.Engine] INFO: COMMIT\n"
     ]
    },
    {
     "name": "stdout",
     "output_type": "stream",
     "text": [
      "2022-06-26 07:43:08,451 INFO sqlalchemy.engine.Engine select relname from pg_class c join pg_namespace n on n.oid=c.relnamespace where pg_catalog.pg_table_is_visible(c.oid) and relname=%(name)s\n"
     ]
    },
    {
     "name": "stderr",
     "output_type": "stream",
     "text": [
      "2022-06-26 07:43:08 [sqlalchemy.engine.Engine] INFO: select relname from pg_class c join pg_namespace n on n.oid=c.relnamespace where pg_catalog.pg_table_is_visible(c.oid) and relname=%(name)s\n"
     ]
    },
    {
     "name": "stdout",
     "output_type": "stream",
     "text": [
      "2022-06-26 07:43:08,451 INFO sqlalchemy.engine.Engine [cached since 0.368s ago] {'name': 'hotels'}\n"
     ]
    },
    {
     "name": "stderr",
     "output_type": "stream",
     "text": [
      "2022-06-26 07:43:08 [sqlalchemy.engine.Engine] INFO: [cached since 0.368s ago] {'name': 'hotels'}\n"
     ]
    },
    {
     "name": "stdout",
     "output_type": "stream",
     "text": [
      "2022-06-26 07:43:08,474 INFO sqlalchemy.engine.Engine select relname from pg_class c join pg_namespace n on n.oid=c.relnamespace where pg_catalog.pg_table_is_visible(c.oid) and relname=%(name)s\n"
     ]
    },
    {
     "name": "stderr",
     "output_type": "stream",
     "text": [
      "2022-06-26 07:43:08 [sqlalchemy.engine.Engine] INFO: select relname from pg_class c join pg_namespace n on n.oid=c.relnamespace where pg_catalog.pg_table_is_visible(c.oid) and relname=%(name)s\n"
     ]
    },
    {
     "name": "stdout",
     "output_type": "stream",
     "text": [
      "2022-06-26 07:43:08,475 INFO sqlalchemy.engine.Engine [cached since 0.3912s ago] {'name': 'hotels'}\n"
     ]
    },
    {
     "name": "stderr",
     "output_type": "stream",
     "text": [
      "2022-06-26 07:43:08 [sqlalchemy.engine.Engine] INFO: [cached since 0.3912s ago] {'name': 'hotels'}\n"
     ]
    },
    {
     "name": "stdout",
     "output_type": "stream",
     "text": [
      "2022-06-26 07:43:08,487 INFO sqlalchemy.engine.Engine SELECT c.relname FROM pg_class c JOIN pg_namespace n ON n.oid = c.relnamespace WHERE n.nspname = %(schema)s AND c.relkind in ('r', 'p')\n"
     ]
    },
    {
     "name": "stderr",
     "output_type": "stream",
     "text": [
      "2022-06-26 07:43:08 [sqlalchemy.engine.Engine] INFO: SELECT c.relname FROM pg_class c JOIN pg_namespace n ON n.oid = c.relnamespace WHERE n.nspname = %(schema)s AND c.relkind in ('r', 'p')\n"
     ]
    },
    {
     "name": "stdout",
     "output_type": "stream",
     "text": [
      "2022-06-26 07:43:08,488 INFO sqlalchemy.engine.Engine [cached since 0.3625s ago] {'schema': 'public'}\n"
     ]
    },
    {
     "name": "stderr",
     "output_type": "stream",
     "text": [
      "2022-06-26 07:43:08 [sqlalchemy.engine.Engine] INFO: [cached since 0.3625s ago] {'schema': 'public'}\n"
     ]
    },
    {
     "name": "stdout",
     "output_type": "stream",
     "text": [
      "2022-06-26 07:43:08,502 INFO sqlalchemy.engine.Engine \n",
      "            SELECT c.oid\n",
      "            FROM pg_catalog.pg_class c\n",
      "            LEFT JOIN pg_catalog.pg_namespace n ON n.oid = c.relnamespace\n",
      "            WHERE (pg_catalog.pg_table_is_visible(c.oid))\n",
      "            AND c.relname = %(table_name)s AND c.relkind in\n",
      "            ('r', 'v', 'm', 'f', 'p')\n",
      "        \n"
     ]
    },
    {
     "name": "stderr",
     "output_type": "stream",
     "text": [
      "2022-06-26 07:43:08 [sqlalchemy.engine.Engine] INFO: \n",
      "            SELECT c.oid\n",
      "            FROM pg_catalog.pg_class c\n",
      "            LEFT JOIN pg_catalog.pg_namespace n ON n.oid = c.relnamespace\n",
      "            WHERE (pg_catalog.pg_table_is_visible(c.oid))\n",
      "            AND c.relname = %(table_name)s AND c.relkind in\n",
      "            ('r', 'v', 'm', 'f', 'p')\n",
      "        \n"
     ]
    },
    {
     "name": "stdout",
     "output_type": "stream",
     "text": [
      "2022-06-26 07:43:08,503 INFO sqlalchemy.engine.Engine [cached since 0.3633s ago] {'table_name': 'hotels'}\n"
     ]
    },
    {
     "name": "stderr",
     "output_type": "stream",
     "text": [
      "2022-06-26 07:43:08 [sqlalchemy.engine.Engine] INFO: [cached since 0.3633s ago] {'table_name': 'hotels'}\n"
     ]
    },
    {
     "name": "stdout",
     "output_type": "stream",
     "text": [
      "2022-06-26 07:43:08,518 INFO sqlalchemy.engine.Engine \n",
      "            SELECT a.attname,\n",
      "              pg_catalog.format_type(a.atttypid, a.atttypmod),\n",
      "              (\n",
      "                SELECT pg_catalog.pg_get_expr(d.adbin, d.adrelid)\n",
      "                FROM pg_catalog.pg_attrdef d\n",
      "                WHERE d.adrelid = a.attrelid AND d.adnum = a.attnum\n",
      "                AND a.atthasdef\n",
      "              ) AS DEFAULT,\n",
      "              a.attnotnull,\n",
      "              a.attrelid as table_oid,\n",
      "              pgd.description as comment,\n",
      "              a.attgenerated as generated,\n",
      "                              (SELECT json_build_object(\n",
      "                    'always', a.attidentity = 'a',\n",
      "                    'start', s.seqstart,\n",
      "                    'increment', s.seqincrement,\n",
      "                    'minvalue', s.seqmin,\n",
      "                    'maxvalue', s.seqmax,\n",
      "                    'cache', s.seqcache,\n",
      "                    'cycle', s.seqcycle)\n",
      "                FROM pg_catalog.pg_sequence s\n",
      "                JOIN pg_catalog.pg_class c on s.seqrelid = c.\"oid\"\n",
      "                WHERE c.relkind = 'S'\n",
      "                AND a.attidentity != ''\n",
      "                AND s.seqrelid = pg_catalog.pg_get_serial_sequence(\n",
      "                    a.attrelid::regclass::text, a.attname\n",
      "                )::regclass::oid\n",
      "                ) as identity_options                \n",
      "            FROM pg_catalog.pg_attribute a\n",
      "            LEFT JOIN pg_catalog.pg_description pgd ON (\n",
      "                pgd.objoid = a.attrelid AND pgd.objsubid = a.attnum)\n",
      "            WHERE a.attrelid = %(table_oid)s\n",
      "            AND a.attnum > 0 AND NOT a.attisdropped\n",
      "            ORDER BY a.attnum\n",
      "        \n"
     ]
    },
    {
     "name": "stderr",
     "output_type": "stream",
     "text": [
      "2022-06-26 07:43:08 [sqlalchemy.engine.Engine] INFO: \n",
      "            SELECT a.attname,\n",
      "              pg_catalog.format_type(a.atttypid, a.atttypmod),\n",
      "              (\n",
      "                SELECT pg_catalog.pg_get_expr(d.adbin, d.adrelid)\n",
      "                FROM pg_catalog.pg_attrdef d\n",
      "                WHERE d.adrelid = a.attrelid AND d.adnum = a.attnum\n",
      "                AND a.atthasdef\n",
      "              ) AS DEFAULT,\n",
      "              a.attnotnull,\n",
      "              a.attrelid as table_oid,\n",
      "              pgd.description as comment,\n",
      "              a.attgenerated as generated,\n",
      "                              (SELECT json_build_object(\n",
      "                    'always', a.attidentity = 'a',\n",
      "                    'start', s.seqstart,\n",
      "                    'increment', s.seqincrement,\n",
      "                    'minvalue', s.seqmin,\n",
      "                    'maxvalue', s.seqmax,\n",
      "                    'cache', s.seqcache,\n",
      "                    'cycle', s.seqcycle)\n",
      "                FROM pg_catalog.pg_sequence s\n",
      "                JOIN pg_catalog.pg_class c on s.seqrelid = c.\"oid\"\n",
      "                WHERE c.relkind = 'S'\n",
      "                AND a.attidentity != ''\n",
      "                AND s.seqrelid = pg_catalog.pg_get_serial_sequence(\n",
      "                    a.attrelid::regclass::text, a.attname\n",
      "                )::regclass::oid\n",
      "                ) as identity_options                \n",
      "            FROM pg_catalog.pg_attribute a\n",
      "            LEFT JOIN pg_catalog.pg_description pgd ON (\n",
      "                pgd.objoid = a.attrelid AND pgd.objsubid = a.attnum)\n",
      "            WHERE a.attrelid = %(table_oid)s\n",
      "            AND a.attnum > 0 AND NOT a.attisdropped\n",
      "            ORDER BY a.attnum\n",
      "        \n"
     ]
    },
    {
     "name": "stdout",
     "output_type": "stream",
     "text": [
      "2022-06-26 07:43:08,519 INFO sqlalchemy.engine.Engine [cached since 0.3661s ago] {'table_oid': 16820}\n"
     ]
    },
    {
     "name": "stderr",
     "output_type": "stream",
     "text": [
      "2022-06-26 07:43:08 [sqlalchemy.engine.Engine] INFO: [cached since 0.3661s ago] {'table_oid': 16820}\n"
     ]
    },
    {
     "name": "stdout",
     "output_type": "stream",
     "text": [
      "2022-06-26 07:43:08,533 INFO sqlalchemy.engine.Engine \n",
      "            SELECT t.typname as \"name\",\n",
      "               pg_catalog.format_type(t.typbasetype, t.typtypmod) as \"attype\",\n",
      "               not t.typnotnull as \"nullable\",\n",
      "               t.typdefault as \"default\",\n",
      "               pg_catalog.pg_type_is_visible(t.oid) as \"visible\",\n",
      "               n.nspname as \"schema\"\n",
      "            FROM pg_catalog.pg_type t\n",
      "               LEFT JOIN pg_catalog.pg_namespace n ON n.oid = t.typnamespace\n",
      "            WHERE t.typtype = 'd'\n",
      "        \n"
     ]
    },
    {
     "name": "stderr",
     "output_type": "stream",
     "text": [
      "2022-06-26 07:43:08 [sqlalchemy.engine.Engine] INFO: \n",
      "            SELECT t.typname as \"name\",\n",
      "               pg_catalog.format_type(t.typbasetype, t.typtypmod) as \"attype\",\n",
      "               not t.typnotnull as \"nullable\",\n",
      "               t.typdefault as \"default\",\n",
      "               pg_catalog.pg_type_is_visible(t.oid) as \"visible\",\n",
      "               n.nspname as \"schema\"\n",
      "            FROM pg_catalog.pg_type t\n",
      "               LEFT JOIN pg_catalog.pg_namespace n ON n.oid = t.typnamespace\n",
      "            WHERE t.typtype = 'd'\n",
      "        \n"
     ]
    },
    {
     "name": "stdout",
     "output_type": "stream",
     "text": [
      "2022-06-26 07:43:08,533 INFO sqlalchemy.engine.Engine [cached since 0.3639s ago] {}\n"
     ]
    },
    {
     "name": "stderr",
     "output_type": "stream",
     "text": [
      "2022-06-26 07:43:08 [sqlalchemy.engine.Engine] INFO: [cached since 0.3639s ago] {}\n"
     ]
    },
    {
     "name": "stdout",
     "output_type": "stream",
     "text": [
      "2022-06-26 07:43:08,546 INFO sqlalchemy.engine.Engine \n",
      "            SELECT t.typname as \"name\",\n",
      "               -- no enum defaults in 8.4 at least\n",
      "               -- t.typdefault as \"default\",\n",
      "               pg_catalog.pg_type_is_visible(t.oid) as \"visible\",\n",
      "               n.nspname as \"schema\",\n",
      "               e.enumlabel as \"label\"\n",
      "            FROM pg_catalog.pg_type t\n",
      "                 LEFT JOIN pg_catalog.pg_namespace n ON n.oid = t.typnamespace\n",
      "                 LEFT JOIN pg_catalog.pg_enum e ON t.oid = e.enumtypid\n",
      "            WHERE t.typtype = 'e'\n",
      "        ORDER BY \"schema\", \"name\", e.oid\n"
     ]
    },
    {
     "name": "stderr",
     "output_type": "stream",
     "text": [
      "2022-06-26 07:43:08 [sqlalchemy.engine.Engine] INFO: \n",
      "            SELECT t.typname as \"name\",\n",
      "               -- no enum defaults in 8.4 at least\n",
      "               -- t.typdefault as \"default\",\n",
      "               pg_catalog.pg_type_is_visible(t.oid) as \"visible\",\n",
      "               n.nspname as \"schema\",\n",
      "               e.enumlabel as \"label\"\n",
      "            FROM pg_catalog.pg_type t\n",
      "                 LEFT JOIN pg_catalog.pg_namespace n ON n.oid = t.typnamespace\n",
      "                 LEFT JOIN pg_catalog.pg_enum e ON t.oid = e.enumtypid\n",
      "            WHERE t.typtype = 'e'\n",
      "        ORDER BY \"schema\", \"name\", e.oid\n"
     ]
    },
    {
     "name": "stdout",
     "output_type": "stream",
     "text": [
      "2022-06-26 07:43:08,546 INFO sqlalchemy.engine.Engine [cached since 0.3635s ago] {}\n"
     ]
    },
    {
     "name": "stderr",
     "output_type": "stream",
     "text": [
      "2022-06-26 07:43:08 [sqlalchemy.engine.Engine] INFO: [cached since 0.3635s ago] {}\n"
     ]
    },
    {
     "name": "stdout",
     "output_type": "stream",
     "text": [
      "2022-06-26 07:43:08,559 INFO sqlalchemy.engine.Engine \n",
      "                SELECT a.attname\n",
      "                FROM pg_attribute a JOIN (\n",
      "                    SELECT unnest(ix.indkey) attnum,\n",
      "                           generate_subscripts(ix.indkey, 1) ord\n",
      "                    FROM pg_index ix\n",
      "                    WHERE ix.indrelid = %(table_oid)s AND ix.indisprimary\n",
      "                    ) k ON a.attnum=k.attnum\n",
      "                WHERE a.attrelid = %(table_oid)s\n",
      "                ORDER BY k.ord\n",
      "            \n"
     ]
    },
    {
     "name": "stderr",
     "output_type": "stream",
     "text": [
      "2022-06-26 07:43:08 [sqlalchemy.engine.Engine] INFO: \n",
      "                SELECT a.attname\n",
      "                FROM pg_attribute a JOIN (\n",
      "                    SELECT unnest(ix.indkey) attnum,\n",
      "                           generate_subscripts(ix.indkey, 1) ord\n",
      "                    FROM pg_index ix\n",
      "                    WHERE ix.indrelid = %(table_oid)s AND ix.indisprimary\n",
      "                    ) k ON a.attnum=k.attnum\n",
      "                WHERE a.attrelid = %(table_oid)s\n",
      "                ORDER BY k.ord\n",
      "            \n"
     ]
    },
    {
     "name": "stdout",
     "output_type": "stream",
     "text": [
      "2022-06-26 07:43:08,560 INFO sqlalchemy.engine.Engine [cached since 0.3601s ago] {'table_oid': 16820}\n"
     ]
    },
    {
     "name": "stderr",
     "output_type": "stream",
     "text": [
      "2022-06-26 07:43:08 [sqlalchemy.engine.Engine] INFO: [cached since 0.3601s ago] {'table_oid': 16820}\n"
     ]
    },
    {
     "name": "stdout",
     "output_type": "stream",
     "text": [
      "2022-06-26 07:43:08,572 INFO sqlalchemy.engine.Engine \n",
      "        SELECT conname\n",
      "           FROM  pg_catalog.pg_constraint r\n",
      "           WHERE r.conrelid = %(table_oid)s AND r.contype = 'p'\n",
      "           ORDER BY 1\n",
      "        \n"
     ]
    },
    {
     "name": "stderr",
     "output_type": "stream",
     "text": [
      "2022-06-26 07:43:08 [sqlalchemy.engine.Engine] INFO: \n",
      "        SELECT conname\n",
      "           FROM  pg_catalog.pg_constraint r\n",
      "           WHERE r.conrelid = %(table_oid)s AND r.contype = 'p'\n",
      "           ORDER BY 1\n",
      "        \n"
     ]
    },
    {
     "name": "stdout",
     "output_type": "stream",
     "text": [
      "2022-06-26 07:43:08,572 INFO sqlalchemy.engine.Engine [cached since 0.3566s ago] {'table_oid': 16820}\n"
     ]
    },
    {
     "name": "stderr",
     "output_type": "stream",
     "text": [
      "2022-06-26 07:43:08 [sqlalchemy.engine.Engine] INFO: [cached since 0.3566s ago] {'table_oid': 16820}\n"
     ]
    },
    {
     "name": "stdout",
     "output_type": "stream",
     "text": [
      "2022-06-26 07:43:08,585 INFO sqlalchemy.engine.Engine \n",
      "          SELECT r.conname,\n",
      "                pg_catalog.pg_get_constraintdef(r.oid, true) as condef,\n",
      "                n.nspname as conschema\n",
      "          FROM  pg_catalog.pg_constraint r,\n",
      "                pg_namespace n,\n",
      "                pg_class c\n",
      "\n",
      "          WHERE r.conrelid = %(table)s AND\n",
      "                r.contype = 'f' AND\n",
      "                c.oid = confrelid AND\n",
      "                n.oid = c.relnamespace\n",
      "          ORDER BY 1\n",
      "        \n"
     ]
    },
    {
     "name": "stderr",
     "output_type": "stream",
     "text": [
      "2022-06-26 07:43:08 [sqlalchemy.engine.Engine] INFO: \n",
      "          SELECT r.conname,\n",
      "                pg_catalog.pg_get_constraintdef(r.oid, true) as condef,\n",
      "                n.nspname as conschema\n",
      "          FROM  pg_catalog.pg_constraint r,\n",
      "                pg_namespace n,\n",
      "                pg_class c\n",
      "\n",
      "          WHERE r.conrelid = %(table)s AND\n",
      "                r.contype = 'f' AND\n",
      "                c.oid = confrelid AND\n",
      "                n.oid = c.relnamespace\n",
      "          ORDER BY 1\n",
      "        \n"
     ]
    },
    {
     "name": "stdout",
     "output_type": "stream",
     "text": [
      "2022-06-26 07:43:08,586 INFO sqlalchemy.engine.Engine [cached since 0.3577s ago] {'table': 16820}\n"
     ]
    },
    {
     "name": "stderr",
     "output_type": "stream",
     "text": [
      "2022-06-26 07:43:08 [sqlalchemy.engine.Engine] INFO: [cached since 0.3577s ago] {'table': 16820}\n"
     ]
    },
    {
     "name": "stdout",
     "output_type": "stream",
     "text": [
      "2022-06-26 07:43:08,600 INFO sqlalchemy.engine.Engine \n",
      "              SELECT\n",
      "                  i.relname as relname,\n",
      "                  ix.indisunique, ix.indexprs,\n",
      "                  a.attname, a.attnum, c.conrelid, ix.indkey::varchar,\n",
      "                  ix.indoption::varchar, i.reloptions, am.amname,\n",
      "                  pg_get_expr(ix.indpred, ix.indrelid),\n",
      "                  ix.indnkeyatts as indnkeyatts\n",
      "              FROM\n",
      "                  pg_class t\n",
      "                        join pg_index ix on t.oid = ix.indrelid\n",
      "                        join pg_class i on i.oid = ix.indexrelid\n",
      "                        left outer join\n",
      "                            pg_attribute a\n",
      "                            on t.oid = a.attrelid and a.attnum = ANY(ix.indkey)\n",
      "                        left outer join\n",
      "                            pg_constraint c\n",
      "                            on (ix.indrelid = c.conrelid and\n",
      "                                ix.indexrelid = c.conindid and\n",
      "                                c.contype in ('p', 'u', 'x'))\n",
      "                        left outer join\n",
      "                            pg_am am\n",
      "                            on i.relam = am.oid\n",
      "              WHERE\n",
      "                  t.relkind IN ('r', 'v', 'f', 'm', 'p')\n",
      "                  and t.oid = %(table_oid)s\n",
      "                  and ix.indisprimary = 'f'\n",
      "              ORDER BY\n",
      "                  t.relname,\n",
      "                  i.relname\n",
      "            \n"
     ]
    },
    {
     "name": "stderr",
     "output_type": "stream",
     "text": [
      "2022-06-26 07:43:08 [sqlalchemy.engine.Engine] INFO: \n",
      "              SELECT\n",
      "                  i.relname as relname,\n",
      "                  ix.indisunique, ix.indexprs,\n",
      "                  a.attname, a.attnum, c.conrelid, ix.indkey::varchar,\n",
      "                  ix.indoption::varchar, i.reloptions, am.amname,\n",
      "                  pg_get_expr(ix.indpred, ix.indrelid),\n",
      "                  ix.indnkeyatts as indnkeyatts\n",
      "              FROM\n",
      "                  pg_class t\n",
      "                        join pg_index ix on t.oid = ix.indrelid\n",
      "                        join pg_class i on i.oid = ix.indexrelid\n",
      "                        left outer join\n",
      "                            pg_attribute a\n",
      "                            on t.oid = a.attrelid and a.attnum = ANY(ix.indkey)\n",
      "                        left outer join\n",
      "                            pg_constraint c\n",
      "                            on (ix.indrelid = c.conrelid and\n",
      "                                ix.indexrelid = c.conindid and\n",
      "                                c.contype in ('p', 'u', 'x'))\n",
      "                        left outer join\n",
      "                            pg_am am\n",
      "                            on i.relam = am.oid\n",
      "              WHERE\n",
      "                  t.relkind IN ('r', 'v', 'f', 'm', 'p')\n",
      "                  and t.oid = %(table_oid)s\n",
      "                  and ix.indisprimary = 'f'\n",
      "              ORDER BY\n",
      "                  t.relname,\n",
      "                  i.relname\n",
      "            \n"
     ]
    },
    {
     "name": "stdout",
     "output_type": "stream",
     "text": [
      "2022-06-26 07:43:08,600 INFO sqlalchemy.engine.Engine [cached since 0.3582s ago] {'table_oid': 16820}\n"
     ]
    },
    {
     "name": "stderr",
     "output_type": "stream",
     "text": [
      "2022-06-26 07:43:08 [sqlalchemy.engine.Engine] INFO: [cached since 0.3582s ago] {'table_oid': 16820}\n"
     ]
    },
    {
     "name": "stdout",
     "output_type": "stream",
     "text": [
      "2022-06-26 07:43:08,618 INFO sqlalchemy.engine.Engine \n",
      "            SELECT\n",
      "                cons.conname as name,\n",
      "                cons.conkey as key,\n",
      "                a.attnum as col_num,\n",
      "                a.attname as col_name\n",
      "            FROM\n",
      "                pg_catalog.pg_constraint cons\n",
      "                join pg_attribute a\n",
      "                  on cons.conrelid = a.attrelid AND\n",
      "                    a.attnum = ANY(cons.conkey)\n",
      "            WHERE\n",
      "                cons.conrelid = %(table_oid)s AND\n",
      "                cons.contype = 'u'\n",
      "        \n"
     ]
    },
    {
     "name": "stderr",
     "output_type": "stream",
     "text": [
      "2022-06-26 07:43:08 [sqlalchemy.engine.Engine] INFO: \n",
      "            SELECT\n",
      "                cons.conname as name,\n",
      "                cons.conkey as key,\n",
      "                a.attnum as col_num,\n",
      "                a.attname as col_name\n",
      "            FROM\n",
      "                pg_catalog.pg_constraint cons\n",
      "                join pg_attribute a\n",
      "                  on cons.conrelid = a.attrelid AND\n",
      "                    a.attnum = ANY(cons.conkey)\n",
      "            WHERE\n",
      "                cons.conrelid = %(table_oid)s AND\n",
      "                cons.contype = 'u'\n",
      "        \n"
     ]
    },
    {
     "name": "stdout",
     "output_type": "stream",
     "text": [
      "2022-06-26 07:43:08,619 INFO sqlalchemy.engine.Engine [cached since 0.3604s ago] {'table_oid': 16820}\n"
     ]
    },
    {
     "name": "stderr",
     "output_type": "stream",
     "text": [
      "2022-06-26 07:43:08 [sqlalchemy.engine.Engine] INFO: [cached since 0.3604s ago] {'table_oid': 16820}\n"
     ]
    },
    {
     "name": "stdout",
     "output_type": "stream",
     "text": [
      "2022-06-26 07:43:08,633 INFO sqlalchemy.engine.Engine \n",
      "            SELECT\n",
      "                cons.conname as name,\n",
      "                pg_get_constraintdef(cons.oid) as src\n",
      "            FROM\n",
      "                pg_catalog.pg_constraint cons\n",
      "            WHERE\n",
      "                cons.conrelid = %(table_oid)s AND\n",
      "                cons.contype = 'c'\n",
      "        \n"
     ]
    },
    {
     "name": "stderr",
     "output_type": "stream",
     "text": [
      "2022-06-26 07:43:08 [sqlalchemy.engine.Engine] INFO: \n",
      "            SELECT\n",
      "                cons.conname as name,\n",
      "                pg_get_constraintdef(cons.oid) as src\n",
      "            FROM\n",
      "                pg_catalog.pg_constraint cons\n",
      "            WHERE\n",
      "                cons.conrelid = %(table_oid)s AND\n",
      "                cons.contype = 'c'\n",
      "        \n"
     ]
    },
    {
     "name": "stdout",
     "output_type": "stream",
     "text": [
      "2022-06-26 07:43:08,634 INFO sqlalchemy.engine.Engine [cached since 0.3531s ago] {'table_oid': 16820}\n"
     ]
    },
    {
     "name": "stderr",
     "output_type": "stream",
     "text": [
      "2022-06-26 07:43:08 [sqlalchemy.engine.Engine] INFO: [cached since 0.3531s ago] {'table_oid': 16820}\n"
     ]
    },
    {
     "name": "stdout",
     "output_type": "stream",
     "text": [
      "2022-06-26 07:43:08,648 INFO sqlalchemy.engine.Engine \n",
      "            SELECT\n",
      "                pgd.description as table_comment\n",
      "            FROM\n",
      "                pg_catalog.pg_description pgd\n",
      "            WHERE\n",
      "                pgd.objsubid = 0 AND\n",
      "                pgd.objoid = %(table_oid)s\n",
      "        \n"
     ]
    },
    {
     "name": "stderr",
     "output_type": "stream",
     "text": [
      "2022-06-26 07:43:08 [sqlalchemy.engine.Engine] INFO: \n",
      "            SELECT\n",
      "                pgd.description as table_comment\n",
      "            FROM\n",
      "                pg_catalog.pg_description pgd\n",
      "            WHERE\n",
      "                pgd.objsubid = 0 AND\n",
      "                pgd.objoid = %(table_oid)s\n",
      "        \n"
     ]
    },
    {
     "name": "stdout",
     "output_type": "stream",
     "text": [
      "2022-06-26 07:43:08,649 INFO sqlalchemy.engine.Engine [cached since 0.3492s ago] {'table_oid': 16820}\n"
     ]
    },
    {
     "name": "stderr",
     "output_type": "stream",
     "text": [
      "2022-06-26 07:43:08 [sqlalchemy.engine.Engine] INFO: [cached since 0.3492s ago] {'table_oid': 16820}\n"
     ]
    },
    {
     "name": "stdout",
     "output_type": "stream",
     "text": [
      "2022-06-26 07:43:08,661 INFO sqlalchemy.engine.Engine \n",
      "DROP TABLE hotels\n"
     ]
    },
    {
     "name": "stderr",
     "output_type": "stream",
     "text": [
      "2022-06-26 07:43:08 [sqlalchemy.engine.Engine] INFO: \n",
      "DROP TABLE hotels\n"
     ]
    },
    {
     "name": "stdout",
     "output_type": "stream",
     "text": [
      "2022-06-26 07:43:08,662 INFO sqlalchemy.engine.Engine [no key 0.00075s] {}\n"
     ]
    },
    {
     "name": "stderr",
     "output_type": "stream",
     "text": [
      "2022-06-26 07:43:08 [sqlalchemy.engine.Engine] INFO: [no key 0.00075s] {}\n"
     ]
    },
    {
     "name": "stdout",
     "output_type": "stream",
     "text": [
      "2022-06-26 07:43:08,674 INFO sqlalchemy.engine.Engine COMMIT\n"
     ]
    },
    {
     "name": "stderr",
     "output_type": "stream",
     "text": [
      "2022-06-26 07:43:08 [sqlalchemy.engine.Engine] INFO: COMMIT\n"
     ]
    },
    {
     "name": "stdout",
     "output_type": "stream",
     "text": [
      "2022-06-26 07:43:08,688 INFO sqlalchemy.engine.Engine \n",
      "CREATE TABLE hotels (\n",
      "\tville TEXT, \n",
      "\thotels TEXT, \n",
      "\tliens TEXT, \n",
      "\tlat FLOAT(53), \n",
      "\tlon FLOAT(53), \n",
      "\tdescription TEXT, \n",
      "\tscore TEXT, \n",
      "\tmeteo_score BIGINT\n",
      ")\n",
      "\n",
      "\n"
     ]
    },
    {
     "name": "stderr",
     "output_type": "stream",
     "text": [
      "2022-06-26 07:43:08 [sqlalchemy.engine.Engine] INFO: \n",
      "CREATE TABLE hotels (\n",
      "\tville TEXT, \n",
      "\thotels TEXT, \n",
      "\tliens TEXT, \n",
      "\tlat FLOAT(53), \n",
      "\tlon FLOAT(53), \n",
      "\tdescription TEXT, \n",
      "\tscore TEXT, \n",
      "\tmeteo_score BIGINT\n",
      ")\n",
      "\n",
      "\n"
     ]
    },
    {
     "name": "stdout",
     "output_type": "stream",
     "text": [
      "2022-06-26 07:43:08,689 INFO sqlalchemy.engine.Engine [no key 0.00077s] {}\n"
     ]
    },
    {
     "name": "stderr",
     "output_type": "stream",
     "text": [
      "2022-06-26 07:43:08 [sqlalchemy.engine.Engine] INFO: [no key 0.00077s] {}\n"
     ]
    },
    {
     "name": "stdout",
     "output_type": "stream",
     "text": [
      "2022-06-26 07:43:08,719 INFO sqlalchemy.engine.Engine COMMIT\n"
     ]
    },
    {
     "name": "stderr",
     "output_type": "stream",
     "text": [
      "2022-06-26 07:43:08 [sqlalchemy.engine.Engine] INFO: COMMIT\n"
     ]
    },
    {
     "name": "stdout",
     "output_type": "stream",
     "text": [
      "2022-06-26 07:43:08,739 INFO sqlalchemy.engine.Engine INSERT INTO hotels (ville, hotels, liens, lat, lon, description, score, meteo_score) VALUES (%(ville)s, %(hotels)s, %(liens)s, %(lat)s, %(lon)s, %(description)s, %(score)s, %(meteo_score)s)\n"
     ]
    },
    {
     "name": "stderr",
     "output_type": "stream",
     "text": [
      "2022-06-26 07:43:08 [sqlalchemy.engine.Engine] INFO: INSERT INTO hotels (ville, hotels, liens, lat, lon, description, score, meteo_score) VALUES (%(ville)s, %(hotels)s, %(liens)s, %(lat)s, %(lon)s, %(description)s, %(score)s, %(meteo_score)s)\n"
     ]
    },
    {
     "name": "stdout",
     "output_type": "stream",
     "text": [
      "2022-06-26 07:43:08,739 INFO sqlalchemy.engine.Engine [generated in 0.00351s] ({'ville': 'Mont Saint Michel', 'hotels': 'Hôtel Vert', 'liens': 'https://www.booking.com/hotel/fr/vert.fr.html?label=gen173nr-1FCAEoggI46AdIDVgEaE2IAQGYAQ24AQbIAQzYAQHoAQH4AQKIAgGoAgO4AuDI35UGwAIB0gIkMTA2N2I3ODItMW ... (135 characters truncated) ... no_rooms=1&group_children=0&req_children=0&hpos=1&hapos=1&sr_order=popularity&srpvid=1d9f2172522f009b&srepoch=1656218726&from=searchresults#hotelTmpl', 'lat': 48.61470049, 'lon': -1.50961697, 'description': \"\\nVous pouvez bénéficier d'une réduction Genius dans l'établissement Hôtel Vert\\xa0! Connectez-vous pour économiser.\\nSitué à 2 km du Mont-Saint-Mich ... (302 characters truncated) ... se privée.\\nLe Vert Hotel possède également une réception ouverte 24h/24, un parking privé, un supermarché sur place et une boutique de souvenirs. \\n\", 'score': '8,0', 'meteo_score': 16}, {'ville': 'Mont Saint Michel', 'hotels': 'Le Relais Saint Michel', 'liens': 'https://www.booking.com/hotel/fr/le-relais-saint-michel.fr.html?label=gen173nr-1FCAEoggI46AdIDVgEaE2IAQGYAQ24AQbIAQzYAQHoAQH4AQKIAgGoAgO4AuDI35UGwAIB ... (153 characters truncated) ... no_rooms=1&group_children=0&req_children=0&hpos=2&hapos=2&sr_order=popularity&srpvid=1d9f2172522f009b&srepoch=1656218726&from=searchresults#hotelTmpl', 'lat': 48.61758727, 'lon': -1.51039615, 'description': \"\\n\\nVous pouvez bénéficier d'une réduction Genius dans l'établissement Le Relais Saint Michel\\xa0! Connectez-vous pour économiser.\\nLe Relais Saint M ... (854 characters truncated) ...  nuit. Par ailleurs, si vous arrivez en voiture, vous pourrez profiter d'un espace de stationnement surveillé moyennant des frais supplémentaires. \\n\", 'score': '7,9', 'meteo_score': 16}, {'ville': 'Mont Saint Michel', 'hotels': 'Hotel De La Digue', 'liens': 'https://www.booking.com/hotel/fr/de-la-digue.fr.html?label=gen173nr-1FCAEoggI46AdIDVgEaE2IAQGYAQ24AQbIAQzYAQHoAQH4AQKIAgGoAgO4AuDI35UGwAIB0gIkMTA2N2I ... (142 characters truncated) ... no_rooms=1&group_children=0&req_children=0&hpos=3&hapos=3&sr_order=popularity&srpvid=1d9f2172522f009b&srepoch=1656218726&from=searchresults#hotelTmpl', 'lat': 48.61688155, 'lon': -1.51091784, 'description': \"\\nCet établissement est à 1 minute à pied de la plage. L'hôtel De La Digue est un établissement traditionnel situé en Normandie, à seulement 5 minute ... (296 characters truncated) ... d'une télévision. Certaines chambres doubles donnent sur la rivière Couesnon.\\nVous pourrez prendre un verre au bar de l'hôtel ou sur la terrasse. \\n\", 'score': '7,2', 'meteo_score': 16}, {'ville': 'Mont Saint Michel', 'hotels': 'Les Terrasses Poulard', 'liens': 'https://www.booking.com/hotel/fr/les-terrasses-poulard.fr.html?label=gen173nr-1FCAEoggI46AdIDVgEaE2IAQGYAQ24AQbIAQzYAQHoAQH4AQKIAgGoAgO4AuDI35UGwAIB0 ... (152 characters truncated) ... no_rooms=1&group_children=0&req_children=0&hpos=4&hapos=4&sr_order=popularity&srpvid=1d9f2172522f009b&srepoch=1656218726&from=searchresults#hotelTmpl', 'lat': 48.63534943, 'lon': -1.51037872, 'description': \"\\nVous pouvez bénéficier d'une réduction Genius dans l'établissement Les Terrasses Poulard\\xa0! Connectez-vous pour économiser.\\nOccupant 2 bâtiments ... (778 characters truncated) ... uverte 24h/24 avec une bagagerie.\\nLa région constitue un cadre idéal pour diverses activités telles que la pêche, le vélo et la randonnée à pied. \\n\", 'score': '7,3', 'meteo_score': 16}, {'ville': 'Mont Saint Michel', 'hotels': 'Le Saint Aubert', 'liens': 'https://www.booking.com/hotel/fr/hotel-saint-aubert.fr.html?label=gen173nr-1FCAEoggI46AdIDVgEaE2IAQGYAQ24AQbIAQzYAQHoAQH4AQKIAgGoAgO4AuDI35UGwAIB0gIk ... (149 characters truncated) ... no_rooms=1&group_children=0&req_children=0&hpos=5&hapos=5&sr_order=popularity&srpvid=1d9f2172522f009b&srepoch=1656218726&from=searchresults#hotelTmpl', 'lat': 48.61293783, 'lon': -1.51010513, 'description': \"\\nNiché dans un écrin de verdure, à seulement 2 km du Mont-Saint-Michel, Le Saint Aubert vous accueille dans un cadre chaleureux et convivial.\\nCet é ... (237 characters truncated) ... ancienne ferme.\\nLe personnel serviable sera heureux de vous recommander un grand nombre de sites d'intérêt et les visites à faire dans la région. \\n\", 'score': '7,2', 'meteo_score': 16}, {'ville': 'Mont Saint Michel', 'hotels': 'Mercure Mont Saint Michel', 'liens': 'https://www.booking.com/hotel/fr/mont-saint-michel.fr.html?label=gen173nr-1FCAEoggI46AdIDVgEaE2IAQGYAQ24AQbIAQzYAQHoAQH4AQKIAgGoAgO4AuDI35UGwAIB0gIkM ... (179 characters truncated) ... _children=0&hpos=6&hapos=6&sr_order=popularity&srpvid=1d9f2172522f009b&srepoch=1656218726&from_sustainable_property_sr=1&from=searchresults#hotelTmpl', 'lat': 48.61424653, 'lon': -1.51054502, 'description': \"\\nInstallé dans des espaces verts à seulement 2 km de l'abbaye du Mont-Saint-Michel, le Mercure Mont Saint Michel propose des chambres spacieuses ave ... (394 characters truncated) ...  des boissons dans un cadre convivial et décontracté.\\nLe Mercure Mont Saint Michel vous accueille à 6,5 km de Pontorson et à 52 km de Saint-Malo. \\n\", 'score': '8,2', 'meteo_score': 16}, {'ville': 'Mont Saint Michel', 'hotels': 'Hotel Gabriel', 'liens': 'https://www.booking.com/hotel/fr/hotel-gabriel.fr.html?label=gen173nr-1FCAEoggI46AdIDVgEaE2IAQGYAQ24AQbIAQzYAQHoAQH4AQKIAgGoAgO4AuDI35UGwAIB0gIkMTA2N ... (144 characters truncated) ... no_rooms=1&group_children=0&req_children=0&hpos=7&hapos=7&sr_order=popularity&srpvid=1d9f2172522f009b&srepoch=1656218726&from=searchresults#hotelTmpl', 'lat': 48.61538141, 'lon': -1.51070997, 'description': \"\\n\\nVous pouvez bénéficier d'une réduction Genius dans l'établissement Hotel Gabriel\\xa0! Connectez-vous pour économiser.\\nL’Hotel Gabriel se trouve  ... (511 characters truncated) ... l Gabriel est situé à 6 minutes en voiture de l’autoroute E401. Vous séjournerez également à 7,3 km de la gare TGV de Pontorson qui dessert Paris. \\n\", 'score': '8,0', 'meteo_score': 16}, {'ville': 'Mont Saint Michel', 'hotels': 'La Mère Poulard', 'liens': 'https://www.booking.com/hotel/fr/la-mere-poulard.fr.html?label=gen173nr-1FCAEoggI46AdIDVgEaE2IAQGYAQ24AQbIAQzYAQHoAQH4AQKIAgGoAgO4AuDI35UGwAIB0gIkMTA ... (146 characters truncated) ... no_rooms=1&group_children=0&req_children=0&hpos=8&hapos=8&sr_order=popularity&srpvid=1d9f2172522f009b&srepoch=1656218726&from=searchresults#hotelTmpl', 'lat': 48.63508532, 'lon': -1.51053965, 'description': \"\\n\\nVous pouvez bénéficier d'une réduction Genius dans l'établissement La Mère Poulard\\xa0! Connectez-vous pour économiser.\\nOccupant un bâtiment his ... (829 characters truncated) ... es balades à vélo ou bien la visite du Mont-Saint-Michel. Avranches se trouve à 23 minutes de route et Saint-Malo à 45 minutes de La Mère Poulard. \\n\", 'score': '7,2', 'meteo_score': 16}  ... displaying 10 of 875 total bound parameter sets ...  {'ville': 'La Rochelle', 'hotels': 'Studio La Rochelle, 1 pièce, 2 personnes - FR-1-246-27', 'liens': 'https://www.booking.com/hotel/fr/apartment-porte-oceane-3.fr.html?label=gen173nr-1FCAEoggI46AdIDVgEaE2IAQGYAQ24AQbIAQzYAQHoAQH4AQKIAgGoAgO4AuDI35UGwA ... (157 characters truncated) ... _rooms=1&group_children=0&req_children=0&hpos=24&hapos=24&sr_order=popularity&srpvid=d2582179cae40123&srepoch=1656218739&from=searchresults#hotelTmpl', 'lat': 46.13926, 'lon': -1.160848, 'description': \"\\nLe Studio La Rochelle, 1 pièce, 2 personnes - FR-1-246-27 est situé à La Rochelle, à 1,1 km du port de plaisance des Minimes, à 5 km de la Grosse H ... (252 characters truncated) ... t une salle de bains pourvue d'une douche.\\nVous séjournerez à 1,7 km de l'université de La Rochelle et à 1,9 km du musée maritime de La Rochelle. \\n\", 'score': '1.0', 'meteo_score': 15}, {'ville': 'La Rochelle', 'hotels': 'Hôtel Le Rupella', 'liens': 'https://www.booking.com/hotel/fr/le-rupella.fr.html?label=gen173nr-1FCAEoggI46AdIDVgEaE2IAQGYAQ24AQbIAQzYAQHoAQH4AQKIAgGoAgO4AuDI35UGwAIB0gIkMTA2N2I3 ... (143 characters truncated) ... _rooms=1&group_children=0&req_children=0&hpos=25&hapos=25&sr_order=popularity&srpvid=d2582179cae40123&srepoch=1656218739&from=searchresults#hotelTmpl', 'lat': 46.15817494, 'lon': -1.15107, 'description': \"\\nSitué au cœur de La Rochelle, l'Hôtel Le Rupella propose des chambres avec salle de bains privative, connexion Wi-Fi gratuite et bureau, à 10 minut ... (534 characters truncated) ... ception ouverte 24h/24. Enfin, il se trouve à 850 mètres de l'aquarium de la ville et à 5 minutes de route du parc des expositions de La Rochelle. \\n\", 'score': '7,2', 'meteo_score': 15})\n"
     ]
    },
    {
     "name": "stderr",
     "output_type": "stream",
     "text": [
      "2022-06-26 07:43:08 [sqlalchemy.engine.Engine] INFO: [generated in 0.00351s] ({'ville': 'Mont Saint Michel', 'hotels': 'Hôtel Vert', 'liens': 'https://www.booking.com/hotel/fr/vert.fr.html?label=gen173nr-1FCAEoggI46AdIDVgEaE2IAQGYAQ24AQbIAQzYAQHoAQH4AQKIAgGoAgO4AuDI35UGwAIB0gIkMTA2N2I3ODItMW ... (135 characters truncated) ... no_rooms=1&group_children=0&req_children=0&hpos=1&hapos=1&sr_order=popularity&srpvid=1d9f2172522f009b&srepoch=1656218726&from=searchresults#hotelTmpl', 'lat': 48.61470049, 'lon': -1.50961697, 'description': \"\\nVous pouvez bénéficier d'une réduction Genius dans l'établissement Hôtel Vert\\xa0! Connectez-vous pour économiser.\\nSitué à 2 km du Mont-Saint-Mich ... (302 characters truncated) ... se privée.\\nLe Vert Hotel possède également une réception ouverte 24h/24, un parking privé, un supermarché sur place et une boutique de souvenirs. \\n\", 'score': '8,0', 'meteo_score': 16}, {'ville': 'Mont Saint Michel', 'hotels': 'Le Relais Saint Michel', 'liens': 'https://www.booking.com/hotel/fr/le-relais-saint-michel.fr.html?label=gen173nr-1FCAEoggI46AdIDVgEaE2IAQGYAQ24AQbIAQzYAQHoAQH4AQKIAgGoAgO4AuDI35UGwAIB ... (153 characters truncated) ... no_rooms=1&group_children=0&req_children=0&hpos=2&hapos=2&sr_order=popularity&srpvid=1d9f2172522f009b&srepoch=1656218726&from=searchresults#hotelTmpl', 'lat': 48.61758727, 'lon': -1.51039615, 'description': \"\\n\\nVous pouvez bénéficier d'une réduction Genius dans l'établissement Le Relais Saint Michel\\xa0! Connectez-vous pour économiser.\\nLe Relais Saint M ... (854 characters truncated) ...  nuit. Par ailleurs, si vous arrivez en voiture, vous pourrez profiter d'un espace de stationnement surveillé moyennant des frais supplémentaires. \\n\", 'score': '7,9', 'meteo_score': 16}, {'ville': 'Mont Saint Michel', 'hotels': 'Hotel De La Digue', 'liens': 'https://www.booking.com/hotel/fr/de-la-digue.fr.html?label=gen173nr-1FCAEoggI46AdIDVgEaE2IAQGYAQ24AQbIAQzYAQHoAQH4AQKIAgGoAgO4AuDI35UGwAIB0gIkMTA2N2I ... (142 characters truncated) ... no_rooms=1&group_children=0&req_children=0&hpos=3&hapos=3&sr_order=popularity&srpvid=1d9f2172522f009b&srepoch=1656218726&from=searchresults#hotelTmpl', 'lat': 48.61688155, 'lon': -1.51091784, 'description': \"\\nCet établissement est à 1 minute à pied de la plage. L'hôtel De La Digue est un établissement traditionnel situé en Normandie, à seulement 5 minute ... (296 characters truncated) ... d'une télévision. Certaines chambres doubles donnent sur la rivière Couesnon.\\nVous pourrez prendre un verre au bar de l'hôtel ou sur la terrasse. \\n\", 'score': '7,2', 'meteo_score': 16}, {'ville': 'Mont Saint Michel', 'hotels': 'Les Terrasses Poulard', 'liens': 'https://www.booking.com/hotel/fr/les-terrasses-poulard.fr.html?label=gen173nr-1FCAEoggI46AdIDVgEaE2IAQGYAQ24AQbIAQzYAQHoAQH4AQKIAgGoAgO4AuDI35UGwAIB0 ... (152 characters truncated) ... no_rooms=1&group_children=0&req_children=0&hpos=4&hapos=4&sr_order=popularity&srpvid=1d9f2172522f009b&srepoch=1656218726&from=searchresults#hotelTmpl', 'lat': 48.63534943, 'lon': -1.51037872, 'description': \"\\nVous pouvez bénéficier d'une réduction Genius dans l'établissement Les Terrasses Poulard\\xa0! Connectez-vous pour économiser.\\nOccupant 2 bâtiments ... (778 characters truncated) ... uverte 24h/24 avec une bagagerie.\\nLa région constitue un cadre idéal pour diverses activités telles que la pêche, le vélo et la randonnée à pied. \\n\", 'score': '7,3', 'meteo_score': 16}, {'ville': 'Mont Saint Michel', 'hotels': 'Le Saint Aubert', 'liens': 'https://www.booking.com/hotel/fr/hotel-saint-aubert.fr.html?label=gen173nr-1FCAEoggI46AdIDVgEaE2IAQGYAQ24AQbIAQzYAQHoAQH4AQKIAgGoAgO4AuDI35UGwAIB0gIk ... (149 characters truncated) ... no_rooms=1&group_children=0&req_children=0&hpos=5&hapos=5&sr_order=popularity&srpvid=1d9f2172522f009b&srepoch=1656218726&from=searchresults#hotelTmpl', 'lat': 48.61293783, 'lon': -1.51010513, 'description': \"\\nNiché dans un écrin de verdure, à seulement 2 km du Mont-Saint-Michel, Le Saint Aubert vous accueille dans un cadre chaleureux et convivial.\\nCet é ... (237 characters truncated) ... ancienne ferme.\\nLe personnel serviable sera heureux de vous recommander un grand nombre de sites d'intérêt et les visites à faire dans la région. \\n\", 'score': '7,2', 'meteo_score': 16}, {'ville': 'Mont Saint Michel', 'hotels': 'Mercure Mont Saint Michel', 'liens': 'https://www.booking.com/hotel/fr/mont-saint-michel.fr.html?label=gen173nr-1FCAEoggI46AdIDVgEaE2IAQGYAQ24AQbIAQzYAQHoAQH4AQKIAgGoAgO4AuDI35UGwAIB0gIkM ... (179 characters truncated) ... _children=0&hpos=6&hapos=6&sr_order=popularity&srpvid=1d9f2172522f009b&srepoch=1656218726&from_sustainable_property_sr=1&from=searchresults#hotelTmpl', 'lat': 48.61424653, 'lon': -1.51054502, 'description': \"\\nInstallé dans des espaces verts à seulement 2 km de l'abbaye du Mont-Saint-Michel, le Mercure Mont Saint Michel propose des chambres spacieuses ave ... (394 characters truncated) ...  des boissons dans un cadre convivial et décontracté.\\nLe Mercure Mont Saint Michel vous accueille à 6,5 km de Pontorson et à 52 km de Saint-Malo. \\n\", 'score': '8,2', 'meteo_score': 16}, {'ville': 'Mont Saint Michel', 'hotels': 'Hotel Gabriel', 'liens': 'https://www.booking.com/hotel/fr/hotel-gabriel.fr.html?label=gen173nr-1FCAEoggI46AdIDVgEaE2IAQGYAQ24AQbIAQzYAQHoAQH4AQKIAgGoAgO4AuDI35UGwAIB0gIkMTA2N ... (144 characters truncated) ... no_rooms=1&group_children=0&req_children=0&hpos=7&hapos=7&sr_order=popularity&srpvid=1d9f2172522f009b&srepoch=1656218726&from=searchresults#hotelTmpl', 'lat': 48.61538141, 'lon': -1.51070997, 'description': \"\\n\\nVous pouvez bénéficier d'une réduction Genius dans l'établissement Hotel Gabriel\\xa0! Connectez-vous pour économiser.\\nL’Hotel Gabriel se trouve  ... (511 characters truncated) ... l Gabriel est situé à 6 minutes en voiture de l’autoroute E401. Vous séjournerez également à 7,3 km de la gare TGV de Pontorson qui dessert Paris. \\n\", 'score': '8,0', 'meteo_score': 16}, {'ville': 'Mont Saint Michel', 'hotels': 'La Mère Poulard', 'liens': 'https://www.booking.com/hotel/fr/la-mere-poulard.fr.html?label=gen173nr-1FCAEoggI46AdIDVgEaE2IAQGYAQ24AQbIAQzYAQHoAQH4AQKIAgGoAgO4AuDI35UGwAIB0gIkMTA ... (146 characters truncated) ... no_rooms=1&group_children=0&req_children=0&hpos=8&hapos=8&sr_order=popularity&srpvid=1d9f2172522f009b&srepoch=1656218726&from=searchresults#hotelTmpl', 'lat': 48.63508532, 'lon': -1.51053965, 'description': \"\\n\\nVous pouvez bénéficier d'une réduction Genius dans l'établissement La Mère Poulard\\xa0! Connectez-vous pour économiser.\\nOccupant un bâtiment his ... (829 characters truncated) ... es balades à vélo ou bien la visite du Mont-Saint-Michel. Avranches se trouve à 23 minutes de route et Saint-Malo à 45 minutes de La Mère Poulard. \\n\", 'score': '7,2', 'meteo_score': 16}  ... displaying 10 of 875 total bound parameter sets ...  {'ville': 'La Rochelle', 'hotels': 'Studio La Rochelle, 1 pièce, 2 personnes - FR-1-246-27', 'liens': 'https://www.booking.com/hotel/fr/apartment-porte-oceane-3.fr.html?label=gen173nr-1FCAEoggI46AdIDVgEaE2IAQGYAQ24AQbIAQzYAQHoAQH4AQKIAgGoAgO4AuDI35UGwA ... (157 characters truncated) ... _rooms=1&group_children=0&req_children=0&hpos=24&hapos=24&sr_order=popularity&srpvid=d2582179cae40123&srepoch=1656218739&from=searchresults#hotelTmpl', 'lat': 46.13926, 'lon': -1.160848, 'description': \"\\nLe Studio La Rochelle, 1 pièce, 2 personnes - FR-1-246-27 est situé à La Rochelle, à 1,1 km du port de plaisance des Minimes, à 5 km de la Grosse H ... (252 characters truncated) ... t une salle de bains pourvue d'une douche.\\nVous séjournerez à 1,7 km de l'université de La Rochelle et à 1,9 km du musée maritime de La Rochelle. \\n\", 'score': '1.0', 'meteo_score': 15}, {'ville': 'La Rochelle', 'hotels': 'Hôtel Le Rupella', 'liens': 'https://www.booking.com/hotel/fr/le-rupella.fr.html?label=gen173nr-1FCAEoggI46AdIDVgEaE2IAQGYAQ24AQbIAQzYAQHoAQH4AQKIAgGoAgO4AuDI35UGwAIB0gIkMTA2N2I3 ... (143 characters truncated) ... _rooms=1&group_children=0&req_children=0&hpos=25&hapos=25&sr_order=popularity&srpvid=d2582179cae40123&srepoch=1656218739&from=searchresults#hotelTmpl', 'lat': 46.15817494, 'lon': -1.15107, 'description': \"\\nSitué au cœur de La Rochelle, l'Hôtel Le Rupella propose des chambres avec salle de bains privative, connexion Wi-Fi gratuite et bureau, à 10 minut ... (534 characters truncated) ... ception ouverte 24h/24. Enfin, il se trouve à 850 mètres de l'aquarium de la ville et à 5 minutes de route du parc des expositions de La Rochelle. \\n\", 'score': '7,2', 'meteo_score': 15})\n"
     ]
    },
    {
     "name": "stdout",
     "output_type": "stream",
     "text": [
      "2022-06-26 07:43:10,635 INFO sqlalchemy.engine.Engine COMMIT\n"
     ]
    },
    {
     "name": "stderr",
     "output_type": "stream",
     "text": [
      "2022-06-26 07:43:10 [sqlalchemy.engine.Engine] INFO: COMMIT\n"
     ]
    },
    {
     "data": {
      "text/plain": [
       "875"
      ]
     },
     "execution_count": 43,
     "metadata": {},
     "output_type": "execute_result"
    }
   ],
   "source": [
    "df_weather.to_sql(\"meteo\", engine, if_exists=\"replace\", index=False)\n",
    "df_gps_hotels.to_sql(\"hotels\", engine, if_exists=\"replace\", index=False)\n"
   ]
  },
  {
   "cell_type": "code",
   "execution_count": 44,
   "metadata": {},
   "outputs": [
    {
     "name": "stdout",
     "output_type": "stream",
     "text": [
      "2022-06-26 07:43:10,678 INFO sqlalchemy.engine.Engine select relname from pg_class c join pg_namespace n on n.oid=c.relnamespace where pg_catalog.pg_table_is_visible(c.oid) and relname=%(name)s\n"
     ]
    },
    {
     "name": "stderr",
     "output_type": "stream",
     "text": [
      "2022-06-26 07:43:10 [sqlalchemy.engine.Engine] INFO: select relname from pg_class c join pg_namespace n on n.oid=c.relnamespace where pg_catalog.pg_table_is_visible(c.oid) and relname=%(name)s\n"
     ]
    },
    {
     "name": "stdout",
     "output_type": "stream",
     "text": [
      "2022-06-26 07:43:10,679 INFO sqlalchemy.engine.Engine [cached since 2.596s ago] {'name': 'SELECT * FROM meteo'}\n"
     ]
    },
    {
     "name": "stderr",
     "output_type": "stream",
     "text": [
      "2022-06-26 07:43:10 [sqlalchemy.engine.Engine] INFO: [cached since 2.596s ago] {'name': 'SELECT * FROM meteo'}\n"
     ]
    },
    {
     "name": "stdout",
     "output_type": "stream",
     "text": [
      "2022-06-26 07:43:10,704 INFO sqlalchemy.engine.Engine SELECT * FROM meteo\n"
     ]
    },
    {
     "name": "stderr",
     "output_type": "stream",
     "text": [
      "2022-06-26 07:43:10 [sqlalchemy.engine.Engine] INFO: SELECT * FROM meteo\n"
     ]
    },
    {
     "name": "stdout",
     "output_type": "stream",
     "text": [
      "2022-06-26 07:43:10,704 INFO sqlalchemy.engine.Engine [generated in 0.00069s] {}\n"
     ]
    },
    {
     "name": "stderr",
     "output_type": "stream",
     "text": [
      "2022-06-26 07:43:10 [sqlalchemy.engine.Engine] INFO: [generated in 0.00069s] {}\n"
     ]
    },
    {
     "data": {
      "text/html": [
       "<div>\n",
       "<style scoped>\n",
       "    .dataframe tbody tr th:only-of-type {\n",
       "        vertical-align: middle;\n",
       "    }\n",
       "\n",
       "    .dataframe tbody tr th {\n",
       "        vertical-align: top;\n",
       "    }\n",
       "\n",
       "    .dataframe thead th {\n",
       "        text-align: right;\n",
       "    }\n",
       "</style>\n",
       "<table border=\"1\" class=\"dataframe\">\n",
       "  <thead>\n",
       "    <tr style=\"text-align: right;\">\n",
       "      <th></th>\n",
       "      <th>ville</th>\n",
       "      <th>lat</th>\n",
       "      <th>lon</th>\n",
       "      <th>score</th>\n",
       "      <th>jour_+x</th>\n",
       "      <th>temperature_ressentie</th>\n",
       "      <th>probabilite_de_pluie</th>\n",
       "      <th>meteo_principale</th>\n",
       "      <th>Temp_moyenne_7jours</th>\n",
       "      <th>Proba_pluie_7jours</th>\n",
       "      <th>scale_temp</th>\n",
       "      <th>scale_pluie</th>\n",
       "    </tr>\n",
       "  </thead>\n",
       "  <tbody>\n",
       "    <tr>\n",
       "      <th>0</th>\n",
       "      <td>Mont Saint Michel</td>\n",
       "      <td>48.635954</td>\n",
       "      <td>-1.511460</td>\n",
       "      <td>16</td>\n",
       "      <td>{1,2,3,4,5,6,7}</td>\n",
       "      <td>{17,20,20,17,19,21,19}</td>\n",
       "      <td>{52,0,15,62,37,0,0}</td>\n",
       "      <td>{Rain,Clouds,Clouds,Rain,Rain,Clouds,Clear}</td>\n",
       "      <td>19.0000</td>\n",
       "      <td>23.7143</td>\n",
       "      <td>3.752806</td>\n",
       "      <td>4.979757</td>\n",
       "    </tr>\n",
       "    <tr>\n",
       "      <th>1</th>\n",
       "      <td>St Malo</td>\n",
       "      <td>48.649518</td>\n",
       "      <td>-2.026041</td>\n",
       "      <td>15</td>\n",
       "      <td>{1,2,3,4,5,6,7}</td>\n",
       "      <td>{15,19,18,16,16,20,17}</td>\n",
       "      <td>{47,0,9,53,48,0,0}</td>\n",
       "      <td>{Rain,Clouds,Clouds,Rain,Rain,Clouds,Clouds}</td>\n",
       "      <td>17.2857</td>\n",
       "      <td>22.4286</td>\n",
       "      <td>1.393238</td>\n",
       "      <td>4.489109</td>\n",
       "    </tr>\n",
       "    <tr>\n",
       "      <th>2</th>\n",
       "      <td>Bayeux</td>\n",
       "      <td>49.276462</td>\n",
       "      <td>-0.702474</td>\n",
       "      <td>15</td>\n",
       "      <td>{1,2,3,4,5,6,7}</td>\n",
       "      <td>{17,20,21,14,19,22,20}</td>\n",
       "      <td>{65,0,38,71,46,0,0}</td>\n",
       "      <td>{Rain,Clouds,Clouds,Rain,Rain,Clouds,Clouds}</td>\n",
       "      <td>19.0000</td>\n",
       "      <td>31.4286</td>\n",
       "      <td>3.752806</td>\n",
       "      <td>7.923684</td>\n",
       "    </tr>\n",
       "    <tr>\n",
       "      <th>3</th>\n",
       "      <td>Le Havre</td>\n",
       "      <td>49.493898</td>\n",
       "      <td>0.107973</td>\n",
       "      <td>13</td>\n",
       "      <td>{1,2,3,4,5,6,7}</td>\n",
       "      <td>{17,18,19,14,17,18,16}</td>\n",
       "      <td>{32,0,60,98,50,0,0}</td>\n",
       "      <td>{Clear,Clouds,Rain,Rain,Rain,Clouds,Clear}</td>\n",
       "      <td>17.0000</td>\n",
       "      <td>34.2857</td>\n",
       "      <td>1.000000</td>\n",
       "      <td>9.014009</td>\n",
       "    </tr>\n",
       "    <tr>\n",
       "      <th>4</th>\n",
       "      <td>Rouen</td>\n",
       "      <td>49.440459</td>\n",
       "      <td>1.093966</td>\n",
       "      <td>16</td>\n",
       "      <td>{1,2,3,4,5,6,7}</td>\n",
       "      <td>{19,22,22,16,18,21,21}</td>\n",
       "      <td>{24,0,18,100,70,0,0}</td>\n",
       "      <td>{Clear,Clouds,Clouds,Rain,Rain,Clouds,Clear}</td>\n",
       "      <td>19.8571</td>\n",
       "      <td>30.2857</td>\n",
       "      <td>4.932521</td>\n",
       "      <td>7.487531</td>\n",
       "    </tr>\n",
       "    <tr>\n",
       "      <th>5</th>\n",
       "      <td>Paris</td>\n",
       "      <td>48.858890</td>\n",
       "      <td>2.320041</td>\n",
       "      <td>20</td>\n",
       "      <td>{1,2,3,4,5,6,7}</td>\n",
       "      <td>{21,23,24,22,20,23,24}</td>\n",
       "      <td>{2,0,0,81,61,0,0}</td>\n",
       "      <td>{Clouds,Clouds,Clouds,Rain,Rain,Clouds,Clear}</td>\n",
       "      <td>22.4286</td>\n",
       "      <td>20.5714</td>\n",
       "      <td>8.471941</td>\n",
       "      <td>3.780365</td>\n",
       "    </tr>\n",
       "    <tr>\n",
       "      <th>6</th>\n",
       "      <td>Amiens</td>\n",
       "      <td>49.894171</td>\n",
       "      <td>2.295695</td>\n",
       "      <td>16</td>\n",
       "      <td>{1,2,3,4,5,6,7}</td>\n",
       "      <td>{20,22,23,15,18,21,21}</td>\n",
       "      <td>{37,0,0,96,86,0,0}</td>\n",
       "      <td>{Clouds,Clear,Clouds,Rain,Rain,Clouds,Clear}</td>\n",
       "      <td>20.0000</td>\n",
       "      <td>31.2857</td>\n",
       "      <td>5.129209</td>\n",
       "      <td>7.869150</td>\n",
       "    </tr>\n",
       "    <tr>\n",
       "      <th>7</th>\n",
       "      <td>Lille</td>\n",
       "      <td>50.636565</td>\n",
       "      <td>3.063528</td>\n",
       "      <td>18</td>\n",
       "      <td>{1,2,3,4,5,6,7}</td>\n",
       "      <td>{20,22,24,19,20,21,22}</td>\n",
       "      <td>{57,0,0,61,94,0,0}</td>\n",
       "      <td>{Rain,Clear,Clouds,Rain,Rain,Clouds,Clouds}</td>\n",
       "      <td>21.1429</td>\n",
       "      <td>30.2857</td>\n",
       "      <td>6.702300</td>\n",
       "      <td>7.487531</td>\n",
       "    </tr>\n",
       "    <tr>\n",
       "      <th>8</th>\n",
       "      <td>Strasbourg</td>\n",
       "      <td>48.584614</td>\n",
       "      <td>7.750713</td>\n",
       "      <td>19</td>\n",
       "      <td>{1,2,3,4,5,6,7}</td>\n",
       "      <td>{19,23,23,29,15,24,28}</td>\n",
       "      <td>{100,16,20,21,100,20,0}</td>\n",
       "      <td>{Rain,Clouds,Clouds,Clear,Rain,Rain,Clear}</td>\n",
       "      <td>23.0000</td>\n",
       "      <td>39.5714</td>\n",
       "      <td>9.258418</td>\n",
       "      <td>11.031135</td>\n",
       "    </tr>\n",
       "    <tr>\n",
       "      <th>9</th>\n",
       "      <td>Chateau du Haut Koenigsbourg</td>\n",
       "      <td>48.249523</td>\n",
       "      <td>7.345492</td>\n",
       "      <td>16</td>\n",
       "      <td>{1,2,3,4,5,6,7}</td>\n",
       "      <td>{15,20,22,26,12,21,26}</td>\n",
       "      <td>{100,2,18,60,100,20,0}</td>\n",
       "      <td>{Rain,Clouds,Clouds,Clear,Rain,Rain,Clear}</td>\n",
       "      <td>20.2857</td>\n",
       "      <td>42.8571</td>\n",
       "      <td>5.522447</td>\n",
       "      <td>12.285022</td>\n",
       "    </tr>\n",
       "    <tr>\n",
       "      <th>10</th>\n",
       "      <td>Colmar</td>\n",
       "      <td>48.077752</td>\n",
       "      <td>7.357964</td>\n",
       "      <td>19</td>\n",
       "      <td>{1,2,3,4,5,6,7}</td>\n",
       "      <td>{19,23,26,30,15,24,28}</td>\n",
       "      <td>{100,2,19,62,100,0,0}</td>\n",
       "      <td>{Rain,Clouds,Clouds,Rain,Rain,Clear,Clear}</td>\n",
       "      <td>23.5714</td>\n",
       "      <td>40.4286</td>\n",
       "      <td>10.044894</td>\n",
       "      <td>11.358259</td>\n",
       "    </tr>\n",
       "    <tr>\n",
       "      <th>11</th>\n",
       "      <td>Eguisheim</td>\n",
       "      <td>48.044797</td>\n",
       "      <td>7.307962</td>\n",
       "      <td>18</td>\n",
       "      <td>{1,2,3,4,5,6,7}</td>\n",
       "      <td>{19,23,25,29,15,24,28}</td>\n",
       "      <td>{100,1,20,67,100,20,0}</td>\n",
       "      <td>{Rain,Clouds,Clouds,Rain,Rain,Rain,Clear}</td>\n",
       "      <td>23.2857</td>\n",
       "      <td>44.0000</td>\n",
       "      <td>9.651656</td>\n",
       "      <td>12.721175</td>\n",
       "    </tr>\n",
       "    <tr>\n",
       "      <th>12</th>\n",
       "      <td>Besancon</td>\n",
       "      <td>47.238022</td>\n",
       "      <td>6.024362</td>\n",
       "      <td>17</td>\n",
       "      <td>{1,2,3,4,5,6,7}</td>\n",
       "      <td>{15,22,26,29,13,23,26}</td>\n",
       "      <td>{100,16,9,100,100,0,0}</td>\n",
       "      <td>{Rain,Clouds,Clouds,Rain,Rain,Clear,Clear}</td>\n",
       "      <td>22.0000</td>\n",
       "      <td>46.4286</td>\n",
       "      <td>7.882015</td>\n",
       "      <td>13.647976</td>\n",
       "    </tr>\n",
       "    <tr>\n",
       "      <th>13</th>\n",
       "      <td>Dijon</td>\n",
       "      <td>47.321581</td>\n",
       "      <td>5.041470</td>\n",
       "      <td>18</td>\n",
       "      <td>{1,2,3,4,5,6,7}</td>\n",
       "      <td>{16,22,25,28,18,23,26}</td>\n",
       "      <td>{100,0,0,100,100,0,0}</td>\n",
       "      <td>{Rain,Clear,Clear,Rain,Rain,Clear,Clear}</td>\n",
       "      <td>22.5714</td>\n",
       "      <td>42.8571</td>\n",
       "      <td>8.668491</td>\n",
       "      <td>12.285022</td>\n",
       "    </tr>\n",
       "    <tr>\n",
       "      <th>14</th>\n",
       "      <td>Annecy</td>\n",
       "      <td>45.899235</td>\n",
       "      <td>6.128885</td>\n",
       "      <td>17</td>\n",
       "      <td>{1,2,3,4,5,6,7}</td>\n",
       "      <td>{18,18,27,30,17,24,29}</td>\n",
       "      <td>{100,96,21,95,93,9,0}</td>\n",
       "      <td>{Rain,Rain,Rain,Rain,Rain,Clouds,Clear}</td>\n",
       "      <td>23.2857</td>\n",
       "      <td>59.1429</td>\n",
       "      <td>9.651656</td>\n",
       "      <td>18.500000</td>\n",
       "    </tr>\n",
       "    <tr>\n",
       "      <th>15</th>\n",
       "      <td>Grenoble</td>\n",
       "      <td>45.187560</td>\n",
       "      <td>5.735782</td>\n",
       "      <td>21</td>\n",
       "      <td>{1,2,3,4,5,6,7}</td>\n",
       "      <td>{22,19,28,32,20,27,32}</td>\n",
       "      <td>{87,100,0,55,47,13,0}</td>\n",
       "      <td>{Rain,Rain,Clouds,Rain,Rain,Clear,Clear}</td>\n",
       "      <td>25.7143</td>\n",
       "      <td>43.1429</td>\n",
       "      <td>12.994388</td>\n",
       "      <td>12.394089</td>\n",
       "    </tr>\n",
       "    <tr>\n",
       "      <th>16</th>\n",
       "      <td>Lyon</td>\n",
       "      <td>45.757814</td>\n",
       "      <td>4.832011</td>\n",
       "      <td>19</td>\n",
       "      <td>{1,2,3,4,5,6,7}</td>\n",
       "      <td>{17,22,26,29,16,25,29}</td>\n",
       "      <td>{100,46,0,74,55,0,0}</td>\n",
       "      <td>{Rain,Rain,Clear,Rain,Rain,Clear,Clear}</td>\n",
       "      <td>23.4286</td>\n",
       "      <td>39.2857</td>\n",
       "      <td>9.848344</td>\n",
       "      <td>10.922106</td>\n",
       "    </tr>\n",
       "    <tr>\n",
       "      <th>17</th>\n",
       "      <td>Gorges du Verdon</td>\n",
       "      <td>43.846218</td>\n",
       "      <td>6.513181</td>\n",
       "      <td>24</td>\n",
       "      <td>{1,2,3,4,5,6,7}</td>\n",
       "      <td>{29,24,27,28,28,28,31}</td>\n",
       "      <td>{43,100,0,54,24,16,0}</td>\n",
       "      <td>{Clear,Rain,Clear,Rain,Clear,Clear,Clear}</td>\n",
       "      <td>27.8571</td>\n",
       "      <td>33.8571</td>\n",
       "      <td>15.943744</td>\n",
       "      <td>8.850447</td>\n",
       "    </tr>\n",
       "    <tr>\n",
       "      <th>18</th>\n",
       "      <td>Bormes les Mimosas</td>\n",
       "      <td>43.157217</td>\n",
       "      <td>6.329254</td>\n",
       "      <td>25</td>\n",
       "      <td>{1,2,3,4,5,6,7}</td>\n",
       "      <td>{29,23,29,28,27,27,29}</td>\n",
       "      <td>{3,93,0,56,0,0,0}</td>\n",
       "      <td>{Clear,Rain,Clear,Rain,Clouds,Clear,Clear}</td>\n",
       "      <td>27.4286</td>\n",
       "      <td>21.7143</td>\n",
       "      <td>15.353956</td>\n",
       "      <td>4.216518</td>\n",
       "    </tr>\n",
       "    <tr>\n",
       "      <th>19</th>\n",
       "      <td>Cassis</td>\n",
       "      <td>43.214036</td>\n",
       "      <td>5.539632</td>\n",
       "      <td>26</td>\n",
       "      <td>{1,2,3,4,5,6,7}</td>\n",
       "      <td>{29,26,28,26,28,28,30}</td>\n",
       "      <td>{10,67,0,45,0,0,0}</td>\n",
       "      <td>{Clouds,Rain,Clear,Rain,Clear,Clear,Clear}</td>\n",
       "      <td>27.8571</td>\n",
       "      <td>17.4286</td>\n",
       "      <td>15.943744</td>\n",
       "      <td>2.581011</td>\n",
       "    </tr>\n",
       "    <tr>\n",
       "      <th>20</th>\n",
       "      <td>Marseille</td>\n",
       "      <td>43.296174</td>\n",
       "      <td>5.369953</td>\n",
       "      <td>26</td>\n",
       "      <td>{1,2,3,4,5,6,7}</td>\n",
       "      <td>{29,26,28,26,28,28,30}</td>\n",
       "      <td>{12,79,0,36,0,0,0}</td>\n",
       "      <td>{Clouds,Rain,Clear,Rain,Clear,Clear,Clear}</td>\n",
       "      <td>27.8571</td>\n",
       "      <td>18.1429</td>\n",
       "      <td>15.943744</td>\n",
       "      <td>2.853602</td>\n",
       "    </tr>\n",
       "    <tr>\n",
       "      <th>21</th>\n",
       "      <td>Aix en Provence</td>\n",
       "      <td>43.529842</td>\n",
       "      <td>5.447474</td>\n",
       "      <td>27</td>\n",
       "      <td>{1,2,3,4,5,6,7}</td>\n",
       "      <td>{31,28,29,29,29,29,33}</td>\n",
       "      <td>{28,76,0,40,0,0,0}</td>\n",
       "      <td>{Clouds,Rain,Clear,Rain,Clear,Clear,Clear}</td>\n",
       "      <td>29.7143</td>\n",
       "      <td>20.5714</td>\n",
       "      <td>18.500000</td>\n",
       "      <td>3.780365</td>\n",
       "    </tr>\n",
       "    <tr>\n",
       "      <th>22</th>\n",
       "      <td>Avignon</td>\n",
       "      <td>43.949249</td>\n",
       "      <td>4.805901</td>\n",
       "      <td>27</td>\n",
       "      <td>{1,2,3,4,5,6,7}</td>\n",
       "      <td>{29,25,29,31,27,28,34}</td>\n",
       "      <td>{15,99,0,2,0,0,0}</td>\n",
       "      <td>{Clouds,Rain,Clear,Clouds,Clear,Clear,Clear}</td>\n",
       "      <td>29.0000</td>\n",
       "      <td>16.5714</td>\n",
       "      <td>17.516835</td>\n",
       "      <td>2.253887</td>\n",
       "    </tr>\n",
       "    <tr>\n",
       "      <th>23</th>\n",
       "      <td>Uzes</td>\n",
       "      <td>44.012128</td>\n",
       "      <td>4.419672</td>\n",
       "      <td>27</td>\n",
       "      <td>{1,2,3,4,5,6,7}</td>\n",
       "      <td>{28,26,30,30,27,29,34}</td>\n",
       "      <td>{15,96,0,0,1,0,0}</td>\n",
       "      <td>{Clouds,Rain,Clear,Clouds,Clear,Clear,Clear}</td>\n",
       "      <td>29.1429</td>\n",
       "      <td>16.0000</td>\n",
       "      <td>17.713523</td>\n",
       "      <td>2.035830</td>\n",
       "    </tr>\n",
       "    <tr>\n",
       "      <th>24</th>\n",
       "      <td>Nimes</td>\n",
       "      <td>43.837425</td>\n",
       "      <td>4.360069</td>\n",
       "      <td>27</td>\n",
       "      <td>{1,2,3,4,5,6,7}</td>\n",
       "      <td>{29,27,29,29,28,29,34}</td>\n",
       "      <td>{11,95,0,0,1,0,0}</td>\n",
       "      <td>{Clouds,Rain,Clear,Clouds,Clear,Clear,Clear}</td>\n",
       "      <td>29.2857</td>\n",
       "      <td>15.2857</td>\n",
       "      <td>17.910074</td>\n",
       "      <td>1.763239</td>\n",
       "    </tr>\n",
       "    <tr>\n",
       "      <th>25</th>\n",
       "      <td>Aigues Mortes</td>\n",
       "      <td>43.565823</td>\n",
       "      <td>4.191284</td>\n",
       "      <td>25</td>\n",
       "      <td>{1,2,3,4,5,6,7}</td>\n",
       "      <td>{28,26,27,25,27,27,30}</td>\n",
       "      <td>{7,85,0,0,1,0,0}</td>\n",
       "      <td>{Clouds,Rain,Clear,Clouds,Clear,Clear,Clear}</td>\n",
       "      <td>27.1429</td>\n",
       "      <td>13.2857</td>\n",
       "      <td>14.960717</td>\n",
       "      <td>1.000000</td>\n",
       "    </tr>\n",
       "    <tr>\n",
       "      <th>26</th>\n",
       "      <td>Saintes Maries de la mer</td>\n",
       "      <td>43.452277</td>\n",
       "      <td>4.428717</td>\n",
       "      <td>25</td>\n",
       "      <td>{1,2,3,4,5,6,7}</td>\n",
       "      <td>{27,25,26,24,27,26,30}</td>\n",
       "      <td>{1,93,0,1,0,0,0}</td>\n",
       "      <td>{Clouds,Rain,Clear,Clouds,Clear,Clear,Clear}</td>\n",
       "      <td>26.4286</td>\n",
       "      <td>13.5714</td>\n",
       "      <td>13.977553</td>\n",
       "      <td>1.109029</td>\n",
       "    </tr>\n",
       "    <tr>\n",
       "      <th>27</th>\n",
       "      <td>Collioure</td>\n",
       "      <td>42.525050</td>\n",
       "      <td>3.083155</td>\n",
       "      <td>25</td>\n",
       "      <td>{1,2,3,4,5,6,7}</td>\n",
       "      <td>{26,27,28,26,24,27,28}</td>\n",
       "      <td>{36,56,0,8,0,0,0}</td>\n",
       "      <td>{Rain,Rain,Clear,Clouds,Clear,Clear,Clear}</td>\n",
       "      <td>26.5714</td>\n",
       "      <td>14.2857</td>\n",
       "      <td>14.174103</td>\n",
       "      <td>1.381619</td>\n",
       "    </tr>\n",
       "    <tr>\n",
       "      <th>28</th>\n",
       "      <td>Carcassonne</td>\n",
       "      <td>43.213036</td>\n",
       "      <td>2.349107</td>\n",
       "      <td>22</td>\n",
       "      <td>{1,2,3,4,5,6,7}</td>\n",
       "      <td>{20,24,29,21,21,28,33}</td>\n",
       "      <td>{54,62,0,52,27,0,22}</td>\n",
       "      <td>{Rain,Rain,Clear,Rain,Rain,Clear,Rain}</td>\n",
       "      <td>25.1429</td>\n",
       "      <td>31.0000</td>\n",
       "      <td>12.207912</td>\n",
       "      <td>7.760122</td>\n",
       "    </tr>\n",
       "    <tr>\n",
       "      <th>29</th>\n",
       "      <td>Ariege</td>\n",
       "      <td>42.963900</td>\n",
       "      <td>1.605381</td>\n",
       "      <td>16</td>\n",
       "      <td>{1,2,3,4,5,6,7}</td>\n",
       "      <td>{15,22,27,18,15,26,30}</td>\n",
       "      <td>{97,97,2,79,59,0,48}</td>\n",
       "      <td>{Rain,Rain,Clear,Rain,Rain,Clear,Rain}</td>\n",
       "      <td>21.8571</td>\n",
       "      <td>54.5714</td>\n",
       "      <td>7.685327</td>\n",
       "      <td>16.755427</td>\n",
       "    </tr>\n",
       "    <tr>\n",
       "      <th>30</th>\n",
       "      <td>Toulouse</td>\n",
       "      <td>43.604462</td>\n",
       "      <td>1.444247</td>\n",
       "      <td>17</td>\n",
       "      <td>{1,2,3,4,5,6,7}</td>\n",
       "      <td>{14,22,27,20,18,26,30}</td>\n",
       "      <td>{81,57,0,96,41,0,52}</td>\n",
       "      <td>{Rain,Clouds,Clear,Rain,Clouds,Clear,Rain}</td>\n",
       "      <td>22.4286</td>\n",
       "      <td>46.7143</td>\n",
       "      <td>8.471941</td>\n",
       "      <td>13.757004</td>\n",
       "    </tr>\n",
       "    <tr>\n",
       "      <th>31</th>\n",
       "      <td>Montauban</td>\n",
       "      <td>44.017584</td>\n",
       "      <td>1.354999</td>\n",
       "      <td>17</td>\n",
       "      <td>{1,2,3,4,5,6,7}</td>\n",
       "      <td>{15,22,26,17,20,26,29}</td>\n",
       "      <td>{93,22,0,97,52,0,48}</td>\n",
       "      <td>{Rain,Clouds,Clear,Rain,Rain,Clear,Rain}</td>\n",
       "      <td>22.1429</td>\n",
       "      <td>44.5714</td>\n",
       "      <td>8.078703</td>\n",
       "      <td>12.939232</td>\n",
       "    </tr>\n",
       "    <tr>\n",
       "      <th>32</th>\n",
       "      <td>Biarritz</td>\n",
       "      <td>43.483252</td>\n",
       "      <td>-1.559278</td>\n",
       "      <td>14</td>\n",
       "      <td>{1,2,3,4,5,6,7}</td>\n",
       "      <td>{16,21,19,16,18,24,22}</td>\n",
       "      <td>{37,0,100,100,27,0,100}</td>\n",
       "      <td>{Rain,Clouds,Rain,Rain,Rain,Clouds,Rain}</td>\n",
       "      <td>19.4286</td>\n",
       "      <td>52.0000</td>\n",
       "      <td>4.342732</td>\n",
       "      <td>15.774130</td>\n",
       "    </tr>\n",
       "    <tr>\n",
       "      <th>33</th>\n",
       "      <td>Bayonne</td>\n",
       "      <td>43.493338</td>\n",
       "      <td>-1.475099</td>\n",
       "      <td>14</td>\n",
       "      <td>{1,2,3,4,5,6,7}</td>\n",
       "      <td>{16,22,20,16,18,25,23}</td>\n",
       "      <td>{36,0,100,100,28,0,100}</td>\n",
       "      <td>{Rain,Clear,Rain,Rain,Rain,Clouds,Rain}</td>\n",
       "      <td>20.0000</td>\n",
       "      <td>52.0000</td>\n",
       "      <td>5.129209</td>\n",
       "      <td>15.774130</td>\n",
       "    </tr>\n",
       "    <tr>\n",
       "      <th>34</th>\n",
       "      <td>La Rochelle</td>\n",
       "      <td>46.159113</td>\n",
       "      <td>-1.152043</td>\n",
       "      <td>15</td>\n",
       "      <td>{1,2,3,4,5,6,7}</td>\n",
       "      <td>{17,18,19,14,17,18,21}</td>\n",
       "      <td>{0,0,2,98,35,0,1}</td>\n",
       "      <td>{Clear,Clear,Clouds,Rain,Rain,Clear,Clouds}</td>\n",
       "      <td>17.7143</td>\n",
       "      <td>19.4286</td>\n",
       "      <td>1.983165</td>\n",
       "      <td>3.344250</td>\n",
       "    </tr>\n",
       "  </tbody>\n",
       "</table>\n",
       "</div>"
      ],
      "text/plain": [
       "                           ville        lat       lon  score          jour_+x  \\\n",
       "0              Mont Saint Michel  48.635954 -1.511460     16  {1,2,3,4,5,6,7}   \n",
       "1                        St Malo  48.649518 -2.026041     15  {1,2,3,4,5,6,7}   \n",
       "2                         Bayeux  49.276462 -0.702474     15  {1,2,3,4,5,6,7}   \n",
       "3                       Le Havre  49.493898  0.107973     13  {1,2,3,4,5,6,7}   \n",
       "4                          Rouen  49.440459  1.093966     16  {1,2,3,4,5,6,7}   \n",
       "5                          Paris  48.858890  2.320041     20  {1,2,3,4,5,6,7}   \n",
       "6                         Amiens  49.894171  2.295695     16  {1,2,3,4,5,6,7}   \n",
       "7                          Lille  50.636565  3.063528     18  {1,2,3,4,5,6,7}   \n",
       "8                     Strasbourg  48.584614  7.750713     19  {1,2,3,4,5,6,7}   \n",
       "9   Chateau du Haut Koenigsbourg  48.249523  7.345492     16  {1,2,3,4,5,6,7}   \n",
       "10                        Colmar  48.077752  7.357964     19  {1,2,3,4,5,6,7}   \n",
       "11                     Eguisheim  48.044797  7.307962     18  {1,2,3,4,5,6,7}   \n",
       "12                      Besancon  47.238022  6.024362     17  {1,2,3,4,5,6,7}   \n",
       "13                         Dijon  47.321581  5.041470     18  {1,2,3,4,5,6,7}   \n",
       "14                        Annecy  45.899235  6.128885     17  {1,2,3,4,5,6,7}   \n",
       "15                      Grenoble  45.187560  5.735782     21  {1,2,3,4,5,6,7}   \n",
       "16                          Lyon  45.757814  4.832011     19  {1,2,3,4,5,6,7}   \n",
       "17              Gorges du Verdon  43.846218  6.513181     24  {1,2,3,4,5,6,7}   \n",
       "18            Bormes les Mimosas  43.157217  6.329254     25  {1,2,3,4,5,6,7}   \n",
       "19                        Cassis  43.214036  5.539632     26  {1,2,3,4,5,6,7}   \n",
       "20                     Marseille  43.296174  5.369953     26  {1,2,3,4,5,6,7}   \n",
       "21               Aix en Provence  43.529842  5.447474     27  {1,2,3,4,5,6,7}   \n",
       "22                       Avignon  43.949249  4.805901     27  {1,2,3,4,5,6,7}   \n",
       "23                          Uzes  44.012128  4.419672     27  {1,2,3,4,5,6,7}   \n",
       "24                         Nimes  43.837425  4.360069     27  {1,2,3,4,5,6,7}   \n",
       "25                 Aigues Mortes  43.565823  4.191284     25  {1,2,3,4,5,6,7}   \n",
       "26      Saintes Maries de la mer  43.452277  4.428717     25  {1,2,3,4,5,6,7}   \n",
       "27                     Collioure  42.525050  3.083155     25  {1,2,3,4,5,6,7}   \n",
       "28                   Carcassonne  43.213036  2.349107     22  {1,2,3,4,5,6,7}   \n",
       "29                        Ariege  42.963900  1.605381     16  {1,2,3,4,5,6,7}   \n",
       "30                      Toulouse  43.604462  1.444247     17  {1,2,3,4,5,6,7}   \n",
       "31                     Montauban  44.017584  1.354999     17  {1,2,3,4,5,6,7}   \n",
       "32                      Biarritz  43.483252 -1.559278     14  {1,2,3,4,5,6,7}   \n",
       "33                       Bayonne  43.493338 -1.475099     14  {1,2,3,4,5,6,7}   \n",
       "34                   La Rochelle  46.159113 -1.152043     15  {1,2,3,4,5,6,7}   \n",
       "\n",
       "     temperature_ressentie     probabilite_de_pluie  \\\n",
       "0   {17,20,20,17,19,21,19}      {52,0,15,62,37,0,0}   \n",
       "1   {15,19,18,16,16,20,17}       {47,0,9,53,48,0,0}   \n",
       "2   {17,20,21,14,19,22,20}      {65,0,38,71,46,0,0}   \n",
       "3   {17,18,19,14,17,18,16}      {32,0,60,98,50,0,0}   \n",
       "4   {19,22,22,16,18,21,21}     {24,0,18,100,70,0,0}   \n",
       "5   {21,23,24,22,20,23,24}        {2,0,0,81,61,0,0}   \n",
       "6   {20,22,23,15,18,21,21}       {37,0,0,96,86,0,0}   \n",
       "7   {20,22,24,19,20,21,22}       {57,0,0,61,94,0,0}   \n",
       "8   {19,23,23,29,15,24,28}  {100,16,20,21,100,20,0}   \n",
       "9   {15,20,22,26,12,21,26}   {100,2,18,60,100,20,0}   \n",
       "10  {19,23,26,30,15,24,28}    {100,2,19,62,100,0,0}   \n",
       "11  {19,23,25,29,15,24,28}   {100,1,20,67,100,20,0}   \n",
       "12  {15,22,26,29,13,23,26}   {100,16,9,100,100,0,0}   \n",
       "13  {16,22,25,28,18,23,26}    {100,0,0,100,100,0,0}   \n",
       "14  {18,18,27,30,17,24,29}    {100,96,21,95,93,9,0}   \n",
       "15  {22,19,28,32,20,27,32}    {87,100,0,55,47,13,0}   \n",
       "16  {17,22,26,29,16,25,29}     {100,46,0,74,55,0,0}   \n",
       "17  {29,24,27,28,28,28,31}    {43,100,0,54,24,16,0}   \n",
       "18  {29,23,29,28,27,27,29}        {3,93,0,56,0,0,0}   \n",
       "19  {29,26,28,26,28,28,30}       {10,67,0,45,0,0,0}   \n",
       "20  {29,26,28,26,28,28,30}       {12,79,0,36,0,0,0}   \n",
       "21  {31,28,29,29,29,29,33}       {28,76,0,40,0,0,0}   \n",
       "22  {29,25,29,31,27,28,34}        {15,99,0,2,0,0,0}   \n",
       "23  {28,26,30,30,27,29,34}        {15,96,0,0,1,0,0}   \n",
       "24  {29,27,29,29,28,29,34}        {11,95,0,0,1,0,0}   \n",
       "25  {28,26,27,25,27,27,30}         {7,85,0,0,1,0,0}   \n",
       "26  {27,25,26,24,27,26,30}         {1,93,0,1,0,0,0}   \n",
       "27  {26,27,28,26,24,27,28}        {36,56,0,8,0,0,0}   \n",
       "28  {20,24,29,21,21,28,33}     {54,62,0,52,27,0,22}   \n",
       "29  {15,22,27,18,15,26,30}     {97,97,2,79,59,0,48}   \n",
       "30  {14,22,27,20,18,26,30}     {81,57,0,96,41,0,52}   \n",
       "31  {15,22,26,17,20,26,29}     {93,22,0,97,52,0,48}   \n",
       "32  {16,21,19,16,18,24,22}  {37,0,100,100,27,0,100}   \n",
       "33  {16,22,20,16,18,25,23}  {36,0,100,100,28,0,100}   \n",
       "34  {17,18,19,14,17,18,21}        {0,0,2,98,35,0,1}   \n",
       "\n",
       "                                 meteo_principale  Temp_moyenne_7jours  \\\n",
       "0     {Rain,Clouds,Clouds,Rain,Rain,Clouds,Clear}              19.0000   \n",
       "1    {Rain,Clouds,Clouds,Rain,Rain,Clouds,Clouds}              17.2857   \n",
       "2    {Rain,Clouds,Clouds,Rain,Rain,Clouds,Clouds}              19.0000   \n",
       "3      {Clear,Clouds,Rain,Rain,Rain,Clouds,Clear}              17.0000   \n",
       "4    {Clear,Clouds,Clouds,Rain,Rain,Clouds,Clear}              19.8571   \n",
       "5   {Clouds,Clouds,Clouds,Rain,Rain,Clouds,Clear}              22.4286   \n",
       "6    {Clouds,Clear,Clouds,Rain,Rain,Clouds,Clear}              20.0000   \n",
       "7     {Rain,Clear,Clouds,Rain,Rain,Clouds,Clouds}              21.1429   \n",
       "8      {Rain,Clouds,Clouds,Clear,Rain,Rain,Clear}              23.0000   \n",
       "9      {Rain,Clouds,Clouds,Clear,Rain,Rain,Clear}              20.2857   \n",
       "10     {Rain,Clouds,Clouds,Rain,Rain,Clear,Clear}              23.5714   \n",
       "11      {Rain,Clouds,Clouds,Rain,Rain,Rain,Clear}              23.2857   \n",
       "12     {Rain,Clouds,Clouds,Rain,Rain,Clear,Clear}              22.0000   \n",
       "13       {Rain,Clear,Clear,Rain,Rain,Clear,Clear}              22.5714   \n",
       "14        {Rain,Rain,Rain,Rain,Rain,Clouds,Clear}              23.2857   \n",
       "15       {Rain,Rain,Clouds,Rain,Rain,Clear,Clear}              25.7143   \n",
       "16        {Rain,Rain,Clear,Rain,Rain,Clear,Clear}              23.4286   \n",
       "17      {Clear,Rain,Clear,Rain,Clear,Clear,Clear}              27.8571   \n",
       "18     {Clear,Rain,Clear,Rain,Clouds,Clear,Clear}              27.4286   \n",
       "19     {Clouds,Rain,Clear,Rain,Clear,Clear,Clear}              27.8571   \n",
       "20     {Clouds,Rain,Clear,Rain,Clear,Clear,Clear}              27.8571   \n",
       "21     {Clouds,Rain,Clear,Rain,Clear,Clear,Clear}              29.7143   \n",
       "22   {Clouds,Rain,Clear,Clouds,Clear,Clear,Clear}              29.0000   \n",
       "23   {Clouds,Rain,Clear,Clouds,Clear,Clear,Clear}              29.1429   \n",
       "24   {Clouds,Rain,Clear,Clouds,Clear,Clear,Clear}              29.2857   \n",
       "25   {Clouds,Rain,Clear,Clouds,Clear,Clear,Clear}              27.1429   \n",
       "26   {Clouds,Rain,Clear,Clouds,Clear,Clear,Clear}              26.4286   \n",
       "27     {Rain,Rain,Clear,Clouds,Clear,Clear,Clear}              26.5714   \n",
       "28         {Rain,Rain,Clear,Rain,Rain,Clear,Rain}              25.1429   \n",
       "29         {Rain,Rain,Clear,Rain,Rain,Clear,Rain}              21.8571   \n",
       "30     {Rain,Clouds,Clear,Rain,Clouds,Clear,Rain}              22.4286   \n",
       "31       {Rain,Clouds,Clear,Rain,Rain,Clear,Rain}              22.1429   \n",
       "32       {Rain,Clouds,Rain,Rain,Rain,Clouds,Rain}              19.4286   \n",
       "33        {Rain,Clear,Rain,Rain,Rain,Clouds,Rain}              20.0000   \n",
       "34    {Clear,Clear,Clouds,Rain,Rain,Clear,Clouds}              17.7143   \n",
       "\n",
       "    Proba_pluie_7jours  scale_temp  scale_pluie  \n",
       "0              23.7143    3.752806     4.979757  \n",
       "1              22.4286    1.393238     4.489109  \n",
       "2              31.4286    3.752806     7.923684  \n",
       "3              34.2857    1.000000     9.014009  \n",
       "4              30.2857    4.932521     7.487531  \n",
       "5              20.5714    8.471941     3.780365  \n",
       "6              31.2857    5.129209     7.869150  \n",
       "7              30.2857    6.702300     7.487531  \n",
       "8              39.5714    9.258418    11.031135  \n",
       "9              42.8571    5.522447    12.285022  \n",
       "10             40.4286   10.044894    11.358259  \n",
       "11             44.0000    9.651656    12.721175  \n",
       "12             46.4286    7.882015    13.647976  \n",
       "13             42.8571    8.668491    12.285022  \n",
       "14             59.1429    9.651656    18.500000  \n",
       "15             43.1429   12.994388    12.394089  \n",
       "16             39.2857    9.848344    10.922106  \n",
       "17             33.8571   15.943744     8.850447  \n",
       "18             21.7143   15.353956     4.216518  \n",
       "19             17.4286   15.943744     2.581011  \n",
       "20             18.1429   15.943744     2.853602  \n",
       "21             20.5714   18.500000     3.780365  \n",
       "22             16.5714   17.516835     2.253887  \n",
       "23             16.0000   17.713523     2.035830  \n",
       "24             15.2857   17.910074     1.763239  \n",
       "25             13.2857   14.960717     1.000000  \n",
       "26             13.5714   13.977553     1.109029  \n",
       "27             14.2857   14.174103     1.381619  \n",
       "28             31.0000   12.207912     7.760122  \n",
       "29             54.5714    7.685327    16.755427  \n",
       "30             46.7143    8.471941    13.757004  \n",
       "31             44.5714    8.078703    12.939232  \n",
       "32             52.0000    4.342732    15.774130  \n",
       "33             52.0000    5.129209    15.774130  \n",
       "34             19.4286    1.983165     3.344250  "
      ]
     },
     "execution_count": 44,
     "metadata": {},
     "output_type": "execute_result"
    }
   ],
   "source": [
    "# Test SQL request to get data from RDS\n",
    "query_meteo = text(\"SELECT * FROM meteo\")\n",
    "df_query_meteo = pd.read_sql(query_meteo, engine)\n",
    "df_query_meteo\n"
   ]
  },
  {
   "cell_type": "code",
   "execution_count": 45,
   "metadata": {},
   "outputs": [
    {
     "name": "stdout",
     "output_type": "stream",
     "text": [
      "2022-06-26 07:43:10,762 INFO sqlalchemy.engine.Engine select relname from pg_class c join pg_namespace n on n.oid=c.relnamespace where pg_catalog.pg_table_is_visible(c.oid) and relname=%(name)s\n"
     ]
    },
    {
     "name": "stderr",
     "output_type": "stream",
     "text": [
      "2022-06-26 07:43:10 [sqlalchemy.engine.Engine] INFO: select relname from pg_class c join pg_namespace n on n.oid=c.relnamespace where pg_catalog.pg_table_is_visible(c.oid) and relname=%(name)s\n"
     ]
    },
    {
     "name": "stdout",
     "output_type": "stream",
     "text": [
      "2022-06-26 07:43:10,763 INFO sqlalchemy.engine.Engine [cached since 2.68s ago] {'name': 'SELECT * FROM hotels '}\n"
     ]
    },
    {
     "name": "stderr",
     "output_type": "stream",
     "text": [
      "2022-06-26 07:43:10 [sqlalchemy.engine.Engine] INFO: [cached since 2.68s ago] {'name': 'SELECT * FROM hotels '}\n"
     ]
    },
    {
     "name": "stdout",
     "output_type": "stream",
     "text": [
      "2022-06-26 07:43:10,778 INFO sqlalchemy.engine.Engine SELECT * FROM hotels \n"
     ]
    },
    {
     "name": "stderr",
     "output_type": "stream",
     "text": [
      "2022-06-26 07:43:10 [sqlalchemy.engine.Engine] INFO: SELECT * FROM hotels \n"
     ]
    },
    {
     "name": "stdout",
     "output_type": "stream",
     "text": [
      "2022-06-26 07:43:10,779 INFO sqlalchemy.engine.Engine [generated in 0.00078s] {}\n"
     ]
    },
    {
     "name": "stderr",
     "output_type": "stream",
     "text": [
      "2022-06-26 07:43:10 [sqlalchemy.engine.Engine] INFO: [generated in 0.00078s] {}\n"
     ]
    },
    {
     "data": {
      "text/html": [
       "<div>\n",
       "<style scoped>\n",
       "    .dataframe tbody tr th:only-of-type {\n",
       "        vertical-align: middle;\n",
       "    }\n",
       "\n",
       "    .dataframe tbody tr th {\n",
       "        vertical-align: top;\n",
       "    }\n",
       "\n",
       "    .dataframe thead th {\n",
       "        text-align: right;\n",
       "    }\n",
       "</style>\n",
       "<table border=\"1\" class=\"dataframe\">\n",
       "  <thead>\n",
       "    <tr style=\"text-align: right;\">\n",
       "      <th></th>\n",
       "      <th>ville</th>\n",
       "      <th>hotels</th>\n",
       "      <th>liens</th>\n",
       "      <th>lat</th>\n",
       "      <th>lon</th>\n",
       "      <th>description</th>\n",
       "      <th>score</th>\n",
       "      <th>meteo_score</th>\n",
       "    </tr>\n",
       "  </thead>\n",
       "  <tbody>\n",
       "    <tr>\n",
       "      <th>0</th>\n",
       "      <td>Mont Saint Michel</td>\n",
       "      <td>Hôtel Vert</td>\n",
       "      <td>https://www.booking.com/hotel/fr/vert.fr.html?...</td>\n",
       "      <td>48.614700</td>\n",
       "      <td>-1.509617</td>\n",
       "      <td>\\nVous pouvez bénéficier d'une réduction Geniu...</td>\n",
       "      <td>8,0</td>\n",
       "      <td>16</td>\n",
       "    </tr>\n",
       "    <tr>\n",
       "      <th>1</th>\n",
       "      <td>Mont Saint Michel</td>\n",
       "      <td>Le Relais Saint Michel</td>\n",
       "      <td>https://www.booking.com/hotel/fr/le-relais-sai...</td>\n",
       "      <td>48.617587</td>\n",
       "      <td>-1.510396</td>\n",
       "      <td>\\n\\nVous pouvez bénéficier d'une réduction Gen...</td>\n",
       "      <td>7,9</td>\n",
       "      <td>16</td>\n",
       "    </tr>\n",
       "    <tr>\n",
       "      <th>2</th>\n",
       "      <td>Mont Saint Michel</td>\n",
       "      <td>Hotel De La Digue</td>\n",
       "      <td>https://www.booking.com/hotel/fr/de-la-digue.f...</td>\n",
       "      <td>48.616882</td>\n",
       "      <td>-1.510918</td>\n",
       "      <td>\\nCet établissement est à 1 minute à pied de l...</td>\n",
       "      <td>7,2</td>\n",
       "      <td>16</td>\n",
       "    </tr>\n",
       "    <tr>\n",
       "      <th>3</th>\n",
       "      <td>Mont Saint Michel</td>\n",
       "      <td>Les Terrasses Poulard</td>\n",
       "      <td>https://www.booking.com/hotel/fr/les-terrasses...</td>\n",
       "      <td>48.635349</td>\n",
       "      <td>-1.510379</td>\n",
       "      <td>\\nVous pouvez bénéficier d'une réduction Geniu...</td>\n",
       "      <td>7,3</td>\n",
       "      <td>16</td>\n",
       "    </tr>\n",
       "    <tr>\n",
       "      <th>4</th>\n",
       "      <td>Mont Saint Michel</td>\n",
       "      <td>Le Saint Aubert</td>\n",
       "      <td>https://www.booking.com/hotel/fr/hotel-saint-a...</td>\n",
       "      <td>48.612938</td>\n",
       "      <td>-1.510105</td>\n",
       "      <td>\\nNiché dans un écrin de verdure, à seulement ...</td>\n",
       "      <td>7,2</td>\n",
       "      <td>16</td>\n",
       "    </tr>\n",
       "    <tr>\n",
       "      <th>...</th>\n",
       "      <td>...</td>\n",
       "      <td>...</td>\n",
       "      <td>...</td>\n",
       "      <td>...</td>\n",
       "      <td>...</td>\n",
       "      <td>...</td>\n",
       "      <td>...</td>\n",
       "      <td>...</td>\n",
       "    </tr>\n",
       "    <tr>\n",
       "      <th>870</th>\n",
       "      <td>La Rochelle</td>\n",
       "      <td>Résidence Pierre &amp; Vacances Centre</td>\n",
       "      <td>https://www.booking.com/hotel/fr/pierre-vacanc...</td>\n",
       "      <td>46.155769</td>\n",
       "      <td>-1.146392</td>\n",
       "      <td>\\nLa Résidence Pierre &amp; Vacances Centre propos...</td>\n",
       "      <td>7,3</td>\n",
       "      <td>15</td>\n",
       "    </tr>\n",
       "    <tr>\n",
       "      <th>871</th>\n",
       "      <td>La Rochelle</td>\n",
       "      <td>Hôtel La Tour de Nesle La Rochelle Vieux Port</td>\n",
       "      <td>https://www.booking.com/hotel/fr/de-la-tour-de...</td>\n",
       "      <td>46.158097</td>\n",
       "      <td>-1.150362</td>\n",
       "      <td>\\nVous pouvez bénéficier d'une réduction Geniu...</td>\n",
       "      <td>8,1</td>\n",
       "      <td>15</td>\n",
       "    </tr>\n",
       "    <tr>\n",
       "      <th>872</th>\n",
       "      <td>La Rochelle</td>\n",
       "      <td>Hotel La Marine, Vieux Port</td>\n",
       "      <td>https://www.booking.com/hotel/fr/la-marine-la-...</td>\n",
       "      <td>46.158159</td>\n",
       "      <td>-1.152671</td>\n",
       "      <td>\\nCet établissement est à 6 minutes à pied de ...</td>\n",
       "      <td>8,5</td>\n",
       "      <td>15</td>\n",
       "    </tr>\n",
       "    <tr>\n",
       "      <th>873</th>\n",
       "      <td>La Rochelle</td>\n",
       "      <td>Studio La Rochelle, 1 pièce, 2 personnes - FR-...</td>\n",
       "      <td>https://www.booking.com/hotel/fr/apartment-por...</td>\n",
       "      <td>46.139260</td>\n",
       "      <td>-1.160848</td>\n",
       "      <td>\\nLe Studio La Rochelle, 1 pièce, 2 personnes ...</td>\n",
       "      <td>1.0</td>\n",
       "      <td>15</td>\n",
       "    </tr>\n",
       "    <tr>\n",
       "      <th>874</th>\n",
       "      <td>La Rochelle</td>\n",
       "      <td>Hôtel Le Rupella</td>\n",
       "      <td>https://www.booking.com/hotel/fr/le-rupella.fr...</td>\n",
       "      <td>46.158175</td>\n",
       "      <td>-1.151070</td>\n",
       "      <td>\\nSitué au cœur de La Rochelle, l'Hôtel Le Rup...</td>\n",
       "      <td>7,2</td>\n",
       "      <td>15</td>\n",
       "    </tr>\n",
       "  </tbody>\n",
       "</table>\n",
       "<p>875 rows × 8 columns</p>\n",
       "</div>"
      ],
      "text/plain": [
       "                 ville                                             hotels  \\\n",
       "0    Mont Saint Michel                                         Hôtel Vert   \n",
       "1    Mont Saint Michel                             Le Relais Saint Michel   \n",
       "2    Mont Saint Michel                                  Hotel De La Digue   \n",
       "3    Mont Saint Michel                              Les Terrasses Poulard   \n",
       "4    Mont Saint Michel                                    Le Saint Aubert   \n",
       "..                 ...                                                ...   \n",
       "870        La Rochelle                 Résidence Pierre & Vacances Centre   \n",
       "871        La Rochelle      Hôtel La Tour de Nesle La Rochelle Vieux Port   \n",
       "872        La Rochelle                        Hotel La Marine, Vieux Port   \n",
       "873        La Rochelle  Studio La Rochelle, 1 pièce, 2 personnes - FR-...   \n",
       "874        La Rochelle                                   Hôtel Le Rupella   \n",
       "\n",
       "                                                 liens        lat       lon  \\\n",
       "0    https://www.booking.com/hotel/fr/vert.fr.html?...  48.614700 -1.509617   \n",
       "1    https://www.booking.com/hotel/fr/le-relais-sai...  48.617587 -1.510396   \n",
       "2    https://www.booking.com/hotel/fr/de-la-digue.f...  48.616882 -1.510918   \n",
       "3    https://www.booking.com/hotel/fr/les-terrasses...  48.635349 -1.510379   \n",
       "4    https://www.booking.com/hotel/fr/hotel-saint-a...  48.612938 -1.510105   \n",
       "..                                                 ...        ...       ...   \n",
       "870  https://www.booking.com/hotel/fr/pierre-vacanc...  46.155769 -1.146392   \n",
       "871  https://www.booking.com/hotel/fr/de-la-tour-de...  46.158097 -1.150362   \n",
       "872  https://www.booking.com/hotel/fr/la-marine-la-...  46.158159 -1.152671   \n",
       "873  https://www.booking.com/hotel/fr/apartment-por...  46.139260 -1.160848   \n",
       "874  https://www.booking.com/hotel/fr/le-rupella.fr...  46.158175 -1.151070   \n",
       "\n",
       "                                           description score  meteo_score  \n",
       "0    \\nVous pouvez bénéficier d'une réduction Geniu...   8,0           16  \n",
       "1    \\n\\nVous pouvez bénéficier d'une réduction Gen...   7,9           16  \n",
       "2    \\nCet établissement est à 1 minute à pied de l...   7,2           16  \n",
       "3    \\nVous pouvez bénéficier d'une réduction Geniu...   7,3           16  \n",
       "4    \\nNiché dans un écrin de verdure, à seulement ...   7,2           16  \n",
       "..                                                 ...   ...          ...  \n",
       "870  \\nLa Résidence Pierre & Vacances Centre propos...   7,3           15  \n",
       "871  \\nVous pouvez bénéficier d'une réduction Geniu...   8,1           15  \n",
       "872  \\nCet établissement est à 6 minutes à pied de ...   8,5           15  \n",
       "873  \\nLe Studio La Rochelle, 1 pièce, 2 personnes ...   1.0           15  \n",
       "874  \\nSitué au cœur de La Rochelle, l'Hôtel Le Rup...   7,2           15  \n",
       "\n",
       "[875 rows x 8 columns]"
      ]
     },
     "execution_count": 45,
     "metadata": {},
     "output_type": "execute_result"
    }
   ],
   "source": [
    "# Test SQL request to get data from RDS\n",
    "query_hotels = text(\"SELECT * FROM hotels \")\n",
    "df_query_hotels = pd.read_sql(query_hotels, engine)\n",
    "df_query_hotels\n"
   ]
  },
  {
   "cell_type": "markdown",
   "metadata": {},
   "source": [
    "### Visualization"
   ]
  },
  {
   "cell_type": "code",
   "execution_count": 46,
   "metadata": {},
   "outputs": [
    {
     "data": {
      "application/vnd.plotly.v1+json": {
       "config": {
        "plotlyServerURL": "https://plot.ly"
       },
       "data": [
        {
         "customdata": [
          [
           "Mont Saint Michel",
           48.6359541,
           -1.511459954959514,
           "{1,2,3,4,5,6,7}",
           "{17,20,20,17,19,21,19}",
           "{52,0,15,62,37,0,0}",
           "{Rain,Clouds,Clouds,Rain,Rain,Clouds,Clear}",
           19,
           23.7143,
           16,
           3.7528058957237125,
           4.9797567230445825
          ],
          [
           "St Malo",
           48.649518,
           -2.0260409,
           "{1,2,3,4,5,6,7}",
           "{15,19,18,16,16,20,17}",
           "{47,0,9,53,48,0,0}",
           "{Rain,Clouds,Clouds,Rain,Rain,Clouds,Clouds}",
           17.2857,
           22.4286,
           15,
           1.3932383222041302,
           4.489108580550056
          ],
          [
           "Bayeux",
           49.2764624,
           -0.7024738,
           "{1,2,3,4,5,6,7}",
           "{17,20,21,14,19,22,20}",
           "{65,0,38,71,46,0,0}",
           "{Rain,Clouds,Clouds,Rain,Rain,Clouds,Clouds}",
           19,
           31.4286,
           15,
           3.7528058957237125,
           7.923683739957956
          ],
          [
           "Le Havre",
           49.4938975,
           0.1079732,
           "{1,2,3,4,5,6,7}",
           "{17,18,19,14,17,18,16}",
           "{32,0,60,98,50,0,0}",
           "{Clear,Clouds,Rain,Rain,Rain,Clouds,Clear}",
           17,
           34.2857,
           13,
           1,
           9.014008705285104
          ],
          [
           "Rouen",
           49.4404591,
           1.0939658,
           "{1,2,3,4,5,6,7}",
           "{19,22,22,16,18,21,21}",
           "{24,0,18,100,70,0,0}",
           "{Clear,Clouds,Clouds,Rain,Rain,Clouds,Clear}",
           19.8571,
           30.2857,
           16,
           4.9325208623361085,
           7.487530856659369
          ],
          [
           "Paris",
           48.8588897,
           2.3200410217200766,
           "{1,2,3,4,5,6,7}",
           "{21,23,24,22,20,23,24}",
           "{2,0,0,81,61,0,0}",
           "{Clouds,Clouds,Clouds,Rain,Rain,Clouds,Clear}",
           22.4286,
           20.5714,
           20,
           8.471941042762872,
           3.7803649154331276
          ],
          [
           "Amiens",
           49.8941708,
           2.2956951,
           "{1,2,3,4,5,6,7}",
           "{20,22,23,15,18,21,21}",
           "{37,0,0,96,86,0,0}",
           "{Clouds,Clear,Clouds,Rain,Rain,Clouds,Clear}",
           20,
           31.2857,
           16,
           5.129208843585569,
           7.8691503188158025
          ],
          [
           "Lille",
           50.6365654,
           3.0635282,
           "{1,2,3,4,5,6,7}",
           "{20,22,24,19,20,21,22}",
           "{57,0,0,61,94,0,0}",
           "{Rain,Clear,Clouds,Rain,Rain,Clouds,Clouds}",
           21.1429,
           30.2857,
           18,
           6.702299772696886,
           7.487530856659369
          ],
          [
           "Strasbourg",
           48.584614,
           7.7507127,
           "{1,2,3,4,5,6,7}",
           "{19,23,23,29,15,24,28}",
           "{100,16,20,21,100,20,0}",
           "{Rain,Clouds,Clouds,Clear,Rain,Rain,Clear}",
           23,
           39.5714,
           19,
           9.258417687171137,
           11.031134696405363
          ],
          [
           "Chateau du Haut Koenigsbourg",
           48.2495226,
           7.3454923,
           "{1,2,3,4,5,6,7}",
           "{15,20,22,26,12,21,26}",
           "{100,2,18,60,100,20,0}",
           "{Rain,Clouds,Clouds,Clear,Rain,Rain,Clear}",
           20.2857,
           42.8571,
           16,
           5.522447165789699,
           12.28502176321276
          ],
          [
           "Colmar",
           48.0777517,
           7.3579641,
           "{1,2,3,4,5,6,7}",
           "{19,23,26,30,15,24,28}",
           "{100,2,19,62,100,0,0}",
           "{Rain,Clouds,Clouds,Rain,Rain,Clear,Clear}",
           23.5714,
           40.4286,
           19,
           10.044894331579403,
           11.35825889936586
          ],
          [
           "Eguisheim",
           48.0447968,
           7.3079618,
           "{1,2,3,4,5,6,7}",
           "{19,23,25,29,15,24,28}",
           "{100,1,20,67,100,20,0}",
           "{Rain,Clouds,Clouds,Rain,Rain,Rain,Clear}",
           23.2857,
           44,
           18,
           9.651656009375268,
           12.721174646511345
          ],
          [
           "Besancon",
           47.2380222,
           6.0243622,
           "{1,2,3,4,5,6,7}",
           "{15,22,26,29,13,23,26}",
           "{100,16,9,100,100,0,0}",
           "{Rain,Clouds,Clouds,Rain,Rain,Clear,Clear}",
           22,
           46.4286,
           17,
           7.882014739309281,
           13.647975672304462
          ],
          [
           "Dijon",
           47.3215806,
           5.0414701,
           "{1,2,3,4,5,6,7}",
           "{16,22,25,28,18,23,26}",
           "{100,0,0,100,100,0,0}",
           "{Rain,Clear,Clear,Rain,Rain,Clear,Clear}",
           22.5714,
           42.8571,
           18,
           8.668491383717548,
           12.28502176321276
          ],
          [
           "Annecy",
           45.8992348,
           6.1288847,
           "{1,2,3,4,5,6,7}",
           "{18,18,27,30,17,24,29}",
           "{100,96,21,95,93,9,0}",
           "{Rain,Rain,Rain,Rain,Rain,Clouds,Clear}",
           23.2857,
           59.1429,
           17,
           9.651656009375268,
           18.5
          ],
          [
           "Grenoble",
           45.1875602,
           5.7357819,
           "{1,2,3,4,5,6,7}",
           "{22,19,28,32,20,27,32}",
           "{87,100,0,55,47,13,0}",
           "{Rain,Rain,Clouds,Rain,Rain,Clear,Clear}",
           25.7143,
           43.1429,
           21,
           12.994388208552577,
           12.394088605497066
          ],
          [
           "Lyon",
           45.7578137,
           4.8320114,
           "{1,2,3,4,5,6,7}",
           "{17,22,26,29,16,25,29}",
           "{100,46,0,74,55,0,0}",
           "{Rain,Rain,Clear,Rain,Rain,Clear,Clear}",
           23.4286,
           39.2857,
           19,
           9.848343990624729,
           10.92210601606727
          ],
          [
           "Gorges du Verdon",
           43.8462177,
           6.5131814,
           "{1,2,3,4,5,6,7}",
           "{29,24,27,28,28,28,31}",
           "{43,100,0,54,24,16,0}",
           "{Clear,Rain,Clear,Rain,Clear,Clear,Clear}",
           27.8571,
           33.8571,
           24,
           15.943744445230958,
           8.850446603804858
          ],
          [
           "Bormes les Mimosas",
           43.1572172,
           6.329253867921363,
           "{1,2,3,4,5,6,7}",
           "{29,23,29,28,27,27,29}",
           "{3,93,0,56,0,0,0}",
           "{Clear,Rain,Clear,Rain,Clouds,Clear,Clear}",
           27.4286,
           21.7143,
           25,
           15.353955782072154,
           4.216517798731715
          ],
          [
           "Cassis",
           43.2140359,
           5.5396318,
           "{1,2,3,4,5,6,7}",
           "{29,26,28,26,28,28,30}",
           "{10,67,0,45,0,0,0}",
           "{Clouds,Rain,Clear,Rain,Clear,Clear,Clear}",
           27.8571,
           17.4286,
           26,
           15.943744445230958,
           2.581011269767888
          ],
          [
           "Marseille",
           43.2961743,
           5.3699525,
           "{1,2,3,4,5,6,7}",
           "{29,26,28,26,28,28,30}",
           "{12,79,0,36,0,0,0}",
           "{Clouds,Rain,Clear,Rain,Clear,Clear,Clear}",
           27.8571,
           18.1429,
           26,
           15.943744445230958,
           2.853602051586229
          ],
          [
           "Aix en Provence",
           43.5298424,
           5.4474738,
           "{1,2,3,4,5,6,7}",
           "{31,28,29,29,29,29,33}",
           "{28,76,0,40,0,0,0}",
           "{Clouds,Rain,Clear,Rain,Clear,Clear,Clear}",
           29.7143,
           20.5714,
           27,
           18.5,
           3.7803649154331276
          ],
          [
           "Avignon",
           43.9492493,
           4.8059012,
           "{1,2,3,4,5,6,7}",
           "{29,25,29,31,27,28,34}",
           "{15,99,0,2,0,0,0}",
           "{Clouds,Rain,Clear,Clouds,Clear,Clear,Clear}",
           29,
           16.5714,
           27,
           17.516835374342275,
           2.2538870668073936
          ],
          [
           "Uzes",
           44.0121279,
           4.4196718,
           "{1,2,3,4,5,6,7}",
           "{28,26,30,30,27,29,34}",
           "{15,96,0,0,1,0,0}",
           "{Clouds,Rain,Clear,Clouds,Clear,Clear,Clear}",
           29.1429,
           16,
           27,
           17.713523355591736,
           2.0358297061312074
          ],
          [
           "Nimes",
           43.8374249,
           4.3600687,
           "{1,2,3,4,5,6,7}",
           "{29,27,29,29,28,29,34}",
           "{11,95,0,0,1,0,0}",
           "{Clouds,Rain,Clear,Clouds,Clear,Clear,Clear}",
           29.2857,
           15.2857,
           27,
           17.910073696546405,
           1.763238924312867
          ],
          [
           "Aigues Mortes",
           43.5658225,
           4.1912837,
           "{1,2,3,4,5,6,7}",
           "{28,26,27,25,27,27,30}",
           "{7,85,0,0,1,0,0}",
           "{Clouds,Rain,Clear,Clouds,Clear,Clear,Clear}",
           27.1429,
           13.2857,
           25,
           14.960717459868023,
           1
          ],
          [
           "Saintes Maries de la mer",
           43.4522771,
           4.4287172,
           "{1,2,3,4,5,6,7}",
           "{27,25,26,24,27,26,30}",
           "{1,93,0,1,0,0,0}",
           "{Clouds,Rain,Clear,Clouds,Clear,Clear,Clear}",
           26.4286,
           13.5714,
           25,
           13.977552834210297,
           1.109028680338093
          ],
          [
           "Collioure",
           42.52505,
           3.0831554,
           "{1,2,3,4,5,6,7}",
           "{26,27,28,26,24,27,28}",
           "{36,56,0,8,0,0,0}",
           "{Rain,Rain,Clear,Clouds,Clear,Clear,Clear}",
           26.5714,
           14.2857,
           25,
           14.174103175164971,
           1.3816194621564335
          ],
          [
           "Carcassonne",
           43.2130358,
           2.3491069,
           "{1,2,3,4,5,6,7}",
           "{20,24,29,21,21,28,33}",
           "{54,62,0,52,27,0,22}",
           "{Rain,Rain,Clear,Rain,Rain,Clear,Rain}",
           25.1429,
           31,
           22,
           12.207911564144311,
           7.7601216384777105
          ],
          [
           "Ariege",
           42.9638998,
           1.6053807,
           "{1,2,3,4,5,6,7}",
           "{15,22,27,18,15,26,30}",
           "{97,97,2,79,59,0,48}",
           "{Rain,Rain,Clear,Rain,Rain,Clear,Rain}",
           21.8571,
           54.5714,
           16,
           7.685326758059821,
           16.755426628751863
          ],
          [
           "Toulouse",
           43.6044622,
           1.4442469,
           "{1,2,3,4,5,6,7}",
           "{14,22,27,20,18,26,30}",
           "{81,57,0,96,41,0,52}",
           "{Rain,Clouds,Clear,Rain,Clouds,Clear,Rain}",
           22.4286,
           46.7143,
           17,
           8.471941042762872,
           13.757004352642554
          ],
          [
           "Montauban",
           44.0175835,
           1.3549991,
           "{1,2,3,4,5,6,7}",
           "{15,22,26,17,20,26,29}",
           "{93,22,0,97,52,0,48}",
           "{Rain,Clouds,Clear,Rain,Rain,Clear,Rain}",
           22.1429,
           44.5714,
           17,
           8.078702720558741,
           12.939232007187531
          ],
          [
           "Biarritz",
           43.4832523,
           -1.5592776,
           "{1,2,3,4,5,6,7}",
           "{16,21,19,16,18,24,22}",
           "{37,0,100,100,27,0,100}",
           "{Rain,Clouds,Rain,Rain,Rain,Clouds,Rain}",
           19.4286,
           52,
           14,
           4.342732199177304,
           15.774130343762813
          ],
          [
           "Bayonne",
           43.4933379,
           -1.475099,
           "{1,2,3,4,5,6,7}",
           "{16,22,20,16,18,25,23}",
           "{36,0,100,100,28,0,100}",
           "{Rain,Clear,Rain,Rain,Rain,Clouds,Rain}",
           20,
           52,
           14,
           5.129208843585569,
           15.774130343762813
          ],
          [
           "La Rochelle",
           46.1591126,
           -1.1520434,
           "{1,2,3,4,5,6,7}",
           "{17,18,19,14,17,18,21}",
           "{0,0,2,98,35,0,1}",
           "{Clear,Clear,Clouds,Rain,Rain,Clear,Clouds}",
           17.7143,
           19.4286,
           15,
           1.983164625657726,
           3.3442501940807547
          ]
         ],
         "hovertemplate": "<b>%{hovertext}</b><br><br>ville=%{customdata[0]}<br>meteo_principale=%{customdata[6]}<br>Temp_moyenne_7jours=%{marker.color}<br>Proba_pluie_7jours=%{customdata[8]}<br>score=%{customdata[9]}<extra></extra>",
         "hovertext": [
          "Mont Saint Michel",
          "St Malo",
          "Bayeux",
          "Le Havre",
          "Rouen",
          "Paris",
          "Amiens",
          "Lille",
          "Strasbourg",
          "Chateau du Haut Koenigsbourg",
          "Colmar",
          "Eguisheim",
          "Besancon",
          "Dijon",
          "Annecy",
          "Grenoble",
          "Lyon",
          "Gorges du Verdon",
          "Bormes les Mimosas",
          "Cassis",
          "Marseille",
          "Aix en Provence",
          "Avignon",
          "Uzes",
          "Nimes",
          "Aigues Mortes",
          "Saintes Maries de la mer",
          "Collioure",
          "Carcassonne",
          "Ariege",
          "Toulouse",
          "Montauban",
          "Biarritz",
          "Bayonne",
          "La Rochelle"
         ],
         "lat": [
          48.6359541,
          48.649518,
          49.2764624,
          49.4938975,
          49.4404591,
          48.8588897,
          49.8941708,
          50.6365654,
          48.584614,
          48.2495226,
          48.0777517,
          48.0447968,
          47.2380222,
          47.3215806,
          45.8992348,
          45.1875602,
          45.7578137,
          43.8462177,
          43.1572172,
          43.2140359,
          43.2961743,
          43.5298424,
          43.9492493,
          44.0121279,
          43.8374249,
          43.5658225,
          43.4522771,
          42.52505,
          43.2130358,
          42.9638998,
          43.6044622,
          44.0175835,
          43.4832523,
          43.4933379,
          46.1591126
         ],
         "legendgroup": "",
         "lon": [
          -1.511459954959514,
          -2.0260409,
          -0.7024738,
          0.1079732,
          1.0939658,
          2.3200410217200766,
          2.2956951,
          3.0635282,
          7.7507127,
          7.3454923,
          7.3579641,
          7.3079618,
          6.0243622,
          5.0414701,
          6.1288847,
          5.7357819,
          4.8320114,
          6.5131814,
          6.329253867921363,
          5.5396318,
          5.3699525,
          5.4474738,
          4.8059012,
          4.4196718,
          4.3600687,
          4.1912837,
          4.4287172,
          3.0831554,
          2.3491069,
          1.6053807,
          1.4442469,
          1.3549991,
          -1.5592776,
          -1.475099,
          -1.1520434
         ],
         "marker": {
          "color": [
           19,
           17.2857,
           19,
           17,
           19.8571,
           22.4286,
           20,
           21.1429,
           23,
           20.2857,
           23.5714,
           23.2857,
           22,
           22.5714,
           23.2857,
           25.7143,
           23.4286,
           27.8571,
           27.4286,
           27.8571,
           27.8571,
           29.7143,
           29,
           29.1429,
           29.2857,
           27.1429,
           26.4286,
           26.5714,
           25.1429,
           21.8571,
           22.4286,
           22.1429,
           19.4286,
           20,
           17.7143
          ],
          "coloraxis": "coloraxis",
          "size": [
           3.7528058957237125,
           1.3932383222041302,
           3.7528058957237125,
           1,
           4.9325208623361085,
           8.471941042762872,
           5.129208843585569,
           6.702299772696886,
           9.258417687171137,
           5.522447165789699,
           10.044894331579403,
           9.651656009375268,
           7.882014739309281,
           8.668491383717548,
           9.651656009375268,
           12.994388208552577,
           9.848343990624729,
           15.943744445230958,
           15.353955782072154,
           15.943744445230958,
           15.943744445230958,
           18.5,
           17.516835374342275,
           17.713523355591736,
           17.910073696546405,
           14.960717459868023,
           13.977552834210297,
           14.174103175164971,
           12.207911564144311,
           7.685326758059821,
           8.471941042762872,
           8.078702720558741,
           4.342732199177304,
           5.129208843585569,
           1.983164625657726
          ],
          "sizemode": "area",
          "sizeref": 0.04625
         },
         "mode": "markers",
         "name": "",
         "showlegend": false,
         "subplot": "mapbox",
         "type": "scattermapbox"
        }
       ],
       "layout": {
        "coloraxis": {
         "colorbar": {
          "title": {
           "text": "Temp_moyenne_7jours"
          }
         },
         "colorscale": [
          [
           0,
           "rgb(3, 35, 51)"
          ],
          [
           0.09090909090909091,
           "rgb(13, 48, 100)"
          ],
          [
           0.18181818181818182,
           "rgb(53, 50, 155)"
          ],
          [
           0.2727272727272727,
           "rgb(93, 62, 153)"
          ],
          [
           0.36363636363636365,
           "rgb(126, 77, 143)"
          ],
          [
           0.45454545454545453,
           "rgb(158, 89, 135)"
          ],
          [
           0.5454545454545454,
           "rgb(193, 100, 121)"
          ],
          [
           0.6363636363636364,
           "rgb(225, 113, 97)"
          ],
          [
           0.7272727272727273,
           "rgb(246, 139, 69)"
          ],
          [
           0.8181818181818182,
           "rgb(251, 173, 60)"
          ],
          [
           0.9090909090909091,
           "rgb(246, 211, 70)"
          ],
          [
           1,
           "rgb(231, 250, 90)"
          ]
         ]
        },
        "legend": {
         "itemsizing": "constant",
         "tracegroupgap": 0
        },
        "mapbox": {
         "center": {
          "lat": 45.84476962571428,
          "lon": 3.406327852419482
         },
         "domain": {
          "x": [
           0,
           1
          ],
          "y": [
           0,
           1
          ]
         },
         "style": "carto-positron",
         "zoom": 4
        },
        "margin": {
         "t": 60
        },
        "template": {
         "data": {
          "bar": [
           {
            "error_x": {
             "color": "#2a3f5f"
            },
            "error_y": {
             "color": "#2a3f5f"
            },
            "marker": {
             "line": {
              "color": "#E5ECF6",
              "width": 0.5
             },
             "pattern": {
              "fillmode": "overlay",
              "size": 10,
              "solidity": 0.2
             }
            },
            "type": "bar"
           }
          ],
          "barpolar": [
           {
            "marker": {
             "line": {
              "color": "#E5ECF6",
              "width": 0.5
             },
             "pattern": {
              "fillmode": "overlay",
              "size": 10,
              "solidity": 0.2
             }
            },
            "type": "barpolar"
           }
          ],
          "carpet": [
           {
            "aaxis": {
             "endlinecolor": "#2a3f5f",
             "gridcolor": "white",
             "linecolor": "white",
             "minorgridcolor": "white",
             "startlinecolor": "#2a3f5f"
            },
            "baxis": {
             "endlinecolor": "#2a3f5f",
             "gridcolor": "white",
             "linecolor": "white",
             "minorgridcolor": "white",
             "startlinecolor": "#2a3f5f"
            },
            "type": "carpet"
           }
          ],
          "choropleth": [
           {
            "colorbar": {
             "outlinewidth": 0,
             "ticks": ""
            },
            "type": "choropleth"
           }
          ],
          "contour": [
           {
            "colorbar": {
             "outlinewidth": 0,
             "ticks": ""
            },
            "colorscale": [
             [
              0,
              "#0d0887"
             ],
             [
              0.1111111111111111,
              "#46039f"
             ],
             [
              0.2222222222222222,
              "#7201a8"
             ],
             [
              0.3333333333333333,
              "#9c179e"
             ],
             [
              0.4444444444444444,
              "#bd3786"
             ],
             [
              0.5555555555555556,
              "#d8576b"
             ],
             [
              0.6666666666666666,
              "#ed7953"
             ],
             [
              0.7777777777777778,
              "#fb9f3a"
             ],
             [
              0.8888888888888888,
              "#fdca26"
             ],
             [
              1,
              "#f0f921"
             ]
            ],
            "type": "contour"
           }
          ],
          "contourcarpet": [
           {
            "colorbar": {
             "outlinewidth": 0,
             "ticks": ""
            },
            "type": "contourcarpet"
           }
          ],
          "heatmap": [
           {
            "colorbar": {
             "outlinewidth": 0,
             "ticks": ""
            },
            "colorscale": [
             [
              0,
              "#0d0887"
             ],
             [
              0.1111111111111111,
              "#46039f"
             ],
             [
              0.2222222222222222,
              "#7201a8"
             ],
             [
              0.3333333333333333,
              "#9c179e"
             ],
             [
              0.4444444444444444,
              "#bd3786"
             ],
             [
              0.5555555555555556,
              "#d8576b"
             ],
             [
              0.6666666666666666,
              "#ed7953"
             ],
             [
              0.7777777777777778,
              "#fb9f3a"
             ],
             [
              0.8888888888888888,
              "#fdca26"
             ],
             [
              1,
              "#f0f921"
             ]
            ],
            "type": "heatmap"
           }
          ],
          "heatmapgl": [
           {
            "colorbar": {
             "outlinewidth": 0,
             "ticks": ""
            },
            "colorscale": [
             [
              0,
              "#0d0887"
             ],
             [
              0.1111111111111111,
              "#46039f"
             ],
             [
              0.2222222222222222,
              "#7201a8"
             ],
             [
              0.3333333333333333,
              "#9c179e"
             ],
             [
              0.4444444444444444,
              "#bd3786"
             ],
             [
              0.5555555555555556,
              "#d8576b"
             ],
             [
              0.6666666666666666,
              "#ed7953"
             ],
             [
              0.7777777777777778,
              "#fb9f3a"
             ],
             [
              0.8888888888888888,
              "#fdca26"
             ],
             [
              1,
              "#f0f921"
             ]
            ],
            "type": "heatmapgl"
           }
          ],
          "histogram": [
           {
            "marker": {
             "pattern": {
              "fillmode": "overlay",
              "size": 10,
              "solidity": 0.2
             }
            },
            "type": "histogram"
           }
          ],
          "histogram2d": [
           {
            "colorbar": {
             "outlinewidth": 0,
             "ticks": ""
            },
            "colorscale": [
             [
              0,
              "#0d0887"
             ],
             [
              0.1111111111111111,
              "#46039f"
             ],
             [
              0.2222222222222222,
              "#7201a8"
             ],
             [
              0.3333333333333333,
              "#9c179e"
             ],
             [
              0.4444444444444444,
              "#bd3786"
             ],
             [
              0.5555555555555556,
              "#d8576b"
             ],
             [
              0.6666666666666666,
              "#ed7953"
             ],
             [
              0.7777777777777778,
              "#fb9f3a"
             ],
             [
              0.8888888888888888,
              "#fdca26"
             ],
             [
              1,
              "#f0f921"
             ]
            ],
            "type": "histogram2d"
           }
          ],
          "histogram2dcontour": [
           {
            "colorbar": {
             "outlinewidth": 0,
             "ticks": ""
            },
            "colorscale": [
             [
              0,
              "#0d0887"
             ],
             [
              0.1111111111111111,
              "#46039f"
             ],
             [
              0.2222222222222222,
              "#7201a8"
             ],
             [
              0.3333333333333333,
              "#9c179e"
             ],
             [
              0.4444444444444444,
              "#bd3786"
             ],
             [
              0.5555555555555556,
              "#d8576b"
             ],
             [
              0.6666666666666666,
              "#ed7953"
             ],
             [
              0.7777777777777778,
              "#fb9f3a"
             ],
             [
              0.8888888888888888,
              "#fdca26"
             ],
             [
              1,
              "#f0f921"
             ]
            ],
            "type": "histogram2dcontour"
           }
          ],
          "mesh3d": [
           {
            "colorbar": {
             "outlinewidth": 0,
             "ticks": ""
            },
            "type": "mesh3d"
           }
          ],
          "parcoords": [
           {
            "line": {
             "colorbar": {
              "outlinewidth": 0,
              "ticks": ""
             }
            },
            "type": "parcoords"
           }
          ],
          "pie": [
           {
            "automargin": true,
            "type": "pie"
           }
          ],
          "scatter": [
           {
            "marker": {
             "colorbar": {
              "outlinewidth": 0,
              "ticks": ""
             }
            },
            "type": "scatter"
           }
          ],
          "scatter3d": [
           {
            "line": {
             "colorbar": {
              "outlinewidth": 0,
              "ticks": ""
             }
            },
            "marker": {
             "colorbar": {
              "outlinewidth": 0,
              "ticks": ""
             }
            },
            "type": "scatter3d"
           }
          ],
          "scattercarpet": [
           {
            "marker": {
             "colorbar": {
              "outlinewidth": 0,
              "ticks": ""
             }
            },
            "type": "scattercarpet"
           }
          ],
          "scattergeo": [
           {
            "marker": {
             "colorbar": {
              "outlinewidth": 0,
              "ticks": ""
             }
            },
            "type": "scattergeo"
           }
          ],
          "scattergl": [
           {
            "marker": {
             "colorbar": {
              "outlinewidth": 0,
              "ticks": ""
             }
            },
            "type": "scattergl"
           }
          ],
          "scattermapbox": [
           {
            "marker": {
             "colorbar": {
              "outlinewidth": 0,
              "ticks": ""
             }
            },
            "type": "scattermapbox"
           }
          ],
          "scatterpolar": [
           {
            "marker": {
             "colorbar": {
              "outlinewidth": 0,
              "ticks": ""
             }
            },
            "type": "scatterpolar"
           }
          ],
          "scatterpolargl": [
           {
            "marker": {
             "colorbar": {
              "outlinewidth": 0,
              "ticks": ""
             }
            },
            "type": "scatterpolargl"
           }
          ],
          "scatterternary": [
           {
            "marker": {
             "colorbar": {
              "outlinewidth": 0,
              "ticks": ""
             }
            },
            "type": "scatterternary"
           }
          ],
          "surface": [
           {
            "colorbar": {
             "outlinewidth": 0,
             "ticks": ""
            },
            "colorscale": [
             [
              0,
              "#0d0887"
             ],
             [
              0.1111111111111111,
              "#46039f"
             ],
             [
              0.2222222222222222,
              "#7201a8"
             ],
             [
              0.3333333333333333,
              "#9c179e"
             ],
             [
              0.4444444444444444,
              "#bd3786"
             ],
             [
              0.5555555555555556,
              "#d8576b"
             ],
             [
              0.6666666666666666,
              "#ed7953"
             ],
             [
              0.7777777777777778,
              "#fb9f3a"
             ],
             [
              0.8888888888888888,
              "#fdca26"
             ],
             [
              1,
              "#f0f921"
             ]
            ],
            "type": "surface"
           }
          ],
          "table": [
           {
            "cells": {
             "fill": {
              "color": "#EBF0F8"
             },
             "line": {
              "color": "white"
             }
            },
            "header": {
             "fill": {
              "color": "#C8D4E3"
             },
             "line": {
              "color": "white"
             }
            },
            "type": "table"
           }
          ]
         },
         "layout": {
          "annotationdefaults": {
           "arrowcolor": "#2a3f5f",
           "arrowhead": 0,
           "arrowwidth": 1
          },
          "autotypenumbers": "strict",
          "coloraxis": {
           "colorbar": {
            "outlinewidth": 0,
            "ticks": ""
           }
          },
          "colorscale": {
           "diverging": [
            [
             0,
             "#8e0152"
            ],
            [
             0.1,
             "#c51b7d"
            ],
            [
             0.2,
             "#de77ae"
            ],
            [
             0.3,
             "#f1b6da"
            ],
            [
             0.4,
             "#fde0ef"
            ],
            [
             0.5,
             "#f7f7f7"
            ],
            [
             0.6,
             "#e6f5d0"
            ],
            [
             0.7,
             "#b8e186"
            ],
            [
             0.8,
             "#7fbc41"
            ],
            [
             0.9,
             "#4d9221"
            ],
            [
             1,
             "#276419"
            ]
           ],
           "sequential": [
            [
             0,
             "#0d0887"
            ],
            [
             0.1111111111111111,
             "#46039f"
            ],
            [
             0.2222222222222222,
             "#7201a8"
            ],
            [
             0.3333333333333333,
             "#9c179e"
            ],
            [
             0.4444444444444444,
             "#bd3786"
            ],
            [
             0.5555555555555556,
             "#d8576b"
            ],
            [
             0.6666666666666666,
             "#ed7953"
            ],
            [
             0.7777777777777778,
             "#fb9f3a"
            ],
            [
             0.8888888888888888,
             "#fdca26"
            ],
            [
             1,
             "#f0f921"
            ]
           ],
           "sequentialminus": [
            [
             0,
             "#0d0887"
            ],
            [
             0.1111111111111111,
             "#46039f"
            ],
            [
             0.2222222222222222,
             "#7201a8"
            ],
            [
             0.3333333333333333,
             "#9c179e"
            ],
            [
             0.4444444444444444,
             "#bd3786"
            ],
            [
             0.5555555555555556,
             "#d8576b"
            ],
            [
             0.6666666666666666,
             "#ed7953"
            ],
            [
             0.7777777777777778,
             "#fb9f3a"
            ],
            [
             0.8888888888888888,
             "#fdca26"
            ],
            [
             1,
             "#f0f921"
            ]
           ]
          },
          "colorway": [
           "#636efa",
           "#EF553B",
           "#00cc96",
           "#ab63fa",
           "#FFA15A",
           "#19d3f3",
           "#FF6692",
           "#B6E880",
           "#FF97FF",
           "#FECB52"
          ],
          "font": {
           "color": "#2a3f5f"
          },
          "geo": {
           "bgcolor": "white",
           "lakecolor": "white",
           "landcolor": "#E5ECF6",
           "showlakes": true,
           "showland": true,
           "subunitcolor": "white"
          },
          "hoverlabel": {
           "align": "left"
          },
          "hovermode": "closest",
          "mapbox": {
           "style": "light"
          },
          "paper_bgcolor": "white",
          "plot_bgcolor": "#E5ECF6",
          "polar": {
           "angularaxis": {
            "gridcolor": "white",
            "linecolor": "white",
            "ticks": ""
           },
           "bgcolor": "#E5ECF6",
           "radialaxis": {
            "gridcolor": "white",
            "linecolor": "white",
            "ticks": ""
           }
          },
          "scene": {
           "xaxis": {
            "backgroundcolor": "#E5ECF6",
            "gridcolor": "white",
            "gridwidth": 2,
            "linecolor": "white",
            "showbackground": true,
            "ticks": "",
            "zerolinecolor": "white"
           },
           "yaxis": {
            "backgroundcolor": "#E5ECF6",
            "gridcolor": "white",
            "gridwidth": 2,
            "linecolor": "white",
            "showbackground": true,
            "ticks": "",
            "zerolinecolor": "white"
           },
           "zaxis": {
            "backgroundcolor": "#E5ECF6",
            "gridcolor": "white",
            "gridwidth": 2,
            "linecolor": "white",
            "showbackground": true,
            "ticks": "",
            "zerolinecolor": "white"
           }
          },
          "shapedefaults": {
           "line": {
            "color": "#2a3f5f"
           }
          },
          "ternary": {
           "aaxis": {
            "gridcolor": "white",
            "linecolor": "white",
            "ticks": ""
           },
           "baxis": {
            "gridcolor": "white",
            "linecolor": "white",
            "ticks": ""
           },
           "bgcolor": "#E5ECF6",
           "caxis": {
            "gridcolor": "white",
            "linecolor": "white",
            "ticks": ""
           }
          },
          "title": {
           "x": 0.05
          },
          "xaxis": {
           "automargin": true,
           "gridcolor": "white",
           "linecolor": "white",
           "ticks": "",
           "title": {
            "standoff": 15
           },
           "zerolinecolor": "white",
           "zerolinewidth": 2
          },
          "yaxis": {
           "automargin": true,
           "gridcolor": "white",
           "linecolor": "white",
           "ticks": "",
           "title": {
            "standoff": 15
           },
           "zerolinecolor": "white",
           "zerolinewidth": 2
          }
         }
        }
       }
      }
     },
     "metadata": {},
     "output_type": "display_data"
    }
   ],
   "source": [
    "fig = px.scatter_mapbox(\n",
    "    df_query_meteo,\n",
    "    lat=\"lat\",\n",
    "    lon=\"lon\",\n",
    "    hover_name=\"ville\",\n",
    "    hover_data={\n",
    "        \"ville\": True,\n",
    "        \"lat\": False,\n",
    "        \"lon\": False,\n",
    "        \"jour_+x\": False,\n",
    "        \"temperature_ressentie\": False,\n",
    "        \"probabilite_de_pluie\": False,\n",
    "        \"meteo_principale\": True,\n",
    "        \"Temp_moyenne_7jours\": True,\n",
    "        \"Proba_pluie_7jours\": True,\n",
    "        \"score\": True,\n",
    "        \"scale_temp\": False,\n",
    "        \"scale_pluie\": False,\n",
    "    },\n",
    "    color=\"Temp_moyenne_7jours\",\n",
    "    size=\"scale_temp\",\n",
    "    zoom=4,\n",
    "    color_continuous_scale=\"thermal\",\n",
    "    mapbox_style=\"carto-positron\",\n",
    ")\n",
    "fig.show()\n"
   ]
  },
  {
   "cell_type": "code",
   "execution_count": 47,
   "metadata": {},
   "outputs": [
    {
     "data": {
      "application/vnd.plotly.v1+json": {
       "config": {
        "plotlyServerURL": "https://plot.ly"
       },
       "data": [
        {
         "customdata": [
          [
           "Mont Saint Michel",
           48.6359541,
           -1.511459954959514,
           "{1,2,3,4,5,6,7}",
           "{17,20,20,17,19,21,19}",
           "{52,0,15,62,37,0,0}",
           "{Rain,Clouds,Clouds,Rain,Rain,Clouds,Clear}",
           19,
           23.7143,
           16,
           3.7528058957237125,
           4.9797567230445825
          ],
          [
           "St Malo",
           48.649518,
           -2.0260409,
           "{1,2,3,4,5,6,7}",
           "{15,19,18,16,16,20,17}",
           "{47,0,9,53,48,0,0}",
           "{Rain,Clouds,Clouds,Rain,Rain,Clouds,Clouds}",
           17.2857,
           22.4286,
           15,
           1.3932383222041302,
           4.489108580550056
          ],
          [
           "Bayeux",
           49.2764624,
           -0.7024738,
           "{1,2,3,4,5,6,7}",
           "{17,20,21,14,19,22,20}",
           "{65,0,38,71,46,0,0}",
           "{Rain,Clouds,Clouds,Rain,Rain,Clouds,Clouds}",
           19,
           31.4286,
           15,
           3.7528058957237125,
           7.923683739957956
          ],
          [
           "Le Havre",
           49.4938975,
           0.1079732,
           "{1,2,3,4,5,6,7}",
           "{17,18,19,14,17,18,16}",
           "{32,0,60,98,50,0,0}",
           "{Clear,Clouds,Rain,Rain,Rain,Clouds,Clear}",
           17,
           34.2857,
           13,
           1,
           9.014008705285104
          ],
          [
           "Rouen",
           49.4404591,
           1.0939658,
           "{1,2,3,4,5,6,7}",
           "{19,22,22,16,18,21,21}",
           "{24,0,18,100,70,0,0}",
           "{Clear,Clouds,Clouds,Rain,Rain,Clouds,Clear}",
           19.8571,
           30.2857,
           16,
           4.9325208623361085,
           7.487530856659369
          ],
          [
           "Paris",
           48.8588897,
           2.3200410217200766,
           "{1,2,3,4,5,6,7}",
           "{21,23,24,22,20,23,24}",
           "{2,0,0,81,61,0,0}",
           "{Clouds,Clouds,Clouds,Rain,Rain,Clouds,Clear}",
           22.4286,
           20.5714,
           20,
           8.471941042762872,
           3.7803649154331276
          ],
          [
           "Amiens",
           49.8941708,
           2.2956951,
           "{1,2,3,4,5,6,7}",
           "{20,22,23,15,18,21,21}",
           "{37,0,0,96,86,0,0}",
           "{Clouds,Clear,Clouds,Rain,Rain,Clouds,Clear}",
           20,
           31.2857,
           16,
           5.129208843585569,
           7.8691503188158025
          ],
          [
           "Lille",
           50.6365654,
           3.0635282,
           "{1,2,3,4,5,6,7}",
           "{20,22,24,19,20,21,22}",
           "{57,0,0,61,94,0,0}",
           "{Rain,Clear,Clouds,Rain,Rain,Clouds,Clouds}",
           21.1429,
           30.2857,
           18,
           6.702299772696886,
           7.487530856659369
          ],
          [
           "Strasbourg",
           48.584614,
           7.7507127,
           "{1,2,3,4,5,6,7}",
           "{19,23,23,29,15,24,28}",
           "{100,16,20,21,100,20,0}",
           "{Rain,Clouds,Clouds,Clear,Rain,Rain,Clear}",
           23,
           39.5714,
           19,
           9.258417687171137,
           11.031134696405363
          ],
          [
           "Chateau du Haut Koenigsbourg",
           48.2495226,
           7.3454923,
           "{1,2,3,4,5,6,7}",
           "{15,20,22,26,12,21,26}",
           "{100,2,18,60,100,20,0}",
           "{Rain,Clouds,Clouds,Clear,Rain,Rain,Clear}",
           20.2857,
           42.8571,
           16,
           5.522447165789699,
           12.28502176321276
          ],
          [
           "Colmar",
           48.0777517,
           7.3579641,
           "{1,2,3,4,5,6,7}",
           "{19,23,26,30,15,24,28}",
           "{100,2,19,62,100,0,0}",
           "{Rain,Clouds,Clouds,Rain,Rain,Clear,Clear}",
           23.5714,
           40.4286,
           19,
           10.044894331579403,
           11.35825889936586
          ],
          [
           "Eguisheim",
           48.0447968,
           7.3079618,
           "{1,2,3,4,5,6,7}",
           "{19,23,25,29,15,24,28}",
           "{100,1,20,67,100,20,0}",
           "{Rain,Clouds,Clouds,Rain,Rain,Rain,Clear}",
           23.2857,
           44,
           18,
           9.651656009375268,
           12.721174646511345
          ],
          [
           "Besancon",
           47.2380222,
           6.0243622,
           "{1,2,3,4,5,6,7}",
           "{15,22,26,29,13,23,26}",
           "{100,16,9,100,100,0,0}",
           "{Rain,Clouds,Clouds,Rain,Rain,Clear,Clear}",
           22,
           46.4286,
           17,
           7.882014739309281,
           13.647975672304462
          ],
          [
           "Dijon",
           47.3215806,
           5.0414701,
           "{1,2,3,4,5,6,7}",
           "{16,22,25,28,18,23,26}",
           "{100,0,0,100,100,0,0}",
           "{Rain,Clear,Clear,Rain,Rain,Clear,Clear}",
           22.5714,
           42.8571,
           18,
           8.668491383717548,
           12.28502176321276
          ],
          [
           "Annecy",
           45.8992348,
           6.1288847,
           "{1,2,3,4,5,6,7}",
           "{18,18,27,30,17,24,29}",
           "{100,96,21,95,93,9,0}",
           "{Rain,Rain,Rain,Rain,Rain,Clouds,Clear}",
           23.2857,
           59.1429,
           17,
           9.651656009375268,
           18.5
          ],
          [
           "Grenoble",
           45.1875602,
           5.7357819,
           "{1,2,3,4,5,6,7}",
           "{22,19,28,32,20,27,32}",
           "{87,100,0,55,47,13,0}",
           "{Rain,Rain,Clouds,Rain,Rain,Clear,Clear}",
           25.7143,
           43.1429,
           21,
           12.994388208552577,
           12.394088605497066
          ],
          [
           "Lyon",
           45.7578137,
           4.8320114,
           "{1,2,3,4,5,6,7}",
           "{17,22,26,29,16,25,29}",
           "{100,46,0,74,55,0,0}",
           "{Rain,Rain,Clear,Rain,Rain,Clear,Clear}",
           23.4286,
           39.2857,
           19,
           9.848343990624729,
           10.92210601606727
          ],
          [
           "Gorges du Verdon",
           43.8462177,
           6.5131814,
           "{1,2,3,4,5,6,7}",
           "{29,24,27,28,28,28,31}",
           "{43,100,0,54,24,16,0}",
           "{Clear,Rain,Clear,Rain,Clear,Clear,Clear}",
           27.8571,
           33.8571,
           24,
           15.943744445230958,
           8.850446603804858
          ],
          [
           "Bormes les Mimosas",
           43.1572172,
           6.329253867921363,
           "{1,2,3,4,5,6,7}",
           "{29,23,29,28,27,27,29}",
           "{3,93,0,56,0,0,0}",
           "{Clear,Rain,Clear,Rain,Clouds,Clear,Clear}",
           27.4286,
           21.7143,
           25,
           15.353955782072154,
           4.216517798731715
          ],
          [
           "Cassis",
           43.2140359,
           5.5396318,
           "{1,2,3,4,5,6,7}",
           "{29,26,28,26,28,28,30}",
           "{10,67,0,45,0,0,0}",
           "{Clouds,Rain,Clear,Rain,Clear,Clear,Clear}",
           27.8571,
           17.4286,
           26,
           15.943744445230958,
           2.581011269767888
          ],
          [
           "Marseille",
           43.2961743,
           5.3699525,
           "{1,2,3,4,5,6,7}",
           "{29,26,28,26,28,28,30}",
           "{12,79,0,36,0,0,0}",
           "{Clouds,Rain,Clear,Rain,Clear,Clear,Clear}",
           27.8571,
           18.1429,
           26,
           15.943744445230958,
           2.853602051586229
          ],
          [
           "Aix en Provence",
           43.5298424,
           5.4474738,
           "{1,2,3,4,5,6,7}",
           "{31,28,29,29,29,29,33}",
           "{28,76,0,40,0,0,0}",
           "{Clouds,Rain,Clear,Rain,Clear,Clear,Clear}",
           29.7143,
           20.5714,
           27,
           18.5,
           3.7803649154331276
          ],
          [
           "Avignon",
           43.9492493,
           4.8059012,
           "{1,2,3,4,5,6,7}",
           "{29,25,29,31,27,28,34}",
           "{15,99,0,2,0,0,0}",
           "{Clouds,Rain,Clear,Clouds,Clear,Clear,Clear}",
           29,
           16.5714,
           27,
           17.516835374342275,
           2.2538870668073936
          ],
          [
           "Uzes",
           44.0121279,
           4.4196718,
           "{1,2,3,4,5,6,7}",
           "{28,26,30,30,27,29,34}",
           "{15,96,0,0,1,0,0}",
           "{Clouds,Rain,Clear,Clouds,Clear,Clear,Clear}",
           29.1429,
           16,
           27,
           17.713523355591736,
           2.0358297061312074
          ],
          [
           "Nimes",
           43.8374249,
           4.3600687,
           "{1,2,3,4,5,6,7}",
           "{29,27,29,29,28,29,34}",
           "{11,95,0,0,1,0,0}",
           "{Clouds,Rain,Clear,Clouds,Clear,Clear,Clear}",
           29.2857,
           15.2857,
           27,
           17.910073696546405,
           1.763238924312867
          ],
          [
           "Aigues Mortes",
           43.5658225,
           4.1912837,
           "{1,2,3,4,5,6,7}",
           "{28,26,27,25,27,27,30}",
           "{7,85,0,0,1,0,0}",
           "{Clouds,Rain,Clear,Clouds,Clear,Clear,Clear}",
           27.1429,
           13.2857,
           25,
           14.960717459868023,
           1
          ],
          [
           "Saintes Maries de la mer",
           43.4522771,
           4.4287172,
           "{1,2,3,4,5,6,7}",
           "{27,25,26,24,27,26,30}",
           "{1,93,0,1,0,0,0}",
           "{Clouds,Rain,Clear,Clouds,Clear,Clear,Clear}",
           26.4286,
           13.5714,
           25,
           13.977552834210297,
           1.109028680338093
          ],
          [
           "Collioure",
           42.52505,
           3.0831554,
           "{1,2,3,4,5,6,7}",
           "{26,27,28,26,24,27,28}",
           "{36,56,0,8,0,0,0}",
           "{Rain,Rain,Clear,Clouds,Clear,Clear,Clear}",
           26.5714,
           14.2857,
           25,
           14.174103175164971,
           1.3816194621564335
          ],
          [
           "Carcassonne",
           43.2130358,
           2.3491069,
           "{1,2,3,4,5,6,7}",
           "{20,24,29,21,21,28,33}",
           "{54,62,0,52,27,0,22}",
           "{Rain,Rain,Clear,Rain,Rain,Clear,Rain}",
           25.1429,
           31,
           22,
           12.207911564144311,
           7.7601216384777105
          ],
          [
           "Ariege",
           42.9638998,
           1.6053807,
           "{1,2,3,4,5,6,7}",
           "{15,22,27,18,15,26,30}",
           "{97,97,2,79,59,0,48}",
           "{Rain,Rain,Clear,Rain,Rain,Clear,Rain}",
           21.8571,
           54.5714,
           16,
           7.685326758059821,
           16.755426628751863
          ],
          [
           "Toulouse",
           43.6044622,
           1.4442469,
           "{1,2,3,4,5,6,7}",
           "{14,22,27,20,18,26,30}",
           "{81,57,0,96,41,0,52}",
           "{Rain,Clouds,Clear,Rain,Clouds,Clear,Rain}",
           22.4286,
           46.7143,
           17,
           8.471941042762872,
           13.757004352642554
          ],
          [
           "Montauban",
           44.0175835,
           1.3549991,
           "{1,2,3,4,5,6,7}",
           "{15,22,26,17,20,26,29}",
           "{93,22,0,97,52,0,48}",
           "{Rain,Clouds,Clear,Rain,Rain,Clear,Rain}",
           22.1429,
           44.5714,
           17,
           8.078702720558741,
           12.939232007187531
          ],
          [
           "Biarritz",
           43.4832523,
           -1.5592776,
           "{1,2,3,4,5,6,7}",
           "{16,21,19,16,18,24,22}",
           "{37,0,100,100,27,0,100}",
           "{Rain,Clouds,Rain,Rain,Rain,Clouds,Rain}",
           19.4286,
           52,
           14,
           4.342732199177304,
           15.774130343762813
          ],
          [
           "Bayonne",
           43.4933379,
           -1.475099,
           "{1,2,3,4,5,6,7}",
           "{16,22,20,16,18,25,23}",
           "{36,0,100,100,28,0,100}",
           "{Rain,Clear,Rain,Rain,Rain,Clouds,Rain}",
           20,
           52,
           14,
           5.129208843585569,
           15.774130343762813
          ],
          [
           "La Rochelle",
           46.1591126,
           -1.1520434,
           "{1,2,3,4,5,6,7}",
           "{17,18,19,14,17,18,21}",
           "{0,0,2,98,35,0,1}",
           "{Clear,Clear,Clouds,Rain,Rain,Clear,Clouds}",
           17.7143,
           19.4286,
           15,
           1.983164625657726,
           3.3442501940807547
          ]
         ],
         "hovertemplate": "<b>%{hovertext}</b><br><br>ville=%{customdata[0]}<br>meteo_principale=%{customdata[6]}<br>Temp_moyenne_7jours=%{customdata[7]}<br>Proba_pluie_7jours=%{marker.color}<br>score=%{customdata[9]}<extra></extra>",
         "hovertext": [
          "Mont Saint Michel",
          "St Malo",
          "Bayeux",
          "Le Havre",
          "Rouen",
          "Paris",
          "Amiens",
          "Lille",
          "Strasbourg",
          "Chateau du Haut Koenigsbourg",
          "Colmar",
          "Eguisheim",
          "Besancon",
          "Dijon",
          "Annecy",
          "Grenoble",
          "Lyon",
          "Gorges du Verdon",
          "Bormes les Mimosas",
          "Cassis",
          "Marseille",
          "Aix en Provence",
          "Avignon",
          "Uzes",
          "Nimes",
          "Aigues Mortes",
          "Saintes Maries de la mer",
          "Collioure",
          "Carcassonne",
          "Ariege",
          "Toulouse",
          "Montauban",
          "Biarritz",
          "Bayonne",
          "La Rochelle"
         ],
         "lat": [
          48.6359541,
          48.649518,
          49.2764624,
          49.4938975,
          49.4404591,
          48.8588897,
          49.8941708,
          50.6365654,
          48.584614,
          48.2495226,
          48.0777517,
          48.0447968,
          47.2380222,
          47.3215806,
          45.8992348,
          45.1875602,
          45.7578137,
          43.8462177,
          43.1572172,
          43.2140359,
          43.2961743,
          43.5298424,
          43.9492493,
          44.0121279,
          43.8374249,
          43.5658225,
          43.4522771,
          42.52505,
          43.2130358,
          42.9638998,
          43.6044622,
          44.0175835,
          43.4832523,
          43.4933379,
          46.1591126
         ],
         "legendgroup": "",
         "lon": [
          -1.511459954959514,
          -2.0260409,
          -0.7024738,
          0.1079732,
          1.0939658,
          2.3200410217200766,
          2.2956951,
          3.0635282,
          7.7507127,
          7.3454923,
          7.3579641,
          7.3079618,
          6.0243622,
          5.0414701,
          6.1288847,
          5.7357819,
          4.8320114,
          6.5131814,
          6.329253867921363,
          5.5396318,
          5.3699525,
          5.4474738,
          4.8059012,
          4.4196718,
          4.3600687,
          4.1912837,
          4.4287172,
          3.0831554,
          2.3491069,
          1.6053807,
          1.4442469,
          1.3549991,
          -1.5592776,
          -1.475099,
          -1.1520434
         ],
         "marker": {
          "color": [
           23.7143,
           22.4286,
           31.4286,
           34.2857,
           30.2857,
           20.5714,
           31.2857,
           30.2857,
           39.5714,
           42.8571,
           40.4286,
           44,
           46.4286,
           42.8571,
           59.1429,
           43.1429,
           39.2857,
           33.8571,
           21.7143,
           17.4286,
           18.1429,
           20.5714,
           16.5714,
           16,
           15.2857,
           13.2857,
           13.5714,
           14.2857,
           31,
           54.5714,
           46.7143,
           44.5714,
           52,
           52,
           19.4286
          ],
          "coloraxis": "coloraxis",
          "size": [
           4.9797567230445825,
           4.489108580550056,
           7.923683739957956,
           9.014008705285104,
           7.487530856659369,
           3.7803649154331276,
           7.8691503188158025,
           7.487530856659369,
           11.031134696405363,
           12.28502176321276,
           11.35825889936586,
           12.721174646511345,
           13.647975672304462,
           12.28502176321276,
           18.5,
           12.394088605497066,
           10.92210601606727,
           8.850446603804858,
           4.216517798731715,
           2.581011269767888,
           2.853602051586229,
           3.7803649154331276,
           2.2538870668073936,
           2.0358297061312074,
           1.763238924312867,
           1,
           1.109028680338093,
           1.3816194621564335,
           7.7601216384777105,
           16.755426628751863,
           13.757004352642554,
           12.939232007187531,
           15.774130343762813,
           15.774130343762813,
           3.3442501940807547
          ],
          "sizemode": "area",
          "sizeref": 0.04625
         },
         "mode": "markers",
         "name": "",
         "showlegend": false,
         "subplot": "mapbox",
         "type": "scattermapbox"
        }
       ],
       "layout": {
        "coloraxis": {
         "colorbar": {
          "title": {
           "text": "Proba_pluie_7jours"
          }
         },
         "colorscale": [
          [
           0,
           "rgb(253, 253, 204)"
          ],
          [
           0.09090909090909091,
           "rgb(206, 236, 179)"
          ],
          [
           0.18181818181818182,
           "rgb(156, 219, 165)"
          ],
          [
           0.2727272727272727,
           "rgb(111, 201, 163)"
          ],
          [
           0.36363636363636365,
           "rgb(86, 177, 163)"
          ],
          [
           0.45454545454545453,
           "rgb(76, 153, 160)"
          ],
          [
           0.5454545454545454,
           "rgb(68, 130, 155)"
          ],
          [
           0.6363636363636364,
           "rgb(62, 108, 150)"
          ],
          [
           0.7272727272727273,
           "rgb(62, 82, 143)"
          ],
          [
           0.8181818181818182,
           "rgb(64, 60, 115)"
          ],
          [
           0.9090909090909091,
           "rgb(54, 43, 77)"
          ],
          [
           1,
           "rgb(39, 26, 44)"
          ]
         ]
        },
        "legend": {
         "itemsizing": "constant",
         "tracegroupgap": 0
        },
        "mapbox": {
         "center": {
          "lat": 45.84476962571428,
          "lon": 3.406327852419482
         },
         "domain": {
          "x": [
           0,
           1
          ],
          "y": [
           0,
           1
          ]
         },
         "style": "carto-positron",
         "zoom": 4
        },
        "margin": {
         "t": 60
        },
        "template": {
         "data": {
          "bar": [
           {
            "error_x": {
             "color": "#2a3f5f"
            },
            "error_y": {
             "color": "#2a3f5f"
            },
            "marker": {
             "line": {
              "color": "#E5ECF6",
              "width": 0.5
             },
             "pattern": {
              "fillmode": "overlay",
              "size": 10,
              "solidity": 0.2
             }
            },
            "type": "bar"
           }
          ],
          "barpolar": [
           {
            "marker": {
             "line": {
              "color": "#E5ECF6",
              "width": 0.5
             },
             "pattern": {
              "fillmode": "overlay",
              "size": 10,
              "solidity": 0.2
             }
            },
            "type": "barpolar"
           }
          ],
          "carpet": [
           {
            "aaxis": {
             "endlinecolor": "#2a3f5f",
             "gridcolor": "white",
             "linecolor": "white",
             "minorgridcolor": "white",
             "startlinecolor": "#2a3f5f"
            },
            "baxis": {
             "endlinecolor": "#2a3f5f",
             "gridcolor": "white",
             "linecolor": "white",
             "minorgridcolor": "white",
             "startlinecolor": "#2a3f5f"
            },
            "type": "carpet"
           }
          ],
          "choropleth": [
           {
            "colorbar": {
             "outlinewidth": 0,
             "ticks": ""
            },
            "type": "choropleth"
           }
          ],
          "contour": [
           {
            "colorbar": {
             "outlinewidth": 0,
             "ticks": ""
            },
            "colorscale": [
             [
              0,
              "#0d0887"
             ],
             [
              0.1111111111111111,
              "#46039f"
             ],
             [
              0.2222222222222222,
              "#7201a8"
             ],
             [
              0.3333333333333333,
              "#9c179e"
             ],
             [
              0.4444444444444444,
              "#bd3786"
             ],
             [
              0.5555555555555556,
              "#d8576b"
             ],
             [
              0.6666666666666666,
              "#ed7953"
             ],
             [
              0.7777777777777778,
              "#fb9f3a"
             ],
             [
              0.8888888888888888,
              "#fdca26"
             ],
             [
              1,
              "#f0f921"
             ]
            ],
            "type": "contour"
           }
          ],
          "contourcarpet": [
           {
            "colorbar": {
             "outlinewidth": 0,
             "ticks": ""
            },
            "type": "contourcarpet"
           }
          ],
          "heatmap": [
           {
            "colorbar": {
             "outlinewidth": 0,
             "ticks": ""
            },
            "colorscale": [
             [
              0,
              "#0d0887"
             ],
             [
              0.1111111111111111,
              "#46039f"
             ],
             [
              0.2222222222222222,
              "#7201a8"
             ],
             [
              0.3333333333333333,
              "#9c179e"
             ],
             [
              0.4444444444444444,
              "#bd3786"
             ],
             [
              0.5555555555555556,
              "#d8576b"
             ],
             [
              0.6666666666666666,
              "#ed7953"
             ],
             [
              0.7777777777777778,
              "#fb9f3a"
             ],
             [
              0.8888888888888888,
              "#fdca26"
             ],
             [
              1,
              "#f0f921"
             ]
            ],
            "type": "heatmap"
           }
          ],
          "heatmapgl": [
           {
            "colorbar": {
             "outlinewidth": 0,
             "ticks": ""
            },
            "colorscale": [
             [
              0,
              "#0d0887"
             ],
             [
              0.1111111111111111,
              "#46039f"
             ],
             [
              0.2222222222222222,
              "#7201a8"
             ],
             [
              0.3333333333333333,
              "#9c179e"
             ],
             [
              0.4444444444444444,
              "#bd3786"
             ],
             [
              0.5555555555555556,
              "#d8576b"
             ],
             [
              0.6666666666666666,
              "#ed7953"
             ],
             [
              0.7777777777777778,
              "#fb9f3a"
             ],
             [
              0.8888888888888888,
              "#fdca26"
             ],
             [
              1,
              "#f0f921"
             ]
            ],
            "type": "heatmapgl"
           }
          ],
          "histogram": [
           {
            "marker": {
             "pattern": {
              "fillmode": "overlay",
              "size": 10,
              "solidity": 0.2
             }
            },
            "type": "histogram"
           }
          ],
          "histogram2d": [
           {
            "colorbar": {
             "outlinewidth": 0,
             "ticks": ""
            },
            "colorscale": [
             [
              0,
              "#0d0887"
             ],
             [
              0.1111111111111111,
              "#46039f"
             ],
             [
              0.2222222222222222,
              "#7201a8"
             ],
             [
              0.3333333333333333,
              "#9c179e"
             ],
             [
              0.4444444444444444,
              "#bd3786"
             ],
             [
              0.5555555555555556,
              "#d8576b"
             ],
             [
              0.6666666666666666,
              "#ed7953"
             ],
             [
              0.7777777777777778,
              "#fb9f3a"
             ],
             [
              0.8888888888888888,
              "#fdca26"
             ],
             [
              1,
              "#f0f921"
             ]
            ],
            "type": "histogram2d"
           }
          ],
          "histogram2dcontour": [
           {
            "colorbar": {
             "outlinewidth": 0,
             "ticks": ""
            },
            "colorscale": [
             [
              0,
              "#0d0887"
             ],
             [
              0.1111111111111111,
              "#46039f"
             ],
             [
              0.2222222222222222,
              "#7201a8"
             ],
             [
              0.3333333333333333,
              "#9c179e"
             ],
             [
              0.4444444444444444,
              "#bd3786"
             ],
             [
              0.5555555555555556,
              "#d8576b"
             ],
             [
              0.6666666666666666,
              "#ed7953"
             ],
             [
              0.7777777777777778,
              "#fb9f3a"
             ],
             [
              0.8888888888888888,
              "#fdca26"
             ],
             [
              1,
              "#f0f921"
             ]
            ],
            "type": "histogram2dcontour"
           }
          ],
          "mesh3d": [
           {
            "colorbar": {
             "outlinewidth": 0,
             "ticks": ""
            },
            "type": "mesh3d"
           }
          ],
          "parcoords": [
           {
            "line": {
             "colorbar": {
              "outlinewidth": 0,
              "ticks": ""
             }
            },
            "type": "parcoords"
           }
          ],
          "pie": [
           {
            "automargin": true,
            "type": "pie"
           }
          ],
          "scatter": [
           {
            "marker": {
             "colorbar": {
              "outlinewidth": 0,
              "ticks": ""
             }
            },
            "type": "scatter"
           }
          ],
          "scatter3d": [
           {
            "line": {
             "colorbar": {
              "outlinewidth": 0,
              "ticks": ""
             }
            },
            "marker": {
             "colorbar": {
              "outlinewidth": 0,
              "ticks": ""
             }
            },
            "type": "scatter3d"
           }
          ],
          "scattercarpet": [
           {
            "marker": {
             "colorbar": {
              "outlinewidth": 0,
              "ticks": ""
             }
            },
            "type": "scattercarpet"
           }
          ],
          "scattergeo": [
           {
            "marker": {
             "colorbar": {
              "outlinewidth": 0,
              "ticks": ""
             }
            },
            "type": "scattergeo"
           }
          ],
          "scattergl": [
           {
            "marker": {
             "colorbar": {
              "outlinewidth": 0,
              "ticks": ""
             }
            },
            "type": "scattergl"
           }
          ],
          "scattermapbox": [
           {
            "marker": {
             "colorbar": {
              "outlinewidth": 0,
              "ticks": ""
             }
            },
            "type": "scattermapbox"
           }
          ],
          "scatterpolar": [
           {
            "marker": {
             "colorbar": {
              "outlinewidth": 0,
              "ticks": ""
             }
            },
            "type": "scatterpolar"
           }
          ],
          "scatterpolargl": [
           {
            "marker": {
             "colorbar": {
              "outlinewidth": 0,
              "ticks": ""
             }
            },
            "type": "scatterpolargl"
           }
          ],
          "scatterternary": [
           {
            "marker": {
             "colorbar": {
              "outlinewidth": 0,
              "ticks": ""
             }
            },
            "type": "scatterternary"
           }
          ],
          "surface": [
           {
            "colorbar": {
             "outlinewidth": 0,
             "ticks": ""
            },
            "colorscale": [
             [
              0,
              "#0d0887"
             ],
             [
              0.1111111111111111,
              "#46039f"
             ],
             [
              0.2222222222222222,
              "#7201a8"
             ],
             [
              0.3333333333333333,
              "#9c179e"
             ],
             [
              0.4444444444444444,
              "#bd3786"
             ],
             [
              0.5555555555555556,
              "#d8576b"
             ],
             [
              0.6666666666666666,
              "#ed7953"
             ],
             [
              0.7777777777777778,
              "#fb9f3a"
             ],
             [
              0.8888888888888888,
              "#fdca26"
             ],
             [
              1,
              "#f0f921"
             ]
            ],
            "type": "surface"
           }
          ],
          "table": [
           {
            "cells": {
             "fill": {
              "color": "#EBF0F8"
             },
             "line": {
              "color": "white"
             }
            },
            "header": {
             "fill": {
              "color": "#C8D4E3"
             },
             "line": {
              "color": "white"
             }
            },
            "type": "table"
           }
          ]
         },
         "layout": {
          "annotationdefaults": {
           "arrowcolor": "#2a3f5f",
           "arrowhead": 0,
           "arrowwidth": 1
          },
          "autotypenumbers": "strict",
          "coloraxis": {
           "colorbar": {
            "outlinewidth": 0,
            "ticks": ""
           }
          },
          "colorscale": {
           "diverging": [
            [
             0,
             "#8e0152"
            ],
            [
             0.1,
             "#c51b7d"
            ],
            [
             0.2,
             "#de77ae"
            ],
            [
             0.3,
             "#f1b6da"
            ],
            [
             0.4,
             "#fde0ef"
            ],
            [
             0.5,
             "#f7f7f7"
            ],
            [
             0.6,
             "#e6f5d0"
            ],
            [
             0.7,
             "#b8e186"
            ],
            [
             0.8,
             "#7fbc41"
            ],
            [
             0.9,
             "#4d9221"
            ],
            [
             1,
             "#276419"
            ]
           ],
           "sequential": [
            [
             0,
             "#0d0887"
            ],
            [
             0.1111111111111111,
             "#46039f"
            ],
            [
             0.2222222222222222,
             "#7201a8"
            ],
            [
             0.3333333333333333,
             "#9c179e"
            ],
            [
             0.4444444444444444,
             "#bd3786"
            ],
            [
             0.5555555555555556,
             "#d8576b"
            ],
            [
             0.6666666666666666,
             "#ed7953"
            ],
            [
             0.7777777777777778,
             "#fb9f3a"
            ],
            [
             0.8888888888888888,
             "#fdca26"
            ],
            [
             1,
             "#f0f921"
            ]
           ],
           "sequentialminus": [
            [
             0,
             "#0d0887"
            ],
            [
             0.1111111111111111,
             "#46039f"
            ],
            [
             0.2222222222222222,
             "#7201a8"
            ],
            [
             0.3333333333333333,
             "#9c179e"
            ],
            [
             0.4444444444444444,
             "#bd3786"
            ],
            [
             0.5555555555555556,
             "#d8576b"
            ],
            [
             0.6666666666666666,
             "#ed7953"
            ],
            [
             0.7777777777777778,
             "#fb9f3a"
            ],
            [
             0.8888888888888888,
             "#fdca26"
            ],
            [
             1,
             "#f0f921"
            ]
           ]
          },
          "colorway": [
           "#636efa",
           "#EF553B",
           "#00cc96",
           "#ab63fa",
           "#FFA15A",
           "#19d3f3",
           "#FF6692",
           "#B6E880",
           "#FF97FF",
           "#FECB52"
          ],
          "font": {
           "color": "#2a3f5f"
          },
          "geo": {
           "bgcolor": "white",
           "lakecolor": "white",
           "landcolor": "#E5ECF6",
           "showlakes": true,
           "showland": true,
           "subunitcolor": "white"
          },
          "hoverlabel": {
           "align": "left"
          },
          "hovermode": "closest",
          "mapbox": {
           "style": "light"
          },
          "paper_bgcolor": "white",
          "plot_bgcolor": "#E5ECF6",
          "polar": {
           "angularaxis": {
            "gridcolor": "white",
            "linecolor": "white",
            "ticks": ""
           },
           "bgcolor": "#E5ECF6",
           "radialaxis": {
            "gridcolor": "white",
            "linecolor": "white",
            "ticks": ""
           }
          },
          "scene": {
           "xaxis": {
            "backgroundcolor": "#E5ECF6",
            "gridcolor": "white",
            "gridwidth": 2,
            "linecolor": "white",
            "showbackground": true,
            "ticks": "",
            "zerolinecolor": "white"
           },
           "yaxis": {
            "backgroundcolor": "#E5ECF6",
            "gridcolor": "white",
            "gridwidth": 2,
            "linecolor": "white",
            "showbackground": true,
            "ticks": "",
            "zerolinecolor": "white"
           },
           "zaxis": {
            "backgroundcolor": "#E5ECF6",
            "gridcolor": "white",
            "gridwidth": 2,
            "linecolor": "white",
            "showbackground": true,
            "ticks": "",
            "zerolinecolor": "white"
           }
          },
          "shapedefaults": {
           "line": {
            "color": "#2a3f5f"
           }
          },
          "ternary": {
           "aaxis": {
            "gridcolor": "white",
            "linecolor": "white",
            "ticks": ""
           },
           "baxis": {
            "gridcolor": "white",
            "linecolor": "white",
            "ticks": ""
           },
           "bgcolor": "#E5ECF6",
           "caxis": {
            "gridcolor": "white",
            "linecolor": "white",
            "ticks": ""
           }
          },
          "title": {
           "x": 0.05
          },
          "xaxis": {
           "automargin": true,
           "gridcolor": "white",
           "linecolor": "white",
           "ticks": "",
           "title": {
            "standoff": 15
           },
           "zerolinecolor": "white",
           "zerolinewidth": 2
          },
          "yaxis": {
           "automargin": true,
           "gridcolor": "white",
           "linecolor": "white",
           "ticks": "",
           "title": {
            "standoff": 15
           },
           "zerolinecolor": "white",
           "zerolinewidth": 2
          }
         }
        }
       }
      }
     },
     "metadata": {},
     "output_type": "display_data"
    }
   ],
   "source": [
    "fig = px.scatter_mapbox(\n",
    "    df_query_meteo,\n",
    "    lat=\"lat\",\n",
    "    lon=\"lon\",\n",
    "    hover_name=\"ville\",\n",
    "    hover_data={\n",
    "        \"ville\": True,\n",
    "        \"lat\": False,\n",
    "        \"lon\": False,\n",
    "        \"jour_+x\": False,\n",
    "        \"temperature_ressentie\": False,\n",
    "        \"probabilite_de_pluie\": False,\n",
    "        \"meteo_principale\": True,\n",
    "        \"Temp_moyenne_7jours\": True,\n",
    "        \"Proba_pluie_7jours\": True,\n",
    "        \"score\": True,\n",
    "        \"scale_temp\": False,\n",
    "        \"scale_pluie\": False,\n",
    "    },\n",
    "    color=\"Proba_pluie_7jours\",\n",
    "    size=\"scale_pluie\",\n",
    "    zoom=4,\n",
    "    color_continuous_scale=\"deep\",\n",
    "    mapbox_style=\"carto-positron\",\n",
    ")\n",
    "fig.show()\n"
   ]
  },
  {
   "cell_type": "markdown",
   "metadata": {},
   "source": [
    "## Top-5 destinations"
   ]
  },
  {
   "cell_type": "code",
   "execution_count": 48,
   "metadata": {},
   "outputs": [
    {
     "name": "stdout",
     "output_type": "stream",
     "text": [
      "2022-06-26 07:43:11,226 INFO sqlalchemy.engine.Engine select relname from pg_class c join pg_namespace n on n.oid=c.relnamespace where pg_catalog.pg_table_is_visible(c.oid) and relname=%(name)s\n"
     ]
    },
    {
     "name": "stderr",
     "output_type": "stream",
     "text": [
      "2022-06-26 07:43:11 [sqlalchemy.engine.Engine] INFO: select relname from pg_class c join pg_namespace n on n.oid=c.relnamespace where pg_catalog.pg_table_is_visible(c.oid) and relname=%(name)s\n"
     ]
    },
    {
     "name": "stdout",
     "output_type": "stream",
     "text": [
      "2022-06-26 07:43:11,227 INFO sqlalchemy.engine.Engine [cached since 3.144s ago] {'name': 'SELECT * FROM meteo ORDER BY score DESC LIMIT 5'}\n"
     ]
    },
    {
     "name": "stderr",
     "output_type": "stream",
     "text": [
      "2022-06-26 07:43:11 [sqlalchemy.engine.Engine] INFO: [cached since 3.144s ago] {'name': 'SELECT * FROM meteo ORDER BY score DESC LIMIT 5'}\n"
     ]
    },
    {
     "name": "stdout",
     "output_type": "stream",
     "text": [
      "2022-06-26 07:43:11,240 INFO sqlalchemy.engine.Engine SELECT * FROM meteo ORDER BY score DESC LIMIT 5\n"
     ]
    },
    {
     "name": "stderr",
     "output_type": "stream",
     "text": [
      "2022-06-26 07:43:11 [sqlalchemy.engine.Engine] INFO: SELECT * FROM meteo ORDER BY score DESC LIMIT 5\n"
     ]
    },
    {
     "name": "stdout",
     "output_type": "stream",
     "text": [
      "2022-06-26 07:43:11,240 INFO sqlalchemy.engine.Engine [generated in 0.00074s] {}\n"
     ]
    },
    {
     "name": "stderr",
     "output_type": "stream",
     "text": [
      "2022-06-26 07:43:11 [sqlalchemy.engine.Engine] INFO: [generated in 0.00074s] {}\n"
     ]
    },
    {
     "data": {
      "text/html": [
       "<div>\n",
       "<style scoped>\n",
       "    .dataframe tbody tr th:only-of-type {\n",
       "        vertical-align: middle;\n",
       "    }\n",
       "\n",
       "    .dataframe tbody tr th {\n",
       "        vertical-align: top;\n",
       "    }\n",
       "\n",
       "    .dataframe thead th {\n",
       "        text-align: right;\n",
       "    }\n",
       "</style>\n",
       "<table border=\"1\" class=\"dataframe\">\n",
       "  <thead>\n",
       "    <tr style=\"text-align: right;\">\n",
       "      <th></th>\n",
       "      <th>ville</th>\n",
       "      <th>lat</th>\n",
       "      <th>lon</th>\n",
       "      <th>score</th>\n",
       "      <th>jour_+x</th>\n",
       "      <th>temperature_ressentie</th>\n",
       "      <th>probabilite_de_pluie</th>\n",
       "      <th>meteo_principale</th>\n",
       "      <th>Temp_moyenne_7jours</th>\n",
       "      <th>Proba_pluie_7jours</th>\n",
       "      <th>scale_temp</th>\n",
       "      <th>scale_pluie</th>\n",
       "    </tr>\n",
       "  </thead>\n",
       "  <tbody>\n",
       "    <tr>\n",
       "      <th>0</th>\n",
       "      <td>Nimes</td>\n",
       "      <td>43.837425</td>\n",
       "      <td>4.360069</td>\n",
       "      <td>27</td>\n",
       "      <td>{1,2,3,4,5,6,7}</td>\n",
       "      <td>{29,27,29,29,28,29,34}</td>\n",
       "      <td>{11,95,0,0,1,0,0}</td>\n",
       "      <td>{Clouds,Rain,Clear,Clouds,Clear,Clear,Clear}</td>\n",
       "      <td>29.2857</td>\n",
       "      <td>15.2857</td>\n",
       "      <td>17.910074</td>\n",
       "      <td>1.763239</td>\n",
       "    </tr>\n",
       "    <tr>\n",
       "      <th>1</th>\n",
       "      <td>Avignon</td>\n",
       "      <td>43.949249</td>\n",
       "      <td>4.805901</td>\n",
       "      <td>27</td>\n",
       "      <td>{1,2,3,4,5,6,7}</td>\n",
       "      <td>{29,25,29,31,27,28,34}</td>\n",
       "      <td>{15,99,0,2,0,0,0}</td>\n",
       "      <td>{Clouds,Rain,Clear,Clouds,Clear,Clear,Clear}</td>\n",
       "      <td>29.0000</td>\n",
       "      <td>16.5714</td>\n",
       "      <td>17.516835</td>\n",
       "      <td>2.253887</td>\n",
       "    </tr>\n",
       "    <tr>\n",
       "      <th>2</th>\n",
       "      <td>Aix en Provence</td>\n",
       "      <td>43.529842</td>\n",
       "      <td>5.447474</td>\n",
       "      <td>27</td>\n",
       "      <td>{1,2,3,4,5,6,7}</td>\n",
       "      <td>{31,28,29,29,29,29,33}</td>\n",
       "      <td>{28,76,0,40,0,0,0}</td>\n",
       "      <td>{Clouds,Rain,Clear,Rain,Clear,Clear,Clear}</td>\n",
       "      <td>29.7143</td>\n",
       "      <td>20.5714</td>\n",
       "      <td>18.500000</td>\n",
       "      <td>3.780365</td>\n",
       "    </tr>\n",
       "    <tr>\n",
       "      <th>3</th>\n",
       "      <td>Uzes</td>\n",
       "      <td>44.012128</td>\n",
       "      <td>4.419672</td>\n",
       "      <td>27</td>\n",
       "      <td>{1,2,3,4,5,6,7}</td>\n",
       "      <td>{28,26,30,30,27,29,34}</td>\n",
       "      <td>{15,96,0,0,1,0,0}</td>\n",
       "      <td>{Clouds,Rain,Clear,Clouds,Clear,Clear,Clear}</td>\n",
       "      <td>29.1429</td>\n",
       "      <td>16.0000</td>\n",
       "      <td>17.713523</td>\n",
       "      <td>2.035830</td>\n",
       "    </tr>\n",
       "    <tr>\n",
       "      <th>4</th>\n",
       "      <td>Cassis</td>\n",
       "      <td>43.214036</td>\n",
       "      <td>5.539632</td>\n",
       "      <td>26</td>\n",
       "      <td>{1,2,3,4,5,6,7}</td>\n",
       "      <td>{29,26,28,26,28,28,30}</td>\n",
       "      <td>{10,67,0,45,0,0,0}</td>\n",
       "      <td>{Clouds,Rain,Clear,Rain,Clear,Clear,Clear}</td>\n",
       "      <td>27.8571</td>\n",
       "      <td>17.4286</td>\n",
       "      <td>15.943744</td>\n",
       "      <td>2.581011</td>\n",
       "    </tr>\n",
       "  </tbody>\n",
       "</table>\n",
       "</div>"
      ],
      "text/plain": [
       "             ville        lat       lon  score          jour_+x  \\\n",
       "0            Nimes  43.837425  4.360069     27  {1,2,3,4,5,6,7}   \n",
       "1          Avignon  43.949249  4.805901     27  {1,2,3,4,5,6,7}   \n",
       "2  Aix en Provence  43.529842  5.447474     27  {1,2,3,4,5,6,7}   \n",
       "3             Uzes  44.012128  4.419672     27  {1,2,3,4,5,6,7}   \n",
       "4           Cassis  43.214036  5.539632     26  {1,2,3,4,5,6,7}   \n",
       "\n",
       "    temperature_ressentie probabilite_de_pluie  \\\n",
       "0  {29,27,29,29,28,29,34}    {11,95,0,0,1,0,0}   \n",
       "1  {29,25,29,31,27,28,34}    {15,99,0,2,0,0,0}   \n",
       "2  {31,28,29,29,29,29,33}   {28,76,0,40,0,0,0}   \n",
       "3  {28,26,30,30,27,29,34}    {15,96,0,0,1,0,0}   \n",
       "4  {29,26,28,26,28,28,30}   {10,67,0,45,0,0,0}   \n",
       "\n",
       "                               meteo_principale  Temp_moyenne_7jours  \\\n",
       "0  {Clouds,Rain,Clear,Clouds,Clear,Clear,Clear}              29.2857   \n",
       "1  {Clouds,Rain,Clear,Clouds,Clear,Clear,Clear}              29.0000   \n",
       "2    {Clouds,Rain,Clear,Rain,Clear,Clear,Clear}              29.7143   \n",
       "3  {Clouds,Rain,Clear,Clouds,Clear,Clear,Clear}              29.1429   \n",
       "4    {Clouds,Rain,Clear,Rain,Clear,Clear,Clear}              27.8571   \n",
       "\n",
       "   Proba_pluie_7jours  scale_temp  scale_pluie  \n",
       "0             15.2857   17.910074     1.763239  \n",
       "1             16.5714   17.516835     2.253887  \n",
       "2             20.5714   18.500000     3.780365  \n",
       "3             16.0000   17.713523     2.035830  \n",
       "4             17.4286   15.943744     2.581011  "
      ]
     },
     "execution_count": 48,
     "metadata": {},
     "output_type": "execute_result"
    }
   ],
   "source": [
    "top5_cities = text(\"SELECT * FROM meteo ORDER BY score DESC LIMIT 5\")\n",
    "df_top5 = pd.read_sql(top5_cities, engine)\n",
    "df_top5\n"
   ]
  },
  {
   "cell_type": "code",
   "execution_count": 49,
   "metadata": {},
   "outputs": [
    {
     "data": {
      "application/vnd.plotly.v1+json": {
       "config": {
        "plotlyServerURL": "https://plot.ly"
       },
       "data": [
        {
         "customdata": [
          [
           "Nimes",
           43.8374249,
           4.3600687,
           "{1,2,3,4,5,6,7}",
           "{29,27,29,29,28,29,34}",
           "{11,95,0,0,1,0,0}",
           "{Clouds,Rain,Clear,Clouds,Clear,Clear,Clear}",
           29.2857,
           15.2857,
           27,
           17.910073696546405,
           1.763238924312867
          ],
          [
           "Avignon",
           43.9492493,
           4.8059012,
           "{1,2,3,4,5,6,7}",
           "{29,25,29,31,27,28,34}",
           "{15,99,0,2,0,0,0}",
           "{Clouds,Rain,Clear,Clouds,Clear,Clear,Clear}",
           29,
           16.5714,
           27,
           17.516835374342275,
           2.2538870668073936
          ],
          [
           "Aix en Provence",
           43.5298424,
           5.4474738,
           "{1,2,3,4,5,6,7}",
           "{31,28,29,29,29,29,33}",
           "{28,76,0,40,0,0,0}",
           "{Clouds,Rain,Clear,Rain,Clear,Clear,Clear}",
           29.7143,
           20.5714,
           27,
           18.5,
           3.7803649154331276
          ],
          [
           "Uzes",
           44.0121279,
           4.4196718,
           "{1,2,3,4,5,6,7}",
           "{28,26,30,30,27,29,34}",
           "{15,96,0,0,1,0,0}",
           "{Clouds,Rain,Clear,Clouds,Clear,Clear,Clear}",
           29.1429,
           16,
           27,
           17.713523355591736,
           2.0358297061312074
          ],
          [
           "Cassis",
           43.2140359,
           5.5396318,
           "{1,2,3,4,5,6,7}",
           "{29,26,28,26,28,28,30}",
           "{10,67,0,45,0,0,0}",
           "{Clouds,Rain,Clear,Rain,Clear,Clear,Clear}",
           27.8571,
           17.4286,
           26,
           15.943744445230958,
           2.581011269767888
          ]
         ],
         "hovertemplate": "<b>%{hovertext}</b><br><br>ville=%{customdata[0]}<br>meteo_principale=%{customdata[6]}<br>Temp_moyenne_7jours=%{customdata[7]}<br>Proba_pluie_7jours=%{marker.color}<br>score=%{customdata[9]}<extra></extra>",
         "hovertext": [
          "Nimes",
          "Avignon",
          "Aix en Provence",
          "Uzes",
          "Cassis"
         ],
         "lat": [
          43.8374249,
          43.9492493,
          43.5298424,
          44.0121279,
          43.2140359
         ],
         "legendgroup": "",
         "lon": [
          4.3600687,
          4.8059012,
          5.4474738,
          4.4196718,
          5.5396318
         ],
         "marker": {
          "color": [
           15.2857,
           16.5714,
           20.5714,
           16,
           17.4286
          ],
          "coloraxis": "coloraxis",
          "size": [
           1.763238924312867,
           2.2538870668073936,
           3.7803649154331276,
           2.0358297061312074,
           2.581011269767888
          ],
          "sizemode": "area",
          "sizeref": 0.00945091228858282
         },
         "mode": "markers",
         "name": "",
         "showlegend": false,
         "subplot": "mapbox",
         "type": "scattermapbox"
        }
       ],
       "layout": {
        "coloraxis": {
         "colorbar": {
          "title": {
           "text": "Proba_pluie_7jours"
          }
         },
         "colorscale": [
          [
           0,
           "rgb(253, 253, 204)"
          ],
          [
           0.09090909090909091,
           "rgb(206, 236, 179)"
          ],
          [
           0.18181818181818182,
           "rgb(156, 219, 165)"
          ],
          [
           0.2727272727272727,
           "rgb(111, 201, 163)"
          ],
          [
           0.36363636363636365,
           "rgb(86, 177, 163)"
          ],
          [
           0.45454545454545453,
           "rgb(76, 153, 160)"
          ],
          [
           0.5454545454545454,
           "rgb(68, 130, 155)"
          ],
          [
           0.6363636363636364,
           "rgb(62, 108, 150)"
          ],
          [
           0.7272727272727273,
           "rgb(62, 82, 143)"
          ],
          [
           0.8181818181818182,
           "rgb(64, 60, 115)"
          ],
          [
           0.9090909090909091,
           "rgb(54, 43, 77)"
          ],
          [
           1,
           "rgb(39, 26, 44)"
          ]
         ]
        },
        "legend": {
         "itemsizing": "constant",
         "tracegroupgap": 0
        },
        "mapbox": {
         "center": {
          "lat": 43.70853608,
          "lon": 4.914549460000001
         },
         "domain": {
          "x": [
           0,
           1
          ],
          "y": [
           0,
           1
          ]
         },
         "style": "carto-positron",
         "zoom": 5
        },
        "margin": {
         "t": 60
        },
        "template": {
         "data": {
          "bar": [
           {
            "error_x": {
             "color": "#2a3f5f"
            },
            "error_y": {
             "color": "#2a3f5f"
            },
            "marker": {
             "line": {
              "color": "#E5ECF6",
              "width": 0.5
             },
             "pattern": {
              "fillmode": "overlay",
              "size": 10,
              "solidity": 0.2
             }
            },
            "type": "bar"
           }
          ],
          "barpolar": [
           {
            "marker": {
             "line": {
              "color": "#E5ECF6",
              "width": 0.5
             },
             "pattern": {
              "fillmode": "overlay",
              "size": 10,
              "solidity": 0.2
             }
            },
            "type": "barpolar"
           }
          ],
          "carpet": [
           {
            "aaxis": {
             "endlinecolor": "#2a3f5f",
             "gridcolor": "white",
             "linecolor": "white",
             "minorgridcolor": "white",
             "startlinecolor": "#2a3f5f"
            },
            "baxis": {
             "endlinecolor": "#2a3f5f",
             "gridcolor": "white",
             "linecolor": "white",
             "minorgridcolor": "white",
             "startlinecolor": "#2a3f5f"
            },
            "type": "carpet"
           }
          ],
          "choropleth": [
           {
            "colorbar": {
             "outlinewidth": 0,
             "ticks": ""
            },
            "type": "choropleth"
           }
          ],
          "contour": [
           {
            "colorbar": {
             "outlinewidth": 0,
             "ticks": ""
            },
            "colorscale": [
             [
              0,
              "#0d0887"
             ],
             [
              0.1111111111111111,
              "#46039f"
             ],
             [
              0.2222222222222222,
              "#7201a8"
             ],
             [
              0.3333333333333333,
              "#9c179e"
             ],
             [
              0.4444444444444444,
              "#bd3786"
             ],
             [
              0.5555555555555556,
              "#d8576b"
             ],
             [
              0.6666666666666666,
              "#ed7953"
             ],
             [
              0.7777777777777778,
              "#fb9f3a"
             ],
             [
              0.8888888888888888,
              "#fdca26"
             ],
             [
              1,
              "#f0f921"
             ]
            ],
            "type": "contour"
           }
          ],
          "contourcarpet": [
           {
            "colorbar": {
             "outlinewidth": 0,
             "ticks": ""
            },
            "type": "contourcarpet"
           }
          ],
          "heatmap": [
           {
            "colorbar": {
             "outlinewidth": 0,
             "ticks": ""
            },
            "colorscale": [
             [
              0,
              "#0d0887"
             ],
             [
              0.1111111111111111,
              "#46039f"
             ],
             [
              0.2222222222222222,
              "#7201a8"
             ],
             [
              0.3333333333333333,
              "#9c179e"
             ],
             [
              0.4444444444444444,
              "#bd3786"
             ],
             [
              0.5555555555555556,
              "#d8576b"
             ],
             [
              0.6666666666666666,
              "#ed7953"
             ],
             [
              0.7777777777777778,
              "#fb9f3a"
             ],
             [
              0.8888888888888888,
              "#fdca26"
             ],
             [
              1,
              "#f0f921"
             ]
            ],
            "type": "heatmap"
           }
          ],
          "heatmapgl": [
           {
            "colorbar": {
             "outlinewidth": 0,
             "ticks": ""
            },
            "colorscale": [
             [
              0,
              "#0d0887"
             ],
             [
              0.1111111111111111,
              "#46039f"
             ],
             [
              0.2222222222222222,
              "#7201a8"
             ],
             [
              0.3333333333333333,
              "#9c179e"
             ],
             [
              0.4444444444444444,
              "#bd3786"
             ],
             [
              0.5555555555555556,
              "#d8576b"
             ],
             [
              0.6666666666666666,
              "#ed7953"
             ],
             [
              0.7777777777777778,
              "#fb9f3a"
             ],
             [
              0.8888888888888888,
              "#fdca26"
             ],
             [
              1,
              "#f0f921"
             ]
            ],
            "type": "heatmapgl"
           }
          ],
          "histogram": [
           {
            "marker": {
             "pattern": {
              "fillmode": "overlay",
              "size": 10,
              "solidity": 0.2
             }
            },
            "type": "histogram"
           }
          ],
          "histogram2d": [
           {
            "colorbar": {
             "outlinewidth": 0,
             "ticks": ""
            },
            "colorscale": [
             [
              0,
              "#0d0887"
             ],
             [
              0.1111111111111111,
              "#46039f"
             ],
             [
              0.2222222222222222,
              "#7201a8"
             ],
             [
              0.3333333333333333,
              "#9c179e"
             ],
             [
              0.4444444444444444,
              "#bd3786"
             ],
             [
              0.5555555555555556,
              "#d8576b"
             ],
             [
              0.6666666666666666,
              "#ed7953"
             ],
             [
              0.7777777777777778,
              "#fb9f3a"
             ],
             [
              0.8888888888888888,
              "#fdca26"
             ],
             [
              1,
              "#f0f921"
             ]
            ],
            "type": "histogram2d"
           }
          ],
          "histogram2dcontour": [
           {
            "colorbar": {
             "outlinewidth": 0,
             "ticks": ""
            },
            "colorscale": [
             [
              0,
              "#0d0887"
             ],
             [
              0.1111111111111111,
              "#46039f"
             ],
             [
              0.2222222222222222,
              "#7201a8"
             ],
             [
              0.3333333333333333,
              "#9c179e"
             ],
             [
              0.4444444444444444,
              "#bd3786"
             ],
             [
              0.5555555555555556,
              "#d8576b"
             ],
             [
              0.6666666666666666,
              "#ed7953"
             ],
             [
              0.7777777777777778,
              "#fb9f3a"
             ],
             [
              0.8888888888888888,
              "#fdca26"
             ],
             [
              1,
              "#f0f921"
             ]
            ],
            "type": "histogram2dcontour"
           }
          ],
          "mesh3d": [
           {
            "colorbar": {
             "outlinewidth": 0,
             "ticks": ""
            },
            "type": "mesh3d"
           }
          ],
          "parcoords": [
           {
            "line": {
             "colorbar": {
              "outlinewidth": 0,
              "ticks": ""
             }
            },
            "type": "parcoords"
           }
          ],
          "pie": [
           {
            "automargin": true,
            "type": "pie"
           }
          ],
          "scatter": [
           {
            "marker": {
             "colorbar": {
              "outlinewidth": 0,
              "ticks": ""
             }
            },
            "type": "scatter"
           }
          ],
          "scatter3d": [
           {
            "line": {
             "colorbar": {
              "outlinewidth": 0,
              "ticks": ""
             }
            },
            "marker": {
             "colorbar": {
              "outlinewidth": 0,
              "ticks": ""
             }
            },
            "type": "scatter3d"
           }
          ],
          "scattercarpet": [
           {
            "marker": {
             "colorbar": {
              "outlinewidth": 0,
              "ticks": ""
             }
            },
            "type": "scattercarpet"
           }
          ],
          "scattergeo": [
           {
            "marker": {
             "colorbar": {
              "outlinewidth": 0,
              "ticks": ""
             }
            },
            "type": "scattergeo"
           }
          ],
          "scattergl": [
           {
            "marker": {
             "colorbar": {
              "outlinewidth": 0,
              "ticks": ""
             }
            },
            "type": "scattergl"
           }
          ],
          "scattermapbox": [
           {
            "marker": {
             "colorbar": {
              "outlinewidth": 0,
              "ticks": ""
             }
            },
            "type": "scattermapbox"
           }
          ],
          "scatterpolar": [
           {
            "marker": {
             "colorbar": {
              "outlinewidth": 0,
              "ticks": ""
             }
            },
            "type": "scatterpolar"
           }
          ],
          "scatterpolargl": [
           {
            "marker": {
             "colorbar": {
              "outlinewidth": 0,
              "ticks": ""
             }
            },
            "type": "scatterpolargl"
           }
          ],
          "scatterternary": [
           {
            "marker": {
             "colorbar": {
              "outlinewidth": 0,
              "ticks": ""
             }
            },
            "type": "scatterternary"
           }
          ],
          "surface": [
           {
            "colorbar": {
             "outlinewidth": 0,
             "ticks": ""
            },
            "colorscale": [
             [
              0,
              "#0d0887"
             ],
             [
              0.1111111111111111,
              "#46039f"
             ],
             [
              0.2222222222222222,
              "#7201a8"
             ],
             [
              0.3333333333333333,
              "#9c179e"
             ],
             [
              0.4444444444444444,
              "#bd3786"
             ],
             [
              0.5555555555555556,
              "#d8576b"
             ],
             [
              0.6666666666666666,
              "#ed7953"
             ],
             [
              0.7777777777777778,
              "#fb9f3a"
             ],
             [
              0.8888888888888888,
              "#fdca26"
             ],
             [
              1,
              "#f0f921"
             ]
            ],
            "type": "surface"
           }
          ],
          "table": [
           {
            "cells": {
             "fill": {
              "color": "#EBF0F8"
             },
             "line": {
              "color": "white"
             }
            },
            "header": {
             "fill": {
              "color": "#C8D4E3"
             },
             "line": {
              "color": "white"
             }
            },
            "type": "table"
           }
          ]
         },
         "layout": {
          "annotationdefaults": {
           "arrowcolor": "#2a3f5f",
           "arrowhead": 0,
           "arrowwidth": 1
          },
          "autotypenumbers": "strict",
          "coloraxis": {
           "colorbar": {
            "outlinewidth": 0,
            "ticks": ""
           }
          },
          "colorscale": {
           "diverging": [
            [
             0,
             "#8e0152"
            ],
            [
             0.1,
             "#c51b7d"
            ],
            [
             0.2,
             "#de77ae"
            ],
            [
             0.3,
             "#f1b6da"
            ],
            [
             0.4,
             "#fde0ef"
            ],
            [
             0.5,
             "#f7f7f7"
            ],
            [
             0.6,
             "#e6f5d0"
            ],
            [
             0.7,
             "#b8e186"
            ],
            [
             0.8,
             "#7fbc41"
            ],
            [
             0.9,
             "#4d9221"
            ],
            [
             1,
             "#276419"
            ]
           ],
           "sequential": [
            [
             0,
             "#0d0887"
            ],
            [
             0.1111111111111111,
             "#46039f"
            ],
            [
             0.2222222222222222,
             "#7201a8"
            ],
            [
             0.3333333333333333,
             "#9c179e"
            ],
            [
             0.4444444444444444,
             "#bd3786"
            ],
            [
             0.5555555555555556,
             "#d8576b"
            ],
            [
             0.6666666666666666,
             "#ed7953"
            ],
            [
             0.7777777777777778,
             "#fb9f3a"
            ],
            [
             0.8888888888888888,
             "#fdca26"
            ],
            [
             1,
             "#f0f921"
            ]
           ],
           "sequentialminus": [
            [
             0,
             "#0d0887"
            ],
            [
             0.1111111111111111,
             "#46039f"
            ],
            [
             0.2222222222222222,
             "#7201a8"
            ],
            [
             0.3333333333333333,
             "#9c179e"
            ],
            [
             0.4444444444444444,
             "#bd3786"
            ],
            [
             0.5555555555555556,
             "#d8576b"
            ],
            [
             0.6666666666666666,
             "#ed7953"
            ],
            [
             0.7777777777777778,
             "#fb9f3a"
            ],
            [
             0.8888888888888888,
             "#fdca26"
            ],
            [
             1,
             "#f0f921"
            ]
           ]
          },
          "colorway": [
           "#636efa",
           "#EF553B",
           "#00cc96",
           "#ab63fa",
           "#FFA15A",
           "#19d3f3",
           "#FF6692",
           "#B6E880",
           "#FF97FF",
           "#FECB52"
          ],
          "font": {
           "color": "#2a3f5f"
          },
          "geo": {
           "bgcolor": "white",
           "lakecolor": "white",
           "landcolor": "#E5ECF6",
           "showlakes": true,
           "showland": true,
           "subunitcolor": "white"
          },
          "hoverlabel": {
           "align": "left"
          },
          "hovermode": "closest",
          "mapbox": {
           "style": "light"
          },
          "paper_bgcolor": "white",
          "plot_bgcolor": "#E5ECF6",
          "polar": {
           "angularaxis": {
            "gridcolor": "white",
            "linecolor": "white",
            "ticks": ""
           },
           "bgcolor": "#E5ECF6",
           "radialaxis": {
            "gridcolor": "white",
            "linecolor": "white",
            "ticks": ""
           }
          },
          "scene": {
           "xaxis": {
            "backgroundcolor": "#E5ECF6",
            "gridcolor": "white",
            "gridwidth": 2,
            "linecolor": "white",
            "showbackground": true,
            "ticks": "",
            "zerolinecolor": "white"
           },
           "yaxis": {
            "backgroundcolor": "#E5ECF6",
            "gridcolor": "white",
            "gridwidth": 2,
            "linecolor": "white",
            "showbackground": true,
            "ticks": "",
            "zerolinecolor": "white"
           },
           "zaxis": {
            "backgroundcolor": "#E5ECF6",
            "gridcolor": "white",
            "gridwidth": 2,
            "linecolor": "white",
            "showbackground": true,
            "ticks": "",
            "zerolinecolor": "white"
           }
          },
          "shapedefaults": {
           "line": {
            "color": "#2a3f5f"
           }
          },
          "ternary": {
           "aaxis": {
            "gridcolor": "white",
            "linecolor": "white",
            "ticks": ""
           },
           "baxis": {
            "gridcolor": "white",
            "linecolor": "white",
            "ticks": ""
           },
           "bgcolor": "#E5ECF6",
           "caxis": {
            "gridcolor": "white",
            "linecolor": "white",
            "ticks": ""
           }
          },
          "title": {
           "x": 0.05
          },
          "xaxis": {
           "automargin": true,
           "gridcolor": "white",
           "linecolor": "white",
           "ticks": "",
           "title": {
            "standoff": 15
           },
           "zerolinecolor": "white",
           "zerolinewidth": 2
          },
          "yaxis": {
           "automargin": true,
           "gridcolor": "white",
           "linecolor": "white",
           "ticks": "",
           "title": {
            "standoff": 15
           },
           "zerolinecolor": "white",
           "zerolinewidth": 2
          }
         }
        }
       }
      }
     },
     "metadata": {},
     "output_type": "display_data"
    }
   ],
   "source": [
    "fig = px.scatter_mapbox(\n",
    "    df_top5,\n",
    "    lat=\"lat\",\n",
    "    lon=\"lon\",\n",
    "    hover_name=\"ville\",\n",
    "    hover_data={\n",
    "        \"ville\": True,\n",
    "        \"lat\": False,\n",
    "        \"lon\": False,\n",
    "        \"jour_+x\": False,\n",
    "        \"temperature_ressentie\": False,\n",
    "        \"probabilite_de_pluie\": False,\n",
    "        \"meteo_principale\": True,\n",
    "        \"Temp_moyenne_7jours\": True,\n",
    "        \"Proba_pluie_7jours\": True,\n",
    "        \"score\": True,\n",
    "        \"scale_temp\": False,\n",
    "        \"scale_pluie\": False,\n",
    "    },\n",
    "    color=\"Proba_pluie_7jours\",\n",
    "    size=\"scale_pluie\",\n",
    "    zoom=5,\n",
    "    color_continuous_scale=\"deep\",\n",
    "    mapbox_style=\"carto-positron\",\n",
    ")\n",
    "fig.show()\n"
   ]
  },
  {
   "cell_type": "markdown",
   "metadata": {},
   "source": [
    "## Top-20 hotels in the area"
   ]
  },
  {
   "cell_type": "code",
   "execution_count": 50,
   "metadata": {},
   "outputs": [
    {
     "name": "stdout",
     "output_type": "stream",
     "text": [
      "2022-06-26 07:43:11,341 INFO sqlalchemy.engine.Engine select relname from pg_class c join pg_namespace n on n.oid=c.relnamespace where pg_catalog.pg_table_is_visible(c.oid) and relname=%(name)s\n"
     ]
    },
    {
     "name": "stderr",
     "output_type": "stream",
     "text": [
      "2022-06-26 07:43:11 [sqlalchemy.engine.Engine] INFO: select relname from pg_class c join pg_namespace n on n.oid=c.relnamespace where pg_catalog.pg_table_is_visible(c.oid) and relname=%(name)s\n"
     ]
    },
    {
     "name": "stdout",
     "output_type": "stream",
     "text": [
      "2022-06-26 07:43:11,342 INFO sqlalchemy.engine.Engine [cached since 3.258s ago] {'name': 'SELECT * FROM hotels WHERE ville IN (SELECT ville FROM meteo ORDER BY score DESC LIMIT 5) ORDER BY score DESC LIMIT 20'}\n"
     ]
    },
    {
     "name": "stderr",
     "output_type": "stream",
     "text": [
      "2022-06-26 07:43:11 [sqlalchemy.engine.Engine] INFO: [cached since 3.258s ago] {'name': 'SELECT * FROM hotels WHERE ville IN (SELECT ville FROM meteo ORDER BY score DESC LIMIT 5) ORDER BY score DESC LIMIT 20'}\n"
     ]
    },
    {
     "name": "stdout",
     "output_type": "stream",
     "text": [
      "2022-06-26 07:43:11,356 INFO sqlalchemy.engine.Engine SELECT * FROM hotels WHERE ville IN (SELECT ville FROM meteo ORDER BY score DESC LIMIT 5) ORDER BY score DESC LIMIT 20\n"
     ]
    },
    {
     "name": "stderr",
     "output_type": "stream",
     "text": [
      "2022-06-26 07:43:11 [sqlalchemy.engine.Engine] INFO: SELECT * FROM hotels WHERE ville IN (SELECT ville FROM meteo ORDER BY score DESC LIMIT 5) ORDER BY score DESC LIMIT 20\n"
     ]
    },
    {
     "name": "stdout",
     "output_type": "stream",
     "text": [
      "2022-06-26 07:43:11,357 INFO sqlalchemy.engine.Engine [generated in 0.00081s] {}\n"
     ]
    },
    {
     "name": "stderr",
     "output_type": "stream",
     "text": [
      "2022-06-26 07:43:11 [sqlalchemy.engine.Engine] INFO: [generated in 0.00081s] {}\n"
     ]
    },
    {
     "data": {
      "text/html": [
       "<div>\n",
       "<style scoped>\n",
       "    .dataframe tbody tr th:only-of-type {\n",
       "        vertical-align: middle;\n",
       "    }\n",
       "\n",
       "    .dataframe tbody tr th {\n",
       "        vertical-align: top;\n",
       "    }\n",
       "\n",
       "    .dataframe thead th {\n",
       "        text-align: right;\n",
       "    }\n",
       "</style>\n",
       "<table border=\"1\" class=\"dataframe\">\n",
       "  <thead>\n",
       "    <tr style=\"text-align: right;\">\n",
       "      <th></th>\n",
       "      <th>ville</th>\n",
       "      <th>hotels</th>\n",
       "      <th>liens</th>\n",
       "      <th>lat</th>\n",
       "      <th>lon</th>\n",
       "      <th>description</th>\n",
       "      <th>score</th>\n",
       "      <th>meteo_score</th>\n",
       "    </tr>\n",
       "  </thead>\n",
       "  <tbody>\n",
       "    <tr>\n",
       "      <th>0</th>\n",
       "      <td>Uzes</td>\n",
       "      <td>AU BORD DE L'ALZON</td>\n",
       "      <td>https://www.booking.com/hotel/fr/au-bord-de-l-...</td>\n",
       "      <td>43.995238</td>\n",
       "      <td>4.421976</td>\n",
       "      <td>\\n\\nVous pouvez bénéficier d'une réduction Gen...</td>\n",
       "      <td>9,9</td>\n",
       "      <td>27</td>\n",
       "    </tr>\n",
       "    <tr>\n",
       "      <th>1</th>\n",
       "      <td>Uzes</td>\n",
       "      <td>Mas d orient</td>\n",
       "      <td>https://www.booking.com/hotel/fr/mas-d-orient-...</td>\n",
       "      <td>44.020244</td>\n",
       "      <td>4.409254</td>\n",
       "      <td>\\n\\nVous pouvez bénéficier d'une réduction Gen...</td>\n",
       "      <td>9,8</td>\n",
       "      <td>27</td>\n",
       "    </tr>\n",
       "    <tr>\n",
       "      <th>2</th>\n",
       "      <td>Uzes</td>\n",
       "      <td>Appartement de charme dans le cœur historique ...</td>\n",
       "      <td>https://www.booking.com/hotel/fr/appartement-d...</td>\n",
       "      <td>44.012505</td>\n",
       "      <td>4.420930</td>\n",
       "      <td>\\nVous pouvez bénéficier d'une réduction Geniu...</td>\n",
       "      <td>9,7</td>\n",
       "      <td>27</td>\n",
       "    </tr>\n",
       "    <tr>\n",
       "      <th>3</th>\n",
       "      <td>Uzes</td>\n",
       "      <td>Maison de charme Uzès, parking privé</td>\n",
       "      <td>https://www.booking.com/hotel/fr/maison-de-cha...</td>\n",
       "      <td>44.014756</td>\n",
       "      <td>4.420526</td>\n",
       "      <td>\\nSituée à Uzès, en Languedoc-Roussillon, la M...</td>\n",
       "      <td>9,7</td>\n",
       "      <td>27</td>\n",
       "    </tr>\n",
       "    <tr>\n",
       "      <th>4</th>\n",
       "      <td>Uzes</td>\n",
       "      <td>DUPLEX CENTRE HISTORIQUE UZES</td>\n",
       "      <td>https://www.booking.com/hotel/fr/duplex-centre...</td>\n",
       "      <td>44.012349</td>\n",
       "      <td>4.418470</td>\n",
       "      <td>\\n\\nVous pouvez bénéficier d'une réduction Gen...</td>\n",
       "      <td>9,7</td>\n",
       "      <td>27</td>\n",
       "    </tr>\n",
       "    <tr>\n",
       "      <th>5</th>\n",
       "      <td>Cassis</td>\n",
       "      <td>SunSet Cassis</td>\n",
       "      <td>https://www.booking.com/hotel/fr/sunset-cassis...</td>\n",
       "      <td>43.215456</td>\n",
       "      <td>5.535734</td>\n",
       "      <td>\\nCet établissement est à 1 minute à pied de l...</td>\n",
       "      <td>9,5</td>\n",
       "      <td>26</td>\n",
       "    </tr>\n",
       "    <tr>\n",
       "      <th>6</th>\n",
       "      <td>Cassis</td>\n",
       "      <td>SunRise Cassis</td>\n",
       "      <td>https://www.booking.com/hotel/fr/sunrise-cassi...</td>\n",
       "      <td>43.215219</td>\n",
       "      <td>5.535682</td>\n",
       "      <td>\\nCet établissement est à 2 minutes à pied de ...</td>\n",
       "      <td>9,5</td>\n",
       "      <td>26</td>\n",
       "    </tr>\n",
       "    <tr>\n",
       "      <th>7</th>\n",
       "      <td>Avignon</td>\n",
       "      <td>la chambre des petits papes, intra muros</td>\n",
       "      <td>https://www.booking.com/hotel/fr/la-chambre-de...</td>\n",
       "      <td>43.951352</td>\n",
       "      <td>4.811561</td>\n",
       "      <td>\\nSituée à Avignon, la chambre des petits pape...</td>\n",
       "      <td>9,5</td>\n",
       "      <td>27</td>\n",
       "    </tr>\n",
       "    <tr>\n",
       "      <th>8</th>\n",
       "      <td>Uzes</td>\n",
       "      <td>La petite maison</td>\n",
       "      <td>https://www.booking.com/hotel/fr/la-petite-mai...</td>\n",
       "      <td>44.013512</td>\n",
       "      <td>4.416768</td>\n",
       "      <td>\\nLa petite maison est située à Uzès. Offrant ...</td>\n",
       "      <td>9,3</td>\n",
       "      <td>27</td>\n",
       "    </tr>\n",
       "    <tr>\n",
       "      <th>9</th>\n",
       "      <td>Cassis</td>\n",
       "      <td>La douceur de Cassis</td>\n",
       "      <td>https://www.booking.com/hotel/fr/la-douceur-de...</td>\n",
       "      <td>43.215009</td>\n",
       "      <td>5.530956</td>\n",
       "      <td>\\nCet établissement est à 6 minutes à pied de ...</td>\n",
       "      <td>9,3</td>\n",
       "      <td>26</td>\n",
       "    </tr>\n",
       "    <tr>\n",
       "      <th>10</th>\n",
       "      <td>Nimes</td>\n",
       "      <td>Margaret - Hôtel Chouleur</td>\n",
       "      <td>https://www.booking.com/hotel/fr/margaret-chou...</td>\n",
       "      <td>43.837117</td>\n",
       "      <td>4.357898</td>\n",
       "      <td>\\nSitué à Nîmes, le Margaret - Hôtel Chouleur ...</td>\n",
       "      <td>9,3</td>\n",
       "      <td>27</td>\n",
       "    </tr>\n",
       "    <tr>\n",
       "      <th>11</th>\n",
       "      <td>Cassis</td>\n",
       "      <td>Cassis Ma Vie Là</td>\n",
       "      <td>https://www.booking.com/hotel/fr/cassis-ma-vie...</td>\n",
       "      <td>43.216905</td>\n",
       "      <td>5.541446</td>\n",
       "      <td>\\nVous pouvez bénéficier d'une réduction Geniu...</td>\n",
       "      <td>9,2</td>\n",
       "      <td>26</td>\n",
       "    </tr>\n",
       "    <tr>\n",
       "      <th>12</th>\n",
       "      <td>Uzes</td>\n",
       "      <td>La Villa Léa</td>\n",
       "      <td>https://www.booking.com/hotel/fr/la-villa-lea....</td>\n",
       "      <td>44.014362</td>\n",
       "      <td>4.410920</td>\n",
       "      <td>\\nDotée d’une piscine extérieure et d’une terr...</td>\n",
       "      <td>9,2</td>\n",
       "      <td>27</td>\n",
       "    </tr>\n",
       "    <tr>\n",
       "      <th>13</th>\n",
       "      <td>Uzes</td>\n",
       "      <td>Gite des Alexandrins</td>\n",
       "      <td>https://www.booking.com/hotel/fr/gite-des-alex...</td>\n",
       "      <td>43.996737</td>\n",
       "      <td>4.426861</td>\n",
       "      <td>\\nL'appartement Gite des Alexandrins est situé...</td>\n",
       "      <td>9,2</td>\n",
       "      <td>27</td>\n",
       "    </tr>\n",
       "    <tr>\n",
       "      <th>14</th>\n",
       "      <td>Cassis</td>\n",
       "      <td>HPC Suites</td>\n",
       "      <td>https://www.booking.com/hotel/fr/hpc-suites.fr...</td>\n",
       "      <td>43.216440</td>\n",
       "      <td>5.541746</td>\n",
       "      <td>\\n\\nVous pouvez bénéficier d'une réduction Gen...</td>\n",
       "      <td>9,2</td>\n",
       "      <td>26</td>\n",
       "    </tr>\n",
       "    <tr>\n",
       "      <th>15</th>\n",
       "      <td>Uzes</td>\n",
       "      <td>Le trente trois</td>\n",
       "      <td>https://www.booking.com/hotel/fr/le-trente-tro...</td>\n",
       "      <td>44.009642</td>\n",
       "      <td>4.417885</td>\n",
       "      <td>\\nOffrant une vue sur la ville, l'établissemen...</td>\n",
       "      <td>9,1</td>\n",
       "      <td>27</td>\n",
       "    </tr>\n",
       "    <tr>\n",
       "      <th>16</th>\n",
       "      <td>Cassis</td>\n",
       "      <td>La forlane</td>\n",
       "      <td>https://www.booking.com/hotel/fr/la-forlane-ca...</td>\n",
       "      <td>43.220085</td>\n",
       "      <td>5.531287</td>\n",
       "      <td>\\nCet établissement est à 6 minutes à pied de ...</td>\n",
       "      <td>9,1</td>\n",
       "      <td>26</td>\n",
       "    </tr>\n",
       "    <tr>\n",
       "      <th>17</th>\n",
       "      <td>Cassis</td>\n",
       "      <td>Appart Port Cassis Village Parking</td>\n",
       "      <td>https://www.booking.com/hotel/fr/appartement-p...</td>\n",
       "      <td>43.214626</td>\n",
       "      <td>5.537844</td>\n",
       "      <td>\\nCet établissement est à 1 minute à pied de l...</td>\n",
       "      <td>9,0</td>\n",
       "      <td>26</td>\n",
       "    </tr>\n",
       "    <tr>\n",
       "      <th>18</th>\n",
       "      <td>Avignon</td>\n",
       "      <td>Les petits poissons</td>\n",
       "      <td>https://www.booking.com/hotel/fr/les-petits-po...</td>\n",
       "      <td>43.936195</td>\n",
       "      <td>4.826001</td>\n",
       "      <td>\\nSitué à Avignon, l'établissement Les petits ...</td>\n",
       "      <td>9,0</td>\n",
       "      <td>27</td>\n",
       "    </tr>\n",
       "    <tr>\n",
       "      <th>19</th>\n",
       "      <td>Cassis</td>\n",
       "      <td>Cassis centre</td>\n",
       "      <td>https://www.booking.com/hotel/fr/cassis-centre...</td>\n",
       "      <td>43.217373</td>\n",
       "      <td>5.536358</td>\n",
       "      <td>\\nVous pouvez bénéficier d'une réduction Geniu...</td>\n",
       "      <td>8,9</td>\n",
       "      <td>26</td>\n",
       "    </tr>\n",
       "  </tbody>\n",
       "</table>\n",
       "</div>"
      ],
      "text/plain": [
       "      ville                                             hotels  \\\n",
       "0      Uzes                                 AU BORD DE L'ALZON   \n",
       "1      Uzes                                       Mas d orient   \n",
       "2      Uzes  Appartement de charme dans le cœur historique ...   \n",
       "3      Uzes               Maison de charme Uzès, parking privé   \n",
       "4      Uzes                      DUPLEX CENTRE HISTORIQUE UZES   \n",
       "5    Cassis                                      SunSet Cassis   \n",
       "6    Cassis                                     SunRise Cassis   \n",
       "7   Avignon           la chambre des petits papes, intra muros   \n",
       "8      Uzes                                   La petite maison   \n",
       "9    Cassis                               La douceur de Cassis   \n",
       "10    Nimes                          Margaret - Hôtel Chouleur   \n",
       "11   Cassis                                   Cassis Ma Vie Là   \n",
       "12     Uzes                                       La Villa Léa   \n",
       "13     Uzes                               Gite des Alexandrins   \n",
       "14   Cassis                                         HPC Suites   \n",
       "15     Uzes                                    Le trente trois   \n",
       "16   Cassis                                         La forlane   \n",
       "17   Cassis                 Appart Port Cassis Village Parking   \n",
       "18  Avignon                                Les petits poissons   \n",
       "19   Cassis                                      Cassis centre   \n",
       "\n",
       "                                                liens        lat       lon  \\\n",
       "0   https://www.booking.com/hotel/fr/au-bord-de-l-...  43.995238  4.421976   \n",
       "1   https://www.booking.com/hotel/fr/mas-d-orient-...  44.020244  4.409254   \n",
       "2   https://www.booking.com/hotel/fr/appartement-d...  44.012505  4.420930   \n",
       "3   https://www.booking.com/hotel/fr/maison-de-cha...  44.014756  4.420526   \n",
       "4   https://www.booking.com/hotel/fr/duplex-centre...  44.012349  4.418470   \n",
       "5   https://www.booking.com/hotel/fr/sunset-cassis...  43.215456  5.535734   \n",
       "6   https://www.booking.com/hotel/fr/sunrise-cassi...  43.215219  5.535682   \n",
       "7   https://www.booking.com/hotel/fr/la-chambre-de...  43.951352  4.811561   \n",
       "8   https://www.booking.com/hotel/fr/la-petite-mai...  44.013512  4.416768   \n",
       "9   https://www.booking.com/hotel/fr/la-douceur-de...  43.215009  5.530956   \n",
       "10  https://www.booking.com/hotel/fr/margaret-chou...  43.837117  4.357898   \n",
       "11  https://www.booking.com/hotel/fr/cassis-ma-vie...  43.216905  5.541446   \n",
       "12  https://www.booking.com/hotel/fr/la-villa-lea....  44.014362  4.410920   \n",
       "13  https://www.booking.com/hotel/fr/gite-des-alex...  43.996737  4.426861   \n",
       "14  https://www.booking.com/hotel/fr/hpc-suites.fr...  43.216440  5.541746   \n",
       "15  https://www.booking.com/hotel/fr/le-trente-tro...  44.009642  4.417885   \n",
       "16  https://www.booking.com/hotel/fr/la-forlane-ca...  43.220085  5.531287   \n",
       "17  https://www.booking.com/hotel/fr/appartement-p...  43.214626  5.537844   \n",
       "18  https://www.booking.com/hotel/fr/les-petits-po...  43.936195  4.826001   \n",
       "19  https://www.booking.com/hotel/fr/cassis-centre...  43.217373  5.536358   \n",
       "\n",
       "                                          description score  meteo_score  \n",
       "0   \\n\\nVous pouvez bénéficier d'une réduction Gen...   9,9           27  \n",
       "1   \\n\\nVous pouvez bénéficier d'une réduction Gen...   9,8           27  \n",
       "2   \\nVous pouvez bénéficier d'une réduction Geniu...   9,7           27  \n",
       "3   \\nSituée à Uzès, en Languedoc-Roussillon, la M...   9,7           27  \n",
       "4   \\n\\nVous pouvez bénéficier d'une réduction Gen...   9,7           27  \n",
       "5   \\nCet établissement est à 1 minute à pied de l...   9,5           26  \n",
       "6   \\nCet établissement est à 2 minutes à pied de ...   9,5           26  \n",
       "7   \\nSituée à Avignon, la chambre des petits pape...   9,5           27  \n",
       "8   \\nLa petite maison est située à Uzès. Offrant ...   9,3           27  \n",
       "9   \\nCet établissement est à 6 minutes à pied de ...   9,3           26  \n",
       "10  \\nSitué à Nîmes, le Margaret - Hôtel Chouleur ...   9,3           27  \n",
       "11  \\nVous pouvez bénéficier d'une réduction Geniu...   9,2           26  \n",
       "12  \\nDotée d’une piscine extérieure et d’une terr...   9,2           27  \n",
       "13  \\nL'appartement Gite des Alexandrins est situé...   9,2           27  \n",
       "14  \\n\\nVous pouvez bénéficier d'une réduction Gen...   9,2           26  \n",
       "15  \\nOffrant une vue sur la ville, l'établissemen...   9,1           27  \n",
       "16  \\nCet établissement est à 6 minutes à pied de ...   9,1           26  \n",
       "17  \\nCet établissement est à 1 minute à pied de l...   9,0           26  \n",
       "18  \\nSitué à Avignon, l'établissement Les petits ...   9,0           27  \n",
       "19  \\nVous pouvez bénéficier d'une réduction Geniu...   8,9           26  "
      ]
     },
     "execution_count": 50,
     "metadata": {},
     "output_type": "execute_result"
    }
   ],
   "source": [
    "top20_hotels = text(\n",
    "    \"SELECT * FROM hotels WHERE ville IN (SELECT ville FROM meteo ORDER BY score DESC LIMIT 5) ORDER BY score DESC LIMIT 20\"\n",
    ")\n",
    "\n",
    "\n",
    "# need to nested query to get the score of the hotel => slect * form hotels where (query top5_cities) limit 20\n",
    "\n",
    "# Et du coup pas besoin de score meteo dans df_gps_hotels...\n",
    "\n",
    "df_top20 = pd.read_sql(top20_hotels, engine)\n",
    "df_top20\n"
   ]
  },
  {
   "cell_type": "code",
   "execution_count": 54,
   "metadata": {},
   "outputs": [
    {
     "data": {
      "application/vnd.plotly.v1+json": {
       "config": {
        "plotlyServerURL": "https://plot.ly"
       },
       "data": [
        {
         "customdata": [
          [
           "Uzes",
           43.995238,
           4.421976,
           "9,9"
          ],
          [
           "Uzes",
           44.020244,
           4.409254,
           "9,8"
          ],
          [
           "Uzes",
           44.01250536,
           4.42093049,
           "9,7"
          ],
          [
           "Uzes",
           44.014756,
           4.420526,
           "9,7"
          ],
          [
           "Uzes",
           44.012349,
           4.41847,
           "9,7"
          ],
          [
           "Uzes",
           44.01351207,
           4.41676841,
           "9,3"
          ],
          [
           "Uzes",
           44.0143623,
           4.41091965,
           "9,2"
          ],
          [
           "Uzes",
           43.996737,
           4.426861,
           "9,2"
          ],
          [
           "Uzes",
           44.00964195,
           4.41788524,
           "9,1"
          ]
         ],
         "hovertemplate": "<b>%{hovertext}</b><br><br>ville=%{customdata[0]}<br>score=%{customdata[3]}<extra></extra>",
         "hovertext": [
          "AU BORD DE L'ALZON",
          "Mas d orient",
          "Appartement de charme dans le cœur historique d’Uzès",
          "Maison de charme Uzès, parking privé",
          "DUPLEX CENTRE HISTORIQUE UZES",
          "La petite maison",
          "La Villa Léa",
          "Gite des Alexandrins",
          "Le trente trois"
         ],
         "lat": [
          43.995238,
          44.020244,
          44.01250536,
          44.014756,
          44.012349,
          44.01351207,
          44.0143623,
          43.996737,
          44.00964195
         ],
         "legendgroup": "Uzes",
         "lon": [
          4.421976,
          4.409254,
          4.42093049,
          4.420526,
          4.41847,
          4.41676841,
          4.41091965,
          4.426861,
          4.41788524
         ],
         "marker": {
          "color": "#636efa"
         },
         "mode": "markers",
         "name": "Uzes",
         "showlegend": true,
         "subplot": "mapbox",
         "type": "scattermapbox"
        },
        {
         "customdata": [
          [
           "Cassis",
           43.215456,
           5.535734,
           "9,5"
          ],
          [
           "Cassis",
           43.21521908,
           5.53568187,
           "9,5"
          ],
          [
           "Cassis",
           43.215009,
           5.530956,
           "9,3"
          ],
          [
           "Cassis",
           43.216905,
           5.541446,
           "9,2"
          ],
          [
           "Cassis",
           43.21644024,
           5.54174572,
           "9,2"
          ],
          [
           "Cassis",
           43.22008475,
           5.53128685,
           "9,1"
          ],
          [
           "Cassis",
           43.21462613,
           5.53784391,
           "9,0"
          ],
          [
           "Cassis",
           43.21737259,
           5.53635836,
           "8,9"
          ]
         ],
         "hovertemplate": "<b>%{hovertext}</b><br><br>ville=%{customdata[0]}<br>score=%{customdata[3]}<extra></extra>",
         "hovertext": [
          "SunSet Cassis",
          "SunRise Cassis",
          "La douceur de Cassis",
          "Cassis Ma Vie Là",
          "HPC Suites",
          "La forlane",
          "Appart Port Cassis Village Parking",
          "Cassis centre"
         ],
         "lat": [
          43.215456,
          43.21521908,
          43.215009,
          43.216905,
          43.21644024,
          43.22008475,
          43.21462613,
          43.21737259
         ],
         "legendgroup": "Cassis",
         "lon": [
          5.535734,
          5.53568187,
          5.530956,
          5.541446,
          5.54174572,
          5.53128685,
          5.53784391,
          5.53635836
         ],
         "marker": {
          "color": "#EF553B"
         },
         "mode": "markers",
         "name": "Cassis",
         "showlegend": true,
         "subplot": "mapbox",
         "type": "scattermapbox"
        },
        {
         "customdata": [
          [
           "Avignon",
           43.95135215,
           4.81156054,
           "9,5"
          ],
          [
           "Avignon",
           43.9361955,
           4.82600075,
           "9,0"
          ]
         ],
         "hovertemplate": "<b>%{hovertext}</b><br><br>ville=%{customdata[0]}<br>score=%{customdata[3]}<extra></extra>",
         "hovertext": [
          "la chambre des petits papes, intra muros",
          "Les petits poissons"
         ],
         "lat": [
          43.95135215,
          43.9361955
         ],
         "legendgroup": "Avignon",
         "lon": [
          4.81156054,
          4.82600075
         ],
         "marker": {
          "color": "#00cc96"
         },
         "mode": "markers",
         "name": "Avignon",
         "showlegend": true,
         "subplot": "mapbox",
         "type": "scattermapbox"
        },
        {
         "customdata": [
          [
           "Nimes",
           43.837117,
           4.357898,
           "9,3"
          ]
         ],
         "hovertemplate": "<b>%{hovertext}</b><br><br>ville=%{customdata[0]}<br>score=%{customdata[3]}<extra></extra>",
         "hovertext": [
          "Margaret - Hôtel Chouleur"
         ],
         "lat": [
          43.837117
         ],
         "legendgroup": "Nimes",
         "lon": [
          4.357898
         ],
         "marker": {
          "color": "#ab63fa"
         },
         "mode": "markers",
         "name": "Nimes",
         "showlegend": true,
         "subplot": "mapbox",
         "type": "scattermapbox"
        }
       ],
       "layout": {
        "legend": {
         "title": {
          "text": "ville"
         },
         "tracegroupgap": 0
        },
        "mapbox": {
         "center": {
          "lat": 43.677256156,
          "lon": 4.9025051395000006
         },
         "domain": {
          "x": [
           0,
           1
          ],
          "y": [
           0,
           1
          ]
         },
         "style": "carto-positron",
         "zoom": 6
        },
        "margin": {
         "t": 60
        },
        "template": {
         "data": {
          "bar": [
           {
            "error_x": {
             "color": "#2a3f5f"
            },
            "error_y": {
             "color": "#2a3f5f"
            },
            "marker": {
             "line": {
              "color": "#E5ECF6",
              "width": 0.5
             },
             "pattern": {
              "fillmode": "overlay",
              "size": 10,
              "solidity": 0.2
             }
            },
            "type": "bar"
           }
          ],
          "barpolar": [
           {
            "marker": {
             "line": {
              "color": "#E5ECF6",
              "width": 0.5
             },
             "pattern": {
              "fillmode": "overlay",
              "size": 10,
              "solidity": 0.2
             }
            },
            "type": "barpolar"
           }
          ],
          "carpet": [
           {
            "aaxis": {
             "endlinecolor": "#2a3f5f",
             "gridcolor": "white",
             "linecolor": "white",
             "minorgridcolor": "white",
             "startlinecolor": "#2a3f5f"
            },
            "baxis": {
             "endlinecolor": "#2a3f5f",
             "gridcolor": "white",
             "linecolor": "white",
             "minorgridcolor": "white",
             "startlinecolor": "#2a3f5f"
            },
            "type": "carpet"
           }
          ],
          "choropleth": [
           {
            "colorbar": {
             "outlinewidth": 0,
             "ticks": ""
            },
            "type": "choropleth"
           }
          ],
          "contour": [
           {
            "colorbar": {
             "outlinewidth": 0,
             "ticks": ""
            },
            "colorscale": [
             [
              0,
              "#0d0887"
             ],
             [
              0.1111111111111111,
              "#46039f"
             ],
             [
              0.2222222222222222,
              "#7201a8"
             ],
             [
              0.3333333333333333,
              "#9c179e"
             ],
             [
              0.4444444444444444,
              "#bd3786"
             ],
             [
              0.5555555555555556,
              "#d8576b"
             ],
             [
              0.6666666666666666,
              "#ed7953"
             ],
             [
              0.7777777777777778,
              "#fb9f3a"
             ],
             [
              0.8888888888888888,
              "#fdca26"
             ],
             [
              1,
              "#f0f921"
             ]
            ],
            "type": "contour"
           }
          ],
          "contourcarpet": [
           {
            "colorbar": {
             "outlinewidth": 0,
             "ticks": ""
            },
            "type": "contourcarpet"
           }
          ],
          "heatmap": [
           {
            "colorbar": {
             "outlinewidth": 0,
             "ticks": ""
            },
            "colorscale": [
             [
              0,
              "#0d0887"
             ],
             [
              0.1111111111111111,
              "#46039f"
             ],
             [
              0.2222222222222222,
              "#7201a8"
             ],
             [
              0.3333333333333333,
              "#9c179e"
             ],
             [
              0.4444444444444444,
              "#bd3786"
             ],
             [
              0.5555555555555556,
              "#d8576b"
             ],
             [
              0.6666666666666666,
              "#ed7953"
             ],
             [
              0.7777777777777778,
              "#fb9f3a"
             ],
             [
              0.8888888888888888,
              "#fdca26"
             ],
             [
              1,
              "#f0f921"
             ]
            ],
            "type": "heatmap"
           }
          ],
          "heatmapgl": [
           {
            "colorbar": {
             "outlinewidth": 0,
             "ticks": ""
            },
            "colorscale": [
             [
              0,
              "#0d0887"
             ],
             [
              0.1111111111111111,
              "#46039f"
             ],
             [
              0.2222222222222222,
              "#7201a8"
             ],
             [
              0.3333333333333333,
              "#9c179e"
             ],
             [
              0.4444444444444444,
              "#bd3786"
             ],
             [
              0.5555555555555556,
              "#d8576b"
             ],
             [
              0.6666666666666666,
              "#ed7953"
             ],
             [
              0.7777777777777778,
              "#fb9f3a"
             ],
             [
              0.8888888888888888,
              "#fdca26"
             ],
             [
              1,
              "#f0f921"
             ]
            ],
            "type": "heatmapgl"
           }
          ],
          "histogram": [
           {
            "marker": {
             "pattern": {
              "fillmode": "overlay",
              "size": 10,
              "solidity": 0.2
             }
            },
            "type": "histogram"
           }
          ],
          "histogram2d": [
           {
            "colorbar": {
             "outlinewidth": 0,
             "ticks": ""
            },
            "colorscale": [
             [
              0,
              "#0d0887"
             ],
             [
              0.1111111111111111,
              "#46039f"
             ],
             [
              0.2222222222222222,
              "#7201a8"
             ],
             [
              0.3333333333333333,
              "#9c179e"
             ],
             [
              0.4444444444444444,
              "#bd3786"
             ],
             [
              0.5555555555555556,
              "#d8576b"
             ],
             [
              0.6666666666666666,
              "#ed7953"
             ],
             [
              0.7777777777777778,
              "#fb9f3a"
             ],
             [
              0.8888888888888888,
              "#fdca26"
             ],
             [
              1,
              "#f0f921"
             ]
            ],
            "type": "histogram2d"
           }
          ],
          "histogram2dcontour": [
           {
            "colorbar": {
             "outlinewidth": 0,
             "ticks": ""
            },
            "colorscale": [
             [
              0,
              "#0d0887"
             ],
             [
              0.1111111111111111,
              "#46039f"
             ],
             [
              0.2222222222222222,
              "#7201a8"
             ],
             [
              0.3333333333333333,
              "#9c179e"
             ],
             [
              0.4444444444444444,
              "#bd3786"
             ],
             [
              0.5555555555555556,
              "#d8576b"
             ],
             [
              0.6666666666666666,
              "#ed7953"
             ],
             [
              0.7777777777777778,
              "#fb9f3a"
             ],
             [
              0.8888888888888888,
              "#fdca26"
             ],
             [
              1,
              "#f0f921"
             ]
            ],
            "type": "histogram2dcontour"
           }
          ],
          "mesh3d": [
           {
            "colorbar": {
             "outlinewidth": 0,
             "ticks": ""
            },
            "type": "mesh3d"
           }
          ],
          "parcoords": [
           {
            "line": {
             "colorbar": {
              "outlinewidth": 0,
              "ticks": ""
             }
            },
            "type": "parcoords"
           }
          ],
          "pie": [
           {
            "automargin": true,
            "type": "pie"
           }
          ],
          "scatter": [
           {
            "marker": {
             "colorbar": {
              "outlinewidth": 0,
              "ticks": ""
             }
            },
            "type": "scatter"
           }
          ],
          "scatter3d": [
           {
            "line": {
             "colorbar": {
              "outlinewidth": 0,
              "ticks": ""
             }
            },
            "marker": {
             "colorbar": {
              "outlinewidth": 0,
              "ticks": ""
             }
            },
            "type": "scatter3d"
           }
          ],
          "scattercarpet": [
           {
            "marker": {
             "colorbar": {
              "outlinewidth": 0,
              "ticks": ""
             }
            },
            "type": "scattercarpet"
           }
          ],
          "scattergeo": [
           {
            "marker": {
             "colorbar": {
              "outlinewidth": 0,
              "ticks": ""
             }
            },
            "type": "scattergeo"
           }
          ],
          "scattergl": [
           {
            "marker": {
             "colorbar": {
              "outlinewidth": 0,
              "ticks": ""
             }
            },
            "type": "scattergl"
           }
          ],
          "scattermapbox": [
           {
            "marker": {
             "colorbar": {
              "outlinewidth": 0,
              "ticks": ""
             }
            },
            "type": "scattermapbox"
           }
          ],
          "scatterpolar": [
           {
            "marker": {
             "colorbar": {
              "outlinewidth": 0,
              "ticks": ""
             }
            },
            "type": "scatterpolar"
           }
          ],
          "scatterpolargl": [
           {
            "marker": {
             "colorbar": {
              "outlinewidth": 0,
              "ticks": ""
             }
            },
            "type": "scatterpolargl"
           }
          ],
          "scatterternary": [
           {
            "marker": {
             "colorbar": {
              "outlinewidth": 0,
              "ticks": ""
             }
            },
            "type": "scatterternary"
           }
          ],
          "surface": [
           {
            "colorbar": {
             "outlinewidth": 0,
             "ticks": ""
            },
            "colorscale": [
             [
              0,
              "#0d0887"
             ],
             [
              0.1111111111111111,
              "#46039f"
             ],
             [
              0.2222222222222222,
              "#7201a8"
             ],
             [
              0.3333333333333333,
              "#9c179e"
             ],
             [
              0.4444444444444444,
              "#bd3786"
             ],
             [
              0.5555555555555556,
              "#d8576b"
             ],
             [
              0.6666666666666666,
              "#ed7953"
             ],
             [
              0.7777777777777778,
              "#fb9f3a"
             ],
             [
              0.8888888888888888,
              "#fdca26"
             ],
             [
              1,
              "#f0f921"
             ]
            ],
            "type": "surface"
           }
          ],
          "table": [
           {
            "cells": {
             "fill": {
              "color": "#EBF0F8"
             },
             "line": {
              "color": "white"
             }
            },
            "header": {
             "fill": {
              "color": "#C8D4E3"
             },
             "line": {
              "color": "white"
             }
            },
            "type": "table"
           }
          ]
         },
         "layout": {
          "annotationdefaults": {
           "arrowcolor": "#2a3f5f",
           "arrowhead": 0,
           "arrowwidth": 1
          },
          "autotypenumbers": "strict",
          "coloraxis": {
           "colorbar": {
            "outlinewidth": 0,
            "ticks": ""
           }
          },
          "colorscale": {
           "diverging": [
            [
             0,
             "#8e0152"
            ],
            [
             0.1,
             "#c51b7d"
            ],
            [
             0.2,
             "#de77ae"
            ],
            [
             0.3,
             "#f1b6da"
            ],
            [
             0.4,
             "#fde0ef"
            ],
            [
             0.5,
             "#f7f7f7"
            ],
            [
             0.6,
             "#e6f5d0"
            ],
            [
             0.7,
             "#b8e186"
            ],
            [
             0.8,
             "#7fbc41"
            ],
            [
             0.9,
             "#4d9221"
            ],
            [
             1,
             "#276419"
            ]
           ],
           "sequential": [
            [
             0,
             "#0d0887"
            ],
            [
             0.1111111111111111,
             "#46039f"
            ],
            [
             0.2222222222222222,
             "#7201a8"
            ],
            [
             0.3333333333333333,
             "#9c179e"
            ],
            [
             0.4444444444444444,
             "#bd3786"
            ],
            [
             0.5555555555555556,
             "#d8576b"
            ],
            [
             0.6666666666666666,
             "#ed7953"
            ],
            [
             0.7777777777777778,
             "#fb9f3a"
            ],
            [
             0.8888888888888888,
             "#fdca26"
            ],
            [
             1,
             "#f0f921"
            ]
           ],
           "sequentialminus": [
            [
             0,
             "#0d0887"
            ],
            [
             0.1111111111111111,
             "#46039f"
            ],
            [
             0.2222222222222222,
             "#7201a8"
            ],
            [
             0.3333333333333333,
             "#9c179e"
            ],
            [
             0.4444444444444444,
             "#bd3786"
            ],
            [
             0.5555555555555556,
             "#d8576b"
            ],
            [
             0.6666666666666666,
             "#ed7953"
            ],
            [
             0.7777777777777778,
             "#fb9f3a"
            ],
            [
             0.8888888888888888,
             "#fdca26"
            ],
            [
             1,
             "#f0f921"
            ]
           ]
          },
          "colorway": [
           "#636efa",
           "#EF553B",
           "#00cc96",
           "#ab63fa",
           "#FFA15A",
           "#19d3f3",
           "#FF6692",
           "#B6E880",
           "#FF97FF",
           "#FECB52"
          ],
          "font": {
           "color": "#2a3f5f"
          },
          "geo": {
           "bgcolor": "white",
           "lakecolor": "white",
           "landcolor": "#E5ECF6",
           "showlakes": true,
           "showland": true,
           "subunitcolor": "white"
          },
          "hoverlabel": {
           "align": "left"
          },
          "hovermode": "closest",
          "mapbox": {
           "style": "light"
          },
          "paper_bgcolor": "white",
          "plot_bgcolor": "#E5ECF6",
          "polar": {
           "angularaxis": {
            "gridcolor": "white",
            "linecolor": "white",
            "ticks": ""
           },
           "bgcolor": "#E5ECF6",
           "radialaxis": {
            "gridcolor": "white",
            "linecolor": "white",
            "ticks": ""
           }
          },
          "scene": {
           "xaxis": {
            "backgroundcolor": "#E5ECF6",
            "gridcolor": "white",
            "gridwidth": 2,
            "linecolor": "white",
            "showbackground": true,
            "ticks": "",
            "zerolinecolor": "white"
           },
           "yaxis": {
            "backgroundcolor": "#E5ECF6",
            "gridcolor": "white",
            "gridwidth": 2,
            "linecolor": "white",
            "showbackground": true,
            "ticks": "",
            "zerolinecolor": "white"
           },
           "zaxis": {
            "backgroundcolor": "#E5ECF6",
            "gridcolor": "white",
            "gridwidth": 2,
            "linecolor": "white",
            "showbackground": true,
            "ticks": "",
            "zerolinecolor": "white"
           }
          },
          "shapedefaults": {
           "line": {
            "color": "#2a3f5f"
           }
          },
          "ternary": {
           "aaxis": {
            "gridcolor": "white",
            "linecolor": "white",
            "ticks": ""
           },
           "baxis": {
            "gridcolor": "white",
            "linecolor": "white",
            "ticks": ""
           },
           "bgcolor": "#E5ECF6",
           "caxis": {
            "gridcolor": "white",
            "linecolor": "white",
            "ticks": ""
           }
          },
          "title": {
           "x": 0.05
          },
          "xaxis": {
           "automargin": true,
           "gridcolor": "white",
           "linecolor": "white",
           "ticks": "",
           "title": {
            "standoff": 15
           },
           "zerolinecolor": "white",
           "zerolinewidth": 2
          },
          "yaxis": {
           "automargin": true,
           "gridcolor": "white",
           "linecolor": "white",
           "ticks": "",
           "title": {
            "standoff": 15
           },
           "zerolinecolor": "white",
           "zerolinewidth": 2
          }
         }
        }
       }
      }
     },
     "metadata": {},
     "output_type": "display_data"
    }
   ],
   "source": [
    "fig = px.scatter_mapbox(\n",
    "    df_top20,\n",
    "    lat=\"lat\",\n",
    "    lon=\"lon\",\n",
    "    hover_name=\"hotels\",\n",
    "    hover_data={\n",
    "        \"ville\": True,\n",
    "        \"lat\": False,\n",
    "        \"lon\": False,\n",
    "        \"score\": True,\n",
    "    },\n",
    "    color=\"ville\",\n",
    "    zoom=6,\n",
    "    mapbox_style=\"carto-positron\",\n",
    ")\n",
    "fig.show()\n"
   ]
  }
 ],
 "metadata": {
  "interpreter": {
   "hash": "5e23285782446c6864c996c28c3fd325702bb6068d9fb9865cc2d1c7e1d13946"
  },
  "kernelspec": {
   "display_name": "Python 3.9.12 ('base')",
   "language": "python",
   "name": "python3"
  },
  "language_info": {
   "codemirror_mode": {
    "name": "ipython",
    "version": 3
   },
   "file_extension": ".py",
   "mimetype": "text/x-python",
   "name": "python",
   "nbconvert_exporter": "python",
   "pygments_lexer": "ipython3",
   "version": "3.9.12"
  }
 },
 "nbformat": 4,
 "nbformat_minor": 4
}
