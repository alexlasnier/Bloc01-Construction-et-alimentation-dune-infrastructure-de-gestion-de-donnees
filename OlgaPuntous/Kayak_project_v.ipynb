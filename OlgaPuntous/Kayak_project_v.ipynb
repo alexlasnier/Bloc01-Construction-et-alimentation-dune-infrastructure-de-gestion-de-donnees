{
 "cells": [
  {
   "cell_type": "code",
   "execution_count": 3,
   "metadata": {},
   "outputs": [],
   "source": [
    "import os \n",
    "import logging\n",
    "import scrapy\n",
    "import requests\n",
    "from scrapy.crawler import CrawlerProcess\n",
    "import json\n",
    "import pandas as pd\n",
    "import plotly.express as px\n",
    "import glob\n",
    "import boto3"
   ]
  },
  {
   "cell_type": "code",
   "execution_count": null,
   "metadata": {},
   "outputs": [],
   "source": []
  },
  {
   "cell_type": "code",
   "execution_count": null,
   "metadata": {},
   "outputs": [],
   "source": []
  },
  {
   "cell_type": "markdown",
   "metadata": {},
   "source": [
    "# Cities and creation of df"
   ]
  },
  {
   "cell_type": "code",
   "execution_count": 4,
   "metadata": {},
   "outputs": [],
   "source": [
    "city_names= [\"Mont Saint Michel\",\n",
    "\"St Malo\",\n",
    "\"Bayeux\",\n",
    "\"Le Havre\",\n",
    "\"Rouen\",\n",
    "\"Paris\",\n",
    "\"Amiens\",\n",
    "\"Lille\",\n",
    "\"Strasbourg\",\n",
    "\"Chateau du Haut Koenigsbourg\",\n",
    "\"Colmar\",\n",
    "\"Eguisheim\",\n",
    "\"Besancon\",\n",
    "\"Dijon\",\n",
    "\"Annecy\",\n",
    "\"Grenoble\",\n",
    "\"Lyon\",\n",
    "\"Gorges du Verdon\",\n",
    "\"Bormes les Mimosas\"\n",
    "]"
   ]
  },
  {
   "cell_type": "code",
   "execution_count": 5,
   "metadata": {},
   "outputs": [
    {
     "data": {
      "text/html": [
       "<div>\n",
       "<style scoped>\n",
       "    .dataframe tbody tr th:only-of-type {\n",
       "        vertical-align: middle;\n",
       "    }\n",
       "\n",
       "    .dataframe tbody tr th {\n",
       "        vertical-align: top;\n",
       "    }\n",
       "\n",
       "    .dataframe thead th {\n",
       "        text-align: right;\n",
       "    }\n",
       "</style>\n",
       "<table border=\"1\" class=\"dataframe\">\n",
       "  <thead>\n",
       "    <tr style=\"text-align: right;\">\n",
       "      <th></th>\n",
       "      <th>city_id</th>\n",
       "      <th>name</th>\n",
       "      <th>latitude</th>\n",
       "      <th>longitude</th>\n",
       "      <th>main_weather</th>\n",
       "      <th>expected_rain</th>\n",
       "      <th>day_temperature</th>\n",
       "    </tr>\n",
       "  </thead>\n",
       "  <tbody>\n",
       "  </tbody>\n",
       "</table>\n",
       "</div>"
      ],
      "text/plain": [
       "Empty DataFrame\n",
       "Columns: [city_id, name, latitude, longitude, main_weather, expected_rain, day_temperature]\n",
       "Index: []"
      ]
     },
     "execution_count": 5,
     "metadata": {},
     "output_type": "execute_result"
    }
   ],
   "source": [
    "df = pd.DataFrame(columns=['city_id' , 'name', 'latitude', 'longitude', 'main_weather', 'expected_rain', 'day_temperature'])\n",
    "df"
   ]
  },
  {
   "cell_type": "markdown",
   "metadata": {},
   "source": [
    "# Coordinates, weather info, convert df to csv"
   ]
  },
  {
   "cell_type": "code",
   "execution_count": 6,
   "metadata": {},
   "outputs": [],
   "source": [
    "api_key = \"f482d2b26c2e58bf480acbe962e74f18\""
   ]
  },
  {
   "cell_type": "code",
   "execution_count": 7,
   "metadata": {
    "scrolled": true
   },
   "outputs": [
    {
     "name": "stdout",
     "output_type": "stream",
     "text": [
      "making request: Mont Saint Michel\n",
      "{'lat': 48.636, 'lon': -1.5115, 'timezone': 'Europe/Paris', 'timezone_offset': 7200, 'daily': [{'dt': 1655899200, 'sunrise': 1655870619, 'sunset': 1655928738, 'moonrise': 1655858820, 'moonset': 1655904900, 'moon_phase': 0.79, 'temp': {'day': 22.6, 'min': 14.9, 'max': 24.13, 'night': 17, 'eve': 22.21, 'morn': 18.18}, 'feels_like': {'day': 22.74, 'night': 17.18, 'eve': 22.47, 'morn': 18.35}, 'pressure': 1011, 'humidity': 70, 'dew_point': 16.85, 'wind_speed': 3.96, 'wind_deg': 119, 'wind_gust': 6.27, 'weather': [{'id': 501, 'main': 'Rain', 'description': 'moderate rain', 'icon': '10d'}], 'clouds': 81, 'pop': 0.91, 'rain': 11.22, 'uvi': 6.76}, {'dt': 1655985600, 'sunrise': 1655957034, 'sunset': 1656015147, 'moonrise': 1655946180, 'moonset': 1655995500, 'moon_phase': 0.82, 'temp': {'day': 23.34, 'min': 14.66, 'max': 24.22, 'night': 15.69, 'eve': 20.29, 'morn': 16.32}, 'feels_like': {'day': 23.17, 'night': 15.66, 'eve': 20.25, 'morn': 16.49}, 'pressure': 1010, 'humidity': 55, 'dew_point': 13.5, 'wind_speed': 4.23, 'wind_deg': 299, 'wind_gust': 5.35, 'weather': [{'id': 500, 'main': 'Rain', 'description': 'light rain', 'icon': '10d'}], 'clouds': 27, 'pop': 0.93, 'rain': 1.45, 'uvi': 7.35}, {'dt': 1656072000, 'sunrise': 1656043452, 'sunset': 1656101553, 'moonrise': 1656033600, 'moonset': 1656086160, 'moon_phase': 0.86, 'temp': {'day': 19.13, 'min': 14.32, 'max': 21.8, 'night': 15.26, 'eve': 18.63, 'morn': 15.93}, 'feels_like': {'day': 19.08, 'night': 15.27, 'eve': 18.45, 'morn': 15.95}, 'pressure': 1008, 'humidity': 76, 'dew_point': 14.51, 'wind_speed': 8.22, 'wind_deg': 233, 'wind_gust': 10.45, 'weather': [{'id': 500, 'main': 'Rain', 'description': 'light rain', 'icon': '10d'}], 'clouds': 75, 'pop': 0.85, 'rain': 3.72, 'uvi': 6.57}, {'dt': 1656158400, 'sunrise': 1656129873, 'sunset': 1656187956, 'moonrise': 1656121140, 'moonset': 1656176700, 'moon_phase': 0.89, 'temp': {'day': 18.11, 'min': 12.77, 'max': 19.71, 'night': 12.77, 'eve': 16.86, 'morn': 13.87}, 'feels_like': {'day': 17.6, 'night': 12.22, 'eve': 16.14, 'morn': 13.74}, 'pressure': 1009, 'humidity': 62, 'dew_point': 10.62, 'wind_speed': 5.8, 'wind_deg': 315, 'wind_gust': 6.93, 'weather': [{'id': 500, 'main': 'Rain', 'description': 'light rain', 'icon': '10d'}], 'clouds': 100, 'pop': 0.69, 'rain': 1.09, 'uvi': 6.76}, {'dt': 1656244800, 'sunrise': 1656216296, 'sunset': 1656274357, 'moonrise': 1656208920, 'moonset': 1656267180, 'moon_phase': 0.92, 'temp': {'day': 19.51, 'min': 9.8, 'max': 20.08, 'night': 13.84, 'eve': 17.69, 'morn': 11.61}, 'feels_like': {'day': 18.69, 'night': 13.13, 'eve': 16.92, 'morn': 10.97}, 'pressure': 1013, 'humidity': 45, 'dew_point': 7.02, 'wind_speed': 3.98, 'wind_deg': 213, 'wind_gust': 5.58, 'weather': [{'id': 500, 'main': 'Rain', 'description': 'light rain', 'icon': '10d'}], 'clouds': 52, 'pop': 0.2, 'rain': 0.39, 'uvi': 6.38}, {'dt': 1656331200, 'sunrise': 1656302721, 'sunset': 1656360755, 'moonrise': 1656297000, 'moonset': 1656357480, 'moon_phase': 0.95, 'temp': {'day': 17.98, 'min': 9.3, 'max': 17.98, 'night': 12.1, 'eve': 16.31, 'morn': 12.23}, 'feels_like': {'day': 17.17, 'night': 11.4, 'eve': 15.59, 'morn': 11.6}, 'pressure': 1017, 'humidity': 51, 'dew_point': 7.42, 'wind_speed': 5.34, 'wind_deg': 314, 'wind_gust': 5.34, 'weather': [{'id': 800, 'main': 'Clear', 'description': 'clear sky', 'icon': '01d'}], 'clouds': 10, 'pop': 0.12, 'uvi': 7}, {'dt': 1656417600, 'sunrise': 1656389149, 'sunset': 1656447150, 'moonrise': 1656385620, 'moonset': 1656447360, 'moon_phase': 0.98, 'temp': {'day': 22.49, 'min': 9.77, 'max': 23.02, 'night': 15.94, 'eve': 21.51, 'morn': 11.87}, 'feels_like': {'day': 22.02, 'night': 15.47, 'eve': 21.13, 'morn': 11.15}, 'pressure': 1020, 'humidity': 47, 'dew_point': 10.35, 'wind_speed': 6.22, 'wind_deg': 201, 'wind_gust': 10.1, 'weather': [{'id': 802, 'main': 'Clouds', 'description': 'scattered clouds', 'icon': '03d'}], 'clouds': 36, 'pop': 0, 'uvi': 7}, {'dt': 1656504000, 'sunrise': 1656475580, 'sunset': 1656533542, 'moonrise': 1656474780, 'moonset': 1656536700, 'moon_phase': 0, 'temp': {'day': 16.64, 'min': 12.53, 'max': 17.66, 'night': 13.8, 'eve': 15.93, 'morn': 15.05}, 'feels_like': {'day': 16.61, 'night': 13.27, 'eve': 15.54, 'morn': 14.75}, 'pressure': 1012, 'humidity': 86, 'dew_point': 14.08, 'wind_speed': 7.83, 'wind_deg': 321, 'wind_gust': 11.58, 'weather': [{'id': 501, 'main': 'Rain', 'description': 'moderate rain', 'icon': '10d'}], 'clouds': 99, 'pop': 0.93, 'rain': 4.62, 'uvi': 7}], 'alerts': [{'sender_name': 'METEO-FRANCE', 'event': 'Moderate thunderstorm warning', 'start': 1655884800, 'end': 1655956800, 'description': 'Although rather usual in this region, locally or potentially dangerous phenomena are expected. (such as local winds, summer thunderstorms, rising streams or high waves)', 'tags': ['Thunderstorm']}]}\n",
      "making request: St Malo\n",
      "{'lat': 48.6495, 'lon': -2.026, 'timezone': 'Europe/Paris', 'timezone_offset': 7200, 'daily': [{'dt': 1655899200, 'sunrise': 1655870738, 'sunset': 1655928865, 'moonrise': 1655858940, 'moonset': 1655905020, 'moon_phase': 0.79, 'temp': {'day': 21.66, 'min': 14.91, 'max': 22.24, 'night': 17.38, 'eve': 19.29, 'morn': 17.53}, 'feels_like': {'day': 21.6, 'night': 17.6, 'eve': 19.47, 'morn': 17.56}, 'pressure': 1010, 'humidity': 66, 'dew_point': 15.04, 'wind_speed': 4.53, 'wind_deg': 29, 'wind_gust': 7.23, 'weather': [{'id': 501, 'main': 'Rain', 'description': 'moderate rain', 'icon': '10d'}], 'clouds': 65, 'pop': 0.83, 'rain': 11.79, 'uvi': 6.87}, {'dt': 1655985600, 'sunrise': 1655957154, 'sunset': 1656015274, 'moonrise': 1655946300, 'moonset': 1655995620, 'moon_phase': 0.82, 'temp': {'day': 20.89, 'min': 15.75, 'max': 21.23, 'night': 16.36, 'eve': 19.18, 'morn': 16.46}, 'feels_like': {'day': 20.78, 'night': 16.3, 'eve': 19.11, 'morn': 16.62}, 'pressure': 1010, 'humidity': 67, 'dew_point': 13.72, 'wind_speed': 4.49, 'wind_deg': 98, 'wind_gust': 7.03, 'weather': [{'id': 500, 'main': 'Rain', 'description': 'light rain', 'icon': '10d'}], 'clouds': 7, 'pop': 0.88, 'rain': 1.3, 'uvi': 7.37}, {'dt': 1656072000, 'sunrise': 1656043572, 'sunset': 1656101680, 'moonrise': 1656033720, 'moonset': 1656086280, 'moon_phase': 0.86, 'temp': {'day': 18.38, 'min': 14.69, 'max': 20.09, 'night': 14.89, 'eve': 17.64, 'morn': 15.67}, 'feels_like': {'day': 18.21, 'night': 14.78, 'eve': 17.55, 'morn': 15.64}, 'pressure': 1008, 'humidity': 74, 'dew_point': 13.61, 'wind_speed': 8.34, 'wind_deg': 224, 'wind_gust': 11.27, 'weather': [{'id': 500, 'main': 'Rain', 'description': 'light rain', 'icon': '10d'}], 'clouds': 59, 'pop': 0.81, 'rain': 2, 'uvi': 4.92}, {'dt': 1656158400, 'sunrise': 1656129993, 'sunset': 1656188083, 'moonrise': 1656121260, 'moonset': 1656176820, 'moon_phase': 0.89, 'temp': {'day': 17.24, 'min': 13.46, 'max': 18.6, 'night': 13.46, 'eve': 16.01, 'morn': 13.58}, 'feels_like': {'day': 16.56, 'night': 12.87, 'eve': 15.34, 'morn': 13.24}, 'pressure': 1009, 'humidity': 59, 'dew_point': 8.71, 'wind_speed': 5.67, 'wind_deg': 314, 'wind_gust': 6.7, 'weather': [{'id': 500, 'main': 'Rain', 'description': 'light rain', 'icon': '10d'}], 'clouds': 100, 'pop': 0.67, 'rain': 0.52, 'uvi': 6.93}, {'dt': 1656244800, 'sunrise': 1656216416, 'sunset': 1656274484, 'moonrise': 1656209040, 'moonset': 1656267300, 'moon_phase': 0.92, 'temp': {'day': 18.15, 'min': 11.12, 'max': 18.15, 'night': 13.72, 'eve': 15.6, 'morn': 12.18}, 'feels_like': {'day': 17.33, 'night': 13.05, 'eve': 14.97, 'morn': 11.52}, 'pressure': 1013, 'humidity': 50, 'dew_point': 6.92, 'wind_speed': 5.16, 'wind_deg': 340, 'wind_gust': 5.56, 'weather': [{'id': 500, 'main': 'Rain', 'description': 'light rain', 'icon': '10d'}], 'clouds': 31, 'pop': 0.33, 'rain': 0.98, 'uvi': 6.48}, {'dt': 1656331200, 'sunrise': 1656302841, 'sunset': 1656360882, 'moonrise': 1656297120, 'moonset': 1656357600, 'moon_phase': 0.95, 'temp': {'day': 16.55, 'min': 11.84, 'max': 16.55, 'night': 13.32, 'eve': 15.91, 'morn': 12.54}, 'feels_like': {'day': 15.78, 'night': 12.61, 'eve': 15.2, 'morn': 11.89}, 'pressure': 1017, 'humidity': 58, 'dew_point': 7.86, 'wind_speed': 4.87, 'wind_deg': 321, 'wind_gust': 5.64, 'weather': [{'id': 500, 'main': 'Rain', 'description': 'light rain', 'icon': '10d'}], 'clouds': 7, 'pop': 0.36, 'rain': 0.35, 'uvi': 7}, {'dt': 1656417600, 'sunrise': 1656389269, 'sunset': 1656447277, 'moonrise': 1656385740, 'moonset': 1656447480, 'moon_phase': 0.98, 'temp': {'day': 20.9, 'min': 11.14, 'max': 21.34, 'night': 16.22, 'eve': 20.4, 'morn': 12.67}, 'feels_like': {'day': 20.51, 'night': 15.83, 'eve': 20.04, 'morn': 12}, 'pressure': 1019, 'humidity': 56, 'dew_point': 11.45, 'wind_speed': 7.25, 'wind_deg': 214, 'wind_gust': 10.79, 'weather': [{'id': 803, 'main': 'Clouds', 'description': 'broken clouds', 'icon': '04d'}], 'clouds': 53, 'pop': 0, 'uvi': 7}, {'dt': 1656504000, 'sunrise': 1656475700, 'sunset': 1656533670, 'moonrise': 1656474900, 'moonset': 1656536820, 'moon_phase': 0, 'temp': {'day': 18.97, 'min': 13.84, 'max': 18.97, 'night': 14.23, 'eve': 16.09, 'morn': 15.89}, 'feels_like': {'day': 18.75, 'night': 13.75, 'eve': 15.66, 'morn': 15.7}, 'pressure': 1011, 'humidity': 70, 'dew_point': 13.31, 'wind_speed': 7.81, 'wind_deg': 305, 'wind_gust': 12.72, 'weather': [{'id': 500, 'main': 'Rain', 'description': 'light rain', 'icon': '10d'}], 'clouds': 100, 'pop': 0.9, 'rain': 3.46, 'uvi': 7}], 'alerts': [{'sender_name': 'METEO-FRANCE', 'event': 'Moderate thunderstorm warning', 'start': 1655870400, 'end': 1655956800, 'description': 'Although rather usual in this region, locally or potentially dangerous phenomena are expected. (such as local winds, summer thunderstorms, rising streams or high waves)', 'tags': ['Thunderstorm']}]}\n",
      "making request: Bayeux\n",
      "{'lat': 49.2765, 'lon': -0.7025, 'timezone': 'Europe/Paris', 'timezone_offset': 7200, 'daily': [{'dt': 1655899200, 'sunrise': 1655870238, 'sunset': 1655928730, 'moonrise': 1655858640, 'moonset': 1655904720, 'moon_phase': 0.79, 'temp': {'day': 20.22, 'min': 13.91, 'max': 21.03, 'night': 15.63, 'eve': 19.23, 'morn': 16.12}, 'feels_like': {'day': 19.76, 'night': 15.55, 'eve': 18.96, 'morn': 15.9}, 'pressure': 1012, 'humidity': 56, 'dew_point': 11.17, 'wind_speed': 6.56, 'wind_deg': 41, 'wind_gust': 10.01, 'weather': [{'id': 500, 'main': 'Rain', 'description': 'light rain', 'icon': '10d'}], 'clouds': 76, 'pop': 0.95, 'rain': 2.33, 'uvi': 7.66}, {'dt': 1655985600, 'sunrise': 1655956654, 'sunset': 1656015139, 'moonrise': 1655945940, 'moonset': 1655995380, 'moon_phase': 0.82, 'temp': {'day': 25, 'min': 14.72, 'max': 26.13, 'night': 15.37, 'eve': 18.86, 'morn': 17.08}, 'feels_like': {'day': 24.89, 'night': 15.39, 'eve': 18.97, 'morn': 17.22}, 'pressure': 1009, 'humidity': 51, 'dew_point': 13.71, 'wind_speed': 3.39, 'wind_deg': 68, 'wind_gust': 5.22, 'weather': [{'id': 500, 'main': 'Rain', 'description': 'light rain', 'icon': '10d'}], 'clouds': 78, 'pop': 0.57, 'rain': 4.72, 'uvi': 7.27}, {'dt': 1656072000, 'sunrise': 1656043072, 'sunset': 1656101544, 'moonrise': 1656033300, 'moonset': 1656086040, 'moon_phase': 0.86, 'temp': {'day': 18.96, 'min': 13.54, 'max': 20.88, 'night': 15.66, 'eve': 19.53, 'morn': 15.16}, 'feels_like': {'day': 18.97, 'night': 15.58, 'eve': 19.08, 'morn': 15.19}, 'pressure': 1008, 'humidity': 79, 'dew_point': 15.28, 'wind_speed': 6.25, 'wind_deg': 244, 'wind_gust': 9.26, 'weather': [{'id': 500, 'main': 'Rain', 'description': 'light rain', 'icon': '10d'}], 'clouds': 93, 'pop': 0.82, 'rain': 4.57, 'uvi': 6.89}, {'dt': 1656158400, 'sunrise': 1656129493, 'sunset': 1656187948, 'moonrise': 1656120840, 'moonset': 1656176640, 'moon_phase': 0.89, 'temp': {'day': 15.75, 'min': 12.49, 'max': 18.86, 'night': 13.33, 'eve': 17.38, 'morn': 13.57}, 'feels_like': {'day': 15.6, 'night': 12.91, 'eve': 16.77, 'morn': 13.38}, 'pressure': 1009, 'humidity': 85, 'dew_point': 13.05, 'wind_speed': 4.05, 'wind_deg': 256, 'wind_gust': 7.32, 'weather': [{'id': 500, 'main': 'Rain', 'description': 'light rain', 'icon': '10d'}], 'clouds': 100, 'pop': 0.96, 'rain': 4.82, 'uvi': 6.4}, {'dt': 1656244800, 'sunrise': 1656215916, 'sunset': 1656274348, 'moonrise': 1656208560, 'moonset': 1656267180, 'moon_phase': 0.92, 'temp': {'day': 19.76, 'min': 9.35, 'max': 19.76, 'night': 11.74, 'eve': 15.24, 'morn': 11.79}, 'feels_like': {'day': 18.81, 'night': 11.19, 'eve': 14.57, 'morn': 11.17}, 'pressure': 1013, 'humidity': 39, 'dew_point': 5.34, 'wind_speed': 4.26, 'wind_deg': 228, 'wind_gust': 5.42, 'weather': [{'id': 500, 'main': 'Rain', 'description': 'light rain', 'icon': '10d'}], 'clouds': 65, 'pop': 0.39, 'rain': 0.34, 'uvi': 6.04}, {'dt': 1656331200, 'sunrise': 1656302342, 'sunset': 1656360745, 'moonrise': 1656296640, 'moonset': 1656357480, 'moon_phase': 0.95, 'temp': {'day': 17.96, 'min': 9.25, 'max': 17.96, 'night': 10.96, 'eve': 17.22, 'morn': 10.91}, 'feels_like': {'day': 17.14, 'night': 10.2, 'eve': 16.36, 'morn': 10.38}, 'pressure': 1016, 'humidity': 51, 'dew_point': 7.58, 'wind_speed': 3.82, 'wind_deg': 356, 'wind_gust': 4.64, 'weather': [{'id': 500, 'main': 'Rain', 'description': 'light rain', 'icon': '10d'}], 'clouds': 19, 'pop': 0.37, 'rain': 0.72, 'uvi': 7}, {'dt': 1656417600, 'sunrise': 1656388771, 'sunset': 1656447140, 'moonrise': 1656385200, 'moonset': 1656447360, 'moon_phase': 0.98, 'temp': {'day': 22.4, 'min': 8.85, 'max': 22.79, 'night': 16.14, 'eve': 21.93, 'morn': 12.44}, 'feels_like': {'day': 21.79, 'night': 15.61, 'eve': 21.48, 'morn': 11.7}, 'pressure': 1020, 'humidity': 42, 'dew_point': 8.76, 'wind_speed': 5.55, 'wind_deg': 212, 'wind_gust': 9.07, 'weather': [{'id': 803, 'main': 'Clouds', 'description': 'broken clouds', 'icon': '04d'}], 'clouds': 59, 'pop': 0, 'uvi': 7}, {'dt': 1656504000, 'sunrise': 1656475202, 'sunset': 1656533532, 'moonrise': 1656474360, 'moonset': 1656536700, 'moon_phase': 0, 'temp': {'day': 15.56, 'min': 12.07, 'max': 18.46, 'night': 12.07, 'eve': 15.61, 'morn': 15.12}, 'feels_like': {'day': 15.5, 'night': 11.63, 'eve': 15.29, 'morn': 14.62}, 'pressure': 1012, 'humidity': 89, 'dew_point': 13.69, 'wind_speed': 6.62, 'wind_deg': 208, 'wind_gust': 12.11, 'weather': [{'id': 500, 'main': 'Rain', 'description': 'light rain', 'icon': '10d'}], 'clouds': 99, 'pop': 0.96, 'rain': 3.3, 'uvi': 7}], 'alerts': [{'sender_name': 'METEO-FRANCE', 'event': 'Moderate thunderstorm warning', 'start': 1655884800, 'end': 1655956800, 'description': 'Although rather usual in this region, locally or potentially dangerous phenomena are expected. (such as local winds, summer thunderstorms, rising streams or high waves)', 'tags': ['Thunderstorm']}]}\n",
      "making request: Le Havre\n",
      "{'lat': 49.4939, 'lon': 0.108, 'timezone': 'Europe/Paris', 'timezone_offset': 7200, 'daily': [{'dt': 1655899200, 'sunrise': 1655869979, 'sunset': 1655928600, 'moonrise': 1655858400, 'moonset': 1655904540, 'moon_phase': 0.79, 'temp': {'day': 23.06, 'min': 15.15, 'max': 23.51, 'night': 17.62, 'eve': 21.44, 'morn': 17.88}, 'feels_like': {'day': 22.7, 'night': 17.37, 'eve': 21.23, 'morn': 17.26}, 'pressure': 1011, 'humidity': 49, 'dew_point': 11.78, 'wind_speed': 6.45, 'wind_deg': 36, 'wind_gust': 9.88, 'weather': [{'id': 500, 'main': 'Rain', 'description': 'light rain', 'icon': '10d'}], 'clouds': 34, 'pop': 0.94, 'rain': 0.73, 'uvi': 7.54}, {'dt': 1655985600, 'sunrise': 1655956395, 'sunset': 1656015009, 'moonrise': 1655945700, 'moonset': 1655995200, 'moon_phase': 0.82, 'temp': {'day': 19.1, 'min': 15.76, 'max': 21.94, 'night': 17.35, 'eve': 19.15, 'morn': 17.42}, 'feels_like': {'day': 19.31, 'night': 17.33, 'eve': 19.13, 'morn': 17.18}, 'pressure': 1010, 'humidity': 86, 'dew_point': 16.49, 'wind_speed': 4.23, 'wind_deg': 69, 'wind_gust': 7.15, 'weather': [{'id': 501, 'main': 'Rain', 'description': 'moderate rain', 'icon': '10d'}], 'clouds': 92, 'pop': 0.74, 'rain': 3.55, 'uvi': 7.29}, {'dt': 1656072000, 'sunrise': 1656042813, 'sunset': 1656101414, 'moonrise': 1656033060, 'moonset': 1656085860, 'moon_phase': 0.86, 'temp': {'day': 18.36, 'min': 15.77, 'max': 19, 'night': 16.61, 'eve': 17.88, 'morn': 15.97}, 'feels_like': {'day': 18.37, 'night': 16.55, 'eve': 17.92, 'morn': 16}, 'pressure': 1008, 'humidity': 81, 'dew_point': 15.06, 'wind_speed': 6.1, 'wind_deg': 243, 'wind_gust': 10.51, 'weather': [{'id': 500, 'main': 'Rain', 'description': 'light rain', 'icon': '10d'}], 'clouds': 85, 'pop': 0.86, 'rain': 5.09, 'uvi': 6.97}, {'dt': 1656158400, 'sunrise': 1656129234, 'sunset': 1656187818, 'moonrise': 1656120600, 'moonset': 1656176520, 'moon_phase': 0.89, 'temp': {'day': 14.93, 'min': 14.12, 'max': 16.16, 'night': 14.94, 'eve': 16.16, 'morn': 14.27}, 'feels_like': {'day': 14.88, 'night': 14.66, 'eve': 15.84, 'morn': 14.18}, 'pressure': 1009, 'humidity': 92, 'dew_point': 13.56, 'wind_speed': 4.82, 'wind_deg': 226, 'wind_gust': 7.72, 'weather': [{'id': 501, 'main': 'Rain', 'description': 'moderate rain', 'icon': '10d'}], 'clouds': 100, 'pop': 1, 'rain': 7.53, 'uvi': 5.86}, {'dt': 1656244800, 'sunrise': 1656215657, 'sunset': 1656274218, 'moonrise': 1656208320, 'moonset': 1656267060, 'moon_phase': 0.92, 'temp': {'day': 16.86, 'min': 13.25, 'max': 17.19, 'night': 14.26, 'eve': 17.01, 'morn': 13.25}, 'feels_like': {'day': 16.12, 'night': 13.65, 'eve': 16.36, 'morn': 12.72}, 'pressure': 1014, 'humidity': 58, 'dew_point': 8.05, 'wind_speed': 4.62, 'wind_deg': 265, 'wind_gust': 6.53, 'weather': [{'id': 500, 'main': 'Rain', 'description': 'light rain', 'icon': '10d'}], 'clouds': 49, 'pop': 0.34, 'rain': 0.34, 'uvi': 5.81}, {'dt': 1656331200, 'sunrise': 1656302084, 'sunset': 1656360615, 'moonrise': 1656296340, 'moonset': 1656357360, 'moon_phase': 0.95, 'temp': {'day': 16.36, 'min': 13.31, 'max': 16.89, 'night': 14.1, 'eve': 16.12, 'morn': 14.43}, 'feels_like': {'day': 15.64, 'night': 13.5, 'eve': 15.43, 'morn': 13.99}, 'pressure': 1017, 'humidity': 61, 'dew_point': 8.45, 'wind_speed': 4.15, 'wind_deg': 322, 'wind_gust': 4.72, 'weather': [{'id': 500, 'main': 'Rain', 'description': 'light rain', 'icon': '10d'}], 'clouds': 2, 'pop': 0.36, 'rain': 1.12, 'uvi': 6}, {'dt': 1656417600, 'sunrise': 1656388512, 'sunset': 1656447010, 'moonrise': 1656384900, 'moonset': 1656447240, 'moon_phase': 0.98, 'temp': {'day': 19.35, 'min': 12.32, 'max': 21.64, 'night': 19.2, 'eve': 21.42, 'morn': 13.04}, 'feels_like': {'day': 18.65, 'night': 18.93, 'eve': 21.16, 'morn': 12.36}, 'pressure': 1021, 'humidity': 50, 'dew_point': 8.16, 'wind_speed': 5.15, 'wind_deg': 201, 'wind_gust': 6.72, 'weather': [{'id': 802, 'main': 'Clouds', 'description': 'scattered clouds', 'icon': '03d'}], 'clouds': 36, 'pop': 0, 'uvi': 6}, {'dt': 1656504000, 'sunrise': 1656474943, 'sunset': 1656533401, 'moonrise': 1656474060, 'moonset': 1656536580, 'moon_phase': 0, 'temp': {'day': 19.63, 'min': 14.66, 'max': 19.63, 'night': 15.41, 'eve': 16.78, 'morn': 15.06}, 'feels_like': {'day': 19.32, 'night': 15.17, 'eve': 16.73, 'morn': 14.53}, 'pressure': 1012, 'humidity': 64, 'dew_point': 12.26, 'wind_speed': 6.32, 'wind_deg': 186, 'wind_gust': 10.05, 'weather': [{'id': 500, 'main': 'Rain', 'description': 'light rain', 'icon': '10d'}], 'clouds': 75, 'pop': 0.98, 'rain': 2.97, 'uvi': 6}], 'alerts': [{'sender_name': 'METEO-FRANCE', 'event': 'Moderate thunderstorm warning', 'start': 1655884800, 'end': 1655956800, 'description': 'Although rather usual in this region, locally or potentially dangerous phenomena are expected. (such as local winds, summer thunderstorms, rising streams or high waves)', 'tags': ['Thunderstorm']}]}\n",
      "making request: Rouen\n",
      "{'lat': 49.4405, 'lon': 1.094, 'timezone': 'Europe/Paris', 'timezone_offset': 7200, 'daily': [{'dt': 1655895600, 'sunrise': 1655869758, 'sunset': 1655928347, 'moonrise': 1655858160, 'moonset': 1655904300, 'moon_phase': 0.79, 'temp': {'day': 24.1, 'min': 12.17, 'max': 24.51, 'night': 17.71, 'eve': 24.4, 'morn': 13.01}, 'feels_like': {'day': 23.79, 'night': 17.55, 'eve': 24.33, 'morn': 12.3}, 'pressure': 1011, 'humidity': 47, 'dew_point': 12.1, 'wind_speed': 4.95, 'wind_deg': 92, 'wind_gust': 9.55, 'weather': [{'id': 500, 'main': 'Rain', 'description': 'light rain', 'icon': '10d'}], 'clouds': 17, 'pop': 0.67, 'rain': 0.95, 'uvi': 7.08}, {'dt': 1655982000, 'sunrise': 1655956174, 'sunset': 1656014756, 'moonrise': 1655945460, 'moonset': 1655994960, 'moon_phase': 0.82, 'temp': {'day': 26.18, 'min': 14.12, 'max': 27.36, 'night': 16.88, 'eve': 25.11, 'morn': 15.64}, 'feels_like': {'day': 26.18, 'night': 16.84, 'eve': 24.98, 'morn': 15.14}, 'pressure': 1010, 'humidity': 49, 'dew_point': 14.22, 'wind_speed': 5.8, 'wind_deg': 253, 'wind_gust': 7.51, 'weather': [{'id': 500, 'main': 'Rain', 'description': 'light rain', 'icon': '10d'}], 'clouds': 83, 'pop': 0.54, 'rain': 1.32, 'uvi': 7.37}, {'dt': 1656068400, 'sunrise': 1656042592, 'sunset': 1656101162, 'moonrise': 1656032820, 'moonset': 1656085620, 'moon_phase': 0.86, 'temp': {'day': 20.03, 'min': 15.2, 'max': 20.73, 'night': 15.2, 'eve': 19.38, 'morn': 15.6}, 'feels_like': {'day': 20.02, 'night': 15.13, 'eve': 19.57, 'morn': 15.7}, 'pressure': 1008, 'humidity': 74, 'dew_point': 14.96, 'wind_speed': 5.82, 'wind_deg': 226, 'wind_gust': 9.14, 'weather': [{'id': 500, 'main': 'Rain', 'description': 'light rain', 'icon': '10d'}], 'clouds': 99, 'pop': 1, 'rain': 8.07, 'uvi': 5.54}, {'dt': 1656154800, 'sunrise': 1656129013, 'sunset': 1656187565, 'moonrise': 1656120360, 'moonset': 1656176220, 'moon_phase': 0.89, 'temp': {'day': 15.25, 'min': 13.26, 'max': 16.52, 'night': 13.87, 'eve': 16.52, 'morn': 14.71}, 'feels_like': {'day': 15.26, 'night': 13.74, 'eve': 16.53, 'morn': 14.74}, 'pressure': 1009, 'humidity': 93, 'dew_point': 13.73, 'wind_speed': 2.87, 'wind_deg': 191, 'wind_gust': 8.3, 'weather': [{'id': 501, 'main': 'Rain', 'description': 'moderate rain', 'icon': '10d'}], 'clouds': 100, 'pop': 1, 'rain': 11.52, 'uvi': 3.91}, {'dt': 1656241200, 'sunrise': 1656215437, 'sunset': 1656273965, 'moonrise': 1656208080, 'moonset': 1656266760, 'moon_phase': 0.92, 'temp': {'day': 20.37, 'min': 10.43, 'max': 20.37, 'night': 13.55, 'eve': 17.65, 'morn': 12.27}, 'feels_like': {'day': 19.59, 'night': 13, 'eve': 17.17, 'morn': 11.93}, 'pressure': 1013, 'humidity': 43, 'dew_point': 7, 'wind_speed': 3.7, 'wind_deg': 233, 'wind_gust': 6.78, 'weather': [{'id': 500, 'main': 'Rain', 'description': 'light rain', 'icon': '10d'}], 'clouds': 47, 'pop': 0.53, 'rain': 0.11, 'uvi': 5.47}, {'dt': 1656327600, 'sunrise': 1656301863, 'sunset': 1656360363, 'moonrise': 1656296100, 'moonset': 1656357120, 'moon_phase': 0.95, 'temp': {'day': 20.12, 'min': 11.65, 'max': 20.12, 'night': 11.65, 'eve': 17.9, 'morn': 14.01}, 'feels_like': {'day': 19.41, 'night': 11.04, 'eve': 17.26, 'morn': 13.42}, 'pressure': 1016, 'humidity': 47, 'dew_point': 8.17, 'wind_speed': 4.2, 'wind_deg': 291, 'wind_gust': 5.74, 'weather': [{'id': 500, 'main': 'Rain', 'description': 'light rain', 'icon': '10d'}], 'clouds': 20, 'pop': 0.39, 'rain': 0.88, 'uvi': 6}, {'dt': 1656414000, 'sunrise': 1656388291, 'sunset': 1656446757, 'moonrise': 1656384660, 'moonset': 1656447000, 'moon_phase': 0.98, 'temp': {'day': 22.2, 'min': 9.01, 'max': 23.52, 'night': 16.28, 'eve': 21.89, 'morn': 12.34}, 'feels_like': {'day': 21.52, 'night': 15.71, 'eve': 21.49, 'morn': 11.67}, 'pressure': 1021, 'humidity': 40, 'dew_point': 7.48, 'wind_speed': 4.21, 'wind_deg': 212, 'wind_gust': 5.4, 'weather': [{'id': 801, 'main': 'Clouds', 'description': 'few clouds', 'icon': '02d'}], 'clouds': 24, 'pop': 0, 'uvi': 6}, {'dt': 1656500400, 'sunrise': 1656474722, 'sunset': 1656533149, 'moonrise': 1656473820, 'moonset': 1656536340, 'moon_phase': 0, 'temp': {'day': 24.38, 'min': 12.3, 'max': 24.38, 'night': 14.04, 'eve': 16.73, 'morn': 14.77}, 'feels_like': {'day': 23.76, 'night': 13.93, 'eve': 16.83, 'morn': 14.18}, 'pressure': 1012, 'humidity': 34, 'dew_point': 7.4, 'wind_speed': 6.21, 'wind_deg': 204, 'wind_gust': 8.79, 'weather': [{'id': 500, 'main': 'Rain', 'description': 'light rain', 'icon': '10d'}], 'clouds': 61, 'pop': 0.45, 'rain': 0.98, 'uvi': 6}], 'alerts': [{'sender_name': 'METEO-FRANCE', 'event': 'Moderate thunderstorm warning', 'start': 1655884800, 'end': 1655956800, 'description': 'Although rather usual in this region, locally or potentially dangerous phenomena are expected. (such as local winds, summer thunderstorms, rising streams or high waves)', 'tags': ['Thunderstorm']}]}\n",
      "making request: Paris\n",
      "{'lat': 48.8589, 'lon': 2.32, 'timezone': 'Europe/Paris', 'timezone_offset': 7200, 'daily': [{'dt': 1655895600, 'sunrise': 1655869635, 'sunset': 1655927882, 'moonrise': 1655857860, 'moonset': 1655903940, 'moon_phase': 0.79, 'temp': {'day': 20.23, 'min': 16.11, 'max': 25.15, 'night': 19.52, 'eve': 24.76, 'morn': 16.45}, 'feels_like': {'day': 20.11, 'night': 19.46, 'eve': 24.68, 'morn': 15.87}, 'pressure': 1011, 'humidity': 69, 'dew_point': 14.36, 'wind_speed': 3.94, 'wind_deg': 46, 'wind_gust': 6.3, 'weather': [{'id': 500, 'main': 'Rain', 'description': 'light rain', 'icon': '10d'}], 'clouds': 20, 'pop': 0.64, 'rain': 1.12, 'uvi': 4.15}, {'dt': 1655982000, 'sunrise': 1655956050, 'sunset': 1656014291, 'moonrise': 1655945220, 'moonset': 1655994600, 'moon_phase': 0.82, 'temp': {'day': 26.51, 'min': 16.89, 'max': 28.67, 'night': 22.58, 'eve': 27.7, 'morn': 17.33}, 'feels_like': {'day': 26.51, 'night': 22.25, 'eve': 27.18, 'morn': 17.42}, 'pressure': 1010, 'humidity': 50, 'dew_point': 15.18, 'wind_speed': 4.91, 'wind_deg': 232, 'wind_gust': 7.35, 'weather': [{'id': 500, 'main': 'Rain', 'description': 'light rain', 'icon': '10d'}], 'clouds': 13, 'pop': 0.6, 'rain': 1.5, 'uvi': 7.62}, {'dt': 1656068400, 'sunrise': 1656042469, 'sunset': 1656100697, 'moonrise': 1656032640, 'moonset': 1656085200, 'moon_phase': 0.86, 'temp': {'day': 20.72, 'min': 16.84, 'max': 22.4, 'night': 17.14, 'eve': 21.3, 'morn': 17.13}, 'feels_like': {'day': 20.68, 'night': 17.02, 'eve': 21.24, 'morn': 17.22}, 'pressure': 1010, 'humidity': 70, 'dew_point': 14.83, 'wind_speed': 5.55, 'wind_deg': 223, 'wind_gust': 9.06, 'weather': [{'id': 500, 'main': 'Rain', 'description': 'light rain', 'icon': '10d'}], 'clouds': 100, 'pop': 1, 'rain': 5.07, 'uvi': 6.32}, {'dt': 1656154800, 'sunrise': 1656128889, 'sunset': 1656187100, 'moonrise': 1656120180, 'moonset': 1656175800, 'moon_phase': 0.89, 'temp': {'day': 21.38, 'min': 14.89, 'max': 21.38, 'night': 14.89, 'eve': 15.88, 'morn': 16.25}, 'feels_like': {'day': 21.14, 'night': 14.94, 'eve': 16, 'morn': 16.07}, 'pressure': 1009, 'humidity': 60, 'dew_point': 13.02, 'wind_speed': 5.02, 'wind_deg': 208, 'wind_gust': 9.13, 'weather': [{'id': 501, 'main': 'Rain', 'description': 'moderate rain', 'icon': '10d'}], 'clouds': 100, 'pop': 1, 'rain': 6.07, 'uvi': 1.13}, {'dt': 1656241200, 'sunrise': 1656215312, 'sunset': 1656273501, 'moonrise': 1656207900, 'moonset': 1656266280, 'moon_phase': 0.92, 'temp': {'day': 21.49, 'min': 12.58, 'max': 21.49, 'night': 17.83, 'eve': 20.09, 'morn': 13.19}, 'feels_like': {'day': 20.77, 'night': 17.24, 'eve': 19.43, 'morn': 12.68}, 'pressure': 1014, 'humidity': 41, 'dew_point': 7.71, 'wind_speed': 3.21, 'wind_deg': 223, 'wind_gust': 7.79, 'weather': [{'id': 804, 'main': 'Clouds', 'description': 'overcast clouds', 'icon': '04d'}], 'clouds': 92, 'pop': 0.08, 'uvi': 6.32}, {'dt': 1656327600, 'sunrise': 1656301738, 'sunset': 1656359899, 'moonrise': 1656295980, 'moonset': 1656356580, 'moon_phase': 0.95, 'temp': {'day': 22.53, 'min': 14.78, 'max': 22.99, 'night': 16.24, 'eve': 19.27, 'morn': 14.82}, 'feels_like': {'day': 21.7, 'night': 15.43, 'eve': 18.48, 'morn': 14.66}, 'pressure': 1015, 'humidity': 33, 'dew_point': 5.36, 'wind_speed': 4.08, 'wind_deg': 251, 'wind_gust': 4.94, 'weather': [{'id': 500, 'main': 'Rain', 'description': 'light rain', 'icon': '10d'}], 'clouds': 12, 'pop': 1, 'rain': 5.06, 'uvi': 7}, {'dt': 1656414000, 'sunrise': 1656388166, 'sunset': 1656446294, 'moonrise': 1656384600, 'moonset': 1656446460, 'moon_phase': 0.98, 'temp': {'day': 23.04, 'min': 13.74, 'max': 24.39, 'night': 19.1, 'eve': 23.17, 'morn': 14.83}, 'feels_like': {'day': 22.29, 'night': 18.24, 'eve': 22.46, 'morn': 14.09}, 'pressure': 1021, 'humidity': 34, 'dew_point': 6.42, 'wind_speed': 2.97, 'wind_deg': 218, 'wind_gust': 3.34, 'weather': [{'id': 800, 'main': 'Clear', 'description': 'clear sky', 'icon': '01d'}], 'clouds': 8, 'pop': 0.09, 'uvi': 7}, {'dt': 1656500400, 'sunrise': 1656474597, 'sunset': 1656532686, 'moonrise': 1656473760, 'moonset': 1656535800, 'moon_phase': 0, 'temp': {'day': 25.87, 'min': 15.15, 'max': 26.82, 'night': 18.32, 'eve': 23.99, 'morn': 16.76}, 'feels_like': {'day': 25.27, 'night': 18.01, 'eve': 23.59, 'morn': 15.77}, 'pressure': 1013, 'humidity': 29, 'dew_point': 6.56, 'wind_speed': 5.4, 'wind_deg': 219, 'wind_gust': 7.54, 'weather': [{'id': 500, 'main': 'Rain', 'description': 'light rain', 'icon': '10d'}], 'clouds': 49, 'pop': 0.2, 'rain': 0.22, 'uvi': 7}], 'alerts': [{'sender_name': 'METEO-FRANCE', 'event': 'Moderate thunderstorm warning', 'start': 1655884800, 'end': 1655956800, 'description': 'Although rather usual in this region, locally or potentially dangerous phenomena are expected. (such as local winds, summer thunderstorms, rising streams or high waves)', 'tags': ['Thunderstorm']}]}\n",
      "making request: Amiens\n",
      "{'lat': 49.8942, 'lon': 2.2957, 'timezone': 'Europe/Paris', 'timezone_offset': 7200, 'daily': [{'dt': 1655895600, 'sunrise': 1655869333, 'sunset': 1655928196, 'moonrise': 1655857860, 'moonset': 1655904000, 'moon_phase': 0.79, 'temp': {'day': 23.54, 'min': 11.67, 'max': 24.61, 'night': 17.04, 'eve': 24.48, 'morn': 12.88}, 'feels_like': {'day': 23.18, 'night': 16.5, 'eve': 24.16, 'morn': 12.1}, 'pressure': 1012, 'humidity': 47, 'dew_point': 11.59, 'wind_speed': 5.34, 'wind_deg': 57, 'wind_gust': 9.77, 'weather': [{'id': 803, 'main': 'Clouds', 'description': 'broken clouds', 'icon': '04d'}], 'clouds': 83, 'pop': 0.01, 'uvi': 7.28}, {'dt': 1655982000, 'sunrise': 1655955748, 'sunset': 1656014605, 'moonrise': 1655945160, 'moonset': 1655994660, 'moon_phase': 0.82, 'temp': {'day': 23.59, 'min': 16.51, 'max': 27.04, 'night': 17.03, 'eve': 21.21, 'morn': 16.67}, 'feels_like': {'day': 23.78, 'night': 16.93, 'eve': 21.32, 'morn': 16.19}, 'pressure': 1010, 'humidity': 68, 'dew_point': 17.01, 'wind_speed': 5.31, 'wind_deg': 279, 'wind_gust': 8.32, 'weather': [{'id': 501, 'main': 'Rain', 'description': 'moderate rain', 'icon': '10d'}], 'clouds': 92, 'pop': 0.92, 'rain': 4.49, 'uvi': 7.35}, {'dt': 1656068400, 'sunrise': 1656042167, 'sunset': 1656101010, 'moonrise': 1656032520, 'moonset': 1656085380, 'moon_phase': 0.86, 'temp': {'day': 18.2, 'min': 15.08, 'max': 21.84, 'night': 15.08, 'eve': 19.86, 'morn': 16.01}, 'feels_like': {'day': 18.27, 'night': 15.1, 'eve': 20.07, 'morn': 16.07}, 'pressure': 1009, 'humidity': 84, 'dew_point': 15.08, 'wind_speed': 5.34, 'wind_deg': 229, 'wind_gust': 8.29, 'weather': [{'id': 500, 'main': 'Rain', 'description': 'light rain', 'icon': '10d'}], 'clouds': 100, 'pop': 1, 'rain': 8.66, 'uvi': 5}, {'dt': 1656154800, 'sunrise': 1656128588, 'sunset': 1656187413, 'moonrise': 1656119940, 'moonset': 1656176040, 'moon_phase': 0.89, 'temp': {'day': 15.99, 'min': 12.97, 'max': 16.52, 'night': 13.77, 'eve': 14.93, 'morn': 14.64}, 'feels_like': {'day': 16.07, 'night': 13.71, 'eve': 14.99, 'morn': 14.59}, 'pressure': 1009, 'humidity': 93, 'dew_point': 14.47, 'wind_speed': 4.35, 'wind_deg': 180, 'wind_gust': 10.33, 'weather': [{'id': 500, 'main': 'Rain', 'description': 'light rain', 'icon': '10d'}], 'clouds': 100, 'pop': 1, 'rain': 6.99, 'uvi': 1.05}, {'dt': 1656241200, 'sunrise': 1656215012, 'sunset': 1656273813, 'moonrise': 1656207660, 'moonset': 1656266580, 'moon_phase': 0.92, 'temp': {'day': 20.73, 'min': 11.9, 'max': 20.73, 'night': 13.75, 'eve': 17.87, 'morn': 13.41}, 'feels_like': {'day': 20.09, 'night': 13.19, 'eve': 17.44, 'morn': 13.16}, 'pressure': 1013, 'humidity': 47, 'dew_point': 8.75, 'wind_speed': 3.64, 'wind_deg': 236, 'wind_gust': 5.49, 'weather': [{'id': 804, 'main': 'Clouds', 'description': 'overcast clouds', 'icon': '04d'}], 'clouds': 85, 'pop': 0.04, 'uvi': 6.05}, {'dt': 1656327600, 'sunrise': 1656301438, 'sunset': 1656360210, 'moonrise': 1656295680, 'moonset': 1656356940, 'moon_phase': 0.95, 'temp': {'day': 20.33, 'min': 11.08, 'max': 20.33, 'night': 11.08, 'eve': 17.63, 'morn': 13.59}, 'feels_like': {'day': 19.72, 'night': 10.46, 'eve': 16.96, 'morn': 13.38}, 'pressure': 1015, 'humidity': 50, 'dew_point': 9.29, 'wind_speed': 5.76, 'wind_deg': 297, 'wind_gust': 5.78, 'weather': [{'id': 500, 'main': 'Rain', 'description': 'light rain', 'icon': '10d'}], 'clouds': 35, 'pop': 0.95, 'rain': 3.31, 'uvi': 7}, {'dt': 1656414000, 'sunrise': 1656387867, 'sunset': 1656446605, 'moonrise': 1656384240, 'moonset': 1656446880, 'moon_phase': 0.98, 'temp': {'day': 21.62, 'min': 9.13, 'max': 23.16, 'night': 15.68, 'eve': 22.13, 'morn': 12.84}, 'feels_like': {'day': 20.96, 'night': 15.08, 'eve': 21.81, 'morn': 12.19}, 'pressure': 1021, 'humidity': 43, 'dew_point': 8.23, 'wind_speed': 4.31, 'wind_deg': 208, 'wind_gust': 5.17, 'weather': [{'id': 801, 'main': 'Clouds', 'description': 'few clouds', 'icon': '02d'}], 'clouds': 11, 'pop': 0.04, 'uvi': 7}, {'dt': 1656500400, 'sunrise': 1656474299, 'sunset': 1656532996, 'moonrise': 1656473340, 'moonset': 1656536220, 'moon_phase': 0, 'temp': {'day': 24.53, 'min': 12.66, 'max': 26.01, 'night': 15.14, 'eve': 17.5, 'morn': 15.39}, 'feels_like': {'day': 24.03, 'night': 15.19, 'eve': 17.32, 'morn': 14.66}, 'pressure': 1013, 'humidity': 38, 'dew_point': 9.14, 'wind_speed': 6.52, 'wind_deg': 200, 'wind_gust': 8.81, 'weather': [{'id': 500, 'main': 'Rain', 'description': 'light rain', 'icon': '10d'}], 'clouds': 57, 'pop': 0.35, 'rain': 0.28, 'uvi': 7}]}\n",
      "making request: Lille\n",
      "{'lat': 50.6366, 'lon': 3.0635, 'timezone': 'Europe/Paris', 'timezone_offset': 7200, 'daily': [{'dt': 1655895600, 'sunrise': 1655868916, 'sunset': 1655928244, 'moonrise': 1655857680, 'moonset': 1655903820, 'moon_phase': 0.79, 'temp': {'day': 23.65, 'min': 12.4, 'max': 25.9, 'night': 17.52, 'eve': 24.52, 'morn': 13.48}, 'feels_like': {'day': 23.3, 'night': 16.84, 'eve': 24.05, 'morn': 12.84}, 'pressure': 1012, 'humidity': 47, 'dew_point': 11.69, 'wind_speed': 4.92, 'wind_deg': 28, 'wind_gust': 10.33, 'weather': [{'id': 800, 'main': 'Clear', 'description': 'clear sky', 'icon': '01d'}], 'clouds': 5, 'pop': 0, 'uvi': 6.98}, {'dt': 1655982000, 'sunrise': 1655955332, 'sunset': 1656014652, 'moonrise': 1655944920, 'moonset': 1655994600, 'moon_phase': 0.82, 'temp': {'day': 23.15, 'min': 16.53, 'max': 26.95, 'night': 17.47, 'eve': 25.47, 'morn': 16.61}, 'feels_like': {'day': 23.17, 'night': 17.65, 'eve': 25.53, 'morn': 15.95}, 'pressure': 1010, 'humidity': 63, 'dew_point': 15.76, 'wind_speed': 5.01, 'wind_deg': 294, 'wind_gust': 8.72, 'weather': [{'id': 502, 'main': 'Rain', 'description': 'heavy intensity rain', 'icon': '10d'}], 'clouds': 89, 'pop': 0.93, 'rain': 11.73, 'uvi': 6.59}, {'dt': 1656068400, 'sunrise': 1656041751, 'sunset': 1656101058, 'moonrise': 1656032220, 'moonset': 1656085320, 'moon_phase': 0.86, 'temp': {'day': 17.99, 'min': 15.43, 'max': 21.84, 'night': 15.82, 'eve': 20.13, 'morn': 16.55}, 'feels_like': {'day': 18.09, 'night': 15.91, 'eve': 20.21, 'morn': 16.45}, 'pressure': 1008, 'humidity': 86, 'dew_point': 15.52, 'wind_speed': 4.36, 'wind_deg': 229, 'wind_gust': 7.38, 'weather': [{'id': 501, 'main': 'Rain', 'description': 'moderate rain', 'icon': '10d'}], 'clouds': 100, 'pop': 0.96, 'rain': 8.66, 'uvi': 5.63}, {'dt': 1656154800, 'sunrise': 1656128172, 'sunset': 1656187460, 'moonrise': 1656119640, 'moonset': 1656176040, 'moon_phase': 0.89, 'temp': {'day': 17.72, 'min': 13.64, 'max': 18.34, 'night': 14.06, 'eve': 15.02, 'morn': 15.46}, 'feels_like': {'day': 17.66, 'night': 14.05, 'eve': 15.11, 'morn': 15.33}, 'pressure': 1010, 'humidity': 81, 'dew_point': 14.37, 'wind_speed': 3.86, 'wind_deg': 188, 'wind_gust': 8.42, 'weather': [{'id': 500, 'main': 'Rain', 'description': 'light rain', 'icon': '10d'}], 'clouds': 96, 'pop': 1, 'rain': 4.89, 'uvi': 3.4}, {'dt': 1656241200, 'sunrise': 1656214597, 'sunset': 1656273860, 'moonrise': 1656207300, 'moonset': 1656266640, 'moon_phase': 0.92, 'temp': {'day': 19.77, 'min': 12.82, 'max': 21.22, 'night': 14.67, 'eve': 18.41, 'morn': 14.81}, 'feels_like': {'day': 19.16, 'night': 14.1, 'eve': 17.85, 'morn': 14.75}, 'pressure': 1013, 'humidity': 52, 'dew_point': 9.73, 'wind_speed': 5.01, 'wind_deg': 265, 'wind_gust': 5.26, 'weather': [{'id': 804, 'main': 'Clouds', 'description': 'overcast clouds', 'icon': '04d'}], 'clouds': 100, 'pop': 0.27, 'uvi': 4.66}, {'dt': 1656327600, 'sunrise': 1656301023, 'sunset': 1656360256, 'moonrise': 1656295260, 'moonset': 1656357060, 'moon_phase': 0.95, 'temp': {'day': 18.37, 'min': 12.65, 'max': 18.88, 'night': 12.67, 'eve': 18.03, 'morn': 13.23}, 'feels_like': {'day': 17.91, 'night': 12.08, 'eve': 17.61, 'morn': 12.88}, 'pressure': 1016, 'humidity': 63, 'dew_point': 11.13, 'wind_speed': 3.16, 'wind_deg': 295, 'wind_gust': 4.44, 'weather': [{'id': 501, 'main': 'Rain', 'description': 'moderate rain', 'icon': '10d'}], 'clouds': 76, 'pop': 1, 'rain': 10.52, 'uvi': 5}, {'dt': 1656414000, 'sunrise': 1656387453, 'sunset': 1656446650, 'moonrise': 1656383760, 'moonset': 1656446940, 'moon_phase': 0.98, 'temp': {'day': 21.21, 'min': 9.81, 'max': 22.56, 'night': 16.36, 'eve': 21.88, 'morn': 12.85}, 'feels_like': {'day': 20.48, 'night': 15.8, 'eve': 21.43, 'morn': 12.23}, 'pressure': 1021, 'humidity': 42, 'dew_point': 7.76, 'wind_speed': 4.67, 'wind_deg': 227, 'wind_gust': 6.94, 'weather': [{'id': 800, 'main': 'Clear', 'description': 'clear sky', 'icon': '01d'}], 'clouds': 5, 'pop': 0.16, 'uvi': 5}, {'dt': 1656500400, 'sunrise': 1656473885, 'sunset': 1656533041, 'moonrise': 1656472860, 'moonset': 1656536280, 'moon_phase': 0, 'temp': {'day': 24.56, 'min': 13.56, 'max': 25.76, 'night': 16.45, 'eve': 22.74, 'morn': 15.84}, 'feels_like': {'day': 24.06, 'night': 16.27, 'eve': 22.35, 'morn': 15.15}, 'pressure': 1013, 'humidity': 38, 'dew_point': 9.57, 'wind_speed': 5.66, 'wind_deg': 194, 'wind_gust': 7.99, 'weather': [{'id': 804, 'main': 'Clouds', 'description': 'overcast clouds', 'icon': '04d'}], 'clouds': 91, 'pop': 0.14, 'uvi': 5}]}\n",
      "making request: Strasbourg\n",
      "{'lat': 48.5846, 'lon': 7.7507, 'timezone': 'Europe/Paris', 'timezone_offset': 7200, 'daily': [{'dt': 1655895600, 'sunrise': 1655868410, 'sunset': 1655926500, 'moonrise': 1655856540, 'moonset': 1655902560, 'moon_phase': 0.79, 'temp': {'day': 20.43, 'min': 17.44, 'max': 21.45, 'night': 17.58, 'eve': 21.45, 'morn': 18.2}, 'feels_like': {'day': 20.88, 'night': 17.87, 'eve': 21.69, 'morn': 18.56}, 'pressure': 1012, 'humidity': 90, 'dew_point': 18.73, 'wind_speed': 2.55, 'wind_deg': 180, 'wind_gust': 5.37, 'weather': [{'id': 501, 'main': 'Rain', 'description': 'moderate rain', 'icon': '10d'}], 'clouds': 80, 'pop': 0.97, 'rain': 7.96, 'uvi': 4.76}, {'dt': 1655982000, 'sunrise': 1655954826, 'sunset': 1656012909, 'moonrise': 1655943900, 'moonset': 1655993160, 'moon_phase': 0.82, 'temp': {'day': 28.07, 'min': 16.33, 'max': 29.54, 'night': 19.44, 'eve': 28.81, 'morn': 17.23}, 'feels_like': {'day': 28.44, 'night': 19.84, 'eve': 29.19, 'morn': 17.46}, 'pressure': 1011, 'humidity': 49, 'dew_point': 16.39, 'wind_speed': 5.9, 'wind_deg': 261, 'wind_gust': 11.26, 'weather': [{'id': 501, 'main': 'Rain', 'description': 'moderate rain', 'icon': '10d'}], 'clouds': 8, 'pop': 0.96, 'rain': 2.96, 'uvi': 7.6}, {'dt': 1656068400, 'sunrise': 1656041243, 'sunset': 1656099315, 'moonrise': 1656031320, 'moonset': 1656083820, 'moon_phase': 0.86, 'temp': {'day': 22.38, 'min': 15.43, 'max': 23.53, 'night': 15.43, 'eve': 17.88, 'morn': 17.03}, 'feels_like': {'day': 22.5, 'night': 15.48, 'eve': 18.02, 'morn': 17.27}, 'pressure': 1011, 'humidity': 70, 'dew_point': 16.64, 'wind_speed': 4.44, 'wind_deg': 255, 'wind_gust': 7.9, 'weather': [{'id': 501, 'main': 'Rain', 'description': 'moderate rain', 'icon': '10d'}], 'clouds': 88, 'pop': 1, 'rain': 14.6, 'uvi': 6.45}, {'dt': 1656154800, 'sunrise': 1656127664, 'sunset': 1656185718, 'moonrise': 1656118860, 'moonset': 1656174360, 'moon_phase': 0.89, 'temp': {'day': 26, 'min': 13.58, 'max': 27.27, 'night': 19.67, 'eve': 24.51, 'morn': 16.69}, 'feels_like': {'day': 26, 'night': 19.57, 'eve': 24.58, 'morn': 16.58}, 'pressure': 1011, 'humidity': 48, 'dew_point': 14.31, 'wind_speed': 3.06, 'wind_deg': 178, 'wind_gust': 6.26, 'weather': [{'id': 800, 'main': 'Clear', 'description': 'clear sky', 'icon': '01d'}], 'clouds': 2, 'pop': 0.11, 'uvi': 7.4}, {'dt': 1656241200, 'sunrise': 1656214087, 'sunset': 1656272119, 'moonrise': 1656206640, 'moonset': 1656264900, 'moon_phase': 0.92, 'temp': {'day': 24.12, 'min': 15.73, 'max': 24.12, 'night': 16.19, 'eve': 20.3, 'morn': 17.05}, 'feels_like': {'day': 24.13, 'night': 16.14, 'eve': 20.32, 'morn': 17.16}, 'pressure': 1013, 'humidity': 59, 'dew_point': 15.65, 'wind_speed': 3.53, 'wind_deg': 335, 'wind_gust': 7.02, 'weather': [{'id': 500, 'main': 'Rain', 'description': 'light rain', 'icon': '10d'}], 'clouds': 62, 'pop': 0.84, 'rain': 3.64, 'uvi': 6.03}, {'dt': 1656327600, 'sunrise': 1656300512, 'sunset': 1656358517, 'moonrise': 1656294780, 'moonset': 1656355140, 'moon_phase': 0.95, 'temp': {'day': 16.72, 'min': 14.26, 'max': 18.27, 'night': 15.04, 'eve': 15.99, 'morn': 15.41}, 'feels_like': {'day': 16.95, 'night': 15, 'eve': 16.07, 'morn': 15.57}, 'pressure': 1015, 'humidity': 96, 'dew_point': 16.12, 'wind_speed': 4.46, 'wind_deg': 330, 'wind_gust': 8.7, 'weather': [{'id': 502, 'main': 'Rain', 'description': 'heavy intensity rain', 'icon': '10d'}], 'clouds': 99, 'pop': 1, 'rain': 49.91, 'uvi': 7}, {'dt': 1656414000, 'sunrise': 1656386940, 'sunset': 1656444913, 'moonrise': 1656383340, 'moonset': 1656445020, 'moon_phase': 0.98, 'temp': {'day': 21.43, 'min': 11.51, 'max': 22.54, 'night': 15.27, 'eve': 20.63, 'morn': 13.94}, 'feels_like': {'day': 20.86, 'night': 14.55, 'eve': 20.37, 'morn': 13.64}, 'pressure': 1021, 'humidity': 47, 'dew_point': 9.64, 'wind_speed': 2.69, 'wind_deg': 244, 'wind_gust': 5.6, 'weather': [{'id': 500, 'main': 'Rain', 'description': 'light rain', 'icon': '10d'}], 'clouds': 4, 'pop': 0.35, 'rain': 0.23, 'uvi': 7}, {'dt': 1656500400, 'sunrise': 1656473371, 'sunset': 1656531305, 'moonrise': 1656472500, 'moonset': 1656534360, 'moon_phase': 0, 'temp': {'day': 24.53, 'min': 12.05, 'max': 25.67, 'night': 18.04, 'eve': 23.37, 'morn': 15.13}, 'feels_like': {'day': 24.21, 'night': 17.81, 'eve': 23.41, 'morn': 14.53}, 'pressure': 1015, 'humidity': 45, 'dew_point': 11.95, 'wind_speed': 1.24, 'wind_deg': 97, 'wind_gust': 1.84, 'weather': [{'id': 800, 'main': 'Clear', 'description': 'clear sky', 'icon': '01d'}], 'clouds': 2, 'pop': 0, 'uvi': 7}], 'alerts': [{'sender_name': 'METEO-FRANCE', 'event': 'Moderate thunderstorm warning', 'start': 1655884800, 'end': 1655956800, 'description': 'Although rather usual in this region, locally or potentially dangerous phenomena are expected. (such as local winds, summer thunderstorms, rising streams or high waves)', 'tags': ['Thunderstorm']}]}\n",
      "making request: Chateau du Haut Koenigsbourg\n",
      "{'lat': 48.2495, 'lon': 7.3455, 'timezone': 'Europe/Paris', 'timezone_offset': 7200, 'daily': [{'dt': 1655895600, 'sunrise': 1655868602, 'sunset': 1655926503, 'moonrise': 1655856660, 'moonset': 1655902620, 'moon_phase': 0.79, 'temp': {'day': 16.82, 'min': 14.84, 'max': 20.09, 'night': 14.85, 'eve': 19.87, 'morn': 15.99}, 'feels_like': {'day': 16.91, 'night': 14.87, 'eve': 19.77, 'morn': 16.05}, 'pressure': 1012, 'humidity': 90, 'dew_point': 15.17, 'wind_speed': 1.96, 'wind_deg': 283, 'wind_gust': 3.72, 'weather': [{'id': 501, 'main': 'Rain', 'description': 'moderate rain', 'icon': '10d'}], 'clouds': 100, 'pop': 1, 'rain': 6.61, 'uvi': 1.27}, {'dt': 1655982000, 'sunrise': 1655955017, 'sunset': 1656012911, 'moonrise': 1655944020, 'moonset': 1655993220, 'moon_phase': 0.82, 'temp': {'day': 27.25, 'min': 13.35, 'max': 27.88, 'night': 14.99, 'eve': 23.84, 'morn': 14.54}, 'feels_like': {'day': 27.1, 'night': 15.05, 'eve': 23.72, 'morn': 14.53}, 'pressure': 1011, 'humidity': 41, 'dew_point': 14.08, 'wind_speed': 3.74, 'wind_deg': 285, 'wind_gust': 7.96, 'weather': [{'id': 501, 'main': 'Rain', 'description': 'moderate rain', 'icon': '10d'}], 'clouds': 8, 'pop': 0.98, 'rain': 4.31, 'uvi': 7.9}, {'dt': 1656068400, 'sunrise': 1656041435, 'sunset': 1656099318, 'moonrise': 1656031440, 'moonset': 1656083820, 'moon_phase': 0.86, 'temp': {'day': 20.49, 'min': 11.97, 'max': 20.49, 'night': 11.97, 'eve': 15.97, 'morn': 14.11}, 'feels_like': {'day': 20.21, 'night': 11.62, 'eve': 15.69, 'morn': 14.03}, 'pressure': 1010, 'humidity': 62, 'dew_point': 14.06, 'wind_speed': 4.26, 'wind_deg': 272, 'wind_gust': 7.41, 'weather': [{'id': 500, 'main': 'Rain', 'description': 'light rain', 'icon': '10d'}], 'clouds': 85, 'pop': 1, 'rain': 5.35, 'uvi': 6.36}, {'dt': 1656154800, 'sunrise': 1656127856, 'sunset': 1656185721, 'moonrise': 1656119040, 'moonset': 1656174360, 'moon_phase': 0.89, 'temp': {'day': 23.46, 'min': 10.69, 'max': 24.04, 'night': 15.42, 'eve': 20.61, 'morn': 14.78}, 'feels_like': {'day': 22.96, 'night': 15.16, 'eve': 20.48, 'morn': 14.35}, 'pressure': 1011, 'humidity': 42, 'dew_point': 11.15, 'wind_speed': 2.27, 'wind_deg': 91, 'wind_gust': 3.96, 'weather': [{'id': 500, 'main': 'Rain', 'description': 'light rain', 'icon': '10d'}], 'clouds': 7, 'pop': 0.26, 'rain': 0.23, 'uvi': 5.24}, {'dt': 1656241200, 'sunrise': 1656214278, 'sunset': 1656272122, 'moonrise': 1656206820, 'moonset': 1656264900, 'moon_phase': 0.92, 'temp': {'day': 17.37, 'min': 12.27, 'max': 20.87, 'night': 13.44, 'eve': 18.39, 'morn': 14.2}, 'feels_like': {'day': 17.33, 'night': 13.37, 'eve': 18.19, 'morn': 14.13}, 'pressure': 1014, 'humidity': 83, 'dew_point': 15.43, 'wind_speed': 2.96, 'wind_deg': 291, 'wind_gust': 4.33, 'weather': [{'id': 501, 'main': 'Rain', 'description': 'moderate rain', 'icon': '10d'}], 'clouds': 96, 'pop': 1, 'rain': 8.01, 'uvi': 4.3}, {'dt': 1656327600, 'sunrise': 1656300704, 'sunset': 1656358520, 'moonrise': 1656294960, 'moonset': 1656355140, 'moon_phase': 0.95, 'temp': {'day': 13.58, 'min': 11.49, 'max': 14.53, 'night': 11.49, 'eve': 12.54, 'morn': 12.24}, 'feels_like': {'day': 13.55, 'night': 11.15, 'eve': 12.3, 'morn': 12.1}, 'pressure': 1015, 'humidity': 98, 'dew_point': 14.49, 'wind_speed': 2.8, 'wind_deg': 317, 'wind_gust': 5.15, 'weather': [{'id': 502, 'main': 'Rain', 'description': 'heavy intensity rain', 'icon': '10d'}], 'clouds': 100, 'pop': 1, 'rain': 55.22, 'uvi': 5}, {'dt': 1656414000, 'sunrise': 1656387131, 'sunset': 1656444916, 'moonrise': 1656383520, 'moonset': 1656445020, 'moon_phase': 0.98, 'temp': {'day': 18.43, 'min': 7.99, 'max': 18.88, 'night': 11.36, 'eve': 16.79, 'morn': 11.65}, 'feels_like': {'day': 17.61, 'night': 10.48, 'eve': 16.25, 'morn': 11.06}, 'pressure': 1021, 'humidity': 49, 'dew_point': 8.62, 'wind_speed': 2.84, 'wind_deg': 81, 'wind_gust': 2.75, 'weather': [{'id': 500, 'main': 'Rain', 'description': 'light rain', 'icon': '10d'}], 'clouds': 16, 'pop': 0.34, 'rain': 0.27, 'uvi': 5}, {'dt': 1656500400, 'sunrise': 1656473561, 'sunset': 1656531309, 'moonrise': 1656472680, 'moonset': 1656534360, 'moon_phase': 0, 'temp': {'day': 21.83, 'min': 9.15, 'max': 22.79, 'night': 14.18, 'eve': 20.23, 'morn': 13.26}, 'feels_like': {'day': 21.17, 'night': 13.64, 'eve': 19.95, 'morn': 12.36}, 'pressure': 1015, 'humidity': 42, 'dew_point': 9.33, 'wind_speed': 2.07, 'wind_deg': 123, 'wind_gust': 2.2, 'weather': [{'id': 800, 'main': 'Clear', 'description': 'clear sky', 'icon': '01d'}], 'clouds': 1, 'pop': 0, 'uvi': 5}], 'alerts': [{'sender_name': 'METEO-FRANCE', 'event': 'Moderate thunderstorm warning', 'start': 1655884800, 'end': 1655956800, 'description': 'Although rather usual in this region, locally or potentially dangerous phenomena are expected. (such as local winds, summer thunderstorms, rising streams or high waves)', 'tags': ['Thunderstorm']}]}\n",
      "making request: Colmar\n",
      "{'lat': 48.0778, 'lon': 7.358, 'timezone': 'Europe/Paris', 'timezone_offset': 7200, 'daily': [{'dt': 1655895600, 'sunrise': 1655868647, 'sunset': 1655926452, 'moonrise': 1655856660, 'moonset': 1655902620, 'moon_phase': 0.79, 'temp': {'day': 20.16, 'min': 17.78, 'max': 23.76, 'night': 18.55, 'eve': 23.45, 'morn': 18.59}, 'feels_like': {'day': 20.58, 'night': 18.84, 'eve': 23.6, 'morn': 18.88}, 'pressure': 1012, 'humidity': 90, 'dew_point': 18.47, 'wind_speed': 2.26, 'wind_deg': 214, 'wind_gust': 4.54, 'weather': [{'id': 501, 'main': 'Rain', 'description': 'moderate rain', 'icon': '10d'}], 'clouds': 100, 'pop': 0.99, 'rain': 4.48, 'uvi': 1.27}, {'dt': 1655982000, 'sunrise': 1655955062, 'sunset': 1656012861, 'moonrise': 1655944020, 'moonset': 1655993220, 'moon_phase': 0.82, 'temp': {'day': 29.99, 'min': 16.3, 'max': 30.96, 'night': 18.35, 'eve': 27.49, 'morn': 17.63}, 'feels_like': {'day': 29.68, 'night': 18.72, 'eve': 28.13, 'morn': 17.85}, 'pressure': 1011, 'humidity': 40, 'dew_point': 14.4, 'wind_speed': 3.69, 'wind_deg': 359, 'wind_gust': 6.17, 'weather': [{'id': 501, 'main': 'Rain', 'description': 'moderate rain', 'icon': '10d'}], 'clouds': 3, 'pop': 0.99, 'rain': 5.04, 'uvi': 7.9}, {'dt': 1656068400, 'sunrise': 1656041480, 'sunset': 1656099267, 'moonrise': 1656031500, 'moonset': 1656083820, 'moon_phase': 0.86, 'temp': {'day': 24.39, 'min': 14.93, 'max': 24.39, 'night': 14.93, 'eve': 18.57, 'morn': 17.1}, 'feels_like': {'day': 24.32, 'night': 14.85, 'eve': 18.68, 'morn': 17.29}, 'pressure': 1010, 'humidity': 55, 'dew_point': 14, 'wind_speed': 4.06, 'wind_deg': 241, 'wind_gust': 7.82, 'weather': [{'id': 500, 'main': 'Rain', 'description': 'light rain', 'icon': '10d'}], 'clouds': 91, 'pop': 1, 'rain': 5.22, 'uvi': 6.36}, {'dt': 1656154800, 'sunrise': 1656127900, 'sunset': 1656185671, 'moonrise': 1656119040, 'moonset': 1656174360, 'moon_phase': 0.89, 'temp': {'day': 26.79, 'min': 13.71, 'max': 27.85, 'night': 18.59, 'eve': 23.93, 'morn': 17.46}, 'feels_like': {'day': 26.81, 'night': 18.62, 'eve': 24.08, 'morn': 17.32}, 'pressure': 1011, 'humidity': 42, 'dew_point': 12.34, 'wind_speed': 2.55, 'wind_deg': 102, 'wind_gust': 4.17, 'weather': [{'id': 500, 'main': 'Rain', 'description': 'light rain', 'icon': '10d'}], 'clouds': 4, 'pop': 0.29, 'rain': 0.21, 'uvi': 5.24}, {'dt': 1656241200, 'sunrise': 1656214323, 'sunset': 1656272072, 'moonrise': 1656206880, 'moonset': 1656264840, 'moon_phase': 0.92, 'temp': {'day': 21.26, 'min': 15.44, 'max': 25.19, 'night': 16.91, 'eve': 22.35, 'morn': 17.09}, 'feels_like': {'day': 21.5, 'night': 17.14, 'eve': 22.44, 'morn': 17.31}, 'pressure': 1014, 'humidity': 79, 'dew_point': 16.38, 'wind_speed': 2.53, 'wind_deg': 284, 'wind_gust': 3.62, 'weather': [{'id': 501, 'main': 'Rain', 'description': 'moderate rain', 'icon': '10d'}], 'clouds': 91, 'pop': 1, 'rain': 5.76, 'uvi': 4.3}, {'dt': 1656327600, 'sunrise': 1656300748, 'sunset': 1656358470, 'moonrise': 1656295020, 'moonset': 1656355080, 'moon_phase': 0.95, 'temp': {'day': 16.61, 'min': 14.59, 'max': 17.96, 'night': 14.59, 'eve': 15.87, 'morn': 15.3}, 'feels_like': {'day': 16.86, 'night': 14.56, 'eve': 15.94, 'morn': 15.44}, 'pressure': 1015, 'humidity': 97, 'dew_point': 15.42, 'wind_speed': 2.39, 'wind_deg': 50, 'wind_gust': 4.85, 'weather': [{'id': 502, 'main': 'Rain', 'description': 'heavy intensity rain', 'icon': '10d'}], 'clouds': 100, 'pop': 1, 'rain': 46.48, 'uvi': 5}, {'dt': 1656414000, 'sunrise': 1656387176, 'sunset': 1656444866, 'moonrise': 1656383580, 'moonset': 1656444960, 'moon_phase': 0.98, 'temp': {'day': 20.95, 'min': 11.16, 'max': 22.17, 'night': 14.6, 'eve': 19.59, 'morn': 14.55}, 'feels_like': {'day': 20.46, 'night': 14, 'eve': 19.33, 'morn': 14.25}, 'pressure': 1021, 'humidity': 52, 'dew_point': 10.09, 'wind_speed': 2.57, 'wind_deg': 77, 'wind_gust': 2.49, 'weather': [{'id': 500, 'main': 'Rain', 'description': 'light rain', 'icon': '10d'}], 'clouds': 18, 'pop': 0.44, 'rain': 0.3, 'uvi': 5}, {'dt': 1656500400, 'sunrise': 1656473606, 'sunset': 1656531259, 'moonrise': 1656472740, 'moonset': 1656534300, 'moon_phase': 0, 'temp': {'day': 25, 'min': 12.11, 'max': 26.09, 'night': 17.41, 'eve': 23.52, 'morn': 16.02}, 'feels_like': {'day': 24.63, 'night': 17.06, 'eve': 23.47, 'morn': 15.43}, 'pressure': 1015, 'humidity': 41, 'dew_point': 10.24, 'wind_speed': 1.9, 'wind_deg': 136, 'wind_gust': 2.15, 'weather': [{'id': 800, 'main': 'Clear', 'description': 'clear sky', 'icon': '01d'}], 'clouds': 1, 'pop': 0, 'uvi': 5}], 'alerts': [{'sender_name': 'METEO-FRANCE', 'event': 'Moderate thunderstorm warning', 'start': 1655884800, 'end': 1655956800, 'description': 'Although rather usual in this region, locally or potentially dangerous phenomena are expected. (such as local winds, summer thunderstorms, rising streams or high waves)', 'tags': ['Thunderstorm']}]}\n",
      "making request: Eguisheim\n",
      "{'lat': 48.0448, 'lon': 7.308, 'timezone': 'Europe/Paris', 'timezone_offset': 7200, 'daily': [{'dt': 1655895600, 'sunrise': 1655868668, 'sunset': 1655926455, 'moonrise': 1655856660, 'moonset': 1655902620, 'moon_phase': 0.79, 'temp': {'day': 20.11, 'min': 17.96, 'max': 23.95, 'night': 18.63, 'eve': 23.54, 'morn': 18.79}, 'feels_like': {'day': 20.53, 'night': 18.92, 'eve': 23.67, 'morn': 19.07}, 'pressure': 1012, 'humidity': 90, 'dew_point': 18.42, 'wind_speed': 2.2, 'wind_deg': 190, 'wind_gust': 3.87, 'weather': [{'id': 501, 'main': 'Rain', 'description': 'moderate rain', 'icon': '10d'}], 'clouds': 100, 'pop': 0.99, 'rain': 4.27, 'uvi': 1.27}, {'dt': 1655982000, 'sunrise': 1655955083, 'sunset': 1656012863, 'moonrise': 1655944080, 'moonset': 1655993220, 'moon_phase': 0.82, 'temp': {'day': 30.04, 'min': 16.42, 'max': 31.03, 'night': 18.36, 'eve': 27.16, 'morn': 17.77}, 'feels_like': {'day': 29.62, 'night': 18.73, 'eve': 27.84, 'morn': 18}, 'pressure': 1011, 'humidity': 39, 'dew_point': 14.03, 'wind_speed': 3.23, 'wind_deg': 268, 'wind_gust': 5.42, 'weather': [{'id': 501, 'main': 'Rain', 'description': 'moderate rain', 'icon': '10d'}], 'clouds': 2, 'pop': 1, 'rain': 4.84, 'uvi': 7.9}, {'dt': 1656068400, 'sunrise': 1656041501, 'sunset': 1656099270, 'moonrise': 1656031500, 'moonset': 1656083820, 'moon_phase': 0.86, 'temp': {'day': 24.72, 'min': 14.92, 'max': 24.73, 'night': 14.92, 'eve': 18.77, 'morn': 17.17}, 'feels_like': {'day': 24.61, 'night': 14.84, 'eve': 18.87, 'morn': 17.37}, 'pressure': 1010, 'humidity': 52, 'dew_point': 13.49, 'wind_speed': 4.15, 'wind_deg': 258, 'wind_gust': 7.78, 'weather': [{'id': 500, 'main': 'Rain', 'description': 'light rain', 'icon': '10d'}], 'clouds': 91, 'pop': 1, 'rain': 4.34, 'uvi': 6.36}, {'dt': 1656154800, 'sunrise': 1656127922, 'sunset': 1656185673, 'moonrise': 1656119100, 'moonset': 1656174360, 'moon_phase': 0.89, 'temp': {'day': 26.8, 'min': 13.9, 'max': 27.89, 'night': 18.53, 'eve': 23.83, 'morn': 17.78}, 'feels_like': {'day': 26.77, 'night': 18.58, 'eve': 23.99, 'morn': 17.62}, 'pressure': 1011, 'humidity': 41, 'dew_point': 11.99, 'wind_speed': 2.66, 'wind_deg': 108, 'wind_gust': 3.74, 'weather': [{'id': 500, 'main': 'Rain', 'description': 'light rain', 'icon': '10d'}], 'clouds': 4, 'pop': 0.34, 'rain': 0.29, 'uvi': 5.24}, {'dt': 1656241200, 'sunrise': 1656214344, 'sunset': 1656272074, 'moonrise': 1656206880, 'moonset': 1656264840, 'moon_phase': 0.92, 'temp': {'day': 20.66, 'min': 15.51, 'max': 25.56, 'night': 17.13, 'eve': 22.45, 'morn': 17.14}, 'feels_like': {'day': 20.95, 'night': 17.41, 'eve': 22.58, 'morn': 17.39}, 'pressure': 1014, 'humidity': 83, 'dew_point': 16.64, 'wind_speed': 2.25, 'wind_deg': 280, 'wind_gust': 3.31, 'weather': [{'id': 501, 'main': 'Rain', 'description': 'moderate rain', 'icon': '10d'}], 'clouds': 92, 'pop': 1, 'rain': 6.34, 'uvi': 4.3}, {'dt': 1656327600, 'sunrise': 1656300769, 'sunset': 1656358473, 'moonrise': 1656295020, 'moonset': 1656355080, 'moon_phase': 0.95, 'temp': {'day': 16.68, 'min': 14.59, 'max': 17.97, 'night': 14.59, 'eve': 15.84, 'morn': 15.41}, 'feels_like': {'day': 16.94, 'night': 14.56, 'eve': 15.93, 'morn': 15.59}, 'pressure': 1015, 'humidity': 97, 'dew_point': 15.34, 'wind_speed': 1.92, 'wind_deg': 57, 'wind_gust': 3.96, 'weather': [{'id': 502, 'main': 'Rain', 'description': 'heavy intensity rain', 'icon': '10d'}], 'clouds': 100, 'pop': 1, 'rain': 47.01, 'uvi': 5}, {'dt': 1656414000, 'sunrise': 1656387197, 'sunset': 1656444869, 'moonrise': 1656383640, 'moonset': 1656444960, 'moon_phase': 0.98, 'temp': {'day': 20.6, 'min': 11.28, 'max': 22.19, 'night': 14.72, 'eve': 19.39, 'morn': 14.82}, 'feels_like': {'day': 20.13, 'night': 14.13, 'eve': 19.13, 'morn': 14.55}, 'pressure': 1021, 'humidity': 54, 'dew_point': 10, 'wind_speed': 2.35, 'wind_deg': 84, 'wind_gust': 2.35, 'weather': [{'id': 500, 'main': 'Rain', 'description': 'light rain', 'icon': '10d'}], 'clouds': 24, 'pop': 0.42, 'rain': 0.35, 'uvi': 5}, {'dt': 1656500400, 'sunrise': 1656473627, 'sunset': 1656531262, 'moonrise': 1656472800, 'moonset': 1656534300, 'moon_phase': 0, 'temp': {'day': 25.08, 'min': 12.5, 'max': 26.14, 'night': 17.53, 'eve': 23.34, 'morn': 16.41}, 'feels_like': {'day': 24.69, 'night': 17.17, 'eve': 23.3, 'morn': 15.83}, 'pressure': 1015, 'humidity': 40, 'dew_point': 9.85, 'wind_speed': 2.06, 'wind_deg': 133, 'wind_gust': 2.28, 'weather': [{'id': 800, 'main': 'Clear', 'description': 'clear sky', 'icon': '01d'}], 'clouds': 1, 'pop': 0, 'uvi': 5}], 'alerts': [{'sender_name': 'METEO-FRANCE', 'event': 'Moderate thunderstorm warning', 'start': 1655884800, 'end': 1655956800, 'description': 'Although rather usual in this region, locally or potentially dangerous phenomena are expected. (such as local winds, summer thunderstorms, rising streams or high waves)', 'tags': ['Thunderstorm']}]}\n",
      "making request: Besancon\n",
      "{'lat': 47.238, 'lon': 6.0244, 'timezone': 'Europe/Paris', 'timezone_offset': 7200, 'daily': [{'dt': 1655895600, 'sunrise': 1655869195, 'sunset': 1655926544, 'moonrise': 1655857020, 'moonset': 1655902920, 'moon_phase': 0.79, 'temp': {'day': 21.48, 'min': 17.61, 'max': 25.8, 'night': 17.75, 'eve': 20.12, 'morn': 18.78}, 'feels_like': {'day': 22.11, 'night': 18.11, 'eve': 20.64, 'morn': 19.09}, 'pressure': 1011, 'humidity': 93, 'dew_point': 20.3, 'wind_speed': 4.1, 'wind_deg': 252, 'wind_gust': 8.26, 'weather': [{'id': 501, 'main': 'Rain', 'description': 'moderate rain', 'icon': '10d'}], 'clouds': 100, 'pop': 1, 'rain': 10.61, 'uvi': 6.88}, {'dt': 1655982000, 'sunrise': 1655955611, 'sunset': 1656012953, 'moonrise': 1655944440, 'moonset': 1655993460, 'moon_phase': 0.82, 'temp': {'day': 27.34, 'min': 15.72, 'max': 29.29, 'night': 16.3, 'eve': 18.64, 'morn': 17.49}, 'feels_like': {'day': 27.54, 'night': 16.54, 'eve': 19.04, 'morn': 17.83}, 'pressure': 1012, 'humidity': 47, 'dew_point': 14.56, 'wind_speed': 5.54, 'wind_deg': 351, 'wind_gust': 8.77, 'weather': [{'id': 502, 'main': 'Rain', 'description': 'heavy intensity rain', 'icon': '10d'}], 'clouds': 11, 'pop': 1, 'rain': 22.27, 'uvi': 8.2}, {'dt': 1656068400, 'sunrise': 1656042028, 'sunset': 1656099359, 'moonrise': 1656031920, 'moonset': 1656084000, 'moon_phase': 0.86, 'temp': {'day': 18.43, 'min': 15.23, 'max': 21.68, 'night': 15.23, 'eve': 21.68, 'morn': 16.34}, 'feels_like': {'day': 18.73, 'night': 15, 'eve': 21.42, 'morn': 16.51}, 'pressure': 1012, 'humidity': 92, 'dew_point': 16.5, 'wind_speed': 6.31, 'wind_deg': 226, 'wind_gust': 10.54, 'weather': [{'id': 501, 'main': 'Rain', 'description': 'moderate rain', 'icon': '10d'}], 'clouds': 79, 'pop': 1, 'rain': 5.77, 'uvi': 4.46}, {'dt': 1656154800, 'sunrise': 1656128448, 'sunset': 1656185763, 'moonrise': 1656119520, 'moonset': 1656174480, 'moon_phase': 0.89, 'temp': {'day': 27.15, 'min': 12.85, 'max': 27.15, 'night': 15.74, 'eve': 23.89, 'morn': 17.18}, 'feels_like': {'day': 26.97, 'night': 15.93, 'eve': 24.08, 'morn': 16.91}, 'pressure': 1010, 'humidity': 40, 'dew_point': 12.03, 'wind_speed': 3, 'wind_deg': 293, 'wind_gust': 7.13, 'weather': [{'id': 501, 'main': 'Rain', 'description': 'moderate rain', 'icon': '10d'}], 'clouds': 7, 'pop': 1, 'rain': 11.89, 'uvi': 7.23}, {'dt': 1656241200, 'sunrise': 1656214871, 'sunset': 1656272164, 'moonrise': 1656207420, 'moonset': 1656264960, 'moon_phase': 0.92, 'temp': {'day': 17.93, 'min': 14.22, 'max': 18.41, 'night': 15.81, 'eve': 18.41, 'morn': 16.33}, 'feels_like': {'day': 18.23, 'night': 15.85, 'eve': 18.4, 'morn': 16.5}, 'pressure': 1015, 'humidity': 94, 'dew_point': 16.46, 'wind_speed': 2.7, 'wind_deg': 308, 'wind_gust': 4.28, 'weather': [{'id': 500, 'main': 'Rain', 'description': 'light rain', 'icon': '10d'}], 'clouds': 96, 'pop': 1, 'rain': 5.34, 'uvi': 2.98}, {'dt': 1656327600, 'sunrise': 1656301295, 'sunset': 1656358563, 'moonrise': 1656295560, 'moonset': 1656355140, 'moon_phase': 0.95, 'temp': {'day': 14.37, 'min': 12.27, 'max': 15.67, 'night': 12.27, 'eve': 13.98, 'morn': 15.52}, 'feels_like': {'day': 14.45, 'night': 11.98, 'eve': 13.97, 'morn': 15.69}, 'pressure': 1017, 'humidity': 99, 'dew_point': 13.63, 'wind_speed': 2.48, 'wind_deg': 287, 'wind_gust': 6.27, 'weather': [{'id': 502, 'main': 'Rain', 'description': 'heavy intensity rain', 'icon': '10d'}], 'clouds': 100, 'pop': 1, 'rain': 33.31, 'uvi': 3}, {'dt': 1656414000, 'sunrise': 1656387722, 'sunset': 1656444960, 'moonrise': 1656384180, 'moonset': 1656445020, 'moon_phase': 0.98, 'temp': {'day': 21.88, 'min': 9.7, 'max': 22.49, 'night': 13.7, 'eve': 19.7, 'morn': 12.09}, 'feels_like': {'day': 21.22, 'night': 13.08, 'eve': 19.45, 'morn': 11.78}, 'pressure': 1021, 'humidity': 42, 'dew_point': 8.02, 'wind_speed': 3.21, 'wind_deg': 352, 'wind_gust': 3.99, 'weather': [{'id': 801, 'main': 'Clouds', 'description': 'few clouds', 'icon': '02d'}], 'clouds': 21, 'pop': 0.18, 'uvi': 3}, {'dt': 1656500400, 'sunrise': 1656474151, 'sunset': 1656531353, 'moonrise': 1656473400, 'moonset': 1656534360, 'moon_phase': 0, 'temp': {'day': 24.62, 'min': 10.76, 'max': 25.33, 'night': 15.93, 'eve': 22.08, 'morn': 15.07}, 'feels_like': {'day': 24.18, 'night': 15.64, 'eve': 22.12, 'morn': 14.38}, 'pressure': 1015, 'humidity': 40, 'dew_point': 9.93, 'wind_speed': 2.78, 'wind_deg': 297, 'wind_gust': 3.3, 'weather': [{'id': 800, 'main': 'Clear', 'description': 'clear sky', 'icon': '01d'}], 'clouds': 0, 'pop': 0, 'uvi': 3}], 'alerts': [{'sender_name': 'METEO-FRANCE', 'event': 'Severe thunderstorm warning', 'start': 1655842080, 'end': 1655906400, 'description': 'Severe thunderstorms may cause local damage.,                  Significant damage is expected locally on light and temporary structures or habitat.,                  Flooding of basements and low areas may occur suddenly. ,                  Some forest fire outbreaks may happen due to lightning strikes without precipitation.', 'tags': ['Thunderstorm']}, {'sender_name': 'METEO-FRANCE', 'event': 'Moderate high-temperature warning', 'start': 1655884800, 'end': 1655956800, 'description': 'Although rather usual in this region, locally or potentially dangerous phenomena are expected. (such as local winds, summer thunderstorms, rising streams or high waves)', 'tags': []}, {'sender_name': 'METEO-FRANCE', 'event': 'Moderate thunderstorm warning', 'start': 1655884800, 'end': 1655956800, 'description': 'Although rather usual in this region, locally or potentially dangerous phenomena are expected. (such as local winds, summer thunderstorms, rising streams or high waves)', 'tags': ['Thunderstorm']}]}\n",
      "making request: Dijon\n",
      "{'lat': 47.3216, 'lon': 5.0415, 'timezone': 'Europe/Paris', 'timezone_offset': 7200, 'daily': [{'dt': 1655895600, 'sunrise': 1655869409, 'sunset': 1655926802, 'moonrise': 1655857260, 'moonset': 1655903160, 'moon_phase': 0.79, 'temp': {'day': 25.1, 'min': 16.76, 'max': 27.39, 'night': 16.78, 'eve': 19.42, 'morn': 18.44}, 'feels_like': {'day': 25.39, 'night': 17.05, 'eve': 19.69, 'morn': 18.85}, 'pressure': 1010, 'humidity': 66, 'dew_point': 18.3, 'wind_speed': 7.9, 'wind_deg': 185, 'wind_gust': 12.51, 'weather': [{'id': 501, 'main': 'Rain', 'description': 'moderate rain', 'icon': '10d'}], 'clouds': 80, 'pop': 1, 'rain': 8.99, 'uvi': 5.96}, {'dt': 1655982000, 'sunrise': 1655955824, 'sunset': 1656013211, 'moonrise': 1655944680, 'moonset': 1655993760, 'moon_phase': 0.82, 'temp': {'day': 27.59, 'min': 14.96, 'max': 28.79, 'night': 16.48, 'eve': 18.72, 'morn': 15.96}, 'feels_like': {'day': 27.38, 'night': 16.59, 'eve': 18.92, 'morn': 16.12}, 'pressure': 1012, 'humidity': 41, 'dew_point': 12.99, 'wind_speed': 7.26, 'wind_deg': 213, 'wind_gust': 8.22, 'weather': [{'id': 501, 'main': 'Rain', 'description': 'moderate rain', 'icon': '10d'}], 'clouds': 6, 'pop': 0.94, 'rain': 3.28, 'uvi': 8.22}, {'dt': 1656068400, 'sunrise': 1656042242, 'sunset': 1656099617, 'moonrise': 1656032160, 'moonset': 1656084300, 'moon_phase': 0.86, 'temp': {'day': 18.51, 'min': 15.3, 'max': 22.45, 'night': 15.35, 'eve': 21.93, 'morn': 15.78}, 'feels_like': {'day': 18.4, 'night': 15.13, 'eve': 21.69, 'morn': 15.92}, 'pressure': 1012, 'humidity': 76, 'dew_point': 13.93, 'wind_speed': 6.88, 'wind_deg': 266, 'wind_gust': 9.83, 'weather': [{'id': 500, 'main': 'Rain', 'description': 'light rain', 'icon': '10d'}], 'clouds': 67, 'pop': 1, 'rain': 2.5, 'uvi': 4.69}, {'dt': 1656154800, 'sunrise': 1656128662, 'sunset': 1656186021, 'moonrise': 1656119760, 'moonset': 1656174780, 'moon_phase': 0.89, 'temp': {'day': 26.64, 'min': 13.89, 'max': 26.87, 'night': 15.53, 'eve': 23.04, 'morn': 16.67}, 'feels_like': {'day': 26.64, 'night': 15.62, 'eve': 22.84, 'morn': 16.43}, 'pressure': 1010, 'humidity': 38, 'dew_point': 11.07, 'wind_speed': 5.15, 'wind_deg': 303, 'wind_gust': 7.47, 'weather': [{'id': 500, 'main': 'Rain', 'description': 'light rain', 'icon': '10d'}], 'clouds': 41, 'pop': 1, 'rain': 2.32, 'uvi': 6.62}, {'dt': 1656241200, 'sunrise': 1656215084, 'sunset': 1656272423, 'moonrise': 1656207600, 'moonset': 1656265200, 'moon_phase': 0.92, 'temp': {'day': 13.92, 'min': 13.49, 'max': 18.01, 'night': 14.57, 'eve': 18.01, 'morn': 15.64}, 'feels_like': {'day': 13.85, 'night': 14.64, 'eve': 17.77, 'morn': 15.71}, 'pressure': 1015, 'humidity': 95, 'dew_point': 12.79, 'wind_speed': 3.15, 'wind_deg': 314, 'wind_gust': 5.18, 'weather': [{'id': 501, 'main': 'Rain', 'description': 'moderate rain', 'icon': '10d'}], 'clouds': 100, 'pop': 1, 'rain': 13.95, 'uvi': 5.77}, {'dt': 1656327600, 'sunrise': 1656301509, 'sunset': 1656358821, 'moonrise': 1656295800, 'moonset': 1656355380, 'moon_phase': 0.95, 'temp': {'day': 16.35, 'min': 12.69, 'max': 17.03, 'night': 12.69, 'eve': 17.03, 'morn': 14.54}, 'feels_like': {'day': 16.23, 'night': 12.1, 'eve': 16.9, 'morn': 14.58}, 'pressure': 1017, 'humidity': 84, 'dew_point': 13.27, 'wind_speed': 3.33, 'wind_deg': 298, 'wind_gust': 6.77, 'weather': [{'id': 501, 'main': 'Rain', 'description': 'moderate rain', 'icon': '10d'}], 'clouds': 100, 'pop': 1, 'rain': 14.44, 'uvi': 6}, {'dt': 1656414000, 'sunrise': 1656387936, 'sunset': 1656445218, 'moonrise': 1656384420, 'moonset': 1656445320, 'moon_phase': 0.98, 'temp': {'day': 22.14, 'min': 10.48, 'max': 22.96, 'night': 14.59, 'eve': 20.47, 'morn': 13.38}, 'feels_like': {'day': 21.43, 'night': 13.85, 'eve': 20.09, 'morn': 12.73}, 'pressure': 1021, 'humidity': 39, 'dew_point': 7.43, 'wind_speed': 2.7, 'wind_deg': 61, 'wind_gust': 4.24, 'weather': [{'id': 800, 'main': 'Clear', 'description': 'clear sky', 'icon': '01d'}], 'clouds': 4, 'pop': 0.04, 'uvi': 6}, {'dt': 1656500400, 'sunrise': 1656474365, 'sunset': 1656531611, 'moonrise': 1656473580, 'moonset': 1656534600, 'moon_phase': 0, 'temp': {'day': 24.91, 'min': 11.25, 'max': 26.04, 'night': 17.3, 'eve': 23.18, 'morn': 15.13}, 'feels_like': {'day': 24.5, 'night': 16.94, 'eve': 23.07, 'morn': 14.53}, 'pressure': 1015, 'humidity': 40, 'dew_point': 10.05, 'wind_speed': 2.54, 'wind_deg': 161, 'wind_gust': 4.55, 'weather': [{'id': 800, 'main': 'Clear', 'description': 'clear sky', 'icon': '01d'}], 'clouds': 3, 'pop': 0, 'uvi': 6}], 'alerts': [{'sender_name': 'METEO-FRANCE', 'event': 'Moderate high-temperature warning', 'start': 1655884800, 'end': 1655956800, 'description': 'Although rather usual in this region, locally or potentially dangerous phenomena are expected. (such as local winds, summer thunderstorms, rising streams or high waves)', 'tags': []}, {'sender_name': 'METEO-FRANCE', 'event': 'Moderate thunderstorm warning', 'start': 1655884800, 'end': 1655956800, 'description': 'Although rather usual in this region, locally or potentially dangerous phenomena are expected. (such as local winds, summer thunderstorms, rising streams or high waves)', 'tags': ['Thunderstorm']}]}\n",
      "making request: Annecy\n",
      "{'lat': 45.8992, 'lon': 6.1289, 'timezone': 'Europe/Paris', 'timezone_offset': 7200, 'daily': [{'dt': 1655895600, 'sunrise': 1655869515, 'sunset': 1655926173, 'moonrise': 1655856960, 'moonset': 1655902860, 'moon_phase': 0.79, 'temp': {'day': 23.26, 'min': 17.24, 'max': 27.66, 'night': 17.24, 'eve': 25.42, 'morn': 17.73}, 'feels_like': {'day': 23.44, 'night': 17.55, 'eve': 25.79, 'morn': 18.12}, 'pressure': 1012, 'humidity': 69, 'dew_point': 17.26, 'wind_speed': 1.76, 'wind_deg': 313, 'wind_gust': 4.49, 'weather': [{'id': 501, 'main': 'Rain', 'description': 'moderate rain', 'icon': '10d'}], 'clouds': 19, 'pop': 1, 'rain': 12.72, 'uvi': 7.52}, {'dt': 1655982000, 'sunrise': 1655955930, 'sunset': 1656012582, 'moonrise': 1655944500, 'moonset': 1655993340, 'moon_phase': 0.82, 'temp': {'day': 27.9, 'min': 15.88, 'max': 29.64, 'night': 17.78, 'eve': 27.64, 'morn': 17.06}, 'feels_like': {'day': 28.25, 'night': 17.75, 'eve': 27.98, 'morn': 17.3}, 'pressure': 1012, 'humidity': 49, 'dew_point': 14.96, 'wind_speed': 2.01, 'wind_deg': 262, 'wind_gust': 6.1, 'weather': [{'id': 500, 'main': 'Rain', 'description': 'light rain', 'icon': '10d'}], 'clouds': 4, 'pop': 0.98, 'rain': 2.65, 'uvi': 8.91}, {'dt': 1656068400, 'sunrise': 1656042348, 'sunset': 1656098989, 'moonrise': 1656032040, 'moonset': 1656083760, 'moon_phase': 0.86, 'temp': {'day': 16.59, 'min': 14.94, 'max': 21.72, 'night': 15.05, 'eve': 21.51, 'morn': 16.32}, 'feels_like': {'day': 16.84, 'night': 14.75, 'eve': 21.15, 'morn': 16.51}, 'pressure': 1014, 'humidity': 97, 'dew_point': 14.54, 'wind_speed': 1.94, 'wind_deg': 302, 'wind_gust': 4.13, 'weather': [{'id': 502, 'main': 'Rain', 'description': 'heavy intensity rain', 'icon': '10d'}], 'clouds': 98, 'pop': 1, 'rain': 23.81, 'uvi': 6.83}, {'dt': 1656154800, 'sunrise': 1656128767, 'sunset': 1656185394, 'moonrise': 1656119760, 'moonset': 1656174180, 'moon_phase': 0.89, 'temp': {'day': 27.25, 'min': 12.73, 'max': 27.63, 'night': 16.39, 'eve': 18.1, 'morn': 16.95}, 'feels_like': {'day': 26.89, 'night': 16.64, 'eve': 18.47, 'morn': 16.48}, 'pressure': 1010, 'humidity': 37, 'dew_point': 10.11, 'wind_speed': 1.82, 'wind_deg': 71, 'wind_gust': 3.33, 'weather': [{'id': 501, 'main': 'Rain', 'description': 'moderate rain', 'icon': '10d'}], 'clouds': 12, 'pop': 0.96, 'rain': 7.33, 'uvi': 7.96}, {'dt': 1656241200, 'sunrise': 1656215189, 'sunset': 1656271796, 'moonrise': 1656207660, 'moonset': 1656264600, 'moon_phase': 0.92, 'temp': {'day': 26.25, 'min': 15.22, 'max': 26.64, 'night': 16.85, 'eve': 22.49, 'morn': 17.46}, 'feels_like': {'day': 26.25, 'night': 17.18, 'eve': 22.83, 'morn': 17.66}, 'pressure': 1012, 'humidity': 50, 'dew_point': 13.62, 'wind_speed': 1.93, 'wind_deg': 278, 'wind_gust': 2.65, 'weather': [{'id': 501, 'main': 'Rain', 'description': 'moderate rain', 'icon': '10d'}], 'clouds': 61, 'pop': 0.98, 'rain': 4.74, 'uvi': 5.51}, {'dt': 1656327600, 'sunrise': 1656301613, 'sunset': 1656358195, 'moonrise': 1656295860, 'moonset': 1656354720, 'moon_phase': 0.95, 'temp': {'day': 18.09, 'min': 12.97, 'max': 18.09, 'night': 12.97, 'eve': 13.68, 'morn': 16.96}, 'feels_like': {'day': 18.41, 'night': 12.86, 'eve': 13.69, 'morn': 17.27}, 'pressure': 1015, 'humidity': 94, 'dew_point': 15.54, 'wind_speed': 2.31, 'wind_deg': 277, 'wind_gust': 3.45, 'weather': [{'id': 501, 'main': 'Rain', 'description': 'moderate rain', 'icon': '10d'}], 'clouds': 100, 'pop': 1, 'rain': 12.84, 'uvi': 6}, {'dt': 1656414000, 'sunrise': 1656388039, 'sunset': 1656444593, 'moonrise': 1656384540, 'moonset': 1656444600, 'moon_phase': 0.98, 'temp': {'day': 22.27, 'min': 9.87, 'max': 23.19, 'night': 13.66, 'eve': 19.72, 'morn': 12.76}, 'feels_like': {'day': 21.65, 'night': 13.09, 'eve': 19.34, 'morn': 12.52}, 'pressure': 1019, 'humidity': 42, 'dew_point': 7.26, 'wind_speed': 3.38, 'wind_deg': 1, 'wind_gust': 4.49, 'weather': [{'id': 800, 'main': 'Clear', 'description': 'clear sky', 'icon': '01d'}], 'clouds': 9, 'pop': 0.5, 'uvi': 6}, {'dt': 1656500400, 'sunrise': 1656474467, 'sunset': 1656530987, 'moonrise': 1656473760, 'moonset': 1656533940, 'moon_phase': 0, 'temp': {'day': 26.36, 'min': 10.95, 'max': 27.06, 'night': 16.68, 'eve': 22.71, 'morn': 15.53}, 'feels_like': {'day': 26.36, 'night': 16.1, 'eve': 22.6, 'morn': 14.97}, 'pressure': 1014, 'humidity': 36, 'dew_point': 8.88, 'wind_speed': 1.63, 'wind_deg': 109, 'wind_gust': 2.25, 'weather': [{'id': 800, 'main': 'Clear', 'description': 'clear sky', 'icon': '01d'}], 'clouds': 0, 'pop': 0, 'uvi': 6}], 'alerts': [{'sender_name': 'METEO-FRANCE', 'event': 'Moderate high-temperature warning', 'start': 1655884800, 'end': 1655956800, 'description': 'Although rather usual in this region, locally or potentially dangerous phenomena are expected. (such as local winds, summer thunderstorms, rising streams or high waves)', 'tags': []}, {'sender_name': 'METEO-FRANCE', 'event': 'Moderate thunderstorm warning', 'start': 1655884800, 'end': 1655956800, 'description': 'Although rather usual in this region, locally or potentially dangerous phenomena are expected. (such as local winds, summer thunderstorms, rising streams or high waves)', 'tags': ['Thunderstorm']}]}\n",
      "making request: Grenoble\n",
      "{'lat': 45.1876, 'lon': 5.7358, 'timezone': 'Europe/Paris', 'timezone_offset': 7200, 'daily': [{'dt': 1655895600, 'sunrise': 1655869785, 'sunset': 1655926093, 'moonrise': 1655857080, 'moonset': 1655902920, 'moon_phase': 0.79, 'temp': {'day': 28.57, 'min': 18.26, 'max': 30.53, 'night': 19.68, 'eve': 27.74, 'morn': 18.26}, 'feels_like': {'day': 29.81, 'night': 20.11, 'eve': 28.59, 'morn': 18.7}, 'pressure': 1008, 'humidity': 56, 'dew_point': 18.94, 'wind_speed': 4.91, 'wind_deg': 210, 'wind_gust': 9.8, 'weather': [{'id': 502, 'main': 'Rain', 'description': 'heavy intensity rain', 'icon': '10d'}], 'clouds': 86, 'pop': 1, 'rain': 7.75, 'uvi': 8.43}, {'dt': 1655982000, 'sunrise': 1655956200, 'sunset': 1656012502, 'moonrise': 1655944620, 'moonset': 1655993340, 'moon_phase': 0.82, 'temp': {'day': 31.84, 'min': 17.35, 'max': 32.79, 'night': 19.43, 'eve': 30.41, 'morn': 18.63}, 'feels_like': {'day': 30.24, 'night': 19.41, 'eve': 29.4, 'morn': 18.9}, 'pressure': 1011, 'humidity': 26, 'dew_point': 7.66, 'wind_speed': 4.35, 'wind_deg': 202, 'wind_gust': 9.07, 'weather': [{'id': 500, 'main': 'Rain', 'description': 'light rain', 'icon': '10d'}], 'clouds': 0, 'pop': 0.84, 'rain': 0.91, 'uvi': 9.01}, {'dt': 1656068400, 'sunrise': 1656042617, 'sunset': 1656098909, 'moonrise': 1656032220, 'moonset': 1656083760, 'moon_phase': 0.86, 'temp': {'day': 21.38, 'min': 16.11, 'max': 24.26, 'night': 17.1, 'eve': 24.16, 'morn': 17.1}, 'feels_like': {'day': 21.82, 'night': 17.14, 'eve': 24.2, 'morn': 17.35}, 'pressure': 1014, 'humidity': 86, 'dew_point': 16.01, 'wind_speed': 2.24, 'wind_deg': 283, 'wind_gust': 3.3, 'weather': [{'id': 501, 'main': 'Rain', 'description': 'moderate rain', 'icon': '10d'}], 'clouds': 98, 'pop': 1, 'rain': 15.48, 'uvi': 7.51}, {'dt': 1656154800, 'sunrise': 1656129036, 'sunset': 1656185314, 'moonrise': 1656119940, 'moonset': 1656174120, 'moon_phase': 0.89, 'temp': {'day': 29.75, 'min': 14.73, 'max': 29.75, 'night': 17.17, 'eve': 21.84, 'morn': 19.42}, 'feels_like': {'day': 28.83, 'night': 17.4, 'eve': 21.99, 'morn': 19.06}, 'pressure': 1009, 'humidity': 34, 'dew_point': 9.84, 'wind_speed': 1.89, 'wind_deg': 210, 'wind_gust': 5.07, 'weather': [{'id': 500, 'main': 'Rain', 'description': 'light rain', 'icon': '10d'}], 'clouds': 21, 'pop': 0.47, 'rain': 1.5, 'uvi': 7.79}, {'dt': 1656241200, 'sunrise': 1656215457, 'sunset': 1656271716, 'moonrise': 1656207900, 'moonset': 1656264480, 'moon_phase': 0.92, 'temp': {'day': 28.55, 'min': 17.26, 'max': 28.55, 'night': 18.1, 'eve': 21.07, 'morn': 19.83}, 'feels_like': {'day': 28.5, 'night': 18.52, 'eve': 21.53, 'morn': 20.01}, 'pressure': 1011, 'humidity': 44, 'dew_point': 12.49, 'wind_speed': 2.41, 'wind_deg': 309, 'wind_gust': 4.1, 'weather': [{'id': 500, 'main': 'Rain', 'description': 'light rain', 'icon': '10d'}], 'clouds': 34, 'pop': 0.92, 'rain': 1.81, 'uvi': 6.5}, {'dt': 1656327600, 'sunrise': 1656301881, 'sunset': 1656358116, 'moonrise': 1656296160, 'moonset': 1656354600, 'moon_phase': 0.95, 'temp': {'day': 18.23, 'min': 14.26, 'max': 21.39, 'night': 14.26, 'eve': 14.72, 'morn': 18.99}, 'feels_like': {'day': 18.67, 'night': 14.27, 'eve': 14.78, 'morn': 19.43}, 'pressure': 1016, 'humidity': 98, 'dew_point': 15.08, 'wind_speed': 2.45, 'wind_deg': 305, 'wind_gust': 4.68, 'weather': [{'id': 501, 'main': 'Rain', 'description': 'moderate rain', 'icon': '10d'}], 'clouds': 93, 'pop': 1, 'rain': 10.55, 'uvi': 7}, {'dt': 1656414000, 'sunrise': 1656388307, 'sunset': 1656444514, 'moonrise': 1656384840, 'moonset': 1656444480, 'moon_phase': 0.98, 'temp': {'day': 24.14, 'min': 11.51, 'max': 25.43, 'night': 14.35, 'eve': 21.92, 'morn': 14.27}, 'feels_like': {'day': 23.65, 'night': 14.06, 'eve': 21.66, 'morn': 14.21}, 'pressure': 1018, 'humidity': 40, 'dew_point': 7.26, 'wind_speed': 3.57, 'wind_deg': 347, 'wind_gust': 5.42, 'weather': [{'id': 801, 'main': 'Clouds', 'description': 'few clouds', 'icon': '02d'}], 'clouds': 14, 'pop': 0.19, 'uvi': 7}, {'dt': 1656500400, 'sunrise': 1656474734, 'sunset': 1656530909, 'moonrise': 1656474060, 'moonset': 1656533820, 'moon_phase': 0, 'temp': {'day': 29.23, 'min': 12.58, 'max': 29.55, 'night': 18.66, 'eve': 25.19, 'morn': 17.61}, 'feels_like': {'day': 28.19, 'night': 18.41, 'eve': 25.25, 'morn': 17.15}, 'pressure': 1014, 'humidity': 32, 'dew_point': 8.53, 'wind_speed': 2.5, 'wind_deg': 319, 'wind_gust': 2.35, 'weather': [{'id': 800, 'main': 'Clear', 'description': 'clear sky', 'icon': '01d'}], 'clouds': 0, 'pop': 0, 'uvi': 7}], 'alerts': [{'sender_name': 'METEO-FRANCE', 'event': 'Severe high-temperature warning', 'start': 1655884800, 'end': 1655956800, 'description': 'Each of us, even in good health, is threatened,,                  Danger is greater for elderly people, people with chronic illness or mental disease, people who regularly take medications, and isolated persons.,                  Athletes and people who work outdoors should  be careful of dehydration and heat stroke.,                  Pay particular attention to children.,                  Symptoms of heat stroke are: fever over 40 degrees Celsius, warm, red and dry skin, headache, nausea, drowsiness, increased thirst, confusion, convulsions and loss of consciousness.', 'tags': ['Extreme temperature value']}, {'sender_name': 'METEO-FRANCE', 'event': 'Moderate thunderstorm warning', 'start': 1655884800, 'end': 1655956800, 'description': 'Although rather usual in this region, locally or potentially dangerous phenomena are expected. (such as local winds, summer thunderstorms, rising streams or high waves)', 'tags': ['Thunderstorm']}]}\n",
      "making request: Lyon\n",
      "{'lat': 45.7578, 'lon': 4.832, 'timezone': 'Europe/Paris', 'timezone_offset': 7200, 'daily': [{'dt': 1655895600, 'sunrise': 1655869862, 'sunset': 1655926449, 'moonrise': 1655857320, 'moonset': 1655903160, 'moon_phase': 0.79, 'temp': {'day': 28.88, 'min': 18.73, 'max': 30.97, 'night': 19.04, 'eve': 28.14, 'morn': 18.73}, 'feels_like': {'day': 29.39, 'night': 19.51, 'eve': 28.7, 'morn': 19.09}, 'pressure': 1009, 'humidity': 49, 'dew_point': 17.1, 'wind_speed': 9.11, 'wind_deg': 178, 'wind_gust': 12.35, 'weather': [{'id': 501, 'main': 'Rain', 'description': 'moderate rain', 'icon': '10d'}], 'clouds': 12, 'pop': 0.87, 'rain': 5.85, 'uvi': 6.83}, {'dt': 1655982000, 'sunrise': 1655956277, 'sunset': 1656012859, 'moonrise': 1655944800, 'moonset': 1655993640, 'moon_phase': 0.82, 'temp': {'day': 29.43, 'min': 17.77, 'max': 31.58, 'night': 17.77, 'eve': 30.14, 'morn': 18.55}, 'feels_like': {'day': 29.26, 'night': 18.03, 'eve': 29.41, 'morn': 18.94}, 'pressure': 1011, 'humidity': 42, 'dew_point': 14.53, 'wind_speed': 6.95, 'wind_deg': 185, 'wind_gust': 10.49, 'weather': [{'id': 501, 'main': 'Rain', 'description': 'moderate rain', 'icon': '10d'}], 'clouds': 59, 'pop': 1, 'rain': 9.49, 'uvi': 8.84}, {'dt': 1656068400, 'sunrise': 1656042694, 'sunset': 1656099265, 'moonrise': 1656032400, 'moonset': 1656084120, 'moon_phase': 0.86, 'temp': {'day': 18.34, 'min': 16.63, 'max': 24.96, 'night': 18.94, 'eve': 22.04, 'morn': 16.81}, 'feels_like': {'day': 18.37, 'night': 18.72, 'eve': 21.89, 'morn': 17.03}, 'pressure': 1014, 'humidity': 82, 'dew_point': 14.63, 'wind_speed': 4.01, 'wind_deg': 317, 'wind_gust': 7.05, 'weather': [{'id': 501, 'main': 'Rain', 'description': 'moderate rain', 'icon': '10d'}], 'clouds': 98, 'pop': 1, 'rain': 7.98, 'uvi': 6.72}, {'dt': 1656154800, 'sunrise': 1656129114, 'sunset': 1656185670, 'moonrise': 1656120060, 'moonset': 1656174480, 'moon_phase': 0.89, 'temp': {'day': 27.7, 'min': 15.63, 'max': 29.99, 'night': 18.13, 'eve': 19.9, 'morn': 17.84}, 'feels_like': {'day': 27.41, 'night': 18.4, 'eve': 20.09, 'morn': 17.61}, 'pressure': 1010, 'humidity': 40, 'dew_point': 12.59, 'wind_speed': 4.95, 'wind_deg': 292, 'wind_gust': 12.32, 'weather': [{'id': 500, 'main': 'Rain', 'description': 'light rain', 'icon': '10d'}], 'clouds': 42, 'pop': 0.87, 'rain': 2.81, 'uvi': 7.58}, {'dt': 1656241200, 'sunrise': 1656215535, 'sunset': 1656272072, 'moonrise': 1656208020, 'moonset': 1656264840, 'moon_phase': 0.92, 'temp': {'day': 19, 'min': 15.96, 'max': 19, 'night': 16.12, 'eve': 16.57, 'morn': 17}, 'feels_like': {'day': 19.04, 'night': 16.29, 'eve': 16.74, 'morn': 17.13}, 'pressure': 1015, 'humidity': 80, 'dew_point': 14.83, 'wind_speed': 4.26, 'wind_deg': 344, 'wind_gust': 5.48, 'weather': [{'id': 501, 'main': 'Rain', 'description': 'moderate rain', 'icon': '10d'}], 'clouds': 96, 'pop': 1, 'rain': 7.31, 'uvi': 4.79}, {'dt': 1656327600, 'sunrise': 1656301959, 'sunset': 1656358472, 'moonrise': 1656296220, 'moonset': 1656355020, 'moon_phase': 0.95, 'temp': {'day': 15.31, 'min': 14.89, 'max': 16.69, 'night': 14.89, 'eve': 16.69, 'morn': 15.84}, 'feels_like': {'day': 15.14, 'night': 14.71, 'eve': 16.43, 'morn': 16.01}, 'pressure': 1018, 'humidity': 86, 'dew_point': 12.35, 'wind_speed': 2.84, 'wind_deg': 317, 'wind_gust': 7.23, 'weather': [{'id': 501, 'main': 'Rain', 'description': 'moderate rain', 'icon': '10d'}], 'clouds': 100, 'pop': 1, 'rain': 9.82, 'uvi': 5}, {'dt': 1656414000, 'sunrise': 1656388385, 'sunset': 1656444869, 'moonrise': 1656384900, 'moonset': 1656444840, 'moon_phase': 0.98, 'temp': {'day': 22.56, 'min': 11.34, 'max': 23.66, 'night': 16.45, 'eve': 21.4, 'morn': 13.29}, 'feels_like': {'day': 21.86, 'night': 15.82, 'eve': 20.85, 'morn': 12.71}, 'pressure': 1020, 'humidity': 38, 'dew_point': 7.07, 'wind_speed': 4.67, 'wind_deg': 354, 'wind_gust': 7.41, 'weather': [{'id': 800, 'main': 'Clear', 'description': 'clear sky', 'icon': '01d'}], 'clouds': 1, 'pop': 0.07, 'uvi': 5}, {'dt': 1656500400, 'sunrise': 1656474813, 'sunset': 1656531264, 'moonrise': 1656474120, 'moonset': 1656534180, 'moon_phase': 0, 'temp': {'day': 26.31, 'min': 13.26, 'max': 28.28, 'night': 20.94, 'eve': 26.08, 'morn': 15.67}, 'feels_like': {'day': 26.31, 'night': 20.5, 'eve': 26.08, 'morn': 15.02}, 'pressure': 1015, 'humidity': 36, 'dew_point': 9.81, 'wind_speed': 2.05, 'wind_deg': 49, 'wind_gust': 2.33, 'weather': [{'id': 800, 'main': 'Clear', 'description': 'clear sky', 'icon': '01d'}], 'clouds': 0, 'pop': 0, 'uvi': 5}], 'alerts': [{'sender_name': 'METEO-FRANCE', 'event': 'Severe thunderstorm warning', 'start': 1655842080, 'end': 1655906400, 'description': 'Severe thunderstorms may cause local damage.,                  Significant damage is expected locally on light and temporary structures or habitat.,                  Flooding of basements and low areas may occur suddenly. ,                  Some forest fire outbreaks may happen due to lightning strikes without precipitation.', 'tags': ['Thunderstorm']}, {'sender_name': 'METEO-FRANCE', 'event': 'Severe high-temperature warning', 'start': 1655884800, 'end': 1655956800, 'description': 'Each of us, even in good health, is threatened,,                  Danger is greater for elderly people, people with chronic illness or mental disease, people who regularly take medications, and isolated persons.,                  Athletes and people who work outdoors should  be careful of dehydration and heat stroke.,                  Pay particular attention to children.,                  Symptoms of heat stroke are: fever over 40 degrees Celsius, warm, red and dry skin, headache, nausea, drowsiness, increased thirst, confusion, convulsions and loss of consciousness.', 'tags': ['Extreme temperature value']}, {'sender_name': 'METEO-FRANCE', 'event': 'Moderate thunderstorm warning', 'start': 1655884800, 'end': 1655956800, 'description': 'Although rather usual in this region, locally or potentially dangerous phenomena are expected. (such as local winds, summer thunderstorms, rising streams or high waves)', 'tags': ['Thunderstorm']}]}\n",
      "making request: Gorges du Verdon\n"
     ]
    },
    {
     "ename": "IndexError",
     "evalue": "list index out of range",
     "output_type": "error",
     "traceback": [
      "\u001b[0;31m---------------------------------------------------------------------------\u001b[0m",
      "\u001b[0;31mIndexError\u001b[0m                                Traceback (most recent call last)",
      "\u001b[1;32m/Users/alexlasnier/Desktop/Bloc01_BigData-WebScraping_Kayak/OlgaPuntous /Kayak_project_v.ipynb Cell 9'\u001b[0m in \u001b[0;36m<cell line: 1>\u001b[0;34m()\u001b[0m\n\u001b[1;32m     <a href='vscode-notebook-cell:/Users/alexlasnier/Desktop/Bloc01_BigData-WebScraping_Kayak/OlgaPuntous%20/Kayak_project_v.ipynb#ch0000013?line=15'>16</a>\u001b[0m     df\u001b[39m.\u001b[39mloc[i,\u001b[39m'\u001b[39m\u001b[39mcity_id\u001b[39m\u001b[39m'\u001b[39m] \u001b[39m=\u001b[39m i\n\u001b[1;32m     <a href='vscode-notebook-cell:/Users/alexlasnier/Desktop/Bloc01_BigData-WebScraping_Kayak/OlgaPuntous%20/Kayak_project_v.ipynb#ch0000013?line=16'>17</a>\u001b[0m     df\u001b[39m.\u001b[39mloc[i,\u001b[39m'\u001b[39m\u001b[39mname\u001b[39m\u001b[39m'\u001b[39m] \u001b[39m=\u001b[39m city_names[i]\n\u001b[0;32m---> <a href='vscode-notebook-cell:/Users/alexlasnier/Desktop/Bloc01_BigData-WebScraping_Kayak/OlgaPuntous%20/Kayak_project_v.ipynb#ch0000013?line=17'>18</a>\u001b[0m     df\u001b[39m.\u001b[39mloc[i, \u001b[39m'\u001b[39m\u001b[39mlatitude\u001b[39m\u001b[39m'\u001b[39m] \u001b[39m=\u001b[39m res[\u001b[39m0\u001b[39;49m][\u001b[39m'\u001b[39m\u001b[39mlat\u001b[39m\u001b[39m'\u001b[39m]\n\u001b[1;32m     <a href='vscode-notebook-cell:/Users/alexlasnier/Desktop/Bloc01_BigData-WebScraping_Kayak/OlgaPuntous%20/Kayak_project_v.ipynb#ch0000013?line=18'>19</a>\u001b[0m     df\u001b[39m.\u001b[39mloc[i, \u001b[39m'\u001b[39m\u001b[39mlongitude\u001b[39m\u001b[39m'\u001b[39m] \u001b[39m=\u001b[39m res[\u001b[39m0\u001b[39m][\u001b[39m'\u001b[39m\u001b[39mlon\u001b[39m\u001b[39m'\u001b[39m]\n\u001b[1;32m     <a href='vscode-notebook-cell:/Users/alexlasnier/Desktop/Bloc01_BigData-WebScraping_Kayak/OlgaPuntous%20/Kayak_project_v.ipynb#ch0000013?line=20'>21</a>\u001b[0m \u001b[39m#get weather\u001b[39;00m\n",
      "\u001b[0;31mIndexError\u001b[0m: list index out of range"
     ]
    }
   ],
   "source": [
    "for i in range(len(city_names)):\n",
    "    print(\"making request: {}\".format(city_names[i]))\n",
    "    \n",
    "#get latitude and longitude of cities    \n",
    "    \n",
    "    par = {\n",
    "        \"city\": city_names[i],\n",
    "        \"country\": \"France\",\n",
    "        \"format\": \"json\"\n",
    "          }\n",
    "    \n",
    "    r = requests.get('https://nominatim.openstreetmap.org/search', params=par)\n",
    "    res = r.json()\n",
    "    \n",
    "#fix lat and lon\n",
    "    df.loc[i,'city_id'] = i\n",
    "    df.loc[i,'name'] = city_names[i]\n",
    "    df.loc[i, 'latitude'] = res[0]['lat']\n",
    "    df.loc[i, 'longitude'] = res[0]['lon']\n",
    "    \n",
    "#get weather\n",
    "    par = {\n",
    "        \"lat\": df.loc[i, 'latitude'],\n",
    "        \"lon\": df.loc[i, 'longitude'],\n",
    "        \"exclude\": \"current,minutely,hourly\",\n",
    "        \"units\": \"metric\",\n",
    "        \"appid\": api_key,\n",
    "           }\n",
    "    \n",
    "    r = requests.get('https://api.openweathermap.org/data/2.5/onecall', params=par)\n",
    "    res = r.json()\n",
    "    \n",
    "    # Compute expected volume of rain\n",
    "    expected_rain = 0\n",
    "    print(res) \n",
    "    \n",
    "    for d in res['daily']:\n",
    "        if 'rain' in d.keys():\n",
    "            expected_rain += d['pop']*d['rain']\n",
    "            \n",
    "    # Compute average day temperature\n",
    "    temperatures = pd.Series([d['temp']['day'] for d in res['daily']])\n",
    "    mean_temperature = temperatures.mean()\n",
    "\n",
    "    # Extract most probable weather\n",
    "    weathers = pd.Series([d['weather'][0]['main'] for d in res['daily']])\n",
    "    main_weather = weathers.mode()[0]\n",
    "    \n",
    "    df.loc[i, 'main_weather'] = main_weather\n",
    "    df.loc[i,'expected_rain'] = expected_rain\n",
    "    df.loc[i,'day_temperature'] = mean_temperature\n"
   ]
  },
  {
   "cell_type": "code",
   "execution_count": null,
   "metadata": {},
   "outputs": [],
   "source": [
    "df"
   ]
  },
  {
   "cell_type": "code",
   "execution_count": null,
   "metadata": {},
   "outputs": [
    {
     "data": {
      "text/html": [
       "<div>\n",
       "<style scoped>\n",
       "    .dataframe tbody tr th:only-of-type {\n",
       "        vertical-align: middle;\n",
       "    }\n",
       "\n",
       "    .dataframe tbody tr th {\n",
       "        vertical-align: top;\n",
       "    }\n",
       "\n",
       "    .dataframe thead th {\n",
       "        text-align: right;\n",
       "    }\n",
       "</style>\n",
       "<table border=\"1\" class=\"dataframe\">\n",
       "  <thead>\n",
       "    <tr style=\"text-align: right;\">\n",
       "      <th></th>\n",
       "      <th>city_id</th>\n",
       "      <th>name</th>\n",
       "      <th>latitude</th>\n",
       "      <th>longitude</th>\n",
       "      <th>main_weather</th>\n",
       "      <th>expected_rain</th>\n",
       "      <th>day_temperature</th>\n",
       "      <th>rank</th>\n",
       "      <th>inverted_rank</th>\n",
       "    </tr>\n",
       "  </thead>\n",
       "  <tbody>\n",
       "    <tr>\n",
       "      <th>0</th>\n",
       "      <td>1</td>\n",
       "      <td>St Malo</td>\n",
       "      <td>48.649518</td>\n",
       "      <td>-2.0260409</td>\n",
       "      <td>Rain</td>\n",
       "      <td>16.4615</td>\n",
       "      <td>19.0925</td>\n",
       "      <td>1.0</td>\n",
       "      <td>17.0</td>\n",
       "    </tr>\n",
       "    <tr>\n",
       "      <th>1</th>\n",
       "      <td>2</td>\n",
       "      <td>Bayeux</td>\n",
       "      <td>49.2764624</td>\n",
       "      <td>-0.7024738</td>\n",
       "      <td>Rain</td>\n",
       "      <td>16.8455</td>\n",
       "      <td>19.45125</td>\n",
       "      <td>2.0</td>\n",
       "      <td>16.0</td>\n",
       "    </tr>\n",
       "    <tr>\n",
       "      <th>2</th>\n",
       "      <td>5</td>\n",
       "      <td>Paris</td>\n",
       "      <td>48.8588897</td>\n",
       "      <td>2.3200410217200766</td>\n",
       "      <td>Rain</td>\n",
       "      <td>17.8608</td>\n",
       "      <td>22.72125</td>\n",
       "      <td>3.0</td>\n",
       "      <td>15.0</td>\n",
       "    </tr>\n",
       "    <tr>\n",
       "      <th>3</th>\n",
       "      <td>3</td>\n",
       "      <td>Le Havre</td>\n",
       "      <td>49.4938975</td>\n",
       "      <td>0.1079732</td>\n",
       "      <td>Rain</td>\n",
       "      <td>18.65</td>\n",
       "      <td>18.45625</td>\n",
       "      <td>4.0</td>\n",
       "      <td>14.0</td>\n",
       "    </tr>\n",
       "    <tr>\n",
       "      <th>4</th>\n",
       "      <td>0</td>\n",
       "      <td>Mont Saint Michel</td>\n",
       "      <td>48.6359541</td>\n",
       "      <td>-1.511459954959514</td>\n",
       "      <td>Rain</td>\n",
       "      <td>19.8474</td>\n",
       "      <td>19.975</td>\n",
       "      <td>5.0</td>\n",
       "      <td>13.0</td>\n",
       "    </tr>\n",
       "    <tr>\n",
       "      <th>5</th>\n",
       "      <td>4</td>\n",
       "      <td>Rouen</td>\n",
       "      <td>49.4404591</td>\n",
       "      <td>1.0939658</td>\n",
       "      <td>Rain</td>\n",
       "      <td>21.7818</td>\n",
       "      <td>21.57875</td>\n",
       "      <td>6.0</td>\n",
       "      <td>12.0</td>\n",
       "    </tr>\n",
       "    <tr>\n",
       "      <th>6</th>\n",
       "      <td>6</td>\n",
       "      <td>Amiens</td>\n",
       "      <td>49.8941708</td>\n",
       "      <td>2.2956951</td>\n",
       "      <td>Rain</td>\n",
       "      <td>23.0233</td>\n",
       "      <td>21.06625</td>\n",
       "      <td>7.0</td>\n",
       "      <td>11.0</td>\n",
       "    </tr>\n",
       "    <tr>\n",
       "      <th>7</th>\n",
       "      <td>7</td>\n",
       "      <td>Lille</td>\n",
       "      <td>50.6365654</td>\n",
       "      <td>3.0635282</td>\n",
       "      <td>Rain</td>\n",
       "      <td>34.6325</td>\n",
       "      <td>20.8025</td>\n",
       "      <td>8.0</td>\n",
       "      <td>10.0</td>\n",
       "    </tr>\n",
       "    <tr>\n",
       "      <th>8</th>\n",
       "      <td>15</td>\n",
       "      <td>Grenoble</td>\n",
       "      <td>45.1875602</td>\n",
       "      <td>5.7357819</td>\n",
       "      <td>Rain</td>\n",
       "      <td>36.9146</td>\n",
       "      <td>26.46125</td>\n",
       "      <td>9.0</td>\n",
       "      <td>9.0</td>\n",
       "    </tr>\n",
       "    <tr>\n",
       "      <th>9</th>\n",
       "      <td>16</td>\n",
       "      <td>Lyon</td>\n",
       "      <td>45.7578137</td>\n",
       "      <td>4.8320114</td>\n",
       "      <td>Rain</td>\n",
       "      <td>42.1342</td>\n",
       "      <td>23.44125</td>\n",
       "      <td>10.0</td>\n",
       "      <td>8.0</td>\n",
       "    </tr>\n",
       "    <tr>\n",
       "      <th>10</th>\n",
       "      <td>13</td>\n",
       "      <td>Dijon</td>\n",
       "      <td>47.3215806</td>\n",
       "      <td>5.0414701</td>\n",
       "      <td>Rain</td>\n",
       "      <td>45.2832</td>\n",
       "      <td>21.895</td>\n",
       "      <td>11.0</td>\n",
       "      <td>7.0</td>\n",
       "    </tr>\n",
       "    <tr>\n",
       "      <th>11</th>\n",
       "      <td>14</td>\n",
       "      <td>Annecy</td>\n",
       "      <td>45.8992348</td>\n",
       "      <td>6.1288847</td>\n",
       "      <td>Rain</td>\n",
       "      <td>63.649</td>\n",
       "      <td>23.49625</td>\n",
       "      <td>12.0</td>\n",
       "      <td>6.0</td>\n",
       "    </tr>\n",
       "    <tr>\n",
       "      <th>12</th>\n",
       "      <td>11</td>\n",
       "      <td>Eguisheim</td>\n",
       "      <td>48.0447968</td>\n",
       "      <td>7.3079618</td>\n",
       "      <td>Rain</td>\n",
       "      <td>67.0029</td>\n",
       "      <td>23.08625</td>\n",
       "      <td>13.0</td>\n",
       "      <td>5.0</td>\n",
       "    </tr>\n",
       "    <tr>\n",
       "      <th>13</th>\n",
       "      <td>10</td>\n",
       "      <td>Colmar</td>\n",
       "      <td>48.0777517</td>\n",
       "      <td>7.3579641</td>\n",
       "      <td>Rain</td>\n",
       "      <td>67.0777</td>\n",
       "      <td>23.14375</td>\n",
       "      <td>14.0</td>\n",
       "      <td>4.0</td>\n",
       "    </tr>\n",
       "    <tr>\n",
       "      <th>14</th>\n",
       "      <td>8</td>\n",
       "      <td>Strasbourg</td>\n",
       "      <td>48.584614</td>\n",
       "      <td>7.7507127</td>\n",
       "      <td>Rain</td>\n",
       "      <td>78.2109</td>\n",
       "      <td>22.96</td>\n",
       "      <td>15.0</td>\n",
       "      <td>3.0</td>\n",
       "    </tr>\n",
       "    <tr>\n",
       "      <th>15</th>\n",
       "      <td>9</td>\n",
       "      <td>Chateau du Haut Koenigsbourg</td>\n",
       "      <td>48.2495226</td>\n",
       "      <td>7.3454923</td>\n",
       "      <td>Rain</td>\n",
       "      <td>79.5654</td>\n",
       "      <td>19.90375</td>\n",
       "      <td>16.0</td>\n",
       "      <td>2.0</td>\n",
       "    </tr>\n",
       "    <tr>\n",
       "      <th>16</th>\n",
       "      <td>12</td>\n",
       "      <td>Besancon</td>\n",
       "      <td>47.2380222</td>\n",
       "      <td>6.0243622</td>\n",
       "      <td>Rain</td>\n",
       "      <td>89.19</td>\n",
       "      <td>21.65</td>\n",
       "      <td>17.0</td>\n",
       "      <td>1.0</td>\n",
       "    </tr>\n",
       "    <tr>\n",
       "      <th>17</th>\n",
       "      <td>17</td>\n",
       "      <td>Gorges du Verdon</td>\n",
       "      <td>NaN</td>\n",
       "      <td>NaN</td>\n",
       "      <td>NaN</td>\n",
       "      <td>NaN</td>\n",
       "      <td>NaN</td>\n",
       "      <td>NaN</td>\n",
       "      <td>NaN</td>\n",
       "    </tr>\n",
       "  </tbody>\n",
       "</table>\n",
       "</div>"
      ],
      "text/plain": [
       "   city_id                          name    latitude           longitude  \\\n",
       "0        1                       St Malo   48.649518          -2.0260409   \n",
       "1        2                        Bayeux  49.2764624          -0.7024738   \n",
       "2        5                         Paris  48.8588897  2.3200410217200766   \n",
       "3        3                      Le Havre  49.4938975           0.1079732   \n",
       "4        0             Mont Saint Michel  48.6359541  -1.511459954959514   \n",
       "5        4                         Rouen  49.4404591           1.0939658   \n",
       "6        6                        Amiens  49.8941708           2.2956951   \n",
       "7        7                         Lille  50.6365654           3.0635282   \n",
       "8       15                      Grenoble  45.1875602           5.7357819   \n",
       "9       16                          Lyon  45.7578137           4.8320114   \n",
       "10      13                         Dijon  47.3215806           5.0414701   \n",
       "11      14                        Annecy  45.8992348           6.1288847   \n",
       "12      11                     Eguisheim  48.0447968           7.3079618   \n",
       "13      10                        Colmar  48.0777517           7.3579641   \n",
       "14       8                    Strasbourg   48.584614           7.7507127   \n",
       "15       9  Chateau du Haut Koenigsbourg  48.2495226           7.3454923   \n",
       "16      12                      Besancon  47.2380222           6.0243622   \n",
       "17      17              Gorges du Verdon         NaN                 NaN   \n",
       "\n",
       "   main_weather expected_rain day_temperature  rank  inverted_rank  \n",
       "0          Rain       16.4615         19.0925   1.0           17.0  \n",
       "1          Rain       16.8455        19.45125   2.0           16.0  \n",
       "2          Rain       17.8608        22.72125   3.0           15.0  \n",
       "3          Rain         18.65        18.45625   4.0           14.0  \n",
       "4          Rain       19.8474          19.975   5.0           13.0  \n",
       "5          Rain       21.7818        21.57875   6.0           12.0  \n",
       "6          Rain       23.0233        21.06625   7.0           11.0  \n",
       "7          Rain       34.6325         20.8025   8.0           10.0  \n",
       "8          Rain       36.9146        26.46125   9.0            9.0  \n",
       "9          Rain       42.1342        23.44125  10.0            8.0  \n",
       "10         Rain       45.2832          21.895  11.0            7.0  \n",
       "11         Rain        63.649        23.49625  12.0            6.0  \n",
       "12         Rain       67.0029        23.08625  13.0            5.0  \n",
       "13         Rain       67.0777        23.14375  14.0            4.0  \n",
       "14         Rain       78.2109           22.96  15.0            3.0  \n",
       "15         Rain       79.5654        19.90375  16.0            2.0  \n",
       "16         Rain         89.19           21.65  17.0            1.0  \n",
       "17          NaN           NaN             NaN   NaN            NaN  "
      ]
     },
     "metadata": {},
     "output_type": "display_data"
    }
   ],
   "source": [
    "df.loc[:,'rank'] = df['expected_rain'].rank(method='min')\n",
    "df.loc[:,'inverted_rank'] = df['expected_rain'].rank(method='min', ascending=False)\n",
    "df = df.sort_values(by=['expected_rain', 'day_temperature'], ascending = [True, False]).reset_index(drop=True)\n",
    "display(df)"
   ]
  },
  {
   "cell_type": "code",
   "execution_count": null,
   "metadata": {},
   "outputs": [
    {
     "name": "stdout",
     "output_type": "stream",
     "text": [
      "Best places for a trip next week are : \n",
      "\n",
      "St Malo -- Mostly Rain with temperature 19.092499999999998 °C\n"
     ]
    }
   ],
   "source": [
    "print('Best places for a trip next week are : ')\n",
    "print()\n",
    "\n",
    "for i,row in df.loc[df['rank']==1,:].iterrows():\n",
    "    print(\"{} -- Mostly {} with temperature {} °C\".format(row['name'], row['main_weather'], row['day_temperature']))"
   ]
  },
  {
   "cell_type": "code",
   "execution_count": null,
   "metadata": {},
   "outputs": [],
   "source": [
    "df = df.fillna(0)"
   ]
  },
  {
   "cell_type": "code",
   "execution_count": null,
   "metadata": {},
   "outputs": [],
   "source": [
    "df.loc[:,'latitude'] = df['latitude'].astype('float')\n",
    "df.loc[:,'longitude'] = df['longitude'].astype('float')\n",
    "df.loc[:,'expected_rain'] = df['expected_rain'].astype('float')\n",
    "df.loc[:,'day_temperature'] = df['day_temperature'].astype('float')\n",
    "df.loc[:,'rank'] = df['rank'].astype('int')\n",
    "df.loc[:,'inverted_rank'] = df['inverted_rank'].astype('int')"
   ]
  },
  {
   "cell_type": "code",
   "execution_count": 8,
   "metadata": {},
   "outputs": [
    {
     "ename": "ValueError",
     "evalue": "Value of 'size' is not the name of a column in 'data_frame'. Expected one of ['city_id', 'name', 'latitude', 'longitude', 'main_weather', 'expected_rain', 'day_temperature'] but received: inverted_rank",
     "output_type": "error",
     "traceback": [
      "\u001b[0;31m---------------------------------------------------------------------------\u001b[0m",
      "\u001b[0;31mValueError\u001b[0m                                Traceback (most recent call last)",
      "\u001b[1;32m/Users/alexlasnier/Desktop/Bloc01_BigData-WebScraping_Kayak/OlgaPuntous /Kayak_project_v.ipynb Cell 15'\u001b[0m in \u001b[0;36m<cell line: 1>\u001b[0;34m()\u001b[0m\n\u001b[0;32m----> <a href='vscode-notebook-cell:/Users/alexlasnier/Desktop/Bloc01_BigData-WebScraping_Kayak/OlgaPuntous%20/Kayak_project_v.ipynb#ch0000019?line=0'>1</a>\u001b[0m fig \u001b[39m=\u001b[39m px\u001b[39m.\u001b[39;49mscatter_mapbox(df, lat\u001b[39m=\u001b[39;49m\u001b[39m\"\u001b[39;49m\u001b[39mlatitude\u001b[39;49m\u001b[39m\"\u001b[39;49m, lon\u001b[39m=\u001b[39;49m\u001b[39m\"\u001b[39;49m\u001b[39mlongitude\u001b[39;49m\u001b[39m\"\u001b[39;49m, hover_name \u001b[39m=\u001b[39;49m \u001b[39m'\u001b[39;49m\u001b[39mname\u001b[39;49m\u001b[39m'\u001b[39;49m, zoom \u001b[39m=\u001b[39;49m \u001b[39m4\u001b[39;49m,\n\u001b[1;32m      <a href='vscode-notebook-cell:/Users/alexlasnier/Desktop/Bloc01_BigData-WebScraping_Kayak/OlgaPuntous%20/Kayak_project_v.ipynb#ch0000019?line=1'>2</a>\u001b[0m                         hover_data \u001b[39m=\u001b[39;49m [\u001b[39m'\u001b[39;49m\u001b[39mmain_weather\u001b[39;49m\u001b[39m'\u001b[39;49m, \u001b[39m'\u001b[39;49m\u001b[39mexpected_rain\u001b[39;49m\u001b[39m'\u001b[39;49m, \u001b[39m'\u001b[39;49m\u001b[39mday_temperature\u001b[39;49m\u001b[39m'\u001b[39;49m], \n\u001b[1;32m      <a href='vscode-notebook-cell:/Users/alexlasnier/Desktop/Bloc01_BigData-WebScraping_Kayak/OlgaPuntous%20/Kayak_project_v.ipynb#ch0000019?line=2'>3</a>\u001b[0m                         color \u001b[39m=\u001b[39;49m \u001b[39m'\u001b[39;49m\u001b[39mday_temperature\u001b[39;49m\u001b[39m'\u001b[39;49m, color_continuous_scale \u001b[39m=\u001b[39;49m \u001b[39m'\u001b[39;49m\u001b[39mBluered\u001b[39;49m\u001b[39m'\u001b[39;49m, size \u001b[39m=\u001b[39;49m \u001b[39m'\u001b[39;49m\u001b[39minverted_rank\u001b[39;49m\u001b[39m'\u001b[39;49m,\n\u001b[1;32m      <a href='vscode-notebook-cell:/Users/alexlasnier/Desktop/Bloc01_BigData-WebScraping_Kayak/OlgaPuntous%20/Kayak_project_v.ipynb#ch0000019?line=3'>4</a>\u001b[0m                         mapbox_style\u001b[39m=\u001b[39;49m\u001b[39m\"\u001b[39;49m\u001b[39mcarto-positron\u001b[39;49m\u001b[39m\"\u001b[39;49m)\n\u001b[1;32m      <a href='vscode-notebook-cell:/Users/alexlasnier/Desktop/Bloc01_BigData-WebScraping_Kayak/OlgaPuntous%20/Kayak_project_v.ipynb#ch0000019?line=4'>5</a>\u001b[0m fig\u001b[39m.\u001b[39mshow()\n",
      "File \u001b[0;32m~/opt/anaconda3/lib/python3.9/site-packages/plotly/express/_chart_types.py:1233\u001b[0m, in \u001b[0;36mscatter_mapbox\u001b[0;34m(data_frame, lat, lon, color, text, hover_name, hover_data, custom_data, size, animation_frame, animation_group, category_orders, labels, color_discrete_sequence, color_discrete_map, color_continuous_scale, range_color, color_continuous_midpoint, opacity, size_max, zoom, center, mapbox_style, title, template, width, height)\u001b[0m\n\u001b[1;32m   1200\u001b[0m \u001b[39mdef\u001b[39;00m \u001b[39mscatter_mapbox\u001b[39m(\n\u001b[1;32m   1201\u001b[0m     data_frame\u001b[39m=\u001b[39m\u001b[39mNone\u001b[39;00m,\n\u001b[1;32m   1202\u001b[0m     lat\u001b[39m=\u001b[39m\u001b[39mNone\u001b[39;00m,\n\u001b[0;32m   (...)\u001b[0m\n\u001b[1;32m   1227\u001b[0m     height\u001b[39m=\u001b[39m\u001b[39mNone\u001b[39;00m,\n\u001b[1;32m   1228\u001b[0m ):\n\u001b[1;32m   1229\u001b[0m     \u001b[39m\"\"\"\u001b[39;00m\n\u001b[1;32m   1230\u001b[0m \u001b[39m    In a Mapbox scatter plot, each row of `data_frame` is represented by a\u001b[39;00m\n\u001b[1;32m   1231\u001b[0m \u001b[39m    symbol mark on a Mapbox map.\u001b[39;00m\n\u001b[1;32m   1232\u001b[0m \u001b[39m    \"\"\"\u001b[39;00m\n\u001b[0;32m-> 1233\u001b[0m     \u001b[39mreturn\u001b[39;00m make_figure(args\u001b[39m=\u001b[39;49m\u001b[39mlocals\u001b[39;49m(), constructor\u001b[39m=\u001b[39;49mgo\u001b[39m.\u001b[39;49mScattermapbox)\n",
      "File \u001b[0;32m~/opt/anaconda3/lib/python3.9/site-packages/plotly/express/_core.py:1945\u001b[0m, in \u001b[0;36mmake_figure\u001b[0;34m(args, constructor, trace_patch, layout_patch)\u001b[0m\n\u001b[1;32m   1942\u001b[0m layout_patch \u001b[39m=\u001b[39m layout_patch \u001b[39mor\u001b[39;00m {}\n\u001b[1;32m   1943\u001b[0m apply_default_cascade(args)\n\u001b[0;32m-> 1945\u001b[0m args \u001b[39m=\u001b[39m build_dataframe(args, constructor)\n\u001b[1;32m   1946\u001b[0m \u001b[39mif\u001b[39;00m constructor \u001b[39min\u001b[39;00m [go\u001b[39m.\u001b[39mTreemap, go\u001b[39m.\u001b[39mSunburst, go\u001b[39m.\u001b[39mIcicle] \u001b[39mand\u001b[39;00m args[\u001b[39m\"\u001b[39m\u001b[39mpath\u001b[39m\u001b[39m\"\u001b[39m] \u001b[39mis\u001b[39;00m \u001b[39mnot\u001b[39;00m \u001b[39mNone\u001b[39;00m:\n\u001b[1;32m   1947\u001b[0m     args \u001b[39m=\u001b[39m process_dataframe_hierarchy(args)\n",
      "File \u001b[0;32m~/opt/anaconda3/lib/python3.9/site-packages/plotly/express/_core.py:1405\u001b[0m, in \u001b[0;36mbuild_dataframe\u001b[0;34m(args, constructor)\u001b[0m\n\u001b[1;32m   1402\u001b[0m     args[\u001b[39m\"\u001b[39m\u001b[39mcolor\u001b[39m\u001b[39m\"\u001b[39m] \u001b[39m=\u001b[39m \u001b[39mNone\u001b[39;00m\n\u001b[1;32m   1403\u001b[0m \u001b[39m# now that things have been prepped, we do the systematic rewriting of `args`\u001b[39;00m\n\u001b[0;32m-> 1405\u001b[0m df_output, wide_id_vars \u001b[39m=\u001b[39m process_args_into_dataframe(\n\u001b[1;32m   1406\u001b[0m     args, wide_mode, var_name, value_name\n\u001b[1;32m   1407\u001b[0m )\n\u001b[1;32m   1409\u001b[0m \u001b[39m# now that `df_output` exists and `args` contains only references, we complete\u001b[39;00m\n\u001b[1;32m   1410\u001b[0m \u001b[39m# the special-case and wide-mode handling by further rewriting args and/or mutating\u001b[39;00m\n\u001b[1;32m   1411\u001b[0m \u001b[39m# df_output\u001b[39;00m\n\u001b[1;32m   1413\u001b[0m count_name \u001b[39m=\u001b[39m _escape_col_name(df_output, \u001b[39m\"\u001b[39m\u001b[39mcount\u001b[39m\u001b[39m\"\u001b[39m, [var_name, value_name])\n",
      "File \u001b[0;32m~/opt/anaconda3/lib/python3.9/site-packages/plotly/express/_core.py:1207\u001b[0m, in \u001b[0;36mprocess_args_into_dataframe\u001b[0;34m(args, wide_mode, var_name, value_name)\u001b[0m\n\u001b[1;32m   1205\u001b[0m         \u001b[39mif\u001b[39;00m argument \u001b[39m==\u001b[39m \u001b[39m\"\u001b[39m\u001b[39mindex\u001b[39m\u001b[39m\"\u001b[39m:\n\u001b[1;32m   1206\u001b[0m             err_msg \u001b[39m+\u001b[39m\u001b[39m=\u001b[39m \u001b[39m\"\u001b[39m\u001b[39m\\n\u001b[39;00m\u001b[39m To use the index, pass it in directly as `df.index`.\u001b[39m\u001b[39m\"\u001b[39m\n\u001b[0;32m-> 1207\u001b[0m         \u001b[39mraise\u001b[39;00m \u001b[39mValueError\u001b[39;00m(err_msg)\n\u001b[1;32m   1208\u001b[0m \u001b[39melif\u001b[39;00m length \u001b[39mand\u001b[39;00m \u001b[39mlen\u001b[39m(df_input[argument]) \u001b[39m!=\u001b[39m length:\n\u001b[1;32m   1209\u001b[0m     \u001b[39mraise\u001b[39;00m \u001b[39mValueError\u001b[39;00m(\n\u001b[1;32m   1210\u001b[0m         \u001b[39m\"\u001b[39m\u001b[39mAll arguments should have the same length. \u001b[39m\u001b[39m\"\u001b[39m\n\u001b[1;32m   1211\u001b[0m         \u001b[39m\"\u001b[39m\u001b[39mThe length of column argument `df[\u001b[39m\u001b[39m%s\u001b[39;00m\u001b[39m]` is \u001b[39m\u001b[39m%d\u001b[39;00m\u001b[39m, whereas the \u001b[39m\u001b[39m\"\u001b[39m\n\u001b[0;32m   (...)\u001b[0m\n\u001b[1;32m   1218\u001b[0m         )\n\u001b[1;32m   1219\u001b[0m     )\n",
      "\u001b[0;31mValueError\u001b[0m: Value of 'size' is not the name of a column in 'data_frame'. Expected one of ['city_id', 'name', 'latitude', 'longitude', 'main_weather', 'expected_rain', 'day_temperature'] but received: inverted_rank"
     ]
    }
   ],
   "source": [
    "fig = px.scatter_mapbox(df, lat=\"latitude\", lon=\"longitude\", hover_name = 'name', zoom = 4,\n",
    "                        hover_data = ['main_weather', 'expected_rain', 'day_temperature'], \n",
    "                        color = 'day_temperature', color_continuous_scale = 'Bluered', size = 'inverted_rank',\n",
    "                        mapbox_style=\"carto-positron\")\n",
    "fig.show()"
   ]
  },
  {
   "cell_type": "code",
   "execution_count": 12,
   "metadata": {},
   "outputs": [],
   "source": [
    "df.to_csv('destinations.csv', index=False)"
   ]
  },
  {
   "cell_type": "markdown",
   "metadata": {},
   "source": [
    "# Scrapping Booking.com for hotel information"
   ]
  },
  {
   "cell_type": "markdown",
   "metadata": {},
   "source": [
    "### La Rochelle"
   ]
  },
  {
   "cell_type": "code",
   "execution_count": 9,
   "metadata": {},
   "outputs": [],
   "source": [
    "city = 'La Rochelle'"
   ]
  },
  {
   "cell_type": "code",
   "execution_count": 10,
   "metadata": {},
   "outputs": [
    {
     "data": {
      "text/plain": [
       "<Response [200]>"
      ]
     },
     "execution_count": 10,
     "metadata": {},
     "output_type": "execute_result"
    }
   ],
   "source": [
    "r = requests.get('https://www.booking.com/index.fr.html')\n",
    "r"
   ]
  },
  {
   "cell_type": "code",
   "execution_count": 15,
   "metadata": {},
   "outputs": [],
   "source": [
    "class BookingSpider(scrapy.Spider):\n",
    "    name = \"booking\"\n",
    "\n",
    "    start_urls = ['https://www.booking.com/index.fr.html']\n",
    "\n",
    "    def parse(self, response):\n",
    "        return scrapy.FormRequest.from_response(\n",
    "            response,\n",
    "            formdata={'ss': city},\n",
    "            callback=self.after_search\n",
    "        )\n",
    "\n",
    "    def after_search(self, response):\n",
    "        \n",
    "        booking = response.css('.sr_item')\n",
    "\n",
    "        for data in booking:\n",
    "            yield {\n",
    "                'name': data.css('.sr-hotel__name::text').get(),\n",
    "                'url': 'https://www.booking.com' + data.css('.hotel_name_link').attrib[\"href\"],\n",
    "                'coords': data.css('.sr_card_address_line a').attrib[\"data-coords\"],\n",
    "                'score': data.css('.bui-review-score__badge::text').get(),\n",
    "                'description': data.css('.hotel_desc::text').get()\n",
    "                \n",
    "            }\n",
    "        \n",
    "        \n",
    "        try:\n",
    "            next_page = response.css('a.paging-next').attrib[\"href\"]\n",
    "        except KeyError:\n",
    "            logging.info('No next page. Terminating crawling process.')\n",
    "        else:\n",
    "            yield response.follow(next_page, callback=self.after_search)"
   ]
  },
  {
   "cell_type": "code",
   "execution_count": 16,
   "metadata": {
    "scrolled": true
   },
   "outputs": [
    {
     "name": "stderr",
     "output_type": "stream",
     "text": [
      "2022-06-22 12:25:54 [scrapy.utils.log] INFO: Scrapy 2.6.1 started (bot: scrapybot)\n",
      "2022-06-22 12:25:54 [scrapy.utils.log] INFO: Versions: lxml 4.8.0.0, libxml2 2.9.12, cssselect 1.1.0, parsel 1.6.0, w3lib 1.21.0, Twisted 22.2.0, Python 3.9.12 (main, Apr  5 2022, 01:53:17) - [Clang 12.0.0 ], pyOpenSSL 21.0.0 (OpenSSL 1.1.1o  3 May 2022), cryptography 3.4.8, Platform macOS-10.16-x86_64-i386-64bit\n",
      "2022-06-22 12:25:54 [scrapy.crawler] INFO: Overridden settings:\n",
      "{'LOG_LEVEL': 20,\n",
      " 'USER_AGENT': 'Chrome/84.0 (compatible; MSIE 7.0; Windows NT 5.1)'}\n",
      "2022-06-22 12:25:55 [scrapy.extensions.telnet] INFO: Telnet Password: 28d207a7c3a1e4e2\n",
      "2022-06-22 12:25:55 [scrapy.middleware] INFO: Enabled extensions:\n",
      "['scrapy.extensions.corestats.CoreStats',\n",
      " 'scrapy.extensions.telnet.TelnetConsole',\n",
      " 'scrapy.extensions.memusage.MemoryUsage',\n",
      " 'scrapy.extensions.feedexport.FeedExporter',\n",
      " 'scrapy.extensions.logstats.LogStats']\n",
      "2022-06-22 12:25:55 [scrapy.middleware] INFO: Enabled downloader middlewares:\n",
      "['scrapy.downloadermiddlewares.httpauth.HttpAuthMiddleware',\n",
      " 'scrapy.downloadermiddlewares.downloadtimeout.DownloadTimeoutMiddleware',\n",
      " 'scrapy.downloadermiddlewares.defaultheaders.DefaultHeadersMiddleware',\n",
      " 'scrapy.downloadermiddlewares.useragent.UserAgentMiddleware',\n",
      " 'scrapy.downloadermiddlewares.retry.RetryMiddleware',\n",
      " 'scrapy.downloadermiddlewares.redirect.MetaRefreshMiddleware',\n",
      " 'scrapy.downloadermiddlewares.httpcompression.HttpCompressionMiddleware',\n",
      " 'scrapy.downloadermiddlewares.redirect.RedirectMiddleware',\n",
      " 'scrapy.downloadermiddlewares.cookies.CookiesMiddleware',\n",
      " 'scrapy.downloadermiddlewares.httpproxy.HttpProxyMiddleware',\n",
      " 'scrapy.downloadermiddlewares.stats.DownloaderStats']\n",
      "2022-06-22 12:25:55 [scrapy.middleware] INFO: Enabled spider middlewares:\n",
      "['scrapy.spidermiddlewares.httperror.HttpErrorMiddleware',\n",
      " 'scrapy.spidermiddlewares.offsite.OffsiteMiddleware',\n",
      " 'scrapy.spidermiddlewares.referer.RefererMiddleware',\n",
      " 'scrapy.spidermiddlewares.urllength.UrlLengthMiddleware',\n",
      " 'scrapy.spidermiddlewares.depth.DepthMiddleware']\n",
      "2022-06-22 12:25:55 [scrapy.middleware] INFO: Enabled item pipelines:\n",
      "[]\n",
      "2022-06-22 12:25:55 [scrapy.core.engine] INFO: Spider opened\n",
      "2022-06-22 12:25:55 [scrapy.extensions.logstats] INFO: Crawled 0 pages (at 0 pages/min), scraped 0 items (at 0 items/min)\n",
      "2022-06-22 12:25:55 [scrapy.extensions.telnet] INFO: Telnet console listening on 127.0.0.1:6023\n",
      "2022-06-22 12:25:58 [root] INFO: No next page. Terminating crawling process.\n",
      "2022-06-22 12:25:58 [scrapy.core.engine] INFO: Closing spider (finished)\n",
      "2022-06-22 12:25:58 [scrapy.statscollectors] INFO: Dumping Scrapy stats:\n",
      "{'downloader/request_bytes': 1639,\n",
      " 'downloader/request_count': 2,\n",
      " 'downloader/request_method_count/GET': 2,\n",
      " 'downloader/response_bytes': 294499,\n",
      " 'downloader/response_count': 2,\n",
      " 'downloader/response_status_count/200': 2,\n",
      " 'elapsed_time_seconds': 2.831642,\n",
      " 'finish_reason': 'finished',\n",
      " 'finish_time': datetime.datetime(2022, 6, 22, 10, 25, 58, 137060),\n",
      " 'httpcompression/response_bytes': 1696366,\n",
      " 'httpcompression/response_count': 2,\n",
      " 'log_count/INFO': 11,\n",
      " 'memusage/max': 267526144,\n",
      " 'memusage/startup': 267526144,\n",
      " 'request_depth_max': 1,\n",
      " 'response_received_count': 2,\n",
      " 'scheduler/dequeued': 2,\n",
      " 'scheduler/dequeued/memory': 2,\n",
      " 'scheduler/enqueued': 2,\n",
      " 'scheduler/enqueued/memory': 2,\n",
      " 'start_time': datetime.datetime(2022, 6, 22, 10, 25, 55, 305418)}\n",
      "2022-06-22 12:25:58 [scrapy.core.engine] INFO: Spider closed (finished)\n"
     ]
    }
   ],
   "source": [
    "filename = \"hotels_\" + city.replace(\" \", \"-\") + \".json\"\n",
    "\n",
    "\n",
    "process = CrawlerProcess(settings = {\n",
    "    'USER_AGENT': 'Chrome/84.0 (compatible; MSIE 7.0; Windows NT 5.1)',\n",
    "    'LOG_LEVEL': logging.INFO,\n",
    "    \"FEEDS\": {\n",
    "        'res/' + filename: {\"format\": \"json\"},\n",
    "    }\n",
    "})\n",
    "\n",
    "process.crawl(BookingSpider)\n",
    "process.start()"
   ]
  },
  {
   "cell_type": "markdown",
   "metadata": {},
   "source": [
    "### Paris"
   ]
  },
  {
   "cell_type": "code",
   "execution_count": 17,
   "metadata": {},
   "outputs": [],
   "source": [
    "city = 'Paris'"
   ]
  },
  {
   "cell_type": "code",
   "execution_count": 18,
   "metadata": {},
   "outputs": [
    {
     "data": {
      "text/plain": [
       "<Response [200]>"
      ]
     },
     "execution_count": 18,
     "metadata": {},
     "output_type": "execute_result"
    }
   ],
   "source": [
    "r = requests.get('https://www.booking.com/index.fr.html')\n",
    "r"
   ]
  },
  {
   "cell_type": "code",
   "execution_count": 11,
   "metadata": {},
   "outputs": [],
   "source": [
    "class BookingSpider(scrapy.Spider):\n",
    "    name = \"booking\"\n",
    "\n",
    "    start_urls = ['https://www.booking.com/index.fr.html']\n",
    "\n",
    "    def parse(self, response):\n",
    "        return scrapy.FormRequest.from_response(\n",
    "            response,\n",
    "            formdata={'ss': city},\n",
    "            callback=self.after_search\n",
    "        )\n",
    "\n",
    "    def after_search(self, response):\n",
    "        \n",
    "        booking = response.css('.sr_item')\n",
    "\n",
    "        for b in booking:\n",
    "            yield {\n",
    "                'name': b.css('.sr-hotel__name::text').get(),\n",
    "                'url': 'https://www.booking.com' + b.css('.hotel_name_link').attrib[\"href\"],\n",
    "                'coords': b.css('.sr_card_address_line a').attrib[\"data-coords\"],\n",
    "                'score': b.css('.bui-review-score__badge::text').get(),\n",
    "                'description': b.css('.hotel_desc::text').get()\n",
    "                \n",
    "            }\n",
    "        \n",
    "        \n",
    "        try:\n",
    "            next_page = response.css('a.paging-next').attrib[\"href\"]\n",
    "        except KeyError:\n",
    "            logging.info('No next page. Terminating crawling process.')\n",
    "        else:\n",
    "            yield response.follow(next_page, callback=self.after_search)"
   ]
  },
  {
   "cell_type": "code",
   "execution_count": 12,
   "metadata": {},
   "outputs": [
    {
     "name": "stderr",
     "output_type": "stream",
     "text": [
      "2022-06-22 12:28:43 [scrapy.utils.log] INFO: Scrapy 2.6.1 started (bot: scrapybot)\n",
      "2022-06-22 12:28:43 [scrapy.utils.log] INFO: Versions: lxml 4.8.0.0, libxml2 2.9.12, cssselect 1.1.0, parsel 1.6.0, w3lib 1.21.0, Twisted 22.2.0, Python 3.9.12 (main, Apr  5 2022, 01:53:17) - [Clang 12.0.0 ], pyOpenSSL 21.0.0 (OpenSSL 1.1.1o  3 May 2022), cryptography 3.4.8, Platform macOS-10.16-x86_64-i386-64bit\n",
      "2022-06-22 12:28:43 [scrapy.crawler] INFO: Overridden settings:\n",
      "{'LOG_LEVEL': 20,\n",
      " 'USER_AGENT': 'Chrome/84.0 (compatible; MSIE 7.0; Windows NT 5.1)'}\n",
      "2022-06-22 12:28:43 [scrapy.extensions.telnet] INFO: Telnet Password: a4905e95063e016a\n",
      "2022-06-22 12:28:43 [scrapy.middleware] INFO: Enabled extensions:\n",
      "['scrapy.extensions.corestats.CoreStats',\n",
      " 'scrapy.extensions.telnet.TelnetConsole',\n",
      " 'scrapy.extensions.memusage.MemoryUsage',\n",
      " 'scrapy.extensions.feedexport.FeedExporter',\n",
      " 'scrapy.extensions.logstats.LogStats']\n",
      "2022-06-22 12:28:44 [scrapy.middleware] INFO: Enabled downloader middlewares:\n",
      "['scrapy.downloadermiddlewares.httpauth.HttpAuthMiddleware',\n",
      " 'scrapy.downloadermiddlewares.downloadtimeout.DownloadTimeoutMiddleware',\n",
      " 'scrapy.downloadermiddlewares.defaultheaders.DefaultHeadersMiddleware',\n",
      " 'scrapy.downloadermiddlewares.useragent.UserAgentMiddleware',\n",
      " 'scrapy.downloadermiddlewares.retry.RetryMiddleware',\n",
      " 'scrapy.downloadermiddlewares.redirect.MetaRefreshMiddleware',\n",
      " 'scrapy.downloadermiddlewares.httpcompression.HttpCompressionMiddleware',\n",
      " 'scrapy.downloadermiddlewares.redirect.RedirectMiddleware',\n",
      " 'scrapy.downloadermiddlewares.cookies.CookiesMiddleware',\n",
      " 'scrapy.downloadermiddlewares.httpproxy.HttpProxyMiddleware',\n",
      " 'scrapy.downloadermiddlewares.stats.DownloaderStats']\n",
      "2022-06-22 12:28:44 [scrapy.middleware] INFO: Enabled spider middlewares:\n",
      "['scrapy.spidermiddlewares.httperror.HttpErrorMiddleware',\n",
      " 'scrapy.spidermiddlewares.offsite.OffsiteMiddleware',\n",
      " 'scrapy.spidermiddlewares.referer.RefererMiddleware',\n",
      " 'scrapy.spidermiddlewares.urllength.UrlLengthMiddleware',\n",
      " 'scrapy.spidermiddlewares.depth.DepthMiddleware']\n",
      "2022-06-22 12:28:44 [scrapy.middleware] INFO: Enabled item pipelines:\n",
      "[]\n",
      "2022-06-22 12:28:44 [scrapy.core.engine] INFO: Spider opened\n",
      "2022-06-22 12:28:44 [scrapy.extensions.logstats] INFO: Crawled 0 pages (at 0 pages/min), scraped 0 items (at 0 items/min)\n",
      "2022-06-22 12:28:44 [scrapy.extensions.telnet] INFO: Telnet console listening on 127.0.0.1:6023\n",
      "2022-06-22 12:28:47 [root] INFO: No next page. Terminating crawling process.\n",
      "2022-06-22 12:28:47 [scrapy.core.engine] INFO: Closing spider (finished)\n",
      "2022-06-22 12:28:47 [scrapy.statscollectors] INFO: Dumping Scrapy stats:\n",
      "{'downloader/request_bytes': 1647,\n",
      " 'downloader/request_count': 2,\n",
      " 'downloader/request_method_count/GET': 2,\n",
      " 'downloader/response_bytes': 294052,\n",
      " 'downloader/response_count': 2,\n",
      " 'downloader/response_status_count/200': 2,\n",
      " 'elapsed_time_seconds': 3.140977,\n",
      " 'finish_reason': 'finished',\n",
      " 'finish_time': datetime.datetime(2022, 6, 22, 10, 28, 47, 358355),\n",
      " 'httpcompression/response_bytes': 1698406,\n",
      " 'httpcompression/response_count': 2,\n",
      " 'log_count/INFO': 11,\n",
      " 'memusage/max': 279859200,\n",
      " 'memusage/startup': 279859200,\n",
      " 'request_depth_max': 1,\n",
      " 'response_received_count': 2,\n",
      " 'scheduler/dequeued': 2,\n",
      " 'scheduler/dequeued/memory': 2,\n",
      " 'scheduler/enqueued': 2,\n",
      " 'scheduler/enqueued/memory': 2,\n",
      " 'start_time': datetime.datetime(2022, 6, 22, 10, 28, 44, 217378)}\n",
      "2022-06-22 12:28:47 [scrapy.core.engine] INFO: Spider closed (finished)\n"
     ]
    }
   ],
   "source": [
    "filename = \"hotels_\" + city.replace(\" \", \"-\") + \".json\"\n",
    "\n",
    "\n",
    "process = CrawlerProcess(settings = {\n",
    "    'USER_AGENT': 'Chrome/84.0 (compatible; MSIE 7.0; Windows NT 5.1)',\n",
    "    'LOG_LEVEL': logging.INFO,\n",
    "    \"FEEDS\": {\n",
    "        'res/' + filename: {\"format\": \"json\"},\n",
    "    }\n",
    "})\n",
    "\n",
    "process.crawl(BookingSpider)\n",
    "process.start()"
   ]
  },
  {
   "cell_type": "markdown",
   "metadata": {},
   "source": [
    "# Data lake with S3"
   ]
  },
  {
   "cell_type": "code",
   "execution_count": null,
   "metadata": {},
   "outputs": [],
   "source": [
    "cities = pd.read_csv('destinations.csv')\n",
    "cities.head()"
   ]
  },
  {
   "cell_type": "code",
   "execution_count": null,
   "metadata": {},
   "outputs": [],
   "source": [
    "hotel_files = glob.glob('res/_hotels_*.json')\n",
    "\n",
    "hotels = pd.DataFrame(columns = ['city_id', 'city_name', 'hotel_id', 'name', 'url', 'latitude', 'longitude', 'score', 'description'])\n",
    "hotels\n"
   ]
  },
  {
   "cell_type": "code",
   "execution_count": null,
   "metadata": {
    "scrolled": true
   },
   "outputs": [],
   "source": [
    "for f in hotel_files:\n",
    "    city_name = f.split('_')[2].split('.')[0].replace(\"-\",\" \")"
   ]
  },
  {
   "cell_type": "code",
   "execution_count": null,
   "metadata": {},
   "outputs": [],
   "source": [
    "for f in hotel_files:\n",
    "    city_id = cities.loc[cities['name'] == city_name,'city_id'].values[0]"
   ]
  },
  {
   "cell_type": "code",
   "execution_count": null,
   "metadata": {},
   "outputs": [],
   "source": [
    "hotel_files"
   ]
  },
  {
   "cell_type": "code",
   "execution_count": null,
   "metadata": {},
   "outputs": [],
   "source": [
    "f1 = pd.read_json('res/hotels_Paris.json')\n",
    "hotels=pd.DataFrame(f1)\n",
    "hotels['name']=(hotels['name']).astype(str).replace('\\n','',regex=True)\n",
    "hotels['description']=(hotels['description']).astype(str).replace('\\n','',regex=True)\n",
    "hotels.head()"
   ]
  },
  {
   "cell_type": "code",
   "execution_count": null,
   "metadata": {},
   "outputs": [],
   "source": []
  },
  {
   "cell_type": "code",
   "execution_count": 21,
   "metadata": {},
   "outputs": [
    {
     "ename": "NameError",
     "evalue": "name 'hotels' is not defined",
     "output_type": "error",
     "traceback": [
      "\u001b[0;31m---------------------------------------------------------------------------\u001b[0m",
      "\u001b[0;31mNameError\u001b[0m                                 Traceback (most recent call last)",
      "\u001b[1;32m/Users/alexlasnier/Desktop/Bloc01_BigData-WebScraping_Kayak/OlgaPuntous /Kayak_project_v.ipynb Cell 36'\u001b[0m in \u001b[0;36m<cell line: 1>\u001b[0;34m()\u001b[0m\n\u001b[0;32m----> <a href='vscode-notebook-cell:/Users/alexlasnier/Desktop/Bloc01_BigData-WebScraping_Kayak/OlgaPuntous%20/Kayak_project_v.ipynb#ch0000040?line=0'>1</a>\u001b[0m split_data \u001b[39m=\u001b[39m hotels[\u001b[39m'\u001b[39m\u001b[39mcoords\u001b[39m\u001b[39m'\u001b[39m]\u001b[39m.\u001b[39mstr\u001b[39m.\u001b[39msplit(\u001b[39m'\u001b[39m\u001b[39m,\u001b[39m\u001b[39m'\u001b[39m)\n\u001b[1;32m      <a href='vscode-notebook-cell:/Users/alexlasnier/Desktop/Bloc01_BigData-WebScraping_Kayak/OlgaPuntous%20/Kayak_project_v.ipynb#ch0000040?line=1'>2</a>\u001b[0m hotels\u001b[39m.\u001b[39mloc[:,\u001b[39m'\u001b[39m\u001b[39mlatitude\u001b[39m\u001b[39m'\u001b[39m] \u001b[39m=\u001b[39m split_data\u001b[39m.\u001b[39mapply(\u001b[39mlambda\u001b[39;00m x: x[\u001b[39m1\u001b[39m])\n\u001b[1;32m      <a href='vscode-notebook-cell:/Users/alexlasnier/Desktop/Bloc01_BigData-WebScraping_Kayak/OlgaPuntous%20/Kayak_project_v.ipynb#ch0000040?line=2'>3</a>\u001b[0m hotels\u001b[39m.\u001b[39mloc[:,\u001b[39m'\u001b[39m\u001b[39mlongitude\u001b[39m\u001b[39m'\u001b[39m] \u001b[39m=\u001b[39m split_data\u001b[39m.\u001b[39mapply(\u001b[39mlambda\u001b[39;00m x: x[\u001b[39m0\u001b[39m])\n",
      "\u001b[0;31mNameError\u001b[0m: name 'hotels' is not defined"
     ]
    }
   ],
   "source": [
    "split_data = hotels['coords'].str.split(',')\n",
    "hotels.loc[:,'latitude'] = split_data.apply(lambda x: x[1])\n",
    "hotels.loc[:,'longitude'] = split_data.apply(lambda x: x[0])\n",
    "split_data\n",
    "\n",
    "\n"
   ]
  },
  {
   "cell_type": "code",
   "execution_count": null,
   "metadata": {},
   "outputs": [],
   "source": [
    "#hotels_all = hotels_all.append(hotels)"
   ]
  },
  {
   "cell_type": "code",
   "execution_count": null,
   "metadata": {},
   "outputs": [],
   "source": [
    "del hotels['coords']\n",
    "hotels.head()"
   ]
  },
  {
   "cell_type": "code",
   "execution_count": null,
   "metadata": {},
   "outputs": [],
   "source": [
    "hotels.loc[:, 'city_name']='Paris'\n",
    "hotels.loc[:, 'city_id'] = cities.loc[cities['name'] == city_name,'city_id'].values[0]\n",
    "hotels.loc[:, 'latitude'] = hotels['latitude'].astype('float')\n",
    "hotels.loc[:, 'longitude'] = hotels['longitude'].astype('float')\n",
    "hotels.loc[:, 'score'] = hotels['score'].str.replace(',','.').astype('float')"
   ]
  },
  {
   "cell_type": "code",
   "execution_count": null,
   "metadata": {},
   "outputs": [],
   "source": [
    "hotels.head()"
   ]
  },
  {
   "cell_type": "code",
   "execution_count": null,
   "metadata": {},
   "outputs": [],
   "source": [
    "hotels.to_csv('res/0_hotels.csv', index=False)"
   ]
  },
  {
   "cell_type": "code",
   "execution_count": null,
   "metadata": {},
   "outputs": [],
   "source": [
    "\n",
    "hotels_with_score = hotels.loc[hotels['score']>9.5,:]\n",
    "\n",
    "fig = px.scatter_mapbox(hotels_with_score, lat=\"latitude\", lon=\"longitude\", hover_name = 'name', zoom = 4,\n",
    "                        hover_data = ['description'],\n",
    "                        color = 'score', color_continuous_scale = 'thermal',\n",
    "                        mapbox_style=\"carto-positron\")\n",
    "fig.show()"
   ]
  },
  {
   "cell_type": "code",
   "execution_count": null,
   "metadata": {},
   "outputs": [],
   "source": []
  }
 ],
 "metadata": {
  "kernelspec": {
   "display_name": "Python 3.9.12 ('base')",
   "language": "python",
   "name": "python3"
  },
  "language_info": {
   "codemirror_mode": {
    "name": "ipython",
    "version": 3
   },
   "file_extension": ".py",
   "mimetype": "text/x-python",
   "name": "python",
   "nbconvert_exporter": "python",
   "pygments_lexer": "ipython3",
   "version": "3.9.12"
  },
  "vscode": {
   "interpreter": {
    "hash": "5e23285782446c6864c996c28c3fd325702bb6068d9fb9865cc2d1c7e1d13946"
   }
  }
 },
 "nbformat": 4,
 "nbformat_minor": 4
}
