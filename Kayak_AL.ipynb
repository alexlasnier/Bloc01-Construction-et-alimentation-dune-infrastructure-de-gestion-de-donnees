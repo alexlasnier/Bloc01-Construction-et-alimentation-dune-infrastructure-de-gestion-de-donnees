{
 "cells": [
  {
   "cell_type": "markdown",
   "metadata": {},
   "source": [
    "# Kayak Project: Welcome!"
   ]
  },
  {
   "cell_type": "markdown",
   "metadata": {},
   "source": [
    "## Import list of cities and create the dataframe associated"
   ]
  },
  {
   "cell_type": "code",
   "execution_count": 1,
   "metadata": {},
   "outputs": [],
   "source": [
    "# Create the city list\n",
    "\n",
    "cities = [\n",
    "    \"Mont Saint Michel\",\n",
    "    \"St Malo\",\n",
    "    \"Bayeux\",\n",
    "    \"Le Havre\",\n",
    "    \"Rouen\",\n",
    "    \"Paris\",\n",
    "    \"Amiens\",\n",
    "    \"Lille\",\n",
    "    \"Strasbourg\",\n",
    "    \"Chateau du Haut Koenigsbourg\",\n",
    "    \"Colmar\",\n",
    "    \"Eguisheim\",\n",
    "    \"Besancon\",\n",
    "    \"Dijon\",\n",
    "    \"Annecy\",\n",
    "    \"Grenoble\",\n",
    "    \"Lyon\",\n",
    "    \"Gorges du Verdon\",\n",
    "    \"Bormes les Mimosas\",\n",
    "    \"Cassis\",\n",
    "    \"Marseille\",\n",
    "    \"Aix en Provence\",\n",
    "    \"Avignon\",\n",
    "    \"Uzes\",\n",
    "    \"Nimes\",\n",
    "    \"Aigues Mortes\",\n",
    "    \"Saintes Maries de la mer\",\n",
    "    \"Collioure\",\n",
    "    \"Carcassonne\",\n",
    "    \"Ariege\",\n",
    "    \"Toulouse\",\n",
    "    \"Montauban\",\n",
    "    \"Biarritz\",\n",
    "    \"Bayonne\",\n",
    "    \"La Rochelle\",\n",
    "]\n"
   ]
  },
  {
   "cell_type": "code",
   "execution_count": 2,
   "metadata": {},
   "outputs": [
    {
     "data": {
      "text/html": [
       "<div>\n",
       "<style scoped>\n",
       "    .dataframe tbody tr th:only-of-type {\n",
       "        vertical-align: middle;\n",
       "    }\n",
       "\n",
       "    .dataframe tbody tr th {\n",
       "        vertical-align: top;\n",
       "    }\n",
       "\n",
       "    .dataframe thead th {\n",
       "        text-align: right;\n",
       "    }\n",
       "</style>\n",
       "<table border=\"1\" class=\"dataframe\">\n",
       "  <thead>\n",
       "    <tr style=\"text-align: right;\">\n",
       "      <th></th>\n",
       "      <th>id</th>\n",
       "      <th>city</th>\n",
       "    </tr>\n",
       "  </thead>\n",
       "  <tbody>\n",
       "    <tr>\n",
       "      <th>0</th>\n",
       "      <td>0</td>\n",
       "      <td>Mont Saint Michel</td>\n",
       "    </tr>\n",
       "    <tr>\n",
       "      <th>1</th>\n",
       "      <td>1</td>\n",
       "      <td>St Malo</td>\n",
       "    </tr>\n",
       "    <tr>\n",
       "      <th>2</th>\n",
       "      <td>2</td>\n",
       "      <td>Bayeux</td>\n",
       "    </tr>\n",
       "    <tr>\n",
       "      <th>3</th>\n",
       "      <td>3</td>\n",
       "      <td>Le Havre</td>\n",
       "    </tr>\n",
       "    <tr>\n",
       "      <th>4</th>\n",
       "      <td>4</td>\n",
       "      <td>Rouen</td>\n",
       "    </tr>\n",
       "    <tr>\n",
       "      <th>5</th>\n",
       "      <td>5</td>\n",
       "      <td>Paris</td>\n",
       "    </tr>\n",
       "    <tr>\n",
       "      <th>6</th>\n",
       "      <td>6</td>\n",
       "      <td>Amiens</td>\n",
       "    </tr>\n",
       "    <tr>\n",
       "      <th>7</th>\n",
       "      <td>7</td>\n",
       "      <td>Lille</td>\n",
       "    </tr>\n",
       "    <tr>\n",
       "      <th>8</th>\n",
       "      <td>8</td>\n",
       "      <td>Strasbourg</td>\n",
       "    </tr>\n",
       "    <tr>\n",
       "      <th>9</th>\n",
       "      <td>9</td>\n",
       "      <td>Chateau du Haut Koenigsbourg</td>\n",
       "    </tr>\n",
       "    <tr>\n",
       "      <th>10</th>\n",
       "      <td>10</td>\n",
       "      <td>Colmar</td>\n",
       "    </tr>\n",
       "    <tr>\n",
       "      <th>11</th>\n",
       "      <td>11</td>\n",
       "      <td>Eguisheim</td>\n",
       "    </tr>\n",
       "    <tr>\n",
       "      <th>12</th>\n",
       "      <td>12</td>\n",
       "      <td>Besancon</td>\n",
       "    </tr>\n",
       "    <tr>\n",
       "      <th>13</th>\n",
       "      <td>13</td>\n",
       "      <td>Dijon</td>\n",
       "    </tr>\n",
       "    <tr>\n",
       "      <th>14</th>\n",
       "      <td>14</td>\n",
       "      <td>Annecy</td>\n",
       "    </tr>\n",
       "    <tr>\n",
       "      <th>15</th>\n",
       "      <td>15</td>\n",
       "      <td>Grenoble</td>\n",
       "    </tr>\n",
       "    <tr>\n",
       "      <th>16</th>\n",
       "      <td>16</td>\n",
       "      <td>Lyon</td>\n",
       "    </tr>\n",
       "    <tr>\n",
       "      <th>17</th>\n",
       "      <td>17</td>\n",
       "      <td>Gorges du Verdon</td>\n",
       "    </tr>\n",
       "    <tr>\n",
       "      <th>18</th>\n",
       "      <td>18</td>\n",
       "      <td>Bormes les Mimosas</td>\n",
       "    </tr>\n",
       "    <tr>\n",
       "      <th>19</th>\n",
       "      <td>19</td>\n",
       "      <td>Cassis</td>\n",
       "    </tr>\n",
       "    <tr>\n",
       "      <th>20</th>\n",
       "      <td>20</td>\n",
       "      <td>Marseille</td>\n",
       "    </tr>\n",
       "    <tr>\n",
       "      <th>21</th>\n",
       "      <td>21</td>\n",
       "      <td>Aix en Provence</td>\n",
       "    </tr>\n",
       "    <tr>\n",
       "      <th>22</th>\n",
       "      <td>22</td>\n",
       "      <td>Avignon</td>\n",
       "    </tr>\n",
       "    <tr>\n",
       "      <th>23</th>\n",
       "      <td>23</td>\n",
       "      <td>Uzes</td>\n",
       "    </tr>\n",
       "    <tr>\n",
       "      <th>24</th>\n",
       "      <td>24</td>\n",
       "      <td>Nimes</td>\n",
       "    </tr>\n",
       "    <tr>\n",
       "      <th>25</th>\n",
       "      <td>25</td>\n",
       "      <td>Aigues Mortes</td>\n",
       "    </tr>\n",
       "    <tr>\n",
       "      <th>26</th>\n",
       "      <td>26</td>\n",
       "      <td>Saintes Maries de la mer</td>\n",
       "    </tr>\n",
       "    <tr>\n",
       "      <th>27</th>\n",
       "      <td>27</td>\n",
       "      <td>Collioure</td>\n",
       "    </tr>\n",
       "    <tr>\n",
       "      <th>28</th>\n",
       "      <td>28</td>\n",
       "      <td>Carcassonne</td>\n",
       "    </tr>\n",
       "    <tr>\n",
       "      <th>29</th>\n",
       "      <td>29</td>\n",
       "      <td>Ariege</td>\n",
       "    </tr>\n",
       "    <tr>\n",
       "      <th>30</th>\n",
       "      <td>30</td>\n",
       "      <td>Toulouse</td>\n",
       "    </tr>\n",
       "    <tr>\n",
       "      <th>31</th>\n",
       "      <td>31</td>\n",
       "      <td>Montauban</td>\n",
       "    </tr>\n",
       "    <tr>\n",
       "      <th>32</th>\n",
       "      <td>32</td>\n",
       "      <td>Biarritz</td>\n",
       "    </tr>\n",
       "    <tr>\n",
       "      <th>33</th>\n",
       "      <td>33</td>\n",
       "      <td>Bayonne</td>\n",
       "    </tr>\n",
       "    <tr>\n",
       "      <th>34</th>\n",
       "      <td>34</td>\n",
       "      <td>La Rochelle</td>\n",
       "    </tr>\n",
       "  </tbody>\n",
       "</table>\n",
       "</div>"
      ],
      "text/plain": [
       "    id                          city\n",
       "0    0             Mont Saint Michel\n",
       "1    1                       St Malo\n",
       "2    2                        Bayeux\n",
       "3    3                      Le Havre\n",
       "4    4                         Rouen\n",
       "5    5                         Paris\n",
       "6    6                        Amiens\n",
       "7    7                         Lille\n",
       "8    8                    Strasbourg\n",
       "9    9  Chateau du Haut Koenigsbourg\n",
       "10  10                        Colmar\n",
       "11  11                     Eguisheim\n",
       "12  12                      Besancon\n",
       "13  13                         Dijon\n",
       "14  14                        Annecy\n",
       "15  15                      Grenoble\n",
       "16  16                          Lyon\n",
       "17  17              Gorges du Verdon\n",
       "18  18            Bormes les Mimosas\n",
       "19  19                        Cassis\n",
       "20  20                     Marseille\n",
       "21  21               Aix en Provence\n",
       "22  22                       Avignon\n",
       "23  23                          Uzes\n",
       "24  24                         Nimes\n",
       "25  25                 Aigues Mortes\n",
       "26  26      Saintes Maries de la mer\n",
       "27  27                     Collioure\n",
       "28  28                   Carcassonne\n",
       "29  29                        Ariege\n",
       "30  30                      Toulouse\n",
       "31  31                     Montauban\n",
       "32  32                      Biarritz\n",
       "33  33                       Bayonne\n",
       "34  34                   La Rochelle"
      ]
     },
     "execution_count": 2,
     "metadata": {},
     "output_type": "execute_result"
    }
   ],
   "source": [
    "import pandas as pd\n",
    "\n",
    "# Creating a dataframe from the list of cities\n",
    "df_cities = pd.DataFrame(data=cities, columns=[\"city\"])\n",
    "df_cities = df_cities.reset_index()\n",
    "df_cities = df_cities.rename(columns={\"index\": \"id\"})\n",
    "df_cities\n"
   ]
  },
  {
   "cell_type": "markdown",
   "metadata": {},
   "source": [
    "## Nominatim API : get coordinates of cities => https://nominatim.org/release-docs/latest/"
   ]
  },
  {
   "cell_type": "markdown",
   "metadata": {},
   "source": [
    "### Try a city with blank space in name to see if formatting needed:"
   ]
  },
  {
   "cell_type": "code",
   "execution_count": 3,
   "metadata": {},
   "outputs": [
    {
     "data": {
      "text/plain": [
       "[{'place_id': 281822562,\n",
       "  'licence': 'Data © OpenStreetMap contributors, ODbL 1.0. https://osm.org/copyright',\n",
       "  'osm_type': 'relation',\n",
       "  'osm_id': 117858,\n",
       "  'boundingbox': ['46.1331804', '46.1908971', '-1.2419231', '-1.111097'],\n",
       "  'lat': '46.1591126',\n",
       "  'lon': '-1.1520434',\n",
       "  'display_name': 'La Rochelle, Charente-Maritime, Nouvelle-Aquitaine, France métropolitaine, 17000, France',\n",
       "  'class': 'boundary',\n",
       "  'type': 'administrative',\n",
       "  'importance': 0.9114837096874572,\n",
       "  'icon': 'https://nominatim.openstreetmap.org/ui/mapicons//poi_boundary_administrative.p.20.png'},\n",
       " {'place_id': 282096286,\n",
       "  'licence': 'Data © OpenStreetMap contributors, ODbL 1.0. https://osm.org/copyright',\n",
       "  'osm_type': 'relation',\n",
       "  'osm_id': 1215878,\n",
       "  'boundingbox': ['47.7388479', '47.7647325', '5.7060641', '5.7454734'],\n",
       "  'lat': '47.7470598',\n",
       "  'lon': '5.7321403',\n",
       "  'display_name': 'La Rochelle, Vesoul, Haute-Saône, Bourgogne-Franche-Comté, France métropolitaine, 70120, France',\n",
       "  'class': 'boundary',\n",
       "  'type': 'administrative',\n",
       "  'importance': 0.8432911295153213,\n",
       "  'icon': 'https://nominatim.openstreetmap.org/ui/mapicons//poi_boundary_administrative.p.20.png'},\n",
       " {'place_id': 282721856,\n",
       "  'licence': 'Data © OpenStreetMap contributors, ODbL 1.0. https://osm.org/copyright',\n",
       "  'osm_type': 'relation',\n",
       "  'osm_id': 1661547,\n",
       "  'boundingbox': ['46.0036902', '46.3715027', '-1.5626797', '-0.6805266'],\n",
       "  'lat': '46.187679599999996',\n",
       "  'lon': '-1.064280735046797',\n",
       "  'display_name': 'La Rochelle, Charente-Maritime, Nouvelle-Aquitaine, France métropolitaine, France',\n",
       "  'class': 'boundary',\n",
       "  'type': 'administrative',\n",
       "  'importance': 0.6330614454416834,\n",
       "  'icon': 'https://nominatim.openstreetmap.org/ui/mapicons//poi_boundary_administrative.p.20.png'},\n",
       " {'place_id': 18274968,\n",
       "  'licence': 'Data © OpenStreetMap contributors, ODbL 1.0. https://osm.org/copyright',\n",
       "  'osm_type': 'node',\n",
       "  'osm_id': 2031899920,\n",
       "  'boundingbox': ['48.9231626', '48.9631626', '-1.3637098', '-1.3237098'],\n",
       "  'lat': '48.9431626',\n",
       "  'lon': '-1.3437098',\n",
       "  'display_name': 'La Rochelle, Saint-Denis-le-Gast, Coutances, Manche, Normandie, France métropolitaine, 50450, France',\n",
       "  'class': 'place',\n",
       "  'type': 'hamlet',\n",
       "  'importance': 0.56,\n",
       "  'icon': 'https://nominatim.openstreetmap.org/ui/mapicons//poi_place_village.p.20.png'},\n",
       " {'place_id': 70412653,\n",
       "  'licence': 'Data © OpenStreetMap contributors, ODbL 1.0. https://osm.org/copyright',\n",
       "  'osm_type': 'node',\n",
       "  'osm_id': 6517919775,\n",
       "  'boundingbox': ['46.2462932', '46.2862932', '4.2703536', '4.3103536'],\n",
       "  'lat': '46.2662932',\n",
       "  'lon': '4.2903536',\n",
       "  'display_name': 'La Rochelle, La Chapelle-sous-Dun, Charolles, Saône-et-Loire, Bourgogne-Franche-Comté, France métropolitaine, 71800, France',\n",
       "  'class': 'place',\n",
       "  'type': 'hamlet',\n",
       "  'importance': 0.56,\n",
       "  'icon': 'https://nominatim.openstreetmap.org/ui/mapicons//poi_place_village.p.20.png'},\n",
       " {'place_id': 58095389,\n",
       "  'licence': 'Data © OpenStreetMap contributors, ODbL 1.0. https://osm.org/copyright',\n",
       "  'osm_type': 'node',\n",
       "  'osm_id': 5205144194,\n",
       "  'boundingbox': ['48.5844837', '48.6244837', '-0.5657169', '-0.5257169'],\n",
       "  'lat': '48.6044837',\n",
       "  'lon': '-0.5457169',\n",
       "  'display_name': 'La Rochelle, Champsecret, Argentan, Orne, Normandie, France métropolitaine, 61700, France',\n",
       "  'class': 'place',\n",
       "  'type': 'hamlet',\n",
       "  'importance': 0.56,\n",
       "  'icon': 'https://nominatim.openstreetmap.org/ui/mapicons//poi_place_village.p.20.png'},\n",
       " {'place_id': 29342265,\n",
       "  'licence': 'Data © OpenStreetMap contributors, ODbL 1.0. https://osm.org/copyright',\n",
       "  'osm_type': 'node',\n",
       "  'osm_id': 2781941597,\n",
       "  'boundingbox': ['46.2742431', '46.3142431', '4.3645907', '4.4045907'],\n",
       "  'lat': '46.2942431',\n",
       "  'lon': '4.3845907',\n",
       "  'display_name': 'La Rochelle, Châtenay, Charolles, Saône-et-Loire, Bourgogne-Franche-Comté, France métropolitaine, 71800, France',\n",
       "  'class': 'place',\n",
       "  'type': 'hamlet',\n",
       "  'importance': 0.56,\n",
       "  'icon': 'https://nominatim.openstreetmap.org/ui/mapicons//poi_place_village.p.20.png'},\n",
       " {'place_id': 31277038,\n",
       "  'licence': 'Data © OpenStreetMap contributors, ODbL 1.0. https://osm.org/copyright',\n",
       "  'osm_type': 'node',\n",
       "  'osm_id': 2815202805,\n",
       "  'boundingbox': ['48.3631712', '48.4031712', '-1.7417726', '-1.7017726'],\n",
       "  'lat': '48.3831712',\n",
       "  'lon': '-1.7217726',\n",
       "  'display_name': 'La Rochelle, Combourg, Saint-Malo, Ille-et-Vilaine, Bretagne, France métropolitaine, 35270, France',\n",
       "  'class': 'place',\n",
       "  'type': 'hamlet',\n",
       "  'importance': 0.56,\n",
       "  'icon': 'https://nominatim.openstreetmap.org/ui/mapicons//poi_place_village.p.20.png'},\n",
       " {'place_id': 57539615,\n",
       "  'licence': 'Data © OpenStreetMap contributors, ODbL 1.0. https://osm.org/copyright',\n",
       "  'osm_type': 'node',\n",
       "  'osm_id': 5109614681,\n",
       "  'boundingbox': ['47.9467784', '47.9867784', '-1.2964117', '-1.2564117'],\n",
       "  'lat': '47.9667784',\n",
       "  'lon': '-1.2764117',\n",
       "  'display_name': 'La Rochelle, Domalain, Fougères-Vitré, Ille-et-Vilaine, Bretagne, France métropolitaine, 35680, France',\n",
       "  'class': 'place',\n",
       "  'type': 'hamlet',\n",
       "  'importance': 0.56,\n",
       "  'icon': 'https://nominatim.openstreetmap.org/ui/mapicons//poi_place_village.p.20.png'},\n",
       " {'place_id': 66563416,\n",
       "  'licence': 'Data © OpenStreetMap contributors, ODbL 1.0. https://osm.org/copyright',\n",
       "  'osm_type': 'node',\n",
       "  'osm_id': 6030811020,\n",
       "  'boundingbox': ['48.5400804', '48.5800804', '-1.8561687', '-1.8161687'],\n",
       "  'lat': '48.5600804',\n",
       "  'lon': '-1.8361687',\n",
       "  'display_name': 'La Rochelle, Roz-Landrieux, Saint-Malo, Ille-et-Vilaine, Bretagne, France métropolitaine, 35120, France',\n",
       "  'class': 'place',\n",
       "  'type': 'hamlet',\n",
       "  'importance': 0.56,\n",
       "  'icon': 'https://nominatim.openstreetmap.org/ui/mapicons//poi_place_village.p.20.png'}]"
      ]
     },
     "execution_count": 3,
     "metadata": {},
     "output_type": "execute_result"
    }
   ],
   "source": [
    "import requests\n",
    "\n",
    "params = {\"city\": \"La Rochelle\", \"country\": \"France\", \"format\": \"json\"}\n",
    "\n",
    "r = requests.get(\"https://nominatim.openstreetmap.org/search?\", params).json()\n",
    "\n",
    "r\n"
   ]
  },
  {
   "cell_type": "markdown",
   "metadata": {},
   "source": [
    "#### That doesn't work... After Google search, 'Castellane'"
   ]
  },
  {
   "cell_type": "markdown",
   "metadata": {},
   "source": [
    "### Since I don't know 'Chateau du Haut Koenigsbourg', I'm testing if Nominatim knows it"
   ]
  },
  {
   "cell_type": "code",
   "execution_count": 4,
   "metadata": {},
   "outputs": [
    {
     "data": {
      "text/plain": [
       "[{'place_id': 49750339,\n",
       "  'licence': 'Data © OpenStreetMap contributors, ODbL 1.0. https://osm.org/copyright',\n",
       "  'osm_type': 'node',\n",
       "  'osm_id': 4245068168,\n",
       "  'boundingbox': ['48.2494726', '48.2495726', '7.3454423', '7.3455423'],\n",
       "  'lat': '48.2495226',\n",
       "  'lon': '7.3454923',\n",
       "  'display_name': 'Château du Haut-Kœnigsbourg, Orschwiller, Sélestat-Erstein, Bas-Rhin, Grand Est, France métropolitaine, 67600, France',\n",
       "  'class': 'place',\n",
       "  'type': 'isolated_dwelling',\n",
       "  'importance': 0.51}]"
      ]
     },
     "execution_count": 4,
     "metadata": {},
     "output_type": "execute_result"
    }
   ],
   "source": [
    "import requests\n",
    "\n",
    "params = {\"city\": \"Chateau du Haut Koenigsbourg\",\n",
    "          \"country\": \"France\", \"format\": \"json\"}\n",
    "\n",
    "r = requests.get(\"https://nominatim.openstreetmap.org/search?\", params).json()\n",
    "\n",
    "r\n"
   ]
  },
  {
   "cell_type": "markdown",
   "metadata": {},
   "source": [
    "### 'Gorges du Verdon' isn't a city but a canyon, I check if Nominatim works with or not"
   ]
  },
  {
   "cell_type": "code",
   "execution_count": 5,
   "metadata": {},
   "outputs": [
    {
     "data": {
      "text/plain": [
       "[]"
      ]
     },
     "execution_count": 5,
     "metadata": {},
     "output_type": "execute_result"
    }
   ],
   "source": [
    "import requests\n",
    "\n",
    "params = {\"city\": \"Gorges du Verdon\", \"country\": \"France\", \"format\": \"json\"}\n",
    "\n",
    "r = requests.get(\"https://nominatim.openstreetmap.org/search?\", params).json()\n",
    "\n",
    "r\n"
   ]
  },
  {
   "cell_type": "markdown",
   "metadata": {},
   "source": [
    "Doesnt' works... Google search : 'Castellane' will be use for Gorges du Verdon"
   ]
  },
  {
   "cell_type": "markdown",
   "metadata": {},
   "source": [
    "### Ariege is a department and not a City, its prefecture is 'Foix'. We'll use this city"
   ]
  },
  {
   "cell_type": "markdown",
   "metadata": {},
   "source": [
    "### Request API"
   ]
  },
  {
   "cell_type": "code",
   "execution_count": 6,
   "metadata": {},
   "outputs": [
    {
     "name": "stdout",
     "output_type": "stream",
     "text": [
      "Request for city: Mont Saint Michel\n",
      "Request for city: St Malo\n",
      "Request for city: Bayeux\n",
      "Request for city: Le Havre\n",
      "Request for city: Rouen\n",
      "Request for city: Paris\n",
      "Request for city: Amiens\n",
      "Request for city: Lille\n",
      "Request for city: Strasbourg\n",
      "Request for city: Chateau du Haut Koenigsbourg\n",
      "Request for city: Colmar\n",
      "Request for city: Eguisheim\n",
      "Request for city: Besancon\n",
      "Request for city: Dijon\n",
      "Request for city: Annecy\n",
      "Request for city: Grenoble\n",
      "Request for city: Lyon\n",
      "Request for city: Gorges du Verdon\n",
      "Request for city: Bormes les Mimosas\n",
      "Request for city: Cassis\n",
      "Request for city: Marseille\n",
      "Request for city: Aix en Provence\n",
      "Request for city: Avignon\n",
      "Request for city: Uzes\n",
      "Request for city: Nimes\n",
      "Request for city: Aigues Mortes\n",
      "Request for city: Saintes Maries de la mer\n",
      "Request for city: Collioure\n",
      "Request for city: Carcassonne\n",
      "Request for city: Ariege\n",
      "Request for city: Toulouse\n",
      "Request for city: Montauban\n",
      "Request for city: Biarritz\n",
      "Request for city: Bayonne\n",
      "Request for city: La Rochelle\n"
     ]
    }
   ],
   "source": [
    "# Creating a copy of df_cities to store the coordinates from Nominatim API\n",
    "\n",
    "df_gps = df_cities.copy(deep=True)\n",
    "lat_list = []\n",
    "lon_list = []\n",
    "\n",
    "for i in cities:\n",
    "    print(f\"Request for city: {i}\")\n",
    "    params = {\"city\": i, \"country\": \"France\", \"format\": \"json\"}\n",
    "    # No 'Gorges du Verdon' city, replacing by 'Castellane'\n",
    "    if i == \"Gorges du Verdon\":\n",
    "        i = \"Castellane\"\n",
    "        r = requests.get(\n",
    "            f\"https://nominatim.openstreetmap.org/search?city={i}&country=France&format=json\"\n",
    "        ).json()\n",
    "        lat_list.append(r[0][\"lat\"])\n",
    "        lon_list.append(r[0][\"lon\"])\n",
    "    # 'Ariege' not a city, using the prefecture instead -> 'Foix'\n",
    "    elif i == \"Ariege\":\n",
    "        i = \"Foix\"\n",
    "        r = requests.get(\n",
    "            f\"https://nominatim.openstreetmap.org/search?city={i}&country=France&format=json\"\n",
    "        ).json()\n",
    "        lat_list.append(r[0][\"lat\"])\n",
    "        lon_list.append(r[0][\"lon\"])\n",
    "    else:\n",
    "        r = requests.get(\n",
    "            f\"https://nominatim.openstreetmap.org/search?\", params).json()\n",
    "        lat_list.append(r[0][\"lat\"])\n",
    "        lon_list.append(r[0][\"lon\"])\n",
    "\n",
    "# Adding the coordinates to the dataframe\n",
    "df_gps[\"lat\"] = lat_list\n",
    "df_gps[\"lon\"] = lon_list\n"
   ]
  },
  {
   "cell_type": "code",
   "execution_count": 7,
   "metadata": {},
   "outputs": [
    {
     "data": {
      "text/html": [
       "<div>\n",
       "<style scoped>\n",
       "    .dataframe tbody tr th:only-of-type {\n",
       "        vertical-align: middle;\n",
       "    }\n",
       "\n",
       "    .dataframe tbody tr th {\n",
       "        vertical-align: top;\n",
       "    }\n",
       "\n",
       "    .dataframe thead th {\n",
       "        text-align: right;\n",
       "    }\n",
       "</style>\n",
       "<table border=\"1\" class=\"dataframe\">\n",
       "  <thead>\n",
       "    <tr style=\"text-align: right;\">\n",
       "      <th></th>\n",
       "      <th>id</th>\n",
       "      <th>city</th>\n",
       "      <th>lat</th>\n",
       "      <th>lon</th>\n",
       "    </tr>\n",
       "  </thead>\n",
       "  <tbody>\n",
       "    <tr>\n",
       "      <th>0</th>\n",
       "      <td>0</td>\n",
       "      <td>Mont Saint Michel</td>\n",
       "      <td>48.6359541</td>\n",
       "      <td>-1.511459954959514</td>\n",
       "    </tr>\n",
       "    <tr>\n",
       "      <th>1</th>\n",
       "      <td>1</td>\n",
       "      <td>St Malo</td>\n",
       "      <td>48.649518</td>\n",
       "      <td>-2.0260409</td>\n",
       "    </tr>\n",
       "    <tr>\n",
       "      <th>2</th>\n",
       "      <td>2</td>\n",
       "      <td>Bayeux</td>\n",
       "      <td>49.2764624</td>\n",
       "      <td>-0.7024738</td>\n",
       "    </tr>\n",
       "    <tr>\n",
       "      <th>3</th>\n",
       "      <td>3</td>\n",
       "      <td>Le Havre</td>\n",
       "      <td>49.4938975</td>\n",
       "      <td>0.1079732</td>\n",
       "    </tr>\n",
       "    <tr>\n",
       "      <th>4</th>\n",
       "      <td>4</td>\n",
       "      <td>Rouen</td>\n",
       "      <td>49.4404591</td>\n",
       "      <td>1.0939658</td>\n",
       "    </tr>\n",
       "    <tr>\n",
       "      <th>5</th>\n",
       "      <td>5</td>\n",
       "      <td>Paris</td>\n",
       "      <td>48.8588897</td>\n",
       "      <td>2.3200410217200766</td>\n",
       "    </tr>\n",
       "    <tr>\n",
       "      <th>6</th>\n",
       "      <td>6</td>\n",
       "      <td>Amiens</td>\n",
       "      <td>49.8941708</td>\n",
       "      <td>2.2956951</td>\n",
       "    </tr>\n",
       "    <tr>\n",
       "      <th>7</th>\n",
       "      <td>7</td>\n",
       "      <td>Lille</td>\n",
       "      <td>50.6365654</td>\n",
       "      <td>3.0635282</td>\n",
       "    </tr>\n",
       "    <tr>\n",
       "      <th>8</th>\n",
       "      <td>8</td>\n",
       "      <td>Strasbourg</td>\n",
       "      <td>48.584614</td>\n",
       "      <td>7.7507127</td>\n",
       "    </tr>\n",
       "    <tr>\n",
       "      <th>9</th>\n",
       "      <td>9</td>\n",
       "      <td>Chateau du Haut Koenigsbourg</td>\n",
       "      <td>48.2495226</td>\n",
       "      <td>7.3454923</td>\n",
       "    </tr>\n",
       "    <tr>\n",
       "      <th>10</th>\n",
       "      <td>10</td>\n",
       "      <td>Colmar</td>\n",
       "      <td>48.0777517</td>\n",
       "      <td>7.3579641</td>\n",
       "    </tr>\n",
       "    <tr>\n",
       "      <th>11</th>\n",
       "      <td>11</td>\n",
       "      <td>Eguisheim</td>\n",
       "      <td>48.0447968</td>\n",
       "      <td>7.3079618</td>\n",
       "    </tr>\n",
       "    <tr>\n",
       "      <th>12</th>\n",
       "      <td>12</td>\n",
       "      <td>Besancon</td>\n",
       "      <td>47.2380222</td>\n",
       "      <td>6.0243622</td>\n",
       "    </tr>\n",
       "    <tr>\n",
       "      <th>13</th>\n",
       "      <td>13</td>\n",
       "      <td>Dijon</td>\n",
       "      <td>47.3215806</td>\n",
       "      <td>5.0414701</td>\n",
       "    </tr>\n",
       "    <tr>\n",
       "      <th>14</th>\n",
       "      <td>14</td>\n",
       "      <td>Annecy</td>\n",
       "      <td>45.8992348</td>\n",
       "      <td>6.1288847</td>\n",
       "    </tr>\n",
       "    <tr>\n",
       "      <th>15</th>\n",
       "      <td>15</td>\n",
       "      <td>Grenoble</td>\n",
       "      <td>45.1875602</td>\n",
       "      <td>5.7357819</td>\n",
       "    </tr>\n",
       "    <tr>\n",
       "      <th>16</th>\n",
       "      <td>16</td>\n",
       "      <td>Lyon</td>\n",
       "      <td>45.7578137</td>\n",
       "      <td>4.8320114</td>\n",
       "    </tr>\n",
       "    <tr>\n",
       "      <th>17</th>\n",
       "      <td>17</td>\n",
       "      <td>Gorges du Verdon</td>\n",
       "      <td>43.8462177</td>\n",
       "      <td>6.5131814</td>\n",
       "    </tr>\n",
       "    <tr>\n",
       "      <th>18</th>\n",
       "      <td>18</td>\n",
       "      <td>Bormes les Mimosas</td>\n",
       "      <td>43.1572172</td>\n",
       "      <td>6.329253867921363</td>\n",
       "    </tr>\n",
       "    <tr>\n",
       "      <th>19</th>\n",
       "      <td>19</td>\n",
       "      <td>Cassis</td>\n",
       "      <td>43.2140359</td>\n",
       "      <td>5.5396318</td>\n",
       "    </tr>\n",
       "    <tr>\n",
       "      <th>20</th>\n",
       "      <td>20</td>\n",
       "      <td>Marseille</td>\n",
       "      <td>43.2961743</td>\n",
       "      <td>5.3699525</td>\n",
       "    </tr>\n",
       "    <tr>\n",
       "      <th>21</th>\n",
       "      <td>21</td>\n",
       "      <td>Aix en Provence</td>\n",
       "      <td>43.5298424</td>\n",
       "      <td>5.4474738</td>\n",
       "    </tr>\n",
       "    <tr>\n",
       "      <th>22</th>\n",
       "      <td>22</td>\n",
       "      <td>Avignon</td>\n",
       "      <td>43.9492493</td>\n",
       "      <td>4.8059012</td>\n",
       "    </tr>\n",
       "    <tr>\n",
       "      <th>23</th>\n",
       "      <td>23</td>\n",
       "      <td>Uzes</td>\n",
       "      <td>44.0121279</td>\n",
       "      <td>4.4196718</td>\n",
       "    </tr>\n",
       "    <tr>\n",
       "      <th>24</th>\n",
       "      <td>24</td>\n",
       "      <td>Nimes</td>\n",
       "      <td>43.8374249</td>\n",
       "      <td>4.3600687</td>\n",
       "    </tr>\n",
       "    <tr>\n",
       "      <th>25</th>\n",
       "      <td>25</td>\n",
       "      <td>Aigues Mortes</td>\n",
       "      <td>43.5658225</td>\n",
       "      <td>4.1912837</td>\n",
       "    </tr>\n",
       "    <tr>\n",
       "      <th>26</th>\n",
       "      <td>26</td>\n",
       "      <td>Saintes Maries de la mer</td>\n",
       "      <td>43.4522771</td>\n",
       "      <td>4.4287172</td>\n",
       "    </tr>\n",
       "    <tr>\n",
       "      <th>27</th>\n",
       "      <td>27</td>\n",
       "      <td>Collioure</td>\n",
       "      <td>42.52505</td>\n",
       "      <td>3.0831554</td>\n",
       "    </tr>\n",
       "    <tr>\n",
       "      <th>28</th>\n",
       "      <td>28</td>\n",
       "      <td>Carcassonne</td>\n",
       "      <td>43.2130358</td>\n",
       "      <td>2.3491069</td>\n",
       "    </tr>\n",
       "    <tr>\n",
       "      <th>29</th>\n",
       "      <td>29</td>\n",
       "      <td>Ariege</td>\n",
       "      <td>42.9638998</td>\n",
       "      <td>1.6053807</td>\n",
       "    </tr>\n",
       "    <tr>\n",
       "      <th>30</th>\n",
       "      <td>30</td>\n",
       "      <td>Toulouse</td>\n",
       "      <td>43.6044622</td>\n",
       "      <td>1.4442469</td>\n",
       "    </tr>\n",
       "    <tr>\n",
       "      <th>31</th>\n",
       "      <td>31</td>\n",
       "      <td>Montauban</td>\n",
       "      <td>44.0175835</td>\n",
       "      <td>1.3549991</td>\n",
       "    </tr>\n",
       "    <tr>\n",
       "      <th>32</th>\n",
       "      <td>32</td>\n",
       "      <td>Biarritz</td>\n",
       "      <td>43.4832523</td>\n",
       "      <td>-1.5592776</td>\n",
       "    </tr>\n",
       "    <tr>\n",
       "      <th>33</th>\n",
       "      <td>33</td>\n",
       "      <td>Bayonne</td>\n",
       "      <td>43.4933379</td>\n",
       "      <td>-1.475099</td>\n",
       "    </tr>\n",
       "    <tr>\n",
       "      <th>34</th>\n",
       "      <td>34</td>\n",
       "      <td>La Rochelle</td>\n",
       "      <td>46.1591126</td>\n",
       "      <td>-1.1520434</td>\n",
       "    </tr>\n",
       "  </tbody>\n",
       "</table>\n",
       "</div>"
      ],
      "text/plain": [
       "    id                          city         lat                 lon\n",
       "0    0             Mont Saint Michel  48.6359541  -1.511459954959514\n",
       "1    1                       St Malo   48.649518          -2.0260409\n",
       "2    2                        Bayeux  49.2764624          -0.7024738\n",
       "3    3                      Le Havre  49.4938975           0.1079732\n",
       "4    4                         Rouen  49.4404591           1.0939658\n",
       "5    5                         Paris  48.8588897  2.3200410217200766\n",
       "6    6                        Amiens  49.8941708           2.2956951\n",
       "7    7                         Lille  50.6365654           3.0635282\n",
       "8    8                    Strasbourg   48.584614           7.7507127\n",
       "9    9  Chateau du Haut Koenigsbourg  48.2495226           7.3454923\n",
       "10  10                        Colmar  48.0777517           7.3579641\n",
       "11  11                     Eguisheim  48.0447968           7.3079618\n",
       "12  12                      Besancon  47.2380222           6.0243622\n",
       "13  13                         Dijon  47.3215806           5.0414701\n",
       "14  14                        Annecy  45.8992348           6.1288847\n",
       "15  15                      Grenoble  45.1875602           5.7357819\n",
       "16  16                          Lyon  45.7578137           4.8320114\n",
       "17  17              Gorges du Verdon  43.8462177           6.5131814\n",
       "18  18            Bormes les Mimosas  43.1572172   6.329253867921363\n",
       "19  19                        Cassis  43.2140359           5.5396318\n",
       "20  20                     Marseille  43.2961743           5.3699525\n",
       "21  21               Aix en Provence  43.5298424           5.4474738\n",
       "22  22                       Avignon  43.9492493           4.8059012\n",
       "23  23                          Uzes  44.0121279           4.4196718\n",
       "24  24                         Nimes  43.8374249           4.3600687\n",
       "25  25                 Aigues Mortes  43.5658225           4.1912837\n",
       "26  26      Saintes Maries de la mer  43.4522771           4.4287172\n",
       "27  27                     Collioure    42.52505           3.0831554\n",
       "28  28                   Carcassonne  43.2130358           2.3491069\n",
       "29  29                        Ariege  42.9638998           1.6053807\n",
       "30  30                      Toulouse  43.6044622           1.4442469\n",
       "31  31                     Montauban  44.0175835           1.3549991\n",
       "32  32                      Biarritz  43.4832523          -1.5592776\n",
       "33  33                       Bayonne  43.4933379           -1.475099\n",
       "34  34                   La Rochelle  46.1591126          -1.1520434"
      ]
     },
     "execution_count": 7,
     "metadata": {},
     "output_type": "execute_result"
    }
   ],
   "source": [
    "df_gps\n"
   ]
  },
  {
   "cell_type": "code",
   "execution_count": 8,
   "metadata": {},
   "outputs": [
    {
     "name": "stdout",
     "output_type": "stream",
     "text": [
      "<class 'pandas.core.frame.DataFrame'>\n",
      "RangeIndex: 35 entries, 0 to 34\n",
      "Data columns (total 4 columns):\n",
      " #   Column  Non-Null Count  Dtype \n",
      "---  ------  --------------  ----- \n",
      " 0   id      35 non-null     int64 \n",
      " 1   city    35 non-null     object\n",
      " 2   lat     35 non-null     object\n",
      " 3   lon     35 non-null     object\n",
      "dtypes: int64(1), object(3)\n",
      "memory usage: 1.2+ KB\n"
     ]
    }
   ],
   "source": [
    "df_gps.info()\n"
   ]
  },
  {
   "cell_type": "markdown",
   "metadata": {},
   "source": [
    "## OpenWeather : get weather of the week => https://openweathermap.org"
   ]
  },
  {
   "cell_type": "code",
   "execution_count": 9,
   "metadata": {},
   "outputs": [
    {
     "data": {
      "text/html": [
       "<div>\n",
       "<style scoped>\n",
       "    .dataframe tbody tr th:only-of-type {\n",
       "        vertical-align: middle;\n",
       "    }\n",
       "\n",
       "    .dataframe tbody tr th {\n",
       "        vertical-align: top;\n",
       "    }\n",
       "\n",
       "    .dataframe thead th {\n",
       "        text-align: right;\n",
       "    }\n",
       "</style>\n",
       "<table border=\"1\" class=\"dataframe\">\n",
       "  <thead>\n",
       "    <tr style=\"text-align: right;\">\n",
       "      <th></th>\n",
       "      <th>id</th>\n",
       "      <th>city</th>\n",
       "      <th>lat</th>\n",
       "      <th>lon</th>\n",
       "    </tr>\n",
       "  </thead>\n",
       "  <tbody>\n",
       "    <tr>\n",
       "      <th>0</th>\n",
       "      <td>0</td>\n",
       "      <td>Mont Saint Michel</td>\n",
       "      <td>48.6359541</td>\n",
       "      <td>-1.511459954959514</td>\n",
       "    </tr>\n",
       "    <tr>\n",
       "      <th>1</th>\n",
       "      <td>1</td>\n",
       "      <td>St Malo</td>\n",
       "      <td>48.649518</td>\n",
       "      <td>-2.0260409</td>\n",
       "    </tr>\n",
       "    <tr>\n",
       "      <th>2</th>\n",
       "      <td>2</td>\n",
       "      <td>Bayeux</td>\n",
       "      <td>49.2764624</td>\n",
       "      <td>-0.7024738</td>\n",
       "    </tr>\n",
       "    <tr>\n",
       "      <th>3</th>\n",
       "      <td>3</td>\n",
       "      <td>Le Havre</td>\n",
       "      <td>49.4938975</td>\n",
       "      <td>0.1079732</td>\n",
       "    </tr>\n",
       "    <tr>\n",
       "      <th>4</th>\n",
       "      <td>4</td>\n",
       "      <td>Rouen</td>\n",
       "      <td>49.4404591</td>\n",
       "      <td>1.0939658</td>\n",
       "    </tr>\n",
       "  </tbody>\n",
       "</table>\n",
       "</div>"
      ],
      "text/plain": [
       "   id               city         lat                 lon\n",
       "0   0  Mont Saint Michel  48.6359541  -1.511459954959514\n",
       "1   1            St Malo   48.649518          -2.0260409\n",
       "2   2             Bayeux  49.2764624          -0.7024738\n",
       "3   3           Le Havre  49.4938975           0.1079732\n",
       "4   4              Rouen  49.4404591           1.0939658"
      ]
     },
     "execution_count": 9,
     "metadata": {},
     "output_type": "execute_result"
    }
   ],
   "source": [
    "df_gps.head()\n"
   ]
  },
  {
   "cell_type": "code",
   "execution_count": 10,
   "metadata": {},
   "outputs": [
    {
     "data": {
      "text/plain": [
       "{'lat': 48.6495,\n",
       " 'lon': -2.026,\n",
       " 'timezone': 'Europe/Paris',\n",
       " 'timezone_offset': 7200,\n",
       " 'daily': [{'dt': 1652097600,\n",
       "   'sunrise': 1652070945,\n",
       "   'sunset': 1652124802,\n",
       "   'moonrise': 1652095440,\n",
       "   'moonset': 1652062260,\n",
       "   'moon_phase': 0.25,\n",
       "   'temp': {'day': 21.74,\n",
       "    'min': 11.47,\n",
       "    'max': 24.43,\n",
       "    'night': 15.23,\n",
       "    'eve': 20.9,\n",
       "    'morn': 12.33},\n",
       "   'feels_like': {'day': 21.35, 'night': 14.98, 'eve': 20.59, 'morn': 11.89},\n",
       "   'pressure': 1023,\n",
       "   'humidity': 53,\n",
       "   'dew_point': 11.75,\n",
       "   'wind_speed': 4.17,\n",
       "   'wind_deg': 71,\n",
       "   'wind_gust': 5.81,\n",
       "   'weather': [{'id': 803,\n",
       "     'main': 'Clouds',\n",
       "     'description': 'nuageux',\n",
       "     'icon': '04d'}],\n",
       "   'clouds': 56,\n",
       "   'pop': 0,\n",
       "   'uvi': 5.92},\n",
       "  {'dt': 1652184000,\n",
       "   'sunrise': 1652157258,\n",
       "   'sunset': 1652211287,\n",
       "   'moonrise': 1652186100,\n",
       "   'moonset': 1652149980,\n",
       "   'moon_phase': 0.29,\n",
       "   'temp': {'day': 17.93,\n",
       "    'min': 12.29,\n",
       "    'max': 17.98,\n",
       "    'night': 12.29,\n",
       "    'eve': 14.13,\n",
       "    'morn': 12.78},\n",
       "   'feels_like': {'day': 17.37, 'night': 11.77, 'eve': 13.69, 'morn': 12.18},\n",
       "   'pressure': 1019,\n",
       "   'humidity': 61,\n",
       "   'dew_point': 9.93,\n",
       "   'wind_speed': 4.71,\n",
       "   'wind_deg': 233,\n",
       "   'wind_gust': 7.02,\n",
       "   'weather': [{'id': 801,\n",
       "     'main': 'Clouds',\n",
       "     'description': 'peu nuageux',\n",
       "     'icon': '02d'}],\n",
       "   'clouds': 22,\n",
       "   'pop': 0,\n",
       "   'uvi': 6.62},\n",
       "  {'dt': 1652270400,\n",
       "   'sunrise': 1652243571,\n",
       "   'sunset': 1652297771,\n",
       "   'moonrise': 1652276940,\n",
       "   'moonset': 1652237520,\n",
       "   'moon_phase': 0.33,\n",
       "   'temp': {'day': 18.22,\n",
       "    'min': 9.99,\n",
       "    'max': 18.96,\n",
       "    'night': 12.01,\n",
       "    'eve': 14.3,\n",
       "    'morn': 10.88},\n",
       "   'feels_like': {'day': 17.85, 'night': 11.59, 'eve': 14.08, 'morn': 10.19},\n",
       "   'pressure': 1013,\n",
       "   'humidity': 67,\n",
       "   'dew_point': 11.81,\n",
       "   'wind_speed': 7.47,\n",
       "   'wind_deg': 301,\n",
       "   'wind_gust': 10.8,\n",
       "   'weather': [{'id': 500,\n",
       "     'main': 'Rain',\n",
       "     'description': 'légère pluie',\n",
       "     'icon': '10d'}],\n",
       "   'clouds': 13,\n",
       "   'pop': 0.55,\n",
       "   'rain': 0.37,\n",
       "   'uvi': 6.17},\n",
       "  {'dt': 1652356800,\n",
       "   'sunrise': 1652329887,\n",
       "   'sunset': 1652384254,\n",
       "   'moonrise': 1652367780,\n",
       "   'moonset': 1652324940,\n",
       "   'moon_phase': 0.36,\n",
       "   'temp': {'day': 14.27,\n",
       "    'min': 9.85,\n",
       "    'max': 14.27,\n",
       "    'night': 11.04,\n",
       "    'eve': 13.14,\n",
       "    'morn': 10.67},\n",
       "   'feels_like': {'day': 13.53, 'night': 10.39, 'eve': 12.36, 'morn': 10.14},\n",
       "   'pressure': 1021,\n",
       "   'humidity': 68,\n",
       "   'dew_point': 8.31,\n",
       "   'wind_speed': 4.97,\n",
       "   'wind_deg': 317,\n",
       "   'wind_gust': 6.95,\n",
       "   'weather': [{'id': 804,\n",
       "     'main': 'Clouds',\n",
       "     'description': 'couvert',\n",
       "     'icon': '04d'}],\n",
       "   'clouds': 100,\n",
       "   'pop': 0.2,\n",
       "   'uvi': 6.2},\n",
       "  {'dt': 1652443200,\n",
       "   'sunrise': 1652416204,\n",
       "   'sunset': 1652470737,\n",
       "   'moonrise': 1652458860,\n",
       "   'moonset': 1652412360,\n",
       "   'moon_phase': 0.4,\n",
       "   'temp': {'day': 15.36,\n",
       "    'min': 9.81,\n",
       "    'max': 15.36,\n",
       "    'night': 11.73,\n",
       "    'eve': 13.59,\n",
       "    'morn': 10.49},\n",
       "   'feels_like': {'day': 14.75, 'night': 11.33, 'eve': 13.09, 'morn': 9.84},\n",
       "   'pressure': 1023,\n",
       "   'humidity': 69,\n",
       "   'dew_point': 9.33,\n",
       "   'wind_speed': 5.06,\n",
       "   'wind_deg': 324,\n",
       "   'wind_gust': 6.61,\n",
       "   'weather': [{'id': 803,\n",
       "     'main': 'Clouds',\n",
       "     'description': 'nuageux',\n",
       "     'icon': '04d'}],\n",
       "   'clouds': 58,\n",
       "   'pop': 0,\n",
       "   'uvi': 6.19},\n",
       "  {'dt': 1652529600,\n",
       "   'sunrise': 1652502523,\n",
       "   'sunset': 1652557219,\n",
       "   'moonrise': 1652550120,\n",
       "   'moonset': 1652499840,\n",
       "   'moon_phase': 0.43,\n",
       "   'temp': {'day': 15.93,\n",
       "    'min': 10.94,\n",
       "    'max': 16.43,\n",
       "    'night': 12.85,\n",
       "    'eve': 14.75,\n",
       "    'morn': 11.89},\n",
       "   'feels_like': {'day': 15.33, 'night': 12.46, 'eve': 14.26, 'morn': 11.46},\n",
       "   'pressure': 1024,\n",
       "   'humidity': 67,\n",
       "   'dew_point': 9.64,\n",
       "   'wind_speed': 5.15,\n",
       "   'wind_deg': 9,\n",
       "   'wind_gust': 8.09,\n",
       "   'weather': [{'id': 800,\n",
       "     'main': 'Clear',\n",
       "     'description': 'ciel dégagé',\n",
       "     'icon': '01d'}],\n",
       "   'clouds': 8,\n",
       "   'pop': 0,\n",
       "   'uvi': 7},\n",
       "  {'dt': 1652616000,\n",
       "   'sunrise': 1652588844,\n",
       "   'sunset': 1652643700,\n",
       "   'moonrise': 1652641680,\n",
       "   'moonset': 1652587440,\n",
       "   'moon_phase': 0.47,\n",
       "   'temp': {'day': 19.35,\n",
       "    'min': 11.85,\n",
       "    'max': 20.44,\n",
       "    'night': 15.96,\n",
       "    'eve': 19.08,\n",
       "    'morn': 12.76},\n",
       "   'feels_like': {'day': 18.99, 'night': 15.7, 'eve': 18.92, 'morn': 12.36},\n",
       "   'pressure': 1020,\n",
       "   'humidity': 63,\n",
       "   'dew_point': 11.79,\n",
       "   'wind_speed': 5.34,\n",
       "   'wind_deg': 67,\n",
       "   'wind_gust': 8.06,\n",
       "   'weather': [{'id': 802,\n",
       "     'main': 'Clouds',\n",
       "     'description': 'partiellement nuageux',\n",
       "     'icon': '03d'}],\n",
       "   'clouds': 49,\n",
       "   'pop': 0,\n",
       "   'uvi': 7},\n",
       "  {'dt': 1652702400,\n",
       "   'sunrise': 1652675167,\n",
       "   'sunset': 1652730181,\n",
       "   'moonrise': 1652733300,\n",
       "   'moonset': 1652675340,\n",
       "   'moon_phase': 0.5,\n",
       "   'temp': {'day': 21.02,\n",
       "    'min': 13.43,\n",
       "    'max': 22.62,\n",
       "    'night': 17.86,\n",
       "    'eve': 21.73,\n",
       "    'morn': 14.25},\n",
       "   'feels_like': {'day': 20.77, 'night': 17.69, 'eve': 21.66, 'morn': 13.98},\n",
       "   'pressure': 1020,\n",
       "   'humidity': 61,\n",
       "   'dew_point': 12.55,\n",
       "   'wind_speed': 4.68,\n",
       "   'wind_deg': 105,\n",
       "   'wind_gust': 7.09,\n",
       "   'weather': [{'id': 801,\n",
       "     'main': 'Clouds',\n",
       "     'description': 'peu nuageux',\n",
       "     'icon': '02d'}],\n",
       "   'clouds': 15,\n",
       "   'pop': 0,\n",
       "   'uvi': 7}]}"
      ]
     },
     "execution_count": 10,
     "metadata": {},
     "output_type": "execute_result"
    }
   ],
   "source": [
    "parameters = {\n",
    "    \"lat\": 48.649518,\n",
    "    \"lon\": -2.0260409,\n",
    "    \"exclude\": \"current,minutely,hourly\",\n",
    "    \"units\": \"metric\",\n",
    "    \"appid\": \"aa423e6694bf72625fe1fe31544949dc\",\n",
    "    \"lang\": \"fr\",\n",
    "}\n",
    "\n",
    "r = requests.get(\n",
    "    \"https://api.openweathermap.org/data/2.5/onecall\", params=parameters\n",
    ").json()\n",
    "\n",
    "r\n"
   ]
  },
  {
   "cell_type": "code",
   "execution_count": 11,
   "metadata": {},
   "outputs": [
    {
     "data": {
      "text/plain": [
       "[{'dt': 1652356800,\n",
       "  'sunrise': 1652329887,\n",
       "  'sunset': 1652384254,\n",
       "  'moonrise': 1652367780,\n",
       "  'moonset': 1652324940,\n",
       "  'moon_phase': 0.36,\n",
       "  'temp': {'day': 14.27,\n",
       "   'min': 9.85,\n",
       "   'max': 14.27,\n",
       "   'night': 11.04,\n",
       "   'eve': 13.14,\n",
       "   'morn': 10.67},\n",
       "  'feels_like': {'day': 13.53, 'night': 10.39, 'eve': 12.36, 'morn': 10.14},\n",
       "  'pressure': 1021,\n",
       "  'humidity': 68,\n",
       "  'dew_point': 8.31,\n",
       "  'wind_speed': 4.97,\n",
       "  'wind_deg': 317,\n",
       "  'wind_gust': 6.95,\n",
       "  'weather': [{'id': 804,\n",
       "    'main': 'Clouds',\n",
       "    'description': 'couvert',\n",
       "    'icon': '04d'}],\n",
       "  'clouds': 100,\n",
       "  'pop': 0.2,\n",
       "  'uvi': 6.2},\n",
       " {'dt': 1652443200,\n",
       "  'sunrise': 1652416204,\n",
       "  'sunset': 1652470737,\n",
       "  'moonrise': 1652458860,\n",
       "  'moonset': 1652412360,\n",
       "  'moon_phase': 0.4,\n",
       "  'temp': {'day': 15.36,\n",
       "   'min': 9.81,\n",
       "   'max': 15.36,\n",
       "   'night': 11.73,\n",
       "   'eve': 13.59,\n",
       "   'morn': 10.49},\n",
       "  'feels_like': {'day': 14.75, 'night': 11.33, 'eve': 13.09, 'morn': 9.84},\n",
       "  'pressure': 1023,\n",
       "  'humidity': 69,\n",
       "  'dew_point': 9.33,\n",
       "  'wind_speed': 5.06,\n",
       "  'wind_deg': 324,\n",
       "  'wind_gust': 6.61,\n",
       "  'weather': [{'id': 803,\n",
       "    'main': 'Clouds',\n",
       "    'description': 'nuageux',\n",
       "    'icon': '04d'}],\n",
       "  'clouds': 58,\n",
       "  'pop': 0,\n",
       "  'uvi': 6.19},\n",
       " {'dt': 1652529600,\n",
       "  'sunrise': 1652502523,\n",
       "  'sunset': 1652557219,\n",
       "  'moonrise': 1652550120,\n",
       "  'moonset': 1652499840,\n",
       "  'moon_phase': 0.43,\n",
       "  'temp': {'day': 15.93,\n",
       "   'min': 10.94,\n",
       "   'max': 16.43,\n",
       "   'night': 12.85,\n",
       "   'eve': 14.75,\n",
       "   'morn': 11.89},\n",
       "  'feels_like': {'day': 15.33, 'night': 12.46, 'eve': 14.26, 'morn': 11.46},\n",
       "  'pressure': 1024,\n",
       "  'humidity': 67,\n",
       "  'dew_point': 9.64,\n",
       "  'wind_speed': 5.15,\n",
       "  'wind_deg': 9,\n",
       "  'wind_gust': 8.09,\n",
       "  'weather': [{'id': 800,\n",
       "    'main': 'Clear',\n",
       "    'description': 'ciel dégagé',\n",
       "    'icon': '01d'}],\n",
       "  'clouds': 8,\n",
       "  'pop': 0,\n",
       "  'uvi': 7},\n",
       " {'dt': 1652616000,\n",
       "  'sunrise': 1652588844,\n",
       "  'sunset': 1652643700,\n",
       "  'moonrise': 1652641680,\n",
       "  'moonset': 1652587440,\n",
       "  'moon_phase': 0.47,\n",
       "  'temp': {'day': 19.35,\n",
       "   'min': 11.85,\n",
       "   'max': 20.44,\n",
       "   'night': 15.96,\n",
       "   'eve': 19.08,\n",
       "   'morn': 12.76},\n",
       "  'feels_like': {'day': 18.99, 'night': 15.7, 'eve': 18.92, 'morn': 12.36},\n",
       "  'pressure': 1020,\n",
       "  'humidity': 63,\n",
       "  'dew_point': 11.79,\n",
       "  'wind_speed': 5.34,\n",
       "  'wind_deg': 67,\n",
       "  'wind_gust': 8.06,\n",
       "  'weather': [{'id': 802,\n",
       "    'main': 'Clouds',\n",
       "    'description': 'partiellement nuageux',\n",
       "    'icon': '03d'}],\n",
       "  'clouds': 49,\n",
       "  'pop': 0,\n",
       "  'uvi': 7},\n",
       " {'dt': 1652702400,\n",
       "  'sunrise': 1652675167,\n",
       "  'sunset': 1652730181,\n",
       "  'moonrise': 1652733300,\n",
       "  'moonset': 1652675340,\n",
       "  'moon_phase': 0.5,\n",
       "  'temp': {'day': 21.02,\n",
       "   'min': 13.43,\n",
       "   'max': 22.62,\n",
       "   'night': 17.86,\n",
       "   'eve': 21.73,\n",
       "   'morn': 14.25},\n",
       "  'feels_like': {'day': 20.77, 'night': 17.69, 'eve': 21.66, 'morn': 13.98},\n",
       "  'pressure': 1020,\n",
       "  'humidity': 61,\n",
       "  'dew_point': 12.55,\n",
       "  'wind_speed': 4.68,\n",
       "  'wind_deg': 105,\n",
       "  'wind_gust': 7.09,\n",
       "  'weather': [{'id': 801,\n",
       "    'main': 'Clouds',\n",
       "    'description': 'peu nuageux',\n",
       "    'icon': '02d'}],\n",
       "  'clouds': 15,\n",
       "  'pop': 0,\n",
       "  'uvi': 7}]"
      ]
     },
     "execution_count": 11,
     "metadata": {},
     "output_type": "execute_result"
    }
   ],
   "source": [
    "r[\"daily\"][3:]  # Weather in 3 days\n"
   ]
  },
  {
   "cell_type": "code",
   "execution_count": 12,
   "metadata": {},
   "outputs": [
    {
     "data": {
      "text/plain": [
       "'Clouds'"
      ]
     },
     "execution_count": 12,
     "metadata": {},
     "output_type": "execute_result"
    }
   ],
   "source": [
    "day3 = r[\"daily\"][3]  # Weather in 3 days\n",
    "\n",
    "# desciption of the main weather in 3 days to St Malo\n",
    "day3[\"weather\"][0][\"main\"]\n"
   ]
  },
  {
   "cell_type": "code",
   "execution_count": 13,
   "metadata": {},
   "outputs": [
    {
     "data": {
      "text/html": [
       "<div>\n",
       "<style scoped>\n",
       "    .dataframe tbody tr th:only-of-type {\n",
       "        vertical-align: middle;\n",
       "    }\n",
       "\n",
       "    .dataframe tbody tr th {\n",
       "        vertical-align: top;\n",
       "    }\n",
       "\n",
       "    .dataframe thead th {\n",
       "        text-align: right;\n",
       "    }\n",
       "</style>\n",
       "<table border=\"1\" class=\"dataframe\">\n",
       "  <thead>\n",
       "    <tr style=\"text-align: right;\">\n",
       "      <th></th>\n",
       "      <th>id</th>\n",
       "      <th>city</th>\n",
       "      <th>lat</th>\n",
       "      <th>lon</th>\n",
       "      <th>jour_+x</th>\n",
       "      <th>temperature_ressentie</th>\n",
       "      <th>probabilite_de_pluie</th>\n",
       "      <th>meteo_principale</th>\n",
       "    </tr>\n",
       "  </thead>\n",
       "  <tbody>\n",
       "    <tr>\n",
       "      <th>0</th>\n",
       "      <td>0</td>\n",
       "      <td>Mont Saint Michel</td>\n",
       "      <td>48.6359541</td>\n",
       "      <td>-1.511459954959514</td>\n",
       "      <td>[1, 2, 3, 4, 5, 6, 7]</td>\n",
       "      <td>[19, 19, 14, 15, 18, 22, 24]</td>\n",
       "      <td>[0, 43, 21, 0, 0, 0, 0]</td>\n",
       "      <td>[Clouds, Clear, Clouds, Clouds, Clear, Clouds,...</td>\n",
       "    </tr>\n",
       "    <tr>\n",
       "      <th>1</th>\n",
       "      <td>1</td>\n",
       "      <td>St Malo</td>\n",
       "      <td>48.649518</td>\n",
       "      <td>-2.0260409</td>\n",
       "      <td>[1, 2, 3, 4, 5, 6, 7]</td>\n",
       "      <td>[17, 17, 13, 14, 15, 18, 20]</td>\n",
       "      <td>[0, 55, 20, 0, 0, 0, 0]</td>\n",
       "      <td>[Clouds, Rain, Clouds, Clouds, Clear, Clouds, ...</td>\n",
       "    </tr>\n",
       "    <tr>\n",
       "      <th>2</th>\n",
       "      <td>2</td>\n",
       "      <td>Bayeux</td>\n",
       "      <td>49.2764624</td>\n",
       "      <td>-0.7024738</td>\n",
       "      <td>[1, 2, 3, 4, 5, 6, 7]</td>\n",
       "      <td>[18, 18, 15, 16, 16, 19, 21]</td>\n",
       "      <td>[0, 53, 37, 0, 0, 0, 0]</td>\n",
       "      <td>[Clouds, Rain, Clouds, Clouds, Clear, Clear, C...</td>\n",
       "    </tr>\n",
       "    <tr>\n",
       "      <th>3</th>\n",
       "      <td>3</td>\n",
       "      <td>Le Havre</td>\n",
       "      <td>49.4938975</td>\n",
       "      <td>0.1079732</td>\n",
       "      <td>[1, 2, 3, 4, 5, 6, 7]</td>\n",
       "      <td>[15, 14, 13, 14, 14, 18, 19]</td>\n",
       "      <td>[0, 42, 36, 0, 0, 0, 0]</td>\n",
       "      <td>[Clouds, Rain, Clouds, Clouds, Clouds, Clear, ...</td>\n",
       "    </tr>\n",
       "    <tr>\n",
       "      <th>4</th>\n",
       "      <td>4</td>\n",
       "      <td>Rouen</td>\n",
       "      <td>49.4404591</td>\n",
       "      <td>1.0939658</td>\n",
       "      <td>[1, 2, 3, 4, 5, 6, 7]</td>\n",
       "      <td>[20, 19, 17, 16, 18, 20, 22]</td>\n",
       "      <td>[0, 43, 18, 0, 0, 0, 0]</td>\n",
       "      <td>[Clouds, Rain, Clouds, Clouds, Clouds, Clear, ...</td>\n",
       "    </tr>\n",
       "    <tr>\n",
       "      <th>5</th>\n",
       "      <td>5</td>\n",
       "      <td>Paris</td>\n",
       "      <td>48.8588897</td>\n",
       "      <td>2.3200410217200766</td>\n",
       "      <td>[1, 2, 3, 4, 5, 6, 7]</td>\n",
       "      <td>[23, 22, 19, 19, 20, 22, 24]</td>\n",
       "      <td>[0, 3, 4, 0, 0, 0, 0]</td>\n",
       "      <td>[Clouds, Clear, Clouds, Clouds, Clear, Clouds,...</td>\n",
       "    </tr>\n",
       "    <tr>\n",
       "      <th>6</th>\n",
       "      <td>6</td>\n",
       "      <td>Amiens</td>\n",
       "      <td>49.8941708</td>\n",
       "      <td>2.2956951</td>\n",
       "      <td>[1, 2, 3, 4, 5, 6, 7]</td>\n",
       "      <td>[20, 19, 17, 16, 16, 19, 22]</td>\n",
       "      <td>[0, 54, 39, 0, 0, 0, 0]</td>\n",
       "      <td>[Clouds, Rain, Clouds, Clouds, Clouds, Clouds,...</td>\n",
       "    </tr>\n",
       "    <tr>\n",
       "      <th>7</th>\n",
       "      <td>7</td>\n",
       "      <td>Lille</td>\n",
       "      <td>50.6365654</td>\n",
       "      <td>3.0635282</td>\n",
       "      <td>[1, 2, 3, 4, 5, 6, 7]</td>\n",
       "      <td>[21, 18, 17, 16, 18, 19, 22]</td>\n",
       "      <td>[0, 85, 86, 0, 0, 0, 0]</td>\n",
       "      <td>[Clouds, Rain, Rain, Clouds, Clouds, Clouds, C...</td>\n",
       "    </tr>\n",
       "    <tr>\n",
       "      <th>8</th>\n",
       "      <td>8</td>\n",
       "      <td>Strasbourg</td>\n",
       "      <td>48.584614</td>\n",
       "      <td>7.7507127</td>\n",
       "      <td>[1, 2, 3, 4, 5, 6, 7]</td>\n",
       "      <td>[22, 24, 23, 19, 20, 21, 23]</td>\n",
       "      <td>[0, 17, 71, 81, 0, 0, 0]</td>\n",
       "      <td>[Clouds, Clouds, Rain, Rain, Clouds, Clear, Cl...</td>\n",
       "    </tr>\n",
       "    <tr>\n",
       "      <th>9</th>\n",
       "      <td>9</td>\n",
       "      <td>Chateau du Haut Koenigsbourg</td>\n",
       "      <td>48.2495226</td>\n",
       "      <td>7.3454923</td>\n",
       "      <td>[1, 2, 3, 4, 5, 6, 7]</td>\n",
       "      <td>[19, 22, 20, 15, 18, 18, 19]</td>\n",
       "      <td>[0, 13, 92, 96, 0, 0, 0]</td>\n",
       "      <td>[Clouds, Clouds, Rain, Rain, Clouds, Clear, Cl...</td>\n",
       "    </tr>\n",
       "    <tr>\n",
       "      <th>10</th>\n",
       "      <td>10</td>\n",
       "      <td>Colmar</td>\n",
       "      <td>48.0777517</td>\n",
       "      <td>7.3579641</td>\n",
       "      <td>[1, 2, 3, 4, 5, 6, 7]</td>\n",
       "      <td>[22, 25, 24, 21, 20, 21, 23]</td>\n",
       "      <td>[0, 5, 96, 98, 0, 0, 0]</td>\n",
       "      <td>[Clouds, Clouds, Rain, Rain, Clouds, Clear, Cl...</td>\n",
       "    </tr>\n",
       "    <tr>\n",
       "      <th>11</th>\n",
       "      <td>11</td>\n",
       "      <td>Eguisheim</td>\n",
       "      <td>48.0447968</td>\n",
       "      <td>7.3079618</td>\n",
       "      <td>[1, 2, 3, 4, 5, 6, 7]</td>\n",
       "      <td>[22, 26, 24, 21, 21, 21, 23]</td>\n",
       "      <td>[0, 5, 98, 99, 0, 0, 0]</td>\n",
       "      <td>[Clouds, Clouds, Rain, Rain, Clear, Clear, Clo...</td>\n",
       "    </tr>\n",
       "    <tr>\n",
       "      <th>12</th>\n",
       "      <td>12</td>\n",
       "      <td>Besancon</td>\n",
       "      <td>47.2380222</td>\n",
       "      <td>6.0243622</td>\n",
       "      <td>[1, 2, 3, 4, 5, 6, 7]</td>\n",
       "      <td>[21, 25, 22, 20, 20, 23, 24]</td>\n",
       "      <td>[5, 0, 99, 99, 1, 0, 8]</td>\n",
       "      <td>[Clouds, Clouds, Rain, Rain, Clouds, Clouds, C...</td>\n",
       "    </tr>\n",
       "    <tr>\n",
       "      <th>13</th>\n",
       "      <td>13</td>\n",
       "      <td>Dijon</td>\n",
       "      <td>47.3215806</td>\n",
       "      <td>5.0414701</td>\n",
       "      <td>[1, 2, 3, 4, 5, 6, 7]</td>\n",
       "      <td>[21, 23, 22, 20, 19, 21, 23]</td>\n",
       "      <td>[20, 5, 98, 98, 0, 0, 6]</td>\n",
       "      <td>[Rain, Clear, Rain, Rain, Clouds, Clouds, Clouds]</td>\n",
       "    </tr>\n",
       "    <tr>\n",
       "      <th>14</th>\n",
       "      <td>14</td>\n",
       "      <td>Annecy</td>\n",
       "      <td>45.8992348</td>\n",
       "      <td>6.1288847</td>\n",
       "      <td>[1, 2, 3, 4, 5, 6, 7]</td>\n",
       "      <td>[22, 24, 24, 23, 22, 23, 26]</td>\n",
       "      <td>[37, 1, 6, 63, 56, 0, 56]</td>\n",
       "      <td>[Clouds, Clouds, Clouds, Rain, Rain, Clear, Rain]</td>\n",
       "    </tr>\n",
       "    <tr>\n",
       "      <th>15</th>\n",
       "      <td>15</td>\n",
       "      <td>Grenoble</td>\n",
       "      <td>45.1875602</td>\n",
       "      <td>5.7357819</td>\n",
       "      <td>[1, 2, 3, 4, 5, 6, 7]</td>\n",
       "      <td>[24, 26, 26, 26, 20, 26, 28]</td>\n",
       "      <td>[45, 0, 0, 38, 12, 0, 60]</td>\n",
       "      <td>[Clouds, Clouds, Clouds, Rain, Clouds, Clouds,...</td>\n",
       "    </tr>\n",
       "    <tr>\n",
       "      <th>16</th>\n",
       "      <td>16</td>\n",
       "      <td>Lyon</td>\n",
       "      <td>45.7578137</td>\n",
       "      <td>4.8320114</td>\n",
       "      <td>[1, 2, 3, 4, 5, 6, 7]</td>\n",
       "      <td>[24, 25, 24, 24, 22, 24, 27]</td>\n",
       "      <td>[0, 0, 18, 70, 41, 0, 64]</td>\n",
       "      <td>[Clouds, Clouds, Clouds, Rain, Clear, Clear, R...</td>\n",
       "    </tr>\n",
       "    <tr>\n",
       "      <th>17</th>\n",
       "      <td>17</td>\n",
       "      <td>Gorges du Verdon</td>\n",
       "      <td>43.8462177</td>\n",
       "      <td>6.5131814</td>\n",
       "      <td>[1, 2, 3, 4, 5, 6, 7]</td>\n",
       "      <td>[20, 21, 21, 21, 23, 24, 22]</td>\n",
       "      <td>[40, 13, 0, 2, 49, 24, 52]</td>\n",
       "      <td>[Rain, Clouds, Clouds, Clouds, Rain, Clear, Rain]</td>\n",
       "    </tr>\n",
       "    <tr>\n",
       "      <th>18</th>\n",
       "      <td>18</td>\n",
       "      <td>Bormes les Mimosas</td>\n",
       "      <td>43.1572172</td>\n",
       "      <td>6.329253867921363</td>\n",
       "      <td>[1, 2, 3, 4, 5, 6, 7]</td>\n",
       "      <td>[21, 21, 21, 22, 21, 21, 22]</td>\n",
       "      <td>[3, 0, 0, 0, 5, 1, 6]</td>\n",
       "      <td>[Clear, Clouds, Clouds, Clouds, Clouds, Clear,...</td>\n",
       "    </tr>\n",
       "    <tr>\n",
       "      <th>19</th>\n",
       "      <td>19</td>\n",
       "      <td>Cassis</td>\n",
       "      <td>43.2140359</td>\n",
       "      <td>5.5396318</td>\n",
       "      <td>[1, 2, 3, 4, 5, 6, 7]</td>\n",
       "      <td>[21, 19, 19, 20, 20, 20, 21]</td>\n",
       "      <td>[1, 0, 0, 0, 0, 0, 0]</td>\n",
       "      <td>[Clear, Clouds, Clouds, Clouds, Clouds, Clouds...</td>\n",
       "    </tr>\n",
       "    <tr>\n",
       "      <th>20</th>\n",
       "      <td>20</td>\n",
       "      <td>Marseille</td>\n",
       "      <td>43.2961743</td>\n",
       "      <td>5.3699525</td>\n",
       "      <td>[1, 2, 3, 4, 5, 6, 7]</td>\n",
       "      <td>[21, 19, 19, 20, 20, 20, 20]</td>\n",
       "      <td>[1, 0, 0, 0, 0, 0, 1]</td>\n",
       "      <td>[Clear, Clouds, Clouds, Clouds, Clouds, Clouds...</td>\n",
       "    </tr>\n",
       "    <tr>\n",
       "      <th>21</th>\n",
       "      <td>21</td>\n",
       "      <td>Aix en Provence</td>\n",
       "      <td>43.5298424</td>\n",
       "      <td>5.4474738</td>\n",
       "      <td>[1, 2, 3, 4, 5, 6, 7]</td>\n",
       "      <td>[23, 22, 22, 23, 25, 25, 26]</td>\n",
       "      <td>[9, 0, 0, 0, 0, 0, 8]</td>\n",
       "      <td>[Clear, Clouds, Clouds, Clouds, Clouds, Clouds...</td>\n",
       "    </tr>\n",
       "    <tr>\n",
       "      <th>22</th>\n",
       "      <td>22</td>\n",
       "      <td>Avignon</td>\n",
       "      <td>43.9492493</td>\n",
       "      <td>4.8059012</td>\n",
       "      <td>[1, 2, 3, 4, 5, 6, 7]</td>\n",
       "      <td>[26, 25, 26, 25, 27, 27, 27]</td>\n",
       "      <td>[3, 0, 0, 9, 0, 0, 7]</td>\n",
       "      <td>[Clear, Clouds, Clouds, Clouds, Clouds, Clouds...</td>\n",
       "    </tr>\n",
       "    <tr>\n",
       "      <th>23</th>\n",
       "      <td>23</td>\n",
       "      <td>Uzes</td>\n",
       "      <td>44.0121279</td>\n",
       "      <td>4.4196718</td>\n",
       "      <td>[1, 2, 3, 4, 5, 6, 7]</td>\n",
       "      <td>[26, 24, 24, 24, 27, 27, 27]</td>\n",
       "      <td>[0, 0, 0, 26, 1, 7, 28]</td>\n",
       "      <td>[Clouds, Clouds, Clouds, Clouds, Clouds, Cloud...</td>\n",
       "    </tr>\n",
       "    <tr>\n",
       "      <th>24</th>\n",
       "      <td>24</td>\n",
       "      <td>Nimes</td>\n",
       "      <td>43.8374249</td>\n",
       "      <td>4.3600687</td>\n",
       "      <td>[1, 2, 3, 4, 5, 6, 7]</td>\n",
       "      <td>[26, 24, 23, 24, 28, 27, 26]</td>\n",
       "      <td>[0, 0, 0, 20, 2, 7, 8]</td>\n",
       "      <td>[Clouds, Clouds, Clouds, Clouds, Clouds, Cloud...</td>\n",
       "    </tr>\n",
       "    <tr>\n",
       "      <th>25</th>\n",
       "      <td>25</td>\n",
       "      <td>Aigues Mortes</td>\n",
       "      <td>43.5658225</td>\n",
       "      <td>4.1912837</td>\n",
       "      <td>[1, 2, 3, 4, 5, 6, 7]</td>\n",
       "      <td>[21, 19, 19, 20, 23, 22, 21]</td>\n",
       "      <td>[0, 0, 0, 17, 7, 8, 2]</td>\n",
       "      <td>[Clouds, Clouds, Clouds, Clouds, Clear, Clouds...</td>\n",
       "    </tr>\n",
       "    <tr>\n",
       "      <th>26</th>\n",
       "      <td>26</td>\n",
       "      <td>Saintes Maries de la mer</td>\n",
       "      <td>43.4522771</td>\n",
       "      <td>4.4287172</td>\n",
       "      <td>[1, 2, 3, 4, 5, 6, 7]</td>\n",
       "      <td>[19, 18, 18, 18, 22, 20, 20]</td>\n",
       "      <td>[0, 0, 0, 3, 1, 6, 0]</td>\n",
       "      <td>[Clear, Clouds, Clouds, Clouds, Clear, Clouds,...</td>\n",
       "    </tr>\n",
       "    <tr>\n",
       "      <th>27</th>\n",
       "      <td>27</td>\n",
       "      <td>Collioure</td>\n",
       "      <td>42.52505</td>\n",
       "      <td>3.0831554</td>\n",
       "      <td>[1, 2, 3, 4, 5, 6, 7]</td>\n",
       "      <td>[22, 22, 23, 21, 24, 23, 23]</td>\n",
       "      <td>[0, 0, 0, 18, 33, 25, 14]</td>\n",
       "      <td>[Clouds, Clouds, Clouds, Clouds, Rain, Rain, C...</td>\n",
       "    </tr>\n",
       "    <tr>\n",
       "      <th>28</th>\n",
       "      <td>28</td>\n",
       "      <td>Carcassonne</td>\n",
       "      <td>43.2130358</td>\n",
       "      <td>2.3491069</td>\n",
       "      <td>[1, 2, 3, 4, 5, 6, 7]</td>\n",
       "      <td>[25, 24, 23, 25, 28, 27, 27]</td>\n",
       "      <td>[0, 0, 2, 43, 25, 32, 18]</td>\n",
       "      <td>[Clouds, Clouds, Clouds, Clouds, Clouds, Rain,...</td>\n",
       "    </tr>\n",
       "    <tr>\n",
       "      <th>29</th>\n",
       "      <td>29</td>\n",
       "      <td>Ariege</td>\n",
       "      <td>42.9638998</td>\n",
       "      <td>1.6053807</td>\n",
       "      <td>[1, 2, 3, 4, 5, 6, 7]</td>\n",
       "      <td>[24, 26, 25, 23, 26, 27, 27]</td>\n",
       "      <td>[0, 0, 39, 56, 57, 63, 41]</td>\n",
       "      <td>[Clouds, Clear, Rain, Rain, Rain, Rain, Rain]</td>\n",
       "    </tr>\n",
       "    <tr>\n",
       "      <th>30</th>\n",
       "      <td>30</td>\n",
       "      <td>Toulouse</td>\n",
       "      <td>43.6044622</td>\n",
       "      <td>1.4442469</td>\n",
       "      <td>[1, 2, 3, 4, 5, 6, 7]</td>\n",
       "      <td>[23, 24, 23, 22, 26, 27, 27]</td>\n",
       "      <td>[0, 0, 10, 12, 12, 37, 14]</td>\n",
       "      <td>[Clouds, Clear, Clouds, Clouds, Clouds, Rain, ...</td>\n",
       "    </tr>\n",
       "    <tr>\n",
       "      <th>31</th>\n",
       "      <td>31</td>\n",
       "      <td>Montauban</td>\n",
       "      <td>44.0175835</td>\n",
       "      <td>1.3549991</td>\n",
       "      <td>[1, 2, 3, 4, 5, 6, 7]</td>\n",
       "      <td>[23, 25, 24, 20, 26, 28, 27]</td>\n",
       "      <td>[0, 0, 34, 14, 0, 27, 28]</td>\n",
       "      <td>[Clouds, Clear, Clouds, Clouds, Clouds, Rain, ...</td>\n",
       "    </tr>\n",
       "    <tr>\n",
       "      <th>32</th>\n",
       "      <td>32</td>\n",
       "      <td>Biarritz</td>\n",
       "      <td>43.4832523</td>\n",
       "      <td>-1.5592776</td>\n",
       "      <td>[1, 2, 3, 4, 5, 6, 7]</td>\n",
       "      <td>[21, 20, 21, 17, 24, 27, 23]</td>\n",
       "      <td>[0, 95, 95, 71, 52, 91, 83]</td>\n",
       "      <td>[Clouds, Rain, Rain, Rain, Clouds, Rain, Rain]</td>\n",
       "    </tr>\n",
       "    <tr>\n",
       "      <th>33</th>\n",
       "      <td>33</td>\n",
       "      <td>Bayonne</td>\n",
       "      <td>43.4933379</td>\n",
       "      <td>-1.475099</td>\n",
       "      <td>[1, 2, 3, 4, 5, 6, 7]</td>\n",
       "      <td>[22, 21, 22, 18, 25, 28, 24]</td>\n",
       "      <td>[0, 96, 96, 72, 48, 91, 84]</td>\n",
       "      <td>[Clouds, Rain, Rain, Rain, Clouds, Rain, Rain]</td>\n",
       "    </tr>\n",
       "    <tr>\n",
       "      <th>34</th>\n",
       "      <td>34</td>\n",
       "      <td>La Rochelle</td>\n",
       "      <td>46.1591126</td>\n",
       "      <td>-1.1520434</td>\n",
       "      <td>[1, 2, 3, 4, 5, 6, 7]</td>\n",
       "      <td>[19, 18, 18, 18, 20, 23, 22]</td>\n",
       "      <td>[0, 0, 5, 3, 0, 1, 24]</td>\n",
       "      <td>[Clouds, Clouds, Clouds, Clouds, Clear, Clouds...</td>\n",
       "    </tr>\n",
       "  </tbody>\n",
       "</table>\n",
       "</div>"
      ],
      "text/plain": [
       "    id                          city         lat                 lon  \\\n",
       "0    0             Mont Saint Michel  48.6359541  -1.511459954959514   \n",
       "1    1                       St Malo   48.649518          -2.0260409   \n",
       "2    2                        Bayeux  49.2764624          -0.7024738   \n",
       "3    3                      Le Havre  49.4938975           0.1079732   \n",
       "4    4                         Rouen  49.4404591           1.0939658   \n",
       "5    5                         Paris  48.8588897  2.3200410217200766   \n",
       "6    6                        Amiens  49.8941708           2.2956951   \n",
       "7    7                         Lille  50.6365654           3.0635282   \n",
       "8    8                    Strasbourg   48.584614           7.7507127   \n",
       "9    9  Chateau du Haut Koenigsbourg  48.2495226           7.3454923   \n",
       "10  10                        Colmar  48.0777517           7.3579641   \n",
       "11  11                     Eguisheim  48.0447968           7.3079618   \n",
       "12  12                      Besancon  47.2380222           6.0243622   \n",
       "13  13                         Dijon  47.3215806           5.0414701   \n",
       "14  14                        Annecy  45.8992348           6.1288847   \n",
       "15  15                      Grenoble  45.1875602           5.7357819   \n",
       "16  16                          Lyon  45.7578137           4.8320114   \n",
       "17  17              Gorges du Verdon  43.8462177           6.5131814   \n",
       "18  18            Bormes les Mimosas  43.1572172   6.329253867921363   \n",
       "19  19                        Cassis  43.2140359           5.5396318   \n",
       "20  20                     Marseille  43.2961743           5.3699525   \n",
       "21  21               Aix en Provence  43.5298424           5.4474738   \n",
       "22  22                       Avignon  43.9492493           4.8059012   \n",
       "23  23                          Uzes  44.0121279           4.4196718   \n",
       "24  24                         Nimes  43.8374249           4.3600687   \n",
       "25  25                 Aigues Mortes  43.5658225           4.1912837   \n",
       "26  26      Saintes Maries de la mer  43.4522771           4.4287172   \n",
       "27  27                     Collioure    42.52505           3.0831554   \n",
       "28  28                   Carcassonne  43.2130358           2.3491069   \n",
       "29  29                        Ariege  42.9638998           1.6053807   \n",
       "30  30                      Toulouse  43.6044622           1.4442469   \n",
       "31  31                     Montauban  44.0175835           1.3549991   \n",
       "32  32                      Biarritz  43.4832523          -1.5592776   \n",
       "33  33                       Bayonne  43.4933379           -1.475099   \n",
       "34  34                   La Rochelle  46.1591126          -1.1520434   \n",
       "\n",
       "                  jour_+x         temperature_ressentie  \\\n",
       "0   [1, 2, 3, 4, 5, 6, 7]  [19, 19, 14, 15, 18, 22, 24]   \n",
       "1   [1, 2, 3, 4, 5, 6, 7]  [17, 17, 13, 14, 15, 18, 20]   \n",
       "2   [1, 2, 3, 4, 5, 6, 7]  [18, 18, 15, 16, 16, 19, 21]   \n",
       "3   [1, 2, 3, 4, 5, 6, 7]  [15, 14, 13, 14, 14, 18, 19]   \n",
       "4   [1, 2, 3, 4, 5, 6, 7]  [20, 19, 17, 16, 18, 20, 22]   \n",
       "5   [1, 2, 3, 4, 5, 6, 7]  [23, 22, 19, 19, 20, 22, 24]   \n",
       "6   [1, 2, 3, 4, 5, 6, 7]  [20, 19, 17, 16, 16, 19, 22]   \n",
       "7   [1, 2, 3, 4, 5, 6, 7]  [21, 18, 17, 16, 18, 19, 22]   \n",
       "8   [1, 2, 3, 4, 5, 6, 7]  [22, 24, 23, 19, 20, 21, 23]   \n",
       "9   [1, 2, 3, 4, 5, 6, 7]  [19, 22, 20, 15, 18, 18, 19]   \n",
       "10  [1, 2, 3, 4, 5, 6, 7]  [22, 25, 24, 21, 20, 21, 23]   \n",
       "11  [1, 2, 3, 4, 5, 6, 7]  [22, 26, 24, 21, 21, 21, 23]   \n",
       "12  [1, 2, 3, 4, 5, 6, 7]  [21, 25, 22, 20, 20, 23, 24]   \n",
       "13  [1, 2, 3, 4, 5, 6, 7]  [21, 23, 22, 20, 19, 21, 23]   \n",
       "14  [1, 2, 3, 4, 5, 6, 7]  [22, 24, 24, 23, 22, 23, 26]   \n",
       "15  [1, 2, 3, 4, 5, 6, 7]  [24, 26, 26, 26, 20, 26, 28]   \n",
       "16  [1, 2, 3, 4, 5, 6, 7]  [24, 25, 24, 24, 22, 24, 27]   \n",
       "17  [1, 2, 3, 4, 5, 6, 7]  [20, 21, 21, 21, 23, 24, 22]   \n",
       "18  [1, 2, 3, 4, 5, 6, 7]  [21, 21, 21, 22, 21, 21, 22]   \n",
       "19  [1, 2, 3, 4, 5, 6, 7]  [21, 19, 19, 20, 20, 20, 21]   \n",
       "20  [1, 2, 3, 4, 5, 6, 7]  [21, 19, 19, 20, 20, 20, 20]   \n",
       "21  [1, 2, 3, 4, 5, 6, 7]  [23, 22, 22, 23, 25, 25, 26]   \n",
       "22  [1, 2, 3, 4, 5, 6, 7]  [26, 25, 26, 25, 27, 27, 27]   \n",
       "23  [1, 2, 3, 4, 5, 6, 7]  [26, 24, 24, 24, 27, 27, 27]   \n",
       "24  [1, 2, 3, 4, 5, 6, 7]  [26, 24, 23, 24, 28, 27, 26]   \n",
       "25  [1, 2, 3, 4, 5, 6, 7]  [21, 19, 19, 20, 23, 22, 21]   \n",
       "26  [1, 2, 3, 4, 5, 6, 7]  [19, 18, 18, 18, 22, 20, 20]   \n",
       "27  [1, 2, 3, 4, 5, 6, 7]  [22, 22, 23, 21, 24, 23, 23]   \n",
       "28  [1, 2, 3, 4, 5, 6, 7]  [25, 24, 23, 25, 28, 27, 27]   \n",
       "29  [1, 2, 3, 4, 5, 6, 7]  [24, 26, 25, 23, 26, 27, 27]   \n",
       "30  [1, 2, 3, 4, 5, 6, 7]  [23, 24, 23, 22, 26, 27, 27]   \n",
       "31  [1, 2, 3, 4, 5, 6, 7]  [23, 25, 24, 20, 26, 28, 27]   \n",
       "32  [1, 2, 3, 4, 5, 6, 7]  [21, 20, 21, 17, 24, 27, 23]   \n",
       "33  [1, 2, 3, 4, 5, 6, 7]  [22, 21, 22, 18, 25, 28, 24]   \n",
       "34  [1, 2, 3, 4, 5, 6, 7]  [19, 18, 18, 18, 20, 23, 22]   \n",
       "\n",
       "           probabilite_de_pluie  \\\n",
       "0       [0, 43, 21, 0, 0, 0, 0]   \n",
       "1       [0, 55, 20, 0, 0, 0, 0]   \n",
       "2       [0, 53, 37, 0, 0, 0, 0]   \n",
       "3       [0, 42, 36, 0, 0, 0, 0]   \n",
       "4       [0, 43, 18, 0, 0, 0, 0]   \n",
       "5         [0, 3, 4, 0, 0, 0, 0]   \n",
       "6       [0, 54, 39, 0, 0, 0, 0]   \n",
       "7       [0, 85, 86, 0, 0, 0, 0]   \n",
       "8      [0, 17, 71, 81, 0, 0, 0]   \n",
       "9      [0, 13, 92, 96, 0, 0, 0]   \n",
       "10      [0, 5, 96, 98, 0, 0, 0]   \n",
       "11      [0, 5, 98, 99, 0, 0, 0]   \n",
       "12      [5, 0, 99, 99, 1, 0, 8]   \n",
       "13     [20, 5, 98, 98, 0, 0, 6]   \n",
       "14    [37, 1, 6, 63, 56, 0, 56]   \n",
       "15    [45, 0, 0, 38, 12, 0, 60]   \n",
       "16    [0, 0, 18, 70, 41, 0, 64]   \n",
       "17   [40, 13, 0, 2, 49, 24, 52]   \n",
       "18        [3, 0, 0, 0, 5, 1, 6]   \n",
       "19        [1, 0, 0, 0, 0, 0, 0]   \n",
       "20        [1, 0, 0, 0, 0, 0, 1]   \n",
       "21        [9, 0, 0, 0, 0, 0, 8]   \n",
       "22        [3, 0, 0, 9, 0, 0, 7]   \n",
       "23      [0, 0, 0, 26, 1, 7, 28]   \n",
       "24       [0, 0, 0, 20, 2, 7, 8]   \n",
       "25       [0, 0, 0, 17, 7, 8, 2]   \n",
       "26        [0, 0, 0, 3, 1, 6, 0]   \n",
       "27    [0, 0, 0, 18, 33, 25, 14]   \n",
       "28    [0, 0, 2, 43, 25, 32, 18]   \n",
       "29   [0, 0, 39, 56, 57, 63, 41]   \n",
       "30   [0, 0, 10, 12, 12, 37, 14]   \n",
       "31    [0, 0, 34, 14, 0, 27, 28]   \n",
       "32  [0, 95, 95, 71, 52, 91, 83]   \n",
       "33  [0, 96, 96, 72, 48, 91, 84]   \n",
       "34       [0, 0, 5, 3, 0, 1, 24]   \n",
       "\n",
       "                                     meteo_principale  \n",
       "0   [Clouds, Clear, Clouds, Clouds, Clear, Clouds,...  \n",
       "1   [Clouds, Rain, Clouds, Clouds, Clear, Clouds, ...  \n",
       "2   [Clouds, Rain, Clouds, Clouds, Clear, Clear, C...  \n",
       "3   [Clouds, Rain, Clouds, Clouds, Clouds, Clear, ...  \n",
       "4   [Clouds, Rain, Clouds, Clouds, Clouds, Clear, ...  \n",
       "5   [Clouds, Clear, Clouds, Clouds, Clear, Clouds,...  \n",
       "6   [Clouds, Rain, Clouds, Clouds, Clouds, Clouds,...  \n",
       "7   [Clouds, Rain, Rain, Clouds, Clouds, Clouds, C...  \n",
       "8   [Clouds, Clouds, Rain, Rain, Clouds, Clear, Cl...  \n",
       "9   [Clouds, Clouds, Rain, Rain, Clouds, Clear, Cl...  \n",
       "10  [Clouds, Clouds, Rain, Rain, Clouds, Clear, Cl...  \n",
       "11  [Clouds, Clouds, Rain, Rain, Clear, Clear, Clo...  \n",
       "12  [Clouds, Clouds, Rain, Rain, Clouds, Clouds, C...  \n",
       "13  [Rain, Clear, Rain, Rain, Clouds, Clouds, Clouds]  \n",
       "14  [Clouds, Clouds, Clouds, Rain, Rain, Clear, Rain]  \n",
       "15  [Clouds, Clouds, Clouds, Rain, Clouds, Clouds,...  \n",
       "16  [Clouds, Clouds, Clouds, Rain, Clear, Clear, R...  \n",
       "17  [Rain, Clouds, Clouds, Clouds, Rain, Clear, Rain]  \n",
       "18  [Clear, Clouds, Clouds, Clouds, Clouds, Clear,...  \n",
       "19  [Clear, Clouds, Clouds, Clouds, Clouds, Clouds...  \n",
       "20  [Clear, Clouds, Clouds, Clouds, Clouds, Clouds...  \n",
       "21  [Clear, Clouds, Clouds, Clouds, Clouds, Clouds...  \n",
       "22  [Clear, Clouds, Clouds, Clouds, Clouds, Clouds...  \n",
       "23  [Clouds, Clouds, Clouds, Clouds, Clouds, Cloud...  \n",
       "24  [Clouds, Clouds, Clouds, Clouds, Clouds, Cloud...  \n",
       "25  [Clouds, Clouds, Clouds, Clouds, Clear, Clouds...  \n",
       "26  [Clear, Clouds, Clouds, Clouds, Clear, Clouds,...  \n",
       "27  [Clouds, Clouds, Clouds, Clouds, Rain, Rain, C...  \n",
       "28  [Clouds, Clouds, Clouds, Clouds, Clouds, Rain,...  \n",
       "29      [Clouds, Clear, Rain, Rain, Rain, Rain, Rain]  \n",
       "30  [Clouds, Clear, Clouds, Clouds, Clouds, Rain, ...  \n",
       "31  [Clouds, Clear, Clouds, Clouds, Clouds, Rain, ...  \n",
       "32     [Clouds, Rain, Rain, Rain, Clouds, Rain, Rain]  \n",
       "33     [Clouds, Rain, Rain, Rain, Clouds, Rain, Rain]  \n",
       "34  [Clouds, Clouds, Clouds, Clouds, Clear, Clouds...  "
      ]
     },
     "execution_count": 13,
     "metadata": {},
     "output_type": "execute_result"
    }
   ],
   "source": [
    "import numpy as np\n",
    "\n",
    "df_weather = df_gps.copy(deep=True)\n",
    "my_api_key = \"aa423e6694bf72625fe1fe31544949dc\"\n",
    "\n",
    "temperatures_list = []\n",
    "rain_list = []\n",
    "weather_list = []\n",
    "\n",
    "days = list(range(1, 8))\n",
    "\n",
    "for i in df_weather.itertuples():\n",
    "    lat = i.lat\n",
    "    lon = i.lon\n",
    "\n",
    "    parameters = {\n",
    "        \"lat\": {lat},\n",
    "        \"lon\": {lon},\n",
    "        \"exclude\": \"current,minutely,hourly\",\n",
    "        \"units\": \"metric\",\n",
    "        \"appid\": \"aa423e6694bf72625fe1fe31544949dc\",\n",
    "        \"lang\": \"fr\",\n",
    "    }\n",
    "\n",
    "    r = requests.get(\n",
    "        f\"https://api.openweathermap.org/data/2.5/onecall?\", parameters\n",
    "    ).json()\n",
    "    forecast_7days = r[\"daily\"][\n",
    "        1:\n",
    "    ]  # Getting the weather data for the next 7 days, first item is the current weather, which we don't want here\n",
    "    temperatures = [int(d[\"feels_like\"][\"day\"]) for d in forecast_7days]\n",
    "    rain = [int(d[\"pop\"] * 100) for d in forecast_7days]\n",
    "    weather = [str(d[\"weather\"][0][\"main\"]) for d in forecast_7days]\n",
    "    temperatures_list.append(temperatures)\n",
    "    rain_list.append(rain)\n",
    "    weather_list.append(weather)\n",
    "\n",
    "df_weather[\"jour_+x\"] = [days for _ in range(len(df_weather))]\n",
    "df_weather[\"temperature_ressentie\"] = temperatures_list\n",
    "df_weather[\"probabilite_de_pluie\"] = rain_list\n",
    "df_weather[\"meteo_principale\"] = weather_list\n",
    "\n",
    "df_weather\n"
   ]
  },
  {
   "cell_type": "code",
   "execution_count": 14,
   "metadata": {},
   "outputs": [
    {
     "name": "stdout",
     "output_type": "stream",
     "text": [
      "<class 'pandas.core.frame.DataFrame'>\n",
      "RangeIndex: 35 entries, 0 to 34\n",
      "Data columns (total 8 columns):\n",
      " #   Column                 Non-Null Count  Dtype \n",
      "---  ------                 --------------  ----- \n",
      " 0   id                     35 non-null     int64 \n",
      " 1   city                   35 non-null     object\n",
      " 2   lat                    35 non-null     object\n",
      " 3   lon                    35 non-null     object\n",
      " 4   jour_+x                35 non-null     object\n",
      " 5   temperature_ressentie  35 non-null     object\n",
      " 6   probabilite_de_pluie   35 non-null     object\n",
      " 7   meteo_principale       35 non-null     object\n",
      "dtypes: int64(1), object(7)\n",
      "memory usage: 2.3+ KB\n"
     ]
    }
   ],
   "source": [
    "df_weather.info()\n"
   ]
  },
  {
   "cell_type": "code",
   "execution_count": 15,
   "metadata": {},
   "outputs": [],
   "source": [
    "df_weather[[\"lat\", \"lon\"]] = df_weather[[\"lat\", \"lon\"]].astype(float)\n"
   ]
  },
  {
   "cell_type": "code",
   "execution_count": 16,
   "metadata": {},
   "outputs": [],
   "source": [
    "df = df_weather.apply(pd.Series.explode)\n"
   ]
  },
  {
   "cell_type": "code",
   "execution_count": 17,
   "metadata": {},
   "outputs": [
    {
     "data": {
      "text/html": [
       "<div>\n",
       "<style scoped>\n",
       "    .dataframe tbody tr th:only-of-type {\n",
       "        vertical-align: middle;\n",
       "    }\n",
       "\n",
       "    .dataframe tbody tr th {\n",
       "        vertical-align: top;\n",
       "    }\n",
       "\n",
       "    .dataframe thead th {\n",
       "        text-align: right;\n",
       "    }\n",
       "</style>\n",
       "<table border=\"1\" class=\"dataframe\">\n",
       "  <thead>\n",
       "    <tr style=\"text-align: right;\">\n",
       "      <th></th>\n",
       "      <th>id</th>\n",
       "      <th>city</th>\n",
       "      <th>lat</th>\n",
       "      <th>lon</th>\n",
       "      <th>jour_+x</th>\n",
       "      <th>temperature_ressentie</th>\n",
       "      <th>probabilite_de_pluie</th>\n",
       "      <th>meteo_principale</th>\n",
       "    </tr>\n",
       "  </thead>\n",
       "  <tbody>\n",
       "    <tr>\n",
       "      <th>0</th>\n",
       "      <td>0</td>\n",
       "      <td>Mont Saint Michel</td>\n",
       "      <td>48.635954</td>\n",
       "      <td>-1.511460</td>\n",
       "      <td>1</td>\n",
       "      <td>19</td>\n",
       "      <td>0</td>\n",
       "      <td>Clouds</td>\n",
       "    </tr>\n",
       "    <tr>\n",
       "      <th>0</th>\n",
       "      <td>0</td>\n",
       "      <td>Mont Saint Michel</td>\n",
       "      <td>48.635954</td>\n",
       "      <td>-1.511460</td>\n",
       "      <td>2</td>\n",
       "      <td>19</td>\n",
       "      <td>43</td>\n",
       "      <td>Clear</td>\n",
       "    </tr>\n",
       "    <tr>\n",
       "      <th>0</th>\n",
       "      <td>0</td>\n",
       "      <td>Mont Saint Michel</td>\n",
       "      <td>48.635954</td>\n",
       "      <td>-1.511460</td>\n",
       "      <td>3</td>\n",
       "      <td>14</td>\n",
       "      <td>21</td>\n",
       "      <td>Clouds</td>\n",
       "    </tr>\n",
       "    <tr>\n",
       "      <th>0</th>\n",
       "      <td>0</td>\n",
       "      <td>Mont Saint Michel</td>\n",
       "      <td>48.635954</td>\n",
       "      <td>-1.511460</td>\n",
       "      <td>4</td>\n",
       "      <td>15</td>\n",
       "      <td>0</td>\n",
       "      <td>Clouds</td>\n",
       "    </tr>\n",
       "    <tr>\n",
       "      <th>0</th>\n",
       "      <td>0</td>\n",
       "      <td>Mont Saint Michel</td>\n",
       "      <td>48.635954</td>\n",
       "      <td>-1.511460</td>\n",
       "      <td>5</td>\n",
       "      <td>18</td>\n",
       "      <td>0</td>\n",
       "      <td>Clear</td>\n",
       "    </tr>\n",
       "    <tr>\n",
       "      <th>...</th>\n",
       "      <td>...</td>\n",
       "      <td>...</td>\n",
       "      <td>...</td>\n",
       "      <td>...</td>\n",
       "      <td>...</td>\n",
       "      <td>...</td>\n",
       "      <td>...</td>\n",
       "      <td>...</td>\n",
       "    </tr>\n",
       "    <tr>\n",
       "      <th>34</th>\n",
       "      <td>34</td>\n",
       "      <td>La Rochelle</td>\n",
       "      <td>46.159113</td>\n",
       "      <td>-1.152043</td>\n",
       "      <td>3</td>\n",
       "      <td>18</td>\n",
       "      <td>5</td>\n",
       "      <td>Clouds</td>\n",
       "    </tr>\n",
       "    <tr>\n",
       "      <th>34</th>\n",
       "      <td>34</td>\n",
       "      <td>La Rochelle</td>\n",
       "      <td>46.159113</td>\n",
       "      <td>-1.152043</td>\n",
       "      <td>4</td>\n",
       "      <td>18</td>\n",
       "      <td>3</td>\n",
       "      <td>Clouds</td>\n",
       "    </tr>\n",
       "    <tr>\n",
       "      <th>34</th>\n",
       "      <td>34</td>\n",
       "      <td>La Rochelle</td>\n",
       "      <td>46.159113</td>\n",
       "      <td>-1.152043</td>\n",
       "      <td>5</td>\n",
       "      <td>20</td>\n",
       "      <td>0</td>\n",
       "      <td>Clear</td>\n",
       "    </tr>\n",
       "    <tr>\n",
       "      <th>34</th>\n",
       "      <td>34</td>\n",
       "      <td>La Rochelle</td>\n",
       "      <td>46.159113</td>\n",
       "      <td>-1.152043</td>\n",
       "      <td>6</td>\n",
       "      <td>23</td>\n",
       "      <td>1</td>\n",
       "      <td>Clouds</td>\n",
       "    </tr>\n",
       "    <tr>\n",
       "      <th>34</th>\n",
       "      <td>34</td>\n",
       "      <td>La Rochelle</td>\n",
       "      <td>46.159113</td>\n",
       "      <td>-1.152043</td>\n",
       "      <td>7</td>\n",
       "      <td>22</td>\n",
       "      <td>24</td>\n",
       "      <td>Rain</td>\n",
       "    </tr>\n",
       "  </tbody>\n",
       "</table>\n",
       "<p>245 rows × 8 columns</p>\n",
       "</div>"
      ],
      "text/plain": [
       "    id               city        lat       lon jour_+x temperature_ressentie  \\\n",
       "0    0  Mont Saint Michel  48.635954 -1.511460       1                    19   \n",
       "0    0  Mont Saint Michel  48.635954 -1.511460       2                    19   \n",
       "0    0  Mont Saint Michel  48.635954 -1.511460       3                    14   \n",
       "0    0  Mont Saint Michel  48.635954 -1.511460       4                    15   \n",
       "0    0  Mont Saint Michel  48.635954 -1.511460       5                    18   \n",
       "..  ..                ...        ...       ...     ...                   ...   \n",
       "34  34        La Rochelle  46.159113 -1.152043       3                    18   \n",
       "34  34        La Rochelle  46.159113 -1.152043       4                    18   \n",
       "34  34        La Rochelle  46.159113 -1.152043       5                    20   \n",
       "34  34        La Rochelle  46.159113 -1.152043       6                    23   \n",
       "34  34        La Rochelle  46.159113 -1.152043       7                    22   \n",
       "\n",
       "   probabilite_de_pluie meteo_principale  \n",
       "0                     0           Clouds  \n",
       "0                    43            Clear  \n",
       "0                    21           Clouds  \n",
       "0                     0           Clouds  \n",
       "0                     0            Clear  \n",
       "..                  ...              ...  \n",
       "34                    5           Clouds  \n",
       "34                    3           Clouds  \n",
       "34                    0            Clear  \n",
       "34                    1           Clouds  \n",
       "34                   24             Rain  \n",
       "\n",
       "[245 rows x 8 columns]"
      ]
     },
     "execution_count": 17,
     "metadata": {},
     "output_type": "execute_result"
    }
   ],
   "source": [
    "df\n"
   ]
  },
  {
   "cell_type": "code",
   "execution_count": 18,
   "metadata": {},
   "outputs": [
    {
     "name": "stdout",
     "output_type": "stream",
     "text": [
      "<class 'pandas.core.frame.DataFrame'>\n",
      "Int64Index: 245 entries, 0 to 34\n",
      "Data columns (total 8 columns):\n",
      " #   Column                 Non-Null Count  Dtype  \n",
      "---  ------                 --------------  -----  \n",
      " 0   id                     245 non-null    int64  \n",
      " 1   city                   245 non-null    object \n",
      " 2   lat                    245 non-null    float64\n",
      " 3   lon                    245 non-null    float64\n",
      " 4   jour_+x                245 non-null    object \n",
      " 5   temperature_ressentie  245 non-null    object \n",
      " 6   probabilite_de_pluie   245 non-null    object \n",
      " 7   meteo_principale       245 non-null    object \n",
      "dtypes: float64(2), int64(1), object(5)\n",
      "memory usage: 17.2+ KB\n"
     ]
    }
   ],
   "source": [
    "df.info()\n"
   ]
  },
  {
   "cell_type": "code",
   "execution_count": 19,
   "metadata": {},
   "outputs": [],
   "source": [
    "df[[\"jour_+x\", \"temperature_ressentie\", \"probabilite_de_pluie\"]] = df[[\"jour_+x\", \"temperature_ressentie\", \"probabilite_de_pluie\"]].astype(int)\n"
   ]
  },
  {
   "cell_type": "code",
   "execution_count": 24,
   "metadata": {},
   "outputs": [
    {
     "data": {
      "application/vnd.plotly.v1+json": {
       "config": {
        "plotlyServerURL": "https://plot.ly"
       },
       "data": [
        {
         "customdata": [
          [
           "Clouds",
           0,
           19
          ],
          [
           "Clear",
           43,
           19
          ],
          [
           "Clouds",
           21,
           14
          ],
          [
           "Clouds",
           0,
           15
          ],
          [
           "Clear",
           0,
           18
          ],
          [
           "Clouds",
           0,
           22
          ],
          [
           "Clouds",
           0,
           24
          ],
          [
           "Clouds",
           0,
           17
          ],
          [
           "Rain",
           55,
           17
          ],
          [
           "Clouds",
           20,
           13
          ],
          [
           "Clouds",
           0,
           14
          ],
          [
           "Clear",
           0,
           15
          ],
          [
           "Clouds",
           0,
           18
          ],
          [
           "Clouds",
           0,
           20
          ],
          [
           "Clouds",
           0,
           18
          ],
          [
           "Rain",
           53,
           18
          ],
          [
           "Clouds",
           37,
           15
          ],
          [
           "Clouds",
           0,
           16
          ],
          [
           "Clear",
           0,
           16
          ],
          [
           "Clear",
           0,
           19
          ],
          [
           "Clouds",
           0,
           21
          ],
          [
           "Clouds",
           0,
           15
          ],
          [
           "Rain",
           42,
           14
          ],
          [
           "Clouds",
           36,
           13
          ],
          [
           "Clouds",
           0,
           14
          ],
          [
           "Clouds",
           0,
           14
          ],
          [
           "Clear",
           0,
           18
          ],
          [
           "Clouds",
           0,
           19
          ],
          [
           "Clouds",
           0,
           20
          ],
          [
           "Rain",
           43,
           19
          ],
          [
           "Clouds",
           18,
           17
          ],
          [
           "Clouds",
           0,
           16
          ],
          [
           "Clouds",
           0,
           18
          ],
          [
           "Clear",
           0,
           20
          ],
          [
           "Clouds",
           0,
           22
          ],
          [
           "Clouds",
           0,
           23
          ],
          [
           "Clear",
           3,
           22
          ],
          [
           "Clouds",
           4,
           19
          ],
          [
           "Clouds",
           0,
           19
          ],
          [
           "Clear",
           0,
           20
          ],
          [
           "Clouds",
           0,
           22
          ],
          [
           "Clouds",
           0,
           24
          ],
          [
           "Clouds",
           0,
           20
          ],
          [
           "Rain",
           54,
           19
          ],
          [
           "Clouds",
           39,
           17
          ],
          [
           "Clouds",
           0,
           16
          ],
          [
           "Clouds",
           0,
           16
          ],
          [
           "Clouds",
           0,
           19
          ],
          [
           "Clouds",
           0,
           22
          ],
          [
           "Clouds",
           0,
           21
          ],
          [
           "Rain",
           85,
           18
          ],
          [
           "Rain",
           86,
           17
          ],
          [
           "Clouds",
           0,
           16
          ],
          [
           "Clouds",
           0,
           18
          ],
          [
           "Clouds",
           0,
           19
          ],
          [
           "Clouds",
           0,
           22
          ],
          [
           "Clouds",
           0,
           22
          ],
          [
           "Clouds",
           17,
           24
          ],
          [
           "Rain",
           71,
           23
          ],
          [
           "Rain",
           81,
           19
          ],
          [
           "Clouds",
           0,
           20
          ],
          [
           "Clear",
           0,
           21
          ],
          [
           "Clouds",
           0,
           23
          ],
          [
           "Clouds",
           0,
           19
          ],
          [
           "Clouds",
           13,
           22
          ],
          [
           "Rain",
           92,
           20
          ],
          [
           "Rain",
           96,
           15
          ],
          [
           "Clouds",
           0,
           18
          ],
          [
           "Clear",
           0,
           18
          ],
          [
           "Clouds",
           0,
           19
          ],
          [
           "Clouds",
           0,
           22
          ],
          [
           "Clouds",
           5,
           25
          ],
          [
           "Rain",
           96,
           24
          ],
          [
           "Rain",
           98,
           21
          ],
          [
           "Clouds",
           0,
           20
          ],
          [
           "Clear",
           0,
           21
          ],
          [
           "Clouds",
           0,
           23
          ],
          [
           "Clouds",
           0,
           22
          ],
          [
           "Clouds",
           5,
           26
          ],
          [
           "Rain",
           98,
           24
          ],
          [
           "Rain",
           99,
           21
          ],
          [
           "Clear",
           0,
           21
          ],
          [
           "Clear",
           0,
           21
          ],
          [
           "Clouds",
           0,
           23
          ],
          [
           "Clouds",
           5,
           21
          ],
          [
           "Clouds",
           0,
           25
          ],
          [
           "Rain",
           99,
           22
          ],
          [
           "Rain",
           99,
           20
          ],
          [
           "Clouds",
           1,
           20
          ],
          [
           "Clouds",
           0,
           23
          ],
          [
           "Clouds",
           8,
           24
          ],
          [
           "Rain",
           20,
           21
          ],
          [
           "Clear",
           5,
           23
          ],
          [
           "Rain",
           98,
           22
          ],
          [
           "Rain",
           98,
           20
          ],
          [
           "Clouds",
           0,
           19
          ],
          [
           "Clouds",
           0,
           21
          ],
          [
           "Clouds",
           6,
           23
          ],
          [
           "Clouds",
           37,
           22
          ],
          [
           "Clouds",
           1,
           24
          ],
          [
           "Clouds",
           6,
           24
          ],
          [
           "Rain",
           63,
           23
          ],
          [
           "Rain",
           56,
           22
          ],
          [
           "Clear",
           0,
           23
          ],
          [
           "Rain",
           56,
           26
          ],
          [
           "Clouds",
           45,
           24
          ],
          [
           "Clouds",
           0,
           26
          ],
          [
           "Clouds",
           0,
           26
          ],
          [
           "Rain",
           38,
           26
          ],
          [
           "Clouds",
           12,
           20
          ],
          [
           "Clouds",
           0,
           26
          ],
          [
           "Rain",
           60,
           28
          ],
          [
           "Clouds",
           0,
           24
          ],
          [
           "Clouds",
           0,
           25
          ],
          [
           "Clouds",
           18,
           24
          ],
          [
           "Rain",
           70,
           24
          ],
          [
           "Clear",
           41,
           22
          ],
          [
           "Clear",
           0,
           24
          ],
          [
           "Rain",
           64,
           27
          ],
          [
           "Rain",
           40,
           20
          ],
          [
           "Clouds",
           13,
           21
          ],
          [
           "Clouds",
           0,
           21
          ],
          [
           "Clouds",
           2,
           21
          ],
          [
           "Rain",
           49,
           23
          ],
          [
           "Clear",
           24,
           24
          ],
          [
           "Rain",
           52,
           22
          ],
          [
           "Clear",
           3,
           21
          ],
          [
           "Clouds",
           0,
           21
          ],
          [
           "Clouds",
           0,
           21
          ],
          [
           "Clouds",
           0,
           22
          ],
          [
           "Clouds",
           5,
           21
          ],
          [
           "Clear",
           1,
           21
          ],
          [
           "Clouds",
           6,
           22
          ],
          [
           "Clear",
           1,
           21
          ],
          [
           "Clouds",
           0,
           19
          ],
          [
           "Clouds",
           0,
           19
          ],
          [
           "Clouds",
           0,
           20
          ],
          [
           "Clouds",
           0,
           20
          ],
          [
           "Clouds",
           0,
           20
          ],
          [
           "Clouds",
           0,
           21
          ],
          [
           "Clear",
           1,
           21
          ],
          [
           "Clouds",
           0,
           19
          ],
          [
           "Clouds",
           0,
           19
          ],
          [
           "Clouds",
           0,
           20
          ],
          [
           "Clouds",
           0,
           20
          ],
          [
           "Clouds",
           0,
           20
          ],
          [
           "Clouds",
           1,
           20
          ],
          [
           "Clear",
           9,
           23
          ],
          [
           "Clouds",
           0,
           22
          ],
          [
           "Clouds",
           0,
           22
          ],
          [
           "Clouds",
           0,
           23
          ],
          [
           "Clouds",
           0,
           25
          ],
          [
           "Clouds",
           0,
           25
          ],
          [
           "Clouds",
           8,
           26
          ],
          [
           "Clear",
           3,
           26
          ],
          [
           "Clouds",
           0,
           25
          ],
          [
           "Clouds",
           0,
           26
          ],
          [
           "Clouds",
           9,
           25
          ],
          [
           "Clouds",
           0,
           27
          ],
          [
           "Clouds",
           0,
           27
          ],
          [
           "Clouds",
           7,
           27
          ],
          [
           "Clouds",
           0,
           26
          ],
          [
           "Clouds",
           0,
           24
          ],
          [
           "Clouds",
           0,
           24
          ],
          [
           "Clouds",
           26,
           24
          ],
          [
           "Clouds",
           1,
           27
          ],
          [
           "Clouds",
           7,
           27
          ],
          [
           "Rain",
           28,
           27
          ],
          [
           "Clouds",
           0,
           26
          ],
          [
           "Clouds",
           0,
           24
          ],
          [
           "Clouds",
           0,
           23
          ],
          [
           "Clouds",
           20,
           24
          ],
          [
           "Clouds",
           2,
           28
          ],
          [
           "Clouds",
           7,
           27
          ],
          [
           "Clouds",
           8,
           26
          ],
          [
           "Clouds",
           0,
           21
          ],
          [
           "Clouds",
           0,
           19
          ],
          [
           "Clouds",
           0,
           19
          ],
          [
           "Clouds",
           17,
           20
          ],
          [
           "Clear",
           7,
           23
          ],
          [
           "Clouds",
           8,
           22
          ],
          [
           "Clouds",
           2,
           21
          ],
          [
           "Clear",
           0,
           19
          ],
          [
           "Clouds",
           0,
           18
          ],
          [
           "Clouds",
           0,
           18
          ],
          [
           "Clouds",
           3,
           18
          ],
          [
           "Clear",
           1,
           22
          ],
          [
           "Clouds",
           6,
           20
          ],
          [
           "Clouds",
           0,
           20
          ],
          [
           "Clouds",
           0,
           22
          ],
          [
           "Clouds",
           0,
           22
          ],
          [
           "Clouds",
           0,
           23
          ],
          [
           "Clouds",
           18,
           21
          ],
          [
           "Rain",
           33,
           24
          ],
          [
           "Rain",
           25,
           23
          ],
          [
           "Clouds",
           14,
           23
          ],
          [
           "Clouds",
           0,
           25
          ],
          [
           "Clouds",
           0,
           24
          ],
          [
           "Clouds",
           2,
           23
          ],
          [
           "Clouds",
           43,
           25
          ],
          [
           "Clouds",
           25,
           28
          ],
          [
           "Rain",
           32,
           27
          ],
          [
           "Clouds",
           18,
           27
          ],
          [
           "Clouds",
           0,
           24
          ],
          [
           "Clear",
           0,
           26
          ],
          [
           "Rain",
           39,
           25
          ],
          [
           "Rain",
           56,
           23
          ],
          [
           "Rain",
           57,
           26
          ],
          [
           "Rain",
           63,
           27
          ],
          [
           "Rain",
           41,
           27
          ],
          [
           "Clouds",
           0,
           23
          ],
          [
           "Clear",
           0,
           24
          ],
          [
           "Clouds",
           10,
           23
          ],
          [
           "Clouds",
           12,
           22
          ],
          [
           "Clouds",
           12,
           26
          ],
          [
           "Rain",
           37,
           27
          ],
          [
           "Clouds",
           14,
           27
          ],
          [
           "Clouds",
           0,
           23
          ],
          [
           "Clear",
           0,
           25
          ],
          [
           "Clouds",
           34,
           24
          ],
          [
           "Clouds",
           14,
           20
          ],
          [
           "Clouds",
           0,
           26
          ],
          [
           "Rain",
           27,
           28
          ],
          [
           "Clouds",
           28,
           27
          ],
          [
           "Clouds",
           0,
           21
          ],
          [
           "Rain",
           95,
           20
          ],
          [
           "Rain",
           95,
           21
          ],
          [
           "Rain",
           71,
           17
          ],
          [
           "Clouds",
           52,
           24
          ],
          [
           "Rain",
           91,
           27
          ],
          [
           "Rain",
           83,
           23
          ],
          [
           "Clouds",
           0,
           22
          ],
          [
           "Rain",
           96,
           21
          ],
          [
           "Rain",
           96,
           22
          ],
          [
           "Rain",
           72,
           18
          ],
          [
           "Clouds",
           48,
           25
          ],
          [
           "Rain",
           91,
           28
          ],
          [
           "Rain",
           84,
           24
          ],
          [
           "Clouds",
           0,
           19
          ],
          [
           "Clouds",
           0,
           18
          ],
          [
           "Clouds",
           5,
           18
          ],
          [
           "Clouds",
           3,
           18
          ],
          [
           "Clear",
           0,
           20
          ],
          [
           "Clouds",
           1,
           23
          ],
          [
           "Rain",
           24,
           22
          ]
         ],
         "hovertemplate": "<b>%{hovertext}</b><br><br>lat=%{lat}<br>lon=%{lon}<br>meteo_principale=%{customdata[0]}<br>probabilite_de_pluie=%{customdata[1]}<br>temperature_ressentie=%{marker.color}<extra></extra>",
         "hovertext": [
          "Mont Saint Michel",
          "Mont Saint Michel",
          "Mont Saint Michel",
          "Mont Saint Michel",
          "Mont Saint Michel",
          "Mont Saint Michel",
          "Mont Saint Michel",
          "St Malo",
          "St Malo",
          "St Malo",
          "St Malo",
          "St Malo",
          "St Malo",
          "St Malo",
          "Bayeux",
          "Bayeux",
          "Bayeux",
          "Bayeux",
          "Bayeux",
          "Bayeux",
          "Bayeux",
          "Le Havre",
          "Le Havre",
          "Le Havre",
          "Le Havre",
          "Le Havre",
          "Le Havre",
          "Le Havre",
          "Rouen",
          "Rouen",
          "Rouen",
          "Rouen",
          "Rouen",
          "Rouen",
          "Rouen",
          "Paris",
          "Paris",
          "Paris",
          "Paris",
          "Paris",
          "Paris",
          "Paris",
          "Amiens",
          "Amiens",
          "Amiens",
          "Amiens",
          "Amiens",
          "Amiens",
          "Amiens",
          "Lille",
          "Lille",
          "Lille",
          "Lille",
          "Lille",
          "Lille",
          "Lille",
          "Strasbourg",
          "Strasbourg",
          "Strasbourg",
          "Strasbourg",
          "Strasbourg",
          "Strasbourg",
          "Strasbourg",
          "Chateau du Haut Koenigsbourg",
          "Chateau du Haut Koenigsbourg",
          "Chateau du Haut Koenigsbourg",
          "Chateau du Haut Koenigsbourg",
          "Chateau du Haut Koenigsbourg",
          "Chateau du Haut Koenigsbourg",
          "Chateau du Haut Koenigsbourg",
          "Colmar",
          "Colmar",
          "Colmar",
          "Colmar",
          "Colmar",
          "Colmar",
          "Colmar",
          "Eguisheim",
          "Eguisheim",
          "Eguisheim",
          "Eguisheim",
          "Eguisheim",
          "Eguisheim",
          "Eguisheim",
          "Besancon",
          "Besancon",
          "Besancon",
          "Besancon",
          "Besancon",
          "Besancon",
          "Besancon",
          "Dijon",
          "Dijon",
          "Dijon",
          "Dijon",
          "Dijon",
          "Dijon",
          "Dijon",
          "Annecy",
          "Annecy",
          "Annecy",
          "Annecy",
          "Annecy",
          "Annecy",
          "Annecy",
          "Grenoble",
          "Grenoble",
          "Grenoble",
          "Grenoble",
          "Grenoble",
          "Grenoble",
          "Grenoble",
          "Lyon",
          "Lyon",
          "Lyon",
          "Lyon",
          "Lyon",
          "Lyon",
          "Lyon",
          "Gorges du Verdon",
          "Gorges du Verdon",
          "Gorges du Verdon",
          "Gorges du Verdon",
          "Gorges du Verdon",
          "Gorges du Verdon",
          "Gorges du Verdon",
          "Bormes les Mimosas",
          "Bormes les Mimosas",
          "Bormes les Mimosas",
          "Bormes les Mimosas",
          "Bormes les Mimosas",
          "Bormes les Mimosas",
          "Bormes les Mimosas",
          "Cassis",
          "Cassis",
          "Cassis",
          "Cassis",
          "Cassis",
          "Cassis",
          "Cassis",
          "Marseille",
          "Marseille",
          "Marseille",
          "Marseille",
          "Marseille",
          "Marseille",
          "Marseille",
          "Aix en Provence",
          "Aix en Provence",
          "Aix en Provence",
          "Aix en Provence",
          "Aix en Provence",
          "Aix en Provence",
          "Aix en Provence",
          "Avignon",
          "Avignon",
          "Avignon",
          "Avignon",
          "Avignon",
          "Avignon",
          "Avignon",
          "Uzes",
          "Uzes",
          "Uzes",
          "Uzes",
          "Uzes",
          "Uzes",
          "Uzes",
          "Nimes",
          "Nimes",
          "Nimes",
          "Nimes",
          "Nimes",
          "Nimes",
          "Nimes",
          "Aigues Mortes",
          "Aigues Mortes",
          "Aigues Mortes",
          "Aigues Mortes",
          "Aigues Mortes",
          "Aigues Mortes",
          "Aigues Mortes",
          "Saintes Maries de la mer",
          "Saintes Maries de la mer",
          "Saintes Maries de la mer",
          "Saintes Maries de la mer",
          "Saintes Maries de la mer",
          "Saintes Maries de la mer",
          "Saintes Maries de la mer",
          "Collioure",
          "Collioure",
          "Collioure",
          "Collioure",
          "Collioure",
          "Collioure",
          "Collioure",
          "Carcassonne",
          "Carcassonne",
          "Carcassonne",
          "Carcassonne",
          "Carcassonne",
          "Carcassonne",
          "Carcassonne",
          "Ariege",
          "Ariege",
          "Ariege",
          "Ariege",
          "Ariege",
          "Ariege",
          "Ariege",
          "Toulouse",
          "Toulouse",
          "Toulouse",
          "Toulouse",
          "Toulouse",
          "Toulouse",
          "Toulouse",
          "Montauban",
          "Montauban",
          "Montauban",
          "Montauban",
          "Montauban",
          "Montauban",
          "Montauban",
          "Biarritz",
          "Biarritz",
          "Biarritz",
          "Biarritz",
          "Biarritz",
          "Biarritz",
          "Biarritz",
          "Bayonne",
          "Bayonne",
          "Bayonne",
          "Bayonne",
          "Bayonne",
          "Bayonne",
          "Bayonne",
          "La Rochelle",
          "La Rochelle",
          "La Rochelle",
          "La Rochelle",
          "La Rochelle",
          "La Rochelle",
          "La Rochelle"
         ],
         "lat": [
          48.6359541,
          48.6359541,
          48.6359541,
          48.6359541,
          48.6359541,
          48.6359541,
          48.6359541,
          48.649518,
          48.649518,
          48.649518,
          48.649518,
          48.649518,
          48.649518,
          48.649518,
          49.2764624,
          49.2764624,
          49.2764624,
          49.2764624,
          49.2764624,
          49.2764624,
          49.2764624,
          49.4938975,
          49.4938975,
          49.4938975,
          49.4938975,
          49.4938975,
          49.4938975,
          49.4938975,
          49.4404591,
          49.4404591,
          49.4404591,
          49.4404591,
          49.4404591,
          49.4404591,
          49.4404591,
          48.8588897,
          48.8588897,
          48.8588897,
          48.8588897,
          48.8588897,
          48.8588897,
          48.8588897,
          49.8941708,
          49.8941708,
          49.8941708,
          49.8941708,
          49.8941708,
          49.8941708,
          49.8941708,
          50.6365654,
          50.6365654,
          50.6365654,
          50.6365654,
          50.6365654,
          50.6365654,
          50.6365654,
          48.584614,
          48.584614,
          48.584614,
          48.584614,
          48.584614,
          48.584614,
          48.584614,
          48.2495226,
          48.2495226,
          48.2495226,
          48.2495226,
          48.2495226,
          48.2495226,
          48.2495226,
          48.0777517,
          48.0777517,
          48.0777517,
          48.0777517,
          48.0777517,
          48.0777517,
          48.0777517,
          48.0447968,
          48.0447968,
          48.0447968,
          48.0447968,
          48.0447968,
          48.0447968,
          48.0447968,
          47.2380222,
          47.2380222,
          47.2380222,
          47.2380222,
          47.2380222,
          47.2380222,
          47.2380222,
          47.3215806,
          47.3215806,
          47.3215806,
          47.3215806,
          47.3215806,
          47.3215806,
          47.3215806,
          45.8992348,
          45.8992348,
          45.8992348,
          45.8992348,
          45.8992348,
          45.8992348,
          45.8992348,
          45.1875602,
          45.1875602,
          45.1875602,
          45.1875602,
          45.1875602,
          45.1875602,
          45.1875602,
          45.7578137,
          45.7578137,
          45.7578137,
          45.7578137,
          45.7578137,
          45.7578137,
          45.7578137,
          43.8462177,
          43.8462177,
          43.8462177,
          43.8462177,
          43.8462177,
          43.8462177,
          43.8462177,
          43.1572172,
          43.1572172,
          43.1572172,
          43.1572172,
          43.1572172,
          43.1572172,
          43.1572172,
          43.2140359,
          43.2140359,
          43.2140359,
          43.2140359,
          43.2140359,
          43.2140359,
          43.2140359,
          43.2961743,
          43.2961743,
          43.2961743,
          43.2961743,
          43.2961743,
          43.2961743,
          43.2961743,
          43.5298424,
          43.5298424,
          43.5298424,
          43.5298424,
          43.5298424,
          43.5298424,
          43.5298424,
          43.9492493,
          43.9492493,
          43.9492493,
          43.9492493,
          43.9492493,
          43.9492493,
          43.9492493,
          44.0121279,
          44.0121279,
          44.0121279,
          44.0121279,
          44.0121279,
          44.0121279,
          44.0121279,
          43.8374249,
          43.8374249,
          43.8374249,
          43.8374249,
          43.8374249,
          43.8374249,
          43.8374249,
          43.5658225,
          43.5658225,
          43.5658225,
          43.5658225,
          43.5658225,
          43.5658225,
          43.5658225,
          43.4522771,
          43.4522771,
          43.4522771,
          43.4522771,
          43.4522771,
          43.4522771,
          43.4522771,
          42.52505,
          42.52505,
          42.52505,
          42.52505,
          42.52505,
          42.52505,
          42.52505,
          43.2130358,
          43.2130358,
          43.2130358,
          43.2130358,
          43.2130358,
          43.2130358,
          43.2130358,
          42.9638998,
          42.9638998,
          42.9638998,
          42.9638998,
          42.9638998,
          42.9638998,
          42.9638998,
          43.6044622,
          43.6044622,
          43.6044622,
          43.6044622,
          43.6044622,
          43.6044622,
          43.6044622,
          44.0175835,
          44.0175835,
          44.0175835,
          44.0175835,
          44.0175835,
          44.0175835,
          44.0175835,
          43.4832523,
          43.4832523,
          43.4832523,
          43.4832523,
          43.4832523,
          43.4832523,
          43.4832523,
          43.4933379,
          43.4933379,
          43.4933379,
          43.4933379,
          43.4933379,
          43.4933379,
          43.4933379,
          46.1591126,
          46.1591126,
          46.1591126,
          46.1591126,
          46.1591126,
          46.1591126,
          46.1591126
         ],
         "legendgroup": "",
         "lon": [
          -1.511459954959514,
          -1.511459954959514,
          -1.511459954959514,
          -1.511459954959514,
          -1.511459954959514,
          -1.511459954959514,
          -1.511459954959514,
          -2.0260409,
          -2.0260409,
          -2.0260409,
          -2.0260409,
          -2.0260409,
          -2.0260409,
          -2.0260409,
          -0.7024738,
          -0.7024738,
          -0.7024738,
          -0.7024738,
          -0.7024738,
          -0.7024738,
          -0.7024738,
          0.1079732,
          0.1079732,
          0.1079732,
          0.1079732,
          0.1079732,
          0.1079732,
          0.1079732,
          1.0939658,
          1.0939658,
          1.0939658,
          1.0939658,
          1.0939658,
          1.0939658,
          1.0939658,
          2.3200410217200766,
          2.3200410217200766,
          2.3200410217200766,
          2.3200410217200766,
          2.3200410217200766,
          2.3200410217200766,
          2.3200410217200766,
          2.2956951,
          2.2956951,
          2.2956951,
          2.2956951,
          2.2956951,
          2.2956951,
          2.2956951,
          3.0635282,
          3.0635282,
          3.0635282,
          3.0635282,
          3.0635282,
          3.0635282,
          3.0635282,
          7.7507127,
          7.7507127,
          7.7507127,
          7.7507127,
          7.7507127,
          7.7507127,
          7.7507127,
          7.3454923,
          7.3454923,
          7.3454923,
          7.3454923,
          7.3454923,
          7.3454923,
          7.3454923,
          7.3579641,
          7.3579641,
          7.3579641,
          7.3579641,
          7.3579641,
          7.3579641,
          7.3579641,
          7.3079618,
          7.3079618,
          7.3079618,
          7.3079618,
          7.3079618,
          7.3079618,
          7.3079618,
          6.0243622,
          6.0243622,
          6.0243622,
          6.0243622,
          6.0243622,
          6.0243622,
          6.0243622,
          5.0414701,
          5.0414701,
          5.0414701,
          5.0414701,
          5.0414701,
          5.0414701,
          5.0414701,
          6.1288847,
          6.1288847,
          6.1288847,
          6.1288847,
          6.1288847,
          6.1288847,
          6.1288847,
          5.7357819,
          5.7357819,
          5.7357819,
          5.7357819,
          5.7357819,
          5.7357819,
          5.7357819,
          4.8320114,
          4.8320114,
          4.8320114,
          4.8320114,
          4.8320114,
          4.8320114,
          4.8320114,
          6.5131814,
          6.5131814,
          6.5131814,
          6.5131814,
          6.5131814,
          6.5131814,
          6.5131814,
          6.329253867921363,
          6.329253867921363,
          6.329253867921363,
          6.329253867921363,
          6.329253867921363,
          6.329253867921363,
          6.329253867921363,
          5.5396318,
          5.5396318,
          5.5396318,
          5.5396318,
          5.5396318,
          5.5396318,
          5.5396318,
          5.3699525,
          5.3699525,
          5.3699525,
          5.3699525,
          5.3699525,
          5.3699525,
          5.3699525,
          5.4474738,
          5.4474738,
          5.4474738,
          5.4474738,
          5.4474738,
          5.4474738,
          5.4474738,
          4.8059012,
          4.8059012,
          4.8059012,
          4.8059012,
          4.8059012,
          4.8059012,
          4.8059012,
          4.4196718,
          4.4196718,
          4.4196718,
          4.4196718,
          4.4196718,
          4.4196718,
          4.4196718,
          4.3600687,
          4.3600687,
          4.3600687,
          4.3600687,
          4.3600687,
          4.3600687,
          4.3600687,
          4.1912837,
          4.1912837,
          4.1912837,
          4.1912837,
          4.1912837,
          4.1912837,
          4.1912837,
          4.4287172,
          4.4287172,
          4.4287172,
          4.4287172,
          4.4287172,
          4.4287172,
          4.4287172,
          3.0831554,
          3.0831554,
          3.0831554,
          3.0831554,
          3.0831554,
          3.0831554,
          3.0831554,
          2.3491069,
          2.3491069,
          2.3491069,
          2.3491069,
          2.3491069,
          2.3491069,
          2.3491069,
          1.6053807,
          1.6053807,
          1.6053807,
          1.6053807,
          1.6053807,
          1.6053807,
          1.6053807,
          1.4442469,
          1.4442469,
          1.4442469,
          1.4442469,
          1.4442469,
          1.4442469,
          1.4442469,
          1.3549991,
          1.3549991,
          1.3549991,
          1.3549991,
          1.3549991,
          1.3549991,
          1.3549991,
          -1.5592776,
          -1.5592776,
          -1.5592776,
          -1.5592776,
          -1.5592776,
          -1.5592776,
          -1.5592776,
          -1.475099,
          -1.475099,
          -1.475099,
          -1.475099,
          -1.475099,
          -1.475099,
          -1.475099,
          -1.1520434,
          -1.1520434,
          -1.1520434,
          -1.1520434,
          -1.1520434,
          -1.1520434,
          -1.1520434
         ],
         "marker": {
          "color": [
           19,
           19,
           14,
           15,
           18,
           22,
           24,
           17,
           17,
           13,
           14,
           15,
           18,
           20,
           18,
           18,
           15,
           16,
           16,
           19,
           21,
           15,
           14,
           13,
           14,
           14,
           18,
           19,
           20,
           19,
           17,
           16,
           18,
           20,
           22,
           23,
           22,
           19,
           19,
           20,
           22,
           24,
           20,
           19,
           17,
           16,
           16,
           19,
           22,
           21,
           18,
           17,
           16,
           18,
           19,
           22,
           22,
           24,
           23,
           19,
           20,
           21,
           23,
           19,
           22,
           20,
           15,
           18,
           18,
           19,
           22,
           25,
           24,
           21,
           20,
           21,
           23,
           22,
           26,
           24,
           21,
           21,
           21,
           23,
           21,
           25,
           22,
           20,
           20,
           23,
           24,
           21,
           23,
           22,
           20,
           19,
           21,
           23,
           22,
           24,
           24,
           23,
           22,
           23,
           26,
           24,
           26,
           26,
           26,
           20,
           26,
           28,
           24,
           25,
           24,
           24,
           22,
           24,
           27,
           20,
           21,
           21,
           21,
           23,
           24,
           22,
           21,
           21,
           21,
           22,
           21,
           21,
           22,
           21,
           19,
           19,
           20,
           20,
           20,
           21,
           21,
           19,
           19,
           20,
           20,
           20,
           20,
           23,
           22,
           22,
           23,
           25,
           25,
           26,
           26,
           25,
           26,
           25,
           27,
           27,
           27,
           26,
           24,
           24,
           24,
           27,
           27,
           27,
           26,
           24,
           23,
           24,
           28,
           27,
           26,
           21,
           19,
           19,
           20,
           23,
           22,
           21,
           19,
           18,
           18,
           18,
           22,
           20,
           20,
           22,
           22,
           23,
           21,
           24,
           23,
           23,
           25,
           24,
           23,
           25,
           28,
           27,
           27,
           24,
           26,
           25,
           23,
           26,
           27,
           27,
           23,
           24,
           23,
           22,
           26,
           27,
           27,
           23,
           25,
           24,
           20,
           26,
           28,
           27,
           21,
           20,
           21,
           17,
           24,
           27,
           23,
           22,
           21,
           22,
           18,
           25,
           28,
           24,
           19,
           18,
           18,
           18,
           20,
           23,
           22
          ],
          "coloraxis": "coloraxis"
         },
         "mode": "markers",
         "name": "",
         "showlegend": false,
         "subplot": "mapbox",
         "type": "scattermapbox"
        }
       ],
       "layout": {
        "coloraxis": {
         "colorbar": {
          "title": {
           "text": "temperature_ressentie"
          }
         },
         "colorscale": [
          [
           0,
           "rgb(3, 35, 51)"
          ],
          [
           0.09090909090909091,
           "rgb(13, 48, 100)"
          ],
          [
           0.18181818181818182,
           "rgb(53, 50, 155)"
          ],
          [
           0.2727272727272727,
           "rgb(93, 62, 153)"
          ],
          [
           0.36363636363636365,
           "rgb(126, 77, 143)"
          ],
          [
           0.45454545454545453,
           "rgb(158, 89, 135)"
          ],
          [
           0.5454545454545454,
           "rgb(193, 100, 121)"
          ],
          [
           0.6363636363636364,
           "rgb(225, 113, 97)"
          ],
          [
           0.7272727272727273,
           "rgb(246, 139, 69)"
          ],
          [
           0.8181818181818182,
           "rgb(251, 173, 60)"
          ],
          [
           0.9090909090909091,
           "rgb(246, 211, 70)"
          ],
          [
           1,
           "rgb(231, 250, 90)"
          ]
         ]
        },
        "legend": {
         "tracegroupgap": 0
        },
        "mapbox": {
         "center": {
          "lat": 45.8447696257143,
          "lon": 3.4063278524194835
         },
         "domain": {
          "x": [
           0,
           1
          ],
          "y": [
           0,
           1
          ]
         },
         "style": "carto-positron",
         "zoom": 4
        },
        "margin": {
         "t": 60
        },
        "template": {
         "data": {
          "bar": [
           {
            "error_x": {
             "color": "#2a3f5f"
            },
            "error_y": {
             "color": "#2a3f5f"
            },
            "marker": {
             "line": {
              "color": "#E5ECF6",
              "width": 0.5
             },
             "pattern": {
              "fillmode": "overlay",
              "size": 10,
              "solidity": 0.2
             }
            },
            "type": "bar"
           }
          ],
          "barpolar": [
           {
            "marker": {
             "line": {
              "color": "#E5ECF6",
              "width": 0.5
             },
             "pattern": {
              "fillmode": "overlay",
              "size": 10,
              "solidity": 0.2
             }
            },
            "type": "barpolar"
           }
          ],
          "carpet": [
           {
            "aaxis": {
             "endlinecolor": "#2a3f5f",
             "gridcolor": "white",
             "linecolor": "white",
             "minorgridcolor": "white",
             "startlinecolor": "#2a3f5f"
            },
            "baxis": {
             "endlinecolor": "#2a3f5f",
             "gridcolor": "white",
             "linecolor": "white",
             "minorgridcolor": "white",
             "startlinecolor": "#2a3f5f"
            },
            "type": "carpet"
           }
          ],
          "choropleth": [
           {
            "colorbar": {
             "outlinewidth": 0,
             "ticks": ""
            },
            "type": "choropleth"
           }
          ],
          "contour": [
           {
            "colorbar": {
             "outlinewidth": 0,
             "ticks": ""
            },
            "colorscale": [
             [
              0,
              "#0d0887"
             ],
             [
              0.1111111111111111,
              "#46039f"
             ],
             [
              0.2222222222222222,
              "#7201a8"
             ],
             [
              0.3333333333333333,
              "#9c179e"
             ],
             [
              0.4444444444444444,
              "#bd3786"
             ],
             [
              0.5555555555555556,
              "#d8576b"
             ],
             [
              0.6666666666666666,
              "#ed7953"
             ],
             [
              0.7777777777777778,
              "#fb9f3a"
             ],
             [
              0.8888888888888888,
              "#fdca26"
             ],
             [
              1,
              "#f0f921"
             ]
            ],
            "type": "contour"
           }
          ],
          "contourcarpet": [
           {
            "colorbar": {
             "outlinewidth": 0,
             "ticks": ""
            },
            "type": "contourcarpet"
           }
          ],
          "heatmap": [
           {
            "colorbar": {
             "outlinewidth": 0,
             "ticks": ""
            },
            "colorscale": [
             [
              0,
              "#0d0887"
             ],
             [
              0.1111111111111111,
              "#46039f"
             ],
             [
              0.2222222222222222,
              "#7201a8"
             ],
             [
              0.3333333333333333,
              "#9c179e"
             ],
             [
              0.4444444444444444,
              "#bd3786"
             ],
             [
              0.5555555555555556,
              "#d8576b"
             ],
             [
              0.6666666666666666,
              "#ed7953"
             ],
             [
              0.7777777777777778,
              "#fb9f3a"
             ],
             [
              0.8888888888888888,
              "#fdca26"
             ],
             [
              1,
              "#f0f921"
             ]
            ],
            "type": "heatmap"
           }
          ],
          "heatmapgl": [
           {
            "colorbar": {
             "outlinewidth": 0,
             "ticks": ""
            },
            "colorscale": [
             [
              0,
              "#0d0887"
             ],
             [
              0.1111111111111111,
              "#46039f"
             ],
             [
              0.2222222222222222,
              "#7201a8"
             ],
             [
              0.3333333333333333,
              "#9c179e"
             ],
             [
              0.4444444444444444,
              "#bd3786"
             ],
             [
              0.5555555555555556,
              "#d8576b"
             ],
             [
              0.6666666666666666,
              "#ed7953"
             ],
             [
              0.7777777777777778,
              "#fb9f3a"
             ],
             [
              0.8888888888888888,
              "#fdca26"
             ],
             [
              1,
              "#f0f921"
             ]
            ],
            "type": "heatmapgl"
           }
          ],
          "histogram": [
           {
            "marker": {
             "pattern": {
              "fillmode": "overlay",
              "size": 10,
              "solidity": 0.2
             }
            },
            "type": "histogram"
           }
          ],
          "histogram2d": [
           {
            "colorbar": {
             "outlinewidth": 0,
             "ticks": ""
            },
            "colorscale": [
             [
              0,
              "#0d0887"
             ],
             [
              0.1111111111111111,
              "#46039f"
             ],
             [
              0.2222222222222222,
              "#7201a8"
             ],
             [
              0.3333333333333333,
              "#9c179e"
             ],
             [
              0.4444444444444444,
              "#bd3786"
             ],
             [
              0.5555555555555556,
              "#d8576b"
             ],
             [
              0.6666666666666666,
              "#ed7953"
             ],
             [
              0.7777777777777778,
              "#fb9f3a"
             ],
             [
              0.8888888888888888,
              "#fdca26"
             ],
             [
              1,
              "#f0f921"
             ]
            ],
            "type": "histogram2d"
           }
          ],
          "histogram2dcontour": [
           {
            "colorbar": {
             "outlinewidth": 0,
             "ticks": ""
            },
            "colorscale": [
             [
              0,
              "#0d0887"
             ],
             [
              0.1111111111111111,
              "#46039f"
             ],
             [
              0.2222222222222222,
              "#7201a8"
             ],
             [
              0.3333333333333333,
              "#9c179e"
             ],
             [
              0.4444444444444444,
              "#bd3786"
             ],
             [
              0.5555555555555556,
              "#d8576b"
             ],
             [
              0.6666666666666666,
              "#ed7953"
             ],
             [
              0.7777777777777778,
              "#fb9f3a"
             ],
             [
              0.8888888888888888,
              "#fdca26"
             ],
             [
              1,
              "#f0f921"
             ]
            ],
            "type": "histogram2dcontour"
           }
          ],
          "mesh3d": [
           {
            "colorbar": {
             "outlinewidth": 0,
             "ticks": ""
            },
            "type": "mesh3d"
           }
          ],
          "parcoords": [
           {
            "line": {
             "colorbar": {
              "outlinewidth": 0,
              "ticks": ""
             }
            },
            "type": "parcoords"
           }
          ],
          "pie": [
           {
            "automargin": true,
            "type": "pie"
           }
          ],
          "scatter": [
           {
            "fillpattern": {
             "fillmode": "overlay",
             "size": 10,
             "solidity": 0.2
            },
            "type": "scatter"
           }
          ],
          "scatter3d": [
           {
            "line": {
             "colorbar": {
              "outlinewidth": 0,
              "ticks": ""
             }
            },
            "marker": {
             "colorbar": {
              "outlinewidth": 0,
              "ticks": ""
             }
            },
            "type": "scatter3d"
           }
          ],
          "scattercarpet": [
           {
            "marker": {
             "colorbar": {
              "outlinewidth": 0,
              "ticks": ""
             }
            },
            "type": "scattercarpet"
           }
          ],
          "scattergeo": [
           {
            "marker": {
             "colorbar": {
              "outlinewidth": 0,
              "ticks": ""
             }
            },
            "type": "scattergeo"
           }
          ],
          "scattergl": [
           {
            "marker": {
             "colorbar": {
              "outlinewidth": 0,
              "ticks": ""
             }
            },
            "type": "scattergl"
           }
          ],
          "scattermapbox": [
           {
            "marker": {
             "colorbar": {
              "outlinewidth": 0,
              "ticks": ""
             }
            },
            "type": "scattermapbox"
           }
          ],
          "scatterpolar": [
           {
            "marker": {
             "colorbar": {
              "outlinewidth": 0,
              "ticks": ""
             }
            },
            "type": "scatterpolar"
           }
          ],
          "scatterpolargl": [
           {
            "marker": {
             "colorbar": {
              "outlinewidth": 0,
              "ticks": ""
             }
            },
            "type": "scatterpolargl"
           }
          ],
          "scatterternary": [
           {
            "marker": {
             "colorbar": {
              "outlinewidth": 0,
              "ticks": ""
             }
            },
            "type": "scatterternary"
           }
          ],
          "surface": [
           {
            "colorbar": {
             "outlinewidth": 0,
             "ticks": ""
            },
            "colorscale": [
             [
              0,
              "#0d0887"
             ],
             [
              0.1111111111111111,
              "#46039f"
             ],
             [
              0.2222222222222222,
              "#7201a8"
             ],
             [
              0.3333333333333333,
              "#9c179e"
             ],
             [
              0.4444444444444444,
              "#bd3786"
             ],
             [
              0.5555555555555556,
              "#d8576b"
             ],
             [
              0.6666666666666666,
              "#ed7953"
             ],
             [
              0.7777777777777778,
              "#fb9f3a"
             ],
             [
              0.8888888888888888,
              "#fdca26"
             ],
             [
              1,
              "#f0f921"
             ]
            ],
            "type": "surface"
           }
          ],
          "table": [
           {
            "cells": {
             "fill": {
              "color": "#EBF0F8"
             },
             "line": {
              "color": "white"
             }
            },
            "header": {
             "fill": {
              "color": "#C8D4E3"
             },
             "line": {
              "color": "white"
             }
            },
            "type": "table"
           }
          ]
         },
         "layout": {
          "annotationdefaults": {
           "arrowcolor": "#2a3f5f",
           "arrowhead": 0,
           "arrowwidth": 1
          },
          "autotypenumbers": "strict",
          "coloraxis": {
           "colorbar": {
            "outlinewidth": 0,
            "ticks": ""
           }
          },
          "colorscale": {
           "diverging": [
            [
             0,
             "#8e0152"
            ],
            [
             0.1,
             "#c51b7d"
            ],
            [
             0.2,
             "#de77ae"
            ],
            [
             0.3,
             "#f1b6da"
            ],
            [
             0.4,
             "#fde0ef"
            ],
            [
             0.5,
             "#f7f7f7"
            ],
            [
             0.6,
             "#e6f5d0"
            ],
            [
             0.7,
             "#b8e186"
            ],
            [
             0.8,
             "#7fbc41"
            ],
            [
             0.9,
             "#4d9221"
            ],
            [
             1,
             "#276419"
            ]
           ],
           "sequential": [
            [
             0,
             "#0d0887"
            ],
            [
             0.1111111111111111,
             "#46039f"
            ],
            [
             0.2222222222222222,
             "#7201a8"
            ],
            [
             0.3333333333333333,
             "#9c179e"
            ],
            [
             0.4444444444444444,
             "#bd3786"
            ],
            [
             0.5555555555555556,
             "#d8576b"
            ],
            [
             0.6666666666666666,
             "#ed7953"
            ],
            [
             0.7777777777777778,
             "#fb9f3a"
            ],
            [
             0.8888888888888888,
             "#fdca26"
            ],
            [
             1,
             "#f0f921"
            ]
           ],
           "sequentialminus": [
            [
             0,
             "#0d0887"
            ],
            [
             0.1111111111111111,
             "#46039f"
            ],
            [
             0.2222222222222222,
             "#7201a8"
            ],
            [
             0.3333333333333333,
             "#9c179e"
            ],
            [
             0.4444444444444444,
             "#bd3786"
            ],
            [
             0.5555555555555556,
             "#d8576b"
            ],
            [
             0.6666666666666666,
             "#ed7953"
            ],
            [
             0.7777777777777778,
             "#fb9f3a"
            ],
            [
             0.8888888888888888,
             "#fdca26"
            ],
            [
             1,
             "#f0f921"
            ]
           ]
          },
          "colorway": [
           "#636efa",
           "#EF553B",
           "#00cc96",
           "#ab63fa",
           "#FFA15A",
           "#19d3f3",
           "#FF6692",
           "#B6E880",
           "#FF97FF",
           "#FECB52"
          ],
          "font": {
           "color": "#2a3f5f"
          },
          "geo": {
           "bgcolor": "white",
           "lakecolor": "white",
           "landcolor": "#E5ECF6",
           "showlakes": true,
           "showland": true,
           "subunitcolor": "white"
          },
          "hoverlabel": {
           "align": "left"
          },
          "hovermode": "closest",
          "mapbox": {
           "style": "light"
          },
          "paper_bgcolor": "white",
          "plot_bgcolor": "#E5ECF6",
          "polar": {
           "angularaxis": {
            "gridcolor": "white",
            "linecolor": "white",
            "ticks": ""
           },
           "bgcolor": "#E5ECF6",
           "radialaxis": {
            "gridcolor": "white",
            "linecolor": "white",
            "ticks": ""
           }
          },
          "scene": {
           "xaxis": {
            "backgroundcolor": "#E5ECF6",
            "gridcolor": "white",
            "gridwidth": 2,
            "linecolor": "white",
            "showbackground": true,
            "ticks": "",
            "zerolinecolor": "white"
           },
           "yaxis": {
            "backgroundcolor": "#E5ECF6",
            "gridcolor": "white",
            "gridwidth": 2,
            "linecolor": "white",
            "showbackground": true,
            "ticks": "",
            "zerolinecolor": "white"
           },
           "zaxis": {
            "backgroundcolor": "#E5ECF6",
            "gridcolor": "white",
            "gridwidth": 2,
            "linecolor": "white",
            "showbackground": true,
            "ticks": "",
            "zerolinecolor": "white"
           }
          },
          "shapedefaults": {
           "line": {
            "color": "#2a3f5f"
           }
          },
          "ternary": {
           "aaxis": {
            "gridcolor": "white",
            "linecolor": "white",
            "ticks": ""
           },
           "baxis": {
            "gridcolor": "white",
            "linecolor": "white",
            "ticks": ""
           },
           "bgcolor": "#E5ECF6",
           "caxis": {
            "gridcolor": "white",
            "linecolor": "white",
            "ticks": ""
           }
          },
          "title": {
           "x": 0.05
          },
          "xaxis": {
           "automargin": true,
           "gridcolor": "white",
           "linecolor": "white",
           "ticks": "",
           "title": {
            "standoff": 15
           },
           "zerolinecolor": "white",
           "zerolinewidth": 2
          },
          "yaxis": {
           "automargin": true,
           "gridcolor": "white",
           "linecolor": "white",
           "ticks": "",
           "title": {
            "standoff": 15
           },
           "zerolinecolor": "white",
           "zerolinewidth": 2
          }
         }
        }
       }
      }
     },
     "metadata": {},
     "output_type": "display_data"
    }
   ],
   "source": [
    "import plotly.express as px\n",
    "\n",
    "fig = px.scatter_mapbox(\n",
    "    df,\n",
    "    lat=\"lat\",\n",
    "    lon=\"lon\",\n",
    "    hover_name=\"city\",\n",
    "    zoom=4,\n",
    "    hover_data=[\"meteo_principale\", \"probabilite_de_pluie\", \"temperature_ressentie\"],\n",
    "    color=\"temperature_ressentie\",\n",
    "    color_continuous_scale=\"thermal\",\n",
    "    mapbox_style=\"carto-positron\",\n",
    ")\n",
    "fig.show()\n"
   ]
  },
  {
   "cell_type": "code",
   "execution_count": null,
   "metadata": {},
   "outputs": [],
   "source": []
  }
 ],
 "metadata": {
  "interpreter": {
   "hash": "aee8b7b246df8f9039afb4144a1f6fd8d2ca17a180786b69acc140d282b71a49"
  },
  "kernelspec": {
   "display_name": "Python 3.10.4 64-bit",
   "language": "python",
   "name": "python3"
  },
  "language_info": {
   "codemirror_mode": {
    "name": "ipython",
    "version": 3
   },
   "file_extension": ".py",
   "mimetype": "text/x-python",
   "name": "python",
   "nbconvert_exporter": "python",
   "pygments_lexer": "ipython3",
   "version": "3.10.4"
  },
  "orig_nbformat": 4
 },
 "nbformat": 4,
 "nbformat_minor": 2
}
