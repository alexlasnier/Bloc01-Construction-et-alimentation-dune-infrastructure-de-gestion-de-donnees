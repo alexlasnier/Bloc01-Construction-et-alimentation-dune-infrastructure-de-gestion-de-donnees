{
 "cells": [
  {
   "cell_type": "markdown",
   "metadata": {},
   "source": [
    "⚠️ This project is mandatory for certification bloc #1."
   ]
  },
  {
   "cell_type": "markdown",
   "metadata": {},
   "source": [
    "![Kayak](https://seekvectorlogo.com/wp-content/uploads/2018/01/kayak-vector-logo.png)\n",
    "\n",
    "# Plan your trip with Kayak \n",
    "\n",
    "## Company's description 📇\n",
    "\n",
    "<a href=\"https://www.kayak.com\" target=\"_blank\">Kayak</a> is a travel search engine that helps user plan their next trip at the best price.\n",
    "\n",
    "The company was founded in 2004 by Steve Hafner & Paul M. English. After a few rounds of fundraising, Kayak was acquired by <a href=\"https://www.bookingholdings.com/\" target=\"_blank\">Booking Holdings</a> which now holds: \n",
    "\n",
    "* <a href=\"https://booking.com/\" target=\"_blank\">Booking.com</a>\n",
    "* <a href=\"https://kayak.com/\" target=\"_blank\">Kayak</a>\n",
    "* <a href=\"https://www.priceline.com/\" target=\"_blank\">Priceline</a>\n",
    "* <a href=\"https://www.agoda.com/\" target=\"_blank\">Agoda</a>\n",
    "* <a href=\"https://Rentalcars.com/\" target=\"_blank\">RentalCars</a>\n",
    "* <a href=\"https://www.opentable.com/\" target=\"_blank\">OpenTable</a>\n",
    "\n",
    "With over \\$300 million revenue a year, Kayak operates in almost all countries and all languages to help their users book travels accros the globe. "
   ]
  },
  {
   "cell_type": "markdown",
   "metadata": {},
   "source": [
    "## Project 🚧\n",
    "\n",
    "The marketing team needs help on a new project. After doing some user research, the team discovered that **70% of their users who are planning a trip would like to have more information about the destination they are going to**. \n",
    "\n",
    "In addition, user research shows that **people tend to be defiant about the information they are reading if they don't know the brand** which produced the content. \n",
    "\n",
    "Therefore, Kayak Marketing Team would like to create an application that will recommend where people should plan their next holidays. The application should be based on real data about:\n",
    "\n",
    "* Weather \n",
    "* Hotels in the area \n",
    "\n",
    "The application should then be able to recommend the best destinations and hotels based on the above variables at any given time. "
   ]
  },
  {
   "cell_type": "markdown",
   "metadata": {},
   "source": [
    "## Goals 🎯\n",
    "\n",
    "As the project has just started, your team doesn't have any data that can be used to create this application. Therefore, your job will be to: \n",
    "\n",
    "* Scrape data from destinations \n",
    "* Get weather data from each destination \n",
    "* Get hotels' info about each destination\n",
    "* Store all the information above in a data lake\n",
    "* Extract, transform and load cleaned data from your datalake to a data warehouse"
   ]
  },
  {
   "cell_type": "markdown",
   "metadata": {},
   "source": [
    "## Scope of this project 🖼️\n",
    "\n",
    "Marketing team wants to focus first on the best cities to travel to in France. According <a href=\"https://one-week-in.com/35-cities-to-visit-in-france/\" target=\"_blank\">One Week In.com</a> here are the top-35 cities to visit in France: \n",
    "\n",
    "```python \n",
    "[\"Mont Saint Michel\",\n",
    "\"St Malo\",\n",
    "\"Bayeux\",\n",
    "\"Le Havre\",\n",
    "\"Rouen\",\n",
    "\"Paris\",\n",
    "\"Amiens\",\n",
    "\"Lille\",\n",
    "\"Strasbourg\",\n",
    "\"Chateau du Haut Koenigsbourg\",\n",
    "\"Colmar\",\n",
    "\"Eguisheim\",\n",
    "\"Besancon\",\n",
    "\"Dijon\",\n",
    "\"Annecy\",\n",
    "\"Grenoble\",\n",
    "\"Lyon\",\n",
    "\"Gorges du Verdon\",\n",
    "\"Bormes les Mimosas\",\n",
    "\"Cassis\",\n",
    "\"Marseille\",\n",
    "\"Aix en Provence\",\n",
    "\"Avignon\",\n",
    "\"Uzes\",\n",
    "\"Nimes\",\n",
    "\"Aigues Mortes\",\n",
    "\"Saintes Maries de la mer\",\n",
    "\"Collioure\",\n",
    "\"Carcassonne\",\n",
    "\"Ariege\",\n",
    "\"Toulouse\",\n",
    "\"Montauban\",\n",
    "\"Biarritz\",\n",
    "\"Bayonne\",\n",
    "\"La Rochelle\"]\n",
    "```\n",
    "\n",
    "Your team should focus **only on the above cities for your project**. \n"
   ]
  },
  {
   "cell_type": "markdown",
   "metadata": {},
   "source": [
    "## Helpers 🦮\n",
    "\n",
    "To help you achieve this project, here are a few tips that should help you\n",
    "\n",
    "### Get weather data with an API \n",
    "\n",
    "*   Use https://nominatim.org/ to get the gps coordinates of all the cities (no subscription required) Documentation : https://nominatim.org/release-docs/develop/api/Search/\n",
    "\n",
    "*   Use https://openweathermap.org/appid (you have to subscribe to get a free apikey) and https://openweathermap.org/api/one-call-api to get some information about the weather for the 35 cities and put it in a DataFrame\n",
    "\n",
    "*   Determine the list of cities where the weather will be the nicest within the next 7 days For example, you can use the values of daily.pop and daily.rain to compute the expected volume of rain within the next 7 days... But it's only an example, actually you can have different opinions on a what a nice weather would be like 😎 Maybe the most important criterion for you is the temperature or humidity, so feel free to change the rules !\n",
    "\n",
    "*   Save all the results in a `.csv` file, you will use it later 😉 You can save all the informations that seem important to you ! Don't forget to save the name of the cities, and also to create a column containing a unique identifier (id) of each city (this is important for what's next in the project)\n",
    "\n",
    "*   Use plotly to display the best destinations on a map\n",
    "\n",
    "### Scrape Booking.com \n",
    "\n",
    "Since BookingHoldings doesn't have aggregated databases, it will be much faster to scrape data directly from booking.com \n",
    "\n",
    "You can scrap as many information asyou want, but we suggest that you get at least:\n",
    "\n",
    "*   hotel name,\n",
    "*   Url to its booking.com page,\n",
    "*   Its coordinates: latitude and longitude\n",
    "*   Score given by the website users\n",
    "*   Text description of the hotel\n",
    "\n",
    "\n",
    "### Create your data lake using S3 \n",
    "\n",
    "Once you managed to build your dataset, you should store into S3 as a csv file. \n",
    "\n",
    "### ETL \n",
    "\n",
    "Once you uploaded your data onto S3, it will be better for the next data analysis team to extract clean data directly from a Data Warehouse. Therefore, create a SQL Database using AWS RDS, extract your data from S3 and store it in your newly created DB. "
   ]
  },
  {
   "cell_type": "markdown",
   "metadata": {},
   "source": [
    "## Deliverable 📬\n",
    "\n",
    "To complete this project, your team should deliver:\n",
    "\n",
    "* A `.csv` file in an S3 bucket containing enriched information about weather and hotels for each french city\n",
    "\n",
    "* A SQL Database where we should be able to get the same cleaned data from S3 \n",
    "\n",
    "* Two maps where you should have a Top-5 destinations and a Top-20 hotels in the area. You can use plotly or any other library to do so. It should look something like this: \n",
    "\n",
    "![Map](https://full-stack-assets.s3.eu-west-3.amazonaws.com/images/Kayak_best_destination_project.png)"
   ]
  },
  {
   "cell_type": "markdown",
   "metadata": {},
   "source": [
    "### Get weather data with an API "
   ]
  },
  {
   "cell_type": "code",
   "execution_count": 3,
   "metadata": {},
   "outputs": [],
   "source": [
    "import pandas as pd\n",
    "import numpy as np\n",
    "import plotly.express as px\n",
    "import requests\n",
    "import time\n",
    "\n",
    "#from dotenv import load_dotenv\n",
    "import os\n",
    "\n",
    "'''load_dotenv()\n",
    "%load_ext dotenv\n",
    "%dotenv'''\n",
    "\n",
    "key = os.getenv('APIKEY')\n",
    "\n",
    "# Variable to save bucketname\n",
    "BUCKETNAME = os.getenv('BUCKETNAME')\n",
    "\n",
    "'''# Variables to connect to my RDS PostgresSQL Database\n",
    "DBUSERNAME = os.getenv('DBUSERNAME')\n",
    "DBPASSWORD = os.getenv('DBPASSWORD')\n",
    "DBHOSTNAME = os.getenv('DBHOSTNAME')\n",
    "DBNAME = os.getenv('DBNAME')'''\n",
    "\n",
    "import logging\n",
    "import scrapy\n",
    "from scrapy.crawler import CrawlerProcess\n",
    "from bs4 import BeautifulSoup\n",
    "\n",
    "import warnings\n",
    "warnings.filterwarnings(\"ignore\")"
   ]
  },
  {
   "cell_type": "code",
   "execution_count": 1,
   "metadata": {},
   "outputs": [],
   "source": [
    "cities = [\"Mont Saint Michel\", \"St Malo\", \"Bayeux\", \"Le Havre\", \"Rouen\", \"Paris\", \"Amiens\", \"Lille\", \"Strasbourg\", \"Chateau du Haut Koenigsbourg\", \"Colmar\", \"Eguisheim\", \"Besancon\", \"Dijon\", \"Annecy\", \"Grenoble\", \"Lyon\", \"Gorges du Verdon\", \"Bormes les Mimosas\", \"Cassis\", \"Marseille\", \"Aix en Provence\", \"Avignon\", \"Uzes\", \"Nimes\", \"Aigues Mortes\", \"Saintes Maries de la mer\", \"Collioure\", \"Carcassonne\", \"Ariege\", \"Toulouse\", \"Montauban\", \"Biarritz\", \"Bayonne\", \"La Rochelle\"]"
   ]
  },
  {
   "cell_type": "code",
   "execution_count": 4,
   "metadata": {},
   "outputs": [
    {
     "data": {
      "text/html": [
       "<div>\n",
       "<style scoped>\n",
       "    .dataframe tbody tr th:only-of-type {\n",
       "        vertical-align: middle;\n",
       "    }\n",
       "\n",
       "    .dataframe tbody tr th {\n",
       "        vertical-align: top;\n",
       "    }\n",
       "\n",
       "    .dataframe thead th {\n",
       "        text-align: right;\n",
       "    }\n",
       "</style>\n",
       "<table border=\"1\" class=\"dataframe\">\n",
       "  <thead>\n",
       "    <tr style=\"text-align: right;\">\n",
       "      <th></th>\n",
       "      <th>id</th>\n",
       "      <th>city</th>\n",
       "    </tr>\n",
       "  </thead>\n",
       "  <tbody>\n",
       "    <tr>\n",
       "      <th>0</th>\n",
       "      <td>0</td>\n",
       "      <td>Mont Saint Michel</td>\n",
       "    </tr>\n",
       "    <tr>\n",
       "      <th>1</th>\n",
       "      <td>1</td>\n",
       "      <td>St Malo</td>\n",
       "    </tr>\n",
       "  </tbody>\n",
       "</table>\n",
       "</div>"
      ],
      "text/plain": [
       "   id               city\n",
       "0   0  Mont Saint Michel\n",
       "1   1            St Malo"
      ]
     },
     "execution_count": 4,
     "metadata": {},
     "output_type": "execute_result"
    }
   ],
   "source": [
    "# Create a dataframe to store cities name\n",
    "df_cities = pd.DataFrame(columns=[\"city\"])\n",
    "df_cities['city'] = cities\n",
    "df_cities.reset_index(inplace=True)\n",
    "df_cities.rename(columns={'index': 'id'}, inplace=True)\n",
    "df_cities.head(2)"
   ]
  },
  {
   "cell_type": "markdown",
   "metadata": {},
   "source": [
    "### GPS Coordinates"
   ]
  },
  {
   "cell_type": "code",
   "execution_count": 5,
   "metadata": {},
   "outputs": [],
   "source": [
    "# Function to get the GPS coordinates from openstreetmap API\n",
    "# The code within this cell has been made with the help of another alumni: Guillaume Arp\n",
    "def get_gps(df):\n",
    "\n",
    "    df_new = df.copy()\n",
    "    lat_list = []\n",
    "    lon_list = []\n",
    "    for i in cities:\n",
    "        if i == \"Gorges du Verdon\":\n",
    "            i = \"La%20Palud-sur-Verdon\"\n",
    "            r = requests.get(f\"https://nominatim.openstreetmap.org/search?city={i}&format=json\").json()\n",
    "            lat_list.append(r[0]['lat'])\n",
    "            lon_list.append(r[0]['lon'])\n",
    "        elif i == 'Ariege':\n",
    "            r = requests.get(f\"https://nominatim.openstreetmap.org/search?county={i}&format=json\").json()\n",
    "            lat_list.append(r[0]['lat'])\n",
    "            lon_list.append(r[0]['lon'])\n",
    "        else:\n",
    "            name = i.replace(\" \", \"%20\")\n",
    "            r = requests.get(f\"https://nominatim.openstreetmap.org/search?city={name}&format=json\").json()\n",
    "            lat_list.append(r[0]['lat'])\n",
    "            lon_list.append(r[0]['lon'])\n",
    "        \n",
    "    df_new['lat'] = lat_list\n",
    "    df_new['lon'] = lon_list \n",
    "    return df_new"
   ]
  },
  {
   "cell_type": "code",
   "execution_count": 6,
   "metadata": {},
   "outputs": [
    {
     "data": {
      "text/html": [
       "<div>\n",
       "<style scoped>\n",
       "    .dataframe tbody tr th:only-of-type {\n",
       "        vertical-align: middle;\n",
       "    }\n",
       "\n",
       "    .dataframe tbody tr th {\n",
       "        vertical-align: top;\n",
       "    }\n",
       "\n",
       "    .dataframe thead th {\n",
       "        text-align: right;\n",
       "    }\n",
       "</style>\n",
       "<table border=\"1\" class=\"dataframe\">\n",
       "  <thead>\n",
       "    <tr style=\"text-align: right;\">\n",
       "      <th></th>\n",
       "      <th>id</th>\n",
       "      <th>city</th>\n",
       "      <th>lat</th>\n",
       "      <th>lon</th>\n",
       "    </tr>\n",
       "  </thead>\n",
       "  <tbody>\n",
       "    <tr>\n",
       "      <th>0</th>\n",
       "      <td>0</td>\n",
       "      <td>Mont Saint Michel</td>\n",
       "      <td>48.6359541</td>\n",
       "      <td>-1.511459954959514</td>\n",
       "    </tr>\n",
       "    <tr>\n",
       "      <th>1</th>\n",
       "      <td>1</td>\n",
       "      <td>St Malo</td>\n",
       "      <td>48.649518</td>\n",
       "      <td>-2.0260409</td>\n",
       "    </tr>\n",
       "  </tbody>\n",
       "</table>\n",
       "</div>"
      ],
      "text/plain": [
       "   id               city         lat                 lon\n",
       "0   0  Mont Saint Michel  48.6359541  -1.511459954959514\n",
       "1   1            St Malo   48.649518          -2.0260409"
      ]
     },
     "execution_count": 6,
     "metadata": {},
     "output_type": "execute_result"
    }
   ],
   "source": [
    "df_gps = get_gps(df_cities)\n",
    "df_gps.head(2)"
   ]
  },
  {
   "cell_type": "markdown",
   "metadata": {},
   "source": [
    "### Weather Data"
   ]
  },
  {
   "cell_type": "code",
   "execution_count": 9,
   "metadata": {},
   "outputs": [],
   "source": [
    "# Function to get the weather data from openweathermap API\n",
    "# The code within this cell has been made with the help of another alumni: Guillaume Arp\n",
    "def get_weather(df):\n",
    "    \n",
    "    df_new = df.copy()\n",
    "    temps_list = []\n",
    "    rain_pop = []\n",
    "    humidity_list = []\n",
    "    days = list(range(1,8))\n",
    "    \n",
    "    for i in df.itertuples():\n",
    "        lat = i.lat\n",
    "        lon = i.lon\n",
    "        r = requests.get(f\"https://api.openweathermap.org/data/2.5/onecall?lat={lat}&lon={lon}&units=metric&appid={key}\").json()\n",
    "        weather_7_days = r[\"daily\"][1:]\n",
    "        temps = [i['feels_like']['day'] for i in weather_7_days]\n",
    "        rain = [i['pop'] * 100 for i in weather_7_days]\n",
    "        humidity = [i['humidity'] for i in weather_7_days]\n",
    "        temps_list.append(temps)\n",
    "        rain_pop.append(rain)\n",
    "        humidity_list.append(humidity)\n",
    "        \n",
    "    df_new['day_plus'] = [days for _ in range(len(df))]\n",
    "    df_new['felt_temperature'] = temps_list\n",
    "    df_new['rain_chances'] = rain_pop\n",
    "    df_new['humidity'] = humidity_list\n",
    "    df_new['score'] = df_new.apply(lambda x: ((35 - np.mean(x['felt_temperature'])) * 2) + np.mean(x['rain_chances']) + (np.mean(x['humidity']) / 2), axis=1)\n",
    "    \n",
    "    return df_new"
   ]
  },
  {
   "cell_type": "code",
   "execution_count": 10,
   "metadata": {},
   "outputs": [
    {
     "ename": "KeyError",
     "evalue": "'daily'",
     "output_type": "error",
     "traceback": [
      "\u001b[0;31m---------------------------------------------------------------------------\u001b[0m",
      "\u001b[0;31mKeyError\u001b[0m                                  Traceback (most recent call last)",
      "\u001b[1;32m/Users/alexlasnier/Desktop/Bloc01_BigData-WebScraping_Kayak/BQ/notebook.ipynb Cell 17'\u001b[0m in \u001b[0;36m<cell line: 1>\u001b[0;34m()\u001b[0m\n\u001b[0;32m----> <a href='vscode-notebook-cell:/Users/alexlasnier/Desktop/Bloc01_BigData-WebScraping_Kayak/BQ/notebook.ipynb#ch0000016?line=0'>1</a>\u001b[0m df_full \u001b[39m=\u001b[39m get_weather(df_gps)\n\u001b[1;32m      <a href='vscode-notebook-cell:/Users/alexlasnier/Desktop/Bloc01_BigData-WebScraping_Kayak/BQ/notebook.ipynb#ch0000016?line=1'>2</a>\u001b[0m df_full\u001b[39m.\u001b[39mhead(\u001b[39m2\u001b[39m)\n",
      "\u001b[1;32m/Users/alexlasnier/Desktop/Bloc01_BigData-WebScraping_Kayak/BQ/notebook.ipynb Cell 16'\u001b[0m in \u001b[0;36mget_weather\u001b[0;34m(df)\u001b[0m\n\u001b[1;32m     <a href='vscode-notebook-cell:/Users/alexlasnier/Desktop/Bloc01_BigData-WebScraping_Kayak/BQ/notebook.ipynb#ch0000015?line=12'>13</a>\u001b[0m lon \u001b[39m=\u001b[39m i\u001b[39m.\u001b[39mlon\n\u001b[1;32m     <a href='vscode-notebook-cell:/Users/alexlasnier/Desktop/Bloc01_BigData-WebScraping_Kayak/BQ/notebook.ipynb#ch0000015?line=13'>14</a>\u001b[0m r \u001b[39m=\u001b[39m requests\u001b[39m.\u001b[39mget(\u001b[39mf\u001b[39m\u001b[39m\"\u001b[39m\u001b[39mhttps://api.openweathermap.org/data/2.5/onecall?lat=\u001b[39m\u001b[39m{\u001b[39;00mlat\u001b[39m}\u001b[39;00m\u001b[39m&lon=\u001b[39m\u001b[39m{\u001b[39;00mlon\u001b[39m}\u001b[39;00m\u001b[39m&units=metric&appid=\u001b[39m\u001b[39m{\u001b[39;00mkey\u001b[39m}\u001b[39;00m\u001b[39m\"\u001b[39m)\u001b[39m.\u001b[39mjson()\n\u001b[0;32m---> <a href='vscode-notebook-cell:/Users/alexlasnier/Desktop/Bloc01_BigData-WebScraping_Kayak/BQ/notebook.ipynb#ch0000015?line=14'>15</a>\u001b[0m weather_7_days \u001b[39m=\u001b[39m r[\u001b[39m\"\u001b[39;49m\u001b[39mdaily\u001b[39;49m\u001b[39m\"\u001b[39;49m][\u001b[39m1\u001b[39m:]\n\u001b[1;32m     <a href='vscode-notebook-cell:/Users/alexlasnier/Desktop/Bloc01_BigData-WebScraping_Kayak/BQ/notebook.ipynb#ch0000015?line=15'>16</a>\u001b[0m temps \u001b[39m=\u001b[39m [i[\u001b[39m'\u001b[39m\u001b[39mfeels_like\u001b[39m\u001b[39m'\u001b[39m][\u001b[39m'\u001b[39m\u001b[39mday\u001b[39m\u001b[39m'\u001b[39m] \u001b[39mfor\u001b[39;00m i \u001b[39min\u001b[39;00m weather_7_days]\n\u001b[1;32m     <a href='vscode-notebook-cell:/Users/alexlasnier/Desktop/Bloc01_BigData-WebScraping_Kayak/BQ/notebook.ipynb#ch0000015?line=16'>17</a>\u001b[0m rain \u001b[39m=\u001b[39m [i[\u001b[39m'\u001b[39m\u001b[39mpop\u001b[39m\u001b[39m'\u001b[39m] \u001b[39m*\u001b[39m \u001b[39m100\u001b[39m \u001b[39mfor\u001b[39;00m i \u001b[39min\u001b[39;00m weather_7_days]\n",
      "\u001b[0;31mKeyError\u001b[0m: 'daily'"
     ]
    }
   ],
   "source": [
    "df_full = get_weather(df_gps)\n",
    "df_full.head(2)"
   ]
  },
  {
   "cell_type": "markdown",
   "metadata": {},
   "source": [
    "### Scrape Booking.com "
   ]
  },
  {
   "cell_type": "code",
   "execution_count": 11,
   "metadata": {},
   "outputs": [
    {
     "data": {
      "text/html": [
       "<div>\n",
       "<style scoped>\n",
       "    .dataframe tbody tr th:only-of-type {\n",
       "        vertical-align: middle;\n",
       "    }\n",
       "\n",
       "    .dataframe tbody tr th {\n",
       "        vertical-align: top;\n",
       "    }\n",
       "\n",
       "    .dataframe thead th {\n",
       "        text-align: right;\n",
       "    }\n",
       "</style>\n",
       "<table border=\"1\" class=\"dataframe\">\n",
       "  <thead>\n",
       "    <tr style=\"text-align: right;\">\n",
       "      <th></th>\n",
       "      <th>city</th>\n",
       "    </tr>\n",
       "  </thead>\n",
       "  <tbody>\n",
       "    <tr>\n",
       "      <th>0</th>\n",
       "      <td>Mont Saint Michel</td>\n",
       "    </tr>\n",
       "    <tr>\n",
       "      <th>1</th>\n",
       "      <td>St Malo</td>\n",
       "    </tr>\n",
       "    <tr>\n",
       "      <th>2</th>\n",
       "      <td>Bayeux</td>\n",
       "    </tr>\n",
       "    <tr>\n",
       "      <th>3</th>\n",
       "      <td>Le Havre</td>\n",
       "    </tr>\n",
       "    <tr>\n",
       "      <th>4</th>\n",
       "      <td>Rouen</td>\n",
       "    </tr>\n",
       "    <tr>\n",
       "      <th>5</th>\n",
       "      <td>Paris</td>\n",
       "    </tr>\n",
       "    <tr>\n",
       "      <th>6</th>\n",
       "      <td>Amiens</td>\n",
       "    </tr>\n",
       "    <tr>\n",
       "      <th>7</th>\n",
       "      <td>Lille</td>\n",
       "    </tr>\n",
       "    <tr>\n",
       "      <th>8</th>\n",
       "      <td>Strasbourg</td>\n",
       "    </tr>\n",
       "    <tr>\n",
       "      <th>9</th>\n",
       "      <td>Chateau du Haut Koenigsbourg</td>\n",
       "    </tr>\n",
       "    <tr>\n",
       "      <th>10</th>\n",
       "      <td>Colmar</td>\n",
       "    </tr>\n",
       "    <tr>\n",
       "      <th>11</th>\n",
       "      <td>Eguisheim</td>\n",
       "    </tr>\n",
       "    <tr>\n",
       "      <th>12</th>\n",
       "      <td>Besancon</td>\n",
       "    </tr>\n",
       "    <tr>\n",
       "      <th>13</th>\n",
       "      <td>Dijon</td>\n",
       "    </tr>\n",
       "    <tr>\n",
       "      <th>14</th>\n",
       "      <td>Annecy</td>\n",
       "    </tr>\n",
       "    <tr>\n",
       "      <th>15</th>\n",
       "      <td>Grenoble</td>\n",
       "    </tr>\n",
       "    <tr>\n",
       "      <th>16</th>\n",
       "      <td>Lyon</td>\n",
       "    </tr>\n",
       "    <tr>\n",
       "      <th>17</th>\n",
       "      <td>Gorges du Verdon</td>\n",
       "    </tr>\n",
       "    <tr>\n",
       "      <th>18</th>\n",
       "      <td>Bormes les Mimosas</td>\n",
       "    </tr>\n",
       "    <tr>\n",
       "      <th>19</th>\n",
       "      <td>Cassis</td>\n",
       "    </tr>\n",
       "    <tr>\n",
       "      <th>20</th>\n",
       "      <td>Marseille</td>\n",
       "    </tr>\n",
       "    <tr>\n",
       "      <th>21</th>\n",
       "      <td>Aix en Provence</td>\n",
       "    </tr>\n",
       "    <tr>\n",
       "      <th>22</th>\n",
       "      <td>Avignon</td>\n",
       "    </tr>\n",
       "    <tr>\n",
       "      <th>23</th>\n",
       "      <td>Uzes</td>\n",
       "    </tr>\n",
       "    <tr>\n",
       "      <th>24</th>\n",
       "      <td>Nimes</td>\n",
       "    </tr>\n",
       "    <tr>\n",
       "      <th>25</th>\n",
       "      <td>Aigues Mortes</td>\n",
       "    </tr>\n",
       "    <tr>\n",
       "      <th>26</th>\n",
       "      <td>Saintes Maries de la mer</td>\n",
       "    </tr>\n",
       "    <tr>\n",
       "      <th>27</th>\n",
       "      <td>Collioure</td>\n",
       "    </tr>\n",
       "    <tr>\n",
       "      <th>28</th>\n",
       "      <td>Carcassonne</td>\n",
       "    </tr>\n",
       "    <tr>\n",
       "      <th>29</th>\n",
       "      <td>Ariege</td>\n",
       "    </tr>\n",
       "    <tr>\n",
       "      <th>30</th>\n",
       "      <td>Toulouse</td>\n",
       "    </tr>\n",
       "    <tr>\n",
       "      <th>31</th>\n",
       "      <td>Montauban</td>\n",
       "    </tr>\n",
       "    <tr>\n",
       "      <th>32</th>\n",
       "      <td>Biarritz</td>\n",
       "    </tr>\n",
       "    <tr>\n",
       "      <th>33</th>\n",
       "      <td>Bayonne</td>\n",
       "    </tr>\n",
       "    <tr>\n",
       "      <th>34</th>\n",
       "      <td>La Rochelle</td>\n",
       "    </tr>\n",
       "  </tbody>\n",
       "</table>\n",
       "</div>"
      ],
      "text/plain": [
       "                            city\n",
       "0              Mont Saint Michel\n",
       "1                        St Malo\n",
       "2                         Bayeux\n",
       "3                       Le Havre\n",
       "4                          Rouen\n",
       "5                          Paris\n",
       "6                         Amiens\n",
       "7                          Lille\n",
       "8                     Strasbourg\n",
       "9   Chateau du Haut Koenigsbourg\n",
       "10                        Colmar\n",
       "11                     Eguisheim\n",
       "12                      Besancon\n",
       "13                         Dijon\n",
       "14                        Annecy\n",
       "15                      Grenoble\n",
       "16                          Lyon\n",
       "17              Gorges du Verdon\n",
       "18            Bormes les Mimosas\n",
       "19                        Cassis\n",
       "20                     Marseille\n",
       "21               Aix en Provence\n",
       "22                       Avignon\n",
       "23                          Uzes\n",
       "24                         Nimes\n",
       "25                 Aigues Mortes\n",
       "26      Saintes Maries de la mer\n",
       "27                     Collioure\n",
       "28                   Carcassonne\n",
       "29                        Ariege\n",
       "30                      Toulouse\n",
       "31                     Montauban\n",
       "32                      Biarritz\n",
       "33                       Bayonne\n",
       "34                   La Rochelle"
      ]
     },
     "execution_count": 11,
     "metadata": {},
     "output_type": "execute_result"
    }
   ],
   "source": [
    "# Store cities name into a DataFrame for next step\n",
    "df_booking = pd.DataFrame(cities, columns=[\"city\"])\n",
    "df_booking\n"
   ]
  },
  {
   "cell_type": "code",
   "execution_count": 12,
   "metadata": {},
   "outputs": [],
   "source": [
    "# Configure Scrapy to iterate over each city to gather the name and the URL of all their respective hotels\n",
    "class BookingSpider(scrapy.Spider):\n",
    "    name = \"Booking_data\"\n",
    "    cities = df_booking[\"city\"]\n",
    "    start_urls = ['https://www.booking.com/index.fr.html']\n",
    "\n",
    "    def parse(self, response):\n",
    "        for x in cities:\n",
    "            yield scrapy.FormRequest.from_response(\n",
    "            response,\n",
    "            formdata={'ss': x },\n",
    "            callback=self.after_search\n",
    "        )\n",
    "\n",
    "    def after_search(self, response):\n",
    "        cities = response.url.split(\"ss=\")[-1].split(\"&\")[0]\n",
    "                \n",
    "        booking = response.css('.d4924c9e74')\n",
    "        \n",
    "        for data in booking:\n",
    "            \n",
    "            yield {\n",
    "                'location': cities,\n",
    "                'name': data.css('a div.fcab3ed991.a23c043802::text').getall(),\n",
    "                'url': data.css('h3.a4225678b2 a::attr(href)').getall(),\n",
    "            }\n",
    "\n",
    "        try:\n",
    "            next_page = response.css('a.paging-next').attrib[\"href\"]\n",
    "        except KeyError:\n",
    "            logging.info('No next page. Terminating crawling process.')\n",
    "        else:\n",
    "            yield response.follow(next_page, callback=self.after_search)"
   ]
  },
  {
   "cell_type": "code",
   "execution_count": 13,
   "metadata": {},
   "outputs": [
    {
     "name": "stderr",
     "output_type": "stream",
     "text": [
      "2022-06-22 13:24:26 [scrapy.utils.log] INFO: Scrapy 2.6.1 started (bot: scrapybot)\n",
      "2022-06-22 13:24:26 [scrapy.utils.log] INFO: Versions: lxml 4.8.0.0, libxml2 2.9.12, cssselect 1.1.0, parsel 1.6.0, w3lib 1.21.0, Twisted 22.2.0, Python 3.9.12 (main, Apr  5 2022, 01:53:17) - [Clang 12.0.0 ], pyOpenSSL 21.0.0 (OpenSSL 1.1.1o  3 May 2022), cryptography 3.4.8, Platform macOS-10.16-x86_64-i386-64bit\n",
      "2022-06-22 13:24:26 [scrapy.crawler] INFO: Overridden settings:\n",
      "{'AUTOTHROTTLE_ENABLED': True,\n",
      " 'LOG_LEVEL': 20,\n",
      " 'USER_AGENT': 'Mozilla/5.0 (Windows NT 10.0; Win64; x64; rv:92.0) '\n",
      "               'Gecko/20100101 Firefox/92.0'}\n",
      "2022-06-22 13:24:26 [scrapy.extensions.telnet] INFO: Telnet Password: 27f7029f1b6b44ad\n",
      "2022-06-22 13:24:26 [scrapy.middleware] INFO: Enabled extensions:\n",
      "['scrapy.extensions.corestats.CoreStats',\n",
      " 'scrapy.extensions.telnet.TelnetConsole',\n",
      " 'scrapy.extensions.memusage.MemoryUsage',\n",
      " 'scrapy.extensions.feedexport.FeedExporter',\n",
      " 'scrapy.extensions.logstats.LogStats',\n",
      " 'scrapy.extensions.throttle.AutoThrottle']\n",
      "2022-06-22 13:24:26 [scrapy.middleware] INFO: Enabled downloader middlewares:\n",
      "['scrapy.downloadermiddlewares.httpauth.HttpAuthMiddleware',\n",
      " 'scrapy.downloadermiddlewares.downloadtimeout.DownloadTimeoutMiddleware',\n",
      " 'scrapy.downloadermiddlewares.defaultheaders.DefaultHeadersMiddleware',\n",
      " 'scrapy.downloadermiddlewares.useragent.UserAgentMiddleware',\n",
      " 'scrapy.downloadermiddlewares.retry.RetryMiddleware',\n",
      " 'scrapy.downloadermiddlewares.redirect.MetaRefreshMiddleware',\n",
      " 'scrapy.downloadermiddlewares.httpcompression.HttpCompressionMiddleware',\n",
      " 'scrapy.downloadermiddlewares.redirect.RedirectMiddleware',\n",
      " 'scrapy.downloadermiddlewares.cookies.CookiesMiddleware',\n",
      " 'scrapy.downloadermiddlewares.httpproxy.HttpProxyMiddleware',\n",
      " 'scrapy.downloadermiddlewares.stats.DownloaderStats']\n",
      "2022-06-22 13:24:26 [scrapy.middleware] INFO: Enabled spider middlewares:\n",
      "['scrapy.spidermiddlewares.httperror.HttpErrorMiddleware',\n",
      " 'scrapy.spidermiddlewares.offsite.OffsiteMiddleware',\n",
      " 'scrapy.spidermiddlewares.referer.RefererMiddleware',\n",
      " 'scrapy.spidermiddlewares.urllength.UrlLengthMiddleware',\n",
      " 'scrapy.spidermiddlewares.depth.DepthMiddleware']\n",
      "2022-06-22 13:24:26 [scrapy.middleware] INFO: Enabled item pipelines:\n",
      "[]\n",
      "2022-06-22 13:24:26 [scrapy.core.engine] INFO: Spider opened\n",
      "2022-06-22 13:24:27 [scrapy.extensions.logstats] INFO: Crawled 0 pages (at 0 pages/min), scraped 0 items (at 0 items/min)\n",
      "2022-06-22 13:24:27 [scrapy.extensions.telnet] INFO: Telnet console listening on 127.0.0.1:6023\n",
      "2022-06-22 13:24:33 [root] INFO: No next page. Terminating crawling process.\n",
      "2022-06-22 13:24:36 [root] INFO: No next page. Terminating crawling process.\n",
      "2022-06-22 13:24:38 [root] INFO: No next page. Terminating crawling process.\n",
      "2022-06-22 13:24:39 [root] INFO: No next page. Terminating crawling process.\n",
      "2022-06-22 13:24:40 [root] INFO: No next page. Terminating crawling process.\n",
      "2022-06-22 13:24:41 [root] INFO: No next page. Terminating crawling process.\n",
      "2022-06-22 13:24:42 [root] INFO: No next page. Terminating crawling process.\n",
      "2022-06-22 13:24:42 [root] INFO: No next page. Terminating crawling process.\n",
      "2022-06-22 13:24:43 [root] INFO: No next page. Terminating crawling process.\n",
      "2022-06-22 13:24:43 [root] INFO: No next page. Terminating crawling process.\n",
      "2022-06-22 13:24:43 [root] INFO: No next page. Terminating crawling process.\n",
      "2022-06-22 13:24:43 [root] INFO: No next page. Terminating crawling process.\n",
      "2022-06-22 13:24:44 [root] INFO: No next page. Terminating crawling process.\n",
      "2022-06-22 13:24:45 [root] INFO: No next page. Terminating crawling process.\n",
      "2022-06-22 13:24:45 [root] INFO: No next page. Terminating crawling process.\n",
      "2022-06-22 13:24:45 [root] INFO: No next page. Terminating crawling process.\n",
      "2022-06-22 13:24:46 [root] INFO: No next page. Terminating crawling process.\n",
      "2022-06-22 13:24:46 [root] INFO: No next page. Terminating crawling process.\n",
      "2022-06-22 13:24:47 [root] INFO: No next page. Terminating crawling process.\n",
      "2022-06-22 13:24:47 [root] INFO: No next page. Terminating crawling process.\n",
      "2022-06-22 13:24:47 [root] INFO: No next page. Terminating crawling process.\n",
      "2022-06-22 13:24:48 [root] INFO: No next page. Terminating crawling process.\n",
      "2022-06-22 13:24:48 [root] INFO: No next page. Terminating crawling process.\n",
      "2022-06-22 13:24:48 [root] INFO: No next page. Terminating crawling process.\n",
      "2022-06-22 13:24:49 [root] INFO: No next page. Terminating crawling process.\n",
      "2022-06-22 13:24:49 [root] INFO: No next page. Terminating crawling process.\n",
      "2022-06-22 13:24:50 [root] INFO: No next page. Terminating crawling process.\n",
      "2022-06-22 13:24:50 [root] INFO: No next page. Terminating crawling process.\n",
      "2022-06-22 13:24:50 [root] INFO: No next page. Terminating crawling process.\n",
      "2022-06-22 13:24:51 [root] INFO: No next page. Terminating crawling process.\n",
      "2022-06-22 13:24:51 [root] INFO: No next page. Terminating crawling process.\n",
      "2022-06-22 13:24:51 [root] INFO: No next page. Terminating crawling process.\n",
      "2022-06-22 13:24:52 [root] INFO: No next page. Terminating crawling process.\n",
      "2022-06-22 13:24:53 [root] INFO: No next page. Terminating crawling process.\n",
      "2022-06-22 13:24:53 [root] INFO: No next page. Terminating crawling process.\n",
      "2022-06-22 13:24:53 [scrapy.core.engine] INFO: Closing spider (finished)\n",
      "2022-06-22 13:24:53 [scrapy.extensions.feedexport] INFO: Stored json feed (35 items) in: cities.json\n",
      "2022-06-22 13:24:53 [scrapy.statscollectors] INFO: Dumping Scrapy stats:\n",
      "{'downloader/request_bytes': 50379,\n",
      " 'downloader/request_count': 36,\n",
      " 'downloader/request_method_count/GET': 36,\n",
      " 'downloader/response_bytes': 5894077,\n",
      " 'downloader/response_count': 36,\n",
      " 'downloader/response_status_count/200': 36,\n",
      " 'elapsed_time_seconds': 26.142553,\n",
      " 'feedexport/success_count/FileFeedStorage': 1,\n",
      " 'finish_reason': 'finished',\n",
      " 'finish_time': datetime.datetime(2022, 6, 22, 11, 24, 53, 272694),\n",
      " 'httpcompression/response_bytes': 38323825,\n",
      " 'httpcompression/response_count': 36,\n",
      " 'item_scraped_count': 35,\n",
      " 'log_count/INFO': 46,\n",
      " 'memusage/max': 230596608,\n",
      " 'memusage/startup': 230596608,\n",
      " 'request_depth_max': 1,\n",
      " 'response_received_count': 36,\n",
      " 'scheduler/dequeued': 36,\n",
      " 'scheduler/dequeued/memory': 36,\n",
      " 'scheduler/enqueued': 36,\n",
      " 'scheduler/enqueued/memory': 36,\n",
      " 'start_time': datetime.datetime(2022, 6, 22, 11, 24, 27, 130141)}\n",
      "2022-06-22 13:24:53 [scrapy.core.engine] INFO: Spider closed (finished)\n"
     ]
    }
   ],
   "source": [
    "# Start the scraping process and save the file to json format\n",
    "filename = \"cities.json\"\n",
    "\n",
    "if filename in os.listdir():\n",
    "        os.remove(filename)\n",
    "\n",
    "process = CrawlerProcess(settings = {\n",
    "    'USER_AGENT': 'Mozilla/5.0 (Windows NT 10.0; Win64; x64; rv:92.0) Gecko/20100101 Firefox/92.0',\n",
    "    'LOG_LEVEL': logging.INFO,\n",
    "    \"FEEDS\": {\n",
    "        filename: {\"format\": \"json\"},\n",
    "    },\n",
    "    \"AUTOTHROTTLE_ENABLED\": True\n",
    "})\n",
    "\n",
    "process.crawl(BookingSpider)\n",
    "process.start()"
   ]
  },
  {
   "cell_type": "code",
   "execution_count": null,
   "metadata": {},
   "outputs": [
    {
     "data": {
      "text/html": [
       "<div>\n",
       "<style scoped>\n",
       "    .dataframe tbody tr th:only-of-type {\n",
       "        vertical-align: middle;\n",
       "    }\n",
       "\n",
       "    .dataframe tbody tr th {\n",
       "        vertical-align: top;\n",
       "    }\n",
       "\n",
       "    .dataframe thead th {\n",
       "        text-align: right;\n",
       "    }\n",
       "</style>\n",
       "<table border=\"1\" class=\"dataframe\">\n",
       "  <thead>\n",
       "    <tr style=\"text-align: right;\">\n",
       "      <th></th>\n",
       "      <th>location</th>\n",
       "      <th>name</th>\n",
       "      <th>url</th>\n",
       "    </tr>\n",
       "  </thead>\n",
       "  <tbody>\n",
       "    <tr>\n",
       "      <th>0</th>\n",
       "      <td>Mont+Saint+Michel</td>\n",
       "      <td>[Hôtel Vert, Hotel Gabriel, Les Terrasses Poul...</td>\n",
       "      <td>[https://www.booking.com/hotel/fr/vert.fr.html...</td>\n",
       "    </tr>\n",
       "    <tr>\n",
       "      <th>1</th>\n",
       "      <td>St+Malo</td>\n",
       "      <td>[Studio cocooning, Escale Iodée ST-MALO - SOLI...</td>\n",
       "      <td>[https://www.booking.com/hotel/fr/studio-cocoo...</td>\n",
       "    </tr>\n",
       "    <tr>\n",
       "      <th>2</th>\n",
       "      <td>Bayeux</td>\n",
       "      <td>[Le Castel Guesthouse, Hotel Particulier de Sa...</td>\n",
       "      <td>[https://www.booking.com/hotel/fr/le-castel-no...</td>\n",
       "    </tr>\n",
       "    <tr>\n",
       "      <th>3</th>\n",
       "      <td>Le+Havre</td>\n",
       "      <td>[Holiday Inn Express - Le Havre Centre, Hilton...</td>\n",
       "      <td>[https://www.booking.com/hotel/fr/campanile-le...</td>\n",
       "    </tr>\n",
       "    <tr>\n",
       "      <th>4</th>\n",
       "      <td>Rouen</td>\n",
       "      <td>[Radisson Blu Hotel, Rouen Centre, Passo, Merc...</td>\n",
       "      <td>[https://www.booking.com/hotel/fr/radisson-blu...</td>\n",
       "    </tr>\n",
       "  </tbody>\n",
       "</table>\n",
       "</div>"
      ],
      "text/plain": [
       "            location                                               name  \\\n",
       "0  Mont+Saint+Michel  [Hôtel Vert, Hotel Gabriel, Les Terrasses Poul...   \n",
       "1            St+Malo  [Studio cocooning, Escale Iodée ST-MALO - SOLI...   \n",
       "2             Bayeux  [Le Castel Guesthouse, Hotel Particulier de Sa...   \n",
       "3           Le+Havre  [Holiday Inn Express - Le Havre Centre, Hilton...   \n",
       "4              Rouen  [Radisson Blu Hotel, Rouen Centre, Passo, Merc...   \n",
       "\n",
       "                                                 url  \n",
       "0  [https://www.booking.com/hotel/fr/vert.fr.html...  \n",
       "1  [https://www.booking.com/hotel/fr/studio-cocoo...  \n",
       "2  [https://www.booking.com/hotel/fr/le-castel-no...  \n",
       "3  [https://www.booking.com/hotel/fr/campanile-le...  \n",
       "4  [https://www.booking.com/hotel/fr/radisson-blu...  "
      ]
     },
     "execution_count": 10,
     "metadata": {},
     "output_type": "execute_result"
    }
   ],
   "source": [
    "# Create a DataFrame from the json file\n",
    "df = pd.read_json(\"cities.json\")\n",
    "df.head()"
   ]
  },
  {
   "cell_type": "code",
   "execution_count": null,
   "metadata": {},
   "outputs": [],
   "source": [
    "# Reduce number of hotels per city to 20 as requested by the task\n",
    "for i in range (len(df[\"location\"])):\n",
    "    df[\"name\"][i] = df[\"name\"][i][0:20]\n",
    "    df[\"url\"][i] = df[\"url\"][i][0:20]"
   ]
  },
  {
   "cell_type": "code",
   "execution_count": null,
   "metadata": {},
   "outputs": [
    {
     "name": "stdout",
     "output_type": "stream",
     "text": [
      "city Mont+Saint+Michel done\n",
      "city St+Malo done\n",
      "city Bayeux done\n",
      "city Le+Havre done\n",
      "city Rouen done\n",
      "city Paris done\n",
      "city Amiens done\n"
     ]
    }
   ],
   "source": [
    "# BeautifulSoup iterates on each URL to get the hotel's score, GPS coordinates and description.\n",
    "df[\"lat\"] = 0\n",
    "df[\"lon\"] = 0\n",
    "df[\"description\"] = \"test\"\n",
    "df[\"score\"] = 0.0\n",
    "\n",
    "navigator = 'Mozilla/5.0 (Macintosh; Intel Mac OS X 10_10_1)'\n",
    "\n",
    "for i in range(len(df[\"url\"])):\n",
    "    lat_list = []\n",
    "    lon_list = []\n",
    "    description_list = []\n",
    "    score_list = []\n",
    "\n",
    "    hotel_list = df[\"url\"][i]\n",
    "\n",
    "    for i2 in hotel_list:\n",
    "\n",
    "        # Sometimes BeautifulSoup doesn't manage to gather data. When it fails, it tries again.\n",
    "        try:\n",
    "            page = requests.get(i2, headers={'User-Agent': navigator})\n",
    "            soup = BeautifulSoup(page.text, 'html.parser')\n",
    "        except:\n",
    "            page = requests.get(i2, headers={'User-Agent': navigator})\n",
    "            soup = BeautifulSoup(page.text, 'html.parser')\n",
    "\n",
    "        lat_list.append(soup.select('p.address.address_clean a')[0].get(\"data-atlas-latlng\").split(\",\")[0])\n",
    "        lon_list.append(soup.select('p.address.address_clean a')[0].get(\"data-atlas-latlng\").split(\",\")[1])\n",
    "        description_list.append(soup.select('div#property_description_content')[0].get_text())\n",
    "\n",
    "        try:\n",
    "            score_list.append(soup.select('div.b5cd09854e.d10a6220b4')[0].get_text())\n",
    "            \n",
    "        except:\n",
    "            # 2 hotels over the 700 that I am going to scrap dont have a score yet but I still need one for the visualization. I set it to 1.\n",
    "            score_list.append(\"1.0\")\n",
    "\n",
    "        time.sleep(1.4)\n",
    "  \n",
    "    df[\"lat\"][i] = lat_list\n",
    "    df[\"lon\"][i] = lon_list\n",
    "    df[\"description\"][i] = description_list\n",
    "    df[\"score\"][i] = score_list\n",
    "    \n",
    "    print (f\"city {df['location'].iloc[i]} done\")"
   ]
  },
  {
   "cell_type": "code",
   "execution_count": null,
   "metadata": {},
   "outputs": [
    {
     "data": {
      "text/html": [
       "<div>\n",
       "<style scoped>\n",
       "    .dataframe tbody tr th:only-of-type {\n",
       "        vertical-align: middle;\n",
       "    }\n",
       "\n",
       "    .dataframe tbody tr th {\n",
       "        vertical-align: top;\n",
       "    }\n",
       "\n",
       "    .dataframe thead th {\n",
       "        text-align: right;\n",
       "    }\n",
       "</style>\n",
       "<table border=\"1\" class=\"dataframe\">\n",
       "  <thead>\n",
       "    <tr style=\"text-align: right;\">\n",
       "      <th></th>\n",
       "      <th>id</th>\n",
       "      <th>location</th>\n",
       "      <th>name</th>\n",
       "      <th>url</th>\n",
       "      <th>lat</th>\n",
       "      <th>lon</th>\n",
       "      <th>description</th>\n",
       "      <th>score</th>\n",
       "    </tr>\n",
       "  </thead>\n",
       "  <tbody>\n",
       "    <tr>\n",
       "      <th>0</th>\n",
       "      <td>0</td>\n",
       "      <td>Mont Saint Michel</td>\n",
       "      <td>[Hôtel Vert, Le Relais Saint Michel, La Mère P...</td>\n",
       "      <td>[https://www.booking.com/hotel/fr/vert.fr.html...</td>\n",
       "      <td>[48.61470049, 48.61758727, 48.63508532, 48.614...</td>\n",
       "      <td>[-1.50961697, -1.51039615, -1.51053965, -1.510...</td>\n",
       "      <td>[\\nVous pouvez bénéficier d'une réduction Geni...</td>\n",
       "      <td>[8,1, 7,8, 7,2, 8,2, 7,3, 7,2, 8,0, 8,1, 7,2, ...</td>\n",
       "    </tr>\n",
       "    <tr>\n",
       "      <th>1</th>\n",
       "      <td>1</td>\n",
       "      <td>St Malo</td>\n",
       "      <td>[Hotel Eden, Hotel d'Aleth, Hotel Ajoncs d'Or,...</td>\n",
       "      <td>[https://www.booking.com/hotel/fr/eden-saint-m...</td>\n",
       "      <td>[48.66190919, 48.63593081, 48.64735692, 48.647...</td>\n",
       "      <td>[-1.98966533, -2.02171236, -2.02519655, -2.028...</td>\n",
       "      <td>[\\nVous pouvez bénéficier d'une réduction Geni...</td>\n",
       "      <td>[7,3, 7,9, 8,5, 7,4, 9,2, 7,9, 9,7, 8,0, 8,2, ...</td>\n",
       "    </tr>\n",
       "  </tbody>\n",
       "</table>\n",
       "</div>"
      ],
      "text/plain": [
       "   id           location                                               name  \\\n",
       "0   0  Mont Saint Michel  [Hôtel Vert, Le Relais Saint Michel, La Mère P...   \n",
       "1   1            St Malo  [Hotel Eden, Hotel d'Aleth, Hotel Ajoncs d'Or,...   \n",
       "\n",
       "                                                 url  \\\n",
       "0  [https://www.booking.com/hotel/fr/vert.fr.html...   \n",
       "1  [https://www.booking.com/hotel/fr/eden-saint-m...   \n",
       "\n",
       "                                                 lat  \\\n",
       "0  [48.61470049, 48.61758727, 48.63508532, 48.614...   \n",
       "1  [48.66190919, 48.63593081, 48.64735692, 48.647...   \n",
       "\n",
       "                                                 lon  \\\n",
       "0  [-1.50961697, -1.51039615, -1.51053965, -1.510...   \n",
       "1  [-1.98966533, -2.02171236, -2.02519655, -2.028...   \n",
       "\n",
       "                                         description  \\\n",
       "0  [\\nVous pouvez bénéficier d'une réduction Geni...   \n",
       "1  [\\nVous pouvez bénéficier d'une réduction Geni...   \n",
       "\n",
       "                                               score  \n",
       "0  [8,1, 7,8, 7,2, 8,2, 7,3, 7,2, 8,0, 8,1, 7,2, ...  \n",
       "1  [7,3, 7,9, 8,5, 7,4, 9,2, 7,9, 9,7, 8,0, 8,2, ...  "
      ]
     },
     "execution_count": 23,
     "metadata": {},
     "output_type": "execute_result"
    }
   ],
   "source": [
    "# Add an ID to each city to be able to merge the scrapped data with the API data later\n",
    "df[\"location\"] = df[\"location\"].str.replace(\"+\", \" \")\n",
    "df = df.set_index(\"location\")\n",
    "df = df.reindex(cities)\n",
    "df.reset_index(inplace=True)\n",
    "\n",
    "df.reset_index(inplace=True)\n",
    "df.rename(columns={'index': 'id'}, inplace=True)\n",
    "df.head(2)"
   ]
  },
  {
   "cell_type": "markdown",
   "metadata": {},
   "source": [
    "# Datalake S3"
   ]
  },
  {
   "cell_type": "code",
   "execution_count": null,
   "metadata": {},
   "outputs": [
    {
     "data": {
      "text/html": [
       "<div>\n",
       "<style scoped>\n",
       "    .dataframe tbody tr th:only-of-type {\n",
       "        vertical-align: middle;\n",
       "    }\n",
       "\n",
       "    .dataframe tbody tr th {\n",
       "        vertical-align: top;\n",
       "    }\n",
       "\n",
       "    .dataframe thead th {\n",
       "        text-align: right;\n",
       "    }\n",
       "</style>\n",
       "<table border=\"1\" class=\"dataframe\">\n",
       "  <thead>\n",
       "    <tr style=\"text-align: right;\">\n",
       "      <th></th>\n",
       "      <th>id</th>\n",
       "      <th>location</th>\n",
       "      <th>name</th>\n",
       "      <th>url</th>\n",
       "      <th>lat</th>\n",
       "      <th>lon</th>\n",
       "      <th>description</th>\n",
       "      <th>score</th>\n",
       "    </tr>\n",
       "  </thead>\n",
       "  <tbody>\n",
       "    <tr>\n",
       "      <th>0</th>\n",
       "      <td>0</td>\n",
       "      <td>Mont Saint Michel</td>\n",
       "      <td>[Hôtel Vert, Le Relais Saint Michel, La Mère P...</td>\n",
       "      <td>[https://www.booking.com/hotel/fr/vert.fr.html...</td>\n",
       "      <td>[48.61470049, 48.61758727, 48.63508532, 48.614...</td>\n",
       "      <td>[-1.50961697, -1.51039615, -1.51053965, -1.510...</td>\n",
       "      <td>[\\nVous pouvez bénéficier d'une réduction Geni...</td>\n",
       "      <td>[8,1, 7,8, 7,2, 8,2, 7,3, 7,2, 8,0, 8,1, 7,2, ...</td>\n",
       "    </tr>\n",
       "    <tr>\n",
       "      <th>1</th>\n",
       "      <td>1</td>\n",
       "      <td>St Malo</td>\n",
       "      <td>[Hotel Eden, Hotel d'Aleth, Hotel Ajoncs d'Or,...</td>\n",
       "      <td>[https://www.booking.com/hotel/fr/eden-saint-m...</td>\n",
       "      <td>[48.66190919, 48.63593081, 48.64735692, 48.647...</td>\n",
       "      <td>[-1.98966533, -2.02171236, -2.02519655, -2.028...</td>\n",
       "      <td>[\\nVous pouvez bénéficier d'une réduction Geni...</td>\n",
       "      <td>[7,3, 7,9, 8,5, 7,4, 9,2, 7,9, 9,7, 8,0, 8,2, ...</td>\n",
       "    </tr>\n",
       "  </tbody>\n",
       "</table>\n",
       "</div>"
      ],
      "text/plain": [
       "   id           location                                               name  \\\n",
       "0   0  Mont Saint Michel  [Hôtel Vert, Le Relais Saint Michel, La Mère P...   \n",
       "1   1            St Malo  [Hotel Eden, Hotel d'Aleth, Hotel Ajoncs d'Or,...   \n",
       "\n",
       "                                                 url  \\\n",
       "0  [https://www.booking.com/hotel/fr/vert.fr.html...   \n",
       "1  [https://www.booking.com/hotel/fr/eden-saint-m...   \n",
       "\n",
       "                                                 lat  \\\n",
       "0  [48.61470049, 48.61758727, 48.63508532, 48.614...   \n",
       "1  [48.66190919, 48.63593081, 48.64735692, 48.647...   \n",
       "\n",
       "                                                 lon  \\\n",
       "0  [-1.50961697, -1.51039615, -1.51053965, -1.510...   \n",
       "1  [-1.98966533, -2.02171236, -2.02519655, -2.028...   \n",
       "\n",
       "                                         description  \\\n",
       "0  [\\nVous pouvez bénéficier d'une réduction Geni...   \n",
       "1  [\\nVous pouvez bénéficier d'une réduction Geni...   \n",
       "\n",
       "                                               score  \n",
       "0  [8,1, 7,8, 7,2, 8,2, 7,3, 7,2, 8,0, 8,1, 7,2, ...  \n",
       "1  [7,3, 7,9, 8,5, 7,4, 9,2, 7,9, 9,7, 8,0, 8,2, ...  "
      ]
     },
     "metadata": {},
     "output_type": "display_data"
    },
    {
     "data": {
      "text/plain": [
       "(35, 8)"
      ]
     },
     "metadata": {},
     "output_type": "display_data"
    },
    {
     "data": {
      "text/html": [
       "<div>\n",
       "<style scoped>\n",
       "    .dataframe tbody tr th:only-of-type {\n",
       "        vertical-align: middle;\n",
       "    }\n",
       "\n",
       "    .dataframe tbody tr th {\n",
       "        vertical-align: top;\n",
       "    }\n",
       "\n",
       "    .dataframe thead th {\n",
       "        text-align: right;\n",
       "    }\n",
       "</style>\n",
       "<table border=\"1\" class=\"dataframe\">\n",
       "  <thead>\n",
       "    <tr style=\"text-align: right;\">\n",
       "      <th></th>\n",
       "      <th>id</th>\n",
       "      <th>city</th>\n",
       "      <th>lat</th>\n",
       "      <th>lon</th>\n",
       "      <th>day_plus</th>\n",
       "      <th>felt_temperature</th>\n",
       "      <th>rain_chances</th>\n",
       "      <th>humidity</th>\n",
       "      <th>score</th>\n",
       "    </tr>\n",
       "  </thead>\n",
       "  <tbody>\n",
       "    <tr>\n",
       "      <th>0</th>\n",
       "      <td>0</td>\n",
       "      <td>Mont Saint Michel</td>\n",
       "      <td>48.6359541</td>\n",
       "      <td>-1.511459954959514</td>\n",
       "      <td>[1, 2, 3, 4, 5, 6, 7]</td>\n",
       "      <td>[17.48, 18.47, 15.31, 10.6, 10.91, 7.45, 11.52]</td>\n",
       "      <td>[56.99999999999999, 0, 0, 38.0, 79.0, 82.0, 87.0]</td>\n",
       "      <td>[72, 60, 50, 80, 68, 85, 72]</td>\n",
       "      <td>127.574286</td>\n",
       "    </tr>\n",
       "    <tr>\n",
       "      <th>1</th>\n",
       "      <td>1</td>\n",
       "      <td>St Malo</td>\n",
       "      <td>48.649518</td>\n",
       "      <td>-2.0260409</td>\n",
       "      <td>[1, 2, 3, 4, 5, 6, 7]</td>\n",
       "      <td>[14.66, 15.23, 14.15, 10.06, 9.83, 6.6, 10.4]</td>\n",
       "      <td>[24.0, 0, 0, 38.0, 62.0, 98.0, 83.0]</td>\n",
       "      <td>[75, 75, 58, 72, 70, 84, 75]</td>\n",
       "      <td>126.805714</td>\n",
       "    </tr>\n",
       "  </tbody>\n",
       "</table>\n",
       "</div>"
      ],
      "text/plain": [
       "   id               city         lat                 lon  \\\n",
       "0   0  Mont Saint Michel  48.6359541  -1.511459954959514   \n",
       "1   1            St Malo   48.649518          -2.0260409   \n",
       "\n",
       "                day_plus                                 felt_temperature  \\\n",
       "0  [1, 2, 3, 4, 5, 6, 7]  [17.48, 18.47, 15.31, 10.6, 10.91, 7.45, 11.52]   \n",
       "1  [1, 2, 3, 4, 5, 6, 7]    [14.66, 15.23, 14.15, 10.06, 9.83, 6.6, 10.4]   \n",
       "\n",
       "                                        rain_chances  \\\n",
       "0  [56.99999999999999, 0, 0, 38.0, 79.0, 82.0, 87.0]   \n",
       "1               [24.0, 0, 0, 38.0, 62.0, 98.0, 83.0]   \n",
       "\n",
       "                       humidity       score  \n",
       "0  [72, 60, 50, 80, 68, 85, 72]  127.574286  \n",
       "1  [75, 75, 58, 72, 70, 84, 75]  126.805714  "
      ]
     },
     "metadata": {},
     "output_type": "display_data"
    },
    {
     "data": {
      "text/plain": [
       "(35, 9)"
      ]
     },
     "metadata": {},
     "output_type": "display_data"
    }
   ],
   "source": [
    "display(df.head(2))\n",
    "display(df.shape)\n",
    "display(df_full.head(2))\n",
    "display(df_full.shape)"
   ]
  },
  {
   "cell_type": "code",
   "execution_count": null,
   "metadata": {},
   "outputs": [
    {
     "data": {
      "text/html": [
       "<div>\n",
       "<style scoped>\n",
       "    .dataframe tbody tr th:only-of-type {\n",
       "        vertical-align: middle;\n",
       "    }\n",
       "\n",
       "    .dataframe tbody tr th {\n",
       "        vertical-align: top;\n",
       "    }\n",
       "\n",
       "    .dataframe thead th {\n",
       "        text-align: right;\n",
       "    }\n",
       "</style>\n",
       "<table border=\"1\" class=\"dataframe\">\n",
       "  <thead>\n",
       "    <tr style=\"text-align: right;\">\n",
       "      <th></th>\n",
       "      <th>id</th>\n",
       "      <th>city</th>\n",
       "      <th>lat_x</th>\n",
       "      <th>lon_x</th>\n",
       "      <th>day_plus</th>\n",
       "      <th>felt_temperature</th>\n",
       "      <th>rain_chances</th>\n",
       "      <th>humidity</th>\n",
       "      <th>score_x</th>\n",
       "      <th>location</th>\n",
       "      <th>name</th>\n",
       "      <th>url</th>\n",
       "      <th>lat_y</th>\n",
       "      <th>lon_y</th>\n",
       "      <th>description</th>\n",
       "      <th>score_y</th>\n",
       "    </tr>\n",
       "  </thead>\n",
       "  <tbody>\n",
       "    <tr>\n",
       "      <th>0</th>\n",
       "      <td>0</td>\n",
       "      <td>Mont Saint Michel</td>\n",
       "      <td>48.6359541</td>\n",
       "      <td>-1.511459954959514</td>\n",
       "      <td>[1, 2, 3, 4, 5, 6, 7]</td>\n",
       "      <td>[17.48, 18.47, 15.31, 10.6, 10.91, 7.45, 11.52]</td>\n",
       "      <td>[56.99999999999999, 0, 0, 38.0, 79.0, 82.0, 87.0]</td>\n",
       "      <td>[72, 60, 50, 80, 68, 85, 72]</td>\n",
       "      <td>127.574286</td>\n",
       "      <td>Mont Saint Michel</td>\n",
       "      <td>[Hôtel Vert, Le Relais Saint Michel, La Mère P...</td>\n",
       "      <td>[https://www.booking.com/hotel/fr/vert.fr.html...</td>\n",
       "      <td>[48.61470049, 48.61758727, 48.63508532, 48.614...</td>\n",
       "      <td>[-1.50961697, -1.51039615, -1.51053965, -1.510...</td>\n",
       "      <td>[\\nVous pouvez bénéficier d'une réduction Geni...</td>\n",
       "      <td>[8,1, 7,8, 7,2, 8,2, 7,3, 7,2, 8,0, 8,1, 7,2, ...</td>\n",
       "    </tr>\n",
       "    <tr>\n",
       "      <th>1</th>\n",
       "      <td>1</td>\n",
       "      <td>St Malo</td>\n",
       "      <td>48.649518</td>\n",
       "      <td>-2.0260409</td>\n",
       "      <td>[1, 2, 3, 4, 5, 6, 7]</td>\n",
       "      <td>[14.66, 15.23, 14.15, 10.06, 9.83, 6.6, 10.4]</td>\n",
       "      <td>[24.0, 0, 0, 38.0, 62.0, 98.0, 83.0]</td>\n",
       "      <td>[75, 75, 58, 72, 70, 84, 75]</td>\n",
       "      <td>126.805714</td>\n",
       "      <td>St Malo</td>\n",
       "      <td>[Hotel Eden, Hotel d'Aleth, Hotel Ajoncs d'Or,...</td>\n",
       "      <td>[https://www.booking.com/hotel/fr/eden-saint-m...</td>\n",
       "      <td>[48.66190919, 48.63593081, 48.64735692, 48.647...</td>\n",
       "      <td>[-1.98966533, -2.02171236, -2.02519655, -2.028...</td>\n",
       "      <td>[\\nVous pouvez bénéficier d'une réduction Geni...</td>\n",
       "      <td>[7,3, 7,9, 8,5, 7,4, 9,2, 7,9, 9,7, 8,0, 8,2, ...</td>\n",
       "    </tr>\n",
       "  </tbody>\n",
       "</table>\n",
       "</div>"
      ],
      "text/plain": [
       "   id               city       lat_x               lon_x  \\\n",
       "0   0  Mont Saint Michel  48.6359541  -1.511459954959514   \n",
       "1   1            St Malo   48.649518          -2.0260409   \n",
       "\n",
       "                day_plus                                 felt_temperature  \\\n",
       "0  [1, 2, 3, 4, 5, 6, 7]  [17.48, 18.47, 15.31, 10.6, 10.91, 7.45, 11.52]   \n",
       "1  [1, 2, 3, 4, 5, 6, 7]    [14.66, 15.23, 14.15, 10.06, 9.83, 6.6, 10.4]   \n",
       "\n",
       "                                        rain_chances  \\\n",
       "0  [56.99999999999999, 0, 0, 38.0, 79.0, 82.0, 87.0]   \n",
       "1               [24.0, 0, 0, 38.0, 62.0, 98.0, 83.0]   \n",
       "\n",
       "                       humidity     score_x           location  \\\n",
       "0  [72, 60, 50, 80, 68, 85, 72]  127.574286  Mont Saint Michel   \n",
       "1  [75, 75, 58, 72, 70, 84, 75]  126.805714            St Malo   \n",
       "\n",
       "                                                name  \\\n",
       "0  [Hôtel Vert, Le Relais Saint Michel, La Mère P...   \n",
       "1  [Hotel Eden, Hotel d'Aleth, Hotel Ajoncs d'Or,...   \n",
       "\n",
       "                                                 url  \\\n",
       "0  [https://www.booking.com/hotel/fr/vert.fr.html...   \n",
       "1  [https://www.booking.com/hotel/fr/eden-saint-m...   \n",
       "\n",
       "                                               lat_y  \\\n",
       "0  [48.61470049, 48.61758727, 48.63508532, 48.614...   \n",
       "1  [48.66190919, 48.63593081, 48.64735692, 48.647...   \n",
       "\n",
       "                                               lon_y  \\\n",
       "0  [-1.50961697, -1.51039615, -1.51053965, -1.510...   \n",
       "1  [-1.98966533, -2.02171236, -2.02519655, -2.028...   \n",
       "\n",
       "                                         description  \\\n",
       "0  [\\nVous pouvez bénéficier d'une réduction Geni...   \n",
       "1  [\\nVous pouvez bénéficier d'une réduction Geni...   \n",
       "\n",
       "                                             score_y  \n",
       "0  [8,1, 7,8, 7,2, 8,2, 7,3, 7,2, 8,0, 8,1, 7,2, ...  \n",
       "1  [7,3, 7,9, 8,5, 7,4, 9,2, 7,9, 9,7, 8,0, 8,2, ...  "
      ]
     },
     "metadata": {},
     "output_type": "display_data"
    },
    {
     "data": {
      "text/plain": [
       "(35, 16)"
      ]
     },
     "metadata": {},
     "output_type": "display_data"
    }
   ],
   "source": [
    "# Merge the scrapped data with the API data \n",
    "# I would not naturally do that by myself but I did it for the sake of the task as only one csv file is requested within the Datalake\n",
    "df_full_raw = pd.merge(df_full, df, on='id', how='outer')\n",
    "display(df_full_raw.head(2))\n",
    "display(df_full_raw.shape)"
   ]
  },
  {
   "cell_type": "code",
   "execution_count": null,
   "metadata": {},
   "outputs": [
    {
     "name": "stderr",
     "output_type": "stream",
     "text": [
      "2022-04-15 01:02:39 [botocore.credentials] INFO: Found credentials in shared credentials file: ~/.aws/credentials\n"
     ]
    }
   ],
   "source": [
    "# Create a bucket on amazon S3 to store the data\n",
    "import boto3\n",
    "\n",
    "session = boto3.Session()\n",
    "\n",
    "s3 = session.resource(\"s3\")\n",
    "\n",
    "bucket = s3.create_bucket(Bucket=BUCKETNAME, CreateBucketConfiguration={'LocationConstraint': 'eu-west-3'})"
   ]
  },
  {
   "cell_type": "code",
   "execution_count": null,
   "metadata": {},
   "outputs": [
    {
     "name": "stderr",
     "output_type": "stream",
     "text": [
      "2022-04-15 01:02:44 [botocore.credentials] INFO: Found credentials in shared credentials file: ~/.aws/credentials\n"
     ]
    },
    {
     "data": {
      "text/plain": [
       "(35, 16)"
      ]
     },
     "execution_count": 28,
     "metadata": {},
     "output_type": "execute_result"
    }
   ],
   "source": [
    "# Transform DataFrame to csv\n",
    "csv = df_full_raw.to_csv(index = False)\n",
    "\n",
    "# Upload csv file to the bucket\n",
    "put_object = bucket.put_object(Key=\"df_full_raw.csv\", Body=csv, \n",
    "# ACL='public-read'\n",
    ")\n",
    "\n",
    "# Open the bucket to get the csv file and retransform it into a DataFrame\n",
    "data = pd.read_csv('s3://bloc-1-bq/df_full_raw.csv')\n",
    "data.shape"
   ]
  },
  {
   "cell_type": "code",
   "execution_count": null,
   "metadata": {},
   "outputs": [
    {
     "data": {
      "text/html": [
       "<div>\n",
       "<style scoped>\n",
       "    .dataframe tbody tr th:only-of-type {\n",
       "        vertical-align: middle;\n",
       "    }\n",
       "\n",
       "    .dataframe tbody tr th {\n",
       "        vertical-align: top;\n",
       "    }\n",
       "\n",
       "    .dataframe thead th {\n",
       "        text-align: right;\n",
       "    }\n",
       "</style>\n",
       "<table border=\"1\" class=\"dataframe\">\n",
       "  <thead>\n",
       "    <tr style=\"text-align: right;\">\n",
       "      <th></th>\n",
       "      <th>id</th>\n",
       "      <th>city</th>\n",
       "      <th>name</th>\n",
       "      <th>url</th>\n",
       "      <th>lat_y</th>\n",
       "      <th>lon_y</th>\n",
       "      <th>description</th>\n",
       "      <th>score_y</th>\n",
       "    </tr>\n",
       "  </thead>\n",
       "  <tbody>\n",
       "    <tr>\n",
       "      <th>0</th>\n",
       "      <td>0</td>\n",
       "      <td>Mont Saint Michel</td>\n",
       "      <td>['Hôtel Vert', 'Le Relais Saint Michel', 'La M...</td>\n",
       "      <td>['https://www.booking.com/hotel/fr/vert.fr.htm...</td>\n",
       "      <td>['48.61470049', '48.61758727', '48.63508532', ...</td>\n",
       "      <td>['-1.50961697', '-1.51039615', '-1.51053965', ...</td>\n",
       "      <td>[\"\\nVous pouvez bénéficier d'une réduction Gen...</td>\n",
       "      <td>['8,1', '7,8', '7,2', '8,2', '7,3', '7,2', '8,...</td>\n",
       "    </tr>\n",
       "    <tr>\n",
       "      <th>1</th>\n",
       "      <td>1</td>\n",
       "      <td>St Malo</td>\n",
       "      <td>['Hotel Eden', \"Hotel d'Aleth\", \"Hotel Ajoncs ...</td>\n",
       "      <td>['https://www.booking.com/hotel/fr/eden-saint-...</td>\n",
       "      <td>['48.66190919', '48.63593081', '48.64735692', ...</td>\n",
       "      <td>['-1.98966533', '-2.02171236', '-2.02519655', ...</td>\n",
       "      <td>[\"\\nVous pouvez bénéficier d'une réduction Gen...</td>\n",
       "      <td>['7,3', '7,9', '8,5', '7,4', '9,2', '7,9', '9,...</td>\n",
       "    </tr>\n",
       "  </tbody>\n",
       "</table>\n",
       "</div>"
      ],
      "text/plain": [
       "   id               city                                               name  \\\n",
       "0   0  Mont Saint Michel  ['Hôtel Vert', 'Le Relais Saint Michel', 'La M...   \n",
       "1   1            St Malo  ['Hotel Eden', \"Hotel d'Aleth\", \"Hotel Ajoncs ...   \n",
       "\n",
       "                                                 url  \\\n",
       "0  ['https://www.booking.com/hotel/fr/vert.fr.htm...   \n",
       "1  ['https://www.booking.com/hotel/fr/eden-saint-...   \n",
       "\n",
       "                                               lat_y  \\\n",
       "0  ['48.61470049', '48.61758727', '48.63508532', ...   \n",
       "1  ['48.66190919', '48.63593081', '48.64735692', ...   \n",
       "\n",
       "                                               lon_y  \\\n",
       "0  ['-1.50961697', '-1.51039615', '-1.51053965', ...   \n",
       "1  ['-1.98966533', '-2.02171236', '-2.02519655', ...   \n",
       "\n",
       "                                         description  \\\n",
       "0  [\"\\nVous pouvez bénéficier d'une réduction Gen...   \n",
       "1  [\"\\nVous pouvez bénéficier d'une réduction Gen...   \n",
       "\n",
       "                                             score_y  \n",
       "0  ['8,1', '7,8', '7,2', '8,2', '7,3', '7,2', '8,...  \n",
       "1  ['7,3', '7,9', '8,5', '7,4', '9,2', '7,9', '9,...  "
      ]
     },
     "execution_count": 29,
     "metadata": {},
     "output_type": "execute_result"
    }
   ],
   "source": [
    "# Split the raw data obtain from the datalake into 2 specific DataFrames\n",
    "data_weather = data[[\"id\", \"city\", \"lat_x\", \"lon_x\", \"day_plus\", \"felt_temperature\", \"rain_chances\", \"humidity\", \"score_x\"]]\n",
    "data_hotels = data[[\"id\", \"city\", \"name\", \"url\", \"lat_y\", \"lon_y\", \"description\", \"score_y\"]]\n",
    "data_hotels.head(2)"
   ]
  },
  {
   "cell_type": "code",
   "execution_count": null,
   "metadata": {},
   "outputs": [
    {
     "data": {
      "text/html": [
       "<div>\n",
       "<style scoped>\n",
       "    .dataframe tbody tr th:only-of-type {\n",
       "        vertical-align: middle;\n",
       "    }\n",
       "\n",
       "    .dataframe tbody tr th {\n",
       "        vertical-align: top;\n",
       "    }\n",
       "\n",
       "    .dataframe thead th {\n",
       "        text-align: right;\n",
       "    }\n",
       "</style>\n",
       "<table border=\"1\" class=\"dataframe\">\n",
       "  <thead>\n",
       "    <tr style=\"text-align: right;\">\n",
       "      <th></th>\n",
       "      <th>id</th>\n",
       "      <th>city</th>\n",
       "      <th>name</th>\n",
       "      <th>url</th>\n",
       "      <th>lat_y</th>\n",
       "      <th>lon_y</th>\n",
       "      <th>description</th>\n",
       "      <th>score_y</th>\n",
       "    </tr>\n",
       "  </thead>\n",
       "  <tbody>\n",
       "    <tr>\n",
       "      <th>0</th>\n",
       "      <td>0</td>\n",
       "      <td>Mont Saint Michel</td>\n",
       "      <td>[Hôtel Vert, Le Relais Saint Michel, La Mère P...</td>\n",
       "      <td>[https://www.booking.com/hotel/fr/vert.fr.html...</td>\n",
       "      <td>[48.61470049, 48.61758727, 48.63508532, 48.614...</td>\n",
       "      <td>[-1.50961697, -1.51039615, -1.51053965, -1.510...</td>\n",
       "      <td>[\\nVous pouvez bénéficier d'une réduction Geni...</td>\n",
       "      <td>[8,1, 7,8, 7,2, 8,2, 7,3, 7,2, 8,0, 8,1, 7,2, ...</td>\n",
       "    </tr>\n",
       "    <tr>\n",
       "      <th>1</th>\n",
       "      <td>1</td>\n",
       "      <td>St Malo</td>\n",
       "      <td>[Hotel Eden, Hotel d'Aleth, Hotel Ajoncs d'Or,...</td>\n",
       "      <td>[https://www.booking.com/hotel/fr/eden-saint-m...</td>\n",
       "      <td>[48.66190919, 48.63593081, 48.64735692, 48.647...</td>\n",
       "      <td>[-1.98966533, -2.02171236, -2.02519655, -2.028...</td>\n",
       "      <td>[\\nVous pouvez bénéficier d'une réduction Geni...</td>\n",
       "      <td>[7,3, 7,9, 8,5, 7,4, 9,2, 7,9, 9,7, 8,0, 8,2, ...</td>\n",
       "    </tr>\n",
       "  </tbody>\n",
       "</table>\n",
       "</div>"
      ],
      "text/plain": [
       "   id               city                                               name  \\\n",
       "0   0  Mont Saint Michel  [Hôtel Vert, Le Relais Saint Michel, La Mère P...   \n",
       "1   1            St Malo  [Hotel Eden, Hotel d'Aleth, Hotel Ajoncs d'Or,...   \n",
       "\n",
       "                                                 url  \\\n",
       "0  [https://www.booking.com/hotel/fr/vert.fr.html...   \n",
       "1  [https://www.booking.com/hotel/fr/eden-saint-m...   \n",
       "\n",
       "                                               lat_y  \\\n",
       "0  [48.61470049, 48.61758727, 48.63508532, 48.614...   \n",
       "1  [48.66190919, 48.63593081, 48.64735692, 48.647...   \n",
       "\n",
       "                                               lon_y  \\\n",
       "0  [-1.50961697, -1.51039615, -1.51053965, -1.510...   \n",
       "1  [-1.98966533, -2.02171236, -2.02519655, -2.028...   \n",
       "\n",
       "                                         description  \\\n",
       "0  [\\nVous pouvez bénéficier d'une réduction Geni...   \n",
       "1  [\\nVous pouvez bénéficier d'une réduction Geni...   \n",
       "\n",
       "                                             score_y  \n",
       "0  [8,1, 7,8, 7,2, 8,2, 7,3, 7,2, 8,0, 8,1, 7,2, ...  \n",
       "1  [7,3, 7,9, 8,5, 7,4, 9,2, 7,9, 9,7, 8,0, 8,2, ...  "
      ]
     },
     "metadata": {},
     "output_type": "display_data"
    },
    {
     "data": {
      "text/plain": [
       "(35, 8)"
      ]
     },
     "metadata": {},
     "output_type": "display_data"
    },
    {
     "data": {
      "text/html": [
       "<div>\n",
       "<style scoped>\n",
       "    .dataframe tbody tr th:only-of-type {\n",
       "        vertical-align: middle;\n",
       "    }\n",
       "\n",
       "    .dataframe tbody tr th {\n",
       "        vertical-align: top;\n",
       "    }\n",
       "\n",
       "    .dataframe thead th {\n",
       "        text-align: right;\n",
       "    }\n",
       "</style>\n",
       "<table border=\"1\" class=\"dataframe\">\n",
       "  <thead>\n",
       "    <tr style=\"text-align: right;\">\n",
       "      <th></th>\n",
       "      <th>id</th>\n",
       "      <th>city</th>\n",
       "      <th>lat_x</th>\n",
       "      <th>lon_x</th>\n",
       "      <th>day_plus</th>\n",
       "      <th>felt_temperature</th>\n",
       "      <th>rain_chances</th>\n",
       "      <th>humidity</th>\n",
       "      <th>score_x</th>\n",
       "    </tr>\n",
       "  </thead>\n",
       "  <tbody>\n",
       "    <tr>\n",
       "      <th>0</th>\n",
       "      <td>0</td>\n",
       "      <td>Mont Saint Michel</td>\n",
       "      <td>48.635954</td>\n",
       "      <td>-1.511460</td>\n",
       "      <td>[1, 2, 3, 4, 5, 6, 7]</td>\n",
       "      <td>[17.48, 18.47, 15.31, 10.6, 10.91, 7.45, 11.52]</td>\n",
       "      <td>[56.99999999999999, 0, 0, 38.0, 79.0, 82.0, 87.0]</td>\n",
       "      <td>[72, 60, 50, 80, 68, 85, 72]</td>\n",
       "      <td>127.574286</td>\n",
       "    </tr>\n",
       "    <tr>\n",
       "      <th>1</th>\n",
       "      <td>1</td>\n",
       "      <td>St Malo</td>\n",
       "      <td>48.649518</td>\n",
       "      <td>-2.026041</td>\n",
       "      <td>[1, 2, 3, 4, 5, 6, 7]</td>\n",
       "      <td>[14.66, 15.23, 14.15, 10.06, 9.83, 6.6, 10.4]</td>\n",
       "      <td>[24.0, 0, 0, 38.0, 62.0, 98.0, 83.0]</td>\n",
       "      <td>[75, 75, 58, 72, 70, 84, 75]</td>\n",
       "      <td>126.805714</td>\n",
       "    </tr>\n",
       "  </tbody>\n",
       "</table>\n",
       "</div>"
      ],
      "text/plain": [
       "   id               city      lat_x     lon_x               day_plus  \\\n",
       "0   0  Mont Saint Michel  48.635954 -1.511460  [1, 2, 3, 4, 5, 6, 7]   \n",
       "1   1            St Malo  48.649518 -2.026041  [1, 2, 3, 4, 5, 6, 7]   \n",
       "\n",
       "                                  felt_temperature  \\\n",
       "0  [17.48, 18.47, 15.31, 10.6, 10.91, 7.45, 11.52]   \n",
       "1    [14.66, 15.23, 14.15, 10.06, 9.83, 6.6, 10.4]   \n",
       "\n",
       "                                        rain_chances  \\\n",
       "0  [56.99999999999999, 0, 0, 38.0, 79.0, 82.0, 87.0]   \n",
       "1               [24.0, 0, 0, 38.0, 62.0, 98.0, 83.0]   \n",
       "\n",
       "                       humidity     score_x  \n",
       "0  [72, 60, 50, 80, 68, 85, 72]  127.574286  \n",
       "1  [75, 75, 58, 72, 70, 84, 75]  126.805714  "
      ]
     },
     "metadata": {},
     "output_type": "display_data"
    },
    {
     "data": {
      "text/plain": [
       "(35, 9)"
      ]
     },
     "metadata": {},
     "output_type": "display_data"
    }
   ],
   "source": [
    "# When I turned the DataFrames into csv file, it transformed the lists into strings and it's time to revert them back to lists\n",
    "data_hotels[\"name\"] = data_hotels[\"name\"].apply(eval)\n",
    "data_hotels[\"url\"] = data_hotels[\"url\"].apply(eval)\n",
    "data_hotels[\"lat_y\"] = data_hotels[\"lat_y\"].apply(eval)\n",
    "data_hotels[\"lon_y\"] = data_hotels[\"lon_y\"].apply(eval)\n",
    "data_hotels[\"description\"] = data_hotels[\"description\"].apply(eval)\n",
    "data_hotels[\"score_y\"] = data_hotels[\"score_y\"].apply(eval)\n",
    "\n",
    "display(data_hotels.head(2))\n",
    "display(data_hotels.shape)\n",
    "\n",
    "data_weather[\"day_plus\"] = data_weather[\"day_plus\"].apply(eval)\n",
    "data_weather[\"felt_temperature\"] = data_weather[\"felt_temperature\"].apply(eval)\n",
    "data_weather[\"rain_chances\"] = data_weather[\"rain_chances\"].apply(eval)\n",
    "data_weather[\"humidity\"] = data_weather[\"humidity\"].apply(eval)\n",
    "\n",
    "display(data_weather.head(2))\n",
    "display(data_weather.shape)"
   ]
  },
  {
   "cell_type": "code",
   "execution_count": null,
   "metadata": {},
   "outputs": [
    {
     "data": {
      "text/html": [
       "<div>\n",
       "<style scoped>\n",
       "    .dataframe tbody tr th:only-of-type {\n",
       "        vertical-align: middle;\n",
       "    }\n",
       "\n",
       "    .dataframe tbody tr th {\n",
       "        vertical-align: top;\n",
       "    }\n",
       "\n",
       "    .dataframe thead th {\n",
       "        text-align: right;\n",
       "    }\n",
       "</style>\n",
       "<table border=\"1\" class=\"dataframe\">\n",
       "  <thead>\n",
       "    <tr style=\"text-align: right;\">\n",
       "      <th></th>\n",
       "      <th>id</th>\n",
       "      <th>city</th>\n",
       "      <th>name</th>\n",
       "      <th>url</th>\n",
       "      <th>lat_y</th>\n",
       "      <th>lon_y</th>\n",
       "      <th>description</th>\n",
       "      <th>score_y</th>\n",
       "    </tr>\n",
       "  </thead>\n",
       "  <tbody>\n",
       "    <tr>\n",
       "      <th>0</th>\n",
       "      <td>0</td>\n",
       "      <td>Mont Saint Michel</td>\n",
       "      <td>Hôtel Vert</td>\n",
       "      <td>https://www.booking.com/hotel/fr/vert.fr.html?...</td>\n",
       "      <td>48.614700</td>\n",
       "      <td>-1.509617</td>\n",
       "      <td>\\nVous pouvez bénéficier d'une réduction Geniu...</td>\n",
       "      <td>8.1</td>\n",
       "    </tr>\n",
       "    <tr>\n",
       "      <th>0</th>\n",
       "      <td>0</td>\n",
       "      <td>Mont Saint Michel</td>\n",
       "      <td>Le Relais Saint Michel</td>\n",
       "      <td>https://www.booking.com/hotel/fr/le-relais-sai...</td>\n",
       "      <td>48.617587</td>\n",
       "      <td>-1.510396</td>\n",
       "      <td>\\nVous pouvez bénéficier d'une réduction Geniu...</td>\n",
       "      <td>7.8</td>\n",
       "    </tr>\n",
       "  </tbody>\n",
       "</table>\n",
       "</div>"
      ],
      "text/plain": [
       "   id               city                    name  \\\n",
       "0   0  Mont Saint Michel              Hôtel Vert   \n",
       "0   0  Mont Saint Michel  Le Relais Saint Michel   \n",
       "\n",
       "                                                 url      lat_y     lon_y  \\\n",
       "0  https://www.booking.com/hotel/fr/vert.fr.html?...  48.614700 -1.509617   \n",
       "0  https://www.booking.com/hotel/fr/le-relais-sai...  48.617587 -1.510396   \n",
       "\n",
       "                                         description  score_y  \n",
       "0  \\nVous pouvez bénéficier d'une réduction Geniu...      8.1  \n",
       "0  \\nVous pouvez bénéficier d'une réduction Geniu...      7.8  "
      ]
     },
     "metadata": {},
     "output_type": "display_data"
    },
    {
     "data": {
      "text/plain": [
       "(700, 8)"
      ]
     },
     "metadata": {},
     "output_type": "display_data"
    },
    {
     "data": {
      "text/html": [
       "<div>\n",
       "<style scoped>\n",
       "    .dataframe tbody tr th:only-of-type {\n",
       "        vertical-align: middle;\n",
       "    }\n",
       "\n",
       "    .dataframe tbody tr th {\n",
       "        vertical-align: top;\n",
       "    }\n",
       "\n",
       "    .dataframe thead th {\n",
       "        text-align: right;\n",
       "    }\n",
       "</style>\n",
       "<table border=\"1\" class=\"dataframe\">\n",
       "  <thead>\n",
       "    <tr style=\"text-align: right;\">\n",
       "      <th></th>\n",
       "      <th>id</th>\n",
       "      <th>city</th>\n",
       "      <th>lat_x</th>\n",
       "      <th>lon_x</th>\n",
       "      <th>day_plus</th>\n",
       "      <th>felt_temperature</th>\n",
       "      <th>rain_chances</th>\n",
       "      <th>humidity</th>\n",
       "      <th>score_x</th>\n",
       "    </tr>\n",
       "  </thead>\n",
       "  <tbody>\n",
       "    <tr>\n",
       "      <th>0</th>\n",
       "      <td>5</td>\n",
       "      <td>Paris</td>\n",
       "      <td>48.85889</td>\n",
       "      <td>2.320041</td>\n",
       "      <td>1</td>\n",
       "      <td>18.24</td>\n",
       "      <td>10.0</td>\n",
       "      <td>51</td>\n",
       "      <td>76.711429</td>\n",
       "    </tr>\n",
       "    <tr>\n",
       "      <th>0</th>\n",
       "      <td>5</td>\n",
       "      <td>Paris</td>\n",
       "      <td>48.85889</td>\n",
       "      <td>2.320041</td>\n",
       "      <td>2</td>\n",
       "      <td>16.73</td>\n",
       "      <td>0.0</td>\n",
       "      <td>45</td>\n",
       "      <td>76.711429</td>\n",
       "    </tr>\n",
       "  </tbody>\n",
       "</table>\n",
       "</div>"
      ],
      "text/plain": [
       "   id   city     lat_x     lon_x  day_plus  felt_temperature  rain_chances  \\\n",
       "0   5  Paris  48.85889  2.320041         1             18.24          10.0   \n",
       "0   5  Paris  48.85889  2.320041         2             16.73           0.0   \n",
       "\n",
       "   humidity    score_x  \n",
       "0        51  76.711429  \n",
       "0        45  76.711429  "
      ]
     },
     "metadata": {},
     "output_type": "display_data"
    },
    {
     "data": {
      "text/plain": [
       "(35, 9)"
      ]
     },
     "metadata": {},
     "output_type": "display_data"
    }
   ],
   "source": [
    "df_hotels_2 = data_hotels.copy()\n",
    "# Explode the lists into separate series\n",
    "df_hotels_2 = df_hotels_2.apply(pd.Series.explode)\n",
    "df_hotels_2[\"score_y\"].replace(\",\", \".\", regex=True, inplace=True)\n",
    "df_hotels_2[[\"lat_y\", \"lon_y\", \"score_y\"]] = df_hotels_2[[\"lat_y\", \"lon_y\", \"score_y\"]].apply(pd.to_numeric)\n",
    "\n",
    "display(df_hotels_2.head(2))\n",
    "display(df_hotels_2.shape)\n",
    "\n",
    "\n",
    "df_weather_2 = data_weather.sort_values('score_x').head()\n",
    "df_weather_2.reset_index(inplace=True, drop=True)\n",
    "df_weather_2 = df_weather_2.apply(pd.Series.explode)\n",
    "df_weather_2[['lat_x', 'lon_x', 'day_plus', 'felt_temperature', 'rain_chances', 'humidity']] = df_weather_2[['lat_x', 'lon_x', 'day_plus', 'felt_temperature', 'rain_chances', 'humidity']].apply(pd.to_numeric)\n",
    "\n",
    "display(df_weather_2.head(2))\n",
    "display(df_weather_2.shape)"
   ]
  },
  {
   "cell_type": "markdown",
   "metadata": {},
   "source": [
    "# Data Warehouse PostgresSQL RDS"
   ]
  },
  {
   "cell_type": "code",
   "execution_count": null,
   "metadata": {},
   "outputs": [],
   "source": [
    "from sqlalchemy import create_engine, text\n",
    "\n",
    "# Connect to my postgresSQL database\n",
    "engine = create_engine(f\"postgresql+psycopg2://{DBUSERNAME}:{DBPASSWORD}@{DBHOSTNAME}/{DBNAME}\", echo=True)"
   ]
  },
  {
   "cell_type": "code",
   "execution_count": null,
   "metadata": {},
   "outputs": [],
   "source": [
    "# Initialize a sessionmaker \n",
    "from sqlalchemy.orm import sessionmaker \n",
    "Session = sessionmaker(bind=engine)\n",
    "\n",
    "# Instanciate Session \n",
    "session = Session()"
   ]
  },
  {
   "cell_type": "code",
   "execution_count": null,
   "metadata": {},
   "outputs": [],
   "source": [
    "# Transform the data_weather DataFrame into a SQL table inside the RDS Data Warehouse\n",
    "df_weather_2.to_sql(\n",
    "    \"df_weather\",\n",
    "    engine\n",
    ")"
   ]
  },
  {
   "cell_type": "code",
   "execution_count": null,
   "metadata": {},
   "outputs": [],
   "source": [
    "# Transform the df_final DataFrame into a SQL table inside the RDS Data Warehouse\n",
    "df_hotels_2.to_sql(\n",
    "    \"df_final\",\n",
    "    engine\n",
    ")"
   ]
  },
  {
   "cell_type": "code",
   "execution_count": null,
   "metadata": {},
   "outputs": [],
   "source": [
    "# SQL Request to get the data from the RDS Data Warehouse\n",
    "df_hotel_1 = text(\"SELECT * FROM df_final\")\n",
    "df_final_2 = pd.read_sql(df_hotel_1, engine)\n",
    "\n",
    "df_weather_1 = text(\"SELECT * FROM df_weather\")\n",
    "df_weather_2 = pd.read_sql(df_weather_1, engine)"
   ]
  },
  {
   "cell_type": "markdown",
   "metadata": {},
   "source": [
    "# Visualisation"
   ]
  },
  {
   "cell_type": "code",
   "execution_count": null,
   "metadata": {},
   "outputs": [
    {
     "data": {
      "application/vnd.plotly.v1+json": {
       "config": {
        "plotlyServerURL": "https://plot.ly"
       },
       "data": [
        {
         "customdata": [
          [
           48.8588897,
           2.3200410217200766,
           1,
           10,
           51,
           18.24
          ],
          [
           44.0121279,
           4.4196718,
           1,
           1,
           41,
           22.78
          ],
          [
           42.52505,
           3.0831554,
           1,
           0,
           52,
           21.28
          ],
          [
           43.8374249,
           4.3600687,
           1,
           2,
           38,
           23.74
          ],
          [
           50.6365654,
           3.0635282,
           1,
           0,
           54,
           15.74
          ]
         ],
         "hovertemplate": "<b>%{hovertext}</b><br><br>humidity=%{customdata[4]}<br>rain_chances=%{customdata[3]}<br>felt_temperature=%{marker.color}<extra></extra>",
         "hovertext": [
          "Paris",
          "Uzes",
          "Collioure",
          "Nimes",
          "Lille"
         ],
         "lat": [
          48.8588897,
          44.0121279,
          42.52505,
          43.8374249,
          50.6365654
         ],
         "legendgroup": "",
         "lon": [
          2.3200410217200766,
          4.4196718,
          3.0831554,
          4.3600687,
          3.0635282
         ],
         "marker": {
          "color": [
           18.24,
           22.78,
           21.28,
           23.74,
           15.74
          ],
          "coloraxis": "coloraxis",
          "size": [
           51,
           41,
           52,
           38,
           54
          ],
          "sizemode": "area",
          "sizeref": 0.08444444444444445
         },
         "mode": "markers",
         "name": "",
         "showlegend": false,
         "subplot": "mapbox",
         "type": "scattermapbox"
        }
       ],
       "frames": [
        {
         "data": [
          {
           "customdata": [
            [
             48.8588897,
             2.3200410217200766,
             1,
             10,
             51,
             18.24
            ],
            [
             44.0121279,
             4.4196718,
             1,
             1,
             41,
             22.78
            ],
            [
             42.52505,
             3.0831554,
             1,
             0,
             52,
             21.28
            ],
            [
             43.8374249,
             4.3600687,
             1,
             2,
             38,
             23.74
            ],
            [
             50.6365654,
             3.0635282,
             1,
             0,
             54,
             15.74
            ]
           ],
           "hovertemplate": "<b>%{hovertext}</b><br><br>humidity=%{customdata[4]}<br>rain_chances=%{customdata[3]}<br>felt_temperature=%{marker.color}<extra></extra>",
           "hovertext": [
            "Paris",
            "Uzes",
            "Collioure",
            "Nimes",
            "Lille"
           ],
           "lat": [
            48.8588897,
            44.0121279,
            42.52505,
            43.8374249,
            50.6365654
           ],
           "legendgroup": "",
           "lon": [
            2.3200410217200766,
            4.4196718,
            3.0831554,
            4.3600687,
            3.0635282
           ],
           "marker": {
            "color": [
             18.24,
             22.78,
             21.28,
             23.74,
             15.74
            ],
            "coloraxis": "coloraxis",
            "size": [
             51,
             41,
             52,
             38,
             54
            ],
            "sizemode": "area",
            "sizeref": 0.08444444444444445
           },
           "mode": "markers",
           "name": "",
           "showlegend": false,
           "subplot": "mapbox",
           "type": "scattermapbox"
          }
         ],
         "name": "1"
        },
        {
         "data": [
          {
           "customdata": [
            [
             42.52505,
             3.0831554,
             2,
             0,
             43,
             22.08
            ],
            [
             44.0121279,
             4.4196718,
             2,
             0,
             37,
             21.47
            ],
            [
             43.8374249,
             4.3600687,
             2,
             0,
             34,
             22.68
            ],
            [
             48.8588897,
             2.3200410217200766,
             2,
             0,
             45,
             16.73
            ],
            [
             50.6365654,
             3.0635282,
             2,
             0,
             47,
             15.23
            ]
           ],
           "hovertemplate": "<b>%{hovertext}</b><br><br>humidity=%{customdata[4]}<br>rain_chances=%{customdata[3]}<br>felt_temperature=%{marker.color}<extra></extra>",
           "hovertext": [
            "Collioure",
            "Uzes",
            "Nimes",
            "Paris",
            "Lille"
           ],
           "lat": [
            42.52505,
            44.0121279,
            43.8374249,
            48.8588897,
            50.6365654
           ],
           "legendgroup": "",
           "lon": [
            3.0831554,
            4.4196718,
            4.3600687,
            2.3200410217200766,
            3.0635282
           ],
           "marker": {
            "color": [
             22.08,
             21.47,
             22.68,
             16.73,
             15.23
            ],
            "coloraxis": "coloraxis",
            "size": [
             43,
             37,
             34,
             45,
             47
            ],
            "sizemode": "area",
            "sizeref": 0.08444444444444445
           },
           "mode": "markers",
           "name": "",
           "showlegend": false,
           "subplot": "mapbox",
           "type": "scattermapbox"
          }
         ],
         "name": "2"
        },
        {
         "data": [
          {
           "customdata": [
            [
             50.6365654,
             3.0635282,
             3,
             0,
             35,
             14.64
            ],
            [
             43.8374249,
             4.3600687,
             3,
             0,
             36,
             20.39
            ],
            [
             42.52505,
             3.0831554,
             3,
             0,
             59,
             17.75
            ],
            [
             48.8588897,
             2.3200410217200766,
             3,
             0,
             31,
             15.48
            ],
            [
             44.0121279,
             4.4196718,
             3,
             0,
             33,
             20.49
            ]
           ],
           "hovertemplate": "<b>%{hovertext}</b><br><br>humidity=%{customdata[4]}<br>rain_chances=%{customdata[3]}<br>felt_temperature=%{marker.color}<extra></extra>",
           "hovertext": [
            "Lille",
            "Nimes",
            "Collioure",
            "Paris",
            "Uzes"
           ],
           "lat": [
            50.6365654,
            43.8374249,
            42.52505,
            48.8588897,
            44.0121279
           ],
           "legendgroup": "",
           "lon": [
            3.0635282,
            4.3600687,
            3.0831554,
            2.3200410217200766,
            4.4196718
           ],
           "marker": {
            "color": [
             14.64,
             20.39,
             17.75,
             15.48,
             20.49
            ],
            "coloraxis": "coloraxis",
            "size": [
             35,
             36,
             59,
             31,
             33
            ],
            "sizemode": "area",
            "sizeref": 0.08444444444444445
           },
           "mode": "markers",
           "name": "",
           "showlegend": false,
           "subplot": "mapbox",
           "type": "scattermapbox"
          }
         ],
         "name": "3"
        },
        {
         "data": [
          {
           "customdata": [
            [
             42.52505,
             3.0831554,
             4,
             3,
             44,
             19.7
            ],
            [
             50.6365654,
             3.0635282,
             4,
             0,
             36,
             15.38
            ],
            [
             44.0121279,
             4.4196718,
             4,
             0,
             42,
             18.65
            ],
            [
             48.8588897,
             2.3200410217200766,
             4,
             0,
             29,
             16.52
            ],
            [
             43.8374249,
             4.3600687,
             4,
             0,
             45,
             18.76
            ]
           ],
           "hovertemplate": "<b>%{hovertext}</b><br><br>humidity=%{customdata[4]}<br>rain_chances=%{customdata[3]}<br>felt_temperature=%{marker.color}<extra></extra>",
           "hovertext": [
            "Collioure",
            "Lille",
            "Uzes",
            "Paris",
            "Nimes"
           ],
           "lat": [
            42.52505,
            50.6365654,
            44.0121279,
            48.8588897,
            43.8374249
           ],
           "legendgroup": "",
           "lon": [
            3.0831554,
            3.0635282,
            4.4196718,
            2.3200410217200766,
            4.3600687
           ],
           "marker": {
            "color": [
             19.7,
             15.38,
             18.65,
             16.52,
             18.76
            ],
            "coloraxis": "coloraxis",
            "size": [
             44,
             36,
             42,
             29,
             45
            ],
            "sizemode": "area",
            "sizeref": 0.08444444444444445
           },
           "mode": "markers",
           "name": "",
           "showlegend": false,
           "subplot": "mapbox",
           "type": "scattermapbox"
          }
         ],
         "name": "4"
        },
        {
         "data": [
          {
           "customdata": [
            [
             44.0121279,
             4.4196718,
             5,
             100,
             37,
             18.69
            ],
            [
             50.6365654,
             3.0635282,
             5,
             57.99999999999999,
             62,
             11.84
            ],
            [
             48.8588897,
             2.3200410217200766,
             5,
             70,
             55,
             12.97
            ],
            [
             43.8374249,
             4.3600687,
             5,
             100,
             41,
             19.02
            ],
            [
             42.52505,
             3.0831554,
             5,
             79,
             76,
             14.1
            ]
           ],
           "hovertemplate": "<b>%{hovertext}</b><br><br>humidity=%{customdata[4]}<br>rain_chances=%{customdata[3]}<br>felt_temperature=%{marker.color}<extra></extra>",
           "hovertext": [
            "Uzes",
            "Lille",
            "Paris",
            "Nimes",
            "Collioure"
           ],
           "lat": [
            44.0121279,
            50.6365654,
            48.8588897,
            43.8374249,
            42.52505
           ],
           "legendgroup": "",
           "lon": [
            4.4196718,
            3.0635282,
            2.3200410217200766,
            4.3600687,
            3.0831554
           ],
           "marker": {
            "color": [
             18.69,
             11.84,
             12.97,
             19.02,
             14.1
            ],
            "coloraxis": "coloraxis",
            "size": [
             37,
             62,
             55,
             41,
             76
            ],
            "sizemode": "area",
            "sizeref": 0.08444444444444445
           },
           "mode": "markers",
           "name": "",
           "showlegend": false,
           "subplot": "mapbox",
           "type": "scattermapbox"
          }
         ],
         "name": "5"
        },
        {
         "data": [
          {
           "customdata": [
            [
             48.8588897,
             2.3200410217200766,
             6,
             2,
             38,
             13.87
            ],
            [
             42.52505,
             3.0831554,
             6,
             69,
             50,
             13.01
            ],
            [
             43.8374249,
             4.3600687,
             6,
             100,
             55,
             13.62
            ],
            [
             44.0121279,
             4.4196718,
             6,
             100,
             60,
             11.99
            ],
            [
             50.6365654,
             3.0635282,
             6,
             65,
             63,
             11.22
            ]
           ],
           "hovertemplate": "<b>%{hovertext}</b><br><br>humidity=%{customdata[4]}<br>rain_chances=%{customdata[3]}<br>felt_temperature=%{marker.color}<extra></extra>",
           "hovertext": [
            "Paris",
            "Collioure",
            "Nimes",
            "Uzes",
            "Lille"
           ],
           "lat": [
            48.8588897,
            42.52505,
            43.8374249,
            44.0121279,
            50.6365654
           ],
           "legendgroup": "",
           "lon": [
            2.3200410217200766,
            3.0831554,
            4.3600687,
            4.4196718,
            3.0635282
           ],
           "marker": {
            "color": [
             13.87,
             13.01,
             13.62,
             11.99,
             11.22
            ],
            "coloraxis": "coloraxis",
            "size": [
             38,
             50,
             55,
             60,
             63
            ],
            "sizemode": "area",
            "sizeref": 0.08444444444444445
           },
           "mode": "markers",
           "name": "",
           "showlegend": false,
           "subplot": "mapbox",
           "type": "scattermapbox"
          }
         ],
         "name": "6"
        },
        {
         "data": [
          {
           "customdata": [
            [
             42.52505,
             3.0831554,
             7,
             9,
             48,
             16.55
            ],
            [
             48.8588897,
             2.3200410217200766,
             7,
             38,
             40,
             14.95
            ],
            [
             43.8374249,
             4.3600687,
             7,
             1,
             33,
             18.13
            ],
            [
             44.0121279,
             4.4196718,
             7,
             1,
             37,
             16.8
            ],
            [
             50.6365654,
             3.0635282,
             7,
             0,
             47,
             14.22
            ]
           ],
           "hovertemplate": "<b>%{hovertext}</b><br><br>humidity=%{customdata[4]}<br>rain_chances=%{customdata[3]}<br>felt_temperature=%{marker.color}<extra></extra>",
           "hovertext": [
            "Collioure",
            "Paris",
            "Nimes",
            "Uzes",
            "Lille"
           ],
           "lat": [
            42.52505,
            48.8588897,
            43.8374249,
            44.0121279,
            50.6365654
           ],
           "legendgroup": "",
           "lon": [
            3.0831554,
            2.3200410217200766,
            4.3600687,
            4.4196718,
            3.0635282
           ],
           "marker": {
            "color": [
             16.55,
             14.95,
             18.13,
             16.8,
             14.22
            ],
            "coloraxis": "coloraxis",
            "size": [
             48,
             40,
             33,
             37,
             47
            ],
            "sizemode": "area",
            "sizeref": 0.08444444444444445
           },
           "mode": "markers",
           "name": "",
           "showlegend": false,
           "subplot": "mapbox",
           "type": "scattermapbox"
          }
         ],
         "name": "7"
        }
       ],
       "layout": {
        "coloraxis": {
         "colorbar": {
          "title": {
           "text": "felt_temperature"
          }
         },
         "colorscale": [
          [
           0,
           "rgb(0,0,255)"
          ],
          [
           0.1,
           "rgb(51,153,255)"
          ],
          [
           0.2,
           "rgb(102,204,255)"
          ],
          [
           0.3,
           "rgb(153,204,255)"
          ],
          [
           0.4,
           "rgb(204,204,255)"
          ],
          [
           0.5,
           "rgb(255,255,255)"
          ],
          [
           0.6,
           "rgb(255,204,255)"
          ],
          [
           0.7,
           "rgb(255,153,255)"
          ],
          [
           0.8,
           "rgb(255,102,204)"
          ],
          [
           0.9,
           "rgb(255,102,102)"
          ],
          [
           1,
           "rgb(255,0,0)"
          ]
         ]
        },
        "height": 800,
        "legend": {
         "itemsizing": "constant",
         "tracegroupgap": 0
        },
        "mapbox": {
         "accesstoken": "pk.eyJ1Ijoibm92YXNrYSIsImEiOiJjbDF2MHg3b3QwNHpiM2RxNWVyeWFycTBxIn0.Zimb_w1oNJ5dSELaAnJtYQ",
         "center": {
          "lat": 45.97401158,
          "lon": 3.4492930243440143
         },
         "domain": {
          "x": [
           0,
           1
          ],
          "y": [
           0,
           1
          ]
         },
         "zoom": 4.7
        },
        "margin": {
         "t": 60
        },
        "sliders": [
         {
          "active": 0,
          "currentvalue": {
           "prefix": "day_plus="
          },
          "len": 0.9,
          "pad": {
           "b": 10,
           "t": 60
          },
          "steps": [
           {
            "args": [
             [
              "1"
             ],
             {
              "frame": {
               "duration": 0,
               "redraw": true
              },
              "fromcurrent": true,
              "mode": "immediate",
              "transition": {
               "duration": 0,
               "easing": "linear"
              }
             }
            ],
            "label": "1",
            "method": "animate"
           },
           {
            "args": [
             [
              "2"
             ],
             {
              "frame": {
               "duration": 0,
               "redraw": true
              },
              "fromcurrent": true,
              "mode": "immediate",
              "transition": {
               "duration": 0,
               "easing": "linear"
              }
             }
            ],
            "label": "2",
            "method": "animate"
           },
           {
            "args": [
             [
              "3"
             ],
             {
              "frame": {
               "duration": 0,
               "redraw": true
              },
              "fromcurrent": true,
              "mode": "immediate",
              "transition": {
               "duration": 0,
               "easing": "linear"
              }
             }
            ],
            "label": "3",
            "method": "animate"
           },
           {
            "args": [
             [
              "4"
             ],
             {
              "frame": {
               "duration": 0,
               "redraw": true
              },
              "fromcurrent": true,
              "mode": "immediate",
              "transition": {
               "duration": 0,
               "easing": "linear"
              }
             }
            ],
            "label": "4",
            "method": "animate"
           },
           {
            "args": [
             [
              "5"
             ],
             {
              "frame": {
               "duration": 0,
               "redraw": true
              },
              "fromcurrent": true,
              "mode": "immediate",
              "transition": {
               "duration": 0,
               "easing": "linear"
              }
             }
            ],
            "label": "5",
            "method": "animate"
           },
           {
            "args": [
             [
              "6"
             ],
             {
              "frame": {
               "duration": 0,
               "redraw": true
              },
              "fromcurrent": true,
              "mode": "immediate",
              "transition": {
               "duration": 0,
               "easing": "linear"
              }
             }
            ],
            "label": "6",
            "method": "animate"
           },
           {
            "args": [
             [
              "7"
             ],
             {
              "frame": {
               "duration": 0,
               "redraw": true
              },
              "fromcurrent": true,
              "mode": "immediate",
              "transition": {
               "duration": 0,
               "easing": "linear"
              }
             }
            ],
            "label": "7",
            "method": "animate"
           }
          ],
          "x": 0.1,
          "xanchor": "left",
          "y": 0,
          "yanchor": "top"
         }
        ],
        "template": {
         "data": {
          "bar": [
           {
            "error_x": {
             "color": "#f2f5fa"
            },
            "error_y": {
             "color": "#f2f5fa"
            },
            "marker": {
             "line": {
              "color": "rgb(17,17,17)",
              "width": 0.5
             },
             "pattern": {
              "fillmode": "overlay",
              "size": 10,
              "solidity": 0.2
             }
            },
            "type": "bar"
           }
          ],
          "barpolar": [
           {
            "marker": {
             "line": {
              "color": "rgb(17,17,17)",
              "width": 0.5
             },
             "pattern": {
              "fillmode": "overlay",
              "size": 10,
              "solidity": 0.2
             }
            },
            "type": "barpolar"
           }
          ],
          "carpet": [
           {
            "aaxis": {
             "endlinecolor": "#A2B1C6",
             "gridcolor": "#506784",
             "linecolor": "#506784",
             "minorgridcolor": "#506784",
             "startlinecolor": "#A2B1C6"
            },
            "baxis": {
             "endlinecolor": "#A2B1C6",
             "gridcolor": "#506784",
             "linecolor": "#506784",
             "minorgridcolor": "#506784",
             "startlinecolor": "#A2B1C6"
            },
            "type": "carpet"
           }
          ],
          "choropleth": [
           {
            "colorbar": {
             "outlinewidth": 0,
             "ticks": ""
            },
            "type": "choropleth"
           }
          ],
          "contour": [
           {
            "colorbar": {
             "outlinewidth": 0,
             "ticks": ""
            },
            "colorscale": [
             [
              0,
              "#0d0887"
             ],
             [
              0.1111111111111111,
              "#46039f"
             ],
             [
              0.2222222222222222,
              "#7201a8"
             ],
             [
              0.3333333333333333,
              "#9c179e"
             ],
             [
              0.4444444444444444,
              "#bd3786"
             ],
             [
              0.5555555555555556,
              "#d8576b"
             ],
             [
              0.6666666666666666,
              "#ed7953"
             ],
             [
              0.7777777777777778,
              "#fb9f3a"
             ],
             [
              0.8888888888888888,
              "#fdca26"
             ],
             [
              1,
              "#f0f921"
             ]
            ],
            "type": "contour"
           }
          ],
          "contourcarpet": [
           {
            "colorbar": {
             "outlinewidth": 0,
             "ticks": ""
            },
            "type": "contourcarpet"
           }
          ],
          "heatmap": [
           {
            "colorbar": {
             "outlinewidth": 0,
             "ticks": ""
            },
            "colorscale": [
             [
              0,
              "#0d0887"
             ],
             [
              0.1111111111111111,
              "#46039f"
             ],
             [
              0.2222222222222222,
              "#7201a8"
             ],
             [
              0.3333333333333333,
              "#9c179e"
             ],
             [
              0.4444444444444444,
              "#bd3786"
             ],
             [
              0.5555555555555556,
              "#d8576b"
             ],
             [
              0.6666666666666666,
              "#ed7953"
             ],
             [
              0.7777777777777778,
              "#fb9f3a"
             ],
             [
              0.8888888888888888,
              "#fdca26"
             ],
             [
              1,
              "#f0f921"
             ]
            ],
            "type": "heatmap"
           }
          ],
          "heatmapgl": [
           {
            "colorbar": {
             "outlinewidth": 0,
             "ticks": ""
            },
            "colorscale": [
             [
              0,
              "#0d0887"
             ],
             [
              0.1111111111111111,
              "#46039f"
             ],
             [
              0.2222222222222222,
              "#7201a8"
             ],
             [
              0.3333333333333333,
              "#9c179e"
             ],
             [
              0.4444444444444444,
              "#bd3786"
             ],
             [
              0.5555555555555556,
              "#d8576b"
             ],
             [
              0.6666666666666666,
              "#ed7953"
             ],
             [
              0.7777777777777778,
              "#fb9f3a"
             ],
             [
              0.8888888888888888,
              "#fdca26"
             ],
             [
              1,
              "#f0f921"
             ]
            ],
            "type": "heatmapgl"
           }
          ],
          "histogram": [
           {
            "marker": {
             "pattern": {
              "fillmode": "overlay",
              "size": 10,
              "solidity": 0.2
             }
            },
            "type": "histogram"
           }
          ],
          "histogram2d": [
           {
            "colorbar": {
             "outlinewidth": 0,
             "ticks": ""
            },
            "colorscale": [
             [
              0,
              "#0d0887"
             ],
             [
              0.1111111111111111,
              "#46039f"
             ],
             [
              0.2222222222222222,
              "#7201a8"
             ],
             [
              0.3333333333333333,
              "#9c179e"
             ],
             [
              0.4444444444444444,
              "#bd3786"
             ],
             [
              0.5555555555555556,
              "#d8576b"
             ],
             [
              0.6666666666666666,
              "#ed7953"
             ],
             [
              0.7777777777777778,
              "#fb9f3a"
             ],
             [
              0.8888888888888888,
              "#fdca26"
             ],
             [
              1,
              "#f0f921"
             ]
            ],
            "type": "histogram2d"
           }
          ],
          "histogram2dcontour": [
           {
            "colorbar": {
             "outlinewidth": 0,
             "ticks": ""
            },
            "colorscale": [
             [
              0,
              "#0d0887"
             ],
             [
              0.1111111111111111,
              "#46039f"
             ],
             [
              0.2222222222222222,
              "#7201a8"
             ],
             [
              0.3333333333333333,
              "#9c179e"
             ],
             [
              0.4444444444444444,
              "#bd3786"
             ],
             [
              0.5555555555555556,
              "#d8576b"
             ],
             [
              0.6666666666666666,
              "#ed7953"
             ],
             [
              0.7777777777777778,
              "#fb9f3a"
             ],
             [
              0.8888888888888888,
              "#fdca26"
             ],
             [
              1,
              "#f0f921"
             ]
            ],
            "type": "histogram2dcontour"
           }
          ],
          "mesh3d": [
           {
            "colorbar": {
             "outlinewidth": 0,
             "ticks": ""
            },
            "type": "mesh3d"
           }
          ],
          "parcoords": [
           {
            "line": {
             "colorbar": {
              "outlinewidth": 0,
              "ticks": ""
             }
            },
            "type": "parcoords"
           }
          ],
          "pie": [
           {
            "automargin": true,
            "type": "pie"
           }
          ],
          "scatter": [
           {
            "marker": {
             "line": {
              "color": "#283442"
             }
            },
            "type": "scatter"
           }
          ],
          "scatter3d": [
           {
            "line": {
             "colorbar": {
              "outlinewidth": 0,
              "ticks": ""
             }
            },
            "marker": {
             "colorbar": {
              "outlinewidth": 0,
              "ticks": ""
             }
            },
            "type": "scatter3d"
           }
          ],
          "scattercarpet": [
           {
            "marker": {
             "colorbar": {
              "outlinewidth": 0,
              "ticks": ""
             }
            },
            "type": "scattercarpet"
           }
          ],
          "scattergeo": [
           {
            "marker": {
             "colorbar": {
              "outlinewidth": 0,
              "ticks": ""
             }
            },
            "type": "scattergeo"
           }
          ],
          "scattergl": [
           {
            "marker": {
             "line": {
              "color": "#283442"
             }
            },
            "type": "scattergl"
           }
          ],
          "scattermapbox": [
           {
            "marker": {
             "colorbar": {
              "outlinewidth": 0,
              "ticks": ""
             }
            },
            "type": "scattermapbox"
           }
          ],
          "scatterpolar": [
           {
            "marker": {
             "colorbar": {
              "outlinewidth": 0,
              "ticks": ""
             }
            },
            "type": "scatterpolar"
           }
          ],
          "scatterpolargl": [
           {
            "marker": {
             "colorbar": {
              "outlinewidth": 0,
              "ticks": ""
             }
            },
            "type": "scatterpolargl"
           }
          ],
          "scatterternary": [
           {
            "marker": {
             "colorbar": {
              "outlinewidth": 0,
              "ticks": ""
             }
            },
            "type": "scatterternary"
           }
          ],
          "surface": [
           {
            "colorbar": {
             "outlinewidth": 0,
             "ticks": ""
            },
            "colorscale": [
             [
              0,
              "#0d0887"
             ],
             [
              0.1111111111111111,
              "#46039f"
             ],
             [
              0.2222222222222222,
              "#7201a8"
             ],
             [
              0.3333333333333333,
              "#9c179e"
             ],
             [
              0.4444444444444444,
              "#bd3786"
             ],
             [
              0.5555555555555556,
              "#d8576b"
             ],
             [
              0.6666666666666666,
              "#ed7953"
             ],
             [
              0.7777777777777778,
              "#fb9f3a"
             ],
             [
              0.8888888888888888,
              "#fdca26"
             ],
             [
              1,
              "#f0f921"
             ]
            ],
            "type": "surface"
           }
          ],
          "table": [
           {
            "cells": {
             "fill": {
              "color": "#506784"
             },
             "line": {
              "color": "rgb(17,17,17)"
             }
            },
            "header": {
             "fill": {
              "color": "#2a3f5f"
             },
             "line": {
              "color": "rgb(17,17,17)"
             }
            },
            "type": "table"
           }
          ]
         },
         "layout": {
          "annotationdefaults": {
           "arrowcolor": "#f2f5fa",
           "arrowhead": 0,
           "arrowwidth": 1
          },
          "autotypenumbers": "strict",
          "coloraxis": {
           "colorbar": {
            "outlinewidth": 0,
            "ticks": ""
           }
          },
          "colorscale": {
           "diverging": [
            [
             0,
             "#8e0152"
            ],
            [
             0.1,
             "#c51b7d"
            ],
            [
             0.2,
             "#de77ae"
            ],
            [
             0.3,
             "#f1b6da"
            ],
            [
             0.4,
             "#fde0ef"
            ],
            [
             0.5,
             "#f7f7f7"
            ],
            [
             0.6,
             "#e6f5d0"
            ],
            [
             0.7,
             "#b8e186"
            ],
            [
             0.8,
             "#7fbc41"
            ],
            [
             0.9,
             "#4d9221"
            ],
            [
             1,
             "#276419"
            ]
           ],
           "sequential": [
            [
             0,
             "#0d0887"
            ],
            [
             0.1111111111111111,
             "#46039f"
            ],
            [
             0.2222222222222222,
             "#7201a8"
            ],
            [
             0.3333333333333333,
             "#9c179e"
            ],
            [
             0.4444444444444444,
             "#bd3786"
            ],
            [
             0.5555555555555556,
             "#d8576b"
            ],
            [
             0.6666666666666666,
             "#ed7953"
            ],
            [
             0.7777777777777778,
             "#fb9f3a"
            ],
            [
             0.8888888888888888,
             "#fdca26"
            ],
            [
             1,
             "#f0f921"
            ]
           ],
           "sequentialminus": [
            [
             0,
             "#0d0887"
            ],
            [
             0.1111111111111111,
             "#46039f"
            ],
            [
             0.2222222222222222,
             "#7201a8"
            ],
            [
             0.3333333333333333,
             "#9c179e"
            ],
            [
             0.4444444444444444,
             "#bd3786"
            ],
            [
             0.5555555555555556,
             "#d8576b"
            ],
            [
             0.6666666666666666,
             "#ed7953"
            ],
            [
             0.7777777777777778,
             "#fb9f3a"
            ],
            [
             0.8888888888888888,
             "#fdca26"
            ],
            [
             1,
             "#f0f921"
            ]
           ]
          },
          "colorway": [
           "#636efa",
           "#EF553B",
           "#00cc96",
           "#ab63fa",
           "#FFA15A",
           "#19d3f3",
           "#FF6692",
           "#B6E880",
           "#FF97FF",
           "#FECB52"
          ],
          "font": {
           "color": "#f2f5fa"
          },
          "geo": {
           "bgcolor": "rgb(17,17,17)",
           "lakecolor": "rgb(17,17,17)",
           "landcolor": "rgb(17,17,17)",
           "showlakes": true,
           "showland": true,
           "subunitcolor": "#506784"
          },
          "hoverlabel": {
           "align": "left"
          },
          "hovermode": "closest",
          "mapbox": {
           "style": "dark"
          },
          "paper_bgcolor": "rgb(17,17,17)",
          "plot_bgcolor": "rgb(17,17,17)",
          "polar": {
           "angularaxis": {
            "gridcolor": "#506784",
            "linecolor": "#506784",
            "ticks": ""
           },
           "bgcolor": "rgb(17,17,17)",
           "radialaxis": {
            "gridcolor": "#506784",
            "linecolor": "#506784",
            "ticks": ""
           }
          },
          "scene": {
           "xaxis": {
            "backgroundcolor": "rgb(17,17,17)",
            "gridcolor": "#506784",
            "gridwidth": 2,
            "linecolor": "#506784",
            "showbackground": true,
            "ticks": "",
            "zerolinecolor": "#C8D4E3"
           },
           "yaxis": {
            "backgroundcolor": "rgb(17,17,17)",
            "gridcolor": "#506784",
            "gridwidth": 2,
            "linecolor": "#506784",
            "showbackground": true,
            "ticks": "",
            "zerolinecolor": "#C8D4E3"
           },
           "zaxis": {
            "backgroundcolor": "rgb(17,17,17)",
            "gridcolor": "#506784",
            "gridwidth": 2,
            "linecolor": "#506784",
            "showbackground": true,
            "ticks": "",
            "zerolinecolor": "#C8D4E3"
           }
          },
          "shapedefaults": {
           "line": {
            "color": "#f2f5fa"
           }
          },
          "sliderdefaults": {
           "bgcolor": "#C8D4E3",
           "bordercolor": "rgb(17,17,17)",
           "borderwidth": 1,
           "tickwidth": 0
          },
          "ternary": {
           "aaxis": {
            "gridcolor": "#506784",
            "linecolor": "#506784",
            "ticks": ""
           },
           "baxis": {
            "gridcolor": "#506784",
            "linecolor": "#506784",
            "ticks": ""
           },
           "bgcolor": "rgb(17,17,17)",
           "caxis": {
            "gridcolor": "#506784",
            "linecolor": "#506784",
            "ticks": ""
           }
          },
          "title": {
           "x": 0.05
          },
          "updatemenudefaults": {
           "bgcolor": "#506784",
           "borderwidth": 0
          },
          "xaxis": {
           "automargin": true,
           "gridcolor": "#283442",
           "linecolor": "#506784",
           "ticks": "",
           "title": {
            "standoff": 15
           },
           "zerolinecolor": "#283442",
           "zerolinewidth": 2
          },
          "yaxis": {
           "automargin": true,
           "gridcolor": "#283442",
           "linecolor": "#506784",
           "ticks": "",
           "title": {
            "standoff": 15
           },
           "zerolinecolor": "#283442",
           "zerolinewidth": 2
          }
         }
        },
        "title": {
         "text": "Weather"
        },
        "updatemenus": [
         {
          "buttons": [
           {
            "args": [
             null,
             {
              "frame": {
               "duration": 500,
               "redraw": true
              },
              "fromcurrent": true,
              "mode": "immediate",
              "transition": {
               "duration": 500,
               "easing": "linear"
              }
             }
            ],
            "label": "&#9654;",
            "method": "animate"
           },
           {
            "args": [
             [
              null
             ],
             {
              "frame": {
               "duration": 0,
               "redraw": true
              },
              "fromcurrent": true,
              "mode": "immediate",
              "transition": {
               "duration": 0,
               "easing": "linear"
              }
             }
            ],
            "label": "&#9724;",
            "method": "animate"
           }
          ],
          "direction": "left",
          "pad": {
           "r": 10,
           "t": 70
          },
          "showactive": false,
          "type": "buttons",
          "x": 0.1,
          "xanchor": "right",
          "y": 0,
          "yanchor": "top"
         }
        ],
        "width": 1300
       }
      }
     },
     "metadata": {},
     "output_type": "display_data"
    }
   ],
   "source": [
    "px.set_mapbox_access_token(open(\".mapbox_token\").read())\n",
    "fig = px.scatter_mapbox(\n",
    "    df_weather_2.sort_values('day_plus'),\n",
    "    lat='lat_x',\n",
    "    lon='lon_x',\n",
    "    color='felt_temperature',\n",
    "    size='humidity',\n",
    "    color_continuous_scale=px.colors.diverging.Picnic,\n",
    "    size_max=30,\n",
    "    zoom=4.7,\n",
    "    hover_name='city',\n",
    "    hover_data={\n",
    "        'lat_x': False,\n",
    "        'lon_x': False,\n",
    "        'day_plus': False,\n",
    "        'rain_chances': True,\n",
    "        'humidity': True,\n",
    "        'felt_temperature': True        \n",
    "        },\n",
    "    animation_frame='day_plus'\n",
    ")\n",
    "\n",
    "fig.update_layout(width = 1300, height = 800, template='plotly_dark' ,title='Best cities to visit in the next 7 days')\n",
    "fig.show()"
   ]
  },
  {
   "cell_type": "code",
   "execution_count": null,
   "metadata": {},
   "outputs": [
    {
     "data": {
      "text/plain": [
       "Paris        20\n",
       "Lille        20\n",
       "Uzes         20\n",
       "Nimes        20\n",
       "Collioure    20\n",
       "Name: city, dtype: int64"
      ]
     },
     "execution_count": 33,
     "metadata": {},
     "output_type": "execute_result"
    }
   ],
   "source": [
    "best_city_list = df_weather_2[\"id\"].tolist()\n",
    "df_final_2 = df_hotels_2[df_hotels_2[\"id\"].isin(best_city_list)]\n",
    "df_final_2[\"city\"].value_counts()"
   ]
  },
  {
   "cell_type": "code",
   "execution_count": null,
   "metadata": {},
   "outputs": [
    {
     "data": {
      "application/vnd.plotly.v1+json": {
       "config": {
        "plotlyServerURL": "https://plot.ly"
       },
       "data": [
        {
         "hovertemplate": "<b>%{hovertext}</b><br><br>score_y=%{marker.color}<br>lat_y=%{lat}<br>lon_y=%{lon}<extra></extra>",
         "hovertext": [
          "Alliance Lille - Couvent Des Minimes",
          "Appart'City Confort Lille Grand Palais",
          "Appart'City Confort Nimes Arenes",
          "Appart'City Nimes",
          "Appartement 1 chambre avec Piscine",
          "Appartement Sous le Soleil",
          "Appartement dans Hotel de Flaux",
          "Appartement de charme à 50m de la plage de sable",
          "Au coeur de Collioure",
          "Austin's Arts Et Metiers Hotel",
          "B&B Hôtel Paris 17 Batignolles",
          "Best Hôtel Lille",
          "Best Western Marquis de la Baume",
          "Boutique Hôtel Entraigues",
          "COLLIOURE tres bel appart a 150 metres des plages avec jardin prive et parking dans residence securisee",
          "Campanile Lille Euralille",
          "Campanile Nîmes Centre Mas-Carbonnel",
          "Central Hotel",
          "Dolce NÎMES CENTRE",
          "Eklo Hotels Lille",
          "Grand Hotel Bellevue - Grand Place",
          "Grand Hotel Francais",
          "Grand Hôtel Amelot",
          "Grand Hôtel Lille",
          "Holiday Inn Express Lille Centre, an IHG Hotel",
          "Holiday Inn Paris Gare de l'Est, an IHG Hotel",
          "Hotel Art Deco Euralille",
          "Hotel Concorde",
          "Hotel De La Paix",
          "Hotel Elysees Opera",
          "Hotel Lille Europe",
          "Hotel Majestic",
          "Hotel Mas De Galoffre",
          "Hotel Paris Gare Montparnasse TGV",
          "Hotel Petit Lafayette",
          "Hotel de L'Esperance",
          "HotelHome Paris 16",
          "HÔTEL C SUITES chambres spacieuses",
          "Hôtel & Spa Vatel",
          "Hôtel Aiglon",
          "Hôtel Calm Lille",
          "Hôtel De L'Amphithéâtre",
          "Hôtel La Casa Pairal",
          "Hôtel Le Pré Galoffre",
          "Hôtel Le Saint-Geniès",
          "Hôtel Princes de Catalogne",
          "Hôtel Saint Maurice",
          "Hôtel Triton",
          "Hôtel de Banville",
          "Hôtel la Bona Casa",
          "Ibanova",
          "Kyriad Nîmes Ouest A9",
          "L'Escalette appart",
          "La Frégate",
          "La Villa Léa",
          "La bohème place aux herbes",
          "La garçonnièred’Uzes",
          "Le Clos Saint Elme",
          "Le Grey Hotel",
          "Le Madeloc Hôtel & Spa",
          "Le Mas des Citronniers",
          "Le Pigalle Hotel",
          "Le mazet d'Uzès",
          "Le trente trois",
          "Les Jasmins",
          "Les Olives",
          "Les Pieds dans l'Eau",
          "Les Roches Brunes",
          "Lille City Hotel",
          "Logis NIMOTEL Hôtel Cosy",
          "Logis Uzès Pont du Gard",
          "MAISON 2 APPTS et 1 CHAMBRE - CONCIERGERIE DE L'UZEGE",
          "MAISON VIEUX LILLE 3 chambres parking privé gratuit 24H24H Accès",
          "MEININGER Hotel Paris Porte de Vincennes",
          "Maison de Roche-Uzès Centre Historique L' Ucetia",
          "Maison de charme Uzès, parking privé",
          "Maison des Arts - Chambres d'Hotes in the Heart of Uzes",
          "Maison des Bouvreuils",
          "Moxy Lille City",
          "NOCNOC - La Villa Cachee",
          "Nord Est Hotel",
          "Novotel Atria Nimes Centre",
          "Novotel Suites Lille Europe",
          "OKKO Hotels Lille Centre",
          "Odalys City Nîmes Le Cheval Blanc",
          "ROCADE DE COLLIOURE",
          "Residence Pierre & Vacances Les Balcons de Collioure",
          "Residhotel Lille Vauban",
          "Room Mate Alain - Champs-Elysées",
          "Royal Hôtel",
          "Régence Etoile",
          "Résidence La Bastide d'Uzes",
          "Résidence Saint Vincent",
          "Résidence du Soleil",
          "Superbe appartement au 1er étage dans quartier résidentiel très calme et à proximité du centre historique d'Uzes. Appartement tout confort et super équipé avec terrasse, fibre internet, agréable, peu de vis à vis lumineux/Garage+parking privatifs rdc",
          "Sweet Inn - Turenne",
          "Twenty's Business Flats Nîmes Trigone",
          "UZES APPART HOTEL Résidence Le Mas des Oliviers",
          "Westside Arc de Triomphe Hotel",
          "Zenitude Hôtel-Résidences Nîmes Centre"
         ],
         "lat": [
          50.63786885,
          50.62905798,
          43.83387353,
          43.82158549,
          44.0077179,
          42.5271222,
          44.01201965,
          42.5238821,
          42.5273935,
          48.86601094,
          48.89431407,
          50.62603955,
          43.83959476,
          44.01246437,
          42.5224086,
          50.6456983,
          43.82273112,
          43.83899502,
          43.8420013,
          50.62003296,
          50.63654707,
          48.85158544,
          48.8592568,
          50.63685668,
          50.63075938,
          48.87597385,
          50.64602156,
          43.83612815,
          50.63620003,
          48.88141526,
          50.63788756,
          43.83436329,
          43.78845189,
          48.83765251,
          48.87606691,
          48.8381576,
          48.85057501,
          43.815377,
          43.82057675,
          48.83971177,
          50.63528798,
          43.83581534,
          42.52616733,
          43.78858215,
          44.02305334,
          42.52591431,
          50.63557145,
          42.52371617,
          48.88639354,
          42.52547153,
          42.5231333,
          43.81470735,
          44.00271,
          42.52638625,
          44.0143623,
          44.01167638,
          44.011945,
          42.52328654,
          48.88133015,
          42.52876467,
          42.52538159,
          48.88166743,
          43.99669604,
          44.00964195,
          42.5235481,
          43.99579924,
          42.52716324,
          42.52534777,
          50.63359887,
          43.81557635,
          44.00284485,
          44.01081426,
          50.64106837,
          48.844105,
          44.0112246,
          44.014756,
          44.010806,
          44.0117798,
          50.627831,
          50.62914624,
          48.87743051,
          43.83542065,
          50.63883337,
          50.634074,
          43.83423753,
          42.52794367,
          42.52510633,
          50.63220722,
          48.87434515,
          43.8388151,
          48.87652507,
          44.001412,
          42.52730095,
          42.52311754,
          44.0271372,
          48.8644438,
          43.831504,
          44.01263259,
          48.88129894,
          43.83249328
         ],
         "legendgroup": "",
         "lon": [
          3.0546277,
          3.08113396,
          4.36143396,
          4.3645978,
          4.4085783,
          3.0765161,
          4.41943443,
          3.0844023,
          3.0847579,
          2.35709757,
          2.31234401,
          3.05190325,
          4.3610841,
          4.42180011,
          3.0869409,
          3.07210967,
          4.36412573,
          4.36281145,
          4.363243,
          3.08456697,
          3.06234241,
          2.39082724,
          2.3684085,
          3.06794286,
          3.05808842,
          2.35900484,
          3.07587147,
          4.36126995,
          3.06570321,
          2.32455321,
          3.072685,
          4.36533675,
          4.35384233,
          2.31828555,
          2.34567493,
          2.3496155,
          2.26743221,
          4.345905,
          4.31912698,
          2.33017266,
          3.06970725,
          4.35914017,
          3.08235571,
          4.35380258,
          4.42047223,
          3.0826816,
          3.06783289,
          3.08713473,
          2.29494631,
          3.0826987,
          3.0855761,
          4.3448326,
          4.419952,
          3.08325659,
          4.41091965,
          4.41908838,
          4.419267,
          3.0813629,
          2.32741512,
          3.07865426,
          3.08256391,
          2.33732789,
          4.42597425,
          4.41788524,
          3.08187379,
          4.42739208,
          3.0850151,
          3.09032446,
          3.06328118,
          4.34660353,
          4.41645205,
          4.41779909,
          3.05505589,
          2.413063,
          4.4199226,
          4.420526,
          4.41752,
          4.4063082,
          3.063592,
          3.06419907,
          2.35417888,
          4.36340421,
          3.07668149,
          3.064229,
          4.3607904,
          3.07773619,
          3.0904362,
          3.04668635,
          2.28977568,
          4.35481846,
          2.29293287,
          4.419783,
          3.08423268,
          3.0854253,
          4.4168419,
          2.3648845,
          4.367797,
          4.41414893,
          2.29480304,
          4.36785668
         ],
         "marker": {
          "color": [
           7.8,
           7.3,
           8.8,
           7.1,
           9.1,
           9.4,
           9.5,
           8.6,
           9.1,
           8.4,
           8.1,
           7.7,
           7.9,
           8.8,
           9,
           8.2,
           7,
           7.5,
           8.8,
           7.8,
           8.5,
           8.7,
           8.1,
           8.1,
           8.1,
           7.8,
           7.9,
           6.8,
           8,
           8.3,
           8.1,
           8.6,
           7.6,
           7.9,
           8.8,
           8.6,
           8.6,
           7.2,
           8.2,
           8.7,
           7.8,
           8.4,
           8.7,
           8.4,
           8.9,
           8,
           7.7,
           7.4,
           8.4,
           8.4,
           8.3,
           7.8,
           8.2,
           8.1,
           9.2,
           9.6,
           8.1,
           8.2,
           8.9,
           8.8,
           8,
           8.7,
           7.4,
           9.2,
           8.5,
           7.6,
           7.7,
           9,
           7,
           7.3,
           7.9,
           8.9,
           8.5,
           8.2,
           9,
           9.5,
           7.5,
           9.2,
           8.7,
           8.4,
           6.9,
           7.9,
           8.2,
           8.8,
           7.9,
           1,
           8,
           8,
           8.5,
           8.2,
           8.5,
           8.9,
           8,
           7.6,
           9.5,
           8.7,
           8.2,
           7.6,
           8,
           7.6
          ],
          "coloraxis": "coloraxis",
          "size": [
           7.8,
           7.3,
           8.8,
           7.1,
           9.1,
           9.4,
           9.5,
           8.6,
           9.1,
           8.4,
           8.1,
           7.7,
           7.9,
           8.8,
           9,
           8.2,
           7,
           7.5,
           8.8,
           7.8,
           8.5,
           8.7,
           8.1,
           8.1,
           8.1,
           7.8,
           7.9,
           6.8,
           8,
           8.3,
           8.1,
           8.6,
           7.6,
           7.9,
           8.8,
           8.6,
           8.6,
           7.2,
           8.2,
           8.7,
           7.8,
           8.4,
           8.7,
           8.4,
           8.9,
           8,
           7.7,
           7.4,
           8.4,
           8.4,
           8.3,
           7.8,
           8.2,
           8.1,
           9.2,
           9.6,
           8.1,
           8.2,
           8.9,
           8.8,
           8,
           8.7,
           7.4,
           9.2,
           8.5,
           7.6,
           7.7,
           9,
           7,
           7.3,
           7.9,
           8.9,
           8.5,
           8.2,
           9,
           9.5,
           7.5,
           9.2,
           8.7,
           8.4,
           6.9,
           7.9,
           8.2,
           8.8,
           7.9,
           1,
           8,
           8,
           8.5,
           8.2,
           8.5,
           8.9,
           8,
           7.6,
           9.5,
           8.7,
           8.2,
           7.6,
           8,
           7.6
          ],
          "sizemode": "area",
          "sizeref": 0.010666666666666666
         },
         "mode": "markers",
         "name": "",
         "showlegend": false,
         "subplot": "mapbox",
         "type": "scattermapbox"
        }
       ],
       "layout": {
        "coloraxis": {
         "colorbar": {
          "title": {
           "text": "score_y"
          }
         },
         "colorscale": [
          [
           0,
           "rgb(84,48,5)"
          ],
          [
           0.1,
           "rgb(140,81,10)"
          ],
          [
           0.2,
           "rgb(191,129,45)"
          ],
          [
           0.3,
           "rgb(223,194,125)"
          ],
          [
           0.4,
           "rgb(246,232,195)"
          ],
          [
           0.5,
           "rgb(245,245,245)"
          ],
          [
           0.6,
           "rgb(199,234,229)"
          ],
          [
           0.7,
           "rgb(128,205,193)"
          ],
          [
           0.8,
           "rgb(53,151,143)"
          ],
          [
           0.9,
           "rgb(1,102,94)"
          ],
          [
           1,
           "rgb(0,60,48)"
          ]
         ]
        },
        "height": 800,
        "legend": {
         "itemsizing": "constant",
         "tracegroupgap": 0
        },
        "mapbox": {
         "accesstoken": "pk.eyJ1Ijoibm92YXNrYSIsImEiOiJjbDF2MHg3b3QwNHpiM2RxNWVyeWFycTBxIn0.Zimb_w1oNJ5dSELaAnJtYQ",
         "center": {
          "lat": 45.97259727379999,
          "lon": 3.4518681709000005
         },
         "domain": {
          "x": [
           0,
           1
          ],
          "y": [
           0,
           1
          ]
         },
         "zoom": 5
        },
        "margin": {
         "t": 60
        },
        "template": {
         "data": {
          "bar": [
           {
            "error_x": {
             "color": "#f2f5fa"
            },
            "error_y": {
             "color": "#f2f5fa"
            },
            "marker": {
             "line": {
              "color": "rgb(17,17,17)",
              "width": 0.5
             },
             "pattern": {
              "fillmode": "overlay",
              "size": 10,
              "solidity": 0.2
             }
            },
            "type": "bar"
           }
          ],
          "barpolar": [
           {
            "marker": {
             "line": {
              "color": "rgb(17,17,17)",
              "width": 0.5
             },
             "pattern": {
              "fillmode": "overlay",
              "size": 10,
              "solidity": 0.2
             }
            },
            "type": "barpolar"
           }
          ],
          "carpet": [
           {
            "aaxis": {
             "endlinecolor": "#A2B1C6",
             "gridcolor": "#506784",
             "linecolor": "#506784",
             "minorgridcolor": "#506784",
             "startlinecolor": "#A2B1C6"
            },
            "baxis": {
             "endlinecolor": "#A2B1C6",
             "gridcolor": "#506784",
             "linecolor": "#506784",
             "minorgridcolor": "#506784",
             "startlinecolor": "#A2B1C6"
            },
            "type": "carpet"
           }
          ],
          "choropleth": [
           {
            "colorbar": {
             "outlinewidth": 0,
             "ticks": ""
            },
            "type": "choropleth"
           }
          ],
          "contour": [
           {
            "colorbar": {
             "outlinewidth": 0,
             "ticks": ""
            },
            "colorscale": [
             [
              0,
              "#0d0887"
             ],
             [
              0.1111111111111111,
              "#46039f"
             ],
             [
              0.2222222222222222,
              "#7201a8"
             ],
             [
              0.3333333333333333,
              "#9c179e"
             ],
             [
              0.4444444444444444,
              "#bd3786"
             ],
             [
              0.5555555555555556,
              "#d8576b"
             ],
             [
              0.6666666666666666,
              "#ed7953"
             ],
             [
              0.7777777777777778,
              "#fb9f3a"
             ],
             [
              0.8888888888888888,
              "#fdca26"
             ],
             [
              1,
              "#f0f921"
             ]
            ],
            "type": "contour"
           }
          ],
          "contourcarpet": [
           {
            "colorbar": {
             "outlinewidth": 0,
             "ticks": ""
            },
            "type": "contourcarpet"
           }
          ],
          "heatmap": [
           {
            "colorbar": {
             "outlinewidth": 0,
             "ticks": ""
            },
            "colorscale": [
             [
              0,
              "#0d0887"
             ],
             [
              0.1111111111111111,
              "#46039f"
             ],
             [
              0.2222222222222222,
              "#7201a8"
             ],
             [
              0.3333333333333333,
              "#9c179e"
             ],
             [
              0.4444444444444444,
              "#bd3786"
             ],
             [
              0.5555555555555556,
              "#d8576b"
             ],
             [
              0.6666666666666666,
              "#ed7953"
             ],
             [
              0.7777777777777778,
              "#fb9f3a"
             ],
             [
              0.8888888888888888,
              "#fdca26"
             ],
             [
              1,
              "#f0f921"
             ]
            ],
            "type": "heatmap"
           }
          ],
          "heatmapgl": [
           {
            "colorbar": {
             "outlinewidth": 0,
             "ticks": ""
            },
            "colorscale": [
             [
              0,
              "#0d0887"
             ],
             [
              0.1111111111111111,
              "#46039f"
             ],
             [
              0.2222222222222222,
              "#7201a8"
             ],
             [
              0.3333333333333333,
              "#9c179e"
             ],
             [
              0.4444444444444444,
              "#bd3786"
             ],
             [
              0.5555555555555556,
              "#d8576b"
             ],
             [
              0.6666666666666666,
              "#ed7953"
             ],
             [
              0.7777777777777778,
              "#fb9f3a"
             ],
             [
              0.8888888888888888,
              "#fdca26"
             ],
             [
              1,
              "#f0f921"
             ]
            ],
            "type": "heatmapgl"
           }
          ],
          "histogram": [
           {
            "marker": {
             "pattern": {
              "fillmode": "overlay",
              "size": 10,
              "solidity": 0.2
             }
            },
            "type": "histogram"
           }
          ],
          "histogram2d": [
           {
            "colorbar": {
             "outlinewidth": 0,
             "ticks": ""
            },
            "colorscale": [
             [
              0,
              "#0d0887"
             ],
             [
              0.1111111111111111,
              "#46039f"
             ],
             [
              0.2222222222222222,
              "#7201a8"
             ],
             [
              0.3333333333333333,
              "#9c179e"
             ],
             [
              0.4444444444444444,
              "#bd3786"
             ],
             [
              0.5555555555555556,
              "#d8576b"
             ],
             [
              0.6666666666666666,
              "#ed7953"
             ],
             [
              0.7777777777777778,
              "#fb9f3a"
             ],
             [
              0.8888888888888888,
              "#fdca26"
             ],
             [
              1,
              "#f0f921"
             ]
            ],
            "type": "histogram2d"
           }
          ],
          "histogram2dcontour": [
           {
            "colorbar": {
             "outlinewidth": 0,
             "ticks": ""
            },
            "colorscale": [
             [
              0,
              "#0d0887"
             ],
             [
              0.1111111111111111,
              "#46039f"
             ],
             [
              0.2222222222222222,
              "#7201a8"
             ],
             [
              0.3333333333333333,
              "#9c179e"
             ],
             [
              0.4444444444444444,
              "#bd3786"
             ],
             [
              0.5555555555555556,
              "#d8576b"
             ],
             [
              0.6666666666666666,
              "#ed7953"
             ],
             [
              0.7777777777777778,
              "#fb9f3a"
             ],
             [
              0.8888888888888888,
              "#fdca26"
             ],
             [
              1,
              "#f0f921"
             ]
            ],
            "type": "histogram2dcontour"
           }
          ],
          "mesh3d": [
           {
            "colorbar": {
             "outlinewidth": 0,
             "ticks": ""
            },
            "type": "mesh3d"
           }
          ],
          "parcoords": [
           {
            "line": {
             "colorbar": {
              "outlinewidth": 0,
              "ticks": ""
             }
            },
            "type": "parcoords"
           }
          ],
          "pie": [
           {
            "automargin": true,
            "type": "pie"
           }
          ],
          "scatter": [
           {
            "marker": {
             "line": {
              "color": "#283442"
             }
            },
            "type": "scatter"
           }
          ],
          "scatter3d": [
           {
            "line": {
             "colorbar": {
              "outlinewidth": 0,
              "ticks": ""
             }
            },
            "marker": {
             "colorbar": {
              "outlinewidth": 0,
              "ticks": ""
             }
            },
            "type": "scatter3d"
           }
          ],
          "scattercarpet": [
           {
            "marker": {
             "colorbar": {
              "outlinewidth": 0,
              "ticks": ""
             }
            },
            "type": "scattercarpet"
           }
          ],
          "scattergeo": [
           {
            "marker": {
             "colorbar": {
              "outlinewidth": 0,
              "ticks": ""
             }
            },
            "type": "scattergeo"
           }
          ],
          "scattergl": [
           {
            "marker": {
             "line": {
              "color": "#283442"
             }
            },
            "type": "scattergl"
           }
          ],
          "scattermapbox": [
           {
            "marker": {
             "colorbar": {
              "outlinewidth": 0,
              "ticks": ""
             }
            },
            "type": "scattermapbox"
           }
          ],
          "scatterpolar": [
           {
            "marker": {
             "colorbar": {
              "outlinewidth": 0,
              "ticks": ""
             }
            },
            "type": "scatterpolar"
           }
          ],
          "scatterpolargl": [
           {
            "marker": {
             "colorbar": {
              "outlinewidth": 0,
              "ticks": ""
             }
            },
            "type": "scatterpolargl"
           }
          ],
          "scatterternary": [
           {
            "marker": {
             "colorbar": {
              "outlinewidth": 0,
              "ticks": ""
             }
            },
            "type": "scatterternary"
           }
          ],
          "surface": [
           {
            "colorbar": {
             "outlinewidth": 0,
             "ticks": ""
            },
            "colorscale": [
             [
              0,
              "#0d0887"
             ],
             [
              0.1111111111111111,
              "#46039f"
             ],
             [
              0.2222222222222222,
              "#7201a8"
             ],
             [
              0.3333333333333333,
              "#9c179e"
             ],
             [
              0.4444444444444444,
              "#bd3786"
             ],
             [
              0.5555555555555556,
              "#d8576b"
             ],
             [
              0.6666666666666666,
              "#ed7953"
             ],
             [
              0.7777777777777778,
              "#fb9f3a"
             ],
             [
              0.8888888888888888,
              "#fdca26"
             ],
             [
              1,
              "#f0f921"
             ]
            ],
            "type": "surface"
           }
          ],
          "table": [
           {
            "cells": {
             "fill": {
              "color": "#506784"
             },
             "line": {
              "color": "rgb(17,17,17)"
             }
            },
            "header": {
             "fill": {
              "color": "#2a3f5f"
             },
             "line": {
              "color": "rgb(17,17,17)"
             }
            },
            "type": "table"
           }
          ]
         },
         "layout": {
          "annotationdefaults": {
           "arrowcolor": "#f2f5fa",
           "arrowhead": 0,
           "arrowwidth": 1
          },
          "autotypenumbers": "strict",
          "coloraxis": {
           "colorbar": {
            "outlinewidth": 0,
            "ticks": ""
           }
          },
          "colorscale": {
           "diverging": [
            [
             0,
             "#8e0152"
            ],
            [
             0.1,
             "#c51b7d"
            ],
            [
             0.2,
             "#de77ae"
            ],
            [
             0.3,
             "#f1b6da"
            ],
            [
             0.4,
             "#fde0ef"
            ],
            [
             0.5,
             "#f7f7f7"
            ],
            [
             0.6,
             "#e6f5d0"
            ],
            [
             0.7,
             "#b8e186"
            ],
            [
             0.8,
             "#7fbc41"
            ],
            [
             0.9,
             "#4d9221"
            ],
            [
             1,
             "#276419"
            ]
           ],
           "sequential": [
            [
             0,
             "#0d0887"
            ],
            [
             0.1111111111111111,
             "#46039f"
            ],
            [
             0.2222222222222222,
             "#7201a8"
            ],
            [
             0.3333333333333333,
             "#9c179e"
            ],
            [
             0.4444444444444444,
             "#bd3786"
            ],
            [
             0.5555555555555556,
             "#d8576b"
            ],
            [
             0.6666666666666666,
             "#ed7953"
            ],
            [
             0.7777777777777778,
             "#fb9f3a"
            ],
            [
             0.8888888888888888,
             "#fdca26"
            ],
            [
             1,
             "#f0f921"
            ]
           ],
           "sequentialminus": [
            [
             0,
             "#0d0887"
            ],
            [
             0.1111111111111111,
             "#46039f"
            ],
            [
             0.2222222222222222,
             "#7201a8"
            ],
            [
             0.3333333333333333,
             "#9c179e"
            ],
            [
             0.4444444444444444,
             "#bd3786"
            ],
            [
             0.5555555555555556,
             "#d8576b"
            ],
            [
             0.6666666666666666,
             "#ed7953"
            ],
            [
             0.7777777777777778,
             "#fb9f3a"
            ],
            [
             0.8888888888888888,
             "#fdca26"
            ],
            [
             1,
             "#f0f921"
            ]
           ]
          },
          "colorway": [
           "#636efa",
           "#EF553B",
           "#00cc96",
           "#ab63fa",
           "#FFA15A",
           "#19d3f3",
           "#FF6692",
           "#B6E880",
           "#FF97FF",
           "#FECB52"
          ],
          "font": {
           "color": "#f2f5fa"
          },
          "geo": {
           "bgcolor": "rgb(17,17,17)",
           "lakecolor": "rgb(17,17,17)",
           "landcolor": "rgb(17,17,17)",
           "showlakes": true,
           "showland": true,
           "subunitcolor": "#506784"
          },
          "hoverlabel": {
           "align": "left"
          },
          "hovermode": "closest",
          "mapbox": {
           "style": "dark"
          },
          "paper_bgcolor": "rgb(17,17,17)",
          "plot_bgcolor": "rgb(17,17,17)",
          "polar": {
           "angularaxis": {
            "gridcolor": "#506784",
            "linecolor": "#506784",
            "ticks": ""
           },
           "bgcolor": "rgb(17,17,17)",
           "radialaxis": {
            "gridcolor": "#506784",
            "linecolor": "#506784",
            "ticks": ""
           }
          },
          "scene": {
           "xaxis": {
            "backgroundcolor": "rgb(17,17,17)",
            "gridcolor": "#506784",
            "gridwidth": 2,
            "linecolor": "#506784",
            "showbackground": true,
            "ticks": "",
            "zerolinecolor": "#C8D4E3"
           },
           "yaxis": {
            "backgroundcolor": "rgb(17,17,17)",
            "gridcolor": "#506784",
            "gridwidth": 2,
            "linecolor": "#506784",
            "showbackground": true,
            "ticks": "",
            "zerolinecolor": "#C8D4E3"
           },
           "zaxis": {
            "backgroundcolor": "rgb(17,17,17)",
            "gridcolor": "#506784",
            "gridwidth": 2,
            "linecolor": "#506784",
            "showbackground": true,
            "ticks": "",
            "zerolinecolor": "#C8D4E3"
           }
          },
          "shapedefaults": {
           "line": {
            "color": "#f2f5fa"
           }
          },
          "sliderdefaults": {
           "bgcolor": "#C8D4E3",
           "bordercolor": "rgb(17,17,17)",
           "borderwidth": 1,
           "tickwidth": 0
          },
          "ternary": {
           "aaxis": {
            "gridcolor": "#506784",
            "linecolor": "#506784",
            "ticks": ""
           },
           "baxis": {
            "gridcolor": "#506784",
            "linecolor": "#506784",
            "ticks": ""
           },
           "bgcolor": "rgb(17,17,17)",
           "caxis": {
            "gridcolor": "#506784",
            "linecolor": "#506784",
            "ticks": ""
           }
          },
          "title": {
           "x": 0.05
          },
          "updatemenudefaults": {
           "bgcolor": "#506784",
           "borderwidth": 0
          },
          "xaxis": {
           "automargin": true,
           "gridcolor": "#283442",
           "linecolor": "#506784",
           "ticks": "",
           "title": {
            "standoff": 15
           },
           "zerolinecolor": "#283442",
           "zerolinewidth": 2
          },
          "yaxis": {
           "automargin": true,
           "gridcolor": "#283442",
           "linecolor": "#506784",
           "ticks": "",
           "title": {
            "standoff": 15
           },
           "zerolinecolor": "#283442",
           "zerolinewidth": 2
          }
         }
        },
        "title": {
         "text": "Weather"
        },
        "width": 1300
       }
      }
     },
     "metadata": {},
     "output_type": "display_data"
    }
   ],
   "source": [
    "px.set_mapbox_access_token(open(\".mapbox_token\").read())\n",
    "fig = px.scatter_mapbox(\n",
    "    df_final_2.sort_values('name'),\n",
    "    lat='lat_y',\n",
    "    lon='lon_y',\n",
    "    color='score_y',\n",
    "    size='score_y',\n",
    "    color_continuous_scale=px.colors.diverging.BrBG,\n",
    "    size_max=30,\n",
    "    zoom=5,\n",
    "    hover_name='name'\n",
    ")\n",
    "\n",
    "fig.update_layout(width = 1300, height = 800, template='plotly_dark' ,title='Best hotels in the area')\n",
    "fig.show()"
   ]
  }
 ],
 "metadata": {
  "interpreter": {
   "hash": "5e23285782446c6864c996c28c3fd325702bb6068d9fb9865cc2d1c7e1d13946"
  },
  "kernelspec": {
   "display_name": "Python 3.9.12 ('base')",
   "language": "python",
   "name": "python3"
  },
  "language_info": {
   "codemirror_mode": {
    "name": "ipython",
    "version": 3
   },
   "file_extension": ".py",
   "mimetype": "text/x-python",
   "name": "python",
   "nbconvert_exporter": "python",
   "pygments_lexer": "ipython3",
   "version": "3.9.12"
  }
 },
 "nbformat": 4,
 "nbformat_minor": 4
}
